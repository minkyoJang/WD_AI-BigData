{
 "cells": [
  {
   "cell_type": "code",
   "execution_count": 1,
   "metadata": {
    "ExecuteTime": {
     "end_time": "2019-08-23T11:47:23.585631Z",
     "start_time": "2019-08-23T11:47:14.750680Z"
    }
   },
   "outputs": [
    {
     "name": "stderr",
     "output_type": "stream",
     "text": [
      "Using TensorFlow backend.\n"
     ]
    },
    {
     "name": "stdout",
     "output_type": "stream",
     "text": [
      "Chan 2019-08-23 \n",
      "\n",
      "numpy 1.16.4\n",
      "pandas 0.24.2\n",
      "konlpy 0.5.1\n",
      "torch 1.0.1\n",
      "keras 2.2.4\n"
     ]
    }
   ],
   "source": [
    "%load_ext watermark\n",
    "%watermark -a Chan -d -p numpy,pandas,konlpy,torch,keras"
   ]
  },
  {
   "cell_type": "code",
   "execution_count": 2,
   "metadata": {
    "ExecuteTime": {
     "end_time": "2019-08-23T11:47:23.626606Z",
     "start_time": "2019-08-23T11:47:23.590627Z"
    }
   },
   "outputs": [],
   "source": [
    "import pandas as pd\n",
    "import numpy as np\n",
    "import konlpy\n",
    "from utils.bp_processing import bp_tokenize"
   ]
  },
  {
   "cell_type": "markdown",
   "metadata": {},
   "source": [
    "# Load datasets "
   ]
  },
  {
   "cell_type": "code",
   "execution_count": 3,
   "metadata": {
    "ExecuteTime": {
     "end_time": "2019-08-23T11:47:26.791796Z",
     "start_time": "2019-08-23T11:47:23.631606Z"
    }
   },
   "outputs": [],
   "source": [
    "datasets = pd.read_csv('../../data/auto_labeled.csv', encoding='utf-16', sep='\\t')\n",
    "datasets.head()\n",
    "tmp = datasets.label"
   ]
  },
  {
   "cell_type": "code",
   "execution_count": 4,
   "metadata": {
    "ExecuteTime": {
     "end_time": "2019-08-23T11:47:27.335487Z",
     "start_time": "2019-08-23T11:47:26.795795Z"
    }
   },
   "outputs": [],
   "source": [
    "datasets.dropna(inplace=True)"
   ]
  },
  {
   "cell_type": "code",
   "execution_count": 5,
   "metadata": {
    "ExecuteTime": {
     "end_time": "2019-08-23T11:47:27.375464Z",
     "start_time": "2019-08-23T11:47:27.339484Z"
    }
   },
   "outputs": [],
   "source": [
    "datasets.label = datasets.label.astype('int32')"
   ]
  },
  {
   "cell_type": "code",
   "execution_count": 6,
   "metadata": {
    "ExecuteTime": {
     "end_time": "2019-08-23T11:47:27.397452Z",
     "start_time": "2019-08-23T11:47:27.379463Z"
    }
   },
   "outputs": [
    {
     "name": "stdout",
     "output_type": "stream",
     "text": [
      "<class 'pandas.core.frame.DataFrame'>\n",
      "Int64Index: 1999993 entries, 0 to 1999993\n",
      "Data columns (total 2 columns):\n",
      "comment    object\n",
      "label      int32\n",
      "dtypes: int32(1), object(1)\n",
      "memory usage: 38.1+ MB\n"
     ]
    }
   ],
   "source": [
    "datasets.info()"
   ]
  },
  {
   "cell_type": "code",
   "execution_count": 7,
   "metadata": {
    "ExecuteTime": {
     "end_time": "2019-08-23T11:47:31.791942Z",
     "start_time": "2019-08-23T11:47:27.403447Z"
    }
   },
   "outputs": [],
   "source": [
    "from sklearn.model_selection import train_test_split\n",
    "from keras.preprocessing.sequence import pad_sequences\n",
    "from imblearn.under_sampling import RandomUnderSampler\n",
    "import torch.utils.data as data_utils\n",
    "import torch"
   ]
  },
  {
   "cell_type": "code",
   "execution_count": 8,
   "metadata": {
    "ExecuteTime": {
     "end_time": "2019-08-23T11:47:34.132618Z",
     "start_time": "2019-08-23T11:47:31.796940Z"
    }
   },
   "outputs": [],
   "source": [
    "tmp = [[_] for _ in datasets.comment]\n",
    "label = datasets.label "
   ]
  },
  {
   "cell_type": "code",
   "execution_count": 9,
   "metadata": {
    "ExecuteTime": {
     "end_time": "2019-08-23T11:47:34.193569Z",
     "start_time": "2019-08-23T11:47:34.138599Z"
    }
   },
   "outputs": [],
   "source": [
    "del datasets"
   ]
  },
  {
   "cell_type": "code",
   "execution_count": 10,
   "metadata": {
    "ExecuteTime": {
     "end_time": "2019-08-23T11:48:11.262380Z",
     "start_time": "2019-08-23T11:47:34.202563Z"
    }
   },
   "outputs": [
    {
     "ename": "KeyboardInterrupt",
     "evalue": "",
     "output_type": "error",
     "traceback": [
      "\u001b[1;31m---------------------------------------------------------------------------\u001b[0m",
      "\u001b[1;31mKeyboardInterrupt\u001b[0m                         Traceback (most recent call last)",
      "\u001b[1;32m<ipython-input-10-7b222d84d1ce>\u001b[0m in \u001b[0;36m<module>\u001b[1;34m\u001b[0m\n\u001b[0;32m      1\u001b[0m \u001b[1;31m# undersampling\u001b[0m\u001b[1;33m\u001b[0m\u001b[1;33m\u001b[0m\u001b[1;33m\u001b[0m\u001b[0m\n\u001b[1;32m----> 2\u001b[1;33m \u001b[0mX\u001b[0m\u001b[1;33m,\u001b[0m \u001b[0my\u001b[0m \u001b[1;33m=\u001b[0m \u001b[0mRandomUnderSampler\u001b[0m\u001b[1;33m(\u001b[0m\u001b[1;33m)\u001b[0m\u001b[1;33m.\u001b[0m\u001b[0mfit_sample\u001b[0m\u001b[1;33m(\u001b[0m\u001b[0mtmp\u001b[0m\u001b[1;33m,\u001b[0m \u001b[0mlabel\u001b[0m\u001b[1;33m)\u001b[0m\u001b[1;33m\u001b[0m\u001b[1;33m\u001b[0m\u001b[0m\n\u001b[0m\u001b[0;32m      3\u001b[0m \u001b[0mlen\u001b[0m\u001b[1;33m(\u001b[0m\u001b[0my\u001b[0m\u001b[1;33m)\u001b[0m\u001b[1;33m,\u001b[0m \u001b[0msum\u001b[0m\u001b[1;33m(\u001b[0m\u001b[0my\u001b[0m\u001b[1;33m)\u001b[0m\u001b[1;33m\u001b[0m\u001b[1;33m\u001b[0m\u001b[0m\n",
      "\u001b[1;32m~\\Anaconda3\\envs\\DataAnalysis\\lib\\site-packages\\imblearn\\base.py\u001b[0m in \u001b[0;36mfit_resample\u001b[1;34m(self, X, y)\u001b[0m\n\u001b[0;32m     82\u001b[0m             self.sampling_strategy, y, self._sampling_type)\n\u001b[0;32m     83\u001b[0m \u001b[1;33m\u001b[0m\u001b[0m\n\u001b[1;32m---> 84\u001b[1;33m         \u001b[0moutput\u001b[0m \u001b[1;33m=\u001b[0m \u001b[0mself\u001b[0m\u001b[1;33m.\u001b[0m\u001b[0m_fit_resample\u001b[0m\u001b[1;33m(\u001b[0m\u001b[0mX\u001b[0m\u001b[1;33m,\u001b[0m \u001b[0my\u001b[0m\u001b[1;33m)\u001b[0m\u001b[1;33m\u001b[0m\u001b[1;33m\u001b[0m\u001b[0m\n\u001b[0m\u001b[0;32m     85\u001b[0m \u001b[1;33m\u001b[0m\u001b[0m\n\u001b[0;32m     86\u001b[0m         \u001b[1;32mif\u001b[0m \u001b[0mbinarize_y\u001b[0m\u001b[1;33m:\u001b[0m\u001b[1;33m\u001b[0m\u001b[1;33m\u001b[0m\u001b[0m\n",
      "\u001b[1;32m~\\Anaconda3\\envs\\DataAnalysis\\lib\\site-packages\\imblearn\\under_sampling\\_prototype_selection\\_random_under_sampler.py\u001b[0m in \u001b[0;36m_fit_resample\u001b[1;34m(self, X, y)\u001b[0m\n\u001b[0;32m    133\u001b[0m             return (safe_indexing(X, idx_under), safe_indexing(y, idx_under),\n\u001b[0;32m    134\u001b[0m                     idx_under)\n\u001b[1;32m--> 135\u001b[1;33m         \u001b[1;32mreturn\u001b[0m \u001b[0msafe_indexing\u001b[0m\u001b[1;33m(\u001b[0m\u001b[0mX\u001b[0m\u001b[1;33m,\u001b[0m \u001b[0midx_under\u001b[0m\u001b[1;33m)\u001b[0m\u001b[1;33m,\u001b[0m \u001b[0msafe_indexing\u001b[0m\u001b[1;33m(\u001b[0m\u001b[0my\u001b[0m\u001b[1;33m,\u001b[0m \u001b[0midx_under\u001b[0m\u001b[1;33m)\u001b[0m\u001b[1;33m\u001b[0m\u001b[1;33m\u001b[0m\u001b[0m\n\u001b[0m\u001b[0;32m    136\u001b[0m \u001b[1;33m\u001b[0m\u001b[0m\n\u001b[0;32m    137\u001b[0m     \u001b[1;32mdef\u001b[0m \u001b[0m_more_tags\u001b[0m\u001b[1;33m(\u001b[0m\u001b[0mself\u001b[0m\u001b[1;33m)\u001b[0m\u001b[1;33m:\u001b[0m\u001b[1;33m\u001b[0m\u001b[1;33m\u001b[0m\u001b[0m\n",
      "\u001b[1;32m~\\Anaconda3\\envs\\DataAnalysis\\lib\\site-packages\\sklearn\\utils\\__init__.py\u001b[0m in \u001b[0;36msafe_indexing\u001b[1;34m(X, indices)\u001b[0m\n\u001b[0;32m    217\u001b[0m                                    indices.dtype.kind == 'i'):\n\u001b[0;32m    218\u001b[0m             \u001b[1;31m# This is often substantially faster than X[indices]\u001b[0m\u001b[1;33m\u001b[0m\u001b[1;33m\u001b[0m\u001b[1;33m\u001b[0m\u001b[0m\n\u001b[1;32m--> 219\u001b[1;33m             \u001b[1;32mreturn\u001b[0m \u001b[0mX\u001b[0m\u001b[1;33m.\u001b[0m\u001b[0mtake\u001b[0m\u001b[1;33m(\u001b[0m\u001b[0mindices\u001b[0m\u001b[1;33m,\u001b[0m \u001b[0maxis\u001b[0m\u001b[1;33m=\u001b[0m\u001b[1;36m0\u001b[0m\u001b[1;33m)\u001b[0m\u001b[1;33m\u001b[0m\u001b[1;33m\u001b[0m\u001b[0m\n\u001b[0m\u001b[0;32m    220\u001b[0m         \u001b[1;32melse\u001b[0m\u001b[1;33m:\u001b[0m\u001b[1;33m\u001b[0m\u001b[1;33m\u001b[0m\u001b[0m\n\u001b[0;32m    221\u001b[0m             \u001b[1;32mreturn\u001b[0m \u001b[0mX\u001b[0m\u001b[1;33m[\u001b[0m\u001b[0mindices\u001b[0m\u001b[1;33m]\u001b[0m\u001b[1;33m\u001b[0m\u001b[1;33m\u001b[0m\u001b[0m\n",
      "\u001b[1;31mKeyboardInterrupt\u001b[0m: "
     ]
    }
   ],
   "source": [
    "# undersampling\n",
    "X, y = RandomUnderSampler().fit_sample(tmp, label)\n",
    "len(y), sum(y)"
   ]
  },
  {
   "cell_type": "code",
   "execution_count": null,
   "metadata": {
    "ExecuteTime": {
     "end_time": "2019-08-23T11:48:11.283367Z",
     "start_time": "2019-08-23T11:47:16.829Z"
    }
   },
   "outputs": [],
   "source": [
    "# train test split\n",
    "X_train, X_test, y_train, y_test = train_test_split(X,y)"
   ]
  },
  {
   "cell_type": "code",
   "execution_count": null,
   "metadata": {
    "ExecuteTime": {
     "end_time": "2019-08-23T11:48:11.290362Z",
     "start_time": "2019-08-23T11:47:27.471Z"
    }
   },
   "outputs": [],
   "source": [
    "X_train = [_[0] for _ in X_train]\n",
    "X_test = [_[0] for _ in X_test]"
   ]
  },
  {
   "cell_type": "code",
   "execution_count": null,
   "metadata": {
    "ExecuteTime": {
     "end_time": "2019-08-23T11:48:11.295360Z",
     "start_time": "2019-08-23T11:47:27.701Z"
    }
   },
   "outputs": [],
   "source": [
    "# bpe tokenizing\n",
    "tokenized_train = bp_tokenize(X_train)\n",
    "tokenized_test = bp_tokenize(X_test)"
   ]
  },
  {
   "cell_type": "code",
   "execution_count": null,
   "metadata": {
    "ExecuteTime": {
     "end_time": "2019-08-23T11:48:11.300358Z",
     "start_time": "2019-08-23T11:47:27.856Z"
    }
   },
   "outputs": [],
   "source": [
    "tokenized_train.shape, tokenized_test.shape"
   ]
  },
  {
   "cell_type": "code",
   "execution_count": null,
   "metadata": {
    "ExecuteTime": {
     "end_time": "2019-08-23T11:48:11.304358Z",
     "start_time": "2019-08-23T11:47:29.895Z"
    }
   },
   "outputs": [],
   "source": [
    "# padding\n",
    "MAX_LEN = 30\n",
    "x_padded_train = pad_sequences(tokenized_train, maxlen=MAX_LEN)\n",
    "x_padded_test = pad_sequences(tokenized_test, maxlen=MAX_LEN)"
   ]
  },
  {
   "cell_type": "code",
   "execution_count": null,
   "metadata": {
    "ExecuteTime": {
     "end_time": "2019-08-23T11:48:11.309353Z",
     "start_time": "2019-08-23T11:47:30.123Z"
    }
   },
   "outputs": [],
   "source": [
    "train_data = data_utils.TensorDataset(torch.from_numpy(x_padded_train).type(torch.LongTensor),torch.from_numpy(y_train).type(torch.DoubleTensor))\n",
    "BATCH_SIZE = 512\n",
    "train_loader = data_utils.DataLoader(train_data, batch_size=BATCH_SIZE, drop_last=True)\n",
    "# return train_loader,x_test_pad,y_test"
   ]
  },
  {
   "cell_type": "markdown",
   "metadata": {},
   "source": [
    "# Model"
   ]
  },
  {
   "cell_type": "code",
   "execution_count": null,
   "metadata": {
    "ExecuteTime": {
     "end_time": "2019-08-23T11:48:11.318346Z",
     "start_time": "2019-08-23T11:47:32.127Z"
    }
   },
   "outputs": [],
   "source": [
    "import torch,keras\n",
    "import numpy as np\n",
    "from torch.autograd import Variable\n",
    "import torch.nn.functional as F\n",
    "import torch.utils.data as data_utils\n",
    " \n",
    "EMB_DIM = 10\n",
    "VOCAB_SIZE = 260\n",
    "class StructuredSelfAttention(torch.nn.Module):\n",
    "    \"\"\"\n",
    "    The class is an implementation of the paper A Structured Self-Attentive Sentence Embedding including regularization\n",
    "    and without pruning. Slight modifications have been done for speedup\n",
    "    \"\"\"\n",
    "   \n",
    "    def __init__(self, batch_size, lstm_hid_dim, d_a, r, max_len, emb_dim=EMB_DIM, vocab_size=VOCAB_SIZE):\n",
    "        \"\"\"\n",
    "        Initializes parameters suggested in paper\n",
    " \n",
    "        Args:\n",
    "            batch_size  : {int} batch_size used for training\n",
    "            lstm_hid_dim: {int} hidden dimension for lstm\n",
    "            d_a         : {int} hidden dimension for the dense layer\n",
    "            r           : {int} attention-hops or attention heads\n",
    "            max_len     : {int} number of lstm timesteps\n",
    "            emb_dim     : {int} embeddings dimension\n",
    "            vocab_size  : {int} size of the vocabulary\n",
    " \n",
    "        Returns:\n",
    "            self\n",
    " \n",
    "        Raises:\n",
    "            Exception\n",
    "        \"\"\"\n",
    "        super(StructuredSelfAttention,self).__init__()\n",
    "       \n",
    "        self.embeddings = torch.nn.Embedding(vocab_size, emb_dim, padding_idx=0)\n",
    "        self.lstm = torch.nn.LSTM(emb_dim, lstm_hid_dim, 1, batch_first=True)\n",
    "        self.linear_first = torch.nn.Linear(lstm_hid_dim, d_a)\n",
    "        self.linear_first.bias.data.fill_(0)\n",
    "        self.linear_second = torch.nn.Linear(d_a, r)\n",
    "        self.linear_second.bias.data.fill_(0)\n",
    "        self.n_classes = 1\n",
    "        self.linear_final = torch.nn.Linear(lstm_hid_dim, self.n_classes)\n",
    "        self.batch_size = batch_size       \n",
    "        self.max_len = max_len\n",
    "        self.lstm_hid_dim = lstm_hid_dim\n",
    "        self.hidden_state = self.init_hidden()\n",
    "        self.r = r\n",
    "        \n",
    "    def softmax(self,input, axis=1):\n",
    "        \"\"\"\n",
    "        Softmax applied to axis=n\n",
    " \n",
    "        Args:\n",
    "           input: {Tensor,Variable} input on which softmax is to be applied\n",
    "           axis : {int} axis on which softmax is to be applied\n",
    " \n",
    "        Returns:\n",
    "            softmaxed tensors\n",
    " \n",
    "       \n",
    "        \"\"\"\n",
    " \n",
    "        input_size = input.size()\n",
    "        trans_input = input.transpose(axis, len(input_size)-1)\n",
    "        trans_size = trans_input.size()\n",
    "        input_2d = trans_input.contiguous().view(-1, trans_size[-1])\n",
    "        soft_max_2d = F.softmax(input_2d)\n",
    "        soft_max_nd = soft_max_2d.view(*trans_size)\n",
    "        return soft_max_nd.transpose(axis, len(input_size)-1)\n",
    "       \n",
    "        \n",
    "    def init_hidden(self):\n",
    "        return (Variable(torch.zeros(1,self.batch_size,self.lstm_hid_dim)),Variable(torch.zeros(1,self.batch_size,self.lstm_hid_dim)))\n",
    "       \n",
    "        \n",
    "    def forward(self,x):\n",
    "        embeddings = self.embeddings(x)\n",
    "        outputs, self.hidden_state = self.lstm(embeddings.view(self.batch_size,self.max_len,-1),self.hidden_state)       \n",
    "        x = F.tanh(self.linear_first(outputs))       \n",
    "        x = self.linear_second(x)       \n",
    "        x = self.softmax(x,1)       \n",
    "        attention = x.transpose(1,2)       \n",
    "        sentence_embeddings = attention@outputs       \n",
    "        avg_sentence_embeddings = torch.sum(sentence_embeddings,1)/self.r\n",
    "        \n",
    "        output = F.sigmoid(self.linear_final(avg_sentence_embeddings))\n",
    "        return output,attention\n",
    "\n",
    "       \n",
    "    #Regularization\n",
    "    def l2_matrix_norm(self,m):\n",
    "        \"\"\"\n",
    "        Frobenius norm calculation\n",
    " \n",
    "        Args:\n",
    "           m: {Variable} ||AAT - I||\n",
    " \n",
    "        Returns:\n",
    "            regularized value\n",
    " \n",
    "       \n",
    "        \"\"\"\n",
    "        return torch.sum(torch.sum(torch.sum(m**2,1),1)**0.5).type(torch.DoubleTensor)"
   ]
  },
  {
   "cell_type": "markdown",
   "metadata": {},
   "source": [
    "# Train"
   ]
  },
  {
   "cell_type": "code",
   "execution_count": null,
   "metadata": {
    "ExecuteTime": {
     "end_time": "2019-08-23T11:48:11.324344Z",
     "start_time": "2019-08-23T11:47:33.296Z"
    }
   },
   "outputs": [],
   "source": [
    "import torch\n",
    "from torch.autograd import Variable\n",
    "from sklearn.metrics import accuracy_score, f1_score, classification_report\n",
    "\n",
    "def train(attention_model, train_loader, criterion, optimizer, epochs = 5, use_regularization = False , C=0, clip=False):\n",
    "    \"\"\"\n",
    "        Training code\n",
    " \n",
    "        Args:\n",
    "            attention_model : {object} model\n",
    "            train_loader    : {DataLoader} training data loaded into a dataloader\n",
    "            optimizer       :  optimizer\n",
    "            criterion       :  loss function. Must be BCELoss for binary_classification and NLLLoss for multiclass\n",
    "            epochs          : {int} number of epochs\n",
    "            use_regularizer : {bool} use penalization or not\n",
    "            C               : {int} penalization coeff\n",
    "            clip            : {bool} use gradient clipping or not\n",
    "       \n",
    "        Returns:\n",
    "            accuracy and losses of the model\n",
    " \n",
    "      \n",
    "        \"\"\"\n",
    "    losses = []\n",
    "    accuracy = []\n",
    "    for i in range(epochs):\n",
    "        print(\"Running EPOCH\",i+1)\n",
    "        total_loss = 0\n",
    "        n_batches = 0\n",
    "        correct = 0\n",
    "       \n",
    "        for batch_idx,train in enumerate(train_loader):\n",
    " \n",
    "            attention_model.hidden_state = attention_model.init_hidden()\n",
    "            x,y = Variable(train[0]),Variable(train[1])\n",
    "            y_pred,att = attention_model(x)\n",
    "           \n",
    "            #penalization AAT - I\n",
    "            if use_regularization:\n",
    "                attT = att.transpose(1,2)\n",
    "                identity = torch.eye(att.size(1))\n",
    "                identity = Variable(identity.unsqueeze(0).expand(train_loader.batch_size,att.size(1),att.size(1)))\n",
    "                penal = attention_model.l2_matrix_norm(att@attT - identity)\n",
    "\n",
    "            #binary classification\n",
    "            #Adding a very small value to prevent BCELoss from outputting NaN's\n",
    "            correct+=torch.eq(torch.round(y_pred.type(torch.DoubleTensor).squeeze(1)),y).data.sum()\n",
    "            if use_regularization:\n",
    "                try:\n",
    "                    loss = criterion(y_pred.type(torch.DoubleTensor).squeeze(1)+1e-8,y) + C * penal/train_loader.batch_size\n",
    "\n",
    "                except RuntimeError:\n",
    "                    raise Exception(\"BCELoss gets nan values on regularization. Either remove regularization or add very small values\")\n",
    "            else:\n",
    "                loss = criterion(y_pred.type(torch.DoubleTensor).squeeze(1),y)\n",
    "               \n",
    " \n",
    "            total_loss+=loss.data\n",
    "            optimizer.zero_grad()\n",
    "            loss.backward()\n",
    "           \n",
    "            #gradient clipping\n",
    "            if clip:\n",
    "                torch.nn.utils.clip_grad_norm(attention_model.parameters(),0.5)\n",
    "            optimizer.step()\n",
    "            n_batches+=1\n",
    "           \n",
    "        print(\"avg_loss is\",total_loss/n_batches)\n",
    "        print(\"Accuracy of the model\",int(correct)/(n_batches*train_loader.batch_size))\n",
    "        losses.append(total_loss/n_batches)\n",
    "        accuracy.append(int(correct)/(n_batches*train_loader.batch_size))\n",
    "        \n",
    "        \n",
    "    return losses, accuracy\n",
    " \n",
    "def evaluate(attention_model, x_test, y_test):\n",
    "    \"\"\"\n",
    "        cv results\n",
    " \n",
    "        Args:\n",
    "            attention_model : {object} model\n",
    "            x_test          : {nplist} x_test\n",
    "            y_test          : {nplist} y_test\n",
    "       \n",
    "        Returns:\n",
    "            cv-accuracy\n",
    " \n",
    "      \n",
    "    \"\"\"\n",
    "   \n",
    "    attention_model.batch_size = x_test.shape[0]\n",
    "    attention_model.hidden_state = attention_model.init_hidden()\n",
    "    x_test_var = Variable(torch.from_numpy(x_test).type(torch.LongTensor))\n",
    "    y_test_pred,_ = attention_model(x_test_var)\n",
    "    \n",
    "    y_preds = torch.round(y_test_pred.type(torch.DoubleTensor).squeeze(1))\n",
    "    y_test_var = Variable(torch.from_numpy(y_test).type(torch.DoubleTensor))\n",
    "    \n",
    "    print(classification_report(y_test, y_preds.detach().numpy()))\n",
    "    return int(torch.eq(y_preds,y_test_var).data.sum())/x_test_var.size(0)\n",
    " \n",
    "def get_activation_wts(attention_model,x):\n",
    "    \"\"\"\n",
    "        Get r attention heads\n",
    " \n",
    "        Args:\n",
    "            attention_model : {object} model\n",
    "            x               : {torch.Variable} input whose weights we want\n",
    "       \n",
    "        Returns:\n",
    "            r different attention weights\n",
    " \n",
    "      \n",
    "    \"\"\"\n",
    "    attention_model.batch_size = x.size(0)\n",
    "    attention_model.hidden_state = attention_model.init_hidden()\n",
    "    _,wts = attention_model(x)\n",
    "    return wts"
   ]
  },
  {
   "cell_type": "code",
   "execution_count": null,
   "metadata": {
    "ExecuteTime": {
     "end_time": "2019-08-23T11:48:11.328342Z",
     "start_time": "2019-08-23T11:47:38.174Z"
    }
   },
   "outputs": [],
   "source": [
    "attention_model = StructuredSelfAttention(batch_size=train_loader.batch_size,\n",
    "                                          lstm_hid_dim=10,\n",
    "                                          d_a=100,\n",
    "                                          r=1,\n",
    "                                          vocab_size=VOCAB_SIZE, \n",
    "                                          max_len=MAX_LEN,\n",
    "                                          )"
   ]
  },
  {
   "cell_type": "code",
   "execution_count": 43,
   "metadata": {
    "ExecuteTime": {
     "end_time": "2019-08-23T08:51:31.128098Z",
     "start_time": "2019-08-23T08:40:50.779116Z"
    },
    "scrolled": true
   },
   "outputs": [
    {
     "name": "stdout",
     "output_type": "stream",
     "text": [
      "Running EPOCH 1\n"
     ]
    },
    {
     "name": "stderr",
     "output_type": "stream",
     "text": [
      "C:\\Users\\skarn\\Anaconda3\\envs\\DataAnalysis\\lib\\site-packages\\ipykernel_launcher.py:68: UserWarning: Implicit dimension choice for softmax has been deprecated. Change the call to include dim=X as an argument.\n",
      "C:\\Users\\skarn\\Anaconda3\\envs\\DataAnalysis\\lib\\site-packages\\ipykernel_launcher.py:64: UserWarning: torch.nn.utils.clip_grad_norm is now deprecated in favor of torch.nn.utils.clip_grad_norm_.\n"
     ]
    },
    {
     "name": "stdout",
     "output_type": "stream",
     "text": [
      "avg_loss is tensor(0.6550, dtype=torch.float64)\n",
      "Accuracy of the model 0.6098769203910615\n",
      "Running EPOCH 2\n",
      "avg_loss is tensor(0.5672, dtype=torch.float64)\n",
      "Accuracy of the model 0.7135562150837989\n",
      "Running EPOCH 3\n",
      "avg_loss is tensor(0.4954, dtype=torch.float64)\n",
      "Accuracy of the model 0.7690729748603352\n",
      "Running EPOCH 4\n",
      "avg_loss is tensor(0.4381, dtype=torch.float64)\n",
      "Accuracy of the model 0.800039280726257\n",
      "Running EPOCH 5\n",
      "avg_loss is tensor(0.3932, dtype=torch.float64)\n",
      "Accuracy of the model 0.8332314944134078\n",
      "Running EPOCH 6\n",
      "avg_loss is tensor(0.3570, dtype=torch.float64)\n",
      "Accuracy of the model 0.8499367143854749\n",
      "Running EPOCH 7\n",
      "avg_loss is tensor(0.3306, dtype=torch.float64)\n",
      "Accuracy of the model 0.8625174581005587\n",
      "Running EPOCH 8\n",
      "avg_loss is tensor(0.3113, dtype=torch.float64)\n",
      "Accuracy of the model 0.8710064594972067\n",
      "Running EPOCH 9\n",
      "avg_loss is tensor(0.2962, dtype=torch.float64)\n",
      "Accuracy of the model 0.8781424581005587\n",
      "Running EPOCH 10\n",
      "avg_loss is tensor(0.2836, dtype=torch.float64)\n",
      "Accuracy of the model 0.883750872905028\n",
      "Running EPOCH 11\n",
      "avg_loss is tensor(0.2713, dtype=torch.float64)\n",
      "Accuracy of the model 0.8899048533519553\n",
      "Running EPOCH 12\n",
      "avg_loss is tensor(0.2601, dtype=torch.float64)\n",
      "Accuracy of the model 0.895142283519553\n",
      "Running EPOCH 13\n",
      "avg_loss is tensor(0.2523, dtype=torch.float64)\n",
      "Accuracy of the model 0.8983392981843575\n",
      "Running EPOCH 14\n",
      "avg_loss is tensor(0.2456, dtype=torch.float64)\n",
      "Accuracy of the model 0.9014381110335196\n",
      "Running EPOCH 15\n",
      "avg_loss is tensor(0.2402, dtype=torch.float64)\n",
      "Accuracy of the model 0.9031184532122905\n"
     ]
    }
   ],
   "source": [
    "loss = torch.nn.BCELoss()\n",
    "optimizer = torch.optim.Adam(attention_model.parameters())\n",
    "\n",
    "losses, accuracy = train(attention_model, train_loader, loss, optimizer, epochs=15,\n",
    "                         use_regularization=False, C=0.03, clip=True)\n"
   ]
  },
  {
   "cell_type": "markdown",
   "metadata": {},
   "source": [
    "# Evaluate "
   ]
  },
  {
   "cell_type": "code",
   "execution_count": 44,
   "metadata": {
    "ExecuteTime": {
     "end_time": "2019-08-23T08:51:38.859666Z",
     "start_time": "2019-08-23T08:51:31.134094Z"
    }
   },
   "outputs": [
    {
     "name": "stderr",
     "output_type": "stream",
     "text": [
      "C:\\Users\\skarn\\Anaconda3\\envs\\DataAnalysis\\lib\\site-packages\\ipykernel_launcher.py:68: UserWarning: Implicit dimension choice for softmax has been deprecated. Change the call to include dim=X as an argument.\n"
     ]
    },
    {
     "name": "stdout",
     "output_type": "stream",
     "text": [
      "              precision    recall  f1-score   support\n",
      "\n",
      "           0       0.88      0.94      0.91     15279\n",
      "           1       0.93      0.87      0.90     15290\n",
      "\n",
      "    accuracy                           0.90     30569\n",
      "   macro avg       0.91      0.90      0.90     30569\n",
      "weighted avg       0.91      0.90      0.90     30569\n",
      "\n",
      "0.9030717393437796\n"
     ]
    }
   ],
   "source": [
    "print(evaluate(attention_model, x_padded_test, y_test))"
   ]
  },
  {
   "cell_type": "markdown",
   "metadata": {},
   "source": [
    "# Visualize"
   ]
  },
  {
   "cell_type": "code",
   "execution_count": 51,
   "metadata": {
    "ExecuteTime": {
     "end_time": "2019-08-23T08:57:28.750126Z",
     "start_time": "2019-08-23T08:57:28.740134Z"
    }
   },
   "outputs": [],
   "source": [
    "def visualize_attention(wts, X_test, filename):\n",
    "    wts_add = torch.sum(wts, 1)\n",
    "    wts_add_np = wts_add.data.numpy()\n",
    "    wts_add_list = wts_add_np.tolist()\n",
    "    text = []\n",
    "    for test in X_test:\n",
    "        text.append(\" \".join(test))\n",
    "    createHTML(text, wts_add_list, filename)\n",
    "    print(\"Attention visualization created for {} samples\".format(len(X_test)))\n",
    "    return"
   ]
  },
  {
   "cell_type": "code",
   "execution_count": 52,
   "metadata": {
    "ExecuteTime": {
     "end_time": "2019-08-23T08:57:39.154177Z",
     "start_time": "2019-08-23T08:57:32.946719Z"
    }
   },
   "outputs": [
    {
     "name": "stderr",
     "output_type": "stream",
     "text": [
      "C:\\Users\\skarn\\Anaconda3\\envs\\DataAnalysis\\lib\\site-packages\\ipykernel_launcher.py:68: UserWarning: Implicit dimension choice for softmax has been deprecated. Change the call to include dim=X as an argument.\n"
     ]
    }
   ],
   "source": [
    "attention_model.batch_size = np.array(x_padded_test).shape[0]\n",
    "attention_model.hidden_state = attention_model.init_hidden()\n",
    "x_test_var = Variable(torch.from_numpy(x_padded_test).type(torch.LongTensor))\n",
    "y_test_pred,_ = attention_model(x_test_var)\n",
    "y_preds = torch.round(y_test_pred.type(torch.DoubleTensor).squeeze(1))"
   ]
  },
  {
   "cell_type": "code",
   "execution_count": 53,
   "metadata": {
    "ExecuteTime": {
     "end_time": "2019-08-23T08:57:41.539794Z",
     "start_time": "2019-08-23T08:57:39.303075Z"
    }
   },
   "outputs": [
    {
     "name": "stderr",
     "output_type": "stream",
     "text": [
      "C:\\Users\\skarn\\Anaconda3\\envs\\DataAnalysis\\lib\\site-packages\\ipykernel_launcher.py:68: UserWarning: Implicit dimension choice for softmax has been deprecated. Change the call to include dim=X as an argument.\n"
     ]
    },
    {
     "name": "stdout",
     "output_type": "stream",
     "text": [
      "Attention visualization created for 500 samples\n"
     ]
    }
   ],
   "source": [
    "test_last_idx = -500\n",
    "wts = get_activation_wts(attention_model,\n",
    "                         Variable(torch.from_numpy(x_padded_test[y_preds.data.numpy()==1][test_last_idx:]).type(torch.LongTensor)))\n",
    "# print(torch.sum(wts,1).data.numpy().tolist())\n",
    "visualize_attention(wts, np.array(X_test)[y_preds.data.numpy()==1][test_last_idx:], filename='bpe_attention.html')"
   ]
  },
  {
   "cell_type": "code",
   "execution_count": 50,
   "metadata": {
    "ExecuteTime": {
     "end_time": "2019-08-23T08:57:26.909181Z",
     "start_time": "2019-08-23T08:57:26.895187Z"
    }
   },
   "outputs": [],
   "source": [
    "#Credits to Lin Zhouhan(@hantek) for the complete visualization code\n",
    "import random, os, numpy, scipy\n",
    "from codecs import open\n",
    "def createHTML(texts, weights, fileName):\n",
    "    \"\"\"\n",
    "    Creates a html file with text heat.\n",
    "\tweights: attention weights for visualizing\n",
    "\ttexts: text on which attention weights are to be visualized\n",
    "    \"\"\"\n",
    "    fileName = \"visualization/\"+fileName\n",
    "    fOut = open(fileName, \"w\", encoding=\"utf-8\")\n",
    "    part1 = \"\"\"\n",
    "    <html lang=\"en\">\n",
    "    <head>\n",
    "    <meta http-equiv=\"content-type\" content=\"text/html; charset=utf-8\">\n",
    "    <style>\n",
    "    body {\n",
    "    font-family: Sans-Serif;\n",
    "    }\n",
    "    </style>\n",
    "    </head>\n",
    "    <body>\n",
    "    <h3>\n",
    "    Heatmaps\n",
    "    </h3>\n",
    "    </body>\n",
    "    <script>\n",
    "    \"\"\"\n",
    "    part2 = \"\"\"\n",
    "    var color = \"255,0,0\";\n",
    "    var ngram_length = 1;\n",
    "    var half_ngram = 3;\n",
    "    for (var k=0; k < any_text.length; k++) {\n",
    "    var tokens = any_text[k].split(\" \");\n",
    "    var intensity = new Array(tokens.length);\n",
    "    var max_intensity = Number.MIN_SAFE_INTEGER;\n",
    "    var min_intensity = Number.MAX_SAFE_INTEGER;\n",
    "    for (var i = 0; i < intensity.length; i++) {\n",
    "    intensity[i] = 0.0;\n",
    "    for (var j = -half_ngram; j < ngram_length-half_ngram; j++) {\n",
    "    if (i+j < intensity.length && i+j > -1) {\n",
    "    intensity[i] += trigram_weights[k][i + j];\n",
    "    }\n",
    "    }\n",
    "    if (i == 0 || i == intensity.length-1) {\n",
    "    intensity[i] /= 2.0;\n",
    "    } else {\n",
    "    intensity[i] /= 3.0;\n",
    "    }\n",
    "    if (intensity[i] > max_intensity) {\n",
    "    max_intensity = intensity[i];\n",
    "    }\n",
    "    if (intensity[i] < min_intensity) {\n",
    "    min_intensity = intensity[i];\n",
    "    }\n",
    "    }\n",
    "    var denominator = max_intensity - min_intensity;\n",
    "    for (var i = 0; i < intensity.length; i++) {\n",
    "    intensity[i] = (intensity[i] - min_intensity) / denominator;\n",
    "    }\n",
    "    if (k%2 == 0) {\n",
    "    var heat_text = \"<p><br><b>Example:</b><br>\";\n",
    "    } else {\n",
    "    var heat_text = \"<b>Example:</b><br>\";\n",
    "    }\n",
    "    var space = \"\";\n",
    "    for (var i = 0; i < tokens.length; i++) {\n",
    "    heat_text += \"<span style='background-color:rgba(\" + color + \",\" + intensity[i] + \")'>\" + space + tokens[i] + \"</span>\";\n",
    "    if (space == \"\") {\n",
    "    space = \" \";\n",
    "    }\n",
    "    }\n",
    "    //heat_text += \"<p>\";\n",
    "    document.body.innerHTML += heat_text;\n",
    "    }\n",
    "    </script>\n",
    "    </html>\"\"\"\n",
    "    putQuote = lambda x: \"\\\"%s\\\"\"%x\n",
    "    textsString = \"var any_text = [%s];\\n\"%(\",\".join(map(putQuote, texts)))\n",
    "    weightsString = \"var trigram_weights = [%s];\\n\"%(\",\".join(map(str,weights)))\n",
    "    fOut.write(part1)\n",
    "    fOut.write(textsString)\n",
    "    fOut.write(weightsString)\n",
    "    fOut.write(part2)\n",
    "    fOut.close()\n",
    "  \n",
    "    return\n"
   ]
  },
  {
   "cell_type": "markdown",
   "metadata": {},
   "source": [
    "# Model Save"
   ]
  },
  {
   "cell_type": "code",
   "execution_count": 54,
   "metadata": {
    "ExecuteTime": {
     "end_time": "2019-08-23T08:57:52.668454Z",
     "start_time": "2019-08-23T08:57:52.439547Z"
    }
   },
   "outputs": [
    {
     "name": "stderr",
     "output_type": "stream",
     "text": [
      "C:\\Users\\skarn\\Anaconda3\\envs\\DataAnalysis\\lib\\site-packages\\torch\\serialization.py:251: UserWarning: Couldn't retrieve source code for container of type StructuredSelfAttention. It won't be checked for correctness upon loading.\n",
      "  \"type \" + obj.__name__ + \". It won't be checked \"\n"
     ]
    }
   ],
   "source": [
    "# torch.save(attention_model, '../model/self_attention_bp.pt')"
   ]
  },
  {
   "cell_type": "code",
   "execution_count": null,
   "metadata": {},
   "outputs": [],
   "source": []
  }
 ],
 "metadata": {
  "kernelspec": {
   "display_name": "Python 3",
   "language": "python",
   "name": "python3"
  },
  "language_info": {
   "codemirror_mode": {
    "name": "ipython",
    "version": 3
   },
   "file_extension": ".py",
   "mimetype": "text/x-python",
   "name": "python",
   "nbconvert_exporter": "python",
   "pygments_lexer": "ipython3",
   "version": "3.7.3"
  }
 },
 "nbformat": 4,
 "nbformat_minor": 2
}
