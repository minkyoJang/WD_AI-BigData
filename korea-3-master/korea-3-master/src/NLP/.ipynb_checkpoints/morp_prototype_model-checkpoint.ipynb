{
 "cells": [
  {
   "cell_type": "code",
   "execution_count": 1,
   "metadata": {
    "ExecuteTime": {
     "end_time": "2019-08-12T02:35:37.796063Z",
     "start_time": "2019-08-12T02:35:24.470185Z"
    }
   },
   "outputs": [
    {
     "name": "stdout",
     "output_type": "stream",
     "text": [
      "Chan 2019-08-12 \n",
      "\n",
      "CPython 3.7.3\n",
      "IPython 7.6.1\n",
      "\n",
      "numpy 1.16.4\n",
      "pandas 0.24.2\n",
      "sklearn 0.21.2\n",
      "konlpy 0.5.1\n",
      "tensorflow 1.13.1\n",
      "matplotlib 3.1.0\n",
      "imblearn 0.5.0\n"
     ]
    }
   ],
   "source": [
    "%load_ext watermark\n",
    "%watermark -a Chan -d -v -p numpy,pandas,sklearn,konlpy,tensorflow,matplotlib,imblearn"
   ]
  },
  {
   "cell_type": "code",
   "execution_count": 2,
   "metadata": {
    "ExecuteTime": {
     "end_time": "2019-08-12T02:35:38.880436Z",
     "start_time": "2019-08-12T02:35:37.801056Z"
    }
   },
   "outputs": [],
   "source": [
    "import numpy as np\n",
    "import pandas as pd\n",
    "from sklearn.model_selection import train_test_split\n",
    "from konlpy.tag import Okt\n",
    "import tensorflow as tf\n",
    "from tensorflow.python.keras.preprocessing import sequence\n",
    "from tensorflow import keras\n",
    "from tqdm import tqdm\n",
    "from collections import Counter\n",
    "from matplotlib import pyplot as plt\n",
    "import pickle"
   ]
  },
  {
   "cell_type": "markdown",
   "metadata": {},
   "source": [
    "# Load datasets"
   ]
  },
  {
   "cell_type": "code",
   "execution_count": 18,
   "metadata": {
    "ExecuteTime": {
     "end_time": "2019-08-12T02:38:52.084558Z",
     "start_time": "2019-08-12T02:38:51.534860Z"
    }
   },
   "outputs": [
    {
     "name": "stdout",
     "output_type": "stream",
     "text": [
      "1\n",
      "2\n",
      "3\n",
      "4\n",
      "5\n",
      "6\n",
      "7\n",
      "8\n"
     ]
    },
    {
     "data": {
      "text/html": [
       "<div>\n",
       "<style scoped>\n",
       "    .dataframe tbody tr th:only-of-type {\n",
       "        vertical-align: middle;\n",
       "    }\n",
       "\n",
       "    .dataframe tbody tr th {\n",
       "        vertical-align: top;\n",
       "    }\n",
       "\n",
       "    .dataframe thead th {\n",
       "        text-align: right;\n",
       "    }\n",
       "</style>\n",
       "<table border=\"1\" class=\"dataframe\">\n",
       "  <thead>\n",
       "    <tr style=\"text-align: right;\">\n",
       "      <th></th>\n",
       "      <th>comment</th>\n",
       "      <th>url_id</th>\n",
       "      <th>label</th>\n",
       "    </tr>\n",
       "  </thead>\n",
       "  <tbody>\n",
       "    <tr>\n",
       "      <th>0</th>\n",
       "      <td>ㅜㅜ</td>\n",
       "      <td>77</td>\n",
       "      <td>0</td>\n",
       "    </tr>\n",
       "    <tr>\n",
       "      <th>1</th>\n",
       "      <td>ㅋㅋㅋㅋㅋㅋㅋㅋㅋㅋㅋㅋㅋㅋㅋㅋㅋㅋㅋㅋㅋ</td>\n",
       "      <td>17</td>\n",
       "      <td>0</td>\n",
       "    </tr>\n",
       "    <tr>\n",
       "      <th>2</th>\n",
       "      <td>헐</td>\n",
       "      <td>52</td>\n",
       "      <td>0</td>\n",
       "    </tr>\n",
       "    <tr>\n",
       "      <th>3</th>\n",
       "      <td>제시</td>\n",
       "      <td>75</td>\n",
       "      <td>0</td>\n",
       "    </tr>\n",
       "    <tr>\n",
       "      <th>4</th>\n",
       "      <td>이거인 듯</td>\n",
       "      <td>18</td>\n",
       "      <td>0</td>\n",
       "    </tr>\n",
       "  </tbody>\n",
       "</table>\n",
       "</div>"
      ],
      "text/plain": [
       "                 comment  url_id  label\n",
       "0                     ㅜㅜ      77      0\n",
       "1  ㅋㅋㅋㅋㅋㅋㅋㅋㅋㅋㅋㅋㅋㅋㅋㅋㅋㅋㅋㅋㅋ      17      0\n",
       "2                      헐      52      0\n",
       "3                     제시      75      0\n",
       "4                  이거인 듯      18      0"
      ]
     },
     "execution_count": 18,
     "metadata": {},
     "output_type": "execute_result"
    }
   ],
   "source": [
    "datasets = pd.DataFrame()\n",
    "for i in range(1,9):\n",
    "    print(i)\n",
    "    dump = pd.read_csv(\"../../data/labeled ({}).csv\".format(i), engine='python')\n",
    "    datasets = pd.concat([datasets, dump])\n",
    "datasets.head()"
   ]
  },
  {
   "cell_type": "code",
   "execution_count": 25,
   "metadata": {
    "ExecuteTime": {
     "end_time": "2019-08-12T02:39:45.792697Z",
     "start_time": "2019-08-12T02:39:45.769709Z"
    }
   },
   "outputs": [
    {
     "name": "stdout",
     "output_type": "stream",
     "text": [
      "<class 'pandas.core.frame.DataFrame'>\n",
      "RangeIndex: 24000 entries, 0 to 23999\n",
      "Data columns (total 3 columns):\n",
      "comment    24000 non-null object\n",
      "url_id     24000 non-null int64\n",
      "label      24000 non-null int64\n",
      "dtypes: int64(2), object(1)\n",
      "memory usage: 562.6+ KB\n"
     ]
    }
   ],
   "source": [
    "datasets.info()"
   ]
  },
  {
   "cell_type": "code",
   "execution_count": 23,
   "metadata": {
    "ExecuteTime": {
     "end_time": "2019-08-12T02:39:41.810985Z",
     "start_time": "2019-08-12T02:39:41.801989Z"
    }
   },
   "outputs": [],
   "source": [
    "datasets.comment.fillna('NULL',inplace=True)"
   ]
  },
  {
   "cell_type": "code",
   "execution_count": 24,
   "metadata": {
    "ExecuteTime": {
     "end_time": "2019-08-12T02:39:44.010720Z",
     "start_time": "2019-08-12T02:39:44.003726Z"
    }
   },
   "outputs": [],
   "source": [
    "datasets.reset_index(drop=True,inplace=True)"
   ]
  },
  {
   "cell_type": "code",
   "execution_count": 26,
   "metadata": {
    "ExecuteTime": {
     "end_time": "2019-08-12T02:39:49.263705Z",
     "start_time": "2019-08-12T02:39:49.253709Z"
    }
   },
   "outputs": [],
   "source": [
    "datasets.label = datasets.label.astype('int')"
   ]
  },
  {
   "cell_type": "code",
   "execution_count": 27,
   "metadata": {
    "ExecuteTime": {
     "end_time": "2019-08-12T02:39:54.182878Z",
     "start_time": "2019-08-12T02:39:54.164887Z"
    }
   },
   "outputs": [
    {
     "data": {
      "text/plain": [
       "0.04641666666666667"
      ]
     },
     "execution_count": 27,
     "metadata": {},
     "output_type": "execute_result"
    }
   ],
   "source": [
    "len(datasets[datasets.label ==1])/ len(datasets) # 유해한 레이블의 데이터가 많이 부족함 데이터 편향ㅠㅠ"
   ]
  },
  {
   "cell_type": "markdown",
   "metadata": {
    "ExecuteTime": {
     "end_time": "2019-08-06T15:38:19.687895Z",
     "start_time": "2019-08-06T15:38:19.677899Z"
    }
   },
   "source": [
    "# Tokenize\n",
    "## 형태소분석"
   ]
  },
  {
   "cell_type": "code",
   "execution_count": 28,
   "metadata": {
    "ExecuteTime": {
     "end_time": "2019-08-12T02:40:17.168676Z",
     "start_time": "2019-08-12T02:40:16.380128Z"
    }
   },
   "outputs": [
    {
     "name": "stderr",
     "output_type": "stream",
     "text": [
      "C:\\Users\\skarn\\Anaconda3\\envs\\DataAnalysis\\lib\\site-packages\\jpype\\_core.py:210: UserWarning: \n",
      "-------------------------------------------------------------------------------\n",
      "Deprecated: convertStrings was not specified when starting the JVM. The default\n",
      "behavior in JPype will be False starting in JPype 0.8. The recommended setting\n",
      "for new code is convertStrings=False.  The legacy value of True was assumed for\n",
      "this session. If you are a user of an application that reported this warning,\n",
      "please file a ticket with the developer.\n",
      "-------------------------------------------------------------------------------\n",
      "\n",
      "  \"\"\")\n"
     ]
    }
   ],
   "source": [
    "morp = Okt()"
   ]
  },
  {
   "cell_type": "code",
   "execution_count": 29,
   "metadata": {
    "ExecuteTime": {
     "end_time": "2019-08-12T02:41:15.440208Z",
     "start_time": "2019-08-12T02:40:21.880987Z"
    }
   },
   "outputs": [
    {
     "name": "stderr",
     "output_type": "stream",
     "text": [
      "100%|███████████████████████████████████████████████████████████████████████████| 24000/24000 [00:53<00:00, 448.28it/s]\n"
     ]
    }
   ],
   "source": [
    "morped = [morp.morphs(_, norm=True, stem=True) for _ in tqdm(datasets.comment)] # Stemming은 하지 않는다."
   ]
  },
  {
   "cell_type": "code",
   "execution_count": 30,
   "metadata": {
    "ExecuteTime": {
     "end_time": "2019-08-12T02:41:16.774443Z",
     "start_time": "2019-08-12T02:41:16.764449Z"
    }
   },
   "outputs": [
    {
     "data": {
      "text/plain": [
       "[['ㅜㅜ'], ['ㅋㅋㅋ'], ['헐다'], ['제시'], ['이', '거인', '듯']]"
      ]
     },
     "execution_count": 30,
     "metadata": {},
     "output_type": "execute_result"
    }
   ],
   "source": [
    "morped[:5]"
   ]
  },
  {
   "cell_type": "markdown",
   "metadata": {},
   "source": [
    "## Dictionary\n",
    "최빈 형태소에 대한 단어사전 구성"
   ]
  },
  {
   "cell_type": "code",
   "execution_count": 31,
   "metadata": {
    "ExecuteTime": {
     "end_time": "2019-08-12T02:41:31.443018Z",
     "start_time": "2019-08-12T02:41:30.980291Z"
    }
   },
   "outputs": [
    {
     "name": "stdout",
     "output_type": "stream",
     "text": [
      "고빈도 단어:\n",
      "ㅋㅋㅋ :  4524\n",
      "? :  1825\n",
      "이 :  1753\n",
      "하다 :  1353\n",
      "! :  646\n",
      "ㅋㅋ :  629\n",
      "가 :  600\n",
      "오다 :  543\n",
      "아 :  500\n",
      "이다 :  467\n",
      "\n",
      "단어 사전:\n",
      "0 <PAD>\n",
      "1 <OOV>\n",
      "2 ㅋㅋㅋ\n",
      "3 ?\n",
      "4 이\n",
      "5 하다\n",
      "6 !\n",
      "7 ㅋㅋ\n",
      "8 가\n",
      "9 오다\n",
      "\n",
      "단어 사전 크기:  10000\n"
     ]
    }
   ],
   "source": [
    "vocab_size = 10000\n",
    "\n",
    "pad_id = 0\n",
    "oov_id = 1\n",
    "index_offset = 1\n",
    "\n",
    "def make_vocab(sentences):\n",
    "    word_counter = Counter()\n",
    "\n",
    "    for sent in sentences:\n",
    "        word_counter.update(sent)\n",
    "\n",
    "    most_common = word_counter.most_common()\n",
    "    print(\"고빈도 단어:\")\n",
    "    for k, v in most_common[:10]:\n",
    "        print(k, \": \", v)\n",
    "\n",
    "        vocab = {\n",
    "        '<PAD>': pad_id,\n",
    "        '<OOV>': oov_id\n",
    "        }\n",
    "    for i, (word, cnt) in enumerate(most_common, start=index_offset+1):\n",
    "        vocab[word] = i\n",
    "        if len(vocab) >= vocab_size:\n",
    "            break\n",
    "\n",
    "    return vocab\n",
    "\n",
    "word_index = make_vocab(morped)\n",
    "word_inverted_index = {v:k for k, v in word_index.items()}\n",
    "\n",
    "print(\"\\n단어 사전:\")\n",
    "for i in range(0, 10):\n",
    "    print(i, word_inverted_index[i])\n",
    "\n",
    "print(\"\\n단어 사전 크기: \", len(word_index))\n",
    "\n",
    "# vocab save\n",
    "with open('./vocab/vocab_index.pickle', 'wb') as f:\n",
    "    pickle.dump(word_index, f, pickle.HIGHEST_PROTOCOL)\n",
    "with open('./vocab/vocab_inverted_index.pickle', 'wb') as f:\n",
    "    pickle.dump(word_inverted_index, f, pickle.HIGHEST_PROTOCOL)"
   ]
  },
  {
   "cell_type": "code",
   "execution_count": 32,
   "metadata": {
    "ExecuteTime": {
     "end_time": "2019-08-12T02:41:41.394302Z",
     "start_time": "2019-08-12T02:41:41.360322Z"
    }
   },
   "outputs": [
    {
     "name": "stdout",
     "output_type": "stream",
     "text": [
      "원본:  ['ㅜㅜ']\n",
      "문자 -> 숫자:  [250]\n",
      "숫자 -> 문자:  ㅜㅜ\n"
     ]
    }
   ],
   "source": [
    "def index_to_text(indexes):\n",
    "    return ' '.join([word_inverted_index[i] for i in indexes])\n",
    "\n",
    "def text_to_index(tokens):\n",
    "    indexes = []\n",
    "    for tok in tokens:\n",
    "        if tok in word_index:\n",
    "            indexes.append(word_index[tok])\n",
    "        else:\n",
    "            indexes.append(oov_id)\n",
    "\n",
    "    return indexes\n",
    "\n",
    "print(\"원본: \", morped[0])\n",
    "ids = text_to_index(morped[0])\n",
    "print(\"문자 -> 숫자: \", ids)\n",
    "print(\"숫자 -> 문자: \", index_to_text(ids))"
   ]
  },
  {
   "cell_type": "markdown",
   "metadata": {},
   "source": [
    "# Padding"
   ]
  },
  {
   "cell_type": "code",
   "execution_count": 33,
   "metadata": {
    "ExecuteTime": {
     "end_time": "2019-08-12T02:41:56.749500Z",
     "start_time": "2019-08-12T02:41:56.252769Z"
    }
   },
   "outputs": [],
   "source": [
    "x_variable = [text_to_index(_) for _ in morped]\n",
    "\n",
    "sentence_size = 10\n",
    "x_padded = sequence.pad_sequences(x_variable,\n",
    "                                 maxlen=sentence_size,\n",
    "                                 truncating='post',\n",
    "                                 padding='post',\n",
    "                                 value=pad_id)"
   ]
  },
  {
   "cell_type": "code",
   "execution_count": 34,
   "metadata": {
    "ExecuteTime": {
     "end_time": "2019-08-12T02:41:59.344993Z",
     "start_time": "2019-08-12T02:41:59.332000Z"
    }
   },
   "outputs": [],
   "source": [
    "def plot_loss(history):\n",
    "    plt.figure(figsize=(6,5))\n",
    "    val = plt.plot(history.epoch, history.history['val_loss'],\n",
    "                 '--', label='Test')\n",
    "    plt.plot(history.epoch, history.history['loss'], color=val[0].get_color(),\n",
    "           label='Train')\n",
    "\n",
    "    plt.xlabel('Epochs')\n",
    "    plt.ylabel(\"Loss\")\n",
    "    plt.legend()\n",
    "\n",
    "    plt.xlim([0,max(history.epoch)])"
   ]
  },
  {
   "cell_type": "code",
   "execution_count": 35,
   "metadata": {
    "ExecuteTime": {
     "end_time": "2019-08-12T02:42:00.588279Z",
     "start_time": "2019-08-12T02:42:00.582281Z"
    }
   },
   "outputs": [],
   "source": [
    "import warnings\n",
    "warnings.filterwarnings(action='once')"
   ]
  },
  {
   "cell_type": "markdown",
   "metadata": {},
   "source": [
    "\n",
    "# 데이터 클래스 불균형 문제 해결하자"
   ]
  },
  {
   "cell_type": "code",
   "execution_count": 36,
   "metadata": {
    "ExecuteTime": {
     "end_time": "2019-08-12T02:42:02.890957Z",
     "start_time": "2019-08-12T02:42:02.884959Z"
    }
   },
   "outputs": [],
   "source": [
    "from imblearn.under_sampling import RandomUnderSampler\n",
    "from imblearn.over_sampling import RandomOverSampler"
   ]
  },
  {
   "cell_type": "markdown",
   "metadata": {},
   "source": [
    "## upsampling\n",
    "- 딥러닝은 데이터가 많을수록 좋다.\n",
    "- 보다 많은 데이터 사용을 위해 upsampling을 사용하자!"
   ]
  },
  {
   "cell_type": "code",
   "execution_count": 37,
   "metadata": {
    "ExecuteTime": {
     "end_time": "2019-08-12T02:42:25.662880Z",
     "start_time": "2019-08-12T02:42:25.603912Z"
    }
   },
   "outputs": [
    {
     "data": {
      "text/plain": [
       "(45772, 22886)"
      ]
     },
     "execution_count": 37,
     "metadata": {},
     "output_type": "execute_result"
    }
   ],
   "source": [
    "up_X, up_y = RandomOverSampler().fit_resample(x_padded, datasets.label)\n",
    "up_X_train, up_X_test, up_y_train, up_y_test = train_test_split(up_X, up_y)\n",
    "\n",
    "# 총 데이터 수 , 1 레이블 데이터 수\n",
    "len(up_y), up_y.sum()"
   ]
  },
  {
   "cell_type": "code",
   "execution_count": 38,
   "metadata": {
    "ExecuteTime": {
     "end_time": "2019-08-12T02:42:30.237250Z",
     "start_time": "2019-08-12T02:42:29.641610Z"
    }
   },
   "outputs": [
    {
     "name": "stderr",
     "output_type": "stream",
     "text": [
      "C:\\Users\\skarn\\Anaconda3\\envs\\DataAnalysis\\lib\\site-packages\\numpy\\lib\\type_check.py:546: DeprecationWarning: np.asscalar(a) is deprecated since NumPy v1.16, use a.item() instead\n",
      "  'a.item() instead', DeprecationWarning, stacklevel=1)\n"
     ]
    },
    {
     "name": "stdout",
     "output_type": "stream",
     "text": [
      "WARNING:tensorflow:From C:\\Users\\skarn\\Anaconda3\\envs\\DataAnalysis\\lib\\site-packages\\tensorflow\\python\\ops\\resource_variable_ops.py:435: colocate_with (from tensorflow.python.framework.ops) is deprecated and will be removed in a future version.\n",
      "Instructions for updating:\n",
      "Colocations handled automatically by placer.\n",
      "WARNING:tensorflow:From C:\\Users\\skarn\\Anaconda3\\envs\\DataAnalysis\\lib\\site-packages\\tensorflow\\python\\keras\\layers\\core.py:143: calling dropout (from tensorflow.python.ops.nn_ops) with keep_prob is deprecated and will be removed in a future version.\n",
      "Instructions for updating:\n",
      "Please use `rate` instead of `keep_prob`. Rate should be set to `rate = 1 - keep_prob`.\n"
     ]
    }
   ],
   "source": [
    "model_up = keras.Sequential([\n",
    "    keras.layers.Embedding(vocab_size, 10),\n",
    "    keras.layers.Conv1D(32, 3, padding=\"same\", activation=tf.nn.relu),\n",
    "    keras.layers.Dropout(0.5),\n",
    "    keras.layers.Conv1D(32, 3, padding=\"same\", activation=tf.nn.relu),\n",
    "    keras.layers.GlobalMaxPool1D(),\n",
    "    keras.layers.Dropout(0.5),\n",
    "    keras.layers.Dense(2, activation=tf.nn.sigmoid)\n",
    "])"
   ]
  },
  {
   "cell_type": "code",
   "execution_count": 39,
   "metadata": {
    "ExecuteTime": {
     "end_time": "2019-08-12T02:43:45.058278Z",
     "start_time": "2019-08-12T02:42:42.365285Z"
    }
   },
   "outputs": [
    {
     "name": "stdout",
     "output_type": "stream",
     "text": [
      "Train on 34329 samples, validate on 11443 samples\n",
      "WARNING:tensorflow:From C:\\Users\\skarn\\Anaconda3\\envs\\DataAnalysis\\lib\\site-packages\\tensorflow\\python\\ops\\math_ops.py:3066: to_int32 (from tensorflow.python.ops.math_ops) is deprecated and will be removed in a future version.\n",
      "Instructions for updating:\n",
      "Use tf.cast instead.\n",
      "WARNING:tensorflow:From C:\\Users\\skarn\\Anaconda3\\envs\\DataAnalysis\\lib\\site-packages\\tensorflow\\python\\ops\\math_grad.py:102: div (from tensorflow.python.ops.math_ops) is deprecated and will be removed in a future version.\n",
      "Instructions for updating:\n",
      "Deprecated in favor of operator or tf.math.divide.\n",
      "Epoch 1/5\n"
     ]
    },
    {
     "name": "stdout",
     "output_type": "stream",
     "text": [
      "34329/34329 [==============================] - ETA: 27:51 - loss: 0.6971 - recall: 0.125 - ETA: 5:44 - loss: 0.6937 - recall: 0.218 - ETA: 2:40 - loss: 0.6930 - recall: 0.27 - ETA: 1:40 - loss: 0.6936 - recall: 0.32 - ETA: 1:17 - loss: 0.6931 - recall: 0.35 - ETA: 1:03 - loss: 0.6927 - recall: 0.39 - ETA: 55s - loss: 0.6925 - recall: 0.4054 - ETA: 47s - loss: 0.6921 - recall: 0.415 - ETA: 41s - loss: 0.6918 - recall: 0.424 - ETA: 37s - loss: 0.6912 - recall: 0.430 - ETA: 33s - loss: 0.6910 - recall: 0.434 - ETA: 31s - loss: 0.6905 - recall: 0.441 - ETA: 29s - loss: 0.6898 - recall: 0.448 - ETA: 28s - loss: 0.6894 - recall: 0.452 - ETA: 26s - loss: 0.6885 - recall: 0.458 - ETA: 24s - loss: 0.6875 - recall: 0.465 - ETA: 23s - loss: 0.6867 - recall: 0.468 - ETA: 22s - loss: 0.6858 - recall: 0.472 - ETA: 21s - loss: 0.6844 - recall: 0.480 - ETA: 21s - loss: 0.6833 - recall: 0.487 - ETA: 20s - loss: 0.6818 - recall: 0.493 - ETA: 19s - loss: 0.6803 - recall: 0.500 - ETA: 19s - loss: 0.6792 - recall: 0.505 - ETA: 18s - loss: 0.6758 - recall: 0.514 - ETA: 18s - loss: 0.6732 - recall: 0.521 - ETA: 17s - loss: 0.6708 - recall: 0.527 - ETA: 16s - loss: 0.6677 - recall: 0.533 - ETA: 16s - loss: 0.6664 - recall: 0.539 - ETA: 16s - loss: 0.6642 - recall: 0.543 - ETA: 15s - loss: 0.6624 - recall: 0.547 - ETA: 15s - loss: 0.6585 - recall: 0.553 - ETA: 15s - loss: 0.6556 - recall: 0.557 - ETA: 14s - loss: 0.6526 - recall: 0.564 - ETA: 14s - loss: 0.6476 - recall: 0.572 - ETA: 14s - loss: 0.6455 - recall: 0.575 - ETA: 14s - loss: 0.6429 - recall: 0.579 - ETA: 13s - loss: 0.6408 - recall: 0.584 - ETA: 13s - loss: 0.6374 - recall: 0.588 - ETA: 13s - loss: 0.6346 - recall: 0.594 - ETA: 13s - loss: 0.6316 - recall: 0.598 - ETA: 12s - loss: 0.6279 - recall: 0.602 - ETA: 12s - loss: 0.6240 - recall: 0.607 - ETA: 12s - loss: 0.6211 - recall: 0.610 - ETA: 12s - loss: 0.6161 - recall: 0.616 - ETA: 12s - loss: 0.6125 - recall: 0.620 - ETA: 12s - loss: 0.6099 - recall: 0.623 - ETA: 11s - loss: 0.6060 - recall: 0.627 - ETA: 11s - loss: 0.6038 - recall: 0.631 - ETA: 11s - loss: 0.5989 - recall: 0.636 - ETA: 11s - loss: 0.5950 - recall: 0.640 - ETA: 11s - loss: 0.5911 - recall: 0.644 - ETA: 10s - loss: 0.5892 - recall: 0.646 - ETA: 10s - loss: 0.5852 - recall: 0.650 - ETA: 10s - loss: 0.5819 - recall: 0.653 - ETA: 10s - loss: 0.5792 - recall: 0.656 - ETA: 10s - loss: 0.5764 - recall: 0.659 - ETA: 10s - loss: 0.5732 - recall: 0.663 - ETA: 10s - loss: 0.5702 - recall: 0.665 - ETA: 9s - loss: 0.5663 - recall: 0.669 - ETA: 9s - loss: 0.5631 - recall: 0.67 - ETA: 9s - loss: 0.5618 - recall: 0.67 - ETA: 9s - loss: 0.5595 - recall: 0.67 - ETA: 9s - loss: 0.5563 - recall: 0.67 - ETA: 9s - loss: 0.5537 - recall: 0.68 - ETA: 9s - loss: 0.5506 - recall: 0.68 - ETA: 9s - loss: 0.5476 - recall: 0.68 - ETA: 9s - loss: 0.5458 - recall: 0.69 - ETA: 9s - loss: 0.5427 - recall: 0.69 - ETA: 8s - loss: 0.5399 - recall: 0.69 - ETA: 8s - loss: 0.5382 - recall: 0.69 - ETA: 8s - loss: 0.5341 - recall: 0.70 - ETA: 8s - loss: 0.5314 - recall: 0.70 - ETA: 8s - loss: 0.5288 - recall: 0.70 - ETA: 8s - loss: 0.5263 - recall: 0.70 - ETA: 8s - loss: 0.5237 - recall: 0.70 - ETA: 8s - loss: 0.5220 - recall: 0.71 - ETA: 8s - loss: 0.5211 - recall: 0.71 - ETA: 7s - loss: 0.5183 - recall: 0.71 - ETA: 7s - loss: 0.5161 - recall: 0.71 - ETA: 7s - loss: 0.5136 - recall: 0.71 - ETA: 7s - loss: 0.5111 - recall: 0.72 - ETA: 7s - loss: 0.5081 - recall: 0.72 - ETA: 7s - loss: 0.5058 - recall: 0.72 - ETA: 7s - loss: 0.5035 - recall: 0.72 - ETA: 7s - loss: 0.5023 - recall: 0.72 - ETA: 7s - loss: 0.4998 - recall: 0.73 - ETA: 7s - loss: 0.4973 - recall: 0.73 - ETA: 6s - loss: 0.4951 - recall: 0.73 - ETA: 6s - loss: 0.4921 - recall: 0.73 - ETA: 6s - loss: 0.4899 - recall: 0.73 - ETA: 6s - loss: 0.4885 - recall: 0.74 - ETA: 6s - loss: 0.4863 - recall: 0.74 - ETA: 6s - loss: 0.4846 - recall: 0.74 - ETA: 6s - loss: 0.4824 - recall: 0.74 - ETA: 6s - loss: 0.4810 - recall: 0.74 - ETA: 6s - loss: 0.4782 - recall: 0.74 - ETA: 6s - loss: 0.4756 - recall: 0.75 - ETA: 6s - loss: 0.4729 - recall: 0.75 - ETA: 5s - loss: 0.4713 - recall: 0.75 - ETA: 5s - loss: 0.4692 - recall: 0.75 - ETA: 5s - loss: 0.4669 - recall: 0.75 - ETA: 5s - loss: 0.4651 - recall: 0.75 - ETA: 5s - loss: 0.4629 - recall: 0.76 - ETA: 5s - loss: 0.4605 - recall: 0.76 - ETA: 5s - loss: 0.4587 - recall: 0.76 - ETA: 5s - loss: 0.4575 - recall: 0.76 - ETA: 5s - loss: 0.4555 - recall: 0.76 - ETA: 5s - loss: 0.4538 - recall: 0.76 - ETA: 5s - loss: 0.4517 - recall: 0.76 - ETA: 5s - loss: 0.4493 - recall: 0.76 - ETA: 5s - loss: 0.4481 - recall: 0.77 - ETA: 4s - loss: 0.4472 - recall: 0.77 - ETA: 4s - loss: 0.4461 - recall: 0.77 - ETA: 4s - loss: 0.4443 - recall: 0.77 - ETA: 4s - loss: 0.4422 - recall: 0.77 - ETA: 4s - loss: 0.4408 - recall: 0.77 - ETA: 4s - loss: 0.4396 - recall: 0.77 - ETA: 4s - loss: 0.4385 - recall: 0.77 - ETA: 4s - loss: 0.4373 - recall: 0.77 - ETA: 4s - loss: 0.4353 - recall: 0.78 - ETA: 4s - loss: 0.4338 - recall: 0.78 - ETA: 4s - loss: 0.4326 - recall: 0.78 - ETA: 4s - loss: 0.4312 - recall: 0.78 - ETA: 4s - loss: 0.4303 - recall: 0.78 - ETA: 3s - loss: 0.4280 - recall: 0.78 - ETA: 3s - loss: 0.4268 - recall: 0.78 - ETA: 3s - loss: 0.4256 - recall: 0.78 - ETA: 3s - loss: 0.4242 - recall: 0.78 - ETA: 3s - loss: 0.4231 - recall: 0.79 - ETA: 3s - loss: 0.4218 - recall: 0.79 - ETA: 3s - loss: 0.4209 - recall: 0.79 - ETA: 3s - loss: 0.4202 - recall: 0.79 - ETA: 3s - loss: 0.4192 - recall: 0.79 - ETA: 3s - loss: 0.4176 - recall: 0.79 - ETA: 3s - loss: 0.4160 - recall: 0.79 - ETA: 3s - loss: 0.4147 - recall: 0.79 - ETA: 3s - loss: 0.4141 - recall: 0.79 - ETA: 3s - loss: 0.4133 - recall: 0.79 - ETA: 3s - loss: 0.4119 - recall: 0.79 - ETA: 2s - loss: 0.4102 - recall: 0.80 - ETA: 2s - loss: 0.4097 - recall: 0.80 - ETA: 2s - loss: 0.4085 - recall: 0.80 - ETA: 2s - loss: 0.4079 - recall: 0.80 - ETA: 2s - loss: 0.4071 - recall: 0.80 - ETA: 2s - loss: 0.4060 - recall: 0.80 - ETA: 2s - loss: 0.4053 - recall: 0.80 - ETA: 2s - loss: 0.4037 - recall: 0.80 - ETA: 2s - loss: 0.4028 - recall: 0.80 - ETA: 2s - loss: 0.4017 - recall: 0.80 - ETA: 2s - loss: 0.4005 - recall: 0.80 - ETA: 2s - loss: 0.3995 - recall: 0.80 - ETA: 2s - loss: 0.3986 - recall: 0.80 - ETA: 2s - loss: 0.3973 - recall: 0.81 - ETA: 2s - loss: 0.3964 - recall: 0.81 - ETA: 1s - loss: 0.3953 - recall: 0.81 - ETA: 1s - loss: 0.3943 - recall: 0.81 - ETA: 1s - loss: 0.3927 - recall: 0.81 - ETA: 1s - loss: 0.3913 - recall: 0.81 - ETA: 1s - loss: 0.3907 - recall: 0.81 - ETA: 1s - loss: 0.3896 - recall: 0.81 - ETA: 1s - loss: 0.3885 - recall: 0.81 - ETA: 1s - loss: 0.3875 - recall: 0.81 - ETA: 1s - loss: 0.3865 - recall: 0.81 - ETA: 1s - loss: 0.3851 - recall: 0.81 - ETA: 1s - loss: 0.3842 - recall: 0.81 - ETA: 1s - loss: 0.3833 - recall: 0.81 - ETA: 1s - loss: 0.3823 - recall: 0.81 - ETA: 1s - loss: 0.3813 - recall: 0.82 - ETA: 1s - loss: 0.3802 - recall: 0.82 - ETA: 1s - loss: 0.3800 - recall: 0.82 - ETA: 0s - loss: 0.3792 - recall: 0.82 - ETA: 0s - loss: 0.3786 - recall: 0.82 - ETA: 0s - loss: 0.3783 - recall: 0.82 - ETA: 0s - loss: 0.3773 - recall: 0.82 - ETA: 0s - loss: 0.3765 - recall: 0.82 - ETA: 0s - loss: 0.3761 - recall: 0.82 - ETA: 0s - loss: 0.3750 - recall: 0.82 - ETA: 0s - loss: 0.3747 - recall: 0.82 - ETA: 0s - loss: 0.3736 - recall: 0.82 - ETA: 0s - loss: 0.3729 - recall: 0.82 - ETA: 0s - loss: 0.3718 - recall: 0.82 - ETA: 0s - loss: 0.3712 - recall: 0.82 - ETA: 0s - loss: 0.3704 - recall: 0.82 - ETA: 0s - loss: 0.3694 - recall: 0.82 - ETA: 0s - loss: 0.3686 - recall: 0.82 - ETA: 0s - loss: 0.3675 - recall: 0.83 - 13s 379us/sample - loss: 0.3669 - recall: 0.8308 - val_loss: 0.1772 - val_recall: 0.9488\n",
      "Epoch 2/5\n"
     ]
    },
    {
     "name": "stdout",
     "output_type": "stream",
     "text": [
      "34329/34329 [==============================] - ETA: 16s - loss: 0.1127 - recall: 0.937 - ETA: 9s - loss: 0.1491 - recall: 0.949 - ETA: 8s - loss: 0.1873 - recall: 0.93 - ETA: 8s - loss: 0.2011 - recall: 0.93 - ETA: 8s - loss: 0.2140 - recall: 0.93 - ETA: 8s - loss: 0.2046 - recall: 0.93 - ETA: 8s - loss: 0.1964 - recall: 0.93 - ETA: 8s - loss: 0.1914 - recall: 0.93 - ETA: 8s - loss: 0.1844 - recall: 0.93 - ETA: 8s - loss: 0.1856 - recall: 0.94 - ETA: 8s - loss: 0.1876 - recall: 0.93 - ETA: 8s - loss: 0.1858 - recall: 0.93 - ETA: 8s - loss: 0.1839 - recall: 0.94 - ETA: 8s - loss: 0.1866 - recall: 0.94 - ETA: 8s - loss: 0.1857 - recall: 0.94 - ETA: 8s - loss: 0.1814 - recall: 0.94 - ETA: 8s - loss: 0.1826 - recall: 0.94 - ETA: 8s - loss: 0.1845 - recall: 0.94 - ETA: 8s - loss: 0.1893 - recall: 0.94 - ETA: 8s - loss: 0.1902 - recall: 0.94 - ETA: 8s - loss: 0.1964 - recall: 0.93 - ETA: 8s - loss: 0.1949 - recall: 0.93 - ETA: 8s - loss: 0.1955 - recall: 0.93 - ETA: 7s - loss: 0.1925 - recall: 0.93 - ETA: 7s - loss: 0.1907 - recall: 0.93 - ETA: 7s - loss: 0.1911 - recall: 0.93 - ETA: 7s - loss: 0.1916 - recall: 0.93 - ETA: 7s - loss: 0.1919 - recall: 0.93 - ETA: 7s - loss: 0.1907 - recall: 0.93 - ETA: 7s - loss: 0.1905 - recall: 0.93 - ETA: 7s - loss: 0.1899 - recall: 0.93 - ETA: 7s - loss: 0.1908 - recall: 0.93 - ETA: 7s - loss: 0.1917 - recall: 0.93 - ETA: 7s - loss: 0.1906 - recall: 0.93 - ETA: 7s - loss: 0.1910 - recall: 0.93 - ETA: 7s - loss: 0.1900 - recall: 0.94 - ETA: 7s - loss: 0.1907 - recall: 0.93 - ETA: 7s - loss: 0.1904 - recall: 0.93 - ETA: 7s - loss: 0.1917 - recall: 0.94 - ETA: 7s - loss: 0.1892 - recall: 0.94 - ETA: 7s - loss: 0.1895 - recall: 0.94 - ETA: 7s - loss: 0.1889 - recall: 0.94 - ETA: 7s - loss: 0.1892 - recall: 0.94 - ETA: 7s - loss: 0.1881 - recall: 0.94 - ETA: 7s - loss: 0.1863 - recall: 0.94 - ETA: 7s - loss: 0.1869 - recall: 0.94 - ETA: 7s - loss: 0.1872 - recall: 0.94 - ETA: 7s - loss: 0.1878 - recall: 0.94 - ETA: 7s - loss: 0.1869 - recall: 0.94 - ETA: 7s - loss: 0.1878 - recall: 0.94 - ETA: 7s - loss: 0.1878 - recall: 0.94 - ETA: 7s - loss: 0.1881 - recall: 0.94 - ETA: 7s - loss: 0.1887 - recall: 0.94 - ETA: 7s - loss: 0.1881 - recall: 0.94 - ETA: 7s - loss: 0.1878 - recall: 0.94 - ETA: 7s - loss: 0.1872 - recall: 0.94 - ETA: 7s - loss: 0.1871 - recall: 0.94 - ETA: 7s - loss: 0.1867 - recall: 0.94 - ETA: 7s - loss: 0.1868 - recall: 0.94 - ETA: 7s - loss: 0.1869 - recall: 0.94 - ETA: 7s - loss: 0.1853 - recall: 0.94 - ETA: 7s - loss: 0.1857 - recall: 0.94 - ETA: 7s - loss: 0.1858 - recall: 0.94 - ETA: 7s - loss: 0.1856 - recall: 0.94 - ETA: 7s - loss: 0.1852 - recall: 0.94 - ETA: 7s - loss: 0.1848 - recall: 0.94 - ETA: 7s - loss: 0.1849 - recall: 0.94 - ETA: 7s - loss: 0.1844 - recall: 0.94 - ETA: 7s - loss: 0.1839 - recall: 0.94 - ETA: 7s - loss: 0.1829 - recall: 0.94 - ETA: 7s - loss: 0.1827 - recall: 0.94 - ETA: 7s - loss: 0.1824 - recall: 0.94 - ETA: 7s - loss: 0.1814 - recall: 0.94 - ETA: 7s - loss: 0.1803 - recall: 0.94 - ETA: 7s - loss: 0.1806 - recall: 0.94 - ETA: 7s - loss: 0.1792 - recall: 0.94 - ETA: 7s - loss: 0.1802 - recall: 0.94 - ETA: 6s - loss: 0.1800 - recall: 0.94 - ETA: 6s - loss: 0.1794 - recall: 0.94 - ETA: 6s - loss: 0.1791 - recall: 0.94 - ETA: 6s - loss: 0.1784 - recall: 0.94 - ETA: 6s - loss: 0.1773 - recall: 0.94 - ETA: 6s - loss: 0.1778 - recall: 0.94 - ETA: 6s - loss: 0.1775 - recall: 0.94 - ETA: 6s - loss: 0.1770 - recall: 0.94 - ETA: 6s - loss: 0.1763 - recall: 0.94 - ETA: 6s - loss: 0.1761 - recall: 0.94 - ETA: 6s - loss: 0.1754 - recall: 0.94 - ETA: 6s - loss: 0.1757 - recall: 0.94 - ETA: 6s - loss: 0.1754 - recall: 0.94 - ETA: 6s - loss: 0.1753 - recall: 0.94 - ETA: 6s - loss: 0.1766 - recall: 0.94 - ETA: 6s - loss: 0.1760 - recall: 0.94 - ETA: 6s - loss: 0.1765 - recall: 0.94 - ETA: 5s - loss: 0.1761 - recall: 0.94 - ETA: 5s - loss: 0.1761 - recall: 0.94 - ETA: 5s - loss: 0.1758 - recall: 0.94 - ETA: 5s - loss: 0.1754 - recall: 0.94 - ETA: 5s - loss: 0.1751 - recall: 0.94 - ETA: 5s - loss: 0.1753 - recall: 0.94 - ETA: 5s - loss: 0.1752 - recall: 0.94 - ETA: 5s - loss: 0.1745 - recall: 0.94 - ETA: 5s - loss: 0.1741 - recall: 0.94 - ETA: 5s - loss: 0.1738 - recall: 0.94 - ETA: 5s - loss: 0.1733 - recall: 0.94 - ETA: 5s - loss: 0.1730 - recall: 0.94 - ETA: 5s - loss: 0.1735 - recall: 0.94 - ETA: 5s - loss: 0.1732 - recall: 0.94 - ETA: 5s - loss: 0.1735 - recall: 0.94 - ETA: 5s - loss: 0.1727 - recall: 0.94 - ETA: 5s - loss: 0.1728 - recall: 0.94 - ETA: 4s - loss: 0.1734 - recall: 0.94 - ETA: 4s - loss: 0.1731 - recall: 0.94 - ETA: 4s - loss: 0.1729 - recall: 0.94 - ETA: 4s - loss: 0.1728 - recall: 0.94 - ETA: 4s - loss: 0.1729 - recall: 0.94 - ETA: 4s - loss: 0.1731 - recall: 0.94 - ETA: 4s - loss: 0.1730 - recall: 0.94 - ETA: 4s - loss: 0.1733 - recall: 0.94 - ETA: 4s - loss: 0.1732 - recall: 0.94 - ETA: 4s - loss: 0.1727 - recall: 0.94 - ETA: 4s - loss: 0.1725 - recall: 0.94 - ETA: 4s - loss: 0.1724 - recall: 0.94 - ETA: 4s - loss: 0.1718 - recall: 0.94 - ETA: 4s - loss: 0.1714 - recall: 0.94 - ETA: 4s - loss: 0.1718 - recall: 0.94 - ETA: 4s - loss: 0.1719 - recall: 0.94 - ETA: 4s - loss: 0.1714 - recall: 0.94 - ETA: 3s - loss: 0.1716 - recall: 0.94 - ETA: 3s - loss: 0.1716 - recall: 0.94 - ETA: 3s - loss: 0.1712 - recall: 0.94 - ETA: 3s - loss: 0.1712 - recall: 0.94 - ETA: 3s - loss: 0.1714 - recall: 0.94 - ETA: 3s - loss: 0.1711 - recall: 0.94 - ETA: 3s - loss: 0.1714 - recall: 0.94 - ETA: 3s - loss: 0.1709 - recall: 0.94 - ETA: 3s - loss: 0.1718 - recall: 0.94 - ETA: 3s - loss: 0.1718 - recall: 0.94 - ETA: 3s - loss: 0.1713 - recall: 0.94 - ETA: 3s - loss: 0.1714 - recall: 0.94 - ETA: 3s - loss: 0.1713 - recall: 0.94 - ETA: 3s - loss: 0.1708 - recall: 0.94 - ETA: 3s - loss: 0.1704 - recall: 0.94 - ETA: 2s - loss: 0.1703 - recall: 0.94 - ETA: 2s - loss: 0.1696 - recall: 0.94 - ETA: 2s - loss: 0.1694 - recall: 0.94 - ETA: 2s - loss: 0.1694 - recall: 0.94 - ETA: 2s - loss: 0.1690 - recall: 0.94 - ETA: 2s - loss: 0.1692 - recall: 0.94 - ETA: 2s - loss: 0.1688 - recall: 0.94 - ETA: 2s - loss: 0.1683 - recall: 0.94 - ETA: 2s - loss: 0.1678 - recall: 0.94 - ETA: 2s - loss: 0.1674 - recall: 0.94 - ETA: 2s - loss: 0.1669 - recall: 0.94 - ETA: 2s - loss: 0.1667 - recall: 0.94 - ETA: 2s - loss: 0.1664 - recall: 0.94 - ETA: 2s - loss: 0.1660 - recall: 0.94 - ETA: 2s - loss: 0.1660 - recall: 0.94 - ETA: 2s - loss: 0.1658 - recall: 0.94 - ETA: 1s - loss: 0.1660 - recall: 0.94 - ETA: 1s - loss: 0.1658 - recall: 0.94 - ETA: 1s - loss: 0.1656 - recall: 0.94 - ETA: 1s - loss: 0.1654 - recall: 0.94 - ETA: 1s - loss: 0.1649 - recall: 0.94 - ETA: 1s - loss: 0.1647 - recall: 0.94 - ETA: 1s - loss: 0.1646 - recall: 0.94 - ETA: 1s - loss: 0.1650 - recall: 0.94 - ETA: 1s - loss: 0.1646 - recall: 0.94 - ETA: 1s - loss: 0.1645 - recall: 0.94 - ETA: 1s - loss: 0.1644 - recall: 0.94 - ETA: 1s - loss: 0.1640 - recall: 0.94 - ETA: 1s - loss: 0.1640 - recall: 0.94 - ETA: 1s - loss: 0.1635 - recall: 0.94 - ETA: 1s - loss: 0.1633 - recall: 0.94 - ETA: 1s - loss: 0.1630 - recall: 0.94 - ETA: 1s - loss: 0.1628 - recall: 0.94 - ETA: 0s - loss: 0.1626 - recall: 0.94 - ETA: 0s - loss: 0.1626 - recall: 0.94 - ETA: 0s - loss: 0.1625 - recall: 0.94 - ETA: 0s - loss: 0.1631 - recall: 0.94 - ETA: 0s - loss: 0.1629 - recall: 0.94 - ETA: 0s - loss: 0.1627 - recall: 0.94 - ETA: 0s - loss: 0.1627 - recall: 0.94 - ETA: 0s - loss: 0.1626 - recall: 0.94 - ETA: 0s - loss: 0.1623 - recall: 0.94 - ETA: 0s - loss: 0.1623 - recall: 0.94 - ETA: 0s - loss: 0.1619 - recall: 0.94 - ETA: 0s - loss: 0.1616 - recall: 0.94 - ETA: 0s - loss: 0.1613 - recall: 0.94 - ETA: 0s - loss: 0.1611 - recall: 0.94 - ETA: 0s - loss: 0.1609 - recall: 0.94 - ETA: 0s - loss: 0.1608 - recall: 0.94 - ETA: 0s - loss: 0.1606 - recall: 0.94 - 12s 336us/sample - loss: 0.1606 - recall: 0.9499 - val_loss: 0.1198 - val_recall: 0.9613\n",
      "Epoch 3/5\n"
     ]
    },
    {
     "name": "stdout",
     "output_type": "stream",
     "text": [
      "34329/34329 [==============================] - ETA: 22s - loss: 0.0804 - recall: 0.968 - ETA: 11s - loss: 0.0818 - recall: 0.973 - ETA: 11s - loss: 0.0876 - recall: 0.974 - ETA: 10s - loss: 0.0897 - recall: 0.972 - ETA: 10s - loss: 0.0989 - recall: 0.968 - ETA: 10s - loss: 0.1079 - recall: 0.961 - ETA: 9s - loss: 0.1060 - recall: 0.964 - ETA: 9s - loss: 0.1089 - recall: 0.96 - ETA: 9s - loss: 0.1052 - recall: 0.96 - ETA: 9s - loss: 0.1051 - recall: 0.96 - ETA: 9s - loss: 0.1046 - recall: 0.96 - ETA: 9s - loss: 0.1037 - recall: 0.96 - ETA: 9s - loss: 0.1023 - recall: 0.96 - ETA: 9s - loss: 0.0986 - recall: 0.96 - ETA: 9s - loss: 0.0991 - recall: 0.96 - ETA: 9s - loss: 0.1001 - recall: 0.96 - ETA: 9s - loss: 0.0989 - recall: 0.96 - ETA: 9s - loss: 0.1001 - recall: 0.96 - ETA: 9s - loss: 0.1013 - recall: 0.96 - ETA: 9s - loss: 0.1004 - recall: 0.96 - ETA: 9s - loss: 0.1002 - recall: 0.96 - ETA: 9s - loss: 0.1017 - recall: 0.96 - ETA: 9s - loss: 0.1009 - recall: 0.96 - ETA: 9s - loss: 0.1034 - recall: 0.96 - ETA: 9s - loss: 0.1043 - recall: 0.96 - ETA: 9s - loss: 0.1047 - recall: 0.96 - ETA: 9s - loss: 0.1042 - recall: 0.96 - ETA: 8s - loss: 0.1059 - recall: 0.96 - ETA: 8s - loss: 0.1107 - recall: 0.96 - ETA: 8s - loss: 0.1103 - recall: 0.96 - ETA: 8s - loss: 0.1101 - recall: 0.96 - ETA: 8s - loss: 0.1106 - recall: 0.96 - ETA: 8s - loss: 0.1099 - recall: 0.96 - ETA: 8s - loss: 0.1089 - recall: 0.96 - ETA: 8s - loss: 0.1113 - recall: 0.96 - ETA: 8s - loss: 0.1104 - recall: 0.96 - ETA: 8s - loss: 0.1100 - recall: 0.96 - ETA: 8s - loss: 0.1093 - recall: 0.96 - ETA: 8s - loss: 0.1083 - recall: 0.96 - ETA: 8s - loss: 0.1076 - recall: 0.96 - ETA: 8s - loss: 0.1068 - recall: 0.96 - ETA: 8s - loss: 0.1077 - recall: 0.96 - ETA: 8s - loss: 0.1080 - recall: 0.96 - ETA: 8s - loss: 0.1094 - recall: 0.96 - ETA: 8s - loss: 0.1099 - recall: 0.96 - ETA: 7s - loss: 0.1106 - recall: 0.96 - ETA: 7s - loss: 0.1106 - recall: 0.96 - ETA: 7s - loss: 0.1109 - recall: 0.96 - ETA: 7s - loss: 0.1110 - recall: 0.96 - ETA: 7s - loss: 0.1114 - recall: 0.96 - ETA: 7s - loss: 0.1120 - recall: 0.96 - ETA: 7s - loss: 0.1126 - recall: 0.96 - ETA: 7s - loss: 0.1136 - recall: 0.96 - ETA: 7s - loss: 0.1131 - recall: 0.96 - ETA: 7s - loss: 0.1129 - recall: 0.96 - ETA: 7s - loss: 0.1120 - recall: 0.96 - ETA: 7s - loss: 0.1129 - recall: 0.96 - ETA: 7s - loss: 0.1139 - recall: 0.96 - ETA: 7s - loss: 0.1163 - recall: 0.96 - ETA: 7s - loss: 0.1169 - recall: 0.96 - ETA: 7s - loss: 0.1174 - recall: 0.96 - ETA: 7s - loss: 0.1165 - recall: 0.96 - ETA: 7s - loss: 0.1157 - recall: 0.96 - ETA: 6s - loss: 0.1161 - recall: 0.96 - ETA: 6s - loss: 0.1158 - recall: 0.96 - ETA: 6s - loss: 0.1161 - recall: 0.96 - ETA: 6s - loss: 0.1161 - recall: 0.96 - ETA: 6s - loss: 0.1163 - recall: 0.96 - ETA: 6s - loss: 0.1163 - recall: 0.96 - ETA: 6s - loss: 0.1162 - recall: 0.96 - ETA: 6s - loss: 0.1159 - recall: 0.96 - ETA: 6s - loss: 0.1162 - recall: 0.96 - ETA: 6s - loss: 0.1156 - recall: 0.96 - ETA: 6s - loss: 0.1152 - recall: 0.96 - ETA: 6s - loss: 0.1145 - recall: 0.96 - ETA: 6s - loss: 0.1147 - recall: 0.96 - ETA: 6s - loss: 0.1146 - recall: 0.96 - ETA: 6s - loss: 0.1163 - recall: 0.96 - ETA: 6s - loss: 0.1156 - recall: 0.96 - ETA: 6s - loss: 0.1158 - recall: 0.96 - ETA: 5s - loss: 0.1155 - recall: 0.96 - ETA: 5s - loss: 0.1155 - recall: 0.96 - ETA: 5s - loss: 0.1162 - recall: 0.96 - ETA: 5s - loss: 0.1164 - recall: 0.96 - ETA: 5s - loss: 0.1169 - recall: 0.96 - ETA: 5s - loss: 0.1166 - recall: 0.96 - ETA: 5s - loss: 0.1162 - recall: 0.96 - ETA: 5s - loss: 0.1163 - recall: 0.96 - ETA: 5s - loss: 0.1161 - recall: 0.96 - ETA: 5s - loss: 0.1161 - recall: 0.96 - ETA: 5s - loss: 0.1168 - recall: 0.96 - ETA: 5s - loss: 0.1173 - recall: 0.96 - ETA: 5s - loss: 0.1172 - recall: 0.96 - ETA: 5s - loss: 0.1169 - recall: 0.96 - ETA: 5s - loss: 0.1162 - recall: 0.96 - ETA: 5s - loss: 0.1156 - recall: 0.96 - ETA: 5s - loss: 0.1160 - recall: 0.96 - ETA: 4s - loss: 0.1153 - recall: 0.96 - ETA: 4s - loss: 0.1152 - recall: 0.96 - ETA: 4s - loss: 0.1151 - recall: 0.96 - ETA: 4s - loss: 0.1152 - recall: 0.96 - ETA: 4s - loss: 0.1149 - recall: 0.96 - ETA: 4s - loss: 0.1148 - recall: 0.96 - ETA: 4s - loss: 0.1144 - recall: 0.96 - ETA: 4s - loss: 0.1140 - recall: 0.96 - ETA: 4s - loss: 0.1139 - recall: 0.96 - ETA: 4s - loss: 0.1135 - recall: 0.96 - ETA: 4s - loss: 0.1132 - recall: 0.96 - ETA: 4s - loss: 0.1129 - recall: 0.96 - ETA: 4s - loss: 0.1122 - recall: 0.96 - ETA: 4s - loss: 0.1119 - recall: 0.96 - ETA: 4s - loss: 0.1122 - recall: 0.96 - ETA: 4s - loss: 0.1123 - recall: 0.96 - ETA: 4s - loss: 0.1131 - recall: 0.96 - ETA: 4s - loss: 0.1130 - recall: 0.96 - ETA: 3s - loss: 0.1128 - recall: 0.96 - ETA: 3s - loss: 0.1125 - recall: 0.96 - ETA: 3s - loss: 0.1123 - recall: 0.96 - ETA: 3s - loss: 0.1122 - recall: 0.96 - ETA: 3s - loss: 0.1122 - recall: 0.96 - ETA: 3s - loss: 0.1117 - recall: 0.96 - ETA: 3s - loss: 0.1114 - recall: 0.96 - ETA: 3s - loss: 0.1114 - recall: 0.96 - ETA: 3s - loss: 0.1119 - recall: 0.96 - ETA: 3s - loss: 0.1116 - recall: 0.96 - ETA: 3s - loss: 0.1117 - recall: 0.96 - ETA: 3s - loss: 0.1112 - recall: 0.96 - ETA: 3s - loss: 0.1109 - recall: 0.96 - ETA: 3s - loss: 0.1104 - recall: 0.96 - ETA: 3s - loss: 0.1102 - recall: 0.96 - ETA: 3s - loss: 0.1103 - recall: 0.96 - ETA: 3s - loss: 0.1106 - recall: 0.96 - ETA: 3s - loss: 0.1109 - recall: 0.96 - ETA: 2s - loss: 0.1110 - recall: 0.96 - ETA: 2s - loss: 0.1114 - recall: 0.96 - ETA: 2s - loss: 0.1113 - recall: 0.96 - ETA: 2s - loss: 0.1113 - recall: 0.96 - ETA: 2s - loss: 0.1112 - recall: 0.96 - ETA: 2s - loss: 0.1114 - recall: 0.96 - ETA: 2s - loss: 0.1115 - recall: 0.96 - ETA: 2s - loss: 0.1115 - recall: 0.96 - ETA: 2s - loss: 0.1117 - recall: 0.96 - ETA: 2s - loss: 0.1115 - recall: 0.96 - ETA: 2s - loss: 0.1115 - recall: 0.96 - ETA: 2s - loss: 0.1114 - recall: 0.96 - ETA: 2s - loss: 0.1108 - recall: 0.96 - ETA: 2s - loss: 0.1108 - recall: 0.96 - ETA: 2s - loss: 0.1105 - recall: 0.96 - ETA: 2s - loss: 0.1109 - recall: 0.96 - ETA: 2s - loss: 0.1108 - recall: 0.96 - ETA: 1s - loss: 0.1107 - recall: 0.96 - ETA: 1s - loss: 0.1105 - recall: 0.96 - ETA: 1s - loss: 0.1105 - recall: 0.96 - ETA: 1s - loss: 0.1102 - recall: 0.96 - ETA: 1s - loss: 0.1103 - recall: 0.96 - ETA: 1s - loss: 0.1102 - recall: 0.96 - ETA: 1s - loss: 0.1099 - recall: 0.96 - ETA: 1s - loss: 0.1100 - recall: 0.96 - ETA: 1s - loss: 0.1099 - recall: 0.96 - ETA: 1s - loss: 0.1098 - recall: 0.96 - ETA: 1s - loss: 0.1097 - recall: 0.96 - ETA: 1s - loss: 0.1097 - recall: 0.96 - ETA: 1s - loss: 0.1095 - recall: 0.96 - ETA: 1s - loss: 0.1092 - recall: 0.96 - ETA: 1s - loss: 0.1089 - recall: 0.96 - ETA: 1s - loss: 0.1090 - recall: 0.96 - ETA: 1s - loss: 0.1088 - recall: 0.96 - ETA: 1s - loss: 0.1088 - recall: 0.96 - ETA: 1s - loss: 0.1089 - recall: 0.96 - ETA: 0s - loss: 0.1093 - recall: 0.96 - ETA: 0s - loss: 0.1091 - recall: 0.96 - ETA: 0s - loss: 0.1087 - recall: 0.96 - ETA: 0s - loss: 0.1084 - recall: 0.96 - ETA: 0s - loss: 0.1093 - recall: 0.96 - ETA: 0s - loss: 0.1093 - recall: 0.96 - ETA: 0s - loss: 0.1093 - recall: 0.96 - ETA: 0s - loss: 0.1092 - recall: 0.96 - ETA: 0s - loss: 0.1092 - recall: 0.96 - ETA: 0s - loss: 0.1091 - recall: 0.96 - ETA: 0s - loss: 0.1090 - recall: 0.96 - ETA: 0s - loss: 0.1088 - recall: 0.96 - ETA: 0s - loss: 0.1089 - recall: 0.96 - ETA: 0s - loss: 0.1088 - recall: 0.96 - ETA: 0s - loss: 0.1086 - recall: 0.96 - ETA: 0s - loss: 0.1085 - recall: 0.96 - ETA: 0s - loss: 0.1083 - recall: 0.96 - ETA: 0s - loss: 0.1081 - recall: 0.96 - ETA: 0s - loss: 0.1082 - recall: 0.96 - ETA: 0s - loss: 0.1081 - recall: 0.96 - 11s 326us/sample - loss: 0.1081 - recall: 0.9663 - val_loss: 0.1090 - val_recall: 0.9653\n",
      "Epoch 4/5\n"
     ]
    },
    {
     "name": "stdout",
     "output_type": "stream",
     "text": [
      "34329/34329 [==============================] - ETA: 12s - loss: 0.1258 - recall: 0.968 - ETA: 10s - loss: 0.1035 - recall: 0.964 - ETA: 9s - loss: 0.1044 - recall: 0.961 - ETA: 9s - loss: 0.0966 - recall: 0.96 - ETA: 9s - loss: 0.0897 - recall: 0.96 - ETA: 9s - loss: 0.0809 - recall: 0.97 - ETA: 9s - loss: 0.0827 - recall: 0.97 - ETA: 9s - loss: 0.0852 - recall: 0.97 - ETA: 9s - loss: 0.0824 - recall: 0.97 - ETA: 9s - loss: 0.0802 - recall: 0.97 - ETA: 9s - loss: 0.0797 - recall: 0.97 - ETA: 9s - loss: 0.0879 - recall: 0.97 - ETA: 9s - loss: 0.0880 - recall: 0.97 - ETA: 9s - loss: 0.0879 - recall: 0.97 - ETA: 9s - loss: 0.0872 - recall: 0.97 - ETA: 9s - loss: 0.0866 - recall: 0.97 - ETA: 9s - loss: 0.0856 - recall: 0.97 - ETA: 9s - loss: 0.0847 - recall: 0.97 - ETA: 9s - loss: 0.0864 - recall: 0.97 - ETA: 9s - loss: 0.0860 - recall: 0.97 - ETA: 9s - loss: 0.0890 - recall: 0.97 - ETA: 9s - loss: 0.0888 - recall: 0.97 - ETA: 9s - loss: 0.0871 - recall: 0.97 - ETA: 9s - loss: 0.0871 - recall: 0.97 - ETA: 9s - loss: 0.0880 - recall: 0.97 - ETA: 8s - loss: 0.0882 - recall: 0.97 - ETA: 8s - loss: 0.0912 - recall: 0.97 - ETA: 8s - loss: 0.0911 - recall: 0.97 - ETA: 8s - loss: 0.0900 - recall: 0.97 - ETA: 8s - loss: 0.0893 - recall: 0.97 - ETA: 8s - loss: 0.0888 - recall: 0.97 - ETA: 8s - loss: 0.0878 - recall: 0.97 - ETA: 8s - loss: 0.0875 - recall: 0.97 - ETA: 8s - loss: 0.0866 - recall: 0.97 - ETA: 8s - loss: 0.0876 - recall: 0.97 - ETA: 8s - loss: 0.0870 - recall: 0.97 - ETA: 8s - loss: 0.0875 - recall: 0.97 - ETA: 8s - loss: 0.0874 - recall: 0.97 - ETA: 8s - loss: 0.0866 - recall: 0.97 - ETA: 8s - loss: 0.0861 - recall: 0.97 - ETA: 8s - loss: 0.0866 - recall: 0.97 - ETA: 8s - loss: 0.0878 - recall: 0.97 - ETA: 8s - loss: 0.0867 - recall: 0.97 - ETA: 8s - loss: 0.0860 - recall: 0.97 - ETA: 8s - loss: 0.0857 - recall: 0.97 - ETA: 8s - loss: 0.0870 - recall: 0.97 - ETA: 7s - loss: 0.0861 - recall: 0.97 - ETA: 7s - loss: 0.0852 - recall: 0.97 - ETA: 7s - loss: 0.0850 - recall: 0.97 - ETA: 7s - loss: 0.0854 - recall: 0.97 - ETA: 7s - loss: 0.0850 - recall: 0.97 - ETA: 7s - loss: 0.0846 - recall: 0.97 - ETA: 7s - loss: 0.0846 - recall: 0.97 - ETA: 7s - loss: 0.0844 - recall: 0.97 - ETA: 7s - loss: 0.0842 - recall: 0.97 - ETA: 7s - loss: 0.0840 - recall: 0.97 - ETA: 7s - loss: 0.0832 - recall: 0.97 - ETA: 7s - loss: 0.0827 - recall: 0.97 - ETA: 7s - loss: 0.0825 - recall: 0.97 - ETA: 7s - loss: 0.0825 - recall: 0.97 - ETA: 7s - loss: 0.0823 - recall: 0.97 - ETA: 7s - loss: 0.0824 - recall: 0.97 - ETA: 7s - loss: 0.0816 - recall: 0.97 - ETA: 7s - loss: 0.0821 - recall: 0.97 - ETA: 7s - loss: 0.0818 - recall: 0.97 - ETA: 6s - loss: 0.0829 - recall: 0.97 - ETA: 6s - loss: 0.0827 - recall: 0.97 - ETA: 6s - loss: 0.0827 - recall: 0.97 - ETA: 6s - loss: 0.0825 - recall: 0.97 - ETA: 6s - loss: 0.0833 - recall: 0.97 - ETA: 6s - loss: 0.0841 - recall: 0.97 - ETA: 6s - loss: 0.0836 - recall: 0.97 - ETA: 6s - loss: 0.0839 - recall: 0.97 - ETA: 6s - loss: 0.0835 - recall: 0.97 - ETA: 6s - loss: 0.0854 - recall: 0.97 - ETA: 6s - loss: 0.0853 - recall: 0.97 - ETA: 6s - loss: 0.0860 - recall: 0.97 - ETA: 6s - loss: 0.0857 - recall: 0.97 - ETA: 6s - loss: 0.0853 - recall: 0.97 - ETA: 6s - loss: 0.0856 - recall: 0.97 - ETA: 6s - loss: 0.0854 - recall: 0.97 - ETA: 6s - loss: 0.0854 - recall: 0.97 - ETA: 6s - loss: 0.0856 - recall: 0.97 - ETA: 6s - loss: 0.0858 - recall: 0.97 - ETA: 5s - loss: 0.0855 - recall: 0.97 - ETA: 5s - loss: 0.0851 - recall: 0.97 - ETA: 5s - loss: 0.0848 - recall: 0.97 - ETA: 5s - loss: 0.0851 - recall: 0.97 - ETA: 5s - loss: 0.0854 - recall: 0.97 - ETA: 5s - loss: 0.0862 - recall: 0.97 - ETA: 5s - loss: 0.0860 - recall: 0.97 - ETA: 5s - loss: 0.0860 - recall: 0.97 - ETA: 5s - loss: 0.0868 - recall: 0.97 - ETA: 5s - loss: 0.0866 - recall: 0.97 - ETA: 5s - loss: 0.0864 - recall: 0.97 - ETA: 5s - loss: 0.0867 - recall: 0.97 - ETA: 5s - loss: 0.0866 - recall: 0.97 - ETA: 5s - loss: 0.0863 - recall: 0.97 - ETA: 5s - loss: 0.0865 - recall: 0.97 - ETA: 5s - loss: 0.0863 - recall: 0.97 - ETA: 5s - loss: 0.0858 - recall: 0.97 - ETA: 5s - loss: 0.0866 - recall: 0.97 - ETA: 5s - loss: 0.0864 - recall: 0.97 - ETA: 4s - loss: 0.0867 - recall: 0.97 - ETA: 4s - loss: 0.0866 - recall: 0.97 - ETA: 4s - loss: 0.0869 - recall: 0.97 - ETA: 4s - loss: 0.0867 - recall: 0.97 - ETA: 4s - loss: 0.0871 - recall: 0.97 - ETA: 4s - loss: 0.0868 - recall: 0.97 - ETA: 4s - loss: 0.0868 - recall: 0.97 - ETA: 4s - loss: 0.0871 - recall: 0.97 - ETA: 4s - loss: 0.0880 - recall: 0.97 - ETA: 4s - loss: 0.0876 - recall: 0.97 - ETA: 4s - loss: 0.0875 - recall: 0.97 - ETA: 4s - loss: 0.0876 - recall: 0.97 - ETA: 4s - loss: 0.0875 - recall: 0.97 - ETA: 4s - loss: 0.0873 - recall: 0.97 - ETA: 4s - loss: 0.0870 - recall: 0.97 - ETA: 4s - loss: 0.0874 - recall: 0.97 - ETA: 4s - loss: 0.0871 - recall: 0.97 - ETA: 3s - loss: 0.0871 - recall: 0.97 - ETA: 3s - loss: 0.0872 - recall: 0.97 - ETA: 3s - loss: 0.0877 - recall: 0.97 - ETA: 3s - loss: 0.0884 - recall: 0.97 - ETA: 3s - loss: 0.0886 - recall: 0.97 - ETA: 3s - loss: 0.0882 - recall: 0.97 - ETA: 3s - loss: 0.0884 - recall: 0.97 - ETA: 3s - loss: 0.0882 - recall: 0.97 - ETA: 3s - loss: 0.0889 - recall: 0.97 - ETA: 3s - loss: 0.0887 - recall: 0.97 - ETA: 3s - loss: 0.0885 - recall: 0.97 - ETA: 3s - loss: 0.0885 - recall: 0.97 - ETA: 3s - loss: 0.0884 - recall: 0.97 - ETA: 3s - loss: 0.0886 - recall: 0.97 - ETA: 3s - loss: 0.0883 - recall: 0.97 - ETA: 3s - loss: 0.0884 - recall: 0.97 - ETA: 3s - loss: 0.0883 - recall: 0.97 - ETA: 2s - loss: 0.0887 - recall: 0.97 - ETA: 2s - loss: 0.0887 - recall: 0.97 - ETA: 2s - loss: 0.0885 - recall: 0.97 - ETA: 2s - loss: 0.0886 - recall: 0.97 - ETA: 2s - loss: 0.0887 - recall: 0.97 - ETA: 2s - loss: 0.0898 - recall: 0.97 - ETA: 2s - loss: 0.0896 - recall: 0.97 - ETA: 2s - loss: 0.0902 - recall: 0.97 - ETA: 2s - loss: 0.0902 - recall: 0.97 - ETA: 2s - loss: 0.0901 - recall: 0.97 - ETA: 2s - loss: 0.0901 - recall: 0.97 - ETA: 2s - loss: 0.0901 - recall: 0.97 - ETA: 2s - loss: 0.0899 - recall: 0.97 - ETA: 2s - loss: 0.0898 - recall: 0.97 - ETA: 2s - loss: 0.0897 - recall: 0.97 - ETA: 2s - loss: 0.0895 - recall: 0.97 - ETA: 2s - loss: 0.0891 - recall: 0.97 - ETA: 2s - loss: 0.0889 - recall: 0.97 - ETA: 1s - loss: 0.0891 - recall: 0.97 - ETA: 1s - loss: 0.0888 - recall: 0.97 - ETA: 1s - loss: 0.0889 - recall: 0.97 - ETA: 1s - loss: 0.0887 - recall: 0.97 - ETA: 1s - loss: 0.0888 - recall: 0.97 - ETA: 1s - loss: 0.0888 - recall: 0.97 - ETA: 1s - loss: 0.0887 - recall: 0.97 - ETA: 1s - loss: 0.0884 - recall: 0.97 - ETA: 1s - loss: 0.0886 - recall: 0.97 - ETA: 1s - loss: 0.0885 - recall: 0.97 - ETA: 1s - loss: 0.0884 - recall: 0.97 - ETA: 1s - loss: 0.0888 - recall: 0.97 - ETA: 1s - loss: 0.0889 - recall: 0.97 - ETA: 1s - loss: 0.0886 - recall: 0.97 - ETA: 1s - loss: 0.0888 - recall: 0.97 - ETA: 1s - loss: 0.0885 - recall: 0.97 - ETA: 1s - loss: 0.0884 - recall: 0.97 - ETA: 1s - loss: 0.0884 - recall: 0.97 - ETA: 0s - loss: 0.0885 - recall: 0.97 - ETA: 0s - loss: 0.0890 - recall: 0.97 - ETA: 0s - loss: 0.0890 - recall: 0.97 - ETA: 0s - loss: 0.0888 - recall: 0.97 - ETA: 0s - loss: 0.0888 - recall: 0.97 - ETA: 0s - loss: 0.0890 - recall: 0.97 - ETA: 0s - loss: 0.0887 - recall: 0.97 - ETA: 0s - loss: 0.0887 - recall: 0.97 - ETA: 0s - loss: 0.0886 - recall: 0.97 - ETA: 0s - loss: 0.0884 - recall: 0.97 - ETA: 0s - loss: 0.0883 - recall: 0.97 - ETA: 0s - loss: 0.0882 - recall: 0.97 - ETA: 0s - loss: 0.0880 - recall: 0.97 - ETA: 0s - loss: 0.0881 - recall: 0.97 - ETA: 0s - loss: 0.0883 - recall: 0.97 - ETA: 0s - loss: 0.0883 - recall: 0.97 - ETA: 0s - loss: 0.0886 - recall: 0.97 - ETA: 0s - loss: 0.0887 - recall: 0.97 - 11s 328us/sample - loss: 0.0885 - recall: 0.9727 - val_loss: 0.0972 - val_recall: 0.9698\n",
      "Epoch 5/5\n"
     ]
    },
    {
     "name": "stdout",
     "output_type": "stream",
     "text": [
      "34329/34329 [==============================] - ETA: 12s - loss: 0.0373 - recall: 1.000 - ETA: 9s - loss: 0.0829 - recall: 0.973 - ETA: 9s - loss: 0.0786 - recall: 0.97 - ETA: 9s - loss: 0.0712 - recall: 0.97 - ETA: 9s - loss: 0.0646 - recall: 0.97 - ETA: 9s - loss: 0.0708 - recall: 0.97 - ETA: 9s - loss: 0.0710 - recall: 0.97 - ETA: 9s - loss: 0.0708 - recall: 0.97 - ETA: 9s - loss: 0.0668 - recall: 0.97 - ETA: 8s - loss: 0.0751 - recall: 0.97 - ETA: 8s - loss: 0.0753 - recall: 0.97 - ETA: 8s - loss: 0.0758 - recall: 0.97 - ETA: 8s - loss: 0.0766 - recall: 0.97 - ETA: 8s - loss: 0.0809 - recall: 0.97 - ETA: 8s - loss: 0.0811 - recall: 0.97 - ETA: 8s - loss: 0.0807 - recall: 0.97 - ETA: 8s - loss: 0.0795 - recall: 0.97 - ETA: 8s - loss: 0.0775 - recall: 0.97 - ETA: 8s - loss: 0.0786 - recall: 0.97 - ETA: 8s - loss: 0.0783 - recall: 0.97 - ETA: 8s - loss: 0.0771 - recall: 0.97 - ETA: 8s - loss: 0.0767 - recall: 0.97 - ETA: 8s - loss: 0.0751 - recall: 0.97 - ETA: 8s - loss: 0.0741 - recall: 0.97 - ETA: 8s - loss: 0.0740 - recall: 0.97 - ETA: 8s - loss: 0.0744 - recall: 0.97 - ETA: 7s - loss: 0.0749 - recall: 0.97 - ETA: 7s - loss: 0.0739 - recall: 0.97 - ETA: 7s - loss: 0.0730 - recall: 0.97 - ETA: 7s - loss: 0.0726 - recall: 0.97 - ETA: 7s - loss: 0.0717 - recall: 0.97 - ETA: 7s - loss: 0.0713 - recall: 0.97 - ETA: 7s - loss: 0.0718 - recall: 0.97 - ETA: 7s - loss: 0.0726 - recall: 0.97 - ETA: 7s - loss: 0.0725 - recall: 0.97 - ETA: 7s - loss: 0.0721 - recall: 0.97 - ETA: 7s - loss: 0.0723 - recall: 0.97 - ETA: 7s - loss: 0.0721 - recall: 0.97 - ETA: 7s - loss: 0.0716 - recall: 0.97 - ETA: 7s - loss: 0.0716 - recall: 0.97 - ETA: 7s - loss: 0.0712 - recall: 0.97 - ETA: 7s - loss: 0.0707 - recall: 0.97 - ETA: 7s - loss: 0.0703 - recall: 0.97 - ETA: 7s - loss: 0.0702 - recall: 0.97 - ETA: 7s - loss: 0.0705 - recall: 0.97 - ETA: 7s - loss: 0.0713 - recall: 0.97 - ETA: 7s - loss: 0.0713 - recall: 0.97 - ETA: 7s - loss: 0.0715 - recall: 0.97 - ETA: 7s - loss: 0.0720 - recall: 0.97 - ETA: 7s - loss: 0.0732 - recall: 0.97 - ETA: 7s - loss: 0.0733 - recall: 0.97 - ETA: 7s - loss: 0.0732 - recall: 0.97 - ETA: 7s - loss: 0.0729 - recall: 0.97 - ETA: 6s - loss: 0.0728 - recall: 0.97 - ETA: 6s - loss: 0.0730 - recall: 0.97 - ETA: 6s - loss: 0.0724 - recall: 0.97 - ETA: 6s - loss: 0.0721 - recall: 0.97 - ETA: 6s - loss: 0.0725 - recall: 0.97 - ETA: 6s - loss: 0.0719 - recall: 0.97 - ETA: 6s - loss: 0.0723 - recall: 0.97 - ETA: 6s - loss: 0.0729 - recall: 0.97 - ETA: 6s - loss: 0.0735 - recall: 0.97 - ETA: 6s - loss: 0.0733 - recall: 0.97 - ETA: 6s - loss: 0.0734 - recall: 0.97 - ETA: 6s - loss: 0.0738 - recall: 0.97 - ETA: 6s - loss: 0.0743 - recall: 0.97 - ETA: 6s - loss: 0.0740 - recall: 0.97 - ETA: 6s - loss: 0.0736 - recall: 0.97 - ETA: 6s - loss: 0.0732 - recall: 0.97 - ETA: 6s - loss: 0.0729 - recall: 0.97 - ETA: 6s - loss: 0.0736 - recall: 0.97 - ETA: 6s - loss: 0.0738 - recall: 0.97 - ETA: 6s - loss: 0.0740 - recall: 0.97 - ETA: 6s - loss: 0.0749 - recall: 0.97 - ETA: 6s - loss: 0.0748 - recall: 0.97 - ETA: 5s - loss: 0.0755 - recall: 0.97 - ETA: 5s - loss: 0.0751 - recall: 0.97 - ETA: 5s - loss: 0.0755 - recall: 0.97 - ETA: 5s - loss: 0.0753 - recall: 0.97 - ETA: 5s - loss: 0.0756 - recall: 0.97 - ETA: 5s - loss: 0.0759 - recall: 0.97 - ETA: 5s - loss: 0.0753 - recall: 0.97 - ETA: 5s - loss: 0.0753 - recall: 0.97 - ETA: 5s - loss: 0.0753 - recall: 0.97 - ETA: 5s - loss: 0.0754 - recall: 0.97 - ETA: 5s - loss: 0.0751 - recall: 0.97 - ETA: 5s - loss: 0.0759 - recall: 0.97 - ETA: 5s - loss: 0.0762 - recall: 0.97 - ETA: 5s - loss: 0.0762 - recall: 0.97 - ETA: 5s - loss: 0.0761 - recall: 0.97 - ETA: 5s - loss: 0.0759 - recall: 0.97 - ETA: 5s - loss: 0.0758 - recall: 0.97 - ETA: 5s - loss: 0.0760 - recall: 0.97 - ETA: 5s - loss: 0.0755 - recall: 0.97 - ETA: 5s - loss: 0.0758 - recall: 0.97 - ETA: 4s - loss: 0.0760 - recall: 0.97 - ETA: 4s - loss: 0.0760 - recall: 0.97 - ETA: 4s - loss: 0.0761 - recall: 0.97 - ETA: 4s - loss: 0.0764 - recall: 0.97 - ETA: 4s - loss: 0.0762 - recall: 0.97 - ETA: 4s - loss: 0.0760 - recall: 0.97 - ETA: 4s - loss: 0.0760 - recall: 0.97 - ETA: 4s - loss: 0.0761 - recall: 0.97 - ETA: 4s - loss: 0.0762 - recall: 0.97 - ETA: 4s - loss: 0.0763 - recall: 0.97 - ETA: 4s - loss: 0.0760 - recall: 0.97 - ETA: 4s - loss: 0.0757 - recall: 0.97 - ETA: 4s - loss: 0.0758 - recall: 0.97 - ETA: 4s - loss: 0.0756 - recall: 0.97 - ETA: 4s - loss: 0.0753 - recall: 0.97 - ETA: 4s - loss: 0.0752 - recall: 0.97 - ETA: 4s - loss: 0.0750 - recall: 0.97 - ETA: 4s - loss: 0.0751 - recall: 0.97 - ETA: 4s - loss: 0.0754 - recall: 0.97 - ETA: 3s - loss: 0.0753 - recall: 0.97 - ETA: 3s - loss: 0.0751 - recall: 0.97 - ETA: 3s - loss: 0.0749 - recall: 0.97 - ETA: 3s - loss: 0.0750 - recall: 0.97 - ETA: 3s - loss: 0.0750 - recall: 0.97 - ETA: 3s - loss: 0.0748 - recall: 0.97 - ETA: 3s - loss: 0.0755 - recall: 0.97 - ETA: 3s - loss: 0.0755 - recall: 0.97 - ETA: 3s - loss: 0.0763 - recall: 0.97 - ETA: 3s - loss: 0.0762 - recall: 0.97 - ETA: 3s - loss: 0.0760 - recall: 0.97 - ETA: 3s - loss: 0.0763 - recall: 0.97 - ETA: 3s - loss: 0.0764 - recall: 0.97 - ETA: 3s - loss: 0.0762 - recall: 0.97 - ETA: 3s - loss: 0.0760 - recall: 0.97 - ETA: 3s - loss: 0.0757 - recall: 0.97 - ETA: 3s - loss: 0.0760 - recall: 0.97 - ETA: 3s - loss: 0.0764 - recall: 0.97 - ETA: 3s - loss: 0.0764 - recall: 0.97 - ETA: 2s - loss: 0.0762 - recall: 0.97 - ETA: 2s - loss: 0.0763 - recall: 0.97 - ETA: 2s - loss: 0.0761 - recall: 0.97 - ETA: 2s - loss: 0.0761 - recall: 0.97 - ETA: 2s - loss: 0.0758 - recall: 0.97 - ETA: 2s - loss: 0.0757 - recall: 0.97 - ETA: 2s - loss: 0.0758 - recall: 0.97 - ETA: 2s - loss: 0.0759 - recall: 0.97 - ETA: 2s - loss: 0.0758 - recall: 0.97 - ETA: 2s - loss: 0.0760 - recall: 0.97 - ETA: 2s - loss: 0.0758 - recall: 0.97 - ETA: 2s - loss: 0.0757 - recall: 0.97 - ETA: 2s - loss: 0.0756 - recall: 0.97 - ETA: 2s - loss: 0.0758 - recall: 0.97 - ETA: 2s - loss: 0.0759 - recall: 0.97 - ETA: 2s - loss: 0.0765 - recall: 0.97 - ETA: 2s - loss: 0.0763 - recall: 0.97 - ETA: 2s - loss: 0.0770 - recall: 0.97 - ETA: 2s - loss: 0.0768 - recall: 0.97 - ETA: 1s - loss: 0.0769 - recall: 0.97 - ETA: 1s - loss: 0.0767 - recall: 0.97 - ETA: 1s - loss: 0.0765 - recall: 0.97 - ETA: 1s - loss: 0.0765 - recall: 0.97 - ETA: 1s - loss: 0.0767 - recall: 0.97 - ETA: 1s - loss: 0.0764 - recall: 0.97 - ETA: 1s - loss: 0.0762 - recall: 0.97 - ETA: 1s - loss: 0.0763 - recall: 0.97 - ETA: 1s - loss: 0.0767 - recall: 0.97 - ETA: 1s - loss: 0.0766 - recall: 0.97 - ETA: 1s - loss: 0.0764 - recall: 0.97 - ETA: 1s - loss: 0.0763 - recall: 0.97 - ETA: 1s - loss: 0.0761 - recall: 0.97 - ETA: 1s - loss: 0.0760 - recall: 0.97 - ETA: 1s - loss: 0.0760 - recall: 0.97 - ETA: 1s - loss: 0.0762 - recall: 0.97 - ETA: 1s - loss: 0.0760 - recall: 0.97 - ETA: 1s - loss: 0.0759 - recall: 0.97 - ETA: 0s - loss: 0.0761 - recall: 0.97 - ETA: 0s - loss: 0.0760 - recall: 0.97 - ETA: 0s - loss: 0.0757 - recall: 0.97 - ETA: 0s - loss: 0.0757 - recall: 0.97 - ETA: 0s - loss: 0.0755 - recall: 0.97 - ETA: 0s - loss: 0.0753 - recall: 0.97 - ETA: 0s - loss: 0.0755 - recall: 0.97 - ETA: 0s - loss: 0.0755 - recall: 0.97 - ETA: 0s - loss: 0.0755 - recall: 0.97 - ETA: 0s - loss: 0.0755 - recall: 0.97 - ETA: 0s - loss: 0.0754 - recall: 0.97 - ETA: 0s - loss: 0.0754 - recall: 0.97 - ETA: 0s - loss: 0.0753 - recall: 0.97 - ETA: 0s - loss: 0.0750 - recall: 0.97 - ETA: 0s - loss: 0.0750 - recall: 0.97 - ETA: 0s - loss: 0.0754 - recall: 0.97 - ETA: 0s - loss: 0.0751 - recall: 0.97 - ETA: 0s - loss: 0.0752 - recall: 0.97 - 11s 329us/sample - loss: 0.0751 - recall: 0.9752 - val_loss: 0.1068 - val_recall: 0.9688\n"
     ]
    },
    {
     "name": "stdout",
     "output_type": "stream",
     "text": [
      "11443/11443 [==============================] - ETA: 1s - loss: 0.0254 - recall: 1.00 - ETA: 1s - loss: 0.0875 - recall: 0.97 - ETA: 0s - loss: 0.0973 - recall: 0.96 - ETA: 0s - loss: 0.1010 - recall: 0.96 - ETA: 0s - loss: 0.1018 - recall: 0.96 - ETA: 0s - loss: 0.1086 - recall: 0.96 - ETA: 0s - loss: 0.1080 - recall: 0.96 - ETA: 0s - loss: 0.1066 - recall: 0.96 - ETA: 0s - loss: 0.1054 - recall: 0.96 - ETA: 0s - loss: 0.1026 - recall: 0.96 - ETA: 0s - loss: 0.0986 - recall: 0.97 - ETA: 0s - loss: 0.1001 - recall: 0.97 - ETA: 0s - loss: 0.1051 - recall: 0.96 - ETA: 0s - loss: 0.1026 - recall: 0.96 - ETA: 0s - loss: 0.1052 - recall: 0.96 - ETA: 0s - loss: 0.1082 - recall: 0.96 - ETA: 0s - loss: 0.1080 - recall: 0.96 - ETA: 0s - loss: 0.1091 - recall: 0.96 - ETA: 0s - loss: 0.1088 - recall: 0.96 - ETA: 0s - loss: 0.1069 - recall: 0.96 - 1s 89us/sample - loss: 0.1068 - recall: 0.9688\n",
      "Test accuracy: 0.9688019\n"
     ]
    },
    {
     "data": {
      "image/png": "[encoded data removed]",
      "text/plain": [
       "<Figure size 432x360 with 1 Axes>"
      ]
     },
     "metadata": {
      "needs_background": "light"
     },
     "output_type": "display_data"
    }
   ],
   "source": [
    "model_up.compile(optimizer='adam', \n",
    "              loss='binary_crossentropy',\n",
    "              metrics=[tf.keras.metrics.Recall()])\n",
    "\n",
    "history = model_up.fit(up_X_train,\n",
    "          pd.get_dummies(up_y_train),\n",
    "          epochs=5,\n",
    "          validation_data=(up_X_test, pd.get_dummies(up_y_test))\n",
    "         )\n",
    "plot_loss(history)\n",
    "test_loss, test_acc = model_up.evaluate(up_X_test, pd.get_dummies(up_y_test))\n",
    "print('Test accuracy:', test_acc)"
   ]
  },
  {
   "cell_type": "code",
   "execution_count": 40,
   "metadata": {
    "ExecuteTime": {
     "end_time": "2019-08-12T02:43:52.978728Z",
     "start_time": "2019-08-12T02:43:51.871364Z"
    }
   },
   "outputs": [
    {
     "name": "stdout",
     "output_type": "stream",
     "text": [
      "전체채팅수11443, 유해채팅수5949\n"
     ]
    }
   ],
   "source": [
    "result = pd.DataFrame(np.apply_along_axis(index_to_text, 1, up_X_test))\n",
    "result['predict'] = model_up.predict_proba(up_X_test)[:,1] # 유해하다고 판별할 확률\n",
    "print('전체채팅수{}, 유해채팅수{}'.format(len(result),len(result[result.predict>0.5])))\n",
    "result[result.predict>0.5].head(10)\n",
    "result['label'] = up_y_test"
   ]
  },
  {
   "cell_type": "code",
   "execution_count": 158,
   "metadata": {
    "ExecuteTime": {
     "end_time": "2019-08-09T07:45:50.289576Z",
     "start_time": "2019-08-09T07:45:50.282581Z"
    }
   },
   "outputs": [],
   "source": [
    "# result.to_csv('../../data/cnn_result.csv', encoding='utf-16')"
   ]
  },
  {
   "cell_type": "markdown",
   "metadata": {},
   "source": [
    "## Downsampling"
   ]
  },
  {
   "cell_type": "code",
   "execution_count": 42,
   "metadata": {
    "ExecuteTime": {
     "end_time": "2019-08-12T02:44:48.209027Z",
     "start_time": "2019-08-12T02:44:48.177031Z"
    }
   },
   "outputs": [
    {
     "data": {
      "text/plain": [
       "(2228, 1114)"
      ]
     },
     "execution_count": 42,
     "metadata": {},
     "output_type": "execute_result"
    }
   ],
   "source": [
    "down_X, down_y = RandomUnderSampler().fit_resample(x_padded, datasets.label)\n",
    "down_X_train, down_X_test, down_y_train, down_y_test = train_test_split(down_X, down_y)\n",
    "\n",
    "# 총 데이터 수 , 1 레이블 데이터 수\n",
    "len(down_y), down_y.sum()"
   ]
  },
  {
   "cell_type": "code",
   "execution_count": 50,
   "metadata": {
    "ExecuteTime": {
     "end_time": "2019-08-12T02:49:39.647641Z",
     "start_time": "2019-08-12T02:49:39.192901Z"
    }
   },
   "outputs": [],
   "source": [
    "model_down = keras.Sequential([\n",
    "    keras.layers.Embedding(vocab_size, 10),\n",
    "    keras.layers.Conv1D(32, 3, padding=\"same\", activation=tf.nn.relu),\n",
    "    keras.layers.Dropout(0.5),\n",
    "    keras.layers.Conv1D(32, 3, padding=\"same\", activation=tf.nn.relu),\n",
    "    keras.layers.GlobalMaxPool1D(),\n",
    "    keras.layers.Dropout(0.5),\n",
    "    keras.layers.Dense(2, activation=tf.nn.sigmoid)\n",
    "])"
   ]
  },
  {
   "cell_type": "code",
   "execution_count": 54,
   "metadata": {
    "ExecuteTime": {
     "end_time": "2019-08-12T02:50:51.297472Z",
     "start_time": "2019-08-12T02:50:40.450702Z"
    }
   },
   "outputs": [
    {
     "name": "stdout",
     "output_type": "stream",
     "text": [
      "Train on 1671 samples, validate on 557 samples\n",
      "Epoch 1/5\n",
      "1671/1671 [==============================] - ETA: 1:16 - loss: 0.0717 - recall_10: 0.968 - ETA: 11s - loss: 0.0525 - recall_10: 0.974 - ETA: 5s - loss: 0.0585 - recall_10: 0.9714 - ETA: 3s - loss: 0.0554 - recall_10: 0.977 - ETA: 2s - loss: 0.0532 - recall_10: 0.981 - ETA: 1s - loss: 0.0583 - recall_10: 0.981 - ETA: 0s - loss: 0.0570 - recall_10: 0.981 - ETA: 0s - loss: 0.0669 - recall_10: 0.980 - ETA: 0s - loss: 0.0637 - recall_10: 0.980 - ETA: 0s - loss: 0.0694 - recall_10: 0.978 - 3s 2ms/sample - loss: 0.0684 - recall_10: 0.9791 - val_loss: 1.4497 - val_recall_10: 0.7253\n",
      "Epoch 2/5\n",
      "1671/1671 [==============================] - ETA: 0s - loss: 0.0664 - recall_10: 0.968 - ETA: 0s - loss: 0.1109 - recall_10: 0.968 - ETA: 0s - loss: 0.0777 - recall_10: 0.976 - ETA: 0s - loss: 0.0725 - recall_10: 0.977 - ETA: 0s - loss: 0.0749 - recall_10: 0.976 - ETA: 0s - loss: 0.0712 - recall_10: 0.977 - ETA: 0s - loss: 0.0885 - recall_10: 0.974 - ETA: 0s - loss: 0.0915 - recall_10: 0.973 - ETA: 0s - loss: 0.0858 - recall_10: 0.975 - ETA: 0s - loss: 0.0822 - recall_10: 0.977 - 1s 356us/sample - loss: 0.0821 - recall_10: 0.9773 - val_loss: 1.5004 - val_recall_10: 0.7235\n",
      "Epoch 3/5\n",
      "1671/1671 [==============================] - ETA: 0s - loss: 0.0055 - recall_10: 1.000 - ETA: 0s - loss: 0.0329 - recall_10: 0.988 - ETA: 0s - loss: 0.0388 - recall_10: 0.986 - ETA: 0s - loss: 0.0467 - recall_10: 0.984 - ETA: 0s - loss: 0.0489 - recall_10: 0.984 - ETA: 0s - loss: 0.0538 - recall_10: 0.984 - ETA: 0s - loss: 0.0560 - recall_10: 0.983 - ETA: 0s - loss: 0.0593 - recall_10: 0.981 - ETA: 0s - loss: 0.0638 - recall_10: 0.979 - ETA: 0s - loss: 0.0659 - recall_10: 0.979 - 1s 350us/sample - loss: 0.0651 - recall_10: 0.9791 - val_loss: 1.6062 - val_recall_10: 0.7127\n",
      "Epoch 4/5\n",
      "1671/1671 [==============================] - ETA: 0s - loss: 0.0371 - recall_10: 1.000 - ETA: 0s - loss: 0.0481 - recall_10: 0.995 - ETA: 0s - loss: 0.0614 - recall_10: 0.985 - ETA: 0s - loss: 0.0668 - recall_10: 0.983 - ETA: 0s - loss: 0.0558 - recall_10: 0.986 - ETA: 0s - loss: 0.0698 - recall_10: 0.982 - ETA: 0s - loss: 0.0636 - recall_10: 0.984 - ETA: 0s - loss: 0.0600 - recall_10: 0.983 - ETA: 0s - loss: 0.0582 - recall_10: 0.983 - ETA: 0s - loss: 0.0611 - recall_10: 0.982 - 1s 353us/sample - loss: 0.0616 - recall_10: 0.9820 - val_loss: 1.6266 - val_recall_10: 0.7181\n",
      "Epoch 5/5\n",
      "1671/1671 [==============================] - ETA: 0s - loss: 0.0082 - recall_10: 1.000 - ETA: 0s - loss: 0.0372 - recall_10: 0.986 - ETA: 0s - loss: 0.0333 - recall_10: 0.988 - ETA: 0s - loss: 0.0415 - recall_10: 0.988 - ETA: 0s - loss: 0.0371 - recall_10: 0.987 - ETA: 0s - loss: 0.0509 - recall_10: 0.981 - ETA: 0s - loss: 0.0557 - recall_10: 0.980 - ETA: 0s - loss: 0.0565 - recall_10: 0.979 - ETA: 0s - loss: 0.0576 - recall_10: 0.979 - ETA: 0s - loss: 0.0599 - recall_10: 0.977 - 1s 373us/sample - loss: 0.0576 - recall_10: 0.9791 - val_loss: 1.6759 - val_recall_10: 0.7181\n",
      "557/557 [==============================] - ETA: 0s - loss: 1.4450 - recall_10: 0.812 - ETA: 0s - loss: 1.6805 - recall_10: 0.716 - 0s 122us/sample - loss: 1.6760 - recall_10: 0.7181\n",
      "Test Recall: 0.71813285\n"
     ]
    },
    {
     "data": {
      "image/png": "[encoded data removed]",
      "text/plain": [
       "<Figure size 432x360 with 1 Axes>"
      ]
     },
     "metadata": {
      "needs_background": "light"
     },
     "output_type": "display_data"
    }
   ],
   "source": [
    "model_down.compile(optimizer='adam', \n",
    "              loss='binary_crossentropy',\n",
    "              metrics=[tf.keras.metrics.Recall()])\n",
    "\n",
    "history = model_down.fit(down_X_train,\n",
    "          pd.get_dummies(down_y_train),\n",
    "          epochs=5,\n",
    "          validation_data=(down_X_test, pd.get_dummies(down_y_test))\n",
    "         )\n",
    "plot_loss(history)\n",
    "test_loss, test_acc = model_down.evaluate(down_X_test, pd.get_dummies(down_y_test))\n",
    "print('Test Recall:', test_acc)"
   ]
  },
  {
   "cell_type": "code",
   "execution_count": 55,
   "metadata": {
    "ExecuteTime": {
     "end_time": "2019-08-12T02:50:59.694648Z",
     "start_time": "2019-08-12T02:50:58.591283Z"
    }
   },
   "outputs": [
    {
     "name": "stdout",
     "output_type": "stream",
     "text": [
      "전체채팅수557, 유해채팅수280\n"
     ]
    }
   ],
   "source": [
    "result = pd.DataFrame(np.apply_along_axis(index_to_text, 1, down_X_test))\n",
    "result['predict'] = model_down.predict_proba(down_X_test)[:,1] # 유해하다고 판별할 확률\n",
    "print('전체채팅수{}, 유해채팅수{}'.format(len(result),len(result[result.predict>0.5])))\n",
    "result[result.predict>0.5].head(10)\n",
    "result['label'] = down_y_test"
   ]
  },
  {
   "cell_type": "code",
   "execution_count": 56,
   "metadata": {
    "ExecuteTime": {
     "end_time": "2019-08-12T02:51:02.745897Z",
     "start_time": "2019-08-12T02:51:02.645957Z"
    }
   },
   "outputs": [
    {
     "data": {
      "text/html": [
       "<div>\n",
       "<style scoped>\n",
       "    .dataframe tbody tr th:only-of-type {\n",
       "        vertical-align: middle;\n",
       "    }\n",
       "\n",
       "    .dataframe tbody tr th {\n",
       "        vertical-align: top;\n",
       "    }\n",
       "\n",
       "    .dataframe thead th {\n",
       "        text-align: right;\n",
       "    }\n",
       "</style>\n",
       "<table border=\"1\" class=\"dataframe\">\n",
       "  <thead>\n",
       "    <tr style=\"text-align: right;\">\n",
       "      <th></th>\n",
       "      <th>0</th>\n",
       "      <th>predict</th>\n",
       "      <th>label</th>\n",
       "    </tr>\n",
       "  </thead>\n",
       "  <tbody>\n",
       "    <tr>\n",
       "      <th>5</th>\n",
       "      <td>팡 머 ㅋㅋㅋ &lt;PAD&gt; &lt;PAD&gt; &lt;PAD&gt; &lt;PAD&gt; &lt;PAD&gt; &lt;PAD&gt; &lt;PAD&gt;</td>\n",
       "      <td>0.040393</td>\n",
       "      <td>1</td>\n",
       "    </tr>\n",
       "    <tr>\n",
       "      <th>6</th>\n",
       "      <td>필터 완성 되다 고르다 &lt;PAD&gt; &lt;PAD&gt; &lt;PAD&gt; &lt;PAD&gt; &lt;PAD&gt; &lt;PAD&gt;</td>\n",
       "      <td>0.999978</td>\n",
       "      <td>0</td>\n",
       "    </tr>\n",
       "    <tr>\n",
       "      <th>14</th>\n",
       "      <td>큐베 베다 &lt;PAD&gt; &lt;PAD&gt; &lt;PAD&gt; &lt;PAD&gt; &lt;PAD&gt; &lt;PAD&gt; &lt;PAD...</td>\n",
       "      <td>1.000000</td>\n",
       "      <td>0</td>\n",
       "    </tr>\n",
       "    <tr>\n",
       "      <th>23</th>\n",
       "      <td>폭죽 으로 오반 이 불다 시간 끄다 개망 &lt;PAD&gt; &lt;PAD&gt;</td>\n",
       "      <td>0.225942</td>\n",
       "      <td>1</td>\n",
       "    </tr>\n",
       "    <tr>\n",
       "      <th>29</th>\n",
       "      <td>킹치 만 &lt;PAD&gt; &lt;PAD&gt; &lt;PAD&gt; &lt;PAD&gt; &lt;PAD&gt; &lt;PAD&gt; &lt;PAD&gt;...</td>\n",
       "      <td>0.038344</td>\n",
       "      <td>1</td>\n",
       "    </tr>\n",
       "    <tr>\n",
       "      <th>31</th>\n",
       "      <td>안 돼다 가다 ~~~~~~~~~ &lt;PAD&gt; &lt;PAD&gt; &lt;PAD&gt; &lt;PAD&gt; &lt;PAD...</td>\n",
       "      <td>0.999931</td>\n",
       "      <td>0</td>\n",
       "    </tr>\n",
       "    <tr>\n",
       "      <th>32</th>\n",
       "      <td>화이트 ... 배회 자 ...!!!! &lt;PAD&gt; &lt;PAD&gt; &lt;PAD&gt; &lt;PAD&gt; &lt;...</td>\n",
       "      <td>1.000000</td>\n",
       "      <td>0</td>\n",
       "    </tr>\n",
       "    <tr>\n",
       "      <th>40</th>\n",
       "      <td>ㄴㅇㅂ 늘다 불가능하다 ?? &lt;PAD&gt; &lt;PAD&gt; &lt;PAD&gt; &lt;PAD&gt; &lt;PAD&gt; ...</td>\n",
       "      <td>0.002704</td>\n",
       "      <td>1</td>\n",
       "    </tr>\n",
       "    <tr>\n",
       "      <th>48</th>\n",
       "      <td>근데 아 죽다 ; &lt;PAD&gt; &lt;PAD&gt; &lt;PAD&gt; &lt;PAD&gt; &lt;PAD&gt; &lt;PAD&gt;</td>\n",
       "      <td>0.071538</td>\n",
       "      <td>1</td>\n",
       "    </tr>\n",
       "    <tr>\n",
       "      <th>49</th>\n",
       "      <td>짜혐 에 반제 &lt;PAD&gt; &lt;PAD&gt; &lt;PAD&gt; &lt;PAD&gt; &lt;PAD&gt; &lt;PAD&gt; &lt;PAD&gt;</td>\n",
       "      <td>0.028242</td>\n",
       "      <td>1</td>\n",
       "    </tr>\n",
       "    <tr>\n",
       "      <th>51</th>\n",
       "      <td>정신 나가다 그 녀석 ㅋㅋㅋ &lt;PAD&gt; &lt;PAD&gt; &lt;PAD&gt; &lt;PAD&gt; &lt;PAD&gt;</td>\n",
       "      <td>0.004797</td>\n",
       "      <td>1</td>\n",
       "    </tr>\n",
       "    <tr>\n",
       "      <th>52</th>\n",
       "      <td>애 반 데 &lt;PAD&gt; &lt;PAD&gt; &lt;PAD&gt; &lt;PAD&gt; &lt;PAD&gt; &lt;PAD&gt; &lt;PAD&gt;</td>\n",
       "      <td>0.007256</td>\n",
       "      <td>1</td>\n",
       "    </tr>\n",
       "    <tr>\n",
       "      <th>53</th>\n",
       "      <td>옛날 에 세상 에 이런 일이 이다 ?? 스펀지 이다</td>\n",
       "      <td>0.001662</td>\n",
       "      <td>1</td>\n",
       "    </tr>\n",
       "    <tr>\n",
       "      <th>54</th>\n",
       "      <td>또 죽다 &lt;PAD&gt; &lt;PAD&gt; &lt;PAD&gt; &lt;PAD&gt; &lt;PAD&gt; &lt;PAD&gt; &lt;PAD&gt;...</td>\n",
       "      <td>0.057311</td>\n",
       "      <td>1</td>\n",
       "    </tr>\n",
       "    <tr>\n",
       "      <th>58</th>\n",
       "      <td>5 코 짜다 리 는 ㄹㅇ 밥갑함 &lt;PAD&gt; &lt;PAD&gt; &lt;PAD&gt;</td>\n",
       "      <td>0.793137</td>\n",
       "      <td>0</td>\n",
       "    </tr>\n",
       "    <tr>\n",
       "      <th>61</th>\n",
       "      <td>ㅈㅈ &lt;PAD&gt; &lt;PAD&gt; &lt;PAD&gt; &lt;PAD&gt; &lt;PAD&gt; &lt;PAD&gt; &lt;PAD&gt; &lt;...</td>\n",
       "      <td>0.053316</td>\n",
       "      <td>1</td>\n",
       "    </tr>\n",
       "    <tr>\n",
       "      <th>63</th>\n",
       "      <td>동 &lt;PAD&gt; &lt;PAD&gt; &lt;PAD&gt; &lt;PAD&gt; &lt;PAD&gt; &lt;PAD&gt; &lt;PAD&gt; &lt;P...</td>\n",
       "      <td>0.999973</td>\n",
       "      <td>0</td>\n",
       "    </tr>\n",
       "    <tr>\n",
       "      <th>68</th>\n",
       "      <td>최저 시급 이 면 닥치고 함 &lt;PAD&gt; &lt;PAD&gt; &lt;PAD&gt; &lt;PAD&gt;</td>\n",
       "      <td>0.027550</td>\n",
       "      <td>1</td>\n",
       "    </tr>\n",
       "    <tr>\n",
       "      <th>70</th>\n",
       "      <td>&lt;OOV&gt; 똥 치우다 다니다 신다 ㅗ 고 &lt;OOV&gt; &lt;PAD&gt; &lt;PAD&gt;</td>\n",
       "      <td>1.000000</td>\n",
       "      <td>0</td>\n",
       "    </tr>\n",
       "    <tr>\n",
       "      <th>82</th>\n",
       "      <td>ㄹㅇ &lt;PAD&gt; &lt;PAD&gt; &lt;PAD&gt; &lt;PAD&gt; &lt;PAD&gt; &lt;PAD&gt; &lt;PAD&gt; &lt;...</td>\n",
       "      <td>0.437951</td>\n",
       "      <td>1</td>\n",
       "    </tr>\n",
       "    <tr>\n",
       "      <th>83</th>\n",
       "      <td>탑곰붕 이 &lt;PAD&gt; &lt;PAD&gt; &lt;PAD&gt; &lt;PAD&gt; &lt;PAD&gt; &lt;PAD&gt; &lt;PAD...</td>\n",
       "      <td>0.849012</td>\n",
       "      <td>0</td>\n",
       "    </tr>\n",
       "    <tr>\n",
       "      <th>88</th>\n",
       "      <td>돈 으로 힐링 &lt;PAD&gt; &lt;PAD&gt; &lt;PAD&gt; &lt;PAD&gt; &lt;PAD&gt; &lt;PAD&gt; &lt;PAD&gt;</td>\n",
       "      <td>0.988039</td>\n",
       "      <td>0</td>\n",
       "    </tr>\n",
       "    <tr>\n",
       "      <th>89</th>\n",
       "      <td>주다 지랄 이여 &lt;PAD&gt; &lt;PAD&gt; &lt;PAD&gt; &lt;PAD&gt; &lt;PAD&gt; &lt;PAD&gt; &lt;...</td>\n",
       "      <td>0.368954</td>\n",
       "      <td>1</td>\n",
       "    </tr>\n",
       "    <tr>\n",
       "      <th>91</th>\n",
       "      <td>젠 지 킹 좋다 같다 &lt;PAD&gt; &lt;PAD&gt; &lt;PAD&gt; &lt;PAD&gt; &lt;PAD&gt;</td>\n",
       "      <td>0.000179</td>\n",
       "      <td>1</td>\n",
       "    </tr>\n",
       "    <tr>\n",
       "      <th>94</th>\n",
       "      <td>아오 쌍베 이 애국심 으로 가득 차다 녀석 아 !!</td>\n",
       "      <td>0.014817</td>\n",
       "      <td>1</td>\n",
       "    </tr>\n",
       "    <tr>\n",
       "      <th>96</th>\n",
       "      <td>전기 과열 로 펑하 면 좋다 &lt;PAD&gt; &lt;PAD&gt; &lt;PAD&gt; &lt;PAD&gt;</td>\n",
       "      <td>0.012156</td>\n",
       "      <td>1</td>\n",
       "    </tr>\n",
       "    <tr>\n",
       "      <th>98</th>\n",
       "      <td>방금 6 법 3 공 4 쌈 으로 사기 치다</td>\n",
       "      <td>0.999586</td>\n",
       "      <td>0</td>\n",
       "    </tr>\n",
       "    <tr>\n",
       "      <th>100</th>\n",
       "      <td>엉덩국 같다 ㅋㅋㅋ &lt;PAD&gt; &lt;PAD&gt; &lt;PAD&gt; &lt;PAD&gt; &lt;PAD&gt; &lt;PAD&gt;...</td>\n",
       "      <td>0.034565</td>\n",
       "      <td>1</td>\n",
       "    </tr>\n",
       "    <tr>\n",
       "      <th>101</th>\n",
       "      <td>오염 되다 물 에 심다 자아 &lt;PAD&gt; &lt;PAD&gt; &lt;PAD&gt; &lt;PAD&gt;</td>\n",
       "      <td>0.001276</td>\n",
       "      <td>1</td>\n",
       "    </tr>\n",
       "    <tr>\n",
       "      <th>102</th>\n",
       "      <td>인구 딸리다 &lt;PAD&gt; &lt;PAD&gt; &lt;PAD&gt; &lt;PAD&gt; &lt;PAD&gt; &lt;PAD&gt; &lt;PA...</td>\n",
       "      <td>0.077615</td>\n",
       "      <td>1</td>\n",
       "    </tr>\n",
       "    <tr>\n",
       "      <th>...</th>\n",
       "      <td>...</td>\n",
       "      <td>...</td>\n",
       "      <td>...</td>\n",
       "    </tr>\n",
       "    <tr>\n",
       "      <th>469</th>\n",
       "      <td>얼굴 보다 일단 궁 &lt;PAD&gt; &lt;PAD&gt; &lt;PAD&gt; &lt;PAD&gt; &lt;PAD&gt; &lt;PAD&gt;</td>\n",
       "      <td>0.999542</td>\n",
       "      <td>0</td>\n",
       "    </tr>\n",
       "    <tr>\n",
       "      <th>470</th>\n",
       "      <td>ㅇ &lt;PAD&gt; &lt;PAD&gt; &lt;PAD&gt; &lt;PAD&gt; &lt;PAD&gt; &lt;PAD&gt; &lt;PAD&gt; &lt;P...</td>\n",
       "      <td>0.999908</td>\n",
       "      <td>0</td>\n",
       "    </tr>\n",
       "    <tr>\n",
       "      <th>477</th>\n",
       "      <td>브베 야 안 1 마방 가다 &lt;PAD&gt; &lt;PAD&gt; &lt;PAD&gt; &lt;PAD&gt;</td>\n",
       "      <td>0.026542</td>\n",
       "      <td>1</td>\n",
       "    </tr>\n",
       "    <tr>\n",
       "      <th>481</th>\n",
       "      <td>저쪽 은 3시 죽이다 &lt;PAD&gt; &lt;PAD&gt; &lt;PAD&gt; &lt;PAD&gt; &lt;PAD&gt; &lt;PAD&gt;</td>\n",
       "      <td>0.962920</td>\n",
       "      <td>0</td>\n",
       "    </tr>\n",
       "    <tr>\n",
       "      <th>486</th>\n",
       "      <td>트수들 뽀뽀 ㅃ 해 &lt;PAD&gt; &lt;PAD&gt; &lt;PAD&gt; &lt;PAD&gt; &lt;PAD&gt; &lt;PAD&gt;</td>\n",
       "      <td>1.000000</td>\n",
       "      <td>0</td>\n",
       "    </tr>\n",
       "    <tr>\n",
       "      <th>487</th>\n",
       "      <td>전 재산 기부 &lt;PAD&gt; &lt;PAD&gt; &lt;PAD&gt; &lt;PAD&gt; &lt;PAD&gt; &lt;PAD&gt; &lt;PAD&gt;</td>\n",
       "      <td>0.991299</td>\n",
       "      <td>0</td>\n",
       "    </tr>\n",
       "    <tr>\n",
       "      <th>491</th>\n",
       "      <td>찍 &lt;PAD&gt; &lt;PAD&gt; &lt;PAD&gt; &lt;PAD&gt; &lt;PAD&gt; &lt;PAD&gt; &lt;PAD&gt; &lt;P...</td>\n",
       "      <td>0.117592</td>\n",
       "      <td>1</td>\n",
       "    </tr>\n",
       "    <tr>\n",
       "      <th>492</th>\n",
       "      <td>&lt;OOV&gt; &lt;OOV&gt; &lt;PAD&gt; &lt;PAD&gt; &lt;PAD&gt; &lt;PAD&gt; &lt;PAD&gt; &lt;PAD...</td>\n",
       "      <td>0.948460</td>\n",
       "      <td>0</td>\n",
       "    </tr>\n",
       "    <tr>\n",
       "      <th>493</th>\n",
       "      <td>크다 리 드 템 플 러 ㅅ ㅅ ㅅ ㅅ</td>\n",
       "      <td>1.000000</td>\n",
       "      <td>0</td>\n",
       "    </tr>\n",
       "    <tr>\n",
       "      <th>494</th>\n",
       "      <td>혐리건 on &lt;PAD&gt; &lt;PAD&gt; &lt;PAD&gt; &lt;PAD&gt; &lt;PAD&gt; &lt;PAD&gt; &lt;PA...</td>\n",
       "      <td>0.052897</td>\n",
       "      <td>1</td>\n",
       "    </tr>\n",
       "    <tr>\n",
       "      <th>495</th>\n",
       "      <td>발음 ㅋㅋㅋ &lt;PAD&gt; &lt;PAD&gt; &lt;PAD&gt; &lt;PAD&gt; &lt;PAD&gt; &lt;PAD&gt; &lt;PA...</td>\n",
       "      <td>0.997135</td>\n",
       "      <td>0</td>\n",
       "    </tr>\n",
       "    <tr>\n",
       "      <th>498</th>\n",
       "      <td>떽뜨따운드 &lt;PAD&gt; &lt;PAD&gt; &lt;PAD&gt; &lt;PAD&gt; &lt;PAD&gt; &lt;PAD&gt; &lt;PAD...</td>\n",
       "      <td>0.196018</td>\n",
       "      <td>1</td>\n",
       "    </tr>\n",
       "    <tr>\n",
       "      <th>503</th>\n",
       "      <td>정글 탈 리야 는 이제 못 쓰다 ? &lt;PAD&gt; &lt;PAD&gt;</td>\n",
       "      <td>0.999521</td>\n",
       "      <td>0</td>\n",
       "    </tr>\n",
       "    <tr>\n",
       "      <th>504</th>\n",
       "      <td>갓 리드 &lt;PAD&gt; &lt;PAD&gt; &lt;PAD&gt; &lt;PAD&gt; &lt;PAD&gt; &lt;PAD&gt; &lt;PAD&gt;...</td>\n",
       "      <td>0.158409</td>\n",
       "      <td>1</td>\n",
       "    </tr>\n",
       "    <tr>\n",
       "      <th>505</th>\n",
       "      <td>기보배 다 ㅋㅋㅋ &lt;PAD&gt; &lt;PAD&gt; &lt;PAD&gt; &lt;PAD&gt; &lt;PAD&gt; &lt;PAD&gt; ...</td>\n",
       "      <td>0.036719</td>\n",
       "      <td>1</td>\n",
       "    </tr>\n",
       "    <tr>\n",
       "      <th>512</th>\n",
       "      <td>고척돔 밖에 없다 &lt;PAD&gt; &lt;PAD&gt; &lt;PAD&gt; &lt;PAD&gt; &lt;PAD&gt; &lt;PAD&gt; ...</td>\n",
       "      <td>0.954918</td>\n",
       "      <td>0</td>\n",
       "    </tr>\n",
       "    <tr>\n",
       "      <th>514</th>\n",
       "      <td>오다 돈 자다 미치다 따다 머리색 넘다 이쁘다 !! &lt;PAD&gt;</td>\n",
       "      <td>1.000000</td>\n",
       "      <td>0</td>\n",
       "    </tr>\n",
       "    <tr>\n",
       "      <th>515</th>\n",
       "      <td>노 하라 고 노 &lt;PAD&gt; &lt;PAD&gt; &lt;PAD&gt; &lt;PAD&gt; &lt;PAD&gt; &lt;PAD&gt;</td>\n",
       "      <td>0.112905</td>\n",
       "      <td>1</td>\n",
       "    </tr>\n",
       "    <tr>\n",
       "      <th>516</th>\n",
       "      <td>밉다 쵸 따다 &lt;PAD&gt; &lt;PAD&gt; &lt;PAD&gt; &lt;PAD&gt; &lt;PAD&gt; &lt;PAD&gt; &lt;PAD&gt;</td>\n",
       "      <td>0.021666</td>\n",
       "      <td>1</td>\n",
       "    </tr>\n",
       "    <tr>\n",
       "      <th>517</th>\n",
       "      <td>여 기안 온 곳 이다 개꿀 &lt;PAD&gt; &lt;PAD&gt; &lt;PAD&gt; &lt;PAD&gt;</td>\n",
       "      <td>0.024606</td>\n",
       "      <td>1</td>\n",
       "    </tr>\n",
       "    <tr>\n",
       "      <th>520</th>\n",
       "      <td>이미 리버 준비 하다 듯 &lt;PAD&gt; &lt;PAD&gt; &lt;PAD&gt; &lt;PAD&gt; &lt;PAD&gt;</td>\n",
       "      <td>0.782554</td>\n",
       "      <td>0</td>\n",
       "    </tr>\n",
       "    <tr>\n",
       "      <th>522</th>\n",
       "      <td>오다 저걸 막다 &lt;PAD&gt; &lt;PAD&gt; &lt;PAD&gt; &lt;PAD&gt; &lt;PAD&gt; &lt;PAD&gt; &lt;...</td>\n",
       "      <td>0.995716</td>\n",
       "      <td>0</td>\n",
       "    </tr>\n",
       "    <tr>\n",
       "      <th>526</th>\n",
       "      <td>&lt;OOV&gt; &lt;PAD&gt; &lt;PAD&gt; &lt;PAD&gt; &lt;PAD&gt; &lt;PAD&gt; &lt;PAD&gt; &lt;PAD...</td>\n",
       "      <td>0.665824</td>\n",
       "      <td>0</td>\n",
       "    </tr>\n",
       "    <tr>\n",
       "      <th>530</th>\n",
       "      <td>럭스 끄다 어어 억 &lt;PAD&gt; &lt;PAD&gt; &lt;PAD&gt; &lt;PAD&gt; &lt;PAD&gt; &lt;PAD&gt;</td>\n",
       "      <td>0.065291</td>\n",
       "      <td>1</td>\n",
       "    </tr>\n",
       "    <tr>\n",
       "      <th>533</th>\n",
       "      <td>햄지털보터스 &lt;PAD&gt; &lt;PAD&gt; &lt;PAD&gt; &lt;PAD&gt; &lt;PAD&gt; &lt;PAD&gt; &lt;PA...</td>\n",
       "      <td>0.187140</td>\n",
       "      <td>1</td>\n",
       "    </tr>\n",
       "    <tr>\n",
       "      <th>535</th>\n",
       "      <td>항문 으로 기관총 찢기다 ㅋㅋㅋ &lt;PAD&gt; &lt;PAD&gt; &lt;PAD&gt; &lt;PAD&gt; &lt;PAD&gt;</td>\n",
       "      <td>0.033672</td>\n",
       "      <td>1</td>\n",
       "    </tr>\n",
       "    <tr>\n",
       "      <th>543</th>\n",
       "      <td>뇌 내 &lt;OOV&gt; &lt;PAD&gt; &lt;PAD&gt; &lt;PAD&gt; &lt;PAD&gt; &lt;PAD&gt; &lt;PAD&gt; ...</td>\n",
       "      <td>0.314517</td>\n",
       "      <td>1</td>\n",
       "    </tr>\n",
       "    <tr>\n",
       "      <th>544</th>\n",
       "      <td>목숨 걸다 하다 &lt;PAD&gt; &lt;PAD&gt; &lt;PAD&gt; &lt;PAD&gt; &lt;PAD&gt; &lt;PAD&gt; &lt;...</td>\n",
       "      <td>0.957280</td>\n",
       "      <td>0</td>\n",
       "    </tr>\n",
       "    <tr>\n",
       "      <th>547</th>\n",
       "      <td>네 손가락 으로 한번 에 누르다 &lt;PAD&gt; &lt;PAD&gt; &lt;PAD&gt; &lt;PAD&gt;</td>\n",
       "      <td>0.999986</td>\n",
       "      <td>0</td>\n",
       "    </tr>\n",
       "    <tr>\n",
       "      <th>549</th>\n",
       "      <td>똥 가루 좀 &lt;PAD&gt; &lt;PAD&gt; &lt;PAD&gt; &lt;PAD&gt; &lt;PAD&gt; &lt;PAD&gt; &lt;PAD&gt;</td>\n",
       "      <td>0.009058</td>\n",
       "      <td>1</td>\n",
       "    </tr>\n",
       "  </tbody>\n",
       "</table>\n",
       "<p>157 rows × 3 columns</p>\n",
       "</div>"
      ],
      "text/plain": [
       "                                                     0   predict  label\n",
       "5    팡 머 ㅋㅋㅋ <PAD> <PAD> <PAD> <PAD> <PAD> <PAD> <PAD>  0.040393      1\n",
       "6     필터 완성 되다 고르다 <PAD> <PAD> <PAD> <PAD> <PAD> <PAD>  0.999978      0\n",
       "14   큐베 베다 <PAD> <PAD> <PAD> <PAD> <PAD> <PAD> <PAD...  1.000000      0\n",
       "23                  폭죽 으로 오반 이 불다 시간 끄다 개망 <PAD> <PAD>  0.225942      1\n",
       "29   킹치 만 <PAD> <PAD> <PAD> <PAD> <PAD> <PAD> <PAD>...  0.038344      1\n",
       "31   안 돼다 가다 ~~~~~~~~~ <PAD> <PAD> <PAD> <PAD> <PAD...  0.999931      0\n",
       "32   화이트 ... 배회 자 ...!!!! <PAD> <PAD> <PAD> <PAD> <...  1.000000      0\n",
       "40   ㄴㅇㅂ 늘다 불가능하다 ?? <PAD> <PAD> <PAD> <PAD> <PAD> ...  0.002704      1\n",
       "48       근데 아 죽다 ; <PAD> <PAD> <PAD> <PAD> <PAD> <PAD>  0.071538      1\n",
       "49   짜혐 에 반제 <PAD> <PAD> <PAD> <PAD> <PAD> <PAD> <PAD>  0.028242      1\n",
       "51       정신 나가다 그 녀석 ㅋㅋㅋ <PAD> <PAD> <PAD> <PAD> <PAD>  0.004797      1\n",
       "52     애 반 데 <PAD> <PAD> <PAD> <PAD> <PAD> <PAD> <PAD>  0.007256      1\n",
       "53                        옛날 에 세상 에 이런 일이 이다 ?? 스펀지 이다  0.001662      1\n",
       "54   또 죽다 <PAD> <PAD> <PAD> <PAD> <PAD> <PAD> <PAD>...  0.057311      1\n",
       "58                 5 코 짜다 리 는 ㄹㅇ 밥갑함 <PAD> <PAD> <PAD>  0.793137      0\n",
       "61   ㅈㅈ <PAD> <PAD> <PAD> <PAD> <PAD> <PAD> <PAD> <...  0.053316      1\n",
       "63   동 <PAD> <PAD> <PAD> <PAD> <PAD> <PAD> <PAD> <P...  0.999973      0\n",
       "68             최저 시급 이 면 닥치고 함 <PAD> <PAD> <PAD> <PAD>  0.027550      1\n",
       "70            <OOV> 똥 치우다 다니다 신다 ㅗ 고 <OOV> <PAD> <PAD>  1.000000      0\n",
       "82   ㄹㅇ <PAD> <PAD> <PAD> <PAD> <PAD> <PAD> <PAD> <...  0.437951      1\n",
       "83   탑곰붕 이 <PAD> <PAD> <PAD> <PAD> <PAD> <PAD> <PAD...  0.849012      0\n",
       "88   돈 으로 힐링 <PAD> <PAD> <PAD> <PAD> <PAD> <PAD> <PAD>  0.988039      0\n",
       "89   주다 지랄 이여 <PAD> <PAD> <PAD> <PAD> <PAD> <PAD> <...  0.368954      1\n",
       "91           젠 지 킹 좋다 같다 <PAD> <PAD> <PAD> <PAD> <PAD>  0.000179      1\n",
       "94                        아오 쌍베 이 애국심 으로 가득 차다 녀석 아 !!  0.014817      1\n",
       "96             전기 과열 로 펑하 면 좋다 <PAD> <PAD> <PAD> <PAD>  0.012156      1\n",
       "98                             방금 6 법 3 공 4 쌈 으로 사기 치다  0.999586      0\n",
       "100  엉덩국 같다 ㅋㅋㅋ <PAD> <PAD> <PAD> <PAD> <PAD> <PAD>...  0.034565      1\n",
       "101            오염 되다 물 에 심다 자아 <PAD> <PAD> <PAD> <PAD>  0.001276      1\n",
       "102  인구 딸리다 <PAD> <PAD> <PAD> <PAD> <PAD> <PAD> <PA...  0.077615      1\n",
       "..                                                 ...       ...    ...\n",
       "469     얼굴 보다 일단 궁 <PAD> <PAD> <PAD> <PAD> <PAD> <PAD>  0.999542      0\n",
       "470  ㅇ <PAD> <PAD> <PAD> <PAD> <PAD> <PAD> <PAD> <P...  0.999908      0\n",
       "477             브베 야 안 1 마방 가다 <PAD> <PAD> <PAD> <PAD>  0.026542      1\n",
       "481    저쪽 은 3시 죽이다 <PAD> <PAD> <PAD> <PAD> <PAD> <PAD>  0.962920      0\n",
       "486     트수들 뽀뽀 ㅃ 해 <PAD> <PAD> <PAD> <PAD> <PAD> <PAD>  1.000000      0\n",
       "487  전 재산 기부 <PAD> <PAD> <PAD> <PAD> <PAD> <PAD> <PAD>  0.991299      0\n",
       "491  찍 <PAD> <PAD> <PAD> <PAD> <PAD> <PAD> <PAD> <P...  0.117592      1\n",
       "492  <OOV> <OOV> <PAD> <PAD> <PAD> <PAD> <PAD> <PAD...  0.948460      0\n",
       "493                               크다 리 드 템 플 러 ㅅ ㅅ ㅅ ㅅ  1.000000      0\n",
       "494  혐리건 on <PAD> <PAD> <PAD> <PAD> <PAD> <PAD> <PA...  0.052897      1\n",
       "495  발음 ㅋㅋㅋ <PAD> <PAD> <PAD> <PAD> <PAD> <PAD> <PA...  0.997135      0\n",
       "498  떽뜨따운드 <PAD> <PAD> <PAD> <PAD> <PAD> <PAD> <PAD...  0.196018      1\n",
       "503                    정글 탈 리야 는 이제 못 쓰다 ? <PAD> <PAD>  0.999521      0\n",
       "504  갓 리드 <PAD> <PAD> <PAD> <PAD> <PAD> <PAD> <PAD>...  0.158409      1\n",
       "505  기보배 다 ㅋㅋㅋ <PAD> <PAD> <PAD> <PAD> <PAD> <PAD> ...  0.036719      1\n",
       "512  고척돔 밖에 없다 <PAD> <PAD> <PAD> <PAD> <PAD> <PAD> ...  0.954918      0\n",
       "514                 오다 돈 자다 미치다 따다 머리색 넘다 이쁘다 !! <PAD>  1.000000      0\n",
       "515       노 하라 고 노 <PAD> <PAD> <PAD> <PAD> <PAD> <PAD>  0.112905      1\n",
       "516  밉다 쵸 따다 <PAD> <PAD> <PAD> <PAD> <PAD> <PAD> <PAD>  0.021666      1\n",
       "517             여 기안 온 곳 이다 개꿀 <PAD> <PAD> <PAD> <PAD>  0.024606      1\n",
       "520        이미 리버 준비 하다 듯 <PAD> <PAD> <PAD> <PAD> <PAD>  0.782554      0\n",
       "522  오다 저걸 막다 <PAD> <PAD> <PAD> <PAD> <PAD> <PAD> <...  0.995716      0\n",
       "526  <OOV> <PAD> <PAD> <PAD> <PAD> <PAD> <PAD> <PAD...  0.665824      0\n",
       "530     럭스 끄다 어어 억 <PAD> <PAD> <PAD> <PAD> <PAD> <PAD>  0.065291      1\n",
       "533  햄지털보터스 <PAD> <PAD> <PAD> <PAD> <PAD> <PAD> <PA...  0.187140      1\n",
       "535    항문 으로 기관총 찢기다 ㅋㅋㅋ <PAD> <PAD> <PAD> <PAD> <PAD>  0.033672      1\n",
       "543  뇌 내 <OOV> <PAD> <PAD> <PAD> <PAD> <PAD> <PAD> ...  0.314517      1\n",
       "544  목숨 걸다 하다 <PAD> <PAD> <PAD> <PAD> <PAD> <PAD> <...  0.957280      0\n",
       "547          네 손가락 으로 한번 에 누르다 <PAD> <PAD> <PAD> <PAD>  0.999986      0\n",
       "549   똥 가루 좀 <PAD> <PAD> <PAD> <PAD> <PAD> <PAD> <PAD>  0.009058      1\n",
       "\n",
       "[157 rows x 3 columns]"
      ]
     },
     "execution_count": 56,
     "metadata": {},
     "output_type": "execute_result"
    }
   ],
   "source": [
    "# 예측 실패 채팅\n",
    "result[model_down.predict_classes(down_X_test) != down_y_test]"
   ]
  },
  {
   "cell_type": "code",
   "execution_count": 69,
   "metadata": {
    "ExecuteTime": {
     "end_time": "2019-08-12T03:44:17.647632Z",
     "start_time": "2019-08-12T03:44:17.606661Z"
    }
   },
   "outputs": [
    {
     "name": "stdout",
     "output_type": "stream",
     "text": [
      "['시', '1123123123', '발']\n"
     ]
    },
    {
     "data": {
      "text/plain": [
       "array([[3.0939583e-16, 1.0000000e+00]], dtype=float32)"
      ]
     },
     "execution_count": 69,
     "metadata": {},
     "output_type": "execute_result"
    }
   ],
   "source": [
    "test_chat = \"시1123123123발\"\n",
    "test_id = text_to_index(morp.morphs(test_chat, norm=True,stem=True))\n",
    "\n",
    "sentence_size = 10\n",
    "x_padded_temp = sequence.pad_sequences([test_id],\n",
    "                                 maxlen=sentence_size,\n",
    "                                 truncating='post',\n",
    "                                 padding='post',\n",
    "                                 value=pad_id)\n",
    "print(morp.morphs(test_chat, norm=True,stem=True)[:10])\n",
    "model_down.predict(x_padded_temp)"
   ]
  },
  {
   "cell_type": "markdown",
   "metadata": {},
   "source": [
    "## 모델 체크포인트 저장"
   ]
  },
  {
   "cell_type": "code",
   "execution_count": 66,
   "metadata": {
    "ExecuteTime": {
     "end_time": "2019-08-12T03:40:00.748620Z",
     "start_time": "2019-08-12T03:39:56.667950Z"
    }
   },
   "outputs": [],
   "source": [
    "model_down.save('../model/cnn_oversample.h5')"
   ]
  },
  {
   "cell_type": "markdown",
   "metadata": {},
   "source": [
    "# TODO\n",
    "- 형태소별 Tokenize 말고 한글 자모별 Tokenize 하여 실험해보기\n",
    "- CNN layer / Parameter 변경시켜보기\n",
    "- 예측 결과 검정하기\n",
    "    - Attention 이용"
   ]
  }
 ],
 "metadata": {
  "kernelspec": {
   "display_name": "Python 3",
   "language": "python",
   "name": "python3"
  },
  "language_info": {
   "codemirror_mode": {
    "name": "ipython",
    "version": 3
   },
   "file_extension": ".py",
   "mimetype": "text/x-python",
   "name": "python",
   "nbconvert_exporter": "python",
   "pygments_lexer": "ipython3",
   "version": "3.7.3"
  }
 },
 "nbformat": 4,
 "nbformat_minor": 2
}
