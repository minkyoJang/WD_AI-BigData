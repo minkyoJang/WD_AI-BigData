{
 "cells": [
  {
   "cell_type": "code",
   "execution_count": 2,
   "metadata": {
    "ExecuteTime": {
     "end_time": "2019-08-23T06:11:56.327587Z",
     "start_time": "2019-08-23T06:11:28.670439Z"
    }
   },
   "outputs": [
    {
     "name": "stderr",
     "output_type": "stream",
     "text": [
      "Using TensorFlow backend.\n"
     ]
    }
   ],
   "source": [
    "from utils.bp_processing import bp_tokenize\n",
    "from keras.preprocessing.sequence import pad_sequences\n",
    "import numpy as np\n",
    "import torch\n",
    "from attention.attention_model import StructuredSelfAttention\n",
    "from torch.autograd import Variable"
   ]
  },
  {
   "cell_type": "code",
   "execution_count": 3,
   "metadata": {
    "ExecuteTime": {
     "end_time": "2019-08-23T06:11:56.344578Z",
     "start_time": "2019-08-23T06:11:56.332584Z"
    }
   },
   "outputs": [],
   "source": [
    "x_input = ['시1발']"
   ]
  },
  {
   "cell_type": "code",
   "execution_count": 4,
   "metadata": {
    "ExecuteTime": {
     "end_time": "2019-08-23T06:11:56.395549Z",
     "start_time": "2019-08-23T06:11:56.382559Z"
    }
   },
   "outputs": [],
   "source": [
    "MAX_LEN = 50\n",
    "VOCAB_SIZE = 260\n",
    "EMB_DIM = 30"
   ]
  },
  {
   "cell_type": "code",
   "execution_count": 5,
   "metadata": {
    "ExecuteTime": {
     "end_time": "2019-08-23T06:11:56.496490Z",
     "start_time": "2019-08-23T06:11:56.417537Z"
    }
   },
   "outputs": [
    {
     "name": "stderr",
     "output_type": "stream",
     "text": [
      "100%|████████████████████████████████████████████████████████████████████████████████████████████| 1/1 [00:00<?, ?it/s]\n"
     ]
    }
   ],
   "source": [
    "tokenized = bp_tokenize(x_input)\n",
    "\n",
    "x_padded = pad_sequences(tokenized, maxlen=MAX_LEN)"
   ]
  },
  {
   "cell_type": "code",
   "execution_count": 6,
   "metadata": {
    "ExecuteTime": {
     "end_time": "2019-08-23T06:11:56.774331Z",
     "start_time": "2019-08-23T06:11:56.504487Z"
    }
   },
   "outputs": [],
   "source": [
    "model = StructuredSelfAttention(batch_size=np.array(x_padded).shape[0],\n",
    "                                          lstm_hid_dim=50,\n",
    "                                          d_a=100,\n",
    "                                          r=10,\n",
    "                                          vocab_size=VOCAB_SIZE, \n",
    "                                          max_len=MAX_LEN,\n",
    "                                          )\n",
    "model = torch.load('./model/self_attention_bp.pt')"
   ]
  },
  {
   "cell_type": "code",
   "execution_count": 7,
   "metadata": {
    "ExecuteTime": {
     "end_time": "2019-08-23T06:11:56.827302Z",
     "start_time": "2019-08-23T06:11:56.789324Z"
    }
   },
   "outputs": [],
   "source": [
    "model.batch_size = np.array(x_padded).shape[0]\n",
    "model.hidden_state = model.init_hidden()"
   ]
  },
  {
   "cell_type": "code",
   "execution_count": 8,
   "metadata": {
    "ExecuteTime": {
     "end_time": "2019-08-23T06:11:57.104143Z",
     "start_time": "2019-08-23T06:11:56.838295Z"
    }
   },
   "outputs": [
    {
     "name": "stderr",
     "output_type": "stream",
     "text": [
      "C:\\Users\\skarn\\Anaconda3\\envs\\DataAnalysis\\lib\\site-packages\\torch\\nn\\functional.py:1320: UserWarning: nn.functional.tanh is deprecated. Use torch.tanh instead.\n",
      "  warnings.warn(\"nn.functional.tanh is deprecated. Use torch.tanh instead.\")\n",
      "E:\\data_campus\\korea-3\\src\\cyberafitti\\attention\\attention_model.py:68: UserWarning: Implicit dimension choice for softmax has been deprecated. Change the call to include dim=X as an argument.\n",
      "  soft_max_2d = F.softmax(input_2d)\n",
      "C:\\Users\\skarn\\Anaconda3\\envs\\DataAnalysis\\lib\\site-packages\\torch\\nn\\functional.py:1332: UserWarning: nn.functional.sigmoid is deprecated. Use torch.sigmoid instead.\n",
      "  warnings.warn(\"nn.functional.sigmoid is deprecated. Use torch.sigmoid instead.\")\n"
     ]
    }
   ],
   "source": [
    "x_torch = Variable(torch.from_numpy(x_padded).type(torch.LongTensor))\n",
    "y_test_pred, wts = model(x_torch)\n",
    "y_preds = torch.round(y_test_pred.type(torch.DoubleTensor).squeeze(1))"
   ]
  },
  {
   "cell_type": "code",
   "execution_count": 9,
   "metadata": {
    "ExecuteTime": {
     "end_time": "2019-08-23T06:11:57.189095Z",
     "start_time": "2019-08-23T06:11:57.122132Z"
    }
   },
   "outputs": [
    {
     "data": {
      "text/plain": [
       "tensor([[0.0201]], grad_fn=<SigmoidBackward>)"
      ]
     },
     "execution_count": 9,
     "metadata": {},
     "output_type": "execute_result"
    }
   ],
   "source": [
    "y_test_pred"
   ]
  },
  {
   "cell_type": "code",
   "execution_count": 10,
   "metadata": {
    "ExecuteTime": {
     "end_time": "2019-08-23T06:11:57.213084Z",
     "start_time": "2019-08-23T06:11:57.206086Z"
    }
   },
   "outputs": [],
   "source": [
    "wts_add_list = torch.sum(wts,1).data.numpy().tolist()"
   ]
  },
  {
   "cell_type": "code",
   "execution_count": 171,
   "metadata": {
    "ExecuteTime": {
     "end_time": "2019-08-23T03:10:26.939661Z",
     "start_time": "2019-08-23T03:10:26.931666Z"
    }
   },
   "outputs": [
    {
     "data": {
      "text/plain": [
       "b'\\xec'"
      ]
     },
     "execution_count": 171,
     "metadata": {},
     "output_type": "execute_result"
    }
   ],
   "source": [
    "bytes.fromhex(hex(236)[2:])"
   ]
  },
  {
   "cell_type": "code",
   "execution_count": 29,
   "metadata": {
    "ExecuteTime": {
     "end_time": "2019-08-23T06:19:21.425812Z",
     "start_time": "2019-08-23T06:19:21.409820Z"
    }
   },
   "outputs": [],
   "source": [
    "import re\n",
    "from functools import reduce\n",
    "def bpe_to_words(input_tensor):\n",
    "    '''\n",
    "    input_tensor : padded 된 1-d input tensor \n",
    "    return : 패딩이 섞인 원래 문장\n",
    "    '''\n",
    "    text = []\n",
    "    for tok in input_tensor.numpy().tolist():\n",
    "        if tok == 0:\n",
    "            text.append(b'0')\n",
    "        else:\n",
    "            text.append(bytes.fromhex(hex(int(tok))[-2:]))\n",
    "        \n",
    "    text = b''.join(text).decode('utf-8')\n",
    "    \n",
    "    \n",
    "    return reduce(lambda x,y:re.sub(y, y+\"__\", x), set(re.findall(r'[가-힣]', text)), text)"
   ]
  },
  {
   "cell_type": "code",
   "execution_count": 30,
   "metadata": {
    "ExecuteTime": {
     "end_time": "2019-08-23T06:19:22.610131Z",
     "start_time": "2019-08-23T06:19:22.590143Z"
    }
   },
   "outputs": [
    {
     "data": {
      "text/plain": [
       "'0000000000000000000000000000000000000000000시__1발__'"
      ]
     },
     "execution_count": 30,
     "metadata": {},
     "output_type": "execute_result"
    }
   ],
   "source": [
    "bpe_to_words(x_torch[0])"
   ]
  },
  {
   "cell_type": "code",
   "execution_count": 26,
   "metadata": {
    "ExecuteTime": {
     "end_time": "2019-08-23T06:18:42.673021Z",
     "start_time": "2019-08-23T06:18:42.667025Z"
    }
   },
   "outputs": [],
   "source": [
    "txt = '0000000000000000000000000000000000000000000시1발'"
   ]
  },
  {
   "cell_type": "code",
   "execution_count": 28,
   "metadata": {
    "ExecuteTime": {
     "end_time": "2019-08-23T06:18:52.562355Z",
     "start_time": "2019-08-23T06:18:52.548362Z"
    }
   },
   "outputs": [
    {
     "data": {
      "text/plain": [
       "50"
      ]
     },
     "execution_count": 28,
     "metadata": {},
     "output_type": "execute_result"
    }
   ],
   "source": []
  },
  {
   "cell_type": "code",
   "execution_count": null,
   "metadata": {},
   "outputs": [],
   "source": []
  },
  {
   "cell_type": "code",
   "execution_count": 218,
   "metadata": {
    "ExecuteTime": {
     "end_time": "2019-08-23T03:39:38.622664Z",
     "start_time": "2019-08-23T03:39:38.603682Z"
    }
   },
   "outputs": [
    {
     "data": {
      "text/plain": [
       "'0000000000000000000000000000000000000000000시1발'"
      ]
     },
     "execution_count": 218,
     "metadata": {},
     "output_type": "execute_result"
    }
   ],
   "source": [
    "bpe_to_words(x_torch[0])"
   ]
  },
  {
   "cell_type": "code",
   "execution_count": null,
   "metadata": {},
   "outputs": [],
   "source": [
    "(234~237),(128~191),(128~191)"
   ]
  },
  {
   "cell_type": "code",
   "execution_count": 126,
   "metadata": {
    "ExecuteTime": {
     "end_time": "2019-08-23T02:52:01.599379Z",
     "start_time": "2019-08-23T02:52:01.584386Z"
    }
   },
   "outputs": [
    {
     "data": {
      "text/plain": [
       "tensor([[  0,   0,   0,   0,   0,   0,   0,   0,   0,   0,   0,   0,   0,   0,\n",
       "           0,   0,   0,   0,   0,   0,   0,   0,   0,   0,   0,   0,   0,   0,\n",
       "           0,   0,   0,   0,   0,   0,   0,   0,   0,   0,   0,   0,   0,   0,\n",
       "           0, 236, 139, 156,  49, 235, 176, 156]])"
      ]
     },
     "execution_count": 126,
     "metadata": {},
     "output_type": "execute_result"
    }
   ],
   "source": [
    "x_torch"
   ]
  },
  {
   "cell_type": "code",
   "execution_count": 58,
   "metadata": {
    "ExecuteTime": {
     "end_time": "2019-08-23T02:11:30.835816Z",
     "start_time": "2019-08-23T02:11:30.825821Z"
    }
   },
   "outputs": [
    {
     "data": {
      "text/plain": [
       "[[0.00023045219131745398,\n",
       "  8.929036994231865e-05,\n",
       "  7.590543646074366e-06,\n",
       "  8.444231934845448e-05,\n",
       "  0.012089559808373451,\n",
       "  0.06379841268062592,\n",
       "  0.17028647661209106,\n",
       "  0.2387550175189972,\n",
       "  0.2860112190246582,\n",
       "  0.32808104157447815,\n",
       "  0.37468695640563965,\n",
       "  0.4260358214378357,\n",
       "  0.47633668780326843,\n",
       "  0.5179780721664429,\n",
       "  0.5460591912269592,\n",
       "  0.5599236488342285,\n",
       "  0.5616238117218018,\n",
       "  0.553927481174469,\n",
       "  0.5392470955848694,\n",
       "  0.5193531513214111,\n",
       "  0.4954443871974945,\n",
       "  0.46831202507019043,\n",
       "  0.43850046396255493,\n",
       "  0.4064144194126129,\n",
       "  0.3723902702331543,\n",
       "  0.3367307782173157,\n",
       "  0.2997152805328369,\n",
       "  0.2615862488746643,\n",
       "  0.2225084751844406,\n",
       "  0.18252815306186676,\n",
       "  0.1416492760181427,\n",
       "  0.10031632333993912,\n",
       "  0.06065843999385834,\n",
       "  0.027941832318902016,\n",
       "  0.008472897112369537,\n",
       "  0.0016673358622938395,\n",
       "  0.00031440152088180184,\n",
       "  9.355617658002302e-05,\n",
       "  4.471356078283861e-05,\n",
       "  2.7406520530348644e-05,\n",
       "  1.8449321942171082e-05,\n",
       "  1.2925126611662563e-05,\n",
       "  9.457606211071834e-06,\n",
       "  7.351440672209719e-06,\n",
       "  6.101588951423764e-06,\n",
       "  5.360565410228446e-06,\n",
       "  4.915438694297336e-06,\n",
       "  4.642792646336602e-06,\n",
       "  4.471925876714522e-06,\n",
       "  4.362179879535688e-06]]"
      ]
     },
     "execution_count": 58,
     "metadata": {},
     "output_type": "execute_result"
    }
   ],
   "source": [
    "wts_add_list"
   ]
  },
  {
   "cell_type": "code",
   "execution_count": 17,
   "metadata": {
    "ExecuteTime": {
     "end_time": "2019-08-23T01:42:26.101198Z",
     "start_time": "2019-08-23T01:42:26.095202Z"
    }
   },
   "outputs": [],
   "source": [
    "putQuote = lambda x: \"\\\"%s\\\"\"%x\n",
    "textsString = \"var any_text = [%s];\\n\"%(\",\".join(map(putQuote, x_input)))\n",
    "weightsString = \"var trigram_weights = [%s];\\n\"%(\",\".join(map(str,wts_add_list)))\n",
    "# fOut.write(part1)\n",
    "# fOut.write(textsString)\n",
    "# fOut.write(weightsString)\n",
    "# fOut.write(part2)\n",
    "# fOut.close()"
   ]
  },
  {
   "cell_type": "code",
   "execution_count": 19,
   "metadata": {
    "ExecuteTime": {
     "end_time": "2019-08-23T01:42:33.730824Z",
     "start_time": "2019-08-23T01:42:33.721849Z"
    }
   },
   "outputs": [
    {
     "data": {
      "text/plain": [
       "('var any_text = [\"시1발\"];\\n',\n",
       " 'var trigram_weights = [[0.24050356447696686, 0.09745665639638901, 0.007978110574185848, 0.08319713920354843, 0.1221911683678627, 1.8443886041641235, 1.3565956354141235, 2.3858635425567627, 2.2434144020080566, 1.0688000917434692, 0.2642684578895569, 0.061728790402412415, 0.02641034871339798, 0.017399977892637253, 0.012993725016713142, 0.01013429556041956, 0.008116078563034534, 0.006737140007317066, 0.0058501833118498325, 0.00529862567782402, 0.004956598859280348, 0.004741224460303783, 0.004602307919412851, 0.0045102122239768505, 0.00444742850959301, 0.004403487779200077, 0.004372000228613615, 0.00434897793456912, 0.004331853706389666, 0.004318938124924898, 0.004309084266424179, 0.004301499109715223, 0.004295613616704941, 0.004291018471121788, 0.0042874133214354515, 0.004284573718905449, 0.004282331094145775, 0.004280552268028259, 0.004279138520359993, 0.004278014879673719, 0.004277118947356939, 0.004276401828974485, 0.004275830462574959, 0.004275372717529535, 0.004275005776435137, 0.004274711944162846, 0.004274474922567606, 0.004274286329746246, 0.00427413871511817, 0.004274015314877033]];\\n')"
      ]
     },
     "execution_count": 19,
     "metadata": {},
     "output_type": "execute_result"
    }
   ],
   "source": [
    "textsString, weightsString"
   ]
  }
 ],
 "metadata": {
  "kernelspec": {
   "display_name": "Python 3",
   "language": "python",
   "name": "python3"
  },
  "language_info": {
   "codemirror_mode": {
    "name": "ipython",
    "version": 3
   },
   "file_extension": ".py",
   "mimetype": "text/x-python",
   "name": "python",
   "nbconvert_exporter": "python",
   "pygments_lexer": "ipython3",
   "version": "3.7.3"
  }
 },
 "nbformat": 4,
 "nbformat_minor": 2
}
