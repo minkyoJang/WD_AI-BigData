{
 "cells": [
  {
   "cell_type": "code",
   "execution_count": 1,
   "metadata": {
    "ExecuteTime": {
     "end_time": "2019-08-12T03:40:31.068189Z",
     "start_time": "2019-08-12T03:40:21.319789Z"
    }
   },
   "outputs": [
    {
     "name": "stdout",
     "output_type": "stream",
     "text": [
      "Chan 2019-08-12 \n",
      "\n",
      "CPython 3.7.3\n",
      "IPython 7.6.1\n",
      "\n",
      "numpy 1.16.4\n",
      "pandas 0.24.2\n",
      "konlpy 0.5.1\n",
      "tensorflow 1.13.1\n"
     ]
    }
   ],
   "source": [
    "%load_ext watermark\n",
    "%watermark -a Chan -d -v -p numpy,pandas,konlpy,tensorflow"
   ]
  },
  {
   "cell_type": "code",
   "execution_count": 2,
   "metadata": {
    "ExecuteTime": {
     "end_time": "2019-08-12T03:40:31.124158Z",
     "start_time": "2019-08-12T03:40:31.074186Z"
    }
   },
   "outputs": [],
   "source": [
    "import numpy as np\n",
    "import pandas as pd\n",
    "from konlpy.tag import Okt\n",
    "import tensorflow as tf\n",
    "from tensorflow.python.keras.preprocessing import sequence\n",
    "from tensorflow import keras\n",
    "from tqdm import tqdm\n",
    "from collections import Counter\n",
    "import pickle"
   ]
  },
  {
   "cell_type": "code",
   "execution_count": 3,
   "metadata": {
    "ExecuteTime": {
     "end_time": "2019-08-12T03:40:31.137150Z",
     "start_time": "2019-08-12T03:40:31.130156Z"
    }
   },
   "outputs": [],
   "source": [
    "# 각 동영상별로 count해야한다. 일단 dump파일로 짜놓기"
   ]
  },
  {
   "cell_type": "code",
   "execution_count": 4,
   "metadata": {
    "ExecuteTime": {
     "end_time": "2019-08-12T03:40:31.287065Z",
     "start_time": "2019-08-12T03:40:31.143148Z"
    }
   },
   "outputs": [
    {
     "name": "stdout",
     "output_type": "stream",
     "text": [
      "9\n"
     ]
    },
    {
     "data": {
      "text/html": [
       "<div>\n",
       "<style scoped>\n",
       "    .dataframe tbody tr th:only-of-type {\n",
       "        vertical-align: middle;\n",
       "    }\n",
       "\n",
       "    .dataframe tbody tr th {\n",
       "        vertical-align: top;\n",
       "    }\n",
       "\n",
       "    .dataframe thead th {\n",
       "        text-align: right;\n",
       "    }\n",
       "</style>\n",
       "<table border=\"1\" class=\"dataframe\">\n",
       "  <thead>\n",
       "    <tr style=\"text-align: right;\">\n",
       "      <th></th>\n",
       "      <th>comment</th>\n",
       "      <th>url_id</th>\n",
       "      <th>label</th>\n",
       "    </tr>\n",
       "  </thead>\n",
       "  <tbody>\n",
       "    <tr>\n",
       "      <th>0</th>\n",
       "      <td>궁</td>\n",
       "      <td>23</td>\n",
       "      <td>0</td>\n",
       "    </tr>\n",
       "    <tr>\n",
       "      <th>1</th>\n",
       "      <td>진에어 화이팅!</td>\n",
       "      <td>11</td>\n",
       "      <td>0</td>\n",
       "    </tr>\n",
       "    <tr>\n",
       "      <th>2</th>\n",
       "      <td>ㅋㅋㅋㅋㅋㅋㅋㅋㅋㅋ</td>\n",
       "      <td>12</td>\n",
       "      <td>0</td>\n",
       "    </tr>\n",
       "    <tr>\n",
       "      <th>3</th>\n",
       "      <td>싹둑이 채팅창 관리 중입니다</td>\n",
       "      <td>34</td>\n",
       "      <td>0</td>\n",
       "    </tr>\n",
       "    <tr>\n",
       "      <th>4</th>\n",
       "      <td>앗</td>\n",
       "      <td>52</td>\n",
       "      <td>0</td>\n",
       "    </tr>\n",
       "  </tbody>\n",
       "</table>\n",
       "</div>"
      ],
      "text/plain": [
       "           comment  url_id  label\n",
       "0                궁      23      0\n",
       "1         진에어 화이팅!      11      0\n",
       "2       ㅋㅋㅋㅋㅋㅋㅋㅋㅋㅋ      12      0\n",
       "3  싹둑이 채팅창 관리 중입니다      34      0\n",
       "4                앗      52      0"
      ]
     },
     "execution_count": 4,
     "metadata": {},
     "output_type": "execute_result"
    }
   ],
   "source": [
    "datasets = pd.DataFrame()\n",
    "for i in range(9,10):\n",
    "    print(i)\n",
    "    dump = pd.read_csv(\"../../data/labeled ({}).csv\".format(i), engine='python')\n",
    "    datasets = pd.concat([datasets, dump])\n",
    "datasets.head()"
   ]
  },
  {
   "cell_type": "code",
   "execution_count": 5,
   "metadata": {
    "ExecuteTime": {
     "end_time": "2019-08-12T03:40:31.313050Z",
     "start_time": "2019-08-12T03:40:31.292061Z"
    }
   },
   "outputs": [
    {
     "name": "stdout",
     "output_type": "stream",
     "text": [
      "<class 'pandas.core.frame.DataFrame'>\n",
      "RangeIndex: 3000 entries, 0 to 2999\n",
      "Data columns (total 3 columns):\n",
      "comment    2998 non-null object\n",
      "url_id     3000 non-null int64\n",
      "label      3000 non-null int64\n",
      "dtypes: int64(2), object(1)\n",
      "memory usage: 70.4+ KB\n"
     ]
    }
   ],
   "source": [
    "datasets.info()"
   ]
  },
  {
   "cell_type": "code",
   "execution_count": 6,
   "metadata": {
    "ExecuteTime": {
     "end_time": "2019-08-12T03:40:31.332038Z",
     "start_time": "2019-08-12T03:40:31.322044Z"
    }
   },
   "outputs": [],
   "source": [
    "datasets.fillna('null',inplace=True)"
   ]
  },
  {
   "cell_type": "code",
   "execution_count": 7,
   "metadata": {
    "ExecuteTime": {
     "end_time": "2019-08-12T03:40:31.363021Z",
     "start_time": "2019-08-12T03:40:31.341034Z"
    }
   },
   "outputs": [
    {
     "data": {
      "text/plain": [
       "3000"
      ]
     },
     "execution_count": 7,
     "metadata": {},
     "output_type": "execute_result"
    }
   ],
   "source": [
    "len(datasets)"
   ]
  },
  {
   "cell_type": "code",
   "execution_count": 8,
   "metadata": {
    "ExecuteTime": {
     "end_time": "2019-08-12T03:40:51.551428Z",
     "start_time": "2019-08-12T03:40:31.371032Z"
    }
   },
   "outputs": [
    {
     "name": "stderr",
     "output_type": "stream",
     "text": [
      "C:\\Users\\skarn\\Anaconda3\\envs\\DataAnalysis\\lib\\site-packages\\jpype\\_core.py:210: UserWarning: \n",
      "-------------------------------------------------------------------------------\n",
      "Deprecated: convertStrings was not specified when starting the JVM. The default\n",
      "behavior in JPype will be False starting in JPype 0.8. The recommended setting\n",
      "for new code is convertStrings=False.  The legacy value of True was assumed for\n",
      "this session. If you are a user of an application that reported this warning,\n",
      "please file a ticket with the developer.\n",
      "-------------------------------------------------------------------------------\n",
      "\n",
      "  \"\"\")\n",
      "100%|█████████████████████████████████████████████████████████████████████████████| 3000/3000 [00:19<00:00, 155.15it/s]\n"
     ]
    }
   ],
   "source": [
    "morp = Okt()\n",
    "morped = [morp.morphs(_, norm=True, stem=True) for _ in tqdm(datasets.comment)]"
   ]
  },
  {
   "cell_type": "code",
   "execution_count": 9,
   "metadata": {
    "ExecuteTime": {
     "end_time": "2019-08-12T03:40:51.581410Z",
     "start_time": "2019-08-12T03:40:51.564420Z"
    }
   },
   "outputs": [
    {
     "data": {
      "text/plain": [
       "[['궁'],\n",
       " ['진에어', '화이팅', '!'],\n",
       " ['ㅋㅋㅋ'],\n",
       " ['싹둑', '이', '채팅', '창', '관리', '중', '이다'],\n",
       " ['앗']]"
      ]
     },
     "execution_count": 9,
     "metadata": {},
     "output_type": "execute_result"
    }
   ],
   "source": [
    "morped[:5]"
   ]
  },
  {
   "cell_type": "code",
   "execution_count": 10,
   "metadata": {
    "ExecuteTime": {
     "end_time": "2019-08-12T03:40:51.646370Z",
     "start_time": "2019-08-12T03:40:51.587407Z"
    }
   },
   "outputs": [],
   "source": [
    "# load vocab\n",
    "with open('./vocab/vocab_index.pickle', 'rb') as f:\n",
    "    vocab_index = pickle.load(f)\n",
    "with open('./vocab/vocab_inverted_index.pickle', 'rb') as f:\n",
    "    vocab_inverted_index = pickle.load(f)"
   ]
  },
  {
   "cell_type": "code",
   "execution_count": 11,
   "metadata": {
    "ExecuteTime": {
     "end_time": "2019-08-12T03:40:51.710336Z",
     "start_time": "2019-08-12T03:40:51.652368Z"
    }
   },
   "outputs": [],
   "source": [
    "def text_to_index(tokens):\n",
    "    oov_id = 1\n",
    "    indexes = []\n",
    "    for tok in tokens:\n",
    "        if tok in vocab_index:\n",
    "            indexes.append(vocab_index[tok])\n",
    "        else:\n",
    "            indexes.append(oov_id)\n",
    "\n",
    "    return indexes"
   ]
  },
  {
   "cell_type": "code",
   "execution_count": 12,
   "metadata": {
    "ExecuteTime": {
     "end_time": "2019-08-12T03:40:51.863246Z",
     "start_time": "2019-08-12T03:40:51.737321Z"
    }
   },
   "outputs": [],
   "source": [
    "pad_id = 0\n",
    "\n",
    "x_variable = [text_to_index(_) for _ in morped]\n",
    "\n",
    "sentence_size = 10\n",
    "x_padded = sequence.pad_sequences(x_variable,\n",
    "                                 maxlen=sentence_size,\n",
    "                                 truncating='post',\n",
    "                                 padding='post',\n",
    "                                 value=pad_id)"
   ]
  },
  {
   "cell_type": "markdown",
   "metadata": {},
   "source": [
    "# Load Model "
   ]
  },
  {
   "cell_type": "code",
   "execution_count": 13,
   "metadata": {
    "ExecuteTime": {
     "end_time": "2019-08-12T03:40:55.542133Z",
     "start_time": "2019-08-12T03:40:51.888232Z"
    }
   },
   "outputs": [
    {
     "name": "stdout",
     "output_type": "stream",
     "text": [
      "WARNING:tensorflow:From C:\\Users\\skarn\\Anaconda3\\envs\\DataAnalysis\\lib\\site-packages\\tensorflow\\python\\ops\\resource_variable_ops.py:435: colocate_with (from tensorflow.python.framework.ops) is deprecated and will be removed in a future version.\n",
      "Instructions for updating:\n",
      "Colocations handled automatically by placer.\n",
      "WARNING:tensorflow:From C:\\Users\\skarn\\Anaconda3\\envs\\DataAnalysis\\lib\\site-packages\\tensorflow\\python\\keras\\layers\\core.py:143: calling dropout (from tensorflow.python.ops.nn_ops) with keep_prob is deprecated and will be removed in a future version.\n",
      "Instructions for updating:\n",
      "Please use `rate` instead of `keep_prob`. Rate should be set to `rate = 1 - keep_prob`.\n",
      "WARNING:tensorflow:From C:\\Users\\skarn\\Anaconda3\\envs\\DataAnalysis\\lib\\site-packages\\tensorflow\\python\\ops\\math_ops.py:3066: to_int32 (from tensorflow.python.ops.math_ops) is deprecated and will be removed in a future version.\n",
      "Instructions for updating:\n",
      "Use tf.cast instead.\n",
      "WARNING:tensorflow:From C:\\Users\\skarn\\Anaconda3\\envs\\DataAnalysis\\lib\\site-packages\\tensorflow\\python\\ops\\math_grad.py:102: div (from tensorflow.python.ops.math_ops) is deprecated and will be removed in a future version.\n",
      "Instructions for updating:\n",
      "Deprecated in favor of operator or tf.math.divide.\n",
      "_________________________________________________________________\n",
      "Layer (type)                 Output Shape              Param #   \n",
      "=================================================================\n",
      "embedding_2 (Embedding)      (None, None, 10)          100000    \n",
      "_________________________________________________________________\n",
      "conv1d_4 (Conv1D)            (None, None, 32)          992       \n",
      "_________________________________________________________________\n",
      "dropout_4 (Dropout)          (None, None, 32)          0         \n",
      "_________________________________________________________________\n",
      "conv1d_5 (Conv1D)            (None, None, 32)          3104      \n",
      "_________________________________________________________________\n",
      "global_max_pooling1d_2 (Glob (None, 32)                0         \n",
      "_________________________________________________________________\n",
      "dropout_5 (Dropout)          (None, 32)                0         \n",
      "_________________________________________________________________\n",
      "dense_2 (Dense)              (None, 2)                 66        \n",
      "=================================================================\n",
      "Total params: 104,162\n",
      "Trainable params: 104,162\n",
      "Non-trainable params: 0\n",
      "_________________________________________________________________\n"
     ]
    }
   ],
   "source": [
    "new_model = keras.models.load_model('../model/cnn_oversample.h5')\n",
    "new_model.summary()"
   ]
  },
  {
   "cell_type": "code",
   "execution_count": 14,
   "metadata": {
    "ExecuteTime": {
     "end_time": "2019-08-12T03:40:56.261722Z",
     "start_time": "2019-08-12T03:40:55.555126Z"
    }
   },
   "outputs": [],
   "source": [
    "datasets['predict'] = new_model.predict_classes(x_padded)"
   ]
  },
  {
   "cell_type": "code",
   "execution_count": 15,
   "metadata": {
    "ExecuteTime": {
     "end_time": "2019-08-12T03:40:56.279710Z",
     "start_time": "2019-08-12T03:40:56.267716Z"
    }
   },
   "outputs": [
    {
     "data": {
      "text/plain": [
       "['loss', 'recall_10']"
      ]
     },
     "execution_count": 15,
     "metadata": {},
     "output_type": "execute_result"
    }
   ],
   "source": [
    "new_model.metrics_names"
   ]
  },
  {
   "cell_type": "code",
   "execution_count": 16,
   "metadata": {
    "ExecuteTime": {
     "end_time": "2019-08-12T03:40:57.148214Z",
     "start_time": "2019-08-12T03:40:56.285706Z"
    }
   },
   "outputs": [
    {
     "name": "stdout",
     "output_type": "stream",
     "text": [
      "3000/3000 [==============================] - ETA: 44s - loss: 0.8468 - recall_10: 0.78 - ETA: 2s - loss: 2.0507 - recall_10: 0.6777 - ETA: 1s - loss: 2.2407 - recall_10: 0.667 - ETA: 0s - loss: 2.3112 - recall_10: 0.662 - ETA: 0s - loss: 2.3430 - recall_10: 0.660 - ETA: 0s - loss: 2.3365 - recall_10: 0.665 - 1s 257us/sample - loss: 2.3104 - recall_10: 0.6663\n"
     ]
    },
    {
     "data": {
      "text/plain": [
       "[2.3104324951171873, 0.6663333]"
      ]
     },
     "execution_count": 16,
     "metadata": {},
     "output_type": "execute_result"
    }
   ],
   "source": [
    "new_model.evaluate(x_padded, pd.get_dummies(datasets.label)) # loss, acc"
   ]
  },
  {
   "cell_type": "markdown",
   "metadata": {},
   "source": [
    "## 비속어 사전 기반 필터링의 경우"
   ]
  },
  {
   "cell_type": "code",
   "execution_count": 17,
   "metadata": {
    "ExecuteTime": {
     "end_time": "2019-08-12T03:40:57.162204Z",
     "start_time": "2019-08-12T03:40:57.154209Z"
    }
   },
   "outputs": [],
   "source": [
    "from auto_label import auto_label\n",
    "import pandas as pd"
   ]
  },
  {
   "cell_type": "code",
   "execution_count": 18,
   "metadata": {
    "ExecuteTime": {
     "end_time": "2019-08-12T03:40:57.254150Z",
     "start_time": "2019-08-12T03:40:57.168201Z"
    }
   },
   "outputs": [],
   "source": [
    "result = auto_label(datasets,'./word-fobidden.json')"
   ]
  },
  {
   "cell_type": "code",
   "execution_count": 19,
   "metadata": {
    "ExecuteTime": {
     "end_time": "2019-08-12T03:40:57.278137Z",
     "start_time": "2019-08-12T03:40:57.258150Z"
    }
   },
   "outputs": [
    {
     "data": {
      "text/html": [
       "<div>\n",
       "<style scoped>\n",
       "    .dataframe tbody tr th:only-of-type {\n",
       "        vertical-align: middle;\n",
       "    }\n",
       "\n",
       "    .dataframe tbody tr th {\n",
       "        vertical-align: top;\n",
       "    }\n",
       "\n",
       "    .dataframe thead th {\n",
       "        text-align: right;\n",
       "    }\n",
       "</style>\n",
       "<table border=\"1\" class=\"dataframe\">\n",
       "  <thead>\n",
       "    <tr style=\"text-align: right;\">\n",
       "      <th></th>\n",
       "      <th>comment</th>\n",
       "      <th>url_id</th>\n",
       "      <th>label</th>\n",
       "      <th>predict</th>\n",
       "      <th>filtered</th>\n",
       "    </tr>\n",
       "  </thead>\n",
       "  <tbody>\n",
       "    <tr>\n",
       "      <th>0</th>\n",
       "      <td>궁</td>\n",
       "      <td>23</td>\n",
       "      <td>0</td>\n",
       "      <td>0</td>\n",
       "      <td>0</td>\n",
       "    </tr>\n",
       "    <tr>\n",
       "      <th>1</th>\n",
       "      <td>진에어 화이팅!</td>\n",
       "      <td>11</td>\n",
       "      <td>0</td>\n",
       "      <td>0</td>\n",
       "      <td>0</td>\n",
       "    </tr>\n",
       "    <tr>\n",
       "      <th>2</th>\n",
       "      <td>ㅋㅋㅋㅋㅋㅋㅋㅋㅋㅋ</td>\n",
       "      <td>12</td>\n",
       "      <td>0</td>\n",
       "      <td>0</td>\n",
       "      <td>0</td>\n",
       "    </tr>\n",
       "    <tr>\n",
       "      <th>3</th>\n",
       "      <td>싹둑이 채팅창 관리 중입니다</td>\n",
       "      <td>34</td>\n",
       "      <td>0</td>\n",
       "      <td>0</td>\n",
       "      <td>0</td>\n",
       "    </tr>\n",
       "    <tr>\n",
       "      <th>4</th>\n",
       "      <td>앗</td>\n",
       "      <td>52</td>\n",
       "      <td>0</td>\n",
       "      <td>0</td>\n",
       "      <td>0</td>\n",
       "    </tr>\n",
       "  </tbody>\n",
       "</table>\n",
       "</div>"
      ],
      "text/plain": [
       "           comment  url_id  label  predict  filtered\n",
       "0                궁      23      0        0         0\n",
       "1         진에어 화이팅!      11      0        0         0\n",
       "2       ㅋㅋㅋㅋㅋㅋㅋㅋㅋㅋ      12      0        0         0\n",
       "3  싹둑이 채팅창 관리 중입니다      34      0        0         0\n",
       "4                앗      52      0        0         0"
      ]
     },
     "execution_count": 19,
     "metadata": {},
     "output_type": "execute_result"
    }
   ],
   "source": [
    "result.head()"
   ]
  },
  {
   "cell_type": "code",
   "execution_count": 20,
   "metadata": {
    "ExecuteTime": {
     "end_time": "2019-08-12T03:40:57.299124Z",
     "start_time": "2019-08-12T03:40:57.283136Z"
    }
   },
   "outputs": [],
   "source": [
    "recall_data = result[result.label==1]"
   ]
  },
  {
   "cell_type": "code",
   "execution_count": 21,
   "metadata": {
    "ExecuteTime": {
     "end_time": "2019-08-12T03:40:57.328112Z",
     "start_time": "2019-08-12T03:40:57.307119Z"
    }
   },
   "outputs": [
    {
     "data": {
      "text/plain": [
       "169"
      ]
     },
     "execution_count": 21,
     "metadata": {},
     "output_type": "execute_result"
    }
   ],
   "source": [
    "len(recall_data)"
   ]
  },
  {
   "cell_type": "code",
   "execution_count": 22,
   "metadata": {
    "ExecuteTime": {
     "end_time": "2019-08-12T03:40:57.359091Z",
     "start_time": "2019-08-12T03:40:57.343099Z"
    }
   },
   "outputs": [
    {
     "data": {
      "text/plain": [
       "(129, 40)"
      ]
     },
     "execution_count": 22,
     "metadata": {},
     "output_type": "execute_result"
    }
   ],
   "source": [
    "sum(recall_data.predict), sum(recall_data.predict==0)"
   ]
  },
  {
   "cell_type": "code",
   "execution_count": 23,
   "metadata": {
    "ExecuteTime": {
     "end_time": "2019-08-12T03:40:57.385075Z",
     "start_time": "2019-08-12T03:40:57.365091Z"
    }
   },
   "outputs": [
    {
     "data": {
      "text/plain": [
       "(30, 139)"
      ]
     },
     "execution_count": 23,
     "metadata": {},
     "output_type": "execute_result"
    }
   ],
   "source": [
    "sum(recall_data.filtered==1), sum(recall_data.filtered==0)"
   ]
  },
  {
   "cell_type": "code",
   "execution_count": 24,
   "metadata": {
    "ExecuteTime": {
     "end_time": "2019-08-12T03:40:57.419056Z",
     "start_time": "2019-08-12T03:40:57.393071Z"
    }
   },
   "outputs": [
    {
     "data": {
      "text/plain": [
       "0.7633136094674556"
      ]
     },
     "execution_count": 24,
     "metadata": {},
     "output_type": "execute_result"
    }
   ],
   "source": [
    "sum(recall_data.predict)/len(recall_data) # 모델 방법의 recall"
   ]
  },
  {
   "cell_type": "code",
   "execution_count": 25,
   "metadata": {
    "ExecuteTime": {
     "end_time": "2019-08-12T03:40:57.447040Z",
     "start_time": "2019-08-12T03:40:57.424052Z"
    }
   },
   "outputs": [
    {
     "data": {
      "text/plain": [
       "0.17751479289940827"
      ]
     },
     "execution_count": 25,
     "metadata": {},
     "output_type": "execute_result"
    }
   ],
   "source": [
    "sum(recall_data.filtered)/len(recall_data) # 비속어사전 방법의 recall"
   ]
  },
  {
   "cell_type": "markdown",
   "metadata": {},
   "source": [
    "#### 전체 채팅 중 유해채팅 비율"
   ]
  },
  {
   "cell_type": "code",
   "execution_count": 27,
   "metadata": {
    "ExecuteTime": {
     "end_time": "2019-08-12T03:40:57.530993Z",
     "start_time": "2019-08-12T03:40:57.499012Z"
    }
   },
   "outputs": [
    {
     "data": {
      "text/plain": [
       "0.05633333333333333"
      ]
     },
     "execution_count": 27,
     "metadata": {},
     "output_type": "execute_result"
    }
   ],
   "source": [
    "datasets.label.sum() / len(datasets)"
   ]
  },
  {
   "cell_type": "markdown",
   "metadata": {},
   "source": [
    "> 8%가 적당하다"
   ]
  },
  {
   "cell_type": "code",
   "execution_count": 28,
   "metadata": {
    "ExecuteTime": {
     "end_time": "2019-08-12T03:40:57.595952Z",
     "start_time": "2019-08-12T03:40:57.539987Z"
    }
   },
   "outputs": [],
   "source": [
    "recall_data.to_csv('./result/cnn_result.csv', encoding='euc-kr')"
   ]
  }
 ],
 "metadata": {
  "kernelspec": {
   "display_name": "Python 3",
   "language": "python",
   "name": "python3"
  },
  "language_info": {
   "codemirror_mode": {
    "name": "ipython",
    "version": 3
   },
   "file_extension": ".py",
   "mimetype": "text/x-python",
   "name": "python",
   "nbconvert_exporter": "python",
   "pygments_lexer": "ipython3",
   "version": "3.7.3"
  }
 },
 "nbformat": 4,
 "nbformat_minor": 2
}
