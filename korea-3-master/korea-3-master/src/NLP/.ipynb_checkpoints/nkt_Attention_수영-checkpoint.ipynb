{
 "cells": [
  {
   "cell_type": "code",
   "execution_count": 1,
   "metadata": {
    "ExecuteTime": {
     "end_time": "2019-08-22T05:09:48.190947Z",
     "start_time": "2019-08-22T05:09:28.814036Z"
    }
   },
   "outputs": [
    {
     "name": "stderr",
     "output_type": "stream",
     "text": [
      "Using TensorFlow backend.\n"
     ]
    },
    {
     "name": "stdout",
     "output_type": "stream",
     "text": [
      "Chan 2019-08-22 \n",
      "\n",
      "numpy 1.16.4\n",
      "pandas 0.24.2\n",
      "konlpy 0.5.1\n",
      "torch 1.0.1\n",
      "keras 2.2.4\n"
     ]
    }
   ],
   "source": [
    "%load_ext watermark\n",
    "%watermark -a Chan -d -p numpy,pandas,konlpy,torch,keras"
   ]
  },
  {
   "cell_type": "code",
   "execution_count": 2,
   "metadata": {
    "ExecuteTime": {
     "end_time": "2019-08-22T05:09:48.253911Z",
     "start_time": "2019-08-22T05:09:48.195945Z"
    }
   },
   "outputs": [],
   "source": [
    "import pandas as pd\n",
    "import numpy as np\n",
    "import konlpy\n",
    "from utils.bp_processing import bp_tokenize"
   ]
  },
  {
   "cell_type": "markdown",
   "metadata": {},
   "source": [
    "# Load datasets "
   ]
  },
  {
   "cell_type": "code",
   "execution_count": 3,
   "metadata": {
    "ExecuteTime": {
     "end_time": "2019-08-22T05:09:51.927809Z",
     "start_time": "2019-08-22T05:09:48.264905Z"
    }
   },
   "outputs": [],
   "source": [
    "datasets = pd.read_csv('../../data/auto_labeled.csv', encoding='utf-16', sep='\\t')\n",
    "datasets.head()\n",
    "tmp = datasets.label"
   ]
  },
  {
   "cell_type": "code",
   "execution_count": 4,
   "metadata": {
    "ExecuteTime": {
     "end_time": "2019-08-22T05:09:52.641400Z",
     "start_time": "2019-08-22T05:09:51.931806Z"
    }
   },
   "outputs": [],
   "source": [
    "datasets.dropna(inplace=True)"
   ]
  },
  {
   "cell_type": "code",
   "execution_count": 5,
   "metadata": {
    "ExecuteTime": {
     "end_time": "2019-08-22T05:09:52.704363Z",
     "start_time": "2019-08-22T05:09:52.648397Z"
    }
   },
   "outputs": [],
   "source": [
    "datasets.label = datasets.label.astype('int32')"
   ]
  },
  {
   "cell_type": "code",
   "execution_count": 6,
   "metadata": {
    "ExecuteTime": {
     "end_time": "2019-08-22T05:09:52.732349Z",
     "start_time": "2019-08-22T05:09:52.710360Z"
    }
   },
   "outputs": [
    {
     "name": "stdout",
     "output_type": "stream",
     "text": [
      "<class 'pandas.core.frame.DataFrame'>\n",
      "Int64Index: 1999993 entries, 0 to 1999993\n",
      "Data columns (total 2 columns):\n",
      "comment    object\n",
      "label      int32\n",
      "dtypes: int32(1), object(1)\n",
      "memory usage: 38.1+ MB\n"
     ]
    }
   ],
   "source": [
    "datasets.info()"
   ]
  },
  {
   "cell_type": "code",
   "execution_count": 7,
   "metadata": {
    "ExecuteTime": {
     "end_time": "2019-08-22T05:09:57.097866Z",
     "start_time": "2019-08-22T05:09:52.738345Z"
    }
   },
   "outputs": [],
   "source": [
    "from sklearn.model_selection import train_test_split\n",
    "from keras.preprocessing.sequence import pad_sequences\n",
    "from imblearn.under_sampling import RandomUnderSampler\n",
    "import torch.utils.data as data_utils\n",
    "import torch"
   ]
  },
  {
   "cell_type": "code",
   "execution_count": 8,
   "metadata": {
    "ExecuteTime": {
     "end_time": "2019-08-22T05:09:59.364569Z",
     "start_time": "2019-08-22T05:09:57.102849Z"
    }
   },
   "outputs": [],
   "source": [
    "tmp = [[_] for _ in datasets.comment]\n",
    "label = datasets.label "
   ]
  },
  {
   "cell_type": "code",
   "execution_count": 9,
   "metadata": {
    "ExecuteTime": {
     "end_time": "2019-08-22T05:09:59.433514Z",
     "start_time": "2019-08-22T05:09:59.369549Z"
    }
   },
   "outputs": [],
   "source": [
    "del datasets"
   ]
  },
  {
   "cell_type": "code",
   "execution_count": 10,
   "metadata": {
    "ExecuteTime": {
     "end_time": "2019-08-22T05:10:31.184342Z",
     "start_time": "2019-08-22T05:09:59.438510Z"
    }
   },
   "outputs": [
    {
     "data": {
      "text/plain": [
       "(122274, 61137)"
      ]
     },
     "execution_count": 10,
     "metadata": {},
     "output_type": "execute_result"
    }
   ],
   "source": [
    "# undersampling\n",
    "X, y = RandomUnderSampler().fit_sample(tmp, label)\n",
    "len(y), sum(y)"
   ]
  },
  {
   "cell_type": "code",
   "execution_count": 11,
   "metadata": {
    "ExecuteTime": {
     "end_time": "2019-08-22T05:10:31.603102Z",
     "start_time": "2019-08-22T05:10:31.207329Z"
    }
   },
   "outputs": [],
   "source": [
    "# train test split\n",
    "X_train, X_test, y_train, y_test = train_test_split(X,y)"
   ]
  },
  {
   "cell_type": "code",
   "execution_count": 12,
   "metadata": {
    "ExecuteTime": {
     "end_time": "2019-08-22T05:10:32.284711Z",
     "start_time": "2019-08-22T05:10:31.610100Z"
    }
   },
   "outputs": [],
   "source": [
    "X_train = [_[0] for _ in X_train]\n",
    "X_test = [_[0] for _ in X_test]"
   ]
  },
  {
   "cell_type": "code",
   "execution_count": 13,
   "metadata": {
    "ExecuteTime": {
     "end_time": "2019-08-22T05:10:40.239160Z",
     "start_time": "2019-08-22T05:10:32.292708Z"
    }
   },
   "outputs": [
    {
     "name": "stderr",
     "output_type": "stream",
     "text": [
      "100%|████████████████████████████████████████████████████████████████████████| 91705/91705 [00:00<00:00, 333664.69it/s]\n",
      "100%|████████████████████████████████████████████████████████████████████████| 30569/30569 [00:00<00:00, 275552.50it/s]\n"
     ]
    }
   ],
   "source": [
    "# bpe tokenizing\n",
    "tokenized_train = bp_tokenize(X_train)\n",
    "tokenized_test = bp_tokenize(X_test)"
   ]
  },
  {
   "cell_type": "code",
   "execution_count": 14,
   "metadata": {
    "ExecuteTime": {
     "end_time": "2019-08-22T05:10:40.260149Z",
     "start_time": "2019-08-22T05:10:40.245158Z"
    }
   },
   "outputs": [
    {
     "data": {
      "text/plain": [
       "((91705,), (30569,))"
      ]
     },
     "execution_count": 14,
     "metadata": {},
     "output_type": "execute_result"
    }
   ],
   "source": [
    "tokenized_train.shape, tokenized_test.shape"
   ]
  },
  {
   "cell_type": "code",
   "execution_count": 15,
   "metadata": {
    "ExecuteTime": {
     "end_time": "2019-08-22T05:10:43.834103Z",
     "start_time": "2019-08-22T05:10:40.265147Z"
    }
   },
   "outputs": [],
   "source": [
    "# padding\n",
    "MAX_LEN = 50\n",
    "x_padded_train = pad_sequences(tokenized_train, maxlen=MAX_LEN, padding='post', truncating='post')\n",
    "x_padded_test = pad_sequences(tokenized_test, maxlen=MAX_LEN, padding='post', truncating='post')"
   ]
  },
  {
   "cell_type": "code",
   "execution_count": 16,
   "metadata": {
    "ExecuteTime": {
     "end_time": "2019-08-22T05:10:44.035989Z",
     "start_time": "2019-08-22T05:10:43.841099Z"
    }
   },
   "outputs": [],
   "source": [
    "train_data = data_utils.TensorDataset(torch.from_numpy(x_padded_train).type(torch.LongTensor),torch.from_numpy(y_train).type(torch.DoubleTensor))\n",
    "BATCH_SIZE = 256\n",
    "train_loader = data_utils.DataLoader(train_data, batch_size=BATCH_SIZE, drop_last=True)\n",
    "# return train_loader,x_test_pad,y_test"
   ]
  },
  {
   "cell_type": "markdown",
   "metadata": {},
   "source": [
    "# Model"
   ]
  },
  {
   "cell_type": "code",
   "execution_count": 17,
   "metadata": {
    "ExecuteTime": {
     "end_time": "2019-08-22T05:10:44.122943Z",
     "start_time": "2019-08-22T05:10:44.040985Z"
    }
   },
   "outputs": [],
   "source": [
    "import torch,keras\n",
    "import numpy as np\n",
    "from torch.autograd import Variable\n",
    "import torch.nn.functional as F\n",
    "import torch.utils.data as data_utils\n",
    " \n",
    "EMB_DIM = 30\n",
    "VOCAB_SIZE = 260\n",
    "class StructuredSelfAttention(torch.nn.Module):\n",
    "    \"\"\"\n",
    "    The class is an implementation of the paper A Structured Self-Attentive Sentence Embedding including regularization\n",
    "    and without pruning. Slight modifications have been done for speedup\n",
    "    \"\"\"\n",
    "   \n",
    "    def __init__(self, batch_size, lstm_hid_dim, d_a, r, max_len, emb_dim=EMB_DIM, vocab_size=VOCAB_SIZE):\n",
    "        \"\"\"\n",
    "        Initializes parameters suggested in paper\n",
    " \n",
    "        Args:\n",
    "            batch_size  : {int} batch_size used for training\n",
    "            lstm_hid_dim: {int} hidden dimension for lstm\n",
    "            d_a         : {int} hidden dimension for the dense layer\n",
    "            r           : {int} attention-hops or attention heads\n",
    "            max_len     : {int} number of lstm timesteps\n",
    "            emb_dim     : {int} embeddings dimension\n",
    "            vocab_size  : {int} size of the vocabulary\n",
    " \n",
    "        Returns:\n",
    "            self\n",
    " \n",
    "        Raises:\n",
    "            Exception\n",
    "        \"\"\"\n",
    "        super(StructuredSelfAttention,self).__init__()\n",
    "       \n",
    "        self.embeddings = torch.nn.Embedding(vocab_size, emb_dim, padding_idx=0)\n",
    "        self.lstm = torch.nn.LSTM(emb_dim, lstm_hid_dim, 1, batch_first=True)\n",
    "        self.linear_first = torch.nn.Linear(lstm_hid_dim, d_a)\n",
    "        self.linear_first.bias.data.fill_(0)\n",
    "        self.linear_second = torch.nn.Linear(d_a, r)\n",
    "        self.linear_second.bias.data.fill_(0)\n",
    "        self.n_classes = 1\n",
    "        self.linear_final = torch.nn.Linear(lstm_hid_dim, self.n_classes)\n",
    "        self.batch_size = batch_size       \n",
    "        self.max_len = max_len\n",
    "        self.lstm_hid_dim = lstm_hid_dim\n",
    "        self.hidden_state = self.init_hidden()\n",
    "        self.r = r\n",
    "        \n",
    "    def softmax(self,input, axis=1):\n",
    "        \"\"\"\n",
    "        Softmax applied to axis=n\n",
    " \n",
    "        Args:\n",
    "           input: {Tensor,Variable} input on which softmax is to be applied\n",
    "           axis : {int} axis on which softmax is to be applied\n",
    " \n",
    "        Returns:\n",
    "            softmaxed tensors\n",
    " \n",
    "       \n",
    "        \"\"\"\n",
    " \n",
    "        input_size = input.size()\n",
    "        trans_input = input.transpose(axis, len(input_size)-1)\n",
    "        trans_size = trans_input.size()\n",
    "        input_2d = trans_input.contiguous().view(-1, trans_size[-1])\n",
    "        soft_max_2d = F.softmax(input_2d)\n",
    "        soft_max_nd = soft_max_2d.view(*trans_size)\n",
    "        return soft_max_nd.transpose(axis, len(input_size)-1)\n",
    "       \n",
    "        \n",
    "    def init_hidden(self):\n",
    "        return (Variable(torch.zeros(1,self.batch_size,self.lstm_hid_dim)),Variable(torch.zeros(1,self.batch_size,self.lstm_hid_dim)))\n",
    "       \n",
    "        \n",
    "    def forward(self,x):\n",
    "        embeddings = self.embeddings(x)\n",
    "        outputs, self.hidden_state = self.lstm(embeddings.view(self.batch_size,self.max_len,-1),self.hidden_state)       \n",
    "        x = F.tanh(self.linear_first(outputs))       \n",
    "        x = self.linear_second(x)       \n",
    "        x = self.softmax(x,1)       \n",
    "        attention = x.transpose(1,2)       \n",
    "        sentence_embeddings = attention@outputs       \n",
    "        avg_sentence_embeddings = torch.sum(sentence_embeddings,1)/self.r\n",
    "        \n",
    "        output = F.sigmoid(self.linear_final(avg_sentence_embeddings))\n",
    "        return output,attention\n",
    "\n",
    "       \n",
    "    #Regularization\n",
    "    def l2_matrix_norm(self,m):\n",
    "        \"\"\"\n",
    "        Frobenius norm calculation\n",
    " \n",
    "        Args:\n",
    "           m: {Variable} ||AAT - I||\n",
    " \n",
    "        Returns:\n",
    "            regularized value\n",
    " \n",
    "       \n",
    "        \"\"\"\n",
    "        return torch.sum(torch.sum(torch.sum(m**2,1),1)**0.5).type(torch.DoubleTensor)"
   ]
  },
  {
   "cell_type": "markdown",
   "metadata": {},
   "source": [
    "# Train"
   ]
  },
  {
   "cell_type": "code",
   "execution_count": 18,
   "metadata": {
    "ExecuteTime": {
     "end_time": "2019-08-22T05:10:44.202894Z",
     "start_time": "2019-08-22T05:10:44.130933Z"
    }
   },
   "outputs": [],
   "source": [
    "import torch\n",
    "from torch.autograd import Variable\n",
    "from sklearn.metrics import accuracy_score, f1_score, classification_report\n",
    "\n",
    "def train(attention_model, train_loader, criterion, optimizer, epochs = 5, use_regularization = False , C=0, clip=False):\n",
    "    \"\"\"\n",
    "        Training code\n",
    " \n",
    "        Args:\n",
    "            attention_model : {object} model\n",
    "            train_loader    : {DataLoader} training data loaded into a dataloader\n",
    "            optimizer       :  optimizer\n",
    "            criterion       :  loss function. Must be BCELoss for binary_classification and NLLLoss for multiclass\n",
    "            epochs          : {int} number of epochs\n",
    "            use_regularizer : {bool} use penalization or not\n",
    "            C               : {int} penalization coeff\n",
    "            clip            : {bool} use gradient clipping or not\n",
    "       \n",
    "        Returns:\n",
    "            accuracy and losses of the model\n",
    " \n",
    "      \n",
    "        \"\"\"\n",
    "    losses = []\n",
    "    accuracy = []\n",
    "    for i in range(epochs):\n",
    "        print(\"Running EPOCH\",i+1)\n",
    "        total_loss = 0\n",
    "        n_batches = 0\n",
    "        correct = 0\n",
    "       \n",
    "        for batch_idx,train in enumerate(train_loader):\n",
    " \n",
    "            attention_model.hidden_state = attention_model.init_hidden()\n",
    "            x,y = Variable(train[0]),Variable(train[1])\n",
    "            y_pred,att = attention_model(x)\n",
    "           \n",
    "            #penalization AAT - I\n",
    "            if use_regularization:\n",
    "                attT = att.transpose(1,2)\n",
    "                identity = torch.eye(att.size(1))\n",
    "                identity = Variable(identity.unsqueeze(0).expand(train_loader.batch_size,att.size(1),att.size(1)))\n",
    "                penal = attention_model.l2_matrix_norm(att@attT - identity)\n",
    "\n",
    "            #binary classification\n",
    "            #Adding a very small value to prevent BCELoss from outputting NaN's\n",
    "            correct+=torch.eq(torch.round(y_pred.type(torch.DoubleTensor).squeeze(1)),y).data.sum()\n",
    "            if use_regularization:\n",
    "                try:\n",
    "                    loss = criterion(y_pred.type(torch.DoubleTensor).squeeze(1)+1e-8,y) + C * penal/train_loader.batch_size\n",
    "\n",
    "                except RuntimeError:\n",
    "                    raise Exception(\"BCELoss gets nan values on regularization. Either remove regularization or add very small values\")\n",
    "            else:\n",
    "                loss = criterion(y_pred.type(torch.DoubleTensor).squeeze(1),y)\n",
    "               \n",
    " \n",
    "            total_loss+=loss.data\n",
    "            optimizer.zero_grad()\n",
    "            loss.backward()\n",
    "           \n",
    "            #gradient clipping\n",
    "            if clip:\n",
    "                torch.nn.utils.clip_grad_norm(attention_model.parameters(),0.5)\n",
    "            optimizer.step()\n",
    "            n_batches+=1\n",
    "           \n",
    "        print(\"avg_loss is\",total_loss/n_batches)\n",
    "        print(\"Accuracy of the model\",int(correct)/(n_batches*train_loader.batch_size))\n",
    "        losses.append(total_loss/n_batches)\n",
    "        accuracy.append(int(correct)/(n_batches*train_loader.batch_size))\n",
    "        \n",
    "        \n",
    "    return losses, accuracy\n",
    " \n",
    "def evaluate(attention_model, x_test, y_test):\n",
    "    \"\"\"\n",
    "        cv results\n",
    " \n",
    "        Args:\n",
    "            attention_model : {object} model\n",
    "            x_test          : {nplist} x_test\n",
    "            y_test          : {nplist} y_test\n",
    "       \n",
    "        Returns:\n",
    "            cv-accuracy\n",
    " \n",
    "      \n",
    "    \"\"\"\n",
    "   \n",
    "    attention_model.batch_size = x_test.shape[0]\n",
    "    attention_model.hidden_state = attention_model.init_hidden()\n",
    "    x_test_var = Variable(torch.from_numpy(x_test).type(torch.LongTensor))\n",
    "    y_test_pred,_ = attention_model(x_test_var)\n",
    "    \n",
    "    y_preds = torch.round(y_test_pred.type(torch.DoubleTensor).squeeze(1))\n",
    "    y_test_var = Variable(torch.from_numpy(y_test).type(torch.DoubleTensor))\n",
    "    \n",
    "    print(classification_report(y_test, y_preds.detach().numpy()))\n",
    "    return int(torch.eq(y_preds,y_test_var).data.sum())/x_test_var.size(0)\n",
    " \n",
    "def get_activation_wts(attention_model,x):\n",
    "    \"\"\"\n",
    "        Get r attention heads\n",
    " \n",
    "        Args:\n",
    "            attention_model : {object} model\n",
    "            x               : {torch.Variable} input whose weights we want\n",
    "       \n",
    "        Returns:\n",
    "            r different attention weights\n",
    " \n",
    "      \n",
    "    \"\"\"\n",
    "    attention_model.batch_size = x.size(0)\n",
    "    attention_model.hidden_state = attention_model.init_hidden()\n",
    "    _,wts = attention_model(x)\n",
    "    return wts"
   ]
  },
  {
   "cell_type": "code",
   "execution_count": 31,
   "metadata": {
    "ExecuteTime": {
     "end_time": "2019-08-22T06:24:34.141213Z",
     "start_time": "2019-08-22T06:24:34.085247Z"
    }
   },
   "outputs": [],
   "source": [
    "attention_model = StructuredSelfAttention(batch_size=train_loader.batch_size,\n",
    "                                          lstm_hid_dim=50,\n",
    "                                          d_a=100,\n",
    "                                          r=1,\n",
    "                                          vocab_size=VOCAB_SIZE, \n",
    "                                          max_len=MAX_LEN,\n",
    "                                          )"
   ]
  },
  {
   "cell_type": "code",
   "execution_count": 32,
   "metadata": {
    "ExecuteTime": {
     "end_time": "2019-08-22T06:29:29.556150Z",
     "start_time": "2019-08-22T06:24:34.567972Z"
    },
    "scrolled": true
   },
   "outputs": [
    {
     "name": "stdout",
     "output_type": "stream",
     "text": [
      "Running EPOCH 1\n"
     ]
    },
    {
     "name": "stderr",
     "output_type": "stream",
     "text": [
      "C:\\Users\\skarn\\Anaconda3\\envs\\DataAnalysis\\lib\\site-packages\\ipykernel_launcher.py:68: UserWarning: Implicit dimension choice for softmax has been deprecated. Change the call to include dim=X as an argument.\n",
      "C:\\Users\\skarn\\Anaconda3\\envs\\DataAnalysis\\lib\\site-packages\\ipykernel_launcher.py:64: UserWarning: torch.nn.utils.clip_grad_norm is now deprecated in favor of torch.nn.utils.clip_grad_norm_.\n"
     ]
    },
    {
     "name": "stdout",
     "output_type": "stream",
     "text": [
      "avg_loss is tensor(0.4625, dtype=torch.float64)\n",
      "Accuracy of the model 0.7863564944134078\n",
      "Running EPOCH 2\n",
      "avg_loss is tensor(0.2264, dtype=torch.float64)\n",
      "Accuracy of the model 0.9246246508379888\n"
     ]
    }
   ],
   "source": [
    "loss = torch.nn.BCELoss()\n",
    "optimizer = torch.optim.Adam(attention_model.parameters())\n",
    "\n",
    "losses, accuracy = train(attention_model, train_loader, loss, optimizer, epochs=2,\n",
    "                         use_regularization=True, C=0.03, clip=True)\n"
   ]
  },
  {
   "cell_type": "markdown",
   "metadata": {},
   "source": [
    "# Evaluate "
   ]
  },
  {
   "cell_type": "code",
   "execution_count": 33,
   "metadata": {
    "ExecuteTime": {
     "end_time": "2019-08-22T06:30:05.836392Z",
     "start_time": "2019-08-22T06:29:29.562147Z"
    }
   },
   "outputs": [
    {
     "name": "stderr",
     "output_type": "stream",
     "text": [
      "C:\\Users\\skarn\\Anaconda3\\envs\\DataAnalysis\\lib\\site-packages\\ipykernel_launcher.py:68: UserWarning: Implicit dimension choice for softmax has been deprecated. Change the call to include dim=X as an argument.\n"
     ]
    },
    {
     "name": "stdout",
     "output_type": "stream",
     "text": [
      "              precision    recall  f1-score   support\n",
      "\n",
      "           0       0.95      0.90      0.93     15289\n",
      "           1       0.91      0.96      0.93     15280\n",
      "\n",
      "    accuracy                           0.93     30569\n",
      "   macro avg       0.93      0.93      0.93     30569\n",
      "weighted avg       0.93      0.93      0.93     30569\n",
      "\n",
      "0.929143903954987\n"
     ]
    }
   ],
   "source": [
    "print(evaluate(attention_model, x_padded_test, y_test))"
   ]
  },
  {
   "cell_type": "markdown",
   "metadata": {},
   "source": [
    "# Visualize"
   ]
  },
  {
   "cell_type": "code",
   "execution_count": 29,
   "metadata": {
    "ExecuteTime": {
     "end_time": "2019-08-22T05:59:13.306775Z",
     "start_time": "2019-08-22T05:59:13.293786Z"
    }
   },
   "outputs": [],
   "source": [
    "def visualize_attention(wts, X_test, filename):\n",
    "    wts_add = torch.sum(wts, 1)\n",
    "    wts_add_np = wts_add.data.numpy()\n",
    "    wts_add_list = wts_add_np.tolist()\n",
    "    text = []\n",
    "    for test in X_test:\n",
    "        text.append(\" \".join(test))\n",
    "    createHTML(text, wts_add_list, filename)\n",
    "    print(\"Attention visualization created for {} samples\".format(len(X_test)))\n",
    "    return"
   ]
  },
  {
   "cell_type": "code",
   "execution_count": 34,
   "metadata": {
    "ExecuteTime": {
     "end_time": "2019-08-22T06:30:44.372334Z",
     "start_time": "2019-08-22T06:30:05.916342Z"
    }
   },
   "outputs": [
    {
     "name": "stderr",
     "output_type": "stream",
     "text": [
      "C:\\Users\\skarn\\Anaconda3\\envs\\DataAnalysis\\lib\\site-packages\\ipykernel_launcher.py:68: UserWarning: Implicit dimension choice for softmax has been deprecated. Change the call to include dim=X as an argument.\n"
     ]
    }
   ],
   "source": [
    "attention_model.batch_size = np.array(x_padded_test).shape[0]\n",
    "attention_model.hidden_state = attention_model.init_hidden()\n",
    "x_test_var = Variable(torch.from_numpy(x_padded_test).type(torch.LongTensor))\n",
    "y_test_pred,_ = attention_model(x_test_var)\n",
    "y_preds = torch.round(y_test_pred.type(torch.DoubleTensor).squeeze(1))"
   ]
  },
  {
   "cell_type": "code",
   "execution_count": 35,
   "metadata": {
    "ExecuteTime": {
     "end_time": "2019-08-22T06:30:45.793523Z",
     "start_time": "2019-08-22T06:30:44.453289Z"
    }
   },
   "outputs": [
    {
     "name": "stderr",
     "output_type": "stream",
     "text": [
      "C:\\Users\\skarn\\Anaconda3\\envs\\DataAnalysis\\lib\\site-packages\\ipykernel_launcher.py:68: UserWarning: Implicit dimension choice for softmax has been deprecated. Change the call to include dim=X as an argument.\n"
     ]
    },
    {
     "name": "stdout",
     "output_type": "stream",
     "text": [
      "Attention visualization created for 100 samples\n"
     ]
    }
   ],
   "source": [
    "test_last_idx = 100\n",
    "wts = get_activation_wts(attention_model,\n",
    "                         Variable(torch.from_numpy(x_padded_test[y_preds.data.numpy()==1][:test_last_idx]).type(torch.LongTensor)))\n",
    "# print(torch.sum(wts,1).data.numpy().tolist())\n",
    "visualize_attention(wts, np.array(X_test)[y_preds.data.numpy()==1][:test_last_idx], filename='bpe_attention.html')"
   ]
  },
  {
   "cell_type": "code",
   "execution_count": 25,
   "metadata": {
    "ExecuteTime": {
     "end_time": "2019-08-22T05:19:28.137111Z",
     "start_time": "2019-08-22T05:19:28.084143Z"
    }
   },
   "outputs": [],
   "source": [
    "#Credits to Lin Zhouhan(@hantek) for the complete visualization code\n",
    "import random, os, numpy, scipy\n",
    "from codecs import open\n",
    "def createHTML(texts, weights, fileName):\n",
    "    \"\"\"\n",
    "    Creates a html file with text heat.\n",
    "\tweights: attention weights for visualizing\n",
    "\ttexts: text on which attention weights are to be visualized\n",
    "    \"\"\"\n",
    "    fileName = \"visualization/\"+fileName\n",
    "    fOut = open(fileName, \"w\", encoding=\"utf-8\")\n",
    "    part1 = \"\"\"\n",
    "    <html lang=\"en\">\n",
    "    <head>\n",
    "    <meta http-equiv=\"content-type\" content=\"text/html; charset=utf-8\">\n",
    "    <style>\n",
    "    body {\n",
    "    font-family: Sans-Serif;\n",
    "    }\n",
    "    </style>\n",
    "    </head>\n",
    "    <body>\n",
    "    <h3>\n",
    "    Heatmaps\n",
    "    </h3>\n",
    "    </body>\n",
    "    <script>\n",
    "    \"\"\"\n",
    "    part2 = \"\"\"\n",
    "    var color = \"255,0,0\";\n",
    "    var ngram_length = 3;\n",
    "    var half_ngram = 1;\n",
    "    for (var k=0; k < any_text.length; k++) {\n",
    "    var tokens = any_text[k].split(\" \");\n",
    "    var intensity = new Array(tokens.length);\n",
    "    var max_intensity = Number.MIN_SAFE_INTEGER;\n",
    "    var min_intensity = Number.MAX_SAFE_INTEGER;\n",
    "    for (var i = 0; i < intensity.length; i++) {\n",
    "    intensity[i] = 0.0;\n",
    "    for (var j = -half_ngram; j < ngram_length-half_ngram; j++) {\n",
    "    if (i+j < intensity.length && i+j > -1) {\n",
    "    intensity[i] += trigram_weights[k][i + j];\n",
    "    }\n",
    "    }\n",
    "    if (i == 0 || i == intensity.length-1) {\n",
    "    intensity[i] /= 2.0;\n",
    "    } else {\n",
    "    intensity[i] /= 3.0;\n",
    "    }\n",
    "    if (intensity[i] > max_intensity) {\n",
    "    max_intensity = intensity[i];\n",
    "    }\n",
    "    if (intensity[i] < min_intensity) {\n",
    "    min_intensity = intensity[i];\n",
    "    }\n",
    "    }\n",
    "    var denominator = max_intensity - min_intensity;\n",
    "    for (var i = 0; i < intensity.length; i++) {\n",
    "    intensity[i] = (intensity[i] - min_intensity) / denominator;\n",
    "    }\n",
    "    if (k%2 == 0) {\n",
    "    var heat_text = \"<p><br><b>Example:</b><br>\";\n",
    "    } else {\n",
    "    var heat_text = \"<b>Example:</b><br>\";\n",
    "    }\n",
    "    var space = \"\";\n",
    "    for (var i = 0; i < tokens.length; i++) {\n",
    "    heat_text += \"<span style='background-color:rgba(\" + color + \",\" + intensity[i] + \")'>\" + space + tokens[i] + \"</span>\";\n",
    "    if (space == \"\") {\n",
    "    space = \" \";\n",
    "    }\n",
    "    }\n",
    "    //heat_text += \"<p>\";\n",
    "    document.body.innerHTML += heat_text;\n",
    "    }\n",
    "    </script>\n",
    "    </html>\"\"\"\n",
    "    putQuote = lambda x: \"\\\"%s\\\"\"%x\n",
    "    textsString = \"var any_text = [%s];\\n\"%(\",\".join(map(putQuote, texts)))\n",
    "    weightsString = \"var trigram_weights = [%s];\\n\"%(\",\".join(map(str,weights)))\n",
    "    fOut.write(part1)\n",
    "    fOut.write(textsString)\n",
    "    fOut.write(weightsString)\n",
    "    fOut.write(part2)\n",
    "    fOut.close()\n",
    "  \n",
    "    return\n"
   ]
  },
  {
   "cell_type": "markdown",
   "metadata": {},
   "source": [
    "# Model Save"
   ]
  },
  {
   "cell_type": "code",
   "execution_count": 41,
   "metadata": {
    "ExecuteTime": {
     "end_time": "2019-08-22T02:08:43.202336Z",
     "start_time": "2019-08-22T02:08:43.065418Z"
    }
   },
   "outputs": [
    {
     "name": "stderr",
     "output_type": "stream",
     "text": [
      "C:\\Users\\skarn\\Anaconda3\\envs\\DataAnalysis\\lib\\site-packages\\torch\\serialization.py:251: UserWarning: Couldn't retrieve source code for container of type StructuredSelfAttention. It won't be checked for correctness upon loading.\n",
      "  \"type \" + obj.__name__ + \". It won't be checked \"\n"
     ]
    }
   ],
   "source": [
    "# torch.save(attention_model, '../model/self_attention_bp.pt')"
   ]
  }
 ],
 "metadata": {
  "kernelspec": {
   "display_name": "Python 3",
   "language": "python",
   "name": "python3"
  },
  "language_info": {
   "codemirror_mode": {
    "name": "ipython",
    "version": 3
   },
   "file_extension": ".py",
   "mimetype": "text/x-python",
   "name": "python",
   "nbconvert_exporter": "python",
   "pygments_lexer": "ipython3",
   "version": "3.7.3"
  }
 },
 "nbformat": 4,
 "nbformat_minor": 2
}
