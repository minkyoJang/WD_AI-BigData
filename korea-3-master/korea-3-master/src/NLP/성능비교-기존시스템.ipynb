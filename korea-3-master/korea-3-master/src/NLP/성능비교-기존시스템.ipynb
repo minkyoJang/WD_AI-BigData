{
 "cells": [
  {
   "cell_type": "code",
   "execution_count": 1,
   "metadata": {
    "ExecuteTime": {
     "end_time": "2019-08-26T12:58:11.043051Z",
     "start_time": "2019-08-26T12:57:52.636575Z"
    }
   },
   "outputs": [
    {
     "name": "stderr",
     "output_type": "stream",
     "text": [
      "Using TensorFlow backend.\n"
     ]
    },
    {
     "name": "stdout",
     "output_type": "stream",
     "text": [
      "Chan 2019-08-27 \n",
      "\n",
      "numpy 1.16.4\n",
      "pandas 0.24.2\n",
      "konlpy 0.5.1\n",
      "torch 1.0.1\n",
      "keras 2.2.4\n"
     ]
    }
   ],
   "source": [
    "%load_ext watermark\n",
    "%watermark -a Chan -d -p numpy,pandas,konlpy,torch,keras"
   ]
  },
  {
   "cell_type": "code",
   "execution_count": 2,
   "metadata": {
    "ExecuteTime": {
     "end_time": "2019-08-26T12:58:11.136012Z",
     "start_time": "2019-08-26T12:58:11.097020Z"
    }
   },
   "outputs": [],
   "source": [
    "import pandas as pd\n",
    "import numpy as np\n",
    "import konlpy\n",
    "from utils.bp_processing import bp_tokenize"
   ]
  },
  {
   "cell_type": "markdown",
   "metadata": {},
   "source": [
    "# Load datasets "
   ]
  },
  {
   "cell_type": "code",
   "execution_count": 3,
   "metadata": {
    "ExecuteTime": {
     "end_time": "2019-08-26T12:58:13.324746Z",
     "start_time": "2019-08-26T12:58:11.139997Z"
    }
   },
   "outputs": [],
   "source": [
    "from sklearn.model_selection import train_test_split\n",
    "from keras.preprocessing.sequence import pad_sequences\n",
    "from imblearn.under_sampling import RandomUnderSampler\n",
    "import torch.utils.data as data_utils\n",
    "import torch"
   ]
  },
  {
   "cell_type": "code",
   "execution_count": 4,
   "metadata": {
    "ExecuteTime": {
     "end_time": "2019-08-26T12:58:13.568605Z",
     "start_time": "2019-08-26T12:58:13.330768Z"
    }
   },
   "outputs": [
    {
     "data": {
      "text/html": [
       "<div>\n",
       "<style scoped>\n",
       "    .dataframe tbody tr th:only-of-type {\n",
       "        vertical-align: middle;\n",
       "    }\n",
       "\n",
       "    .dataframe tbody tr th {\n",
       "        vertical-align: top;\n",
       "    }\n",
       "\n",
       "    .dataframe thead th {\n",
       "        text-align: right;\n",
       "    }\n",
       "</style>\n",
       "<table border=\"1\" class=\"dataframe\">\n",
       "  <thead>\n",
       "    <tr style=\"text-align: right;\">\n",
       "      <th></th>\n",
       "      <th>comment</th>\n",
       "      <th>label</th>\n",
       "    </tr>\n",
       "  </thead>\n",
       "  <tbody>\n",
       "    <tr>\n",
       "      <th>0</th>\n",
       "      <td>ㅜㅜ</td>\n",
       "      <td>0</td>\n",
       "    </tr>\n",
       "    <tr>\n",
       "      <th>1</th>\n",
       "      <td>ㅋㅋㅋㅋㅋㅋㅋㅋㅋㅋㅋㅋㅋㅋㅋㅋㅋㅋㅋㅋㅋ</td>\n",
       "      <td>0</td>\n",
       "    </tr>\n",
       "    <tr>\n",
       "      <th>2</th>\n",
       "      <td>헐</td>\n",
       "      <td>0</td>\n",
       "    </tr>\n",
       "    <tr>\n",
       "      <th>3</th>\n",
       "      <td>제시</td>\n",
       "      <td>0</td>\n",
       "    </tr>\n",
       "    <tr>\n",
       "      <th>4</th>\n",
       "      <td>이거인 듯</td>\n",
       "      <td>0</td>\n",
       "    </tr>\n",
       "  </tbody>\n",
       "</table>\n",
       "</div>"
      ],
      "text/plain": [
       "                 comment  label\n",
       "0                     ㅜㅜ      0\n",
       "1  ㅋㅋㅋㅋㅋㅋㅋㅋㅋㅋㅋㅋㅋㅋㅋㅋㅋㅋㅋㅋㅋ      0\n",
       "2                      헐      0\n",
       "3                     제시      0\n",
       "4                  이거인 듯      0"
      ]
     },
     "execution_count": 4,
     "metadata": {},
     "output_type": "execute_result"
    }
   ],
   "source": [
    "human = pd.read_csv('../../data/train.csv', encoding='utf-16')[['comment', 'label']]\n",
    "human.head()"
   ]
  },
  {
   "cell_type": "code",
   "execution_count": 5,
   "metadata": {
    "ExecuteTime": {
     "end_time": "2019-08-26T12:58:13.608584Z",
     "start_time": "2019-08-26T12:58:13.573606Z"
    }
   },
   "outputs": [
    {
     "data": {
      "text/html": [
       "<div>\n",
       "<style scoped>\n",
       "    .dataframe tbody tr th:only-of-type {\n",
       "        vertical-align: middle;\n",
       "    }\n",
       "\n",
       "    .dataframe tbody tr th {\n",
       "        vertical-align: top;\n",
       "    }\n",
       "\n",
       "    .dataframe thead th {\n",
       "        text-align: right;\n",
       "    }\n",
       "</style>\n",
       "<table border=\"1\" class=\"dataframe\">\n",
       "  <thead>\n",
       "    <tr style=\"text-align: right;\">\n",
       "      <th></th>\n",
       "      <th>comment</th>\n",
       "    </tr>\n",
       "    <tr>\n",
       "      <th>label</th>\n",
       "      <th></th>\n",
       "    </tr>\n",
       "  </thead>\n",
       "  <tbody>\n",
       "    <tr>\n",
       "      <th>0</th>\n",
       "      <td>39904</td>\n",
       "    </tr>\n",
       "    <tr>\n",
       "      <th>1</th>\n",
       "      <td>2096</td>\n",
       "    </tr>\n",
       "  </tbody>\n",
       "</table>\n",
       "</div>"
      ],
      "text/plain": [
       "       comment\n",
       "label         \n",
       "0        39904\n",
       "1         2096"
      ]
     },
     "execution_count": 5,
     "metadata": {},
     "output_type": "execute_result"
    }
   ],
   "source": [
    "human.groupby('label').count()"
   ]
  },
  {
   "cell_type": "markdown",
   "metadata": {},
   "source": [
    "label 1인거 37000개 더하자 "
   ]
  },
  {
   "cell_type": "code",
   "execution_count": 6,
   "metadata": {
    "ExecuteTime": {
     "end_time": "2019-08-27T02:53:04.640216Z",
     "start_time": "2019-08-27T02:52:56.064134Z"
    }
   },
   "outputs": [
    {
     "data": {
      "text/html": [
       "<div>\n",
       "<style scoped>\n",
       "    .dataframe tbody tr th:only-of-type {\n",
       "        vertical-align: middle;\n",
       "    }\n",
       "\n",
       "    .dataframe tbody tr th {\n",
       "        vertical-align: top;\n",
       "    }\n",
       "\n",
       "    .dataframe thead th {\n",
       "        text-align: right;\n",
       "    }\n",
       "</style>\n",
       "<table border=\"1\" class=\"dataframe\">\n",
       "  <thead>\n",
       "    <tr style=\"text-align: right;\">\n",
       "      <th></th>\n",
       "      <th>comment</th>\n",
       "      <th>label</th>\n",
       "    </tr>\n",
       "  </thead>\n",
       "  <tbody>\n",
       "    <tr>\n",
       "      <th>0</th>\n",
       "      <td>ㅋㅋㅋㅋㅋㅋㅋㅋㅋㅋㅋㅋㅋ자낳괴</td>\n",
       "      <td>1</td>\n",
       "    </tr>\n",
       "    <tr>\n",
       "      <th>1</th>\n",
       "      <td>ㅇ</td>\n",
       "      <td>0</td>\n",
       "    </tr>\n",
       "    <tr>\n",
       "      <th>2</th>\n",
       "      <td>ㅋㅋㅋㅋㅋㅋㅋㅋㅋㅋㅋㅋㅋㅋㅋㅋㅋ</td>\n",
       "      <td>0</td>\n",
       "    </tr>\n",
       "    <tr>\n",
       "      <th>3</th>\n",
       "      <td>실토하심ㅋㅋㅋㅋㅋㅋㅋ</td>\n",
       "      <td>0</td>\n",
       "    </tr>\n",
       "    <tr>\n",
       "      <th>4</th>\n",
       "      <td>돌려 돌려 돌림판~</td>\n",
       "      <td>0</td>\n",
       "    </tr>\n",
       "  </tbody>\n",
       "</table>\n",
       "</div>"
      ],
      "text/plain": [
       "             comment  label\n",
       "0   ㅋㅋㅋㅋㅋㅋㅋㅋㅋㅋㅋㅋㅋ자낳괴      1\n",
       "1                  ㅇ      0\n",
       "2  ㅋㅋㅋㅋㅋㅋㅋㅋㅋㅋㅋㅋㅋㅋㅋㅋㅋ      0\n",
       "3        실토하심ㅋㅋㅋㅋㅋㅋㅋ      0\n",
       "4         돌려 돌려 돌림판~      0"
      ]
     },
     "execution_count": 6,
     "metadata": {},
     "output_type": "execute_result"
    }
   ],
   "source": [
    "auto = pd.read_csv('../../data/auto_labeled.csv', encoding='utf-16', sep='\\t')\n",
    "auto.dropna(inplace=True)\n",
    "auto.label = auto.label.astype('int')\n",
    "auto.head()"
   ]
  },
  {
   "cell_type": "code",
   "execution_count": 7,
   "metadata": {
    "ExecuteTime": {
     "end_time": "2019-08-27T02:53:05.753579Z",
     "start_time": "2019-08-27T02:53:04.649211Z"
    }
   },
   "outputs": [
    {
     "data": {
      "text/html": [
       "<div>\n",
       "<style scoped>\n",
       "    .dataframe tbody tr th:only-of-type {\n",
       "        vertical-align: middle;\n",
       "    }\n",
       "\n",
       "    .dataframe tbody tr th {\n",
       "        vertical-align: top;\n",
       "    }\n",
       "\n",
       "    .dataframe thead th {\n",
       "        text-align: right;\n",
       "    }\n",
       "</style>\n",
       "<table border=\"1\" class=\"dataframe\">\n",
       "  <thead>\n",
       "    <tr style=\"text-align: right;\">\n",
       "      <th></th>\n",
       "      <th>comment</th>\n",
       "    </tr>\n",
       "    <tr>\n",
       "      <th>label</th>\n",
       "      <th></th>\n",
       "    </tr>\n",
       "  </thead>\n",
       "  <tbody>\n",
       "    <tr>\n",
       "      <th>0</th>\n",
       "      <td>1938856</td>\n",
       "    </tr>\n",
       "    <tr>\n",
       "      <th>1</th>\n",
       "      <td>61137</td>\n",
       "    </tr>\n",
       "  </tbody>\n",
       "</table>\n",
       "</div>"
      ],
      "text/plain": [
       "       comment\n",
       "label         \n",
       "0      1938856\n",
       "1        61137"
      ]
     },
     "execution_count": 7,
     "metadata": {},
     "output_type": "execute_result"
    }
   ],
   "source": [
    "auto.groupby('label').count()"
   ]
  },
  {
   "cell_type": "code",
   "execution_count": 8,
   "metadata": {
    "ExecuteTime": {
     "end_time": "2019-08-27T02:53:06.112374Z",
     "start_time": "2019-08-27T02:53:05.760575Z"
    }
   },
   "outputs": [],
   "source": [
    "new_dataset = pd.concat([human[['comment','label']], auto[['comment','label']][auto.label==1][:37000]])"
   ]
  },
  {
   "cell_type": "code",
   "execution_count": 9,
   "metadata": {
    "ExecuteTime": {
     "end_time": "2019-08-27T02:53:06.227307Z",
     "start_time": "2019-08-27T02:53:06.140357Z"
    }
   },
   "outputs": [
    {
     "data": {
      "text/html": [
       "<div>\n",
       "<style scoped>\n",
       "    .dataframe tbody tr th:only-of-type {\n",
       "        vertical-align: middle;\n",
       "    }\n",
       "\n",
       "    .dataframe tbody tr th {\n",
       "        vertical-align: top;\n",
       "    }\n",
       "\n",
       "    .dataframe thead th {\n",
       "        text-align: right;\n",
       "    }\n",
       "</style>\n",
       "<table border=\"1\" class=\"dataframe\">\n",
       "  <thead>\n",
       "    <tr style=\"text-align: right;\">\n",
       "      <th></th>\n",
       "      <th>comment</th>\n",
       "    </tr>\n",
       "    <tr>\n",
       "      <th>label</th>\n",
       "      <th></th>\n",
       "    </tr>\n",
       "  </thead>\n",
       "  <tbody>\n",
       "    <tr>\n",
       "      <th>0</th>\n",
       "      <td>39904</td>\n",
       "    </tr>\n",
       "    <tr>\n",
       "      <th>1</th>\n",
       "      <td>39096</td>\n",
       "    </tr>\n",
       "  </tbody>\n",
       "</table>\n",
       "</div>"
      ],
      "text/plain": [
       "       comment\n",
       "label         \n",
       "0        39904\n",
       "1        39096"
      ]
     },
     "execution_count": 9,
     "metadata": {},
     "output_type": "execute_result"
    }
   ],
   "source": [
    "new_dataset.groupby('label').count()"
   ]
  },
  {
   "cell_type": "code",
   "execution_count": 10,
   "metadata": {
    "ExecuteTime": {
     "end_time": "2019-08-27T02:53:06.293269Z",
     "start_time": "2019-08-27T02:53:06.235303Z"
    }
   },
   "outputs": [],
   "source": [
    "# train test split\n",
    "X_train, X_test, y_train, y_test = train_test_split(new_dataset.comment, new_dataset.label)"
   ]
  },
  {
   "cell_type": "code",
   "execution_count": 11,
   "metadata": {
    "ExecuteTime": {
     "end_time": "2019-08-27T02:53:06.338246Z",
     "start_time": "2019-08-27T02:53:06.299266Z"
    }
   },
   "outputs": [
    {
     "data": {
      "text/plain": [
       "(29267, 59250, 9829, 19750)"
      ]
     },
     "execution_count": 11,
     "metadata": {},
     "output_type": "execute_result"
    }
   ],
   "source": [
    "y_train.sum(), len(y_train), y_test.sum(), len(y_test)"
   ]
  },
  {
   "cell_type": "code",
   "execution_count": 12,
   "metadata": {
    "ExecuteTime": {
     "end_time": "2019-08-27T02:53:45.608830Z",
     "start_time": "2019-08-27T02:53:45.581843Z"
    }
   },
   "outputs": [],
   "source": [
    "import auto_label"
   ]
  },
  {
   "cell_type": "code",
   "execution_count": 14,
   "metadata": {
    "ExecuteTime": {
     "end_time": "2019-08-27T02:54:23.289302Z",
     "start_time": "2019-08-27T02:54:22.669588Z"
    }
   },
   "outputs": [],
   "source": [
    "rule = auto_label.auto_label(new_dataset, './word-fobidden.json')"
   ]
  },
  {
   "cell_type": "code",
   "execution_count": 20,
   "metadata": {
    "ExecuteTime": {
     "end_time": "2019-08-27T02:55:18.012858Z",
     "start_time": "2019-08-27T02:55:18.007861Z"
    }
   },
   "outputs": [],
   "source": [
    "from sklearn.metrics import classification_report, accuracy_score"
   ]
  },
  {
   "cell_type": "code",
   "execution_count": 21,
   "metadata": {
    "ExecuteTime": {
     "end_time": "2019-08-27T02:55:30.802527Z",
     "start_time": "2019-08-27T02:55:30.572656Z"
    }
   },
   "outputs": [
    {
     "name": "stdout",
     "output_type": "stream",
     "text": [
      "              precision    recall  f1-score   support\n",
      "\n",
      "           0       0.70      0.99      0.82     39904\n",
      "           1       0.97      0.56      0.71     39096\n",
      "\n",
      "    accuracy                           0.78     79000\n",
      "   macro avg       0.84      0.77      0.77     79000\n",
      "weighted avg       0.83      0.78      0.77     79000\n",
      "\n",
      "0.7766582278481012\n"
     ]
    }
   ],
   "source": [
    "print(classification_report(rule.label, rule.filtered))\n",
    "print(accuracy_score(rule.label, rule.filtered))"
   ]
  },
  {
   "cell_type": "code",
   "execution_count": 22,
   "metadata": {
    "ExecuteTime": {
     "end_time": "2019-08-27T03:24:18.979628Z",
     "start_time": "2019-08-27T03:24:18.970633Z"
    }
   },
   "outputs": [],
   "source": [
    "from konlpy.tag import Okt"
   ]
  },
  {
   "cell_type": "code",
   "execution_count": 23,
   "metadata": {
    "ExecuteTime": {
     "end_time": "2019-08-27T03:24:30.771884Z",
     "start_time": "2019-08-27T03:24:25.920650Z"
    }
   },
   "outputs": [
    {
     "name": "stderr",
     "output_type": "stream",
     "text": [
      "C:\\Users\\skarn\\Anaconda3\\envs\\DataAnalysis\\lib\\site-packages\\jpype\\_core.py:210: UserWarning: \n",
      "-------------------------------------------------------------------------------\n",
      "Deprecated: convertStrings was not specified when starting the JVM. The default\n",
      "behavior in JPype will be False starting in JPype 0.8. The recommended setting\n",
      "for new code is convertStrings=False.  The legacy value of True was assumed for\n",
      "this session. If you are a user of an application that reported this warning,\n",
      "please file a ticket with the developer.\n",
      "-------------------------------------------------------------------------------\n",
      "\n",
      "  \"\"\")\n"
     ]
    }
   ],
   "source": [
    "tmp = Okt()"
   ]
  },
  {
   "cell_type": "code",
   "execution_count": 26,
   "metadata": {
    "ExecuteTime": {
     "end_time": "2019-08-27T03:24:53.628783Z",
     "start_time": "2019-08-27T03:24:53.611780Z"
    }
   },
   "outputs": [
    {
     "data": {
      "text/plain": [
       "([('씪빢', 'Noun')], [('씨빠', 'Noun')])"
      ]
     },
     "execution_count": 26,
     "metadata": {},
     "output_type": "execute_result"
    }
   ],
   "source": [
    "tmp.pos('씪빢'), tmp.pos('씨빠') "
   ]
  },
  {
   "cell_type": "code",
   "execution_count": 54,
   "metadata": {
    "ExecuteTime": {
     "end_time": "2019-08-27T03:34:16.075111Z",
     "start_time": "2019-08-27T03:34:16.056125Z"
    }
   },
   "outputs": [
    {
     "data": {
      "text/plain": [
       "[('앙', 'Adverb'),\n",
       " ('기', 'Modifier'),\n",
       " ('모', 'Modifier'),\n",
       " ('띠', 'Noun'),\n",
       " ('ㅋㅋㅋ', 'KoreanParticle'),\n",
       " ('시', 'Noun'),\n",
       " ('1', 'Number'),\n",
       " ('발', 'Noun')]"
      ]
     },
     "execution_count": 54,
     "metadata": {},
     "output_type": "execute_result"
    }
   ],
   "source": [
    "tmp.pos('앙기모띠 ㅋㅋㅋ 시1발')"
   ]
  },
  {
   "cell_type": "code",
   "execution_count": 28,
   "metadata": {
    "ExecuteTime": {
     "end_time": "2019-08-27T03:29:33.504909Z",
     "start_time": "2019-08-27T03:29:32.566412Z"
    }
   },
   "outputs": [],
   "source": [
    "from utils import nKT"
   ]
  },
  {
   "cell_type": "code",
   "execution_count": 57,
   "metadata": {
    "ExecuteTime": {
     "end_time": "2019-08-27T03:36:24.654421Z",
     "start_time": "2019-08-27T03:36:24.616446Z"
    }
   },
   "outputs": [
    {
     "name": "stderr",
     "output_type": "stream",
     "text": [
      "2it [00:00, 133.40it/s]\n"
     ]
    },
    {
     "data": {
      "text/plain": [
       "([['씪빢'], ['씨빠']], ['1'])"
      ]
     },
     "execution_count": 57,
     "metadata": {},
     "output_type": "execute_result"
    }
   ],
   "source": [
    "nKT.prep2(['씪빢', '씨빠'], '1')"
   ]
  },
  {
   "cell_type": "code",
   "execution_count": 56,
   "metadata": {
    "ExecuteTime": {
     "end_time": "2019-08-27T03:35:10.356105Z",
     "start_time": "2019-08-27T03:35:10.300138Z"
    }
   },
   "outputs": [
    {
     "name": "stderr",
     "output_type": "stream",
     "text": [
      "1it [00:00, 33.35it/s]\n"
     ]
    },
    {
     "data": {
      "text/plain": [
       "[['앙기모띠', '시발']]"
      ]
     },
     "execution_count": 56,
     "metadata": {},
     "output_type": "execute_result"
    }
   ],
   "source": [
    "nKT.prep2(['앙기모띠 ㅋㅋㅋ 시1발'], '1')[0]"
   ]
  },
  {
   "cell_type": "code",
   "execution_count": 61,
   "metadata": {
    "ExecuteTime": {
     "end_time": "2019-08-27T03:45:57.184930Z",
     "start_time": "2019-08-27T03:45:57.166944Z"
    }
   },
   "outputs": [
    {
     "name": "stderr",
     "output_type": "stream",
     "text": [
      "100%|████████████████████████████████████████████████████████████████████████████████████████████| 2/2 [00:00<?, ?it/s]\n"
     ]
    },
    {
     "data": {
      "text/plain": [
       "array([['236', '148', '170', '235', '185', '162'],\n",
       "       ['236', '148', '168', '235', '185', '160']], dtype='<U3')"
      ]
     },
     "execution_count": 61,
     "metadata": {},
     "output_type": "execute_result"
    }
   ],
   "source": [
    "bp_tokenize(['씪빢', '씨빠'])"
   ]
  },
  {
   "cell_type": "code",
   "execution_count": 70,
   "metadata": {
    "ExecuteTime": {
     "end_time": "2019-08-27T06:57:14.035644Z",
     "start_time": "2019-08-27T06:57:14.027649Z"
    }
   },
   "outputs": [
    {
     "data": {
      "text/plain": [
       "array([[236, 148, 170, 235, 185, 162],\n",
       "       [236, 148, 168, 235, 185, 160],\n",
       "       [227, 133, 134, 227, 133, 131]])"
      ]
     },
     "execution_count": 70,
     "metadata": {},
     "output_type": "execute_result"
    }
   ],
   "source": [
    "V"
   ]
  },
  {
   "cell_type": "code",
   "execution_count": 114,
   "metadata": {
    "ExecuteTime": {
     "end_time": "2019-08-27T07:17:59.150141Z",
     "start_time": "2019-08-27T07:17:59.124156Z"
    }
   },
   "outputs": [
    {
     "name": "stderr",
     "output_type": "stream",
     "text": [
      "100%|███████████████████████████████████████████████████████████████████████████████| 18/18 [00:00<00:00, 17958.49it/s]\n"
     ]
    },
    {
     "data": {
      "text/plain": [
       "(18, 3)"
      ]
     },
     "execution_count": 114,
     "metadata": {},
     "output_type": "execute_result"
    }
   ],
   "source": [
    "import numpy as np\n",
    "import matplotlib.pyplot as plt\n",
    "from sklearn.manifold import TSNE\n",
    "\n",
    "vocab = list(\"ㅆㅃㅅㅂ시바씨빠씨빨씨팔시빨씪빢씷빯\")\n",
    "\n",
    "V = bp_tokenize(vocab).astype('int')\n",
    "\n",
    "df = pd.DataFrame(V, index=vocab, columns=['x', 'y','z'])\n",
    "df.shape"
   ]
  },
  {
   "cell_type": "code",
   "execution_count": 140,
   "metadata": {
    "ExecuteTime": {
     "end_time": "2019-08-27T07:32:04.545524Z",
     "start_time": "2019-08-27T07:32:04.429590Z"
    }
   },
   "outputs": [
    {
     "name": "stdout",
     "output_type": "stream",
     "text": [
      "('ㅆ', x    227\n",
      "y    133\n",
      "z    134\n",
      "Name: ㅆ, dtype: int32)\n",
      "('ㅃ', x    227\n",
      "y    133\n",
      "z    131\n",
      "Name: ㅃ, dtype: int32)\n",
      "('ㅅ', x    227\n",
      "y    133\n",
      "z    133\n",
      "Name: ㅅ, dtype: int32)\n",
      "('ㅂ', x    227\n",
      "y    133\n",
      "z    130\n",
      "Name: ㅂ, dtype: int32)\n",
      "('시', x    236\n",
      "y    139\n",
      "z    156\n",
      "Name: 시, dtype: int32)\n",
      "('바', x    235\n",
      "y    176\n",
      "z    148\n",
      "Name: 바, dtype: int32)\n",
      "('씨', x    236\n",
      "y    148\n",
      "z    168\n",
      "Name: 씨, dtype: int32)\n",
      "('빠', x    235\n",
      "y    185\n",
      "z    160\n",
      "Name: 빠, dtype: int32)\n",
      "('씨', x    236\n",
      "y    148\n",
      "z    168\n",
      "Name: 씨, dtype: int32)\n",
      "('빨', x    235\n",
      "y    185\n",
      "z    168\n",
      "Name: 빨, dtype: int32)\n",
      "('씨', x    236\n",
      "y    148\n",
      "z    168\n",
      "Name: 씨, dtype: int32)\n",
      "('팔', x    237\n",
      "y    140\n",
      "z    148\n",
      "Name: 팔, dtype: int32)\n",
      "('시', x    236\n",
      "y    139\n",
      "z    156\n",
      "Name: 시, dtype: int32)\n",
      "('빨', x    235\n",
      "y    185\n",
      "z    168\n",
      "Name: 빨, dtype: int32)\n",
      "('씪', x    236\n",
      "y    148\n",
      "z    170\n",
      "Name: 씪, dtype: int32)\n",
      "('빢', x    235\n",
      "y    185\n",
      "z    162\n",
      "Name: 빢, dtype: int32)\n",
      "('씷', x    236\n",
      "y    148\n",
      "z    183\n",
      "Name: 씷, dtype: int32)\n",
      "('빯', x    235\n",
      "y    185\n",
      "z    175\n",
      "Name: 빯, dtype: int32)\n"
     ]
    }
   ],
   "source": [
    "for i in df.iterrows():\n",
    "    print(i)"
   ]
  },
  {
   "cell_type": "code",
   "execution_count": 208,
   "metadata": {
    "ExecuteTime": {
     "end_time": "2019-08-27T08:10:44.265997Z",
     "start_time": "2019-08-27T08:10:44.256001Z"
    }
   },
   "outputs": [],
   "source": [
    "%matplotlib inline"
   ]
  },
  {
   "cell_type": "code",
   "execution_count": 222,
   "metadata": {
    "ExecuteTime": {
     "end_time": "2019-08-27T08:15:38.530561Z",
     "start_time": "2019-08-27T08:15:38.525563Z"
    }
   },
   "outputs": [],
   "source": [
    "import matplotlib"
   ]
  },
  {
   "cell_type": "code",
   "execution_count": 226,
   "metadata": {
    "ExecuteTime": {
     "end_time": "2019-08-27T08:16:06.604540Z",
     "start_time": "2019-08-27T08:16:06.596546Z"
    }
   },
   "outputs": [],
   "source": [
    "import matplotlib.font_manager as fm\n",
    "\n",
    "font_location = 'C:\\\\Windows\\\\Fonts\\\\malgunsl.ttf'  \n",
    "                    # ex - 'C:/asiahead4.ttf'\n",
    "font_name = fm.FontProperties(fname = font_location).get_name()\n",
    "matplotlib.rc('font', family = font_name)"
   ]
  },
  {
   "cell_type": "code",
   "execution_count": 250,
   "metadata": {
    "ExecuteTime": {
     "end_time": "2019-08-27T08:35:43.806418Z",
     "start_time": "2019-08-27T08:35:43.366674Z"
    }
   },
   "outputs": [
    {
     "data": {
      "image/png": "[encoded data removed]",
      "text/plain": [
       "<Figure size 504x360 with 1 Axes>"
      ]
     },
     "metadata": {
      "needs_background": "light"
     },
     "output_type": "display_data"
    }
   ],
   "source": [
    "\n",
    "fig = plt.figure()\n",
    "fig.set_size_inches(7, 5)\n",
    "ax = plt.axes()\n",
    "ax.scatter(x = df.x,\n",
    "            y = df.z,\n",
    "            s = df.y*2.5, # <== 😀 Look here!\n",
    "           c=df.y,\n",
    "           \n",
    "            alpha=0.4, \n",
    "            edgecolors='w',\n",
    "          cmap=cm.plasma);\n",
    "for word, pos in df.iterrows():\n",
    "    ax.annotate(word, (pos[0],pos[2]), fontsize=15)\n"
   ]
  },
  {
   "cell_type": "code",
   "execution_count": 251,
   "metadata": {
    "ExecuteTime": {
     "end_time": "2019-08-27T08:35:46.672792Z",
     "start_time": "2019-08-27T08:35:46.545849Z"
    }
   },
   "outputs": [],
   "source": [
    "fig.savefig('../bpe')"
   ]
  }
 ],
 "metadata": {
  "kernelspec": {
   "display_name": "Python 3",
   "language": "python",
   "name": "python3"
  },
  "language_info": {
   "codemirror_mode": {
    "name": "ipython",
    "version": 3
   },
   "file_extension": ".py",
   "mimetype": "text/x-python",
   "name": "python",
   "nbconvert_exporter": "python",
   "pygments_lexer": "ipython3",
   "version": "3.7.3"
  }
 },
 "nbformat": 4,
 "nbformat_minor": 2
}
