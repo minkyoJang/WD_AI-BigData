{
 "cells": [
  {
   "cell_type": "code",
   "execution_count": 25,
   "metadata": {
    "ExecuteTime": {
     "end_time": "2019-08-27T10:57:15.549107Z",
     "start_time": "2019-08-27T10:57:15.539106Z"
    }
   },
   "outputs": [],
   "source": [
    "from utils.bp_processing import bp_tokenize\n",
    "from keras.preprocessing.sequence import pad_sequences\n",
    "import numpy as np\n",
    "import torch\n",
    "from attention.attention_model import StructuredSelfAttention\n",
    "from torch.autograd import Variable\n",
    "import pandas as pd\n",
    "import torch.utils.data as data_utils\n",
    " "
   ]
  },
  {
   "cell_type": "code",
   "execution_count": 43,
   "metadata": {
    "ExecuteTime": {
     "end_time": "2019-08-27T11:00:45.603948Z",
     "start_time": "2019-08-27T11:00:45.598951Z"
    }
   },
   "outputs": [],
   "source": [
    "MAX_LEN = 50\n",
    "VOCAB_SIZE = 260\n",
    "EMB_DIM = 10"
   ]
  },
  {
   "cell_type": "code",
   "execution_count": 44,
   "metadata": {
    "ExecuteTime": {
     "end_time": "2019-08-27T11:01:00.007687Z",
     "start_time": "2019-08-27T11:00:55.787108Z"
    }
   },
   "outputs": [],
   "source": [
    "import pandas as pd\n",
    "from sklearn.model_selection import train_test_split\n",
    "from imblearn.under_sampling import RandomUnderSampler"
   ]
  },
  {
   "cell_type": "code",
   "execution_count": 45,
   "metadata": {
    "ExecuteTime": {
     "end_time": "2019-08-27T11:01:00.196578Z",
     "start_time": "2019-08-27T11:01:00.021681Z"
    }
   },
   "outputs": [],
   "source": [
    "dataset = pd.read_csv('../../data/train.csv', encoding='utf-16')\n"
   ]
  },
  {
   "cell_type": "code",
   "execution_count": 46,
   "metadata": {
    "ExecuteTime": {
     "end_time": "2019-08-27T11:01:02.009726Z",
     "start_time": "2019-08-27T11:01:00.206575Z"
    }
   },
   "outputs": [
    {
     "name": "stderr",
     "output_type": "stream",
     "text": [
      "100%|████████████████████████████████████████████████████████████████████████| 42000/42000 [00:00<00:00, 176553.42it/s]\n"
     ]
    }
   ],
   "source": [
    "x_padded = bp_tokenize(dataset.comment)\n",
    "y = dataset.label"
   ]
  },
  {
   "cell_type": "code",
   "execution_count": 47,
   "metadata": {
    "ExecuteTime": {
     "end_time": "2019-08-27T11:01:02.617427Z",
     "start_time": "2019-08-27T11:01:02.013722Z"
    }
   },
   "outputs": [],
   "source": [
    "x_padded = pad_sequences(x_padded, maxlen=MAX_LEN)"
   ]
  },
  {
   "cell_type": "code",
   "execution_count": 48,
   "metadata": {
    "ExecuteTime": {
     "end_time": "2019-08-27T11:01:02.648359Z",
     "start_time": "2019-08-27T11:01:02.621379Z"
    }
   },
   "outputs": [],
   "source": [
    "\n",
    "model = torch.load('../model/self_attention_bp_mixed_10.pt')"
   ]
  },
  {
   "cell_type": "code",
   "execution_count": 49,
   "metadata": {
    "ExecuteTime": {
     "end_time": "2019-08-27T11:01:02.671351Z",
     "start_time": "2019-08-27T11:01:02.654361Z"
    }
   },
   "outputs": [
    {
     "data": {
      "text/plain": [
       "torch.Size([42000, 30])"
      ]
     },
     "execution_count": 49,
     "metadata": {},
     "output_type": "execute_result"
    }
   ],
   "source": [
    "x_test_var.shape"
   ]
  },
  {
   "cell_type": "code",
   "execution_count": 50,
   "metadata": {
    "ExecuteTime": {
     "end_time": "2019-08-27T11:01:43.417526Z",
     "start_time": "2019-08-27T11:01:18.140481Z"
    }
   },
   "outputs": [
    {
     "name": "stderr",
     "output_type": "stream",
     "text": [
      "C:\\Users\\skarn\\Anaconda3\\envs\\DataAnalysis\\lib\\site-packages\\torch\\nn\\functional.py:1320: UserWarning: nn.functional.tanh is deprecated. Use torch.tanh instead.\n",
      "  warnings.warn(\"nn.functional.tanh is deprecated. Use torch.tanh instead.\")\n",
      "E:\\data_campus\\korea-3\\src\\NLP\\attention\\attention_model.py:68: UserWarning: Implicit dimension choice for softmax has been deprecated. Change the call to include dim=X as an argument.\n",
      "  soft_max_2d = F.softmax(input_2d)\n",
      "C:\\Users\\skarn\\Anaconda3\\envs\\DataAnalysis\\lib\\site-packages\\torch\\nn\\functional.py:1332: UserWarning: nn.functional.sigmoid is deprecated. Use torch.sigmoid instead.\n",
      "  warnings.warn(\"nn.functional.sigmoid is deprecated. Use torch.sigmoid instead.\")\n"
     ]
    }
   ],
   "source": [
    "model.batch_size = x_padded.shape[0]\n",
    "model.hidden_state = model.init_hidden()\n",
    "x_test_var = Variable(torch.from_numpy(x_padded).type(torch.LongTensor))\n",
    "y_test_pred,_ = model(x_test_var)\n",
    "y_preds = torch.round(y_test_pred.type(torch.DoubleTensor).squeeze(1))"
   ]
  },
  {
   "cell_type": "code",
   "execution_count": 156,
   "metadata": {
    "ExecuteTime": {
     "end_time": "2019-08-27T11:39:07.411701Z",
     "start_time": "2019-08-27T11:39:07.362729Z"
    }
   },
   "outputs": [
    {
     "data": {
      "text/plain": [
       "0.13602380952380952"
      ]
     },
     "execution_count": 156,
     "metadata": {},
     "output_type": "execute_result"
    }
   ],
   "source": [
    "y_preds.data.numpy().sum() /len(y_preds) # 전체 데이터  유해 비율"
   ]
  },
  {
   "cell_type": "code",
   "execution_count": 53,
   "metadata": {
    "ExecuteTime": {
     "end_time": "2019-08-27T11:03:37.448342Z",
     "start_time": "2019-08-27T11:03:37.441344Z"
    }
   },
   "outputs": [
    {
     "data": {
      "text/plain": [
       "(42000, 4)"
      ]
     },
     "execution_count": 53,
     "metadata": {},
     "output_type": "execute_result"
    }
   ],
   "source": [
    "dataset.shape"
   ]
  },
  {
   "cell_type": "code",
   "execution_count": 62,
   "metadata": {
    "ExecuteTime": {
     "end_time": "2019-08-27T11:04:48.098682Z",
     "start_time": "2019-08-27T11:04:48.066689Z"
    }
   },
   "outputs": [],
   "source": [
    "dataset['pred'] = y_preds.data.numpy()"
   ]
  },
  {
   "cell_type": "code",
   "execution_count": 69,
   "metadata": {
    "ExecuteTime": {
     "end_time": "2019-08-27T11:06:20.255001Z",
     "start_time": "2019-08-27T11:06:20.248004Z"
    }
   },
   "outputs": [],
   "source": [
    "idgroup = dataset.groupby('url_id')"
   ]
  },
  {
   "cell_type": "code",
   "execution_count": 159,
   "metadata": {
    "ExecuteTime": {
     "end_time": "2019-08-27T11:39:33.987467Z",
     "start_time": "2019-08-27T11:39:33.943508Z"
    }
   },
   "outputs": [],
   "source": [
    "fuck_per = idgroup.pred.aggregate('sum') / idgroup.pred.count()"
   ]
  },
  {
   "cell_type": "code",
   "execution_count": 160,
   "metadata": {
    "ExecuteTime": {
     "end_time": "2019-08-27T11:39:34.512163Z",
     "start_time": "2019-08-27T11:39:34.502169Z"
    }
   },
   "outputs": [
    {
     "data": {
      "text/plain": [
       "0.16480850438330516"
      ]
     },
     "execution_count": 160,
     "metadata": {},
     "output_type": "execute_result"
    }
   ],
   "source": [
    "fuck_per.mean()"
   ]
  },
  {
   "cell_type": "code",
   "execution_count": 96,
   "metadata": {
    "ExecuteTime": {
     "end_time": "2019-08-27T11:14:07.578778Z",
     "start_time": "2019-08-27T11:14:07.572780Z"
    }
   },
   "outputs": [],
   "source": [
    "a = fuck_per.values"
   ]
  },
  {
   "cell_type": "code",
   "execution_count": 107,
   "metadata": {
    "ExecuteTime": {
     "end_time": "2019-08-27T11:16:09.885429Z",
     "start_time": "2019-08-27T11:16:09.875452Z"
    }
   },
   "outputs": [],
   "source": [
    "from matplotlib import pyplot as plt"
   ]
  },
  {
   "cell_type": "code",
   "execution_count": 112,
   "metadata": {
    "ExecuteTime": {
     "end_time": "2019-08-27T11:17:43.270430Z",
     "start_time": "2019-08-27T11:17:42.885596Z"
    }
   },
   "outputs": [],
   "source": [
    "import seaborn as sns"
   ]
  },
  {
   "cell_type": "code",
   "execution_count": 162,
   "metadata": {
    "ExecuteTime": {
     "end_time": "2019-08-27T11:51:30.551326Z",
     "start_time": "2019-08-27T11:51:30.023643Z"
    }
   },
   "outputs": [
    {
     "data": {
      "text/plain": [
       "[Text(0, 0.5, 'bj count'), Text(0.5, 0, 'bad_chat per all_chat')]"
      ]
     },
     "execution_count": 162,
     "metadata": {},
     "output_type": "execute_result"
    },
    {
     "data": {
      "image/png": "[encoded data removed]",
      "text/plain": [
       "<Figure size 1080x432 with 1 Axes>"
      ]
     },
     "metadata": {
      "needs_background": "light"
     },
     "output_type": "display_data"
    }
   ],
   "source": [
    "fig = plt.figure(figsize=(15,6))\n",
    "\n",
    "ax = sns.distplot(a)\n",
    "ax.set(xlabel='bad_chat per all_chat', ylabel='bj count')"
   ]
  },
  {
   "cell_type": "code",
   "execution_count": 163,
   "metadata": {
    "ExecuteTime": {
     "end_time": "2019-08-27T11:51:34.082301Z",
     "start_time": "2019-08-27T11:51:33.948377Z"
    }
   },
   "outputs": [],
   "source": [
    "fig.savefig('./bj별 유해도 분포')"
   ]
  },
  {
   "cell_type": "code",
   "execution_count": 136,
   "metadata": {
    "ExecuteTime": {
     "end_time": "2019-08-27T11:27:35.047125Z",
     "start_time": "2019-08-27T11:27:35.035132Z"
    }
   },
   "outputs": [
    {
     "data": {
      "text/plain": [
       "(0.18987468671679197, 0.13389904264577895, 0.16480850438330516)"
      ]
     },
     "execution_count": 136,
     "metadata": {},
     "output_type": "execute_result"
    }
   ],
   "source": [
    "np.percentile(a, 80) , np.median(a), np.mean(a)"
   ]
  },
  {
   "cell_type": "code",
   "execution_count": 157,
   "metadata": {
    "ExecuteTime": {
     "end_time": "2019-08-27T11:39:23.328576Z",
     "start_time": "2019-08-27T11:39:23.314582Z"
    }
   },
   "outputs": [
    {
     "data": {
      "text/plain": [
       "0.16480850438330516"
      ]
     },
     "execution_count": 157,
     "metadata": {},
     "output_type": "execute_result"
    }
   ],
   "source": [
    "a.mean()"
   ]
  },
  {
   "cell_type": "code",
   "execution_count": null,
   "metadata": {},
   "outputs": [],
   "source": []
  },
  {
   "cell_type": "code",
   "execution_count": 122,
   "metadata": {
    "ExecuteTime": {
     "end_time": "2019-08-27T11:22:15.261973Z",
     "start_time": "2019-08-27T11:22:14.993144Z"
    }
   },
   "outputs": [
    {
     "data": {
      "text/plain": [
       "<matplotlib.axes._subplots.AxesSubplot at 0x1d724d459e8>"
      ]
     },
     "execution_count": 122,
     "metadata": {},
     "output_type": "execute_result"
    },
    {
     "data": {
      "image/png": "[encoded data removed]",
      "text/plain": [
       "<Figure size 864x288 with 1 Axes>"
      ]
     },
     "metadata": {
      "needs_background": "light"
     },
     "output_type": "display_data"
    }
   ],
   "source": [
    "plt.figure(figsize=(12,4))\n",
    "sns.boxplot(a)"
   ]
  },
  {
   "cell_type": "code",
   "execution_count": 126,
   "metadata": {
    "ExecuteTime": {
     "end_time": "2019-08-27T11:24:03.137616Z",
     "start_time": "2019-08-27T11:24:02.778806Z"
    }
   },
   "outputs": [
    {
     "data": {
      "text/plain": [
       "{'whiskers': [<matplotlib.lines.Line2D at 0x1d724bf28d0>,\n",
       "  <matplotlib.lines.Line2D at 0x1d724ba4b70>],\n",
       " 'caps': [<matplotlib.lines.Line2D at 0x1d724ba4eb8>,\n",
       "  <matplotlib.lines.Line2D at 0x1d724ba4f98>],\n",
       " 'boxes': [<matplotlib.lines.Line2D at 0x1d724ba4438>],\n",
       " 'medians': [<matplotlib.lines.Line2D at 0x1d724d7a588>],\n",
       " 'fliers': [<matplotlib.lines.Line2D at 0x1d724d7a8d0>],\n",
       " 'means': []}"
      ]
     },
     "execution_count": 126,
     "metadata": {},
     "output_type": "execute_result"
    },
    {
     "data": {
      "image/png": "[encoded data removed]",
      "text/plain": [
       "<Figure size 432x288 with 1 Axes>"
      ]
     },
     "metadata": {
      "needs_background": "light"
     },
     "output_type": "display_data"
    }
   ],
   "source": [
    "plt.boxplot(a,)"
   ]
  }
 ],
 "metadata": {
  "kernelspec": {
   "display_name": "Python 3",
   "language": "python",
   "name": "python3"
  }
 },
 "nbformat": 4,
 "nbformat_minor": 2
}
