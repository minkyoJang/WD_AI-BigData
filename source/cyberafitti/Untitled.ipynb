{
 "cells": [
  {
   "cell_type": "code",
   "execution_count": 141,
   "metadata": {
    "ExecuteTime": {
     "end_time": "2019-08-22T05:55:06.291139Z",
     "start_time": "2019-08-22T05:55:06.283142Z"
    }
   },
   "outputs": [],
   "source": [
    "from utils.bp_processing import bp_tokenize\n",
    "from keras.preprocessing.sequence import pad_sequences\n",
    "import numpy as np\n",
    "import torch\n",
    "from attention.attention_model import StructuredSelfAttention\n",
    "from torch.autograd import Variable"
   ]
  },
  {
   "cell_type": "code",
   "execution_count": 142,
   "metadata": {
    "ExecuteTime": {
     "end_time": "2019-08-22T05:55:06.426061Z",
     "start_time": "2019-08-22T05:55:06.420063Z"
    }
   },
   "outputs": [],
   "source": [
    "x_input = ['시1발']"
   ]
  },
  {
   "cell_type": "code",
   "execution_count": 143,
   "metadata": {
    "ExecuteTime": {
     "end_time": "2019-08-22T05:55:06.559983Z",
     "start_time": "2019-08-22T05:55:06.553988Z"
    }
   },
   "outputs": [],
   "source": [
    "MAX_LEN = 50\n",
    "VOCAB_SIZE = 260\n",
    "EMB_DIM = 30"
   ]
  },
  {
   "cell_type": "code",
   "execution_count": 144,
   "metadata": {
    "ExecuteTime": {
     "end_time": "2019-08-22T05:55:06.702903Z",
     "start_time": "2019-08-22T05:55:06.678915Z"
    }
   },
   "outputs": [
    {
     "name": "stderr",
     "output_type": "stream",
     "text": [
      "100%|████████████████████████████████████████████████████████████████████████████████████████████| 1/1 [00:00<?, ?it/s]\n"
     ]
    }
   ],
   "source": [
    "tokenized = bp_tokenize(x_input)\n",
    "\n",
    "x_padded = pad_sequences(tokenized, maxlen=MAX_LEN, padding='post', truncating='post')"
   ]
  },
  {
   "cell_type": "code",
   "execution_count": 145,
   "metadata": {
    "ExecuteTime": {
     "end_time": "2019-08-22T05:55:06.853814Z",
     "start_time": "2019-08-22T05:55:06.808842Z"
    }
   },
   "outputs": [],
   "source": [
    "model = StructuredSelfAttention(batch_size=np.array(x_padded).shape[0],\n",
    "                                          lstm_hid_dim=50,\n",
    "                                          d_a=100,\n",
    "                                          r=10,\n",
    "                                          vocab_size=VOCAB_SIZE, \n",
    "                                          max_len=MAX_LEN,\n",
    "                                          )\n",
    "model = torch.load('./model/self_attention_bp.pt')"
   ]
  },
  {
   "cell_type": "code",
   "execution_count": 146,
   "metadata": {
    "ExecuteTime": {
     "end_time": "2019-08-22T05:55:06.931771Z",
     "start_time": "2019-08-22T05:55:06.924774Z"
    }
   },
   "outputs": [],
   "source": [
    "model.batch_size = np.array(x_padded).shape[0]\n",
    "model.hidden_state = model.init_hidden()"
   ]
  },
  {
   "cell_type": "code",
   "execution_count": 147,
   "metadata": {
    "ExecuteTime": {
     "end_time": "2019-08-22T05:55:07.132658Z",
     "start_time": "2019-08-22T05:55:07.052702Z"
    }
   },
   "outputs": [
    {
     "name": "stderr",
     "output_type": "stream",
     "text": [
      "C:\\Users\\skarn\\Anaconda3\\envs\\DataAnalysis\\lib\\site-packages\\torch\\nn\\functional.py:1320: UserWarning: nn.functional.tanh is deprecated. Use torch.tanh instead.\n",
      "  warnings.warn(\"nn.functional.tanh is deprecated. Use torch.tanh instead.\")\n",
      "E:\\data_campus\\korea-3\\src\\cyberafitti\\attention\\attention_model.py:68: UserWarning: Implicit dimension choice for softmax has been deprecated. Change the call to include dim=X as an argument.\n",
      "  soft_max_2d = F.softmax(input_2d)\n",
      "C:\\Users\\skarn\\Anaconda3\\envs\\DataAnalysis\\lib\\site-packages\\torch\\nn\\functional.py:1332: UserWarning: nn.functional.sigmoid is deprecated. Use torch.sigmoid instead.\n",
      "  warnings.warn(\"nn.functional.sigmoid is deprecated. Use torch.sigmoid instead.\")\n"
     ]
    }
   ],
   "source": [
    "x_torch = Variable(torch.from_numpy(x_padded).type(torch.LongTensor))\n",
    "y_test_pred, wts = model(x_torch)\n",
    "y_preds = torch.round(y_test_pred.type(torch.DoubleTensor).squeeze(1))"
   ]
  },
  {
   "cell_type": "code",
   "execution_count": 148,
   "metadata": {
    "ExecuteTime": {
     "end_time": "2019-08-22T05:55:07.196621Z",
     "start_time": "2019-08-22T05:55:07.182630Z"
    }
   },
   "outputs": [
    {
     "data": {
      "text/plain": [
       "tensor([[0.6042]], grad_fn=<SigmoidBackward>)"
      ]
     },
     "execution_count": 148,
     "metadata": {},
     "output_type": "execute_result"
    }
   ],
   "source": [
    "y_test_pred"
   ]
  },
  {
   "cell_type": "code",
   "execution_count": 149,
   "metadata": {
    "ExecuteTime": {
     "end_time": "2019-08-22T05:55:07.319549Z",
     "start_time": "2019-08-22T05:55:07.310553Z"
    }
   },
   "outputs": [],
   "source": [
    "wts_add_list = torch.sum(wts,1).data.numpy().tolist()"
   ]
  },
  {
   "cell_type": "code",
   "execution_count": 150,
   "metadata": {
    "ExecuteTime": {
     "end_time": "2019-08-22T05:55:07.438481Z",
     "start_time": "2019-08-22T05:55:07.428490Z"
    }
   },
   "outputs": [
    {
     "data": {
      "text/plain": [
       "50"
      ]
     },
     "execution_count": 150,
     "metadata": {},
     "output_type": "execute_result"
    }
   ],
   "source": [
    "len(wts_add_list[0])"
   ]
  },
  {
   "cell_type": "code",
   "execution_count": 151,
   "metadata": {
    "ExecuteTime": {
     "end_time": "2019-08-22T05:55:07.563410Z",
     "start_time": "2019-08-22T05:55:07.555421Z"
    }
   },
   "outputs": [
    {
     "data": {
      "text/plain": [
       "['시1발']"
      ]
     },
     "execution_count": 151,
     "metadata": {},
     "output_type": "execute_result"
    }
   ],
   "source": [
    "x_input"
   ]
  },
  {
   "cell_type": "code",
   "execution_count": 159,
   "metadata": {
    "ExecuteTime": {
     "end_time": "2019-08-22T06:00:15.748043Z",
     "start_time": "2019-08-22T06:00:15.740047Z"
    }
   },
   "outputs": [
    {
     "data": {
      "text/plain": [
       "['시 1 발']"
      ]
     },
     "execution_count": 159,
     "metadata": {},
     "output_type": "execute_result"
    }
   ],
   "source": [
    "text = [\" \".join(test)]\n",
    "text"
   ]
  },
  {
   "cell_type": "code",
   "execution_count": 153,
   "metadata": {
    "ExecuteTime": {
     "end_time": "2019-08-22T05:55:15.196042Z",
     "start_time": "2019-08-22T05:55:15.188052Z"
    }
   },
   "outputs": [
    {
     "data": {
      "text/plain": [
       "[0.24050356447696686,\n",
       " 0.09745665639638901,\n",
       " 0.007978110574185848,\n",
       " 0.08319713920354843,\n",
       " 0.1221911683678627,\n",
       " 1.8443886041641235,\n",
       " 1.3565956354141235,\n",
       " 2.3858635425567627,\n",
       " 2.2434144020080566,\n",
       " 1.0688000917434692,\n",
       " 0.2642684578895569,\n",
       " 0.061728790402412415,\n",
       " 0.02641034871339798,\n",
       " 0.017399977892637253,\n",
       " 0.012993725016713142,\n",
       " 0.01013429556041956,\n",
       " 0.008116078563034534,\n",
       " 0.006737140007317066,\n",
       " 0.0058501833118498325,\n",
       " 0.00529862567782402,\n",
       " 0.004956598859280348,\n",
       " 0.004741224460303783,\n",
       " 0.004602307919412851,\n",
       " 0.0045102122239768505,\n",
       " 0.00444742850959301,\n",
       " 0.004403487779200077,\n",
       " 0.004372000228613615,\n",
       " 0.00434897793456912,\n",
       " 0.004331853706389666,\n",
       " 0.004318938124924898,\n",
       " 0.004309084266424179,\n",
       " 0.004301499109715223,\n",
       " 0.004295613616704941,\n",
       " 0.004291018471121788,\n",
       " 0.0042874133214354515,\n",
       " 0.004284573718905449,\n",
       " 0.004282331094145775,\n",
       " 0.004280552268028259,\n",
       " 0.004279138520359993,\n",
       " 0.004278014879673719,\n",
       " 0.004277118947356939,\n",
       " 0.004276401828974485,\n",
       " 0.004275830462574959,\n",
       " 0.004275372717529535,\n",
       " 0.004275005776435137,\n",
       " 0.004274711944162846,\n",
       " 0.004274474922567606,\n",
       " 0.004274286329746246,\n",
       " 0.00427413871511817,\n",
       " 0.004274015314877033]"
      ]
     },
     "execution_count": 153,
     "metadata": {},
     "output_type": "execute_result"
    }
   ],
   "source": [
    "wts_add_list[0]"
   ]
  },
  {
   "cell_type": "code",
   "execution_count": null,
   "metadata": {},
   "outputs": [],
   "source": []
  }
 ],
 "metadata": {
  "kernelspec": {
   "display_name": "Python 3",
   "language": "python",
   "name": "python3"
  },
  "language_info": {
   "codemirror_mode": {
    "name": "ipython",
    "version": 3
   },
   "file_extension": ".py",
   "mimetype": "text/x-python",
   "name": "python",
   "nbconvert_exporter": "python",
   "pygments_lexer": "ipython3",
   "version": "3.7.3"
  }
 },
 "nbformat": 4,
 "nbformat_minor": 2
}
