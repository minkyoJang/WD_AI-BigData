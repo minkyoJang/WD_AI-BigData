{
 "cells": [
  {
   "cell_type": "code",
   "execution_count": 1,
   "metadata": {
    "ExecuteTime": {
     "end_time": "2019-08-12T06:57:20.052494Z",
     "start_time": "2019-08-12T06:56:59.911061Z"
    }
   },
   "outputs": [
    {
     "name": "stdout",
     "output_type": "stream",
     "text": [
      "Chan 2019-08-12 \n",
      "\n",
      "CPython 3.7.3\n",
      "IPython 7.6.1\n",
      "\n",
      "numpy 1.16.4\n",
      "pandas 0.24.2\n",
      "sklearn 0.21.2\n",
      "konlpy 0.5.1\n",
      "tensorflow 1.13.1\n",
      "matplotlib 3.1.0\n",
      "imblearn 0.5.0\n"
     ]
    }
   ],
   "source": [
    "%load_ext watermark\n",
    "%watermark -a Chan -d -v -p numpy,pandas,sklearn,konlpy,tensorflow,matplotlib,imblearn"
   ]
  },
  {
   "cell_type": "code",
   "execution_count": 2,
   "metadata": {
    "ExecuteTime": {
     "end_time": "2019-08-12T06:57:21.307772Z",
     "start_time": "2019-08-12T06:57:20.058489Z"
    }
   },
   "outputs": [],
   "source": [
    "import numpy as np\n",
    "import pandas as pd\n",
    "from sklearn.model_selection import train_test_split\n",
    "from konlpy.tag import Okt\n",
    "import tensorflow as tf\n",
    "from tensorflow.python.keras.preprocessing import sequence\n",
    "from tensorflow import keras\n",
    "from tqdm import tqdm\n",
    "from collections import Counter\n",
    "from matplotlib import pyplot as plt\n",
    "import pickle"
   ]
  },
  {
   "cell_type": "markdown",
   "metadata": {},
   "source": [
    "# Load datasets"
   ]
  },
  {
   "cell_type": "code",
   "execution_count": 3,
   "metadata": {
    "ExecuteTime": {
     "end_time": "2019-08-12T06:57:22.024360Z",
     "start_time": "2019-08-12T06:57:21.316767Z"
    }
   },
   "outputs": [
    {
     "name": "stdout",
     "output_type": "stream",
     "text": [
      "1\n",
      "2\n",
      "3\n",
      "4\n",
      "5\n",
      "6\n",
      "7\n",
      "8\n"
     ]
    },
    {
     "data": {
      "text/html": [
       "<div>\n",
       "<style scoped>\n",
       "    .dataframe tbody tr th:only-of-type {\n",
       "        vertical-align: middle;\n",
       "    }\n",
       "\n",
       "    .dataframe tbody tr th {\n",
       "        vertical-align: top;\n",
       "    }\n",
       "\n",
       "    .dataframe thead th {\n",
       "        text-align: right;\n",
       "    }\n",
       "</style>\n",
       "<table border=\"1\" class=\"dataframe\">\n",
       "  <thead>\n",
       "    <tr style=\"text-align: right;\">\n",
       "      <th></th>\n",
       "      <th>comment</th>\n",
       "      <th>url_id</th>\n",
       "      <th>label</th>\n",
       "    </tr>\n",
       "  </thead>\n",
       "  <tbody>\n",
       "    <tr>\n",
       "      <th>0</th>\n",
       "      <td>ㅜㅜ</td>\n",
       "      <td>77</td>\n",
       "      <td>0</td>\n",
       "    </tr>\n",
       "    <tr>\n",
       "      <th>1</th>\n",
       "      <td>ㅋㅋㅋㅋㅋㅋㅋㅋㅋㅋㅋㅋㅋㅋㅋㅋㅋㅋㅋㅋㅋ</td>\n",
       "      <td>17</td>\n",
       "      <td>0</td>\n",
       "    </tr>\n",
       "    <tr>\n",
       "      <th>2</th>\n",
       "      <td>헐</td>\n",
       "      <td>52</td>\n",
       "      <td>0</td>\n",
       "    </tr>\n",
       "    <tr>\n",
       "      <th>3</th>\n",
       "      <td>제시</td>\n",
       "      <td>75</td>\n",
       "      <td>0</td>\n",
       "    </tr>\n",
       "    <tr>\n",
       "      <th>4</th>\n",
       "      <td>이거인 듯</td>\n",
       "      <td>18</td>\n",
       "      <td>0</td>\n",
       "    </tr>\n",
       "  </tbody>\n",
       "</table>\n",
       "</div>"
      ],
      "text/plain": [
       "                 comment  url_id  label\n",
       "0                     ㅜㅜ      77      0\n",
       "1  ㅋㅋㅋㅋㅋㅋㅋㅋㅋㅋㅋㅋㅋㅋㅋㅋㅋㅋㅋㅋㅋ      17      0\n",
       "2                      헐      52      0\n",
       "3                     제시      75      0\n",
       "4                  이거인 듯      18      0"
      ]
     },
     "execution_count": 3,
     "metadata": {},
     "output_type": "execute_result"
    }
   ],
   "source": [
    "datasets = pd.DataFrame()\n",
    "for i in range(1,9):\n",
    "    print(i)\n",
    "    dump = pd.read_csv(\"../../data/labeled ({}).csv\".format(i), engine='python')\n",
    "    datasets = pd.concat([datasets, dump])\n",
    "datasets.head()"
   ]
  },
  {
   "cell_type": "code",
   "execution_count": 4,
   "metadata": {
    "ExecuteTime": {
     "end_time": "2019-08-12T06:57:22.057342Z",
     "start_time": "2019-08-12T06:57:22.031355Z"
    }
   },
   "outputs": [
    {
     "name": "stdout",
     "output_type": "stream",
     "text": [
      "<class 'pandas.core.frame.DataFrame'>\n",
      "Int64Index: 24000 entries, 0 to 2999\n",
      "Data columns (total 3 columns):\n",
      "comment    23999 non-null object\n",
      "url_id     24000 non-null int64\n",
      "label      24000 non-null int64\n",
      "dtypes: int64(2), object(1)\n",
      "memory usage: 750.0+ KB\n"
     ]
    }
   ],
   "source": [
    "datasets.info()"
   ]
  },
  {
   "cell_type": "code",
   "execution_count": 5,
   "metadata": {
    "ExecuteTime": {
     "end_time": "2019-08-12T06:57:22.075331Z",
     "start_time": "2019-08-12T06:57:22.062339Z"
    }
   },
   "outputs": [],
   "source": [
    "datasets.comment.fillna('NULL',inplace=True)"
   ]
  },
  {
   "cell_type": "code",
   "execution_count": 6,
   "metadata": {
    "ExecuteTime": {
     "end_time": "2019-08-12T06:57:22.101315Z",
     "start_time": "2019-08-12T06:57:22.080329Z"
    }
   },
   "outputs": [],
   "source": [
    "datasets.reset_index(drop=True,inplace=True)"
   ]
  },
  {
   "cell_type": "code",
   "execution_count": 7,
   "metadata": {
    "ExecuteTime": {
     "end_time": "2019-08-12T06:57:22.128302Z",
     "start_time": "2019-08-12T06:57:22.106313Z"
    }
   },
   "outputs": [],
   "source": [
    "datasets.label = datasets.label.astype('int')"
   ]
  },
  {
   "cell_type": "code",
   "execution_count": 8,
   "metadata": {
    "ExecuteTime": {
     "end_time": "2019-08-12T06:57:22.167278Z",
     "start_time": "2019-08-12T06:57:22.136297Z"
    }
   },
   "outputs": [
    {
     "data": {
      "text/plain": [
       "0.04641666666666667"
      ]
     },
     "execution_count": 8,
     "metadata": {},
     "output_type": "execute_result"
    }
   ],
   "source": [
    "len(datasets[datasets.label ==1])/ len(datasets) # 유해한 레이블의 데이터가 많이 부족함 데이터 편향ㅠㅠ"
   ]
  },
  {
   "cell_type": "markdown",
   "metadata": {
    "ExecuteTime": {
     "end_time": "2019-08-06T15:38:19.687895Z",
     "start_time": "2019-08-06T15:38:19.677899Z"
    }
   },
   "source": [
    "# Tokenize\n",
    "## 형태소분석"
   ]
  },
  {
   "cell_type": "code",
   "execution_count": 9,
   "metadata": {
    "ExecuteTime": {
     "end_time": "2019-08-12T06:57:26.119026Z",
     "start_time": "2019-08-12T06:57:22.172275Z"
    }
   },
   "outputs": [
    {
     "name": "stderr",
     "output_type": "stream",
     "text": [
      "C:\\Users\\skarn\\Anaconda3\\envs\\DataAnalysis\\lib\\site-packages\\jpype\\_core.py:210: UserWarning: \n",
      "-------------------------------------------------------------------------------\n",
      "Deprecated: convertStrings was not specified when starting the JVM. The default\n",
      "behavior in JPype will be False starting in JPype 0.8. The recommended setting\n",
      "for new code is convertStrings=False.  The legacy value of True was assumed for\n",
      "this session. If you are a user of an application that reported this warning,\n",
      "please file a ticket with the developer.\n",
      "-------------------------------------------------------------------------------\n",
      "\n",
      "  \"\"\")\n"
     ]
    }
   ],
   "source": [
    "morp = Okt()"
   ]
  },
  {
   "cell_type": "code",
   "execution_count": 10,
   "metadata": {
    "ExecuteTime": {
     "end_time": "2019-08-12T06:58:39.475877Z",
     "start_time": "2019-08-12T06:57:26.122007Z"
    }
   },
   "outputs": [
    {
     "name": "stderr",
     "output_type": "stream",
     "text": [
      "100%|███████████████████████████████████████████████████████████████████████████| 24000/24000 [01:13<00:00, 327.27it/s]\n"
     ]
    }
   ],
   "source": [
    "morped = [morp.morphs(_, norm=True, stem=True) for _ in tqdm(datasets.comment)] # Stemming은 하지 않는다."
   ]
  },
  {
   "cell_type": "code",
   "execution_count": 11,
   "metadata": {
    "ExecuteTime": {
     "end_time": "2019-08-12T06:58:39.494865Z",
     "start_time": "2019-08-12T06:58:39.482874Z"
    }
   },
   "outputs": [
    {
     "data": {
      "text/plain": [
       "[['ㅜㅜ'], ['ㅋㅋㅋ'], ['헐다'], ['제시'], ['이', '거인', '듯']]"
      ]
     },
     "execution_count": 11,
     "metadata": {},
     "output_type": "execute_result"
    }
   ],
   "source": [
    "morped[:5]"
   ]
  },
  {
   "cell_type": "markdown",
   "metadata": {},
   "source": [
    "## Dictionary\n",
    "최빈 형태소에 대한 단어사전 구성"
   ]
  },
  {
   "cell_type": "code",
   "execution_count": 12,
   "metadata": {
    "ExecuteTime": {
     "end_time": "2019-08-12T06:58:40.220450Z",
     "start_time": "2019-08-12T06:58:39.508858Z"
    }
   },
   "outputs": [
    {
     "name": "stdout",
     "output_type": "stream",
     "text": [
      "고빈도 단어:\n",
      "ㅋㅋㅋ :  4524\n",
      "? :  1825\n",
      "이 :  1753\n",
      "하다 :  1353\n",
      "! :  646\n",
      "ㅋㅋ :  629\n",
      "가 :  600\n",
      "오다 :  543\n",
      "아 :  500\n",
      "이다 :  467\n",
      "\n",
      "단어 사전:\n",
      "0 <PAD>\n",
      "1 <OOV>\n",
      "2 ㅋㅋㅋ\n",
      "3 ?\n",
      "4 이\n",
      "5 하다\n",
      "6 !\n",
      "7 ㅋㅋ\n",
      "8 가\n",
      "9 오다\n",
      "\n",
      "단어 사전 크기:  10000\n"
     ]
    }
   ],
   "source": [
    "vocab_size = 10000\n",
    "\n",
    "pad_id = 0\n",
    "oov_id = 1\n",
    "index_offset = 1\n",
    "\n",
    "def make_vocab(sentences):\n",
    "    word_counter = Counter()\n",
    "\n",
    "    for sent in sentences:\n",
    "        word_counter.update(sent)\n",
    "\n",
    "    most_common = word_counter.most_common()\n",
    "    print(\"고빈도 단어:\")\n",
    "    for k, v in most_common[:10]:\n",
    "        print(k, \": \", v)\n",
    "\n",
    "        vocab = {\n",
    "        '<PAD>': pad_id,\n",
    "        '<OOV>': oov_id\n",
    "        }\n",
    "    for i, (word, cnt) in enumerate(most_common, start=index_offset+1):\n",
    "        vocab[word] = i\n",
    "        if len(vocab) >= vocab_size:\n",
    "            break\n",
    "\n",
    "    return vocab\n",
    "\n",
    "word_index = make_vocab(morped)\n",
    "word_inverted_index = {v:k for k, v in word_index.items()}\n",
    "\n",
    "print(\"\\n단어 사전:\")\n",
    "for i in range(0, 10):\n",
    "    print(i, word_inverted_index[i])\n",
    "\n",
    "print(\"\\n단어 사전 크기: \", len(word_index))\n",
    "\n",
    "# vocab save\n",
    "with open('./vocab/vocab_index.pickle', 'wb') as f:\n",
    "    pickle.dump(word_index, f, pickle.HIGHEST_PROTOCOL)\n",
    "with open('./vocab/vocab_inverted_index.pickle', 'wb') as f:\n",
    "    pickle.dump(word_inverted_index, f, pickle.HIGHEST_PROTOCOL)"
   ]
  },
  {
   "cell_type": "code",
   "execution_count": 13,
   "metadata": {
    "ExecuteTime": {
     "end_time": "2019-08-12T06:58:40.281416Z",
     "start_time": "2019-08-12T06:58:40.241439Z"
    }
   },
   "outputs": [
    {
     "name": "stdout",
     "output_type": "stream",
     "text": [
      "원본:  ['ㅜㅜ']\n",
      "문자 -> 숫자:  [250]\n",
      "숫자 -> 문자:  ㅜㅜ\n"
     ]
    }
   ],
   "source": [
    "def index_to_text(indexes):\n",
    "    return ' '.join([word_inverted_index[i] for i in indexes])\n",
    "\n",
    "def text_to_index(tokens):\n",
    "    indexes = []\n",
    "    for tok in tokens:\n",
    "        if tok in word_index:\n",
    "            indexes.append(word_index[tok])\n",
    "        else:\n",
    "            indexes.append(oov_id)\n",
    "\n",
    "    return indexes\n",
    "\n",
    "print(\"원본: \", morped[0])\n",
    "ids = text_to_index(morped[0])\n",
    "print(\"문자 -> 숫자: \", ids)\n",
    "print(\"숫자 -> 문자: \", index_to_text(ids))"
   ]
  },
  {
   "cell_type": "markdown",
   "metadata": {},
   "source": [
    "# Padding"
   ]
  },
  {
   "cell_type": "code",
   "execution_count": 14,
   "metadata": {
    "ExecuteTime": {
     "end_time": "2019-08-12T06:58:41.303828Z",
     "start_time": "2019-08-12T06:58:40.286412Z"
    }
   },
   "outputs": [],
   "source": [
    "x_variable = [text_to_index(_) for _ in morped]\n",
    "\n",
    "sentence_size = 10\n",
    "x_padded = sequence.pad_sequences(x_variable,\n",
    "                                 maxlen=sentence_size,\n",
    "                                 truncating='post',\n",
    "                                 padding='post',\n",
    "                                 value=pad_id)"
   ]
  },
  {
   "cell_type": "code",
   "execution_count": 15,
   "metadata": {
    "ExecuteTime": {
     "end_time": "2019-08-12T06:58:41.334810Z",
     "start_time": "2019-08-12T06:58:41.312823Z"
    }
   },
   "outputs": [],
   "source": [
    "def plot_loss(history):\n",
    "    plt.figure(figsize=(6,5))\n",
    "    val = plt.plot(history.epoch, history.history['val_loss'],\n",
    "                 '--', label='Test')\n",
    "    plt.plot(history.epoch, history.history['loss'], color=val[0].get_color(),\n",
    "           label='Train')\n",
    "\n",
    "    plt.xlabel('Epochs')\n",
    "    plt.ylabel(\"Loss\")\n",
    "    plt.legend()\n",
    "\n",
    "    plt.xlim([0,max(history.epoch)])"
   ]
  },
  {
   "cell_type": "code",
   "execution_count": 16,
   "metadata": {
    "ExecuteTime": {
     "end_time": "2019-08-12T06:58:41.389778Z",
     "start_time": "2019-08-12T06:58:41.341807Z"
    }
   },
   "outputs": [],
   "source": [
    "import warnings\n",
    "warnings.filterwarnings(action='once')"
   ]
  },
  {
   "cell_type": "markdown",
   "metadata": {},
   "source": [
    "\n",
    "# 데이터 클래스 불균형 문제 해결하자"
   ]
  },
  {
   "cell_type": "code",
   "execution_count": 17,
   "metadata": {
    "ExecuteTime": {
     "end_time": "2019-08-12T06:58:41.445752Z",
     "start_time": "2019-08-12T06:58:41.395775Z"
    }
   },
   "outputs": [],
   "source": [
    "from imblearn.under_sampling import RandomUnderSampler\n",
    "from imblearn.over_sampling import RandomOverSampler"
   ]
  },
  {
   "cell_type": "markdown",
   "metadata": {},
   "source": [
    "## upsampling\n",
    "- 딥러닝은 데이터가 많을수록 좋다.\n",
    "- 보다 많은 데이터 사용을 위해 upsampling을 사용하자!"
   ]
  },
  {
   "cell_type": "code",
   "execution_count": 18,
   "metadata": {
    "ExecuteTime": {
     "end_time": "2019-08-12T06:58:41.545688Z",
     "start_time": "2019-08-12T06:58:41.451742Z"
    }
   },
   "outputs": [
    {
     "data": {
      "text/plain": [
       "(45772, 22886)"
      ]
     },
     "execution_count": 18,
     "metadata": {},
     "output_type": "execute_result"
    }
   ],
   "source": [
    "up_X, up_y = RandomOverSampler().fit_resample(x_padded, datasets.label)\n",
    "up_X_train, up_X_test, up_y_train, up_y_test = train_test_split(up_X, up_y)\n",
    "\n",
    "# 총 데이터 수 , 1 레이블 데이터 수\n",
    "len(up_y), up_y.sum()"
   ]
  },
  {
   "cell_type": "code",
   "execution_count": 19,
   "metadata": {
    "ExecuteTime": {
     "end_time": "2019-08-12T06:58:42.265279Z",
     "start_time": "2019-08-12T06:58:41.553683Z"
    }
   },
   "outputs": [
    {
     "name": "stderr",
     "output_type": "stream",
     "text": [
      "C:\\Users\\skarn\\Anaconda3\\envs\\DataAnalysis\\lib\\site-packages\\numpy\\lib\\type_check.py:546: DeprecationWarning: np.asscalar(a) is deprecated since NumPy v1.16, use a.item() instead\n",
      "  'a.item() instead', DeprecationWarning, stacklevel=1)\n"
     ]
    },
    {
     "name": "stdout",
     "output_type": "stream",
     "text": [
      "WARNING:tensorflow:From C:\\Users\\skarn\\Anaconda3\\envs\\DataAnalysis\\lib\\site-packages\\tensorflow\\python\\ops\\resource_variable_ops.py:435: colocate_with (from tensorflow.python.framework.ops) is deprecated and will be removed in a future version.\n",
      "Instructions for updating:\n",
      "Colocations handled automatically by placer.\n",
      "WARNING:tensorflow:From C:\\Users\\skarn\\Anaconda3\\envs\\DataAnalysis\\lib\\site-packages\\tensorflow\\python\\keras\\layers\\core.py:143: calling dropout (from tensorflow.python.ops.nn_ops) with keep_prob is deprecated and will be removed in a future version.\n",
      "Instructions for updating:\n",
      "Please use `rate` instead of `keep_prob`. Rate should be set to `rate = 1 - keep_prob`.\n"
     ]
    }
   ],
   "source": [
    "model_up = keras.Sequential([\n",
    "    keras.layers.Embedding(vocab_size, 10),\n",
    "    keras.layers.Conv1D(32, 3, padding=\"same\", activation=tf.nn.relu),\n",
    "    keras.layers.Dropout(0.5),\n",
    "    keras.layers.Conv1D(32, 3, padding=\"same\", activation=tf.nn.relu),\n",
    "    keras.layers.GlobalMaxPool1D(),\n",
    "    keras.layers.Dropout(0.5),\n",
    "    keras.layers.Dense(2, activation=tf.nn.sigmoid)\n",
    "])"
   ]
  },
  {
   "cell_type": "code",
   "execution_count": 20,
   "metadata": {
    "ExecuteTime": {
     "end_time": "2019-08-12T07:00:07.456349Z",
     "start_time": "2019-08-12T06:58:42.273271Z"
    }
   },
   "outputs": [
    {
     "name": "stdout",
     "output_type": "stream",
     "text": [
      "Train on 34329 samples, validate on 11443 samples\n",
      "WARNING:tensorflow:From C:\\Users\\skarn\\Anaconda3\\envs\\DataAnalysis\\lib\\site-packages\\tensorflow\\python\\ops\\math_ops.py:3066: to_int32 (from tensorflow.python.ops.math_ops) is deprecated and will be removed in a future version.\n",
      "Instructions for updating:\n",
      "Use tf.cast instead.\n",
      "WARNING:tensorflow:From C:\\Users\\skarn\\Anaconda3\\envs\\DataAnalysis\\lib\\site-packages\\tensorflow\\python\\ops\\math_grad.py:102: div (from tensorflow.python.ops.math_ops) is deprecated and will be removed in a future version.\n",
      "Instructions for updating:\n",
      "Deprecated in favor of operator or tf.math.divide.\n",
      "Epoch 1/5\n"
     ]
    },
    {
     "name": "stdout",
     "output_type": "stream",
     "text": [
      "22048/34329 [==================>...........] - ETA: 2:01:36 - loss: 0.6969 - recall: 0.125 - ETA: 40:49 - loss: 0.6941 - recall: 0.1458  - ETA: 20:30 - loss: 0.6933 - recall: 0.114 - ETA: 15:31 - loss: 0.6939 - recall: 0.113 - ETA: 9:35 - loss: 0.6926 - recall: 0.115 - ETA: 7:51 - loss: 0.6928 - recall: 0.11 - ETA: 7:00 - loss: 0.6924 - recall: 0.12 - ETA: 5:46 - loss: 0.6923 - recall: 0.13 - ETA: 5:33 - loss: 0.6923 - recall: 0.14 - ETA: 5:23 - loss: 0.6923 - recall: 0.14 - ETA: 4:38 - loss: 0.6924 - recall: 0.17 - ETA: 4:04 - loss: 0.6922 - recall: 0.18 - ETA: 3:58 - loss: 0.6920 - recall: 0.19 - ETA: 3:46 - loss: 0.6921 - recall: 0.19 - ETA: 3:23 - loss: 0.6922 - recall: 0.19 - ETA: 3:01 - loss: 0.6920 - recall: 0.22 - ETA: 2:50 - loss: 0.6919 - recall: 0.23 - ETA: 2:44 - loss: 0.6921 - recall: 0.23 - ETA: 2:36 - loss: 0.6921 - recall: 0.23 - ETA: 2:23 - loss: 0.6919 - recall: 0.25 - ETA: 2:14 - loss: 0.6918 - recall: 0.27 - ETA: 2:06 - loss: 0.6916 - recall: 0.28 - ETA: 2:01 - loss: 0.6913 - recall: 0.29 - ETA: 1:58 - loss: 0.6912 - recall: 0.30 - ETA: 1:52 - loss: 0.6908 - recall: 0.31 - ETA: 1:48 - loss: 0.6904 - recall: 0.32 - ETA: 1:44 - loss: 0.6901 - recall: 0.33 - ETA: 1:42 - loss: 0.6903 - recall: 0.33 - ETA: 1:38 - loss: 0.6898 - recall: 0.34 - ETA: 1:35 - loss: 0.6899 - recall: 0.34 - ETA: 1:33 - loss: 0.6899 - recall: 0.35 - ETA: 1:29 - loss: 0.6900 - recall: 0.35 - ETA: 1:28 - loss: 0.6900 - recall: 0.35 - ETA: 1:29 - loss: 0.6901 - recall: 0.35 - ETA: 1:29 - loss: 0.6900 - recall: 0.36 - ETA: 1:29 - loss: 0.6898 - recall: 0.36 - ETA: 1:29 - loss: 0.6895 - recall: 0.36 - ETA: 1:29 - loss: 0.6896 - recall: 0.37 - ETA: 1:26 - loss: 0.6891 - recall: 0.38 - ETA: 1:23 - loss: 0.6889 - recall: 0.38 - ETA: 1:21 - loss: 0.6889 - recall: 0.39 - ETA: 1:19 - loss: 0.6884 - recall: 0.39 - ETA: 1:18 - loss: 0.6881 - recall: 0.40 - ETA: 1:17 - loss: 0.6881 - recall: 0.40 - ETA: 1:16 - loss: 0.6880 - recall: 0.40 - ETA: 1:14 - loss: 0.6874 - recall: 0.41 - ETA: 1:12 - loss: 0.6869 - recall: 0.41 - ETA: 1:10 - loss: 0.6865 - recall: 0.42 - ETA: 1:08 - loss: 0.6863 - recall: 0.43 - ETA: 1:07 - loss: 0.6858 - recall: 0.43 - ETA: 1:06 - loss: 0.6852 - recall: 0.43 - ETA: 1:05 - loss: 0.6849 - recall: 0.44 - ETA: 1:03 - loss: 0.6840 - recall: 0.44 - ETA: 1:02 - loss: 0.6832 - recall: 0.45 - ETA: 1:00 - loss: 0.6821 - recall: 0.46 - ETA: 58s - loss: 0.6803 - recall: 0.4689 - ETA: 56s - loss: 0.6796 - recall: 0.474 - ETA: 55s - loss: 0.6786 - recall: 0.478 - ETA: 54s - loss: 0.6772 - recall: 0.483 - ETA: 52s - loss: 0.6758 - recall: 0.488 - ETA: 51s - loss: 0.6743 - recall: 0.493 - ETA: 51s - loss: 0.6739 - recall: 0.494 - ETA: 49s - loss: 0.6712 - recall: 0.500 - ETA: 48s - loss: 0.6691 - recall: 0.505 - ETA: 48s - loss: 0.6687 - recall: 0.505 - ETA: 47s - loss: 0.6667 - recall: 0.509 - ETA: 46s - loss: 0.6650 - recall: 0.513 - ETA: 45s - loss: 0.6629 - recall: 0.517 - ETA: 45s - loss: 0.6602 - recall: 0.522 - ETA: 44s - loss: 0.6584 - recall: 0.526 - ETA: 43s - loss: 0.6566 - recall: 0.529 - ETA: 42s - loss: 0.6535 - recall: 0.534 - ETA: 42s - loss: 0.6514 - recall: 0.537 - ETA: 42s - loss: 0.6508 - recall: 0.538 - ETA: 41s - loss: 0.6485 - recall: 0.543 - ETA: 40s - loss: 0.6464 - recall: 0.547 - ETA: 40s - loss: 0.6449 - recall: 0.549 - ETA: 40s - loss: 0.6435 - recall: 0.551 - ETA: 41s - loss: 0.6437 - recall: 0.552 - ETA: 41s - loss: 0.6427 - recall: 0.553 - ETA: 41s - loss: 0.6400 - recall: 0.556 - ETA: 40s - loss: 0.6378 - recall: 0.559 - ETA: 40s - loss: 0.6365 - recall: 0.562 - ETA: 40s - loss: 0.6357 - recall: 0.563 - ETA: 40s - loss: 0.6352 - recall: 0.564 - ETA: 39s - loss: 0.6334 - recall: 0.567 - ETA: 39s - loss: 0.6316 - recall: 0.569 - ETA: 39s - loss: 0.6303 - recall: 0.571 - ETA: 38s - loss: 0.6279 - recall: 0.574 - ETA: 38s - loss: 0.6249 - recall: 0.578 - ETA: 37s - loss: 0.6233 - recall: 0.580 - ETA: 37s - loss: 0.6216 - recall: 0.583 - ETA: 36s - loss: 0.6174 - recall: 0.587 - ETA: 36s - loss: 0.6158 - recall: 0.589 - ETA: 35s - loss: 0.6131 - recall: 0.593 - ETA: 35s - loss: 0.6123 - recall: 0.595 - ETA: 34s - loss: 0.6095 - recall: 0.598 - ETA: 34s - loss: 0.6064 - recall: 0.602 - ETA: 33s - loss: 0.6053 - recall: 0.603 - ETA: 33s - loss: 0.6029 - recall: 0.607 - ETA: 32s - loss: 0.5998 - recall: 0.610 - ETA: 32s - loss: 0.5986 - recall: 0.613 - ETA: 32s - loss: 0.5969 - recall: 0.615 - ETA: 31s - loss: 0.5944 - recall: 0.618 - ETA: 31s - loss: 0.5920 - recall: 0.621 - ETA: 30s - loss: 0.5900 - recall: 0.624 - ETA: 30s - loss: 0.5886 - recall: 0.626 - ETA: 29s - loss: 0.5858 - recall: 0.629 - ETA: 29s - loss: 0.5832 - recall: 0.631 - ETA: 29s - loss: 0.5823 - recall: 0.632 - ETA: 29s - loss: 0.5806 - recall: 0.634 - ETA: 28s - loss: 0.5789 - recall: 0.636 - ETA: 28s - loss: 0.5778 - recall: 0.637 - ETA: 28s - loss: 0.5758 - recall: 0.640 - ETA: 27s - loss: 0.5735 - recall: 0.642 - ETA: 27s - loss: 0.5727 - recall: 0.643 - ETA: 27s - loss: 0.5704 - recall: 0.646 - ETA: 27s - loss: 0.5687 - recall: 0.648 - ETA: 26s - loss: 0.5675 - recall: 0.650 - ETA: 26s - loss: 0.5656 - recall: 0.652 - ETA: 26s - loss: 0.5640 - recall: 0.654 - ETA: 25s - loss: 0.5618 - recall: 0.656 - ETA: 25s - loss: 0.5599 - recall: 0.658 - ETA: 25s - loss: 0.5591 - recall: 0.660 - ETA: 24s - loss: 0.5571 - recall: 0.663 - ETA: 24s - loss: 0.5546 - recall: 0.665 - ETA: 24s - loss: 0.5537 - recall: 0.666 - ETA: 24s - loss: 0.5525 - recall: 0.667 - ETA: 23s - loss: 0.5511 - recall: 0.669 - ETA: 23s - loss: 0.5496 - recall: 0.670 - ETA: 23s - loss: 0.5476 - recall: 0.672 - ETA: 23s - loss: 0.5461 - recall: 0.674 - ETA: 22s - loss: 0.5434 - recall: 0.677 - ETA: 22s - loss: 0.5417 - recall: 0.678 - ETA: 22s - loss: 0.5395 - recall: 0.680 - ETA: 21s - loss: 0.5378 - recall: 0.682 - ETA: 21s - loss: 0.5353 - recall: 0.684 - ETA: 21s - loss: 0.5330 - recall: 0.686 - ETA: 21s - loss: 0.5306 - recall: 0.688 - ETA: 20s - loss: 0.5287 - recall: 0.689 - ETA: 20s - loss: 0.5262 - recall: 0.691 - ETA: 20s - loss: 0.5250 - recall: 0.693 - ETA: 19s - loss: 0.5238 - recall: 0.695 - ETA: 19s - loss: 0.5223 - recall: 0.696 - ETA: 19s - loss: 0.5215 - recall: 0.697 - ETA: 19s - loss: 0.5210 - recall: 0.698 - ETA: 19s - loss: 0.5198 - recall: 0.699 - ETA: 19s - loss: 0.5179 - recall: 0.701 - ETA: 18s - loss: 0.5160 - recall: 0.702 - ETA: 18s - loss: 0.5145 - recall: 0.704 - ETA: 18s - loss: 0.5133 - recall: 0.705 - ETA: 18s - loss: 0.5118 - recall: 0.707 - ETA: 17s - loss: 0.5105 - recall: 0.708 - ETA: 17s - loss: 0.5100 - recall: 0.709 - ETA: 17s - loss: 0.5080 - recall: 0.711 - ETA: 17s - loss: 0.5063 - recall: 0.712 - ETA: 17s - loss: 0.5040 - recall: 0.714 - ETA: 16s - loss: 0.5020 - recall: 0.716 - ETA: 16s - loss: 0.5007 - recall: 0.717 - ETA: 16s - loss: 0.5003 - recall: 0.718 - ETA: 16s - loss: 0.4998 - recall: 0.719 - ETA: 16s - loss: 0.4983 - recall: 0.720 - ETA: 15s - loss: 0.4963 - recall: 0.722 - ETA: 15s - loss: 0.4952 - recall: 0.723 - ETA: 15s - loss: 0.4939 - recall: 0.724 - ETA: 15s - loss: 0.4929 - recall: 0.725 - ETA: 15s - loss: 0.4908 - recall: 0.727 - ETA: 15s - loss: 0.4890 - recall: 0.728 - ETA: 14s - loss: 0.4879 - recall: 0.729 - ETA: 14s - loss: 0.4869 - recall: 0.730 - ETA: 14s - loss: 0.4861 - recall: 0.731 - ETA: 14s - loss: 0.4844 - recall: 0.733 - ETA: 14s - loss: 0.4823 - recall: 0.734 - ETA: 13s - loss: 0.4804 - recall: 0.736 - ETA: 13s - loss: 0.4796 - recall: 0.737 - ETA: 13s - loss: 0.4787 - recall: 0.738 - ETA: 13s - loss: 0.4783 - recall: 0.738 - ETA: 13s - loss: 0.4762 - recall: 0.740 - ETA: 13s - loss: 0.4753 - recall: 0.741 - ETA: 12s - loss: 0.4742 - recall: 0.742 - ETA: 12s - loss: 0.4725 - recall: 0.743 - ETA: 12s - loss: 0.4711 - recall: 0.744 - ETA: 12s - loss: 0.4699 - recall: 0.745 - ETA: 12s - loss: 0.4686 - recall: 0.746 - ETA: 12s - loss: 0.4678 - recall: 0.747 - ETA: 11s - loss: 0.4667 - recall: 0.748 - ETA: 11s - loss: 0.4657 - recall: 0.749 - ETA: 11s - loss: 0.4650 - recall: 0.750 - ETA: 11s - loss: 0.4639 - recall: 0.750 - ETA: 11s - loss: 0.4635 - recall: 0.751 - ETA: 11s - loss: 0.4621 - recall: 0.752 - ETA: 11s - loss: 0.4605 - recall: 0.753 - ETA: 10s - loss: 0.4595 - recall: 0.754 - ETA: 10s - loss: 0.4584 - recall: 0.7557"
     ]
    },
    {
     "name": "stdout",
     "output_type": "stream",
     "text": [
      "34329/34329 [==============================] - ETA: 10s - loss: 0.4569 - recall: 0.756 - ETA: 10s - loss: 0.4557 - recall: 0.758 - ETA: 10s - loss: 0.4543 - recall: 0.759 - ETA: 10s - loss: 0.4535 - recall: 0.759 - ETA: 9s - loss: 0.4531 - recall: 0.760 - ETA: 9s - loss: 0.4519 - recall: 0.76 - ETA: 9s - loss: 0.4502 - recall: 0.76 - ETA: 9s - loss: 0.4486 - recall: 0.76 - ETA: 9s - loss: 0.4473 - recall: 0.76 - ETA: 9s - loss: 0.4459 - recall: 0.76 - ETA: 8s - loss: 0.4446 - recall: 0.76 - ETA: 8s - loss: 0.4438 - recall: 0.76 - ETA: 8s - loss: 0.4427 - recall: 0.76 - ETA: 8s - loss: 0.4418 - recall: 0.76 - ETA: 8s - loss: 0.4412 - recall: 0.76 - ETA: 8s - loss: 0.4402 - recall: 0.77 - ETA: 8s - loss: 0.4387 - recall: 0.77 - ETA: 7s - loss: 0.4373 - recall: 0.77 - ETA: 7s - loss: 0.4360 - recall: 0.77 - ETA: 7s - loss: 0.4347 - recall: 0.77 - ETA: 7s - loss: 0.4336 - recall: 0.77 - ETA: 7s - loss: 0.4323 - recall: 0.77 - ETA: 7s - loss: 0.4319 - recall: 0.77 - ETA: 7s - loss: 0.4320 - recall: 0.77 - ETA: 7s - loss: 0.4311 - recall: 0.77 - ETA: 7s - loss: 0.4311 - recall: 0.77 - ETA: 7s - loss: 0.4300 - recall: 0.77 - ETA: 6s - loss: 0.4294 - recall: 0.77 - ETA: 6s - loss: 0.4283 - recall: 0.77 - ETA: 6s - loss: 0.4272 - recall: 0.78 - ETA: 6s - loss: 0.4266 - recall: 0.78 - ETA: 6s - loss: 0.4255 - recall: 0.78 - ETA: 6s - loss: 0.4246 - recall: 0.78 - ETA: 6s - loss: 0.4233 - recall: 0.78 - ETA: 6s - loss: 0.4221 - recall: 0.78 - ETA: 6s - loss: 0.4217 - recall: 0.78 - ETA: 5s - loss: 0.4208 - recall: 0.78 - ETA: 5s - loss: 0.4199 - recall: 0.78 - ETA: 5s - loss: 0.4186 - recall: 0.78 - ETA: 5s - loss: 0.4176 - recall: 0.78 - ETA: 5s - loss: 0.4165 - recall: 0.78 - ETA: 5s - loss: 0.4160 - recall: 0.78 - ETA: 5s - loss: 0.4155 - recall: 0.78 - ETA: 5s - loss: 0.4144 - recall: 0.78 - ETA: 5s - loss: 0.4131 - recall: 0.79 - ETA: 4s - loss: 0.4119 - recall: 0.79 - ETA: 4s - loss: 0.4116 - recall: 0.79 - ETA: 4s - loss: 0.4104 - recall: 0.79 - ETA: 4s - loss: 0.4096 - recall: 0.79 - ETA: 4s - loss: 0.4089 - recall: 0.79 - ETA: 4s - loss: 0.4081 - recall: 0.79 - ETA: 4s - loss: 0.4072 - recall: 0.79 - ETA: 4s - loss: 0.4064 - recall: 0.79 - ETA: 4s - loss: 0.4058 - recall: 0.79 - ETA: 3s - loss: 0.4053 - recall: 0.79 - ETA: 3s - loss: 0.4044 - recall: 0.79 - ETA: 3s - loss: 0.4037 - recall: 0.79 - ETA: 3s - loss: 0.4034 - recall: 0.79 - ETA: 3s - loss: 0.4025 - recall: 0.79 - ETA: 3s - loss: 0.4021 - recall: 0.79 - ETA: 3s - loss: 0.4015 - recall: 0.79 - ETA: 3s - loss: 0.4004 - recall: 0.80 - ETA: 3s - loss: 0.3995 - recall: 0.80 - ETA: 2s - loss: 0.3987 - recall: 0.80 - ETA: 2s - loss: 0.3978 - recall: 0.80 - ETA: 2s - loss: 0.3964 - recall: 0.80 - ETA: 2s - loss: 0.3960 - recall: 0.80 - ETA: 2s - loss: 0.3954 - recall: 0.80 - ETA: 2s - loss: 0.3945 - recall: 0.80 - ETA: 2s - loss: 0.3942 - recall: 0.80 - ETA: 2s - loss: 0.3935 - recall: 0.80 - ETA: 2s - loss: 0.3930 - recall: 0.80 - ETA: 1s - loss: 0.3921 - recall: 0.80 - ETA: 1s - loss: 0.3913 - recall: 0.80 - ETA: 1s - loss: 0.3904 - recall: 0.80 - ETA: 1s - loss: 0.3894 - recall: 0.80 - ETA: 1s - loss: 0.3888 - recall: 0.80 - ETA: 1s - loss: 0.3878 - recall: 0.80 - ETA: 1s - loss: 0.3876 - recall: 0.80 - ETA: 1s - loss: 0.3872 - recall: 0.80 - ETA: 1s - loss: 0.3866 - recall: 0.81 - ETA: 1s - loss: 0.3860 - recall: 0.81 - ETA: 1s - loss: 0.3855 - recall: 0.81 - ETA: 1s - loss: 0.3849 - recall: 0.81 - ETA: 0s - loss: 0.3843 - recall: 0.81 - ETA: 0s - loss: 0.3836 - recall: 0.81 - ETA: 0s - loss: 0.3830 - recall: 0.81 - ETA: 0s - loss: 0.3825 - recall: 0.81 - ETA: 0s - loss: 0.3820 - recall: 0.81 - ETA: 0s - loss: 0.3810 - recall: 0.81 - ETA: 0s - loss: 0.3801 - recall: 0.81 - ETA: 0s - loss: 0.3795 - recall: 0.81 - ETA: 0s - loss: 0.3789 - recall: 0.81 - ETA: 0s - loss: 0.3783 - recall: 0.81 - 27s 776us/sample - loss: 0.3781 - recall: 0.8159 - val_loss: 0.1921 - val_recall: 0.9468\n",
      "Epoch 2/5\n"
     ]
    },
    {
     "name": "stdout",
     "output_type": "stream",
     "text": [
      "33728/34329 [============================>.] - ETA: 14s - loss: 0.2740 - recall: 0.875 - ETA: 12s - loss: 0.2601 - recall: 0.927 - ETA: 12s - loss: 0.2060 - recall: 0.940 - ETA: 13s - loss: 0.1957 - recall: 0.944 - ETA: 14s - loss: 0.1862 - recall: 0.942 - ETA: 13s - loss: 0.2040 - recall: 0.940 - ETA: 14s - loss: 0.2019 - recall: 0.941 - ETA: 14s - loss: 0.1858 - recall: 0.946 - ETA: 14s - loss: 0.1823 - recall: 0.944 - ETA: 13s - loss: 0.1780 - recall: 0.947 - ETA: 13s - loss: 0.1721 - recall: 0.949 - ETA: 13s - loss: 0.1752 - recall: 0.945 - ETA: 13s - loss: 0.1797 - recall: 0.946 - ETA: 13s - loss: 0.1905 - recall: 0.942 - ETA: 13s - loss: 0.1873 - recall: 0.943 - ETA: 13s - loss: 0.1849 - recall: 0.943 - ETA: 13s - loss: 0.1839 - recall: 0.943 - ETA: 13s - loss: 0.1809 - recall: 0.945 - ETA: 13s - loss: 0.1782 - recall: 0.945 - ETA: 13s - loss: 0.1807 - recall: 0.944 - ETA: 12s - loss: 0.1805 - recall: 0.945 - ETA: 12s - loss: 0.1813 - recall: 0.945 - ETA: 12s - loss: 0.1865 - recall: 0.943 - ETA: 12s - loss: 0.1873 - recall: 0.942 - ETA: 12s - loss: 0.1840 - recall: 0.944 - ETA: 12s - loss: 0.1889 - recall: 0.943 - ETA: 12s - loss: 0.1894 - recall: 0.942 - ETA: 11s - loss: 0.1887 - recall: 0.941 - ETA: 11s - loss: 0.1886 - recall: 0.941 - ETA: 11s - loss: 0.1876 - recall: 0.941 - ETA: 11s - loss: 0.1897 - recall: 0.940 - ETA: 11s - loss: 0.1861 - recall: 0.941 - ETA: 10s - loss: 0.1844 - recall: 0.942 - ETA: 10s - loss: 0.1849 - recall: 0.942 - ETA: 10s - loss: 0.1848 - recall: 0.942 - ETA: 10s - loss: 0.1821 - recall: 0.942 - ETA: 10s - loss: 0.1840 - recall: 0.942 - ETA: 10s - loss: 0.1852 - recall: 0.941 - ETA: 10s - loss: 0.1849 - recall: 0.941 - ETA: 10s - loss: 0.1841 - recall: 0.941 - ETA: 10s - loss: 0.1828 - recall: 0.941 - ETA: 10s - loss: 0.1822 - recall: 0.942 - ETA: 10s - loss: 0.1838 - recall: 0.941 - ETA: 10s - loss: 0.1840 - recall: 0.942 - ETA: 10s - loss: 0.1837 - recall: 0.942 - ETA: 10s - loss: 0.1838 - recall: 0.942 - ETA: 10s - loss: 0.1845 - recall: 0.942 - ETA: 9s - loss: 0.1835 - recall: 0.943 - ETA: 9s - loss: 0.1838 - recall: 0.94 - ETA: 9s - loss: 0.1843 - recall: 0.94 - ETA: 9s - loss: 0.1843 - recall: 0.94 - ETA: 9s - loss: 0.1838 - recall: 0.94 - ETA: 9s - loss: 0.1823 - recall: 0.94 - ETA: 9s - loss: 0.1817 - recall: 0.94 - ETA: 9s - loss: 0.1811 - recall: 0.94 - ETA: 9s - loss: 0.1800 - recall: 0.94 - ETA: 9s - loss: 0.1803 - recall: 0.94 - ETA: 9s - loss: 0.1793 - recall: 0.94 - ETA: 9s - loss: 0.1797 - recall: 0.94 - ETA: 9s - loss: 0.1791 - recall: 0.94 - ETA: 8s - loss: 0.1792 - recall: 0.94 - ETA: 8s - loss: 0.1780 - recall: 0.94 - ETA: 8s - loss: 0.1771 - recall: 0.94 - ETA: 8s - loss: 0.1776 - recall: 0.94 - ETA: 8s - loss: 0.1780 - recall: 0.94 - ETA: 8s - loss: 0.1792 - recall: 0.94 - ETA: 8s - loss: 0.1797 - recall: 0.94 - ETA: 8s - loss: 0.1789 - recall: 0.94 - ETA: 8s - loss: 0.1779 - recall: 0.94 - ETA: 8s - loss: 0.1797 - recall: 0.94 - ETA: 8s - loss: 0.1806 - recall: 0.94 - ETA: 8s - loss: 0.1802 - recall: 0.94 - ETA: 7s - loss: 0.1802 - recall: 0.94 - ETA: 7s - loss: 0.1792 - recall: 0.94 - ETA: 7s - loss: 0.1795 - recall: 0.94 - ETA: 7s - loss: 0.1810 - recall: 0.94 - ETA: 7s - loss: 0.1806 - recall: 0.94 - ETA: 7s - loss: 0.1810 - recall: 0.94 - ETA: 7s - loss: 0.1803 - recall: 0.94 - ETA: 7s - loss: 0.1805 - recall: 0.94 - ETA: 7s - loss: 0.1799 - recall: 0.94 - ETA: 7s - loss: 0.1789 - recall: 0.94 - ETA: 7s - loss: 0.1784 - recall: 0.94 - ETA: 7s - loss: 0.1799 - recall: 0.94 - ETA: 7s - loss: 0.1801 - recall: 0.94 - ETA: 7s - loss: 0.1792 - recall: 0.94 - ETA: 6s - loss: 0.1790 - recall: 0.94 - ETA: 6s - loss: 0.1783 - recall: 0.94 - ETA: 6s - loss: 0.1776 - recall: 0.94 - ETA: 6s - loss: 0.1770 - recall: 0.94 - ETA: 6s - loss: 0.1764 - recall: 0.94 - ETA: 6s - loss: 0.1773 - recall: 0.94 - ETA: 6s - loss: 0.1774 - recall: 0.94 - ETA: 6s - loss: 0.1767 - recall: 0.94 - ETA: 6s - loss: 0.1763 - recall: 0.94 - ETA: 6s - loss: 0.1763 - recall: 0.94 - ETA: 6s - loss: 0.1764 - recall: 0.94 - ETA: 6s - loss: 0.1755 - recall: 0.94 - ETA: 6s - loss: 0.1746 - recall: 0.94 - ETA: 6s - loss: 0.1738 - recall: 0.94 - ETA: 6s - loss: 0.1745 - recall: 0.94 - ETA: 5s - loss: 0.1742 - recall: 0.94 - ETA: 5s - loss: 0.1738 - recall: 0.94 - ETA: 5s - loss: 0.1739 - recall: 0.94 - ETA: 5s - loss: 0.1755 - recall: 0.94 - ETA: 5s - loss: 0.1761 - recall: 0.94 - ETA: 5s - loss: 0.1761 - recall: 0.94 - ETA: 5s - loss: 0.1755 - recall: 0.94 - ETA: 5s - loss: 0.1758 - recall: 0.94 - ETA: 5s - loss: 0.1759 - recall: 0.94 - ETA: 5s - loss: 0.1758 - recall: 0.94 - ETA: 5s - loss: 0.1761 - recall: 0.94 - ETA: 5s - loss: 0.1755 - recall: 0.94 - ETA: 5s - loss: 0.1752 - recall: 0.94 - ETA: 5s - loss: 0.1752 - recall: 0.94 - ETA: 5s - loss: 0.1752 - recall: 0.94 - ETA: 5s - loss: 0.1745 - recall: 0.94 - ETA: 4s - loss: 0.1745 - recall: 0.94 - ETA: 4s - loss: 0.1745 - recall: 0.94 - ETA: 4s - loss: 0.1750 - recall: 0.94 - ETA: 4s - loss: 0.1755 - recall: 0.94 - ETA: 4s - loss: 0.1755 - recall: 0.94 - ETA: 4s - loss: 0.1754 - recall: 0.94 - ETA: 4s - loss: 0.1747 - recall: 0.94 - ETA: 4s - loss: 0.1745 - recall: 0.94 - ETA: 4s - loss: 0.1745 - recall: 0.94 - ETA: 4s - loss: 0.1749 - recall: 0.94 - ETA: 4s - loss: 0.1745 - recall: 0.94 - ETA: 4s - loss: 0.1738 - recall: 0.94 - ETA: 4s - loss: 0.1734 - recall: 0.94 - ETA: 4s - loss: 0.1734 - recall: 0.94 - ETA: 4s - loss: 0.1734 - recall: 0.94 - ETA: 4s - loss: 0.1734 - recall: 0.94 - ETA: 4s - loss: 0.1740 - recall: 0.94 - ETA: 4s - loss: 0.1738 - recall: 0.94 - ETA: 4s - loss: 0.1739 - recall: 0.94 - ETA: 3s - loss: 0.1737 - recall: 0.94 - ETA: 3s - loss: 0.1739 - recall: 0.94 - ETA: 3s - loss: 0.1745 - recall: 0.94 - ETA: 3s - loss: 0.1744 - recall: 0.94 - ETA: 3s - loss: 0.1739 - recall: 0.94 - ETA: 3s - loss: 0.1740 - recall: 0.94 - ETA: 3s - loss: 0.1739 - recall: 0.94 - ETA: 3s - loss: 0.1736 - recall: 0.94 - ETA: 3s - loss: 0.1731 - recall: 0.94 - ETA: 3s - loss: 0.1727 - recall: 0.94 - ETA: 3s - loss: 0.1727 - recall: 0.94 - ETA: 3s - loss: 0.1730 - recall: 0.94 - ETA: 3s - loss: 0.1733 - recall: 0.94 - ETA: 3s - loss: 0.1728 - recall: 0.94 - ETA: 3s - loss: 0.1727 - recall: 0.94 - ETA: 3s - loss: 0.1725 - recall: 0.94 - ETA: 3s - loss: 0.1723 - recall: 0.94 - ETA: 2s - loss: 0.1718 - recall: 0.94 - ETA: 2s - loss: 0.1713 - recall: 0.94 - ETA: 2s - loss: 0.1713 - recall: 0.94 - ETA: 2s - loss: 0.1709 - recall: 0.94 - ETA: 2s - loss: 0.1710 - recall: 0.94 - ETA: 2s - loss: 0.1706 - recall: 0.94 - ETA: 2s - loss: 0.1702 - recall: 0.94 - ETA: 2s - loss: 0.1704 - recall: 0.94 - ETA: 2s - loss: 0.1709 - recall: 0.94 - ETA: 2s - loss: 0.1715 - recall: 0.94 - ETA: 2s - loss: 0.1712 - recall: 0.94 - ETA: 2s - loss: 0.1713 - recall: 0.94 - ETA: 2s - loss: 0.1719 - recall: 0.94 - ETA: 2s - loss: 0.1719 - recall: 0.94 - ETA: 2s - loss: 0.1715 - recall: 0.94 - ETA: 2s - loss: 0.1718 - recall: 0.94 - ETA: 2s - loss: 0.1711 - recall: 0.94 - ETA: 2s - loss: 0.1711 - recall: 0.94 - ETA: 1s - loss: 0.1710 - recall: 0.94 - ETA: 1s - loss: 0.1710 - recall: 0.94 - ETA: 1s - loss: 0.1708 - recall: 0.94 - ETA: 1s - loss: 0.1709 - recall: 0.94 - ETA: 1s - loss: 0.1708 - recall: 0.94 - ETA: 1s - loss: 0.1704 - recall: 0.94 - ETA: 1s - loss: 0.1701 - recall: 0.94 - ETA: 1s - loss: 0.1701 - recall: 0.94 - ETA: 1s - loss: 0.1699 - recall: 0.94 - ETA: 1s - loss: 0.1695 - recall: 0.94 - ETA: 1s - loss: 0.1694 - recall: 0.94 - ETA: 1s - loss: 0.1692 - recall: 0.94 - ETA: 1s - loss: 0.1693 - recall: 0.94 - ETA: 1s - loss: 0.1696 - recall: 0.94 - ETA: 1s - loss: 0.1695 - recall: 0.94 - ETA: 1s - loss: 0.1691 - recall: 0.94 - ETA: 1s - loss: 0.1690 - recall: 0.94 - ETA: 0s - loss: 0.1690 - recall: 0.94 - ETA: 0s - loss: 0.1685 - recall: 0.94 - ETA: 0s - loss: 0.1680 - recall: 0.94 - ETA: 0s - loss: 0.1680 - recall: 0.94 - ETA: 0s - loss: 0.1680 - recall: 0.94 - ETA: 0s - loss: 0.1679 - recall: 0.94 - ETA: 0s - loss: 0.1677 - recall: 0.94 - ETA: 0s - loss: 0.1674 - recall: 0.94 - ETA: 0s - loss: 0.1676 - recall: 0.94 - ETA: 0s - loss: 0.1673 - recall: 0.94 - ETA: 0s - loss: 0.1673 - recall: 0.94 - ETA: 0s - loss: 0.1677 - recall: 0.94 - ETA: 0s - loss: 0.1672 - recall: 0.94 - ETA: 0s - loss: 0.1668 - recall: 0.9497"
     ]
    },
    {
     "name": "stdout",
     "output_type": "stream",
     "text": [
      "34329/34329 [==============================] - ETA: 0s - loss: 0.1667 - recall: 0.94 - ETA: 0s - loss: 0.1663 - recall: 0.94 - ETA: 0s - loss: 0.1663 - recall: 0.94 - ETA: 0s - loss: 0.1661 - recall: 0.94 - 12s 363us/sample - loss: 0.1662 - recall: 0.9499 - val_loss: 0.1400 - val_recall: 0.9609\n",
      "Epoch 3/5\n",
      "34329/34329 [==============================] - ETA: 12s - loss: 0.1475 - recall: 0.968 - ETA: 9s - loss: 0.1513 - recall: 0.964 - ETA: 9s - loss: 0.1271 - recall: 0.96 - ETA: 9s - loss: 0.1129 - recall: 0.96 - ETA: 10s - loss: 0.1109 - recall: 0.970 - ETA: 10s - loss: 0.1099 - recall: 0.971 - ETA: 10s - loss: 0.1117 - recall: 0.969 - ETA: 10s - loss: 0.1141 - recall: 0.969 - ETA: 9s - loss: 0.1098 - recall: 0.969 - ETA: 9s - loss: 0.1096 - recall: 0.96 - ETA: 9s - loss: 0.1131 - recall: 0.96 - ETA: 9s - loss: 0.1168 - recall: 0.96 - ETA: 9s - loss: 0.1199 - recall: 0.96 - ETA: 9s - loss: 0.1162 - recall: 0.96 - ETA: 9s - loss: 0.1145 - recall: 0.96 - ETA: 9s - loss: 0.1159 - recall: 0.96 - ETA: 9s - loss: 0.1140 - recall: 0.96 - ETA: 9s - loss: 0.1139 - recall: 0.96 - ETA: 9s - loss: 0.1137 - recall: 0.96 - ETA: 9s - loss: 0.1123 - recall: 0.96 - ETA: 9s - loss: 0.1103 - recall: 0.96 - ETA: 9s - loss: 0.1136 - recall: 0.96 - ETA: 9s - loss: 0.1159 - recall: 0.96 - ETA: 9s - loss: 0.1150 - recall: 0.96 - ETA: 8s - loss: 0.1161 - recall: 0.96 - ETA: 8s - loss: 0.1161 - recall: 0.96 - ETA: 8s - loss: 0.1144 - recall: 0.96 - ETA: 8s - loss: 0.1131 - recall: 0.96 - ETA: 8s - loss: 0.1151 - recall: 0.96 - ETA: 8s - loss: 0.1146 - recall: 0.96 - ETA: 8s - loss: 0.1134 - recall: 0.96 - ETA: 8s - loss: 0.1126 - recall: 0.96 - ETA: 8s - loss: 0.1125 - recall: 0.96 - ETA: 8s - loss: 0.1125 - recall: 0.96 - ETA: 8s - loss: 0.1118 - recall: 0.96 - ETA: 8s - loss: 0.1107 - recall: 0.96 - ETA: 8s - loss: 0.1103 - recall: 0.96 - ETA: 8s - loss: 0.1098 - recall: 0.96 - ETA: 8s - loss: 0.1110 - recall: 0.96 - ETA: 8s - loss: 0.1112 - recall: 0.96 - ETA: 8s - loss: 0.1103 - recall: 0.96 - ETA: 8s - loss: 0.1105 - recall: 0.96 - ETA: 7s - loss: 0.1111 - recall: 0.96 - ETA: 7s - loss: 0.1107 - recall: 0.96 - ETA: 7s - loss: 0.1138 - recall: 0.96 - ETA: 7s - loss: 0.1135 - recall: 0.96 - ETA: 7s - loss: 0.1139 - recall: 0.96 - ETA: 7s - loss: 0.1158 - recall: 0.96 - ETA: 7s - loss: 0.1152 - recall: 0.96 - ETA: 7s - loss: 0.1163 - recall: 0.96 - ETA: 7s - loss: 0.1158 - recall: 0.96 - ETA: 7s - loss: 0.1163 - recall: 0.96 - ETA: 7s - loss: 0.1155 - recall: 0.96 - ETA: 7s - loss: 0.1150 - recall: 0.96 - ETA: 7s - loss: 0.1145 - recall: 0.96 - ETA: 7s - loss: 0.1140 - recall: 0.96 - ETA: 7s - loss: 0.1131 - recall: 0.96 - ETA: 7s - loss: 0.1131 - recall: 0.96 - ETA: 7s - loss: 0.1146 - recall: 0.96 - ETA: 7s - loss: 0.1138 - recall: 0.96 - ETA: 7s - loss: 0.1145 - recall: 0.96 - ETA: 7s - loss: 0.1140 - recall: 0.96 - ETA: 6s - loss: 0.1133 - recall: 0.96 - ETA: 6s - loss: 0.1138 - recall: 0.96 - ETA: 6s - loss: 0.1138 - recall: 0.96 - ETA: 6s - loss: 0.1129 - recall: 0.96 - ETA: 6s - loss: 0.1129 - recall: 0.96 - ETA: 6s - loss: 0.1130 - recall: 0.96 - ETA: 6s - loss: 0.1129 - recall: 0.96 - ETA: 6s - loss: 0.1128 - recall: 0.96 - ETA: 6s - loss: 0.1123 - recall: 0.96 - ETA: 6s - loss: 0.1126 - recall: 0.96 - ETA: 6s - loss: 0.1119 - recall: 0.96 - ETA: 6s - loss: 0.1114 - recall: 0.96 - ETA: 6s - loss: 0.1123 - recall: 0.96 - ETA: 6s - loss: 0.1135 - recall: 0.96 - ETA: 6s - loss: 0.1135 - recall: 0.96 - ETA: 6s - loss: 0.1136 - recall: 0.96 - ETA: 6s - loss: 0.1134 - recall: 0.96 - ETA: 6s - loss: 0.1126 - recall: 0.96 - ETA: 5s - loss: 0.1123 - recall: 0.96 - ETA: 5s - loss: 0.1130 - recall: 0.96 - ETA: 5s - loss: 0.1125 - recall: 0.96 - ETA: 5s - loss: 0.1132 - recall: 0.96 - ETA: 5s - loss: 0.1132 - recall: 0.96 - ETA: 5s - loss: 0.1134 - recall: 0.96 - ETA: 5s - loss: 0.1133 - recall: 0.96 - ETA: 5s - loss: 0.1135 - recall: 0.96 - ETA: 5s - loss: 0.1131 - recall: 0.96 - ETA: 5s - loss: 0.1134 - recall: 0.96 - ETA: 5s - loss: 0.1132 - recall: 0.96 - ETA: 5s - loss: 0.1132 - recall: 0.96 - ETA: 5s - loss: 0.1134 - recall: 0.96 - ETA: 5s - loss: 0.1128 - recall: 0.96 - ETA: 5s - loss: 0.1121 - recall: 0.96 - ETA: 5s - loss: 0.1121 - recall: 0.96 - ETA: 5s - loss: 0.1117 - recall: 0.96 - ETA: 5s - loss: 0.1116 - recall: 0.96 - ETA: 5s - loss: 0.1120 - recall: 0.96 - ETA: 4s - loss: 0.1124 - recall: 0.96 - ETA: 4s - loss: 0.1126 - recall: 0.96 - ETA: 4s - loss: 0.1122 - recall: 0.96 - ETA: 4s - loss: 0.1124 - recall: 0.96 - ETA: 4s - loss: 0.1122 - recall: 0.96 - ETA: 4s - loss: 0.1124 - recall: 0.96 - ETA: 4s - loss: 0.1123 - recall: 0.96 - ETA: 4s - loss: 0.1131 - recall: 0.96 - ETA: 4s - loss: 0.1129 - recall: 0.96 - ETA: 4s - loss: 0.1127 - recall: 0.96 - ETA: 4s - loss: 0.1126 - recall: 0.96 - ETA: 4s - loss: 0.1123 - recall: 0.96 - ETA: 4s - loss: 0.1121 - recall: 0.96 - ETA: 4s - loss: 0.1116 - recall: 0.96 - ETA: 4s - loss: 0.1120 - recall: 0.96 - ETA: 4s - loss: 0.1117 - recall: 0.96 - ETA: 4s - loss: 0.1119 - recall: 0.96 - ETA: 4s - loss: 0.1115 - recall: 0.96 - ETA: 4s - loss: 0.1109 - recall: 0.96 - ETA: 3s - loss: 0.1103 - recall: 0.96 - ETA: 3s - loss: 0.1103 - recall: 0.96 - ETA: 3s - loss: 0.1104 - recall: 0.96 - ETA: 3s - loss: 0.1102 - recall: 0.96 - ETA: 3s - loss: 0.1102 - recall: 0.96 - ETA: 3s - loss: 0.1097 - recall: 0.96 - ETA: 3s - loss: 0.1093 - recall: 0.96 - ETA: 3s - loss: 0.1090 - recall: 0.96 - ETA: 3s - loss: 0.1086 - recall: 0.96 - ETA: 3s - loss: 0.1082 - recall: 0.96 - ETA: 3s - loss: 0.1092 - recall: 0.96 - ETA: 3s - loss: 0.1091 - recall: 0.96 - ETA: 3s - loss: 0.1090 - recall: 0.96 - ETA: 3s - loss: 0.1091 - recall: 0.96 - ETA: 3s - loss: 0.1092 - recall: 0.96 - ETA: 3s - loss: 0.1088 - recall: 0.96 - ETA: 3s - loss: 0.1088 - recall: 0.96 - ETA: 3s - loss: 0.1084 - recall: 0.96 - ETA: 2s - loss: 0.1085 - recall: 0.96 - ETA: 2s - loss: 0.1084 - recall: 0.96 - ETA: 2s - loss: 0.1086 - recall: 0.96 - ETA: 2s - loss: 0.1084 - recall: 0.96 - ETA: 2s - loss: 0.1081 - recall: 0.96 - ETA: 2s - loss: 0.1080 - recall: 0.96 - ETA: 2s - loss: 0.1081 - recall: 0.96 - ETA: 2s - loss: 0.1084 - recall: 0.96 - ETA: 2s - loss: 0.1081 - recall: 0.96 - ETA: 2s - loss: 0.1077 - recall: 0.96 - ETA: 2s - loss: 0.1080 - recall: 0.96 - ETA: 2s - loss: 0.1075 - recall: 0.96 - ETA: 2s - loss: 0.1077 - recall: 0.96 - ETA: 2s - loss: 0.1076 - recall: 0.96 - ETA: 2s - loss: 0.1079 - recall: 0.96 - ETA: 2s - loss: 0.1079 - recall: 0.96 - ETA: 2s - loss: 0.1078 - recall: 0.96 - ETA: 2s - loss: 0.1077 - recall: 0.96 - ETA: 1s - loss: 0.1077 - recall: 0.96 - ETA: 1s - loss: 0.1076 - recall: 0.96 - ETA: 1s - loss: 0.1078 - recall: 0.96 - ETA: 1s - loss: 0.1077 - recall: 0.96 - ETA: 1s - loss: 0.1075 - recall: 0.96 - ETA: 1s - loss: 0.1073 - recall: 0.96 - ETA: 1s - loss: 0.1073 - recall: 0.96 - ETA: 1s - loss: 0.1072 - recall: 0.96 - ETA: 1s - loss: 0.1069 - recall: 0.96 - ETA: 1s - loss: 0.1066 - recall: 0.96 - ETA: 1s - loss: 0.1067 - recall: 0.96 - ETA: 1s - loss: 0.1069 - recall: 0.96 - ETA: 1s - loss: 0.1070 - recall: 0.96 - ETA: 1s - loss: 0.1071 - recall: 0.96 - ETA: 1s - loss: 0.1071 - recall: 0.96 - ETA: 1s - loss: 0.1070 - recall: 0.96 - ETA: 1s - loss: 0.1068 - recall: 0.96 - ETA: 1s - loss: 0.1070 - recall: 0.96 - ETA: 1s - loss: 0.1071 - recall: 0.96 - ETA: 0s - loss: 0.1071 - recall: 0.96 - ETA: 0s - loss: 0.1071 - recall: 0.96 - ETA: 0s - loss: 0.1069 - recall: 0.96 - ETA: 0s - loss: 0.1068 - recall: 0.96 - ETA: 0s - loss: 0.1068 - recall: 0.96 - ETA: 0s - loss: 0.1071 - recall: 0.96 - ETA: 0s - loss: 0.1069 - recall: 0.96 - ETA: 0s - loss: 0.1072 - recall: 0.96 - ETA: 0s - loss: 0.1070 - recall: 0.96 - ETA: 0s - loss: 0.1071 - recall: 0.96 - ETA: 0s - loss: 0.1075 - recall: 0.96 - ETA: 0s - loss: 0.1078 - recall: 0.96 - ETA: 0s - loss: 0.1075 - recall: 0.96 - ETA: 0s - loss: 0.1075 - recall: 0.96 - ETA: 0s - loss: 0.1078 - recall: 0.96 - ETA: 0s - loss: 0.1079 - recall: 0.96 - ETA: 0s - loss: 0.1080 - recall: 0.96 - ETA: 0s - loss: 0.1078 - recall: 0.96 - 11s 332us/sample - loss: 0.1077 - recall: 0.9665 - val_loss: 0.1143 - val_recall: 0.9644\n",
      "Epoch 4/5\n"
     ]
    },
    {
     "name": "stdout",
     "output_type": "stream",
     "text": [
      "34329/34329 [==============================] - ETA: 18s - loss: 0.0772 - recall: 0.968 - ETA: 13s - loss: 0.0826 - recall: 0.974 - ETA: 12s - loss: 0.1037 - recall: 0.960 - ETA: 11s - loss: 0.0868 - recall: 0.968 - ETA: 11s - loss: 0.0900 - recall: 0.965 - ETA: 11s - loss: 0.0818 - recall: 0.968 - ETA: 11s - loss: 0.0755 - recall: 0.973 - ETA: 10s - loss: 0.0785 - recall: 0.973 - ETA: 10s - loss: 0.0789 - recall: 0.970 - ETA: 10s - loss: 0.0834 - recall: 0.970 - ETA: 10s - loss: 0.0855 - recall: 0.970 - ETA: 10s - loss: 0.0814 - recall: 0.972 - ETA: 10s - loss: 0.0796 - recall: 0.972 - ETA: 10s - loss: 0.0817 - recall: 0.971 - ETA: 10s - loss: 0.0805 - recall: 0.971 - ETA: 10s - loss: 0.0812 - recall: 0.971 - ETA: 10s - loss: 0.0836 - recall: 0.969 - ETA: 9s - loss: 0.0850 - recall: 0.969 - ETA: 9s - loss: 0.0825 - recall: 0.97 - ETA: 9s - loss: 0.0817 - recall: 0.97 - ETA: 9s - loss: 0.0823 - recall: 0.97 - ETA: 9s - loss: 0.0818 - recall: 0.97 - ETA: 9s - loss: 0.0812 - recall: 0.97 - ETA: 9s - loss: 0.0807 - recall: 0.97 - ETA: 9s - loss: 0.0812 - recall: 0.97 - ETA: 9s - loss: 0.0836 - recall: 0.97 - ETA: 9s - loss: 0.0820 - recall: 0.97 - ETA: 9s - loss: 0.0817 - recall: 0.97 - ETA: 9s - loss: 0.0805 - recall: 0.97 - ETA: 9s - loss: 0.0797 - recall: 0.97 - ETA: 9s - loss: 0.0788 - recall: 0.97 - ETA: 9s - loss: 0.0799 - recall: 0.97 - ETA: 9s - loss: 0.0809 - recall: 0.97 - ETA: 9s - loss: 0.0809 - recall: 0.97 - ETA: 9s - loss: 0.0805 - recall: 0.97 - ETA: 9s - loss: 0.0812 - recall: 0.97 - ETA: 8s - loss: 0.0804 - recall: 0.97 - ETA: 8s - loss: 0.0807 - recall: 0.97 - ETA: 8s - loss: 0.0796 - recall: 0.97 - ETA: 8s - loss: 0.0812 - recall: 0.97 - ETA: 8s - loss: 0.0801 - recall: 0.97 - ETA: 8s - loss: 0.0795 - recall: 0.97 - ETA: 8s - loss: 0.0799 - recall: 0.97 - ETA: 8s - loss: 0.0805 - recall: 0.97 - ETA: 8s - loss: 0.0801 - recall: 0.97 - ETA: 8s - loss: 0.0795 - recall: 0.97 - ETA: 8s - loss: 0.0796 - recall: 0.97 - ETA: 8s - loss: 0.0794 - recall: 0.97 - ETA: 8s - loss: 0.0787 - recall: 0.97 - ETA: 8s - loss: 0.0806 - recall: 0.97 - ETA: 8s - loss: 0.0798 - recall: 0.97 - ETA: 8s - loss: 0.0794 - recall: 0.97 - ETA: 8s - loss: 0.0797 - recall: 0.97 - ETA: 8s - loss: 0.0807 - recall: 0.97 - ETA: 8s - loss: 0.0827 - recall: 0.97 - ETA: 8s - loss: 0.0821 - recall: 0.97 - ETA: 8s - loss: 0.0815 - recall: 0.97 - ETA: 8s - loss: 0.0824 - recall: 0.97 - ETA: 8s - loss: 0.0841 - recall: 0.97 - ETA: 8s - loss: 0.0839 - recall: 0.97 - ETA: 8s - loss: 0.0836 - recall: 0.97 - ETA: 8s - loss: 0.0832 - recall: 0.97 - ETA: 7s - loss: 0.0827 - recall: 0.97 - ETA: 7s - loss: 0.0823 - recall: 0.97 - ETA: 7s - loss: 0.0822 - recall: 0.97 - ETA: 7s - loss: 0.0820 - recall: 0.97 - ETA: 7s - loss: 0.0829 - recall: 0.97 - ETA: 7s - loss: 0.0825 - recall: 0.97 - ETA: 7s - loss: 0.0830 - recall: 0.97 - ETA: 7s - loss: 0.0839 - recall: 0.97 - ETA: 7s - loss: 0.0840 - recall: 0.97 - ETA: 7s - loss: 0.0840 - recall: 0.97 - ETA: 7s - loss: 0.0838 - recall: 0.97 - ETA: 7s - loss: 0.0837 - recall: 0.97 - ETA: 7s - loss: 0.0840 - recall: 0.97 - ETA: 7s - loss: 0.0839 - recall: 0.97 - ETA: 7s - loss: 0.0837 - recall: 0.97 - ETA: 7s - loss: 0.0843 - recall: 0.97 - ETA: 7s - loss: 0.0852 - recall: 0.97 - ETA: 6s - loss: 0.0854 - recall: 0.97 - ETA: 6s - loss: 0.0857 - recall: 0.97 - ETA: 6s - loss: 0.0867 - recall: 0.97 - ETA: 6s - loss: 0.0872 - recall: 0.97 - ETA: 6s - loss: 0.0874 - recall: 0.97 - ETA: 6s - loss: 0.0883 - recall: 0.97 - ETA: 6s - loss: 0.0879 - recall: 0.97 - ETA: 6s - loss: 0.0877 - recall: 0.97 - ETA: 6s - loss: 0.0874 - recall: 0.97 - ETA: 6s - loss: 0.0872 - recall: 0.97 - ETA: 6s - loss: 0.0882 - recall: 0.97 - ETA: 6s - loss: 0.0878 - recall: 0.97 - ETA: 6s - loss: 0.0877 - recall: 0.97 - ETA: 6s - loss: 0.0882 - recall: 0.97 - ETA: 6s - loss: 0.0883 - recall: 0.97 - ETA: 6s - loss: 0.0881 - recall: 0.97 - ETA: 6s - loss: 0.0885 - recall: 0.97 - ETA: 5s - loss: 0.0889 - recall: 0.97 - ETA: 5s - loss: 0.0894 - recall: 0.97 - ETA: 5s - loss: 0.0897 - recall: 0.97 - ETA: 5s - loss: 0.0894 - recall: 0.97 - ETA: 5s - loss: 0.0892 - recall: 0.97 - ETA: 5s - loss: 0.0892 - recall: 0.97 - ETA: 5s - loss: 0.0895 - recall: 0.97 - ETA: 5s - loss: 0.0897 - recall: 0.97 - ETA: 5s - loss: 0.0902 - recall: 0.97 - ETA: 5s - loss: 0.0905 - recall: 0.97 - ETA: 5s - loss: 0.0913 - recall: 0.97 - ETA: 5s - loss: 0.0917 - recall: 0.97 - ETA: 5s - loss: 0.0913 - recall: 0.97 - ETA: 5s - loss: 0.0913 - recall: 0.97 - ETA: 5s - loss: 0.0918 - recall: 0.97 - ETA: 5s - loss: 0.0914 - recall: 0.97 - ETA: 4s - loss: 0.0909 - recall: 0.97 - ETA: 4s - loss: 0.0909 - recall: 0.97 - ETA: 4s - loss: 0.0907 - recall: 0.97 - ETA: 4s - loss: 0.0906 - recall: 0.97 - ETA: 4s - loss: 0.0902 - recall: 0.97 - ETA: 4s - loss: 0.0900 - recall: 0.97 - ETA: 4s - loss: 0.0909 - recall: 0.97 - ETA: 4s - loss: 0.0910 - recall: 0.97 - ETA: 4s - loss: 0.0908 - recall: 0.97 - ETA: 4s - loss: 0.0906 - recall: 0.97 - ETA: 4s - loss: 0.0903 - recall: 0.97 - ETA: 4s - loss: 0.0906 - recall: 0.97 - ETA: 4s - loss: 0.0906 - recall: 0.97 - ETA: 4s - loss: 0.0902 - recall: 0.97 - ETA: 4s - loss: 0.0899 - recall: 0.97 - ETA: 4s - loss: 0.0899 - recall: 0.97 - ETA: 4s - loss: 0.0897 - recall: 0.97 - ETA: 3s - loss: 0.0897 - recall: 0.97 - ETA: 3s - loss: 0.0896 - recall: 0.97 - ETA: 3s - loss: 0.0900 - recall: 0.97 - ETA: 3s - loss: 0.0897 - recall: 0.97 - ETA: 3s - loss: 0.0896 - recall: 0.97 - ETA: 3s - loss: 0.0896 - recall: 0.97 - ETA: 3s - loss: 0.0898 - recall: 0.97 - ETA: 3s - loss: 0.0901 - recall: 0.97 - ETA: 3s - loss: 0.0901 - recall: 0.97 - ETA: 3s - loss: 0.0897 - recall: 0.97 - ETA: 3s - loss: 0.0893 - recall: 0.97 - ETA: 3s - loss: 0.0891 - recall: 0.97 - ETA: 3s - loss: 0.0891 - recall: 0.97 - ETA: 3s - loss: 0.0896 - recall: 0.97 - ETA: 3s - loss: 0.0892 - recall: 0.97 - ETA: 3s - loss: 0.0891 - recall: 0.97 - ETA: 3s - loss: 0.0890 - recall: 0.97 - ETA: 2s - loss: 0.0890 - recall: 0.97 - ETA: 2s - loss: 0.0890 - recall: 0.97 - ETA: 2s - loss: 0.0888 - recall: 0.97 - ETA: 2s - loss: 0.0894 - recall: 0.97 - ETA: 2s - loss: 0.0896 - recall: 0.97 - ETA: 2s - loss: 0.0896 - recall: 0.97 - ETA: 2s - loss: 0.0900 - recall: 0.97 - ETA: 2s - loss: 0.0902 - recall: 0.97 - ETA: 2s - loss: 0.0897 - recall: 0.97 - ETA: 2s - loss: 0.0897 - recall: 0.97 - ETA: 2s - loss: 0.0895 - recall: 0.97 - ETA: 2s - loss: 0.0897 - recall: 0.97 - ETA: 2s - loss: 0.0894 - recall: 0.97 - ETA: 2s - loss: 0.0892 - recall: 0.97 - ETA: 2s - loss: 0.0892 - recall: 0.97 - ETA: 2s - loss: 0.0890 - recall: 0.97 - ETA: 2s - loss: 0.0889 - recall: 0.97 - ETA: 1s - loss: 0.0889 - recall: 0.97 - ETA: 1s - loss: 0.0891 - recall: 0.97 - ETA: 1s - loss: 0.0890 - recall: 0.97 - ETA: 1s - loss: 0.0891 - recall: 0.97 - ETA: 1s - loss: 0.0889 - recall: 0.97 - ETA: 1s - loss: 0.0886 - recall: 0.97 - ETA: 1s - loss: 0.0888 - recall: 0.97 - ETA: 1s - loss: 0.0887 - recall: 0.97 - ETA: 1s - loss: 0.0889 - recall: 0.97 - ETA: 1s - loss: 0.0892 - recall: 0.97 - ETA: 1s - loss: 0.0890 - recall: 0.97 - ETA: 1s - loss: 0.0888 - recall: 0.97 - ETA: 1s - loss: 0.0889 - recall: 0.97 - ETA: 1s - loss: 0.0889 - recall: 0.97 - ETA: 1s - loss: 0.0885 - recall: 0.97 - ETA: 1s - loss: 0.0883 - recall: 0.97 - ETA: 1s - loss: 0.0881 - recall: 0.97 - ETA: 1s - loss: 0.0886 - recall: 0.97 - ETA: 1s - loss: 0.0884 - recall: 0.97 - ETA: 0s - loss: 0.0884 - recall: 0.97 - ETA: 0s - loss: 0.0885 - recall: 0.97 - ETA: 0s - loss: 0.0886 - recall: 0.97 - ETA: 0s - loss: 0.0884 - recall: 0.97 - ETA: 0s - loss: 0.0883 - recall: 0.97 - ETA: 0s - loss: 0.0881 - recall: 0.97 - ETA: 0s - loss: 0.0883 - recall: 0.97 - ETA: 0s - loss: 0.0884 - recall: 0.97 - ETA: 0s - loss: 0.0882 - recall: 0.97 - ETA: 0s - loss: 0.0882 - recall: 0.97 - ETA: 0s - loss: 0.0882 - recall: 0.97 - ETA: 0s - loss: 0.0884 - recall: 0.97 - ETA: 0s - loss: 0.0884 - recall: 0.97 - ETA: 0s - loss: 0.0881 - recall: 0.97 - ETA: 0s - loss: 0.0881 - recall: 0.97 - ETA: 0s - loss: 0.0879 - recall: 0.97 - ETA: 0s - loss: 0.0877 - recall: 0.97 - ETA: 0s - loss: 0.0876 - recall: 0.97 - 12s 350us/sample - loss: 0.0876 - recall: 0.9729 - val_loss: 0.1168 - val_recall: 0.9693\n",
      "Epoch 5/5\n"
     ]
    },
    {
     "name": "stdout",
     "output_type": "stream",
     "text": [
      "33856/34329 [============================>.] - ETA: 12s - loss: 0.0298 - recall: 1.000 - ETA: 11s - loss: 0.0399 - recall: 0.989 - ETA: 11s - loss: 0.0747 - recall: 0.974 - ETA: 11s - loss: 0.0865 - recall: 0.970 - ETA: 10s - loss: 0.0717 - recall: 0.976 - ETA: 11s - loss: 0.0724 - recall: 0.976 - ETA: 10s - loss: 0.0737 - recall: 0.977 - ETA: 10s - loss: 0.0668 - recall: 0.980 - ETA: 10s - loss: 0.0622 - recall: 0.981 - ETA: 10s - loss: 0.0629 - recall: 0.979 - ETA: 10s - loss: 0.0614 - recall: 0.979 - ETA: 9s - loss: 0.0617 - recall: 0.979 - ETA: 9s - loss: 0.0624 - recall: 0.97 - ETA: 9s - loss: 0.0607 - recall: 0.98 - ETA: 9s - loss: 0.0624 - recall: 0.97 - ETA: 9s - loss: 0.0622 - recall: 0.97 - ETA: 9s - loss: 0.0612 - recall: 0.97 - ETA: 9s - loss: 0.0611 - recall: 0.97 - ETA: 9s - loss: 0.0625 - recall: 0.97 - ETA: 9s - loss: 0.0613 - recall: 0.97 - ETA: 9s - loss: 0.0613 - recall: 0.97 - ETA: 9s - loss: 0.0608 - recall: 0.97 - ETA: 9s - loss: 0.0601 - recall: 0.97 - ETA: 9s - loss: 0.0640 - recall: 0.97 - ETA: 9s - loss: 0.0628 - recall: 0.97 - ETA: 9s - loss: 0.0661 - recall: 0.97 - ETA: 8s - loss: 0.0651 - recall: 0.97 - ETA: 8s - loss: 0.0648 - recall: 0.97 - ETA: 8s - loss: 0.0642 - recall: 0.97 - ETA: 8s - loss: 0.0636 - recall: 0.97 - ETA: 8s - loss: 0.0633 - recall: 0.97 - ETA: 8s - loss: 0.0629 - recall: 0.98 - ETA: 8s - loss: 0.0622 - recall: 0.98 - ETA: 8s - loss: 0.0618 - recall: 0.98 - ETA: 8s - loss: 0.0621 - recall: 0.98 - ETA: 8s - loss: 0.0626 - recall: 0.97 - ETA: 8s - loss: 0.0638 - recall: 0.98 - ETA: 8s - loss: 0.0651 - recall: 0.97 - ETA: 8s - loss: 0.0658 - recall: 0.97 - ETA: 8s - loss: 0.0650 - recall: 0.97 - ETA: 8s - loss: 0.0645 - recall: 0.97 - ETA: 8s - loss: 0.0644 - recall: 0.97 - ETA: 8s - loss: 0.0650 - recall: 0.97 - ETA: 8s - loss: 0.0646 - recall: 0.97 - ETA: 8s - loss: 0.0647 - recall: 0.97 - ETA: 8s - loss: 0.0649 - recall: 0.97 - ETA: 8s - loss: 0.0653 - recall: 0.97 - ETA: 8s - loss: 0.0652 - recall: 0.97 - ETA: 8s - loss: 0.0663 - recall: 0.97 - ETA: 8s - loss: 0.0663 - recall: 0.97 - ETA: 7s - loss: 0.0656 - recall: 0.97 - ETA: 7s - loss: 0.0660 - recall: 0.97 - ETA: 7s - loss: 0.0662 - recall: 0.97 - ETA: 7s - loss: 0.0663 - recall: 0.97 - ETA: 7s - loss: 0.0665 - recall: 0.97 - ETA: 7s - loss: 0.0665 - recall: 0.97 - ETA: 7s - loss: 0.0664 - recall: 0.97 - ETA: 7s - loss: 0.0684 - recall: 0.97 - ETA: 7s - loss: 0.0678 - recall: 0.97 - ETA: 7s - loss: 0.0680 - recall: 0.97 - ETA: 7s - loss: 0.0679 - recall: 0.97 - ETA: 7s - loss: 0.0678 - recall: 0.97 - ETA: 7s - loss: 0.0674 - recall: 0.97 - ETA: 7s - loss: 0.0671 - recall: 0.97 - ETA: 7s - loss: 0.0668 - recall: 0.97 - ETA: 7s - loss: 0.0668 - recall: 0.97 - ETA: 7s - loss: 0.0681 - recall: 0.97 - ETA: 7s - loss: 0.0681 - recall: 0.97 - ETA: 7s - loss: 0.0683 - recall: 0.97 - ETA: 7s - loss: 0.0681 - recall: 0.97 - ETA: 6s - loss: 0.0683 - recall: 0.97 - ETA: 6s - loss: 0.0678 - recall: 0.97 - ETA: 6s - loss: 0.0673 - recall: 0.97 - ETA: 6s - loss: 0.0678 - recall: 0.97 - ETA: 6s - loss: 0.0674 - recall: 0.97 - ETA: 6s - loss: 0.0672 - recall: 0.97 - ETA: 6s - loss: 0.0676 - recall: 0.97 - ETA: 6s - loss: 0.0673 - recall: 0.97 - ETA: 6s - loss: 0.0676 - recall: 0.97 - ETA: 6s - loss: 0.0675 - recall: 0.97 - ETA: 6s - loss: 0.0675 - recall: 0.97 - ETA: 6s - loss: 0.0670 - recall: 0.97 - ETA: 6s - loss: 0.0671 - recall: 0.97 - ETA: 6s - loss: 0.0671 - recall: 0.97 - ETA: 6s - loss: 0.0673 - recall: 0.97 - ETA: 6s - loss: 0.0679 - recall: 0.97 - ETA: 6s - loss: 0.0679 - recall: 0.97 - ETA: 6s - loss: 0.0677 - recall: 0.97 - ETA: 5s - loss: 0.0677 - recall: 0.97 - ETA: 5s - loss: 0.0680 - recall: 0.97 - ETA: 5s - loss: 0.0691 - recall: 0.97 - ETA: 5s - loss: 0.0690 - recall: 0.97 - ETA: 5s - loss: 0.0687 - recall: 0.97 - ETA: 5s - loss: 0.0686 - recall: 0.97 - ETA: 5s - loss: 0.0687 - recall: 0.97 - ETA: 5s - loss: 0.0685 - recall: 0.97 - ETA: 5s - loss: 0.0684 - recall: 0.97 - ETA: 5s - loss: 0.0682 - recall: 0.97 - ETA: 5s - loss: 0.0681 - recall: 0.97 - ETA: 5s - loss: 0.0677 - recall: 0.97 - ETA: 5s - loss: 0.0676 - recall: 0.97 - ETA: 5s - loss: 0.0682 - recall: 0.97 - ETA: 5s - loss: 0.0681 - recall: 0.97 - ETA: 5s - loss: 0.0680 - recall: 0.97 - ETA: 5s - loss: 0.0681 - recall: 0.97 - ETA: 5s - loss: 0.0684 - recall: 0.97 - ETA: 4s - loss: 0.0681 - recall: 0.97 - ETA: 4s - loss: 0.0683 - recall: 0.97 - ETA: 4s - loss: 0.0682 - recall: 0.97 - ETA: 4s - loss: 0.0682 - recall: 0.97 - ETA: 4s - loss: 0.0690 - recall: 0.97 - ETA: 4s - loss: 0.0686 - recall: 0.97 - ETA: 4s - loss: 0.0692 - recall: 0.97 - ETA: 4s - loss: 0.0700 - recall: 0.97 - ETA: 4s - loss: 0.0701 - recall: 0.97 - ETA: 4s - loss: 0.0700 - recall: 0.97 - ETA: 4s - loss: 0.0701 - recall: 0.97 - ETA: 4s - loss: 0.0697 - recall: 0.97 - ETA: 4s - loss: 0.0697 - recall: 0.97 - ETA: 4s - loss: 0.0698 - recall: 0.97 - ETA: 4s - loss: 0.0699 - recall: 0.97 - ETA: 4s - loss: 0.0699 - recall: 0.97 - ETA: 4s - loss: 0.0702 - recall: 0.97 - ETA: 4s - loss: 0.0703 - recall: 0.97 - ETA: 4s - loss: 0.0703 - recall: 0.97 - ETA: 4s - loss: 0.0700 - recall: 0.97 - ETA: 3s - loss: 0.0703 - recall: 0.97 - ETA: 3s - loss: 0.0702 - recall: 0.97 - ETA: 3s - loss: 0.0704 - recall: 0.97 - ETA: 3s - loss: 0.0702 - recall: 0.97 - ETA: 3s - loss: 0.0704 - recall: 0.97 - ETA: 3s - loss: 0.0706 - recall: 0.97 - ETA: 3s - loss: 0.0706 - recall: 0.97 - ETA: 3s - loss: 0.0706 - recall: 0.97 - ETA: 3s - loss: 0.0705 - recall: 0.97 - ETA: 3s - loss: 0.0704 - recall: 0.97 - ETA: 3s - loss: 0.0710 - recall: 0.97 - ETA: 3s - loss: 0.0709 - recall: 0.97 - ETA: 3s - loss: 0.0712 - recall: 0.97 - ETA: 3s - loss: 0.0713 - recall: 0.97 - ETA: 3s - loss: 0.0712 - recall: 0.97 - ETA: 3s - loss: 0.0714 - recall: 0.97 - ETA: 3s - loss: 0.0714 - recall: 0.97 - ETA: 3s - loss: 0.0719 - recall: 0.97 - ETA: 3s - loss: 0.0719 - recall: 0.97 - ETA: 3s - loss: 0.0717 - recall: 0.97 - ETA: 2s - loss: 0.0719 - recall: 0.97 - ETA: 2s - loss: 0.0718 - recall: 0.97 - ETA: 2s - loss: 0.0717 - recall: 0.97 - ETA: 2s - loss: 0.0717 - recall: 0.97 - ETA: 2s - loss: 0.0719 - recall: 0.97 - ETA: 2s - loss: 0.0716 - recall: 0.97 - ETA: 2s - loss: 0.0715 - recall: 0.97 - ETA: 2s - loss: 0.0714 - recall: 0.97 - ETA: 2s - loss: 0.0715 - recall: 0.97 - ETA: 2s - loss: 0.0716 - recall: 0.97 - ETA: 2s - loss: 0.0717 - recall: 0.97 - ETA: 2s - loss: 0.0717 - recall: 0.97 - ETA: 2s - loss: 0.0717 - recall: 0.97 - ETA: 2s - loss: 0.0718 - recall: 0.97 - ETA: 2s - loss: 0.0717 - recall: 0.97 - ETA: 2s - loss: 0.0718 - recall: 0.97 - ETA: 2s - loss: 0.0719 - recall: 0.97 - ETA: 2s - loss: 0.0719 - recall: 0.97 - ETA: 2s - loss: 0.0719 - recall: 0.97 - ETA: 2s - loss: 0.0719 - recall: 0.97 - ETA: 2s - loss: 0.0718 - recall: 0.97 - ETA: 2s - loss: 0.0721 - recall: 0.97 - ETA: 2s - loss: 0.0721 - recall: 0.97 - ETA: 2s - loss: 0.0721 - recall: 0.97 - ETA: 2s - loss: 0.0721 - recall: 0.97 - ETA: 2s - loss: 0.0719 - recall: 0.97 - ETA: 2s - loss: 0.0719 - recall: 0.97 - ETA: 2s - loss: 0.0719 - recall: 0.97 - ETA: 1s - loss: 0.0719 - recall: 0.97 - ETA: 1s - loss: 0.0717 - recall: 0.97 - ETA: 1s - loss: 0.0715 - recall: 0.97 - ETA: 1s - loss: 0.0719 - recall: 0.97 - ETA: 1s - loss: 0.0723 - recall: 0.97 - ETA: 1s - loss: 0.0724 - recall: 0.97 - ETA: 1s - loss: 0.0722 - recall: 0.97 - ETA: 1s - loss: 0.0722 - recall: 0.97 - ETA: 1s - loss: 0.0723 - recall: 0.97 - ETA: 1s - loss: 0.0725 - recall: 0.97 - ETA: 1s - loss: 0.0725 - recall: 0.97 - ETA: 1s - loss: 0.0729 - recall: 0.97 - ETA: 1s - loss: 0.0732 - recall: 0.97 - ETA: 1s - loss: 0.0732 - recall: 0.97 - ETA: 1s - loss: 0.0733 - recall: 0.97 - ETA: 1s - loss: 0.0732 - recall: 0.97 - ETA: 0s - loss: 0.0733 - recall: 0.97 - ETA: 0s - loss: 0.0731 - recall: 0.97 - ETA: 0s - loss: 0.0731 - recall: 0.97 - ETA: 0s - loss: 0.0735 - recall: 0.97 - ETA: 0s - loss: 0.0733 - recall: 0.97 - ETA: 0s - loss: 0.0733 - recall: 0.97 - ETA: 0s - loss: 0.0733 - recall: 0.97 - ETA: 0s - loss: 0.0738 - recall: 0.97 - ETA: 0s - loss: 0.0740 - recall: 0.97 - ETA: 0s - loss: 0.0740 - recall: 0.97 - ETA: 0s - loss: 0.0742 - recall: 0.97 - ETA: 0s - loss: 0.0742 - recall: 0.97 - ETA: 0s - loss: 0.0740 - recall: 0.97 - ETA: 0s - loss: 0.0740 - recall: 0.9756"
     ]
    },
    {
     "name": "stdout",
     "output_type": "stream",
     "text": [
      "34329/34329 [==============================] - ETA: 0s - loss: 0.0741 - recall: 0.97 - ETA: 0s - loss: 0.0743 - recall: 0.97 - 12s 362us/sample - loss: 0.0743 - recall: 0.9755 - val_loss: 0.1123 - val_recall: 0.9687\n",
      "11443/11443 [==============================] - ETA: 1s - loss: 0.0509 - recall: 0.96 - ETA: 1s - loss: 0.1086 - recall: 0.97 - ETA: 1s - loss: 0.0977 - recall: 0.97 - ETA: 1s - loss: 0.0918 - recall: 0.97 - ETA: 1s - loss: 0.0986 - recall: 0.97 - ETA: 0s - loss: 0.0993 - recall: 0.97 - ETA: 0s - loss: 0.1058 - recall: 0.97 - ETA: 0s - loss: 0.1057 - recall: 0.96 - ETA: 0s - loss: 0.1033 - recall: 0.96 - ETA: 0s - loss: 0.1049 - recall: 0.96 - ETA: 0s - loss: 0.1067 - recall: 0.96 - ETA: 0s - loss: 0.1080 - recall: 0.96 - ETA: 0s - loss: 0.1125 - recall: 0.96 - ETA: 0s - loss: 0.1121 - recall: 0.96 - ETA: 0s - loss: 0.1126 - recall: 0.96 - ETA: 0s - loss: 0.1150 - recall: 0.96 - ETA: 0s - loss: 0.1139 - recall: 0.96 - ETA: 0s - loss: 0.1153 - recall: 0.96 - ETA: 0s - loss: 0.1161 - recall: 0.96 - ETA: 0s - loss: 0.1148 - recall: 0.96 - ETA: 0s - loss: 0.1149 - recall: 0.96 - ETA: 0s - loss: 0.1122 - recall: 0.96 - ETA: 0s - loss: 0.1111 - recall: 0.96 - ETA: 0s - loss: 0.1105 - recall: 0.96 - 1s 106us/sample - loss: 0.1123 - recall: 0.9687\n",
      "Test accuracy: 0.9687145\n"
     ]
    },
    {
     "data": {
      "image/png": "[encoded data removed]",
      "text/plain": [
       "<Figure size 432x360 with 1 Axes>"
      ]
     },
     "metadata": {
      "needs_background": "light"
     },
     "output_type": "display_data"
    }
   ],
   "source": [
    "model_up.compile(optimizer='adam', \n",
    "              loss='binary_crossentropy',\n",
    "              metrics=[tf.keras.metrics.Recall()])\n",
    "\n",
    "history = model_up.fit(up_X_train,\n",
    "          pd.get_dummies(up_y_train),\n",
    "          epochs=5,\n",
    "          validation_data=(up_X_test, pd.get_dummies(up_y_test))\n",
    "         )\n",
    "plot_loss(history)\n",
    "test_loss, test_acc = model_up.evaluate(up_X_test, pd.get_dummies(up_y_test))\n",
    "print('Test accuracy:', test_acc)"
   ]
  },
  {
   "cell_type": "code",
   "execution_count": 23,
   "metadata": {
    "ExecuteTime": {
     "end_time": "2019-08-12T07:00:14.042564Z",
     "start_time": "2019-08-12T07:00:12.718325Z"
    }
   },
   "outputs": [
    {
     "name": "stdout",
     "output_type": "stream",
     "text": [
      "전체채팅수11443, 유해채팅수5913\n"
     ]
    }
   ],
   "source": [
    "result = pd.DataFrame(np.apply_along_axis(index_to_text, 1, up_X_test))\n",
    "result['predict'] = model_up.predict_proba(up_X_test)[:,1] # 유해하다고 판별할 확률\n",
    "print('전체채팅수{}, 유해채팅수{}'.format(len(result),len(result[result.predict>0.5])))\n",
    "result[result.predict>0.5].head(10)\n",
    "result['label'] = up_y_test"
   ]
  },
  {
   "cell_type": "code",
   "execution_count": 158,
   "metadata": {
    "ExecuteTime": {
     "end_time": "2019-08-09T07:45:50.289576Z",
     "start_time": "2019-08-09T07:45:50.282581Z"
    }
   },
   "outputs": [],
   "source": [
    "# result.to_csv('../../data/cnn_result.csv', encoding='utf-16')"
   ]
  },
  {
   "cell_type": "markdown",
   "metadata": {},
   "source": [
    "## Downsampling"
   ]
  },
  {
   "cell_type": "code",
   "execution_count": 42,
   "metadata": {
    "ExecuteTime": {
     "end_time": "2019-08-12T02:44:48.209027Z",
     "start_time": "2019-08-12T02:44:48.177031Z"
    }
   },
   "outputs": [
    {
     "data": {
      "text/plain": [
       "(2228, 1114)"
      ]
     },
     "execution_count": 42,
     "metadata": {},
     "output_type": "execute_result"
    }
   ],
   "source": [
    "down_X, down_y = RandomUnderSampler().fit_resample(x_padded, datasets.label)\n",
    "down_X_train, down_X_test, down_y_train, down_y_test = train_test_split(down_X, down_y)\n",
    "\n",
    "# 총 데이터 수 , 1 레이블 데이터 수\n",
    "len(down_y), down_y.sum()"
   ]
  },
  {
   "cell_type": "code",
   "execution_count": 50,
   "metadata": {
    "ExecuteTime": {
     "end_time": "2019-08-12T02:49:39.647641Z",
     "start_time": "2019-08-12T02:49:39.192901Z"
    }
   },
   "outputs": [],
   "source": [
    "model_down = keras.Sequential([\n",
    "    keras.layers.Embedding(vocab_size, 10),\n",
    "    keras.layers.Conv1D(32, 3, padding=\"same\", activation=tf.nn.relu),\n",
    "    keras.layers.Dropout(0.5),\n",
    "    keras.layers.Conv1D(32, 3, padding=\"same\", activation=tf.nn.relu),\n",
    "    keras.layers.GlobalMaxPool1D(),\n",
    "    keras.layers.Dropout(0.5),\n",
    "    keras.layers.Dense(2, activation=tf.nn.sigmoid)\n",
    "])"
   ]
  },
  {
   "cell_type": "code",
   "execution_count": 54,
   "metadata": {
    "ExecuteTime": {
     "end_time": "2019-08-12T02:50:51.297472Z",
     "start_time": "2019-08-12T02:50:40.450702Z"
    }
   },
   "outputs": [
    {
     "name": "stdout",
     "output_type": "stream",
     "text": [
      "Train on 1671 samples, validate on 557 samples\n",
      "Epoch 1/5\n",
      "1671/1671 [==============================] - ETA: 1:16 - loss: 0.0717 - recall_10: 0.968 - ETA: 11s - loss: 0.0525 - recall_10: 0.974 - ETA: 5s - loss: 0.0585 - recall_10: 0.9714 - ETA: 3s - loss: 0.0554 - recall_10: 0.977 - ETA: 2s - loss: 0.0532 - recall_10: 0.981 - ETA: 1s - loss: 0.0583 - recall_10: 0.981 - ETA: 0s - loss: 0.0570 - recall_10: 0.981 - ETA: 0s - loss: 0.0669 - recall_10: 0.980 - ETA: 0s - loss: 0.0637 - recall_10: 0.980 - ETA: 0s - loss: 0.0694 - recall_10: 0.978 - 3s 2ms/sample - loss: 0.0684 - recall_10: 0.9791 - val_loss: 1.4497 - val_recall_10: 0.7253\n",
      "Epoch 2/5\n",
      "1671/1671 [==============================] - ETA: 0s - loss: 0.0664 - recall_10: 0.968 - ETA: 0s - loss: 0.1109 - recall_10: 0.968 - ETA: 0s - loss: 0.0777 - recall_10: 0.976 - ETA: 0s - loss: 0.0725 - recall_10: 0.977 - ETA: 0s - loss: 0.0749 - recall_10: 0.976 - ETA: 0s - loss: 0.0712 - recall_10: 0.977 - ETA: 0s - loss: 0.0885 - recall_10: 0.974 - ETA: 0s - loss: 0.0915 - recall_10: 0.973 - ETA: 0s - loss: 0.0858 - recall_10: 0.975 - ETA: 0s - loss: 0.0822 - recall_10: 0.977 - 1s 356us/sample - loss: 0.0821 - recall_10: 0.9773 - val_loss: 1.5004 - val_recall_10: 0.7235\n",
      "Epoch 3/5\n",
      "1671/1671 [==============================] - ETA: 0s - loss: 0.0055 - recall_10: 1.000 - ETA: 0s - loss: 0.0329 - recall_10: 0.988 - ETA: 0s - loss: 0.0388 - recall_10: 0.986 - ETA: 0s - loss: 0.0467 - recall_10: 0.984 - ETA: 0s - loss: 0.0489 - recall_10: 0.984 - ETA: 0s - loss: 0.0538 - recall_10: 0.984 - ETA: 0s - loss: 0.0560 - recall_10: 0.983 - ETA: 0s - loss: 0.0593 - recall_10: 0.981 - ETA: 0s - loss: 0.0638 - recall_10: 0.979 - ETA: 0s - loss: 0.0659 - recall_10: 0.979 - 1s 350us/sample - loss: 0.0651 - recall_10: 0.9791 - val_loss: 1.6062 - val_recall_10: 0.7127\n",
      "Epoch 4/5\n",
      "1671/1671 [==============================] - ETA: 0s - loss: 0.0371 - recall_10: 1.000 - ETA: 0s - loss: 0.0481 - recall_10: 0.995 - ETA: 0s - loss: 0.0614 - recall_10: 0.985 - ETA: 0s - loss: 0.0668 - recall_10: 0.983 - ETA: 0s - loss: 0.0558 - recall_10: 0.986 - ETA: 0s - loss: 0.0698 - recall_10: 0.982 - ETA: 0s - loss: 0.0636 - recall_10: 0.984 - ETA: 0s - loss: 0.0600 - recall_10: 0.983 - ETA: 0s - loss: 0.0582 - recall_10: 0.983 - ETA: 0s - loss: 0.0611 - recall_10: 0.982 - 1s 353us/sample - loss: 0.0616 - recall_10: 0.9820 - val_loss: 1.6266 - val_recall_10: 0.7181\n",
      "Epoch 5/5\n",
      "1671/1671 [==============================] - ETA: 0s - loss: 0.0082 - recall_10: 1.000 - ETA: 0s - loss: 0.0372 - recall_10: 0.986 - ETA: 0s - loss: 0.0333 - recall_10: 0.988 - ETA: 0s - loss: 0.0415 - recall_10: 0.988 - ETA: 0s - loss: 0.0371 - recall_10: 0.987 - ETA: 0s - loss: 0.0509 - recall_10: 0.981 - ETA: 0s - loss: 0.0557 - recall_10: 0.980 - ETA: 0s - loss: 0.0565 - recall_10: 0.979 - ETA: 0s - loss: 0.0576 - recall_10: 0.979 - ETA: 0s - loss: 0.0599 - recall_10: 0.977 - 1s 373us/sample - loss: 0.0576 - recall_10: 0.9791 - val_loss: 1.6759 - val_recall_10: 0.7181\n",
      "557/557 [==============================] - ETA: 0s - loss: 1.4450 - recall_10: 0.812 - ETA: 0s - loss: 1.6805 - recall_10: 0.716 - 0s 122us/sample - loss: 1.6760 - recall_10: 0.7181\n",
      "Test Recall: 0.71813285\n"
     ]
    },
    {
     "data": {
      "image/png": "[encoded data removed]",
      "text/plain": [
       "<Figure size 432x360 with 1 Axes>"
      ]
     },
     "metadata": {
      "needs_background": "light"
     },
     "output_type": "display_data"
    }
   ],
   "source": [
    "model_down.compile(optimizer='adam', \n",
    "              loss='binary_crossentropy',\n",
    "              metrics=[tf.keras.metrics.Recall()])\n",
    "\n",
    "history = model_down.fit(down_X_train,\n",
    "          pd.get_dummies(down_y_train),\n",
    "          epochs=5,\n",
    "          validation_data=(down_X_test, pd.get_dummies(down_y_test))\n",
    "         )\n",
    "plot_loss(history)\n",
    "test_loss, test_acc = model_down.evaluate(down_X_test, pd.get_dummies(down_y_test))\n",
    "print('Test Recall:', test_acc)"
   ]
  },
  {
   "cell_type": "code",
   "execution_count": 55,
   "metadata": {
    "ExecuteTime": {
     "end_time": "2019-08-12T02:50:59.694648Z",
     "start_time": "2019-08-12T02:50:58.591283Z"
    }
   },
   "outputs": [
    {
     "name": "stdout",
     "output_type": "stream",
     "text": [
      "전체채팅수557, 유해채팅수280\n"
     ]
    }
   ],
   "source": [
    "result = pd.DataFrame(np.apply_along_axis(index_to_text, 1, down_X_test))\n",
    "result['predict'] = model_down.predict_proba(down_X_test)[:,1] # 유해하다고 판별할 확률\n",
    "print('전체채팅수{}, 유해채팅수{}'.format(len(result),len(result[result.predict>0.5])))\n",
    "result[result.predict>0.5].head(10)\n",
    "result['label'] = down_y_test"
   ]
  },
  {
   "cell_type": "code",
   "execution_count": 27,
   "metadata": {
    "ExecuteTime": {
     "end_time": "2019-08-12T07:07:12.642267Z",
     "start_time": "2019-08-12T07:07:10.742356Z"
    }
   },
   "outputs": [
    {
     "data": {
      "text/html": [
       "<div>\n",
       "<style scoped>\n",
       "    .dataframe tbody tr th:only-of-type {\n",
       "        vertical-align: middle;\n",
       "    }\n",
       "\n",
       "    .dataframe tbody tr th {\n",
       "        vertical-align: top;\n",
       "    }\n",
       "\n",
       "    .dataframe thead th {\n",
       "        text-align: right;\n",
       "    }\n",
       "</style>\n",
       "<table border=\"1\" class=\"dataframe\">\n",
       "  <thead>\n",
       "    <tr style=\"text-align: right;\">\n",
       "      <th></th>\n",
       "      <th>0</th>\n",
       "      <th>predict</th>\n",
       "      <th>label</th>\n",
       "    </tr>\n",
       "  </thead>\n",
       "  <tbody>\n",
       "    <tr>\n",
       "      <th>6</th>\n",
       "      <td>&lt;OOV&gt; &lt;PAD&gt; &lt;PAD&gt; &lt;PAD&gt; &lt;PAD&gt; &lt;PAD&gt; &lt;PAD&gt; &lt;</td>\n",
       "      <td>0.434492</td>\n",
       "      <td>1</td>\n",
       "    </tr>\n",
       "    <tr>\n",
       "      <th>88</th>\n",
       "      <td>갑 분 싸다 &lt;PAD&gt; &lt;PAD&gt; &lt;PAD&gt; &lt;PAD&gt; &lt;PAD&gt; &lt;PAD&gt;</td>\n",
       "      <td>0.960686</td>\n",
       "      <td>0</td>\n",
       "    </tr>\n",
       "    <tr>\n",
       "      <th>126</th>\n",
       "      <td>ㅇㅈ &lt;PAD&gt; &lt;PAD&gt; &lt;PAD&gt; &lt;PAD&gt; &lt;PAD&gt; &lt;PAD&gt; &lt;PAD</td>\n",
       "      <td>0.534332</td>\n",
       "      <td>0</td>\n",
       "    </tr>\n",
       "    <tr>\n",
       "      <th>175</th>\n",
       "      <td>&lt;OOV&gt; &lt;PAD&gt; &lt;PAD&gt; &lt;PAD&gt; &lt;PAD&gt; &lt;PAD&gt; &lt;PAD&gt; &lt;</td>\n",
       "      <td>0.434492</td>\n",
       "      <td>1</td>\n",
       "    </tr>\n",
       "    <tr>\n",
       "      <th>244</th>\n",
       "      <td>&lt;OOV&gt; ? &lt;PAD&gt; &lt;PAD&gt; &lt;PAD&gt; &lt;PAD&gt; &lt;PAD&gt; &lt;PAD&gt;</td>\n",
       "      <td>0.690133</td>\n",
       "      <td>0</td>\n",
       "    </tr>\n",
       "    <tr>\n",
       "      <th>250</th>\n",
       "      <td>시그마 장인 하다 &lt;PAD&gt; &lt;PAD&gt; &lt;PAD&gt; &lt;PAD&gt; &lt;PAD&gt; &lt;PA</td>\n",
       "      <td>0.889551</td>\n",
       "      <td>0</td>\n",
       "    </tr>\n",
       "    <tr>\n",
       "      <th>254</th>\n",
       "      <td>&lt;OOV&gt; &lt;OOV&gt; &lt;PAD&gt; &lt;PAD&gt; &lt;PAD&gt; &lt;PAD&gt; &lt;PAD&gt; &lt;</td>\n",
       "      <td>0.497842</td>\n",
       "      <td>1</td>\n",
       "    </tr>\n",
       "    <tr>\n",
       "      <th>300</th>\n",
       "      <td>미치다 ㅋㅋㅋ &lt;PAD&gt; &lt;PAD&gt; &lt;PAD&gt; &lt;PAD&gt; &lt;PAD&gt; &lt;PAD&gt;</td>\n",
       "      <td>0.974296</td>\n",
       "      <td>0</td>\n",
       "    </tr>\n",
       "    <tr>\n",
       "      <th>370</th>\n",
       "      <td>ㄹㅇ &lt;PAD&gt; &lt;PAD&gt; &lt;PAD&gt; &lt;PAD&gt; &lt;PAD&gt; &lt;PAD&gt; &lt;PAD</td>\n",
       "      <td>0.484269</td>\n",
       "      <td>1</td>\n",
       "    </tr>\n",
       "    <tr>\n",
       "      <th>389</th>\n",
       "      <td>두 마리 미치다 같다 뒈 &lt;PAD&gt; &lt;PAD&gt; &lt;PAD&gt; &lt;PAD&gt; &lt;PAD&gt;</td>\n",
       "      <td>0.939132</td>\n",
       "      <td>0</td>\n",
       "    </tr>\n",
       "    <tr>\n",
       "      <th>402</th>\n",
       "      <td>가붕이 는 이기다 없다 ㅠㅠ &lt;PAD&gt; &lt;PAD&gt; &lt;PAD&gt; &lt;PAD&gt; &lt;PA</td>\n",
       "      <td>0.629415</td>\n",
       "      <td>0</td>\n",
       "    </tr>\n",
       "    <tr>\n",
       "      <th>446</th>\n",
       "      <td>브베 야 부모님 이 맨날 약속 안 지키다 교육 시키다</td>\n",
       "      <td>0.999938</td>\n",
       "      <td>0</td>\n",
       "    </tr>\n",
       "    <tr>\n",
       "      <th>454</th>\n",
       "      <td>죽 이고 제단 도 &lt;PAD&gt; &lt;PAD&gt; &lt;PAD&gt; &lt;PAD&gt; &lt;PAD&gt; &lt;PA</td>\n",
       "      <td>0.999954</td>\n",
       "      <td>0</td>\n",
       "    </tr>\n",
       "    <tr>\n",
       "      <th>468</th>\n",
       "      <td>제 잇다 블라디 &lt;PAD&gt; &lt;PAD&gt; &lt;PAD&gt; &lt;PAD&gt; &lt;PAD&gt; &lt;PAD</td>\n",
       "      <td>0.820447</td>\n",
       "      <td>0</td>\n",
       "    </tr>\n",
       "    <tr>\n",
       "      <th>485</th>\n",
       "      <td>자다 죽다 ㅋㅋㅋ &lt;PAD&gt; &lt;PAD&gt; &lt;PAD&gt; &lt;PAD&gt; &lt;PAD&gt; &lt;PA</td>\n",
       "      <td>0.964069</td>\n",
       "      <td>0</td>\n",
       "    </tr>\n",
       "    <tr>\n",
       "      <th>490</th>\n",
       "      <td>케틀 하다 &lt;PAD&gt; &lt;PAD&gt; &lt;PAD&gt; &lt;PAD&gt; &lt;PAD&gt; &lt;PAD&gt; &lt;</td>\n",
       "      <td>0.763079</td>\n",
       "      <td>0</td>\n",
       "    </tr>\n",
       "    <tr>\n",
       "      <th>518</th>\n",
       "      <td>녹방 녹방 이 지랄 하다 나가다 애 는 거의 없다</td>\n",
       "      <td>0.999175</td>\n",
       "      <td>0</td>\n",
       "    </tr>\n",
       "    <tr>\n",
       "      <th>564</th>\n",
       "      <td>좋다 &lt;PAD&gt; &lt;PAD&gt; &lt;PAD&gt; &lt;PAD&gt; &lt;PAD&gt; &lt;PAD&gt; &lt;PAD</td>\n",
       "      <td>0.573230</td>\n",
       "      <td>0</td>\n",
       "    </tr>\n",
       "    <tr>\n",
       "      <th>614</th>\n",
       "      <td>배 개 &lt;PAD&gt; &lt;PAD&gt; &lt;PAD&gt; &lt;PAD&gt; &lt;PAD&gt; &lt;PAD&gt; &lt;PA</td>\n",
       "      <td>0.971490</td>\n",
       "      <td>0</td>\n",
       "    </tr>\n",
       "    <tr>\n",
       "      <th>637</th>\n",
       "      <td>&lt;OOV&gt; &lt;PAD&gt; &lt;PAD&gt; &lt;PAD&gt; &lt;PAD&gt; &lt;PAD&gt; &lt;PAD&gt; &lt;</td>\n",
       "      <td>0.434492</td>\n",
       "      <td>1</td>\n",
       "    </tr>\n",
       "    <tr>\n",
       "      <th>714</th>\n",
       "      <td>찌다 &lt;OOV&gt; 다 &lt;PAD&gt; &lt;PAD&gt; &lt;PAD&gt; &lt;PAD&gt; &lt;PAD&gt; &lt;P</td>\n",
       "      <td>0.851931</td>\n",
       "      <td>0</td>\n",
       "    </tr>\n",
       "    <tr>\n",
       "      <th>726</th>\n",
       "      <td>슼 위치 &lt;OOV&gt; ㄷㄷ &lt;PAD&gt; &lt;PAD&gt; &lt;PAD&gt; &lt;PAD&gt; &lt;PAD&gt;</td>\n",
       "      <td>0.666493</td>\n",
       "      <td>0</td>\n",
       "    </tr>\n",
       "    <tr>\n",
       "      <th>730</th>\n",
       "      <td>&lt;OOV&gt; ㅋㅋㅋ &lt;PAD&gt; &lt;PAD&gt; &lt;PAD&gt; &lt;PAD&gt; &lt;PAD&gt; &lt;PA</td>\n",
       "      <td>0.535294</td>\n",
       "      <td>0</td>\n",
       "    </tr>\n",
       "    <tr>\n",
       "      <th>800</th>\n",
       "      <td>&lt;OOV&gt; ? &lt;PAD&gt; &lt;PAD&gt; &lt;PAD&gt; &lt;PAD&gt; &lt;PAD&gt; &lt;PAD&gt;</td>\n",
       "      <td>0.690133</td>\n",
       "      <td>0</td>\n",
       "    </tr>\n",
       "    <tr>\n",
       "      <th>816</th>\n",
       "      <td>세 방향 에서 오다 캐 깨다 ㅋㅋㅋ &lt;PAD&gt; &lt;PAD&gt; &lt;PAD&gt;</td>\n",
       "      <td>0.616140</td>\n",
       "      <td>0</td>\n",
       "    </tr>\n",
       "    <tr>\n",
       "      <th>820</th>\n",
       "      <td>역시 밥신 &lt;PAD&gt; &lt;PAD&gt; &lt;PAD&gt; &lt;PAD&gt; &lt;PAD&gt; &lt;PAD&gt; &lt;</td>\n",
       "      <td>0.961133</td>\n",
       "      <td>0</td>\n",
       "    </tr>\n",
       "    <tr>\n",
       "      <th>846</th>\n",
       "      <td>에 비 동 ;; &lt;PAD&gt; &lt;PAD&gt; &lt;PAD&gt; &lt;PAD&gt; &lt;PAD&gt; &lt;PAD</td>\n",
       "      <td>0.886713</td>\n",
       "      <td>0</td>\n",
       "    </tr>\n",
       "    <tr>\n",
       "      <th>875</th>\n",
       "      <td>뻥 치다 ㅋㅋㅋ &lt;PAD&gt; &lt;PAD&gt; &lt;PAD&gt; &lt;PAD&gt; &lt;PAD&gt; &lt;PAD</td>\n",
       "      <td>0.994282</td>\n",
       "      <td>0</td>\n",
       "    </tr>\n",
       "    <tr>\n",
       "      <th>889</th>\n",
       "      <td>ㅗㅜㅑ &lt;PAD&gt; &lt;PAD&gt; &lt;PAD&gt; &lt;PAD&gt; &lt;PAD&gt; &lt;PAD&gt; &lt;PA</td>\n",
       "      <td>0.285462</td>\n",
       "      <td>1</td>\n",
       "    </tr>\n",
       "    <tr>\n",
       "      <th>1056</th>\n",
       "      <td>억 억 억 &lt;OOV&gt; 다 따다 당하다 &lt;PAD&gt; &lt;PAD&gt; &lt;PAD&gt;</td>\n",
       "      <td>0.857542</td>\n",
       "      <td>0</td>\n",
       "    </tr>\n",
       "    <tr>\n",
       "      <th>...</th>\n",
       "      <td>...</td>\n",
       "      <td>...</td>\n",
       "      <td>...</td>\n",
       "    </tr>\n",
       "    <tr>\n",
       "      <th>10351</th>\n",
       "      <td>데스 무비 &lt;PAD&gt; &lt;PAD&gt; &lt;PAD&gt; &lt;PAD&gt; &lt;PAD&gt; &lt;PAD&gt; &lt;</td>\n",
       "      <td>1.000000</td>\n",
       "      <td>0</td>\n",
       "    </tr>\n",
       "    <tr>\n",
       "      <th>10360</th>\n",
       "      <td>&lt;OOV&gt; &lt;PAD&gt; &lt;PAD&gt; &lt;PAD&gt; &lt;PAD&gt; &lt;PAD&gt; &lt;PAD&gt; &lt;</td>\n",
       "      <td>0.434492</td>\n",
       "      <td>1</td>\n",
       "    </tr>\n",
       "    <tr>\n",
       "      <th>10501</th>\n",
       "      <td>지다 열 받다 &lt;PAD&gt; &lt;PAD&gt; &lt;PAD&gt; &lt;PAD&gt; &lt;PAD&gt; &lt;PAD&gt;</td>\n",
       "      <td>0.977174</td>\n",
       "      <td>0</td>\n",
       "    </tr>\n",
       "    <tr>\n",
       "      <th>10536</th>\n",
       "      <td>&lt;OOV&gt; &lt;PAD&gt; &lt;PAD&gt; &lt;PAD&gt; &lt;PAD&gt; &lt;PAD&gt; &lt;PAD&gt; &lt;</td>\n",
       "      <td>0.434492</td>\n",
       "      <td>1</td>\n",
       "    </tr>\n",
       "    <tr>\n",
       "      <th>10588</th>\n",
       "      <td>우웩 &lt;PAD&gt; &lt;PAD&gt; &lt;PAD&gt; &lt;PAD&gt; &lt;PAD&gt; &lt;PAD&gt; &lt;PAD</td>\n",
       "      <td>0.924488</td>\n",
       "      <td>0</td>\n",
       "    </tr>\n",
       "    <tr>\n",
       "      <th>10605</th>\n",
       "      <td>빨다 &lt;PAD&gt; &lt;PAD&gt; &lt;PAD&gt; &lt;PAD&gt; &lt;PAD&gt; &lt;PAD&gt; &lt;PAD</td>\n",
       "      <td>0.996891</td>\n",
       "      <td>0</td>\n",
       "    </tr>\n",
       "    <tr>\n",
       "      <th>10641</th>\n",
       "      <td>ㅈ &lt;PAD&gt; &lt;PAD&gt; &lt;PAD&gt; &lt;PAD&gt; &lt;PAD&gt; &lt;PAD&gt; &lt;PAD&gt;</td>\n",
       "      <td>0.952018</td>\n",
       "      <td>0</td>\n",
       "    </tr>\n",
       "    <tr>\n",
       "      <th>10751</th>\n",
       "      <td>대학교 가면 노답 ㅋㅋㅋ &lt;PAD&gt; &lt;PAD&gt; &lt;PAD&gt; &lt;PAD&gt; &lt;PAD&gt;</td>\n",
       "      <td>0.991966</td>\n",
       "      <td>0</td>\n",
       "    </tr>\n",
       "    <tr>\n",
       "      <th>10764</th>\n",
       "      <td>모르다 죽다 &lt;PAD&gt; &lt;PAD&gt; &lt;PAD&gt; &lt;PAD&gt; &lt;PAD&gt; &lt;PAD&gt;</td>\n",
       "      <td>0.997021</td>\n",
       "      <td>0</td>\n",
       "    </tr>\n",
       "    <tr>\n",
       "      <th>10774</th>\n",
       "      <td>아줌마 면 어떻다 &lt;PAD&gt; &lt;PAD&gt; &lt;PAD&gt; &lt;PAD&gt; &lt;PAD&gt; &lt;PA</td>\n",
       "      <td>0.631467</td>\n",
       "      <td>0</td>\n",
       "    </tr>\n",
       "    <tr>\n",
       "      <th>10862</th>\n",
       "      <td>폴테 잇다 ? &lt;PAD&gt; &lt;PAD&gt; &lt;PAD&gt; &lt;PAD&gt; &lt;PAD&gt; &lt;PAD&gt;</td>\n",
       "      <td>0.791998</td>\n",
       "      <td>0</td>\n",
       "    </tr>\n",
       "    <tr>\n",
       "      <th>10872</th>\n",
       "      <td>개이득 인데 &lt;PAD&gt; &lt;PAD&gt; &lt;PAD&gt; &lt;PAD&gt; &lt;PAD&gt; &lt;PAD&gt;</td>\n",
       "      <td>0.927617</td>\n",
       "      <td>0</td>\n",
       "    </tr>\n",
       "    <tr>\n",
       "      <th>10949</th>\n",
       "      <td>ㅈ &lt;PAD&gt; &lt;PAD&gt; &lt;PAD&gt; &lt;PAD&gt; &lt;PAD&gt; &lt;PAD&gt; &lt;PAD&gt;</td>\n",
       "      <td>0.952018</td>\n",
       "      <td>0</td>\n",
       "    </tr>\n",
       "    <tr>\n",
       "      <th>11034</th>\n",
       "      <td>노 토리 &lt;PAD&gt; &lt;PAD&gt; &lt;PAD&gt; &lt;PAD&gt; &lt;PAD&gt; &lt;PAD&gt; &lt;P</td>\n",
       "      <td>0.999962</td>\n",
       "      <td>0</td>\n",
       "    </tr>\n",
       "    <tr>\n",
       "      <th>11045</th>\n",
       "      <td>쵸 럭키 다 제 &lt;PAD&gt; &lt;PAD&gt; &lt;PAD&gt; &lt;PAD&gt; &lt;PAD&gt; &lt;PAD</td>\n",
       "      <td>0.854339</td>\n",
       "      <td>0</td>\n",
       "    </tr>\n",
       "    <tr>\n",
       "      <th>11051</th>\n",
       "      <td>킹 노 스 &lt;PAD&gt; &lt;PAD&gt; &lt;PAD&gt; &lt;PAD&gt; &lt;PAD&gt; &lt;PAD&gt; &lt;</td>\n",
       "      <td>0.654589</td>\n",
       "      <td>0</td>\n",
       "    </tr>\n",
       "    <tr>\n",
       "      <th>11084</th>\n",
       "      <td>폼 이 안 좋다 ㅋㅋㅋ &lt;PAD&gt; &lt;PAD&gt; &lt;PAD&gt; &lt;PAD&gt; &lt;PAD&gt;</td>\n",
       "      <td>0.654881</td>\n",
       "      <td>0</td>\n",
       "    </tr>\n",
       "    <tr>\n",
       "      <th>11088</th>\n",
       "      <td>&lt;OOV&gt; ; &lt;PAD&gt; &lt;PAD&gt; &lt;PAD&gt; &lt;PAD&gt; &lt;PAD&gt; &lt;PAD&gt;</td>\n",
       "      <td>0.823051</td>\n",
       "      <td>0</td>\n",
       "    </tr>\n",
       "    <tr>\n",
       "      <th>11103</th>\n",
       "      <td>개다 안 돼다 ㅠㅠ &lt;PAD&gt; &lt;PAD&gt; &lt;PAD&gt; &lt;PAD&gt; &lt;PAD&gt; &lt;P</td>\n",
       "      <td>0.963642</td>\n",
       "      <td>0</td>\n",
       "    </tr>\n",
       "    <tr>\n",
       "      <th>11158</th>\n",
       "      <td>추 &lt;OOV&gt; 1 2 4 &lt;PAD&gt; &lt;PAD&gt; &lt;PAD&gt; &lt;PAD&gt; &lt;PAD&gt;</td>\n",
       "      <td>0.568364</td>\n",
       "      <td>0</td>\n",
       "    </tr>\n",
       "    <tr>\n",
       "      <th>11163</th>\n",
       "      <td>&lt;OOV&gt; 의 날 빌다 ㄱㄱ &lt;PAD&gt; &lt;PAD&gt; &lt;PAD&gt; &lt;PAD&gt; &lt;PA</td>\n",
       "      <td>0.874556</td>\n",
       "      <td>0</td>\n",
       "    </tr>\n",
       "    <tr>\n",
       "      <th>11271</th>\n",
       "      <td>미애 늦둥이 해명 좀 &lt;PAD&gt; &lt;PAD&gt; &lt;PAD&gt; &lt;PAD&gt; &lt;PAD&gt; &lt;</td>\n",
       "      <td>0.808503</td>\n",
       "      <td>0</td>\n",
       "    </tr>\n",
       "    <tr>\n",
       "      <th>11299</th>\n",
       "      <td>ㅗㅜㅑ &lt;PAD&gt; &lt;PAD&gt; &lt;PAD&gt; &lt;PAD&gt; &lt;PAD&gt; &lt;PAD&gt; &lt;PA</td>\n",
       "      <td>0.285462</td>\n",
       "      <td>1</td>\n",
       "    </tr>\n",
       "    <tr>\n",
       "      <th>11329</th>\n",
       "      <td>좋아하다 그렇다 ㅎㅎ &lt;PAD&gt; &lt;PAD&gt; &lt;PAD&gt; &lt;PAD&gt; &lt;PAD&gt; &lt;</td>\n",
       "      <td>0.816389</td>\n",
       "      <td>0</td>\n",
       "    </tr>\n",
       "    <tr>\n",
       "      <th>11354</th>\n",
       "      <td>쿠키 너무 털 찌다 아니다 &lt;PAD&gt; &lt;PAD&gt; &lt;PAD&gt; &lt;PAD&gt; &lt;PAD</td>\n",
       "      <td>0.994878</td>\n",
       "      <td>0</td>\n",
       "    </tr>\n",
       "    <tr>\n",
       "      <th>11357</th>\n",
       "      <td>장례식 on &lt;PAD&gt; &lt;PAD&gt; &lt;PAD&gt; &lt;PAD&gt; &lt;PAD&gt; &lt;PAD&gt;</td>\n",
       "      <td>0.999795</td>\n",
       "      <td>0</td>\n",
       "    </tr>\n",
       "    <tr>\n",
       "      <th>11365</th>\n",
       "      <td>브베 아프리카 접다 실화 ??? &lt;PAD&gt; &lt;PAD&gt; &lt;PAD&gt; &lt;PAD&gt; &lt;</td>\n",
       "      <td>0.797346</td>\n",
       "      <td>0</td>\n",
       "    </tr>\n",
       "    <tr>\n",
       "      <th>11396</th>\n",
       "      <td>제 끼다 &lt;PAD&gt; &lt;PAD&gt; &lt;PAD&gt; &lt;PAD&gt; &lt;PAD&gt; &lt;PAD&gt; &lt;P</td>\n",
       "      <td>0.997305</td>\n",
       "      <td>0</td>\n",
       "    </tr>\n",
       "    <tr>\n",
       "      <th>11403</th>\n",
       "      <td>이 거 먹다 ㅈ 판다 ㅋㅋㅋ &lt;PAD&gt; &lt;PAD&gt; &lt;PAD&gt; &lt;PAD&gt;</td>\n",
       "      <td>0.633130</td>\n",
       "      <td>0</td>\n",
       "    </tr>\n",
       "    <tr>\n",
       "      <th>11441</th>\n",
       "      <td>발 로 하라 하다 &lt;PAD&gt; &lt;PAD&gt; &lt;PAD&gt; &lt;PAD&gt; &lt;PAD&gt; &lt;PA</td>\n",
       "      <td>0.999787</td>\n",
       "      <td>0</td>\n",
       "    </tr>\n",
       "  </tbody>\n",
       "</table>\n",
       "<p>358 rows × 3 columns</p>\n",
       "</div>"
      ],
      "text/plain": [
       "                                                 0   predict  label\n",
       "6      <OOV> <PAD> <PAD> <PAD> <PAD> <PAD> <PAD> <  0.434492      1\n",
       "88     갑 분 싸다 <PAD> <PAD> <PAD> <PAD> <PAD> <PAD>   0.960686      0\n",
       "126    ㅇㅈ <PAD> <PAD> <PAD> <PAD> <PAD> <PAD> <PAD  0.534332      0\n",
       "175    <OOV> <PAD> <PAD> <PAD> <PAD> <PAD> <PAD> <  0.434492      1\n",
       "244    <OOV> ? <PAD> <PAD> <PAD> <PAD> <PAD> <PAD>  0.690133      0\n",
       "250    시그마 장인 하다 <PAD> <PAD> <PAD> <PAD> <PAD> <PA  0.889551      0\n",
       "254    <OOV> <OOV> <PAD> <PAD> <PAD> <PAD> <PAD> <  0.497842      1\n",
       "300    미치다 ㅋㅋㅋ <PAD> <PAD> <PAD> <PAD> <PAD> <PAD>  0.974296      0\n",
       "370    ㄹㅇ <PAD> <PAD> <PAD> <PAD> <PAD> <PAD> <PAD  0.484269      1\n",
       "389    두 마리 미치다 같다 뒈 <PAD> <PAD> <PAD> <PAD> <PAD>  0.939132      0\n",
       "402    가붕이 는 이기다 없다 ㅠㅠ <PAD> <PAD> <PAD> <PAD> <PA  0.629415      0\n",
       "446                  브베 야 부모님 이 맨날 약속 안 지키다 교육 시키다  0.999938      0\n",
       "454    죽 이고 제단 도 <PAD> <PAD> <PAD> <PAD> <PAD> <PA  0.999954      0\n",
       "468    제 잇다 블라디 <PAD> <PAD> <PAD> <PAD> <PAD> <PAD  0.820447      0\n",
       "485    자다 죽다 ㅋㅋㅋ <PAD> <PAD> <PAD> <PAD> <PAD> <PA  0.964069      0\n",
       "490    케틀 하다 <PAD> <PAD> <PAD> <PAD> <PAD> <PAD> <  0.763079      0\n",
       "518                    녹방 녹방 이 지랄 하다 나가다 애 는 거의 없다  0.999175      0\n",
       "564    좋다 <PAD> <PAD> <PAD> <PAD> <PAD> <PAD> <PAD  0.573230      0\n",
       "614    배 개 <PAD> <PAD> <PAD> <PAD> <PAD> <PAD> <PA  0.971490      0\n",
       "637    <OOV> <PAD> <PAD> <PAD> <PAD> <PAD> <PAD> <  0.434492      1\n",
       "714    찌다 <OOV> 다 <PAD> <PAD> <PAD> <PAD> <PAD> <P  0.851931      0\n",
       "726    슼 위치 <OOV> ㄷㄷ <PAD> <PAD> <PAD> <PAD> <PAD>  0.666493      0\n",
       "730    <OOV> ㅋㅋㅋ <PAD> <PAD> <PAD> <PAD> <PAD> <PA  0.535294      0\n",
       "800    <OOV> ? <PAD> <PAD> <PAD> <PAD> <PAD> <PAD>  0.690133      0\n",
       "816          세 방향 에서 오다 캐 깨다 ㅋㅋㅋ <PAD> <PAD> <PAD>  0.616140      0\n",
       "820    역시 밥신 <PAD> <PAD> <PAD> <PAD> <PAD> <PAD> <  0.961133      0\n",
       "846    에 비 동 ;; <PAD> <PAD> <PAD> <PAD> <PAD> <PAD  0.886713      0\n",
       "875    뻥 치다 ㅋㅋㅋ <PAD> <PAD> <PAD> <PAD> <PAD> <PAD  0.994282      0\n",
       "889    ㅗㅜㅑ <PAD> <PAD> <PAD> <PAD> <PAD> <PAD> <PA  0.285462      1\n",
       "1056        억 억 억 <OOV> 다 따다 당하다 <PAD> <PAD> <PAD>  0.857542      0\n",
       "...                                            ...       ...    ...\n",
       "10351  데스 무비 <PAD> <PAD> <PAD> <PAD> <PAD> <PAD> <  1.000000      0\n",
       "10360  <OOV> <PAD> <PAD> <PAD> <PAD> <PAD> <PAD> <  0.434492      1\n",
       "10501  지다 열 받다 <PAD> <PAD> <PAD> <PAD> <PAD> <PAD>  0.977174      0\n",
       "10536  <OOV> <PAD> <PAD> <PAD> <PAD> <PAD> <PAD> <  0.434492      1\n",
       "10588  우웩 <PAD> <PAD> <PAD> <PAD> <PAD> <PAD> <PAD  0.924488      0\n",
       "10605  빨다 <PAD> <PAD> <PAD> <PAD> <PAD> <PAD> <PAD  0.996891      0\n",
       "10641  ㅈ <PAD> <PAD> <PAD> <PAD> <PAD> <PAD> <PAD>  0.952018      0\n",
       "10751  대학교 가면 노답 ㅋㅋㅋ <PAD> <PAD> <PAD> <PAD> <PAD>  0.991966      0\n",
       "10764  모르다 죽다 <PAD> <PAD> <PAD> <PAD> <PAD> <PAD>   0.997021      0\n",
       "10774  아줌마 면 어떻다 <PAD> <PAD> <PAD> <PAD> <PAD> <PA  0.631467      0\n",
       "10862  폴테 잇다 ? <PAD> <PAD> <PAD> <PAD> <PAD> <PAD>  0.791998      0\n",
       "10872  개이득 인데 <PAD> <PAD> <PAD> <PAD> <PAD> <PAD>   0.927617      0\n",
       "10949  ㅈ <PAD> <PAD> <PAD> <PAD> <PAD> <PAD> <PAD>  0.952018      0\n",
       "11034  노 토리 <PAD> <PAD> <PAD> <PAD> <PAD> <PAD> <P  0.999962      0\n",
       "11045  쵸 럭키 다 제 <PAD> <PAD> <PAD> <PAD> <PAD> <PAD  0.854339      0\n",
       "11051  킹 노 스 <PAD> <PAD> <PAD> <PAD> <PAD> <PAD> <  0.654589      0\n",
       "11084   폼 이 안 좋다 ㅋㅋㅋ <PAD> <PAD> <PAD> <PAD> <PAD>  0.654881      0\n",
       "11088  <OOV> ; <PAD> <PAD> <PAD> <PAD> <PAD> <PAD>  0.823051      0\n",
       "11103  개다 안 돼다 ㅠㅠ <PAD> <PAD> <PAD> <PAD> <PAD> <P  0.963642      0\n",
       "11158  추 <OOV> 1 2 4 <PAD> <PAD> <PAD> <PAD> <PAD>  0.568364      0\n",
       "11163  <OOV> 의 날 빌다 ㄱㄱ <PAD> <PAD> <PAD> <PAD> <PA  0.874556      0\n",
       "11271  미애 늦둥이 해명 좀 <PAD> <PAD> <PAD> <PAD> <PAD> <  0.808503      0\n",
       "11299  ㅗㅜㅑ <PAD> <PAD> <PAD> <PAD> <PAD> <PAD> <PA  0.285462      1\n",
       "11329  좋아하다 그렇다 ㅎㅎ <PAD> <PAD> <PAD> <PAD> <PAD> <  0.816389      0\n",
       "11354  쿠키 너무 털 찌다 아니다 <PAD> <PAD> <PAD> <PAD> <PAD  0.994878      0\n",
       "11357  장례식 on <PAD> <PAD> <PAD> <PAD> <PAD> <PAD>   0.999795      0\n",
       "11365  브베 아프리카 접다 실화 ??? <PAD> <PAD> <PAD> <PAD> <  0.797346      0\n",
       "11396  제 끼다 <PAD> <PAD> <PAD> <PAD> <PAD> <PAD> <P  0.997305      0\n",
       "11403      이 거 먹다 ㅈ 판다 ㅋㅋㅋ <PAD> <PAD> <PAD> <PAD>  0.633130      0\n",
       "11441  발 로 하라 하다 <PAD> <PAD> <PAD> <PAD> <PAD> <PA  0.999787      0\n",
       "\n",
       "[358 rows x 3 columns]"
      ]
     },
     "execution_count": 27,
     "metadata": {},
     "output_type": "execute_result"
    }
   ],
   "source": [
    "# 예측 실패 채팅\n",
    "result[model_up.predict_classes(up_X_test) != up_y_test]"
   ]
  },
  {
   "cell_type": "code",
   "execution_count": 24,
   "metadata": {
    "ExecuteTime": {
     "end_time": "2019-08-12T07:00:26.682305Z",
     "start_time": "2019-08-12T07:00:26.651321Z"
    }
   },
   "outputs": [
    {
     "name": "stdout",
     "output_type": "stream",
     "text": [
      "['시', '1123123123', '발']\n"
     ]
    },
    {
     "data": {
      "text/plain": [
       "array([[0.01354373, 0.9864073 ]], dtype=float32)"
      ]
     },
     "execution_count": 24,
     "metadata": {},
     "output_type": "execute_result"
    }
   ],
   "source": [
    "test_chat = \"시1123123123발\"\n",
    "test_id = text_to_index(morp.morphs(test_chat, norm=True,stem=True))\n",
    "\n",
    "sentence_size = 10\n",
    "x_padded_temp = sequence.pad_sequences([test_id],\n",
    "                                 maxlen=sentence_size,\n",
    "                                 truncating='post',\n",
    "                                 padding='post',\n",
    "                                 value=pad_id)\n",
    "print(morp.morphs(test_chat, norm=True,stem=True)[:10])\n",
    "model_up.predict(x_padded_temp)"
   ]
  },
  {
   "cell_type": "markdown",
   "metadata": {},
   "source": [
    "## 모델 체크포인트 저장"
   ]
  },
  {
   "cell_type": "code",
   "execution_count": 26,
   "metadata": {
    "ExecuteTime": {
     "end_time": "2019-08-12T07:00:36.236816Z",
     "start_time": "2019-08-12T07:00:35.743100Z"
    }
   },
   "outputs": [],
   "source": [
    "# model_up.save('../model/cnn_oversample.h5')"
   ]
  },
  {
   "cell_type": "markdown",
   "metadata": {},
   "source": [
    "# TODO\n",
    "- 형태소별 Tokenize 말고 한글 자모별 Tokenize 하여 실험해보기\n",
    "- CNN layer / Parameter 변경시켜보기\n",
    "- 예측 결과 검정하기\n",
    "    - Attention 이용"
   ]
  }
 ],
 "metadata": {
  "kernelspec": {
   "display_name": "Python 3",
   "language": "python",
   "name": "python3"
  },
  "language_info": {
   "codemirror_mode": {
    "name": "ipython",
    "version": 3
   },
   "file_extension": ".py",
   "mimetype": "text/x-python",
   "name": "python",
   "nbconvert_exporter": "python",
   "pygments_lexer": "ipython3",
   "version": "3.7.3"
  }
 },
 "nbformat": 4,
 "nbformat_minor": 2
}
