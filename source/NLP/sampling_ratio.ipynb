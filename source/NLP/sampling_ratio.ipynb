{
 "cells": [
  {
   "cell_type": "code",
   "execution_count": 5,
   "metadata": {
    "ExecuteTime": {
     "end_time": "2019-08-21T03:07:25.156106Z",
     "start_time": "2019-08-21T03:07:11.723785Z"
    }
   },
   "outputs": [
    {
     "name": "stdout",
     "output_type": "stream",
     "text": [
      "Chan 2019-08-21 \n",
      "\n",
      "CPython 3.7.3\n",
      "IPython 7.6.1\n",
      "\n",
      "numpy 1.16.4\n",
      "pandas 0.24.2\n",
      "sklearn 0.21.2\n",
      "konlpy 0.5.1\n",
      "tensorflow 1.14.0\n",
      "matplotlib 3.1.0\n",
      "imblearn 0.5.0\n"
     ]
    },
    {
     "name": "stderr",
     "output_type": "stream",
     "text": [
      "Using TensorFlow backend.\n"
     ]
    }
   ],
   "source": [
    "%load_ext watermark\n",
    "%watermark -a Chan -d -v -p numpy,pandas,sklearn,konlpy,tensorflow,matplotlib,imblearn"
   ]
  },
  {
   "cell_type": "code",
   "execution_count": 6,
   "metadata": {
    "ExecuteTime": {
     "end_time": "2019-08-21T03:07:25.759760Z",
     "start_time": "2019-08-21T03:07:25.161105Z"
    }
   },
   "outputs": [],
   "source": [
    "import numpy as np\n",
    "import pandas as pd\n",
    "from sklearn.model_selection import train_test_split\n",
    "from konlpy.tag import Okt\n",
    "import tensorflow as tf\n",
    "from tensorflow.python.keras.preprocessing import sequence\n",
    "from tensorflow import keras\n",
    "from tqdm import tqdm\n",
    "from collections import Counter\n",
    "from matplotlib import pyplot as plt\n",
    "import pickle\n",
    "from utils import morp_preprocessing"
   ]
  },
  {
   "cell_type": "markdown",
   "metadata": {},
   "source": [
    "# Load datasets"
   ]
  },
  {
   "cell_type": "code",
   "execution_count": 7,
   "metadata": {
    "ExecuteTime": {
     "end_time": "2019-08-21T03:07:26.372410Z",
     "start_time": "2019-08-21T03:07:25.763759Z"
    }
   },
   "outputs": [
    {
     "data": {
      "text/html": [
       "<div>\n",
       "<style scoped>\n",
       "    .dataframe tbody tr th:only-of-type {\n",
       "        vertical-align: middle;\n",
       "    }\n",
       "\n",
       "    .dataframe tbody tr th {\n",
       "        vertical-align: top;\n",
       "    }\n",
       "\n",
       "    .dataframe thead th {\n",
       "        text-align: right;\n",
       "    }\n",
       "</style>\n",
       "<table border=\"1\" class=\"dataframe\">\n",
       "  <thead>\n",
       "    <tr style=\"text-align: right;\">\n",
       "      <th></th>\n",
       "      <th>Unnamed: 0</th>\n",
       "      <th>comment</th>\n",
       "      <th>url_id</th>\n",
       "      <th>label</th>\n",
       "    </tr>\n",
       "  </thead>\n",
       "  <tbody>\n",
       "    <tr>\n",
       "      <th>0</th>\n",
       "      <td>0</td>\n",
       "      <td>ㅜㅜ</td>\n",
       "      <td>77</td>\n",
       "      <td>0</td>\n",
       "    </tr>\n",
       "    <tr>\n",
       "      <th>1</th>\n",
       "      <td>1</td>\n",
       "      <td>ㅋㅋㅋㅋㅋㅋㅋㅋㅋㅋㅋㅋㅋㅋㅋㅋㅋㅋㅋㅋㅋ</td>\n",
       "      <td>17</td>\n",
       "      <td>0</td>\n",
       "    </tr>\n",
       "    <tr>\n",
       "      <th>2</th>\n",
       "      <td>2</td>\n",
       "      <td>헐</td>\n",
       "      <td>52</td>\n",
       "      <td>0</td>\n",
       "    </tr>\n",
       "    <tr>\n",
       "      <th>3</th>\n",
       "      <td>3</td>\n",
       "      <td>제시</td>\n",
       "      <td>75</td>\n",
       "      <td>0</td>\n",
       "    </tr>\n",
       "    <tr>\n",
       "      <th>4</th>\n",
       "      <td>4</td>\n",
       "      <td>이거인 듯</td>\n",
       "      <td>18</td>\n",
       "      <td>0</td>\n",
       "    </tr>\n",
       "  </tbody>\n",
       "</table>\n",
       "</div>"
      ],
      "text/plain": [
       "   Unnamed: 0                comment  url_id  label\n",
       "0           0                     ㅜㅜ      77      0\n",
       "1           1  ㅋㅋㅋㅋㅋㅋㅋㅋㅋㅋㅋㅋㅋㅋㅋㅋㅋㅋㅋㅋㅋ      17      0\n",
       "2           2                      헐      52      0\n",
       "3           3                     제시      75      0\n",
       "4           4                  이거인 듯      18      0"
      ]
     },
     "execution_count": 7,
     "metadata": {},
     "output_type": "execute_result"
    }
   ],
   "source": [
    "datasets = pd.read_csv('../../data/train.csv', engine='python', encoding='utf-16')\n",
    "datasets.head()"
   ]
  },
  {
   "cell_type": "code",
   "execution_count": 8,
   "metadata": {
    "ExecuteTime": {
     "end_time": "2019-08-21T03:07:26.406391Z",
     "start_time": "2019-08-21T03:07:26.376409Z"
    }
   },
   "outputs": [
    {
     "name": "stdout",
     "output_type": "stream",
     "text": [
      "<class 'pandas.core.frame.DataFrame'>\n",
      "RangeIndex: 42000 entries, 0 to 41999\n",
      "Data columns (total 4 columns):\n",
      "Unnamed: 0    42000 non-null int64\n",
      "comment       42000 non-null object\n",
      "url_id        42000 non-null int64\n",
      "label         42000 non-null int64\n",
      "dtypes: int64(3), object(1)\n",
      "memory usage: 1.3+ MB\n"
     ]
    }
   ],
   "source": [
    "datasets.info()"
   ]
  },
  {
   "cell_type": "markdown",
   "metadata": {
    "ExecuteTime": {
     "end_time": "2019-08-06T15:38:19.687895Z",
     "start_time": "2019-08-06T15:38:19.677899Z"
    }
   },
   "source": [
    "# 형태소분석"
   ]
  },
  {
   "cell_type": "code",
   "execution_count": 9,
   "metadata": {
    "ExecuteTime": {
     "end_time": "2019-08-21T03:09:00.596536Z",
     "start_time": "2019-08-21T03:07:26.411387Z"
    }
   },
   "outputs": [
    {
     "name": "stderr",
     "output_type": "stream",
     "text": [
      "C:\\Users\\skarn\\Anaconda3\\envs\\DataAnalysis\\lib\\site-packages\\jpype\\_core.py:210: UserWarning: \n",
      "-------------------------------------------------------------------------------\n",
      "Deprecated: convertStrings was not specified when starting the JVM. The default\n",
      "behavior in JPype will be False starting in JPype 0.8. The recommended setting\n",
      "for new code is convertStrings=False.  The legacy value of True was assumed for\n",
      "this session. If you are a user of an application that reported this warning,\n",
      "please file a ticket with the developer.\n",
      "-------------------------------------------------------------------------------\n",
      "\n",
      "  \"\"\")\n",
      "100%|███████████████████████████████████████████████████████████████████████████| 42000/42000 [01:32<00:00, 454.27it/s]\n"
     ]
    }
   ],
   "source": [
    "chat = morp_preprocessing.chat_to_morp(datasets.comment)"
   ]
  },
  {
   "cell_type": "code",
   "execution_count": 16,
   "metadata": {
    "ExecuteTime": {
     "end_time": "2019-08-21T03:11:44.576793Z",
     "start_time": "2019-08-21T03:11:44.562800Z"
    }
   },
   "outputs": [],
   "source": [
    "def plot_loss(history):\n",
    "    plt.figure(figsize=(6,5))\n",
    "    val = plt.plot(history.epoch, history.history['val_loss'],\n",
    "                 '--', label='Test')\n",
    "    plt.plot(history.epoch, history.history['loss'], color=val[0].get_color(),\n",
    "           label='Train')\n",
    "\n",
    "    plt.xlabel('Epochs')\n",
    "    plt.ylabel(\"Loss\")\n",
    "    plt.legend()\n",
    "\n",
    "    plt.xlim([0,max(history.epoch)])"
   ]
  },
  {
   "cell_type": "code",
   "execution_count": 7,
   "metadata": {
    "ExecuteTime": {
     "end_time": "2019-08-21T01:40:38.092644Z",
     "start_time": "2019-08-21T01:40:38.069658Z"
    }
   },
   "outputs": [],
   "source": [
    "import warnings\n",
    "warnings.filterwarnings(action='once')"
   ]
  },
  {
   "cell_type": "markdown",
   "metadata": {},
   "source": [
    "## 테스트셋 95:5 비율일 때\n",
    "- train data 에 대해서만 undersampling"
   ]
  },
  {
   "cell_type": "code",
   "execution_count": 32,
   "metadata": {
    "ExecuteTime": {
     "end_time": "2019-08-21T01:58:42.296395Z",
     "start_time": "2019-08-21T01:58:42.281407Z"
    }
   },
   "outputs": [],
   "source": [
    "X_train, X_test, y_train, y_test = train_test_split(chat, datasets.label)"
   ]
  },
  {
   "cell_type": "code",
   "execution_count": 12,
   "metadata": {
    "ExecuteTime": {
     "end_time": "2019-08-21T03:10:55.395914Z",
     "start_time": "2019-08-21T03:10:55.388916Z"
    }
   },
   "outputs": [],
   "source": [
    "from imblearn.under_sampling import RandomUnderSampler"
   ]
  },
  {
   "cell_type": "code",
   "execution_count": 34,
   "metadata": {
    "ExecuteTime": {
     "end_time": "2019-08-21T01:58:43.272837Z",
     "start_time": "2019-08-21T01:58:43.231858Z"
    }
   },
   "outputs": [
    {
     "data": {
      "text/plain": [
       "(3160, 1580)"
      ]
     },
     "execution_count": 34,
     "metadata": {},
     "output_type": "execute_result"
    }
   ],
   "source": [
    "down_X, down_y = RandomUnderSampler().fit_resample(X_train, y_train)\n",
    "\n",
    "# 총 데이터 수 , 1 레이블 데이터 수\n",
    "len(down_y), down_y.sum()"
   ]
  },
  {
   "cell_type": "code",
   "execution_count": 40,
   "metadata": {
    "ExecuteTime": {
     "end_time": "2019-08-21T02:00:46.252337Z",
     "start_time": "2019-08-21T02:00:44.854136Z"
    }
   },
   "outputs": [],
   "source": [
    "model_down = keras.Sequential([\n",
    "    keras.layers.Embedding(30000, 10),\n",
    "    keras.layers.Conv1D(64, 3, padding=\"same\", activation=tf.nn.relu),\n",
    "    keras.layers.Dropout(0.5),\n",
    "    keras.layers.Conv1D(32, 3, padding=\"same\", activation=tf.nn.relu),\n",
    "    keras.layers.Dropout(0.5),\n",
    "    keras.layers.Conv1D(32, 3, padding=\"same\", activation=tf.nn.relu),\n",
    "    keras.layers.Dropout(0.5),\n",
    "    keras.layers.Conv1D(32, 3, padding=\"same\", activation=tf.nn.relu),\n",
    "    keras.layers.Dropout(0.5),\n",
    "    keras.layers.Conv1D(32, 3, padding=\"same\", activation=tf.nn.relu),\n",
    "    keras.layers.Dropout(0.5),\n",
    "    keras.layers.Conv1D(32, 3, padding=\"same\", activation=tf.nn.relu),\n",
    "    keras.layers.GlobalMaxPool1D(),\n",
    "    keras.layers.Dropout(0.5),\n",
    "    keras.layers.Dense(2, activation=tf.nn.sigmoid)\n",
    "])"
   ]
  },
  {
   "cell_type": "code",
   "execution_count": 41,
   "metadata": {
    "ExecuteTime": {
     "end_time": "2019-08-21T02:01:16.715921Z",
     "start_time": "2019-08-21T02:00:51.471353Z"
    }
   },
   "outputs": [
    {
     "name": "stdout",
     "output_type": "stream",
     "text": [
      "Train on 3160 samples, validate on 10500 samples\n",
      "Epoch 1/3\n",
      "3160/3160 [==============================] - ETA: 3:01 - loss: 0.6894 - recall_5: 0.50 - ETA: 1:01 - loss: 0.6951 - recall_5: 0.46 - ETA: 37s - loss: 0.6931 - recall_5: 0.4812 - ETA: 26s - loss: 0.6925 - recall_5: 0.477 - ETA: 21s - loss: 0.6927 - recall_5: 0.482 - ETA: 17s - loss: 0.6914 - recall_5: 0.497 - ETA: 14s - loss: 0.6915 - recall_5: 0.500 - ETA: 12s - loss: 0.6923 - recall_5: 0.491 - ETA: 11s - loss: 0.6929 - recall_5: 0.492 - ETA: 10s - loss: 0.6929 - recall_5: 0.488 - ETA: 9s - loss: 0.6931 - recall_5: 0.485 - ETA: 8s - loss: 0.6929 - recall_5: 0.49 - ETA: 8s - loss: 0.6928 - recall_5: 0.49 - ETA: 7s - loss: 0.6938 - recall_5: 0.48 - ETA: 7s - loss: 0.6941 - recall_5: 0.48 - ETA: 6s - loss: 0.6941 - recall_5: 0.48 - ETA: 6s - loss: 0.6943 - recall_5: 0.48 - ETA: 5s - loss: 0.6943 - recall_5: 0.48 - ETA: 5s - loss: 0.6943 - recall_5: 0.48 - ETA: 5s - loss: 0.6943 - recall_5: 0.48 - ETA: 4s - loss: 0.6941 - recall_5: 0.49 - ETA: 4s - loss: 0.6941 - recall_5: 0.48 - ETA: 4s - loss: 0.6941 - recall_5: 0.48 - ETA: 4s - loss: 0.6941 - recall_5: 0.48 - ETA: 3s - loss: 0.6941 - recall_5: 0.47 - ETA: 3s - loss: 0.6939 - recall_5: 0.48 - ETA: 3s - loss: 0.6938 - recall_5: 0.48 - ETA: 3s - loss: 0.6939 - recall_5: 0.47 - ETA: 3s - loss: 0.6938 - recall_5: 0.47 - ETA: 2s - loss: 0.6938 - recall_5: 0.47 - ETA: 2s - loss: 0.6938 - recall_5: 0.47 - ETA: 2s - loss: 0.6938 - recall_5: 0.47 - ETA: 2s - loss: 0.6939 - recall_5: 0.46 - ETA: 2s - loss: 0.6938 - recall_5: 0.47 - ETA: 2s - loss: 0.6937 - recall_5: 0.47 - ETA: 2s - loss: 0.6938 - recall_5: 0.47 - ETA: 1s - loss: 0.6937 - recall_5: 0.47 - ETA: 1s - loss: 0.6937 - recall_5: 0.47 - ETA: 1s - loss: 0.6937 - recall_5: 0.47 - ETA: 1s - loss: 0.6936 - recall_5: 0.47 - ETA: 1s - loss: 0.6935 - recall_5: 0.48 - ETA: 1s - loss: 0.6936 - recall_5: 0.48 - ETA: 1s - loss: 0.6936 - recall_5: 0.48 - ETA: 1s - loss: 0.6936 - recall_5: 0.48 - ETA: 1s - loss: 0.6936 - recall_5: 0.48 - ETA: 0s - loss: 0.6936 - recall_5: 0.48 - ETA: 0s - loss: 0.6936 - recall_5: 0.48 - ETA: 0s - loss: 0.6936 - recall_5: 0.48 - ETA: 0s - loss: 0.6935 - recall_5: 0.49 - ETA: 0s - loss: 0.6935 - recall_5: 0.49 - ETA: 0s - loss: 0.6935 - recall_5: 0.49 - ETA: 0s - loss: 0.6935 - recall_5: 0.49 - ETA: 0s - loss: 0.6935 - recall_5: 0.49 - ETA: 0s - loss: 0.6935 - recall_5: 0.49 - ETA: 0s - loss: 0.6935 - recall_5: 0.49 - ETA: 0s - loss: 0.6933 - recall_5: 0.49 - 8s 3ms/sample - loss: 0.6933 - recall_5: 0.4975 - val_loss: 0.6882 - val_recall_5: 0.9080\n",
      "Epoch 2/3\n",
      "3160/3160 [==============================] - ETA: 2s - loss: 0.6942 - recall_5: 0.43 - ETA: 2s - loss: 0.6934 - recall_5: 0.53 - ETA: 2s - loss: 0.6905 - recall_5: 0.52 - ETA: 2s - loss: 0.6910 - recall_5: 0.51 - ETA: 2s - loss: 0.6917 - recall_5: 0.50 - ETA: 2s - loss: 0.6914 - recall_5: 0.50 - ETA: 2s - loss: 0.6916 - recall_5: 0.49 - ETA: 3s - loss: 0.6926 - recall_5: 0.49 - ETA: 2s - loss: 0.6925 - recall_5: 0.49 - ETA: 2s - loss: 0.6926 - recall_5: 0.49 - ETA: 2s - loss: 0.6929 - recall_5: 0.49 - ETA: 2s - loss: 0.6927 - recall_5: 0.49 - ETA: 2s - loss: 0.6924 - recall_5: 0.50 - ETA: 2s - loss: 0.6924 - recall_5: 0.50 - ETA: 2s - loss: 0.6922 - recall_5: 0.51 - ETA: 2s - loss: 0.6923 - recall_5: 0.51 - ETA: 2s - loss: 0.6922 - recall_5: 0.51 - ETA: 2s - loss: 0.6922 - recall_5: 0.51 - ETA: 2s - loss: 0.6916 - recall_5: 0.52 - ETA: 2s - loss: 0.6920 - recall_5: 0.52 - ETA: 2s - loss: 0.6912 - recall_5: 0.52 - ETA: 2s - loss: 0.6907 - recall_5: 0.52 - ETA: 2s - loss: 0.6903 - recall_5: 0.52 - ETA: 1s - loss: 0.6893 - recall_5: 0.52 - ETA: 1s - loss: 0.6894 - recall_5: 0.52 - ETA: 1s - loss: 0.6897 - recall_5: 0.52 - ETA: 1s - loss: 0.6892 - recall_5: 0.52 - ETA: 1s - loss: 0.6892 - recall_5: 0.52 - ETA: 1s - loss: 0.6881 - recall_5: 0.53 - ETA: 1s - loss: 0.6886 - recall_5: 0.52 - ETA: 1s - loss: 0.6867 - recall_5: 0.53 - ETA: 1s - loss: 0.6864 - recall_5: 0.54 - ETA: 1s - loss: 0.6864 - recall_5: 0.54 - ETA: 1s - loss: 0.6862 - recall_5: 0.54 - ETA: 1s - loss: 0.6866 - recall_5: 0.54 - ETA: 1s - loss: 0.6863 - recall_5: 0.54 - ETA: 1s - loss: 0.6847 - recall_5: 0.55 - ETA: 1s - loss: 0.6841 - recall_5: 0.55 - ETA: 1s - loss: 0.6827 - recall_5: 0.55 - ETA: 0s - loss: 0.6823 - recall_5: 0.55 - ETA: 0s - loss: 0.6813 - recall_5: 0.56 - ETA: 0s - loss: 0.6806 - recall_5: 0.56 - ETA: 0s - loss: 0.6821 - recall_5: 0.56 - ETA: 0s - loss: 0.6819 - recall_5: 0.56 - ETA: 0s - loss: 0.6811 - recall_5: 0.56 - ETA: 0s - loss: 0.6803 - recall_5: 0.56 - ETA: 0s - loss: 0.6796 - recall_5: 0.57 - ETA: 0s - loss: 0.6786 - recall_5: 0.57 - ETA: 0s - loss: 0.6774 - recall_5: 0.57 - ETA: 0s - loss: 0.6763 - recall_5: 0.57 - ETA: 0s - loss: 0.6750 - recall_5: 0.58 - ETA: 0s - loss: 0.6743 - recall_5: 0.58 - ETA: 0s - loss: 0.6723 - recall_5: 0.58 - ETA: 0s - loss: 0.6711 - recall_5: 0.58 - 5s 2ms/sample - loss: 0.6721 - recall_5: 0.5886 - val_loss: 0.7334 - val_recall_5: 0.7078\n",
      "Epoch 3/3\n",
      "3160/3160 [==============================] - ETA: 2s - loss: 0.5571 - recall_5: 0.65 - ETA: 2s - loss: 0.5119 - recall_5: 0.78 - ETA: 3s - loss: 0.5419 - recall_5: 0.76 - ETA: 2s - loss: 0.5691 - recall_5: 0.75 - ETA: 2s - loss: 0.5635 - recall_5: 0.77 - ETA: 2s - loss: 0.5593 - recall_5: 0.76 - ETA: 2s - loss: 0.5594 - recall_5: 0.77 - ETA: 2s - loss: 0.5650 - recall_5: 0.77 - ETA: 2s - loss: 0.5529 - recall_5: 0.78 - ETA: 2s - loss: 0.5513 - recall_5: 0.77 - ETA: 2s - loss: 0.5450 - recall_5: 0.78 - ETA: 2s - loss: 0.5547 - recall_5: 0.77 - ETA: 2s - loss: 0.5545 - recall_5: 0.77 - ETA: 2s - loss: 0.5494 - recall_5: 0.77 - ETA: 2s - loss: 0.5460 - recall_5: 0.77 - ETA: 2s - loss: 0.5483 - recall_5: 0.77 - ETA: 2s - loss: 0.5559 - recall_5: 0.77 - ETA: 2s - loss: 0.5612 - recall_5: 0.77 - ETA: 2s - loss: 0.5649 - recall_5: 0.77 - ETA: 2s - loss: 0.5665 - recall_5: 0.77 - ETA: 1s - loss: 0.5676 - recall_5: 0.76 - ETA: 1s - loss: 0.5687 - recall_5: 0.76 - ETA: 1s - loss: 0.5691 - recall_5: 0.76 - ETA: 1s - loss: 0.5704 - recall_5: 0.76 - ETA: 1s - loss: 0.5719 - recall_5: 0.76 - ETA: 1s - loss: 0.5809 - recall_5: 0.75 - ETA: 1s - loss: 0.5838 - recall_5: 0.75 - ETA: 1s - loss: 0.5825 - recall_5: 0.76 - ETA: 1s - loss: 0.5843 - recall_5: 0.75 - ETA: 1s - loss: 0.5833 - recall_5: 0.75 - ETA: 1s - loss: 0.5821 - recall_5: 0.75 - ETA: 1s - loss: 0.5837 - recall_5: 0.75 - ETA: 1s - loss: 0.5832 - recall_5: 0.75 - ETA: 1s - loss: 0.5801 - recall_5: 0.76 - ETA: 1s - loss: 0.5797 - recall_5: 0.76 - ETA: 1s - loss: 0.5811 - recall_5: 0.76 - ETA: 1s - loss: 0.5777 - recall_5: 0.76 - ETA: 0s - loss: 0.5782 - recall_5: 0.76 - ETA: 0s - loss: 0.5791 - recall_5: 0.76 - ETA: 0s - loss: 0.5807 - recall_5: 0.76 - ETA: 0s - loss: 0.5799 - recall_5: 0.76 - ETA: 0s - loss: 0.5788 - recall_5: 0.76 - ETA: 0s - loss: 0.5785 - recall_5: 0.76 - ETA: 0s - loss: 0.5778 - recall_5: 0.76 - ETA: 0s - loss: 0.5784 - recall_5: 0.76 - ETA: 0s - loss: 0.5794 - recall_5: 0.76 - ETA: 0s - loss: 0.5776 - recall_5: 0.76 - ETA: 0s - loss: 0.5795 - recall_5: 0.76 - ETA: 0s - loss: 0.5772 - recall_5: 0.76 - ETA: 0s - loss: 0.5765 - recall_5: 0.76 - ETA: 0s - loss: 0.5763 - recall_5: 0.76 - ETA: 0s - loss: 0.5747 - recall_5: 0.76 - ETA: 0s - loss: 0.5726 - recall_5: 0.76 - 5s 1ms/sample - loss: 0.5724 - recall_5: 0.7680 - val_loss: 0.5932 - val_recall_5: 0.8684\n",
      "10500/10500 [==============================] - ETA: 0s - loss: 0.5413 - recall_5: 0.90 - ETA: 1s - loss: 0.5814 - recall_5: 0.86 - ETA: 2s - loss: 0.5823 - recall_5: 0.86 - ETA: 2s - loss: 0.5838 - recall_5: 0.86 - ETA: 2s - loss: 0.5793 - recall_5: 0.87 - ETA: 3s - loss: 0.5840 - recall_5: 0.87 - ETA: 3s - loss: 0.5827 - recall_5: 0.87 - ETA: 3s - loss: 0.5840 - recall_5: 0.86 - ETA: 3s - loss: 0.5885 - recall_5: 0.86 - ETA: 3s - loss: 0.5909 - recall_5: 0.86 - ETA: 2s - loss: 0.5909 - recall_5: 0.86 - ETA: 2s - loss: 0.5920 - recall_5: 0.86 - ETA: 2s - loss: 0.5905 - recall_5: 0.86 - ETA: 2s - loss: 0.5910 - recall_5: 0.86 - ETA: 2s - loss: 0.5905 - recall_5: 0.86 - ETA: 2s - loss: 0.5893 - recall_5: 0.86 - ETA: 2s - loss: 0.5894 - recall_5: 0.86 - ETA: 2s - loss: 0.5888 - recall_5: 0.86 - ETA: 2s - loss: 0.5889 - recall_5: 0.87 - ETA: 2s - loss: 0.5885 - recall_5: 0.87 - ETA: 2s - loss: 0.5893 - recall_5: 0.86 - ETA: 2s - loss: 0.5898 - recall_5: 0.86 - ETA: 2s - loss: 0.5892 - recall_5: 0.86 - ETA: 2s - loss: 0.5895 - recall_5: 0.87 - ETA: 1s - loss: 0.5894 - recall_5: 0.87 - ETA: 1s - loss: 0.5919 - recall_5: 0.87 - ETA: 1s - loss: 0.5925 - recall_5: 0.86 - ETA: 1s - loss: 0.5919 - recall_5: 0.86 - ETA: 1s - loss: 0.5919 - recall_5: 0.86 - ETA: 1s - loss: 0.5914 - recall_5: 0.87 - ETA: 1s - loss: 0.5912 - recall_5: 0.87 - ETA: 1s - loss: 0.5912 - recall_5: 0.87 - ETA: 1s - loss: 0.5905 - recall_5: 0.87 - ETA: 1s - loss: 0.5908 - recall_5: 0.87 - ETA: 1s - loss: 0.5909 - recall_5: 0.87 - ETA: 1s - loss: 0.5909 - recall_5: 0.87 - ETA: 1s - loss: 0.5910 - recall_5: 0.87 - ETA: 1s - loss: 0.5912 - recall_5: 0.87 - ETA: 1s - loss: 0.5912 - recall_5: 0.87 - ETA: 0s - loss: 0.5907 - recall_5: 0.87 - ETA: 0s - loss: 0.5912 - recall_5: 0.87 - ETA: 0s - loss: 0.5912 - recall_5: 0.87 - ETA: 0s - loss: 0.5915 - recall_5: 0.87 - ETA: 0s - loss: 0.5914 - recall_5: 0.87 - ETA: 0s - loss: 0.5918 - recall_5: 0.87 - ETA: 0s - loss: 0.5927 - recall_5: 0.86 - ETA: 0s - loss: 0.5926 - recall_5: 0.86 - ETA: 0s - loss: 0.5925 - recall_5: 0.86 - ETA: 0s - loss: 0.5920 - recall_5: 0.86 - ETA: 0s - loss: 0.5922 - recall_5: 0.86 - ETA: 0s - loss: 0.5925 - recall_5: 0.86 - ETA: 0s - loss: 0.5928 - recall_5: 0.86 - ETA: 0s - loss: 0.5927 - recall_5: 0.86 - ETA: 0s - loss: 0.5926 - recall_5: 0.86 - ETA: 0s - loss: 0.5926 - recall_5: 0.86 - ETA: 0s - loss: 0.5928 - recall_5: 0.86 - ETA: 0s - loss: 0.5931 - recall_5: 0.86 - 3s 294us/sample - loss: 0.5932 - recall_5: 0.8684\n",
      "Test Recall: 0.86838096\n"
     ]
    },
    {
     "data": {
      "image/png": "[encoded data removed]",
      "text/plain": [
       "<Figure size 432x360 with 1 Axes>"
      ]
     },
     "metadata": {
      "needs_background": "light"
     },
     "output_type": "display_data"
    }
   ],
   "source": [
    "model_down.compile(optimizer='adam', \n",
    "              loss='binary_crossentropy',\n",
    "              metrics=[tf.keras.metrics.Recall()])\n",
    "\n",
    "history = model_down.fit(down_X,\n",
    "          pd.get_dummies(down_y),\n",
    "          epochs=3,\n",
    "          validation_data=(X_test, pd.get_dummies(y_test))\n",
    "         )\n",
    "plot_loss(history)\n",
    "test_loss, test_acc = model_down.evaluate(X_test, pd.get_dummies(y_test))\n",
    "print('Test Recall:', test_acc)"
   ]
  },
  {
   "cell_type": "code",
   "execution_count": 19,
   "metadata": {
    "ExecuteTime": {
     "end_time": "2019-08-21T03:12:21.130894Z",
     "start_time": "2019-08-21T03:12:21.124898Z"
    }
   },
   "outputs": [],
   "source": [
    "from sklearn.metrics import recall_score, accuracy_score, f1_score, confusion_matrix, roc_auc_score, precision_score, classification_report"
   ]
  },
  {
   "cell_type": "code",
   "execution_count": 43,
   "metadata": {
    "ExecuteTime": {
     "end_time": "2019-08-21T02:01:22.235779Z",
     "start_time": "2019-08-21T02:01:16.782912Z"
    }
   },
   "outputs": [
    {
     "data": {
      "text/plain": [
       "(0.6007751937984496,\n",
       " 0.8614285714285714,\n",
       " 0.2987951807228916,\n",
       " array([[8735, 1249],\n",
       "        [ 206,  310]], dtype=int64))"
      ]
     },
     "execution_count": 43,
     "metadata": {},
     "output_type": "execute_result"
    }
   ],
   "source": [
    "#recall\n",
    "recall_score(y_test, model_down.predict_classes(X_test)), \\\n",
    "accuracy_score(y_test, model_down.predict_classes(X_test)),\\\n",
    "f1_score(y_test, model_down.predict_classes(X_test)),\\\n",
    "confusion_matrix(y_test, model_down.predict_classes(X_test))"
   ]
  },
  {
   "cell_type": "code",
   "execution_count": 44,
   "metadata": {
    "ExecuteTime": {
     "end_time": "2019-08-21T02:01:23.490044Z",
     "start_time": "2019-08-21T02:01:22.240763Z"
    }
   },
   "outputs": [
    {
     "name": "stdout",
     "output_type": "stream",
     "text": [
      "전체채팅수10500, 유해채팅수1559\n"
     ]
    }
   ],
   "source": [
    "print('전체채팅수{}, 유해채팅수{}'.format(len(X_test),model_down.predict_classes(X_test).sum()))"
   ]
  },
  {
   "cell_type": "markdown",
   "metadata": {},
   "source": [
    "## 테스트 데이터 5:5 비율일 때\n",
    "- train, test data 모두 undersampling"
   ]
  },
  {
   "cell_type": "code",
   "execution_count": 13,
   "metadata": {
    "ExecuteTime": {
     "end_time": "2019-08-21T03:10:58.599083Z",
     "start_time": "2019-08-21T03:10:58.558108Z"
    }
   },
   "outputs": [
    {
     "name": "stdout",
     "output_type": "stream",
     "text": [
      "4192 2096\n"
     ]
    }
   ],
   "source": [
    "down_X, down_y = RandomUnderSampler().fit_resample(chat, datasets.label)\n",
    "\n",
    "# 총 데이터 수 , 1 레이블 데이터 수\n",
    "print(len(down_y), down_y.sum())\n",
    "\n",
    "down_X_train, down_X_test, down_y_train, down_y_test = train_test_split(down_X, down_y)"
   ]
  },
  {
   "cell_type": "code",
   "execution_count": 29,
   "metadata": {
    "ExecuteTime": {
     "end_time": "2019-08-21T03:14:07.963808Z",
     "start_time": "2019-08-21T03:14:07.234247Z"
    }
   },
   "outputs": [],
   "source": [
    "model_down = keras.Sequential([\n",
    "    keras.layers.Embedding(30000, 10),\n",
    "    keras.layers.Conv1D(64, 3, padding=\"same\", activation=tf.nn.relu),\n",
    "    keras.layers.Dropout(0.5),\n",
    "    keras.layers.Conv1D(32, 3, padding=\"same\", activation=tf.nn.relu),\n",
    "    keras.layers.Dropout(0.5),\n",
    "    keras.layers.Conv1D(32, 3, padding=\"same\", activation=tf.nn.relu),\n",
    "    keras.layers.Dropout(0.5),\n",
    "    keras.layers.Conv1D(32, 3, padding=\"same\", activation=tf.nn.relu),\n",
    "    keras.layers.Dropout(0.5),\n",
    "    keras.layers.Conv1D(32, 3, padding=\"same\", activation=tf.nn.relu),\n",
    "    keras.layers.Dropout(0.5),\n",
    "    keras.layers.Conv1D(32, 3, padding=\"same\", activation=tf.nn.relu),\n",
    "    keras.layers.GlobalMaxPool1D(),\n",
    "    keras.layers.Dropout(0.5),\n",
    "    keras.layers.Dense(2, activation=tf.nn.sigmoid)\n",
    "])"
   ]
  },
  {
   "cell_type": "code",
   "execution_count": 45,
   "metadata": {
    "ExecuteTime": {
     "end_time": "2019-08-21T03:18:48.408595Z",
     "start_time": "2019-08-21T03:18:23.716710Z"
    }
   },
   "outputs": [
    {
     "name": "stdout",
     "output_type": "stream",
     "text": [
      "Train on 3144 samples, validate on 1048 samples\n",
      "Epoch 1/7\n",
      "3144/3144 [==============================] - ETA: 4:03 - loss: 0.0074 - recall_6: 1.00 - ETA: 1:00 - loss: 0.0704 - recall_6: 0.96 - ETA: 34s - loss: 0.0553 - recall_6: 0.9688 - ETA: 26s - loss: 0.0504 - recall_6: 0.972 - ETA: 19s - loss: 0.0492 - recall_6: 0.974 - ETA: 15s - loss: 0.0643 - recall_6: 0.975 - ETA: 12s - loss: 0.0567 - recall_6: 0.977 - ETA: 11s - loss: 0.0545 - recall_6: 0.978 - ETA: 10s - loss: 0.0558 - recall_6: 0.975 - ETA: 9s - loss: 0.0581 - recall_6: 0.974 - ETA: 8s - loss: 0.0734 - recall_6: 0.97 - ETA: 7s - loss: 0.0705 - recall_6: 0.97 - ETA: 6s - loss: 0.0705 - recall_6: 0.97 - ETA: 5s - loss: 0.0661 - recall_6: 0.97 - ETA: 5s - loss: 0.0642 - recall_6: 0.97 - ETA: 4s - loss: 0.0627 - recall_6: 0.97 - ETA: 4s - loss: 0.0608 - recall_6: 0.97 - ETA: 3s - loss: 0.0594 - recall_6: 0.97 - ETA: 3s - loss: 0.0589 - recall_6: 0.97 - ETA: 3s - loss: 0.0651 - recall_6: 0.97 - ETA: 2s - loss: 0.0697 - recall_6: 0.97 - ETA: 2s - loss: 0.0671 - recall_6: 0.97 - ETA: 2s - loss: 0.0662 - recall_6: 0.97 - ETA: 2s - loss: 0.0666 - recall_6: 0.97 - ETA: 1s - loss: 0.0659 - recall_6: 0.97 - ETA: 1s - loss: 0.0651 - recall_6: 0.97 - ETA: 1s - loss: 0.0716 - recall_6: 0.97 - ETA: 1s - loss: 0.0704 - recall_6: 0.97 - ETA: 1s - loss: 0.0684 - recall_6: 0.97 - ETA: 0s - loss: 0.0729 - recall_6: 0.97 - ETA: 0s - loss: 0.0746 - recall_6: 0.97 - ETA: 0s - loss: 0.0759 - recall_6: 0.97 - ETA: 0s - loss: 0.0744 - recall_6: 0.97 - ETA: 0s - loss: 0.0778 - recall_6: 0.97 - ETA: 0s - loss: 0.0824 - recall_6: 0.97 - ETA: 0s - loss: 0.0813 - recall_6: 0.97 - 6s 2ms/sample - loss: 0.0808 - recall_6: 0.9720 - val_loss: 1.6014 - val_recall_6: 0.7548\n",
      "Epoch 2/7\n",
      "3144/3144 [==============================] - ETA: 1s - loss: 0.0473 - recall_6: 1.00 - ETA: 1s - loss: 0.0704 - recall_6: 0.95 - ETA: 1s - loss: 0.0566 - recall_6: 0.96 - ETA: 1s - loss: 0.0591 - recall_6: 0.96 - ETA: 1s - loss: 0.0536 - recall_6: 0.96 - ETA: 1s - loss: 0.0524 - recall_6: 0.96 - ETA: 1s - loss: 0.0503 - recall_6: 0.96 - ETA: 1s - loss: 0.0551 - recall_6: 0.96 - ETA: 1s - loss: 0.0560 - recall_6: 0.96 - ETA: 1s - loss: 0.0546 - recall_6: 0.96 - ETA: 1s - loss: 0.0508 - recall_6: 0.97 - ETA: 1s - loss: 0.0482 - recall_6: 0.97 - ETA: 1s - loss: 0.0523 - recall_6: 0.97 - ETA: 1s - loss: 0.0581 - recall_6: 0.96 - ETA: 1s - loss: 0.0561 - recall_6: 0.97 - ETA: 1s - loss: 0.0548 - recall_6: 0.97 - ETA: 1s - loss: 0.0535 - recall_6: 0.97 - ETA: 1s - loss: 0.0547 - recall_6: 0.97 - ETA: 0s - loss: 0.0537 - recall_6: 0.97 - ETA: 0s - loss: 0.0528 - recall_6: 0.97 - ETA: 0s - loss: 0.0530 - recall_6: 0.97 - ETA: 0s - loss: 0.0515 - recall_6: 0.97 - ETA: 0s - loss: 0.0508 - recall_6: 0.97 - ETA: 0s - loss: 0.0509 - recall_6: 0.97 - ETA: 0s - loss: 0.0511 - recall_6: 0.97 - ETA: 0s - loss: 0.0500 - recall_6: 0.97 - ETA: 0s - loss: 0.0488 - recall_6: 0.97 - ETA: 0s - loss: 0.0481 - recall_6: 0.97 - ETA: 0s - loss: 0.0476 - recall_6: 0.97 - ETA: 0s - loss: 0.0469 - recall_6: 0.97 - ETA: 0s - loss: 0.0468 - recall_6: 0.97 - ETA: 0s - loss: 0.0464 - recall_6: 0.97 - ETA: 0s - loss: 0.0509 - recall_6: 0.97 - ETA: 0s - loss: 0.0502 - recall_6: 0.97 - ETA: 0s - loss: 0.0502 - recall_6: 0.97 - ETA: 0s - loss: 0.0493 - recall_6: 0.97 - 2s 727us/sample - loss: 0.0496 - recall_6: 0.9777 - val_loss: 2.7539 - val_recall_6: 0.7405\n",
      "Epoch 3/7\n",
      "3144/3144 [==============================] - ETA: 2s - loss: 0.0260 - recall_6: 1.00 - ETA: 2s - loss: 0.0406 - recall_6: 0.98 - ETA: 2s - loss: 0.0371 - recall_6: 0.98 - ETA: 2s - loss: 0.0339 - recall_6: 0.98 - ETA: 2s - loss: 0.0419 - recall_6: 0.98 - ETA: 2s - loss: 0.0354 - recall_6: 0.98 - ETA: 1s - loss: 0.0350 - recall_6: 0.98 - ETA: 1s - loss: 0.0325 - recall_6: 0.98 - ETA: 1s - loss: 0.0478 - recall_6: 0.98 - ETA: 1s - loss: 0.0447 - recall_6: 0.98 - ETA: 1s - loss: 0.0543 - recall_6: 0.98 - ETA: 1s - loss: 0.0529 - recall_6: 0.98 - ETA: 1s - loss: 0.0536 - recall_6: 0.98 - ETA: 1s - loss: 0.0572 - recall_6: 0.97 - ETA: 1s - loss: 0.0557 - recall_6: 0.97 - ETA: 1s - loss: 0.0538 - recall_6: 0.97 - ETA: 1s - loss: 0.0533 - recall_6: 0.97 - ETA: 1s - loss: 0.0525 - recall_6: 0.97 - ETA: 1s - loss: 0.0531 - recall_6: 0.97 - ETA: 1s - loss: 0.0531 - recall_6: 0.97 - ETA: 1s - loss: 0.0547 - recall_6: 0.97 - ETA: 1s - loss: 0.0544 - recall_6: 0.97 - ETA: 1s - loss: 0.0575 - recall_6: 0.97 - ETA: 1s - loss: 0.0569 - recall_6: 0.97 - ETA: 0s - loss: 0.0572 - recall_6: 0.97 - ETA: 0s - loss: 0.0564 - recall_6: 0.97 - ETA: 0s - loss: 0.0563 - recall_6: 0.97 - ETA: 0s - loss: 0.0557 - recall_6: 0.97 - ETA: 0s - loss: 0.0543 - recall_6: 0.97 - ETA: 0s - loss: 0.0538 - recall_6: 0.97 - ETA: 0s - loss: 0.0529 - recall_6: 0.97 - ETA: 0s - loss: 0.0547 - recall_6: 0.97 - ETA: 0s - loss: 0.0573 - recall_6: 0.97 - ETA: 0s - loss: 0.0574 - recall_6: 0.97 - ETA: 0s - loss: 0.0576 - recall_6: 0.97 - ETA: 0s - loss: 0.0585 - recall_6: 0.97 - ETA: 0s - loss: 0.0606 - recall_6: 0.97 - ETA: 0s - loss: 0.0592 - recall_6: 0.97 - ETA: 0s - loss: 0.0602 - recall_6: 0.97 - 2s 778us/sample - loss: 0.0598 - recall_6: 0.9739 - val_loss: 1.8303 - val_recall_6: 0.7595\n",
      "Epoch 4/7\n",
      "3144/3144 [==============================] - ETA: 1s - loss: 0.0420 - recall_6: 0.96 - ETA: 1s - loss: 0.0501 - recall_6: 0.97 - ETA: 1s - loss: 0.0506 - recall_6: 0.97 - ETA: 1s - loss: 0.0583 - recall_6: 0.97 - ETA: 1s - loss: 0.0551 - recall_6: 0.97 - ETA: 1s - loss: 0.0561 - recall_6: 0.97 - ETA: 1s - loss: 0.0539 - recall_6: 0.97 - ETA: 1s - loss: 0.0481 - recall_6: 0.98 - ETA: 1s - loss: 0.0476 - recall_6: 0.98 - ETA: 1s - loss: 0.0508 - recall_6: 0.97 - ETA: 1s - loss: 0.0526 - recall_6: 0.97 - ETA: 1s - loss: 0.0529 - recall_6: 0.97 - ETA: 1s - loss: 0.0568 - recall_6: 0.96 - ETA: 1s - loss: 0.0562 - recall_6: 0.96 - ETA: 1s - loss: 0.0561 - recall_6: 0.96 - ETA: 1s - loss: 0.0580 - recall_6: 0.96 - ETA: 1s - loss: 0.0563 - recall_6: 0.96 - ETA: 1s - loss: 0.0581 - recall_6: 0.96 - ETA: 1s - loss: 0.0595 - recall_6: 0.96 - ETA: 1s - loss: 0.0563 - recall_6: 0.97 - ETA: 1s - loss: 0.0543 - recall_6: 0.97 - ETA: 1s - loss: 0.0536 - recall_6: 0.97 - ETA: 1s - loss: 0.0527 - recall_6: 0.97 - ETA: 1s - loss: 0.0534 - recall_6: 0.97 - ETA: 1s - loss: 0.0603 - recall_6: 0.97 - ETA: 0s - loss: 0.0590 - recall_6: 0.97 - ETA: 0s - loss: 0.0584 - recall_6: 0.97 - ETA: 0s - loss: 0.0574 - recall_6: 0.97 - ETA: 0s - loss: 0.0568 - recall_6: 0.97 - ETA: 0s - loss: 0.0585 - recall_6: 0.97 - ETA: 0s - loss: 0.0577 - recall_6: 0.97 - ETA: 0s - loss: 0.0586 - recall_6: 0.97 - ETA: 0s - loss: 0.0576 - recall_6: 0.97 - ETA: 0s - loss: 0.0582 - recall_6: 0.97 - ETA: 0s - loss: 0.0571 - recall_6: 0.97 - ETA: 0s - loss: 0.0562 - recall_6: 0.97 - ETA: 0s - loss: 0.0554 - recall_6: 0.97 - ETA: 0s - loss: 0.0582 - recall_6: 0.97 - ETA: 0s - loss: 0.0578 - recall_6: 0.97 - ETA: 0s - loss: 0.0576 - recall_6: 0.97 - ETA: 0s - loss: 0.0562 - recall_6: 0.97 - ETA: 0s - loss: 0.0555 - recall_6: 0.97 - 3s 892us/sample - loss: 0.0555 - recall_6: 0.9761 - val_loss: 2.2018 - val_recall_6: 0.7481\n",
      "Epoch 5/7\n",
      "3144/3144 [==============================] - ETA: 2s - loss: 0.0871 - recall_6: 0.96 - ETA: 2s - loss: 0.0569 - recall_6: 0.96 - ETA: 2s - loss: 0.0569 - recall_6: 0.96 - ETA: 2s - loss: 0.0554 - recall_6: 0.96 - ETA: 1s - loss: 0.0777 - recall_6: 0.96 - ETA: 2s - loss: 0.0744 - recall_6: 0.96 - ETA: 1s - loss: 0.1261 - recall_6: 0.96 - ETA: 1s - loss: 0.1118 - recall_6: 0.97 - ETA: 1s - loss: 0.1058 - recall_6: 0.96 - ETA: 1s - loss: 0.1014 - recall_6: 0.96 - ETA: 1s - loss: 0.0954 - recall_6: 0.97 - ETA: 1s - loss: 0.0959 - recall_6: 0.97 - ETA: 1s - loss: 0.0935 - recall_6: 0.97 - ETA: 1s - loss: 0.1083 - recall_6: 0.97 - ETA: 1s - loss: 0.1013 - recall_6: 0.97 - ETA: 1s - loss: 0.0956 - recall_6: 0.97 - ETA: 1s - loss: 0.0910 - recall_6: 0.97 - ETA: 1s - loss: 0.0871 - recall_6: 0.97 - ETA: 1s - loss: 0.0844 - recall_6: 0.97 - ETA: 1s - loss: 0.0824 - recall_6: 0.97 - ETA: 1s - loss: 0.0816 - recall_6: 0.97 - ETA: 0s - loss: 0.0800 - recall_6: 0.97 - ETA: 0s - loss: 0.0769 - recall_6: 0.97 - ETA: 0s - loss: 0.0767 - recall_6: 0.97 - ETA: 0s - loss: 0.0760 - recall_6: 0.97 - ETA: 0s - loss: 0.0753 - recall_6: 0.97 - ETA: 0s - loss: 0.0734 - recall_6: 0.97 - ETA: 0s - loss: 0.0710 - recall_6: 0.97 - ETA: 0s - loss: 0.0699 - recall_6: 0.97 - ETA: 0s - loss: 0.0688 - recall_6: 0.97 - ETA: 0s - loss: 0.0682 - recall_6: 0.97 - ETA: 0s - loss: 0.0683 - recall_6: 0.97 - ETA: 0s - loss: 0.0679 - recall_6: 0.97 - ETA: 0s - loss: 0.0698 - recall_6: 0.97 - ETA: 0s - loss: 0.0695 - recall_6: 0.97 - ETA: 0s - loss: 0.0683 - recall_6: 0.97 - ETA: 0s - loss: 0.0688 - recall_6: 0.97 - 3s 810us/sample - loss: 0.0686 - recall_6: 0.9755 - val_loss: 1.8341 - val_recall_6: 0.7567\n",
      "Epoch 6/7\n",
      "3144/3144 [==============================] - ETA: 2s - loss: 0.0052 - recall_6: 1.00 - ETA: 2s - loss: 0.0349 - recall_6: 0.97 - ETA: 2s - loss: 0.0286 - recall_6: 0.98 - ETA: 2s - loss: 0.0355 - recall_6: 0.97 - ETA: 2s - loss: 0.0341 - recall_6: 0.98 - ETA: 2s - loss: 0.0293 - recall_6: 0.98 - ETA: 2s - loss: 0.0280 - recall_6: 0.98 - ETA: 2s - loss: 0.0276 - recall_6: 0.98 - ETA: 2s - loss: 0.0299 - recall_6: 0.98 - ETA: 2s - loss: 0.0329 - recall_6: 0.98 - ETA: 2s - loss: 0.0338 - recall_6: 0.98 - ETA: 1s - loss: 0.0340 - recall_6: 0.98 - ETA: 1s - loss: 0.0342 - recall_6: 0.98 - ETA: 1s - loss: 0.0365 - recall_6: 0.98 - ETA: 1s - loss: 0.0349 - recall_6: 0.98 - ETA: 1s - loss: 0.0344 - recall_6: 0.98 - ETA: 1s - loss: 0.0344 - recall_6: 0.98 - ETA: 1s - loss: 0.0348 - recall_6: 0.98 - ETA: 1s - loss: 0.0373 - recall_6: 0.98 - ETA: 1s - loss: 0.0381 - recall_6: 0.98 - ETA: 1s - loss: 0.0377 - recall_6: 0.98 - ETA: 1s - loss: 0.0370 - recall_6: 0.98 - ETA: 1s - loss: 0.0383 - recall_6: 0.98 - ETA: 0s - loss: 0.0371 - recall_6: 0.98 - ETA: 0s - loss: 0.0371 - recall_6: 0.98 - ETA: 0s - loss: 0.0364 - recall_6: 0.98 - ETA: 0s - loss: 0.0360 - recall_6: 0.98 - ETA: 0s - loss: 0.0378 - recall_6: 0.98 - ETA: 0s - loss: 0.0373 - recall_6: 0.98 - ETA: 0s - loss: 0.0374 - recall_6: 0.98 - ETA: 0s - loss: 0.0366 - recall_6: 0.98 - ETA: 0s - loss: 0.0364 - recall_6: 0.98 - ETA: 0s - loss: 0.0368 - recall_6: 0.98 - ETA: 0s - loss: 0.0371 - recall_6: 0.98 - ETA: 0s - loss: 0.0368 - recall_6: 0.98 - ETA: 0s - loss: 0.0363 - recall_6: 0.98 - ETA: 0s - loss: 0.0360 - recall_6: 0.98 - ETA: 0s - loss: 0.0429 - recall_6: 0.98 - ETA: 0s - loss: 0.0433 - recall_6: 0.98 - 2s 783us/sample - loss: 0.0431 - recall_6: 0.9831 - val_loss: 2.0713 - val_recall_6: 0.7500\n",
      "Epoch 7/7\n",
      "3144/3144 [==============================] - ETA: 1s - loss: 0.0364 - recall_6: 0.96 - ETA: 2s - loss: 0.0452 - recall_6: 0.95 - ETA: 2s - loss: 0.0332 - recall_6: 0.97 - ETA: 2s - loss: 0.0314 - recall_6: 0.98 - ETA: 2s - loss: 0.0325 - recall_6: 0.98 - ETA: 1s - loss: 0.0360 - recall_6: 0.97 - ETA: 1s - loss: 0.0376 - recall_6: 0.97 - ETA: 1s - loss: 0.0375 - recall_6: 0.97 - ETA: 1s - loss: 0.0344 - recall_6: 0.98 - ETA: 1s - loss: 0.0336 - recall_6: 0.98 - ETA: 1s - loss: 0.0355 - recall_6: 0.98 - ETA: 1s - loss: 0.0444 - recall_6: 0.97 - ETA: 1s - loss: 0.0450 - recall_6: 0.97 - ETA: 1s - loss: 0.0466 - recall_6: 0.97 - ETA: 1s - loss: 0.0497 - recall_6: 0.97 - ETA: 1s - loss: 0.0480 - recall_6: 0.97 - ETA: 1s - loss: 0.0515 - recall_6: 0.97 - ETA: 1s - loss: 0.0516 - recall_6: 0.97 - ETA: 1s - loss: 0.0498 - recall_6: 0.97 - ETA: 1s - loss: 0.0506 - recall_6: 0.97 - ETA: 1s - loss: 0.0505 - recall_6: 0.97 - ETA: 0s - loss: 0.0494 - recall_6: 0.97 - ETA: 0s - loss: 0.0502 - recall_6: 0.97 - ETA: 0s - loss: 0.0535 - recall_6: 0.97 - ETA: 0s - loss: 0.0529 - recall_6: 0.97 - ETA: 0s - loss: 0.0544 - recall_6: 0.97 - ETA: 0s - loss: 0.0572 - recall_6: 0.97 - ETA: 0s - loss: 0.0572 - recall_6: 0.97 - ETA: 0s - loss: 0.0576 - recall_6: 0.97 - ETA: 0s - loss: 0.0579 - recall_6: 0.97 - ETA: 0s - loss: 0.0586 - recall_6: 0.97 - ETA: 0s - loss: 0.0596 - recall_6: 0.97 - ETA: 0s - loss: 0.0600 - recall_6: 0.97 - ETA: 0s - loss: 0.0594 - recall_6: 0.97 - ETA: 0s - loss: 0.0591 - recall_6: 0.97 - ETA: 0s - loss: 0.0582 - recall_6: 0.97 - 2s 737us/sample - loss: 0.0580 - recall_6: 0.9758 - val_loss: 1.9029 - val_recall_6: 0.7538\n",
      "1048/1048 [==============================] - ETA: 0s - loss: 2.5071 - recall_6: 0.71 - ETA: 0s - loss: 1.9602 - recall_6: 0.75 - ETA: 0s - loss: 1.8507 - recall_6: 0.76 - 0s 129us/sample - loss: 1.9029 - recall_6: 0.7538\n",
      "Test Recall: 0.7538168\n"
     ]
    },
    {
     "data": {
      "image/png": "[encoded data removed]",
      "text/plain": [
       "<Figure size 432x360 with 1 Axes>"
      ]
     },
     "metadata": {
      "needs_background": "light"
     },
     "output_type": "display_data"
    }
   ],
   "source": [
    "model_down.compile(optimizer='adam', \n",
    "              loss='binary_crossentropy',\n",
    "              metrics=[tf.keras.metrics.Recall()])\n",
    "\n",
    "history = model_down.fit(down_X_train,\n",
    "          pd.get_dummies(down_y_train),\n",
    "          epochs=7,\n",
    "          validation_data=(down_X_test, pd.get_dummies(down_y_test))\n",
    "         )\n",
    "plot_loss(history)\n",
    "test_loss, test_acc = model_down.evaluate(down_X_test, pd.get_dummies(down_y_test))\n",
    "print('Test Recall:', test_acc)"
   ]
  },
  {
   "cell_type": "code",
   "execution_count": 46,
   "metadata": {
    "ExecuteTime": {
     "end_time": "2019-08-21T03:18:50.440429Z",
     "start_time": "2019-08-21T03:18:48.419586Z"
    }
   },
   "outputs": [
    {
     "name": "stdout",
     "output_type": "stream",
     "text": [
      "              precision    recall  f1-score   support\n",
      "\n",
      "           0       0.74      0.79      0.77       539\n",
      "           1       0.77      0.71      0.74       509\n",
      "\n",
      "    accuracy                           0.75      1048\n",
      "   macro avg       0.75      0.75      0.75      1048\n",
      "weighted avg       0.75      0.75      0.75      1048\n",
      "\n"
     ]
    },
    {
     "data": {
      "text/plain": [
       "(0.7111984282907662,\n",
       " 0.7538167938931297,\n",
       " 0.7372708757637474,\n",
       " 0.7653276955602537,\n",
       " array([[428, 111],\n",
       "        [147, 362]], dtype=int64),\n",
       " None)"
      ]
     },
     "execution_count": 46,
     "metadata": {},
     "output_type": "execute_result"
    }
   ],
   "source": [
    "recall_score(down_y_test, model_down.predict_classes(down_X_test)),\\\n",
    "accuracy_score(down_y_test, model_down.predict_classes(down_X_test)),\\\n",
    "f1_score(down_y_test, model_down.predict_classes(down_X_test)),\\\n",
    "precision_score(down_y_test, model_down.predict_classes(down_X_test)),\\\n",
    "confusion_matrix(down_y_test, model_down.predict_classes(down_X_test)), \\\n",
    "print(classification_report(down_y_test, model_down.predict_classes(down_X_test)))"
   ]
  },
  {
   "cell_type": "code",
   "execution_count": 47,
   "metadata": {
    "ExecuteTime": {
     "end_time": "2019-08-21T03:18:50.618330Z",
     "start_time": "2019-08-21T03:18:50.445429Z"
    }
   },
   "outputs": [
    {
     "name": "stdout",
     "output_type": "stream",
     "text": [
      "전체채팅수1048, 유해채팅수473\n"
     ]
    }
   ],
   "source": [
    "print('전체채팅수{}, 유해채팅수{}'.format(len(down_X_test),model_down.predict_classes(down_X_test).sum()))"
   ]
  },
  {
   "cell_type": "code",
   "execution_count": 48,
   "metadata": {
    "ExecuteTime": {
     "end_time": "2019-08-21T03:18:55.555506Z",
     "start_time": "2019-08-21T03:18:50.624326Z"
    }
   },
   "outputs": [
    {
     "name": "stdout",
     "output_type": "stream",
     "text": [
      "전체채팅수42000, 유해채팅수10012\n"
     ]
    }
   ],
   "source": [
    "print('전체채팅수{}, 유해채팅수{}'.format(len(chat),model_down.predict_classes(chat).sum()))"
   ]
  },
  {
   "cell_type": "code",
   "execution_count": 50,
   "metadata": {
    "ExecuteTime": {
     "end_time": "2019-08-21T03:19:30.321676Z",
     "start_time": "2019-08-21T03:19:28.171856Z"
    }
   },
   "outputs": [],
   "source": [
    "# model_down.save('../model/cnn_undersample_ratio50.h5')"
   ]
  },
  {
   "cell_type": "code",
   "execution_count": null,
   "metadata": {},
   "outputs": [],
   "source": []
  }
 ],
 "metadata": {
  "kernelspec": {
   "display_name": "Python 3",
   "language": "python",
   "name": "python3"
  },
  "language_info": {
   "codemirror_mode": {
    "name": "ipython",
    "version": 3
   },
   "file_extension": ".py",
   "mimetype": "text/x-python",
   "name": "python",
   "nbconvert_exporter": "python",
   "pygments_lexer": "ipython3",
   "version": "3.7.3"
  }
 },
 "nbformat": 4,
 "nbformat_minor": 2
}
