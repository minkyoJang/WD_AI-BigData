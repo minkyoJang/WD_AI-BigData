{
 "cells": [
  {
   "cell_type": "code",
   "execution_count": 1,
   "metadata": {
    "ExecuteTime": {
     "end_time": "2019-08-20T11:08:11.428149Z",
     "start_time": "2019-08-20T11:08:00.353495Z"
    }
   },
   "outputs": [
    {
     "name": "stdout",
     "output_type": "stream",
     "text": [
      "Chan 2019-08-20 \n",
      "\n",
      "CPython 3.7.3\n",
      "IPython 7.6.1\n",
      "\n",
      "numpy 1.16.4\n",
      "pandas 0.24.2\n",
      "sklearn 0.21.2\n",
      "konlpy 0.5.1\n",
      "tensorflow 1.14.0\n",
      "matplotlib 3.1.0\n",
      "imblearn 0.5.0\n"
     ]
    },
    {
     "name": "stderr",
     "output_type": "stream",
     "text": [
      "Using TensorFlow backend.\n"
     ]
    }
   ],
   "source": [
    "%load_ext watermark\n",
    "%watermark -a Chan -d -v -p numpy,pandas,sklearn,konlpy,tensorflow,matplotlib,imblearn"
   ]
  },
  {
   "cell_type": "code",
   "execution_count": 2,
   "metadata": {
    "ExecuteTime": {
     "end_time": "2019-08-20T11:08:12.112756Z",
     "start_time": "2019-08-20T11:08:11.434148Z"
    }
   },
   "outputs": [],
   "source": [
    "import numpy as np\n",
    "import pandas as pd\n",
    "from sklearn.model_selection import train_test_split\n",
    "from konlpy.tag import Okt\n",
    "import tensorflow as tf\n",
    "from tensorflow.python.keras.preprocessing import sequence\n",
    "from tensorflow import keras\n",
    "from tqdm import tqdm\n",
    "from collections import Counter\n",
    "from matplotlib import pyplot as plt\n",
    "import pickle\n",
    "from utils import morp_preprocessing"
   ]
  },
  {
   "cell_type": "markdown",
   "metadata": {},
   "source": [
    "# Load datasets"
   ]
  },
  {
   "cell_type": "code",
   "execution_count": 3,
   "metadata": {
    "ExecuteTime": {
     "end_time": "2019-08-20T11:08:12.569496Z",
     "start_time": "2019-08-20T11:08:12.116756Z"
    }
   },
   "outputs": [
    {
     "data": {
      "text/html": [
       "<div>\n",
       "<style scoped>\n",
       "    .dataframe tbody tr th:only-of-type {\n",
       "        vertical-align: middle;\n",
       "    }\n",
       "\n",
       "    .dataframe tbody tr th {\n",
       "        vertical-align: top;\n",
       "    }\n",
       "\n",
       "    .dataframe thead th {\n",
       "        text-align: right;\n",
       "    }\n",
       "</style>\n",
       "<table border=\"1\" class=\"dataframe\">\n",
       "  <thead>\n",
       "    <tr style=\"text-align: right;\">\n",
       "      <th></th>\n",
       "      <th>Unnamed: 0</th>\n",
       "      <th>comment</th>\n",
       "      <th>url_id</th>\n",
       "      <th>label</th>\n",
       "    </tr>\n",
       "  </thead>\n",
       "  <tbody>\n",
       "    <tr>\n",
       "      <th>0</th>\n",
       "      <td>0</td>\n",
       "      <td>ㅜㅜ</td>\n",
       "      <td>77</td>\n",
       "      <td>0</td>\n",
       "    </tr>\n",
       "    <tr>\n",
       "      <th>1</th>\n",
       "      <td>1</td>\n",
       "      <td>ㅋㅋㅋㅋㅋㅋㅋㅋㅋㅋㅋㅋㅋㅋㅋㅋㅋㅋㅋㅋㅋ</td>\n",
       "      <td>17</td>\n",
       "      <td>0</td>\n",
       "    </tr>\n",
       "    <tr>\n",
       "      <th>2</th>\n",
       "      <td>2</td>\n",
       "      <td>헐</td>\n",
       "      <td>52</td>\n",
       "      <td>0</td>\n",
       "    </tr>\n",
       "    <tr>\n",
       "      <th>3</th>\n",
       "      <td>3</td>\n",
       "      <td>제시</td>\n",
       "      <td>75</td>\n",
       "      <td>0</td>\n",
       "    </tr>\n",
       "    <tr>\n",
       "      <th>4</th>\n",
       "      <td>4</td>\n",
       "      <td>이거인 듯</td>\n",
       "      <td>18</td>\n",
       "      <td>0</td>\n",
       "    </tr>\n",
       "  </tbody>\n",
       "</table>\n",
       "</div>"
      ],
      "text/plain": [
       "   Unnamed: 0                comment  url_id  label\n",
       "0           0                     ㅜㅜ      77      0\n",
       "1           1  ㅋㅋㅋㅋㅋㅋㅋㅋㅋㅋㅋㅋㅋㅋㅋㅋㅋㅋㅋㅋㅋ      17      0\n",
       "2           2                      헐      52      0\n",
       "3           3                     제시      75      0\n",
       "4           4                  이거인 듯      18      0"
      ]
     },
     "execution_count": 3,
     "metadata": {},
     "output_type": "execute_result"
    }
   ],
   "source": [
    "datasets = pd.read_csv('../../data/train.csv', engine='python', encoding='utf-16')\n",
    "datasets.head()"
   ]
  },
  {
   "cell_type": "code",
   "execution_count": 4,
   "metadata": {
    "ExecuteTime": {
     "end_time": "2019-08-20T11:08:12.607475Z",
     "start_time": "2019-08-20T11:08:12.575495Z"
    }
   },
   "outputs": [
    {
     "name": "stdout",
     "output_type": "stream",
     "text": [
      "<class 'pandas.core.frame.DataFrame'>\n",
      "RangeIndex: 42000 entries, 0 to 41999\n",
      "Data columns (total 4 columns):\n",
      "Unnamed: 0    42000 non-null int64\n",
      "comment       42000 non-null object\n",
      "url_id        42000 non-null int64\n",
      "label         42000 non-null int64\n",
      "dtypes: int64(3), object(1)\n",
      "memory usage: 1.3+ MB\n"
     ]
    }
   ],
   "source": [
    "datasets.info()"
   ]
  },
  {
   "cell_type": "code",
   "execution_count": 5,
   "metadata": {
    "ExecuteTime": {
     "end_time": "2019-08-20T11:08:12.637457Z",
     "start_time": "2019-08-20T11:08:12.612472Z"
    }
   },
   "outputs": [
    {
     "data": {
      "text/plain": [
       "0.0499047619047619"
      ]
     },
     "execution_count": 5,
     "metadata": {},
     "output_type": "execute_result"
    }
   ],
   "source": [
    "len(datasets[datasets.label ==1])/ len(datasets) # 유해한 레이블의 데이터가 많이 부족함 데이터 편향ㅠㅠ "
   ]
  },
  {
   "cell_type": "markdown",
   "metadata": {
    "ExecuteTime": {
     "end_time": "2019-08-06T15:38:19.687895Z",
     "start_time": "2019-08-06T15:38:19.677899Z"
    }
   },
   "source": [
    "# 형태소분석"
   ]
  },
  {
   "cell_type": "code",
   "execution_count": 6,
   "metadata": {
    "ExecuteTime": {
     "end_time": "2019-08-20T11:08:13.149213Z",
     "start_time": "2019-08-20T11:08:12.644455Z"
    },
    "scrolled": true
   },
   "outputs": [
    {
     "name": "stderr",
     "output_type": "stream",
     "text": [
      "C:\\Users\\skarn\\Anaconda3\\envs\\DataAnalysis\\lib\\site-packages\\jpype\\_core.py:210: UserWarning: \n",
      "-------------------------------------------------------------------------------\n",
      "Deprecated: convertStrings was not specified when starting the JVM. The default\n",
      "behavior in JPype will be False starting in JPype 0.8. The recommended setting\n",
      "for new code is convertStrings=False.  The legacy value of True was assumed for\n",
      "this session. If you are a user of an application that reported this warning,\n",
      "please file a ticket with the developer.\n",
      "-------------------------------------------------------------------------------\n",
      "\n",
      "  \"\"\")\n"
     ]
    }
   ],
   "source": [
    "morp = Okt()"
   ]
  },
  {
   "cell_type": "code",
   "execution_count": 7,
   "metadata": {
    "ExecuteTime": {
     "end_time": "2019-08-20T11:09:55.620453Z",
     "start_time": "2019-08-20T11:08:13.152163Z"
    }
   },
   "outputs": [
    {
     "name": "stderr",
     "output_type": "stream",
     "text": [
      "100%|███████████████████████████████████████████████████████████████████████████| 42000/42000 [01:42<00:00, 742.21it/s]\n"
     ]
    },
    {
     "data": {
      "text/plain": [
       "[['ㅜㅜ'], ['ㅋㅋㅋ'], ['헐다'], ['제시'], ['이', '거인', '듯']]"
      ]
     },
     "execution_count": 7,
     "metadata": {},
     "output_type": "execute_result"
    }
   ],
   "source": [
    "morped = [morp.morphs(_, norm=True, stem=True) for _ in tqdm(datasets.comment)]\n",
    "morped[:5]"
   ]
  },
  {
   "cell_type": "markdown",
   "metadata": {},
   "source": [
    "## Dictionary\n",
    "최빈 형태소에 대한 단어사전 구성"
   ]
  },
  {
   "cell_type": "code",
   "execution_count": 8,
   "metadata": {
    "ExecuteTime": {
     "end_time": "2019-08-20T11:09:57.607316Z",
     "start_time": "2019-08-20T11:09:55.662440Z"
    }
   },
   "outputs": [
    {
     "name": "stdout",
     "output_type": "stream",
     "text": [
      "고빈도 단어:\n",
      "ㅋㅋㅋ :  7874\n",
      "? :  3235\n",
      "이 :  3011\n",
      "하다 :  2327\n",
      "! :  1151\n",
      "ㅋㅋ :  1114\n",
      "가 :  1020\n",
      "오다 :  969\n",
      "아 :  911\n",
      "이다 :  789\n",
      "\n",
      "단어 사전:\n",
      "0 <PAD>\n",
      "1 <OOV>\n",
      "2 ㅋㅋㅋ\n",
      "3 ?\n",
      "4 이\n",
      "5 하다\n",
      "6 !\n",
      "7 ㅋㅋ\n",
      "8 가\n",
      "9 오다\n",
      "\n",
      "단어 사전 크기:  15600\n"
     ]
    }
   ],
   "source": [
    "vocab_size = 30000\n",
    "\n",
    "pad_id = 0\n",
    "oov_id = 1\n",
    "index_offset = 1\n",
    "\n",
    "def make_vocab(sentences):\n",
    "    word_counter = Counter()\n",
    "\n",
    "    for sent in sentences:\n",
    "        word_counter.update(sent)\n",
    "\n",
    "    most_common = word_counter.most_common()\n",
    "    print(\"고빈도 단어:\")\n",
    "    for k, v in most_common[:10]:\n",
    "        print(k, \": \", v)\n",
    "\n",
    "        vocab = {\n",
    "        '<PAD>': pad_id,\n",
    "        '<OOV>': oov_id\n",
    "        }\n",
    "    for i, (word, cnt) in enumerate(most_common, start=index_offset+1):\n",
    "        vocab[word] = i\n",
    "        if len(vocab) >= vocab_size:\n",
    "            break\n",
    "\n",
    "    return vocab\n",
    "\n",
    "word_index = make_vocab(morped)\n",
    "word_inverted_index = {v:k for k, v in word_index.items()}\n",
    "\n",
    "print(\"\\n단어 사전:\")\n",
    "for i in range(0, 10):\n",
    "    print(i, word_inverted_index[i])\n",
    "\n",
    "print(\"\\n단어 사전 크기: \", len(word_index))\n",
    "\n",
    "# # vocab save\n",
    "# with open('./vocab/vocab_index.pickle', 'wb') as f:\n",
    "#     pickle.dump(word_index, f, pickle.HIGHEST_PROTOCOL)\n",
    "# with open('./vocab/vocab_inverted_index.pickle', 'wb') as f:\n",
    "#     pickle.dump(word_inverted_index, f, pickle.HIGHEST_PROTOCOL)"
   ]
  },
  {
   "cell_type": "code",
   "execution_count": 9,
   "metadata": {
    "ExecuteTime": {
     "end_time": "2019-08-20T11:09:57.685271Z",
     "start_time": "2019-08-20T11:09:57.614311Z"
    }
   },
   "outputs": [
    {
     "name": "stdout",
     "output_type": "stream",
     "text": [
      "원본:  ['ㅜㅜ']\n",
      "문자 -> 숫자:  [282]\n",
      "숫자 -> 문자:  ㅜㅜ\n"
     ]
    }
   ],
   "source": [
    "def index_to_text(indexes):\n",
    "    return ' '.join([word_inverted_index[i] for i in indexes])\n",
    "\n",
    "def text_to_index(tokens):\n",
    "    indexes = []\n",
    "    for tok in tokens:\n",
    "        if tok in word_index:\n",
    "            indexes.append(word_index[tok])\n",
    "        else:\n",
    "            indexes.append(oov_id)\n",
    "\n",
    "    return indexes\n",
    "\n",
    "print(\"원본: \", morped[0])\n",
    "ids = text_to_index(morped[0])\n",
    "print(\"문자 -> 숫자: \", ids)\n",
    "print(\"숫자 -> 문자: \", index_to_text(ids))"
   ]
  },
  {
   "cell_type": "code",
   "execution_count": 10,
   "metadata": {
    "ExecuteTime": {
     "end_time": "2019-08-20T11:09:58.545775Z",
     "start_time": "2019-08-20T11:09:57.690268Z"
    }
   },
   "outputs": [],
   "source": [
    "x_variable = [text_to_index(_) for _ in morped]\n",
    "\n",
    "sentence_size = 10\n",
    "x_padded = sequence.pad_sequences(x_variable,\n",
    "                                 maxlen=sentence_size,\n",
    "                                 truncating='post',\n",
    "                                 padding='post',\n",
    "                                 value=pad_id)"
   ]
  },
  {
   "cell_type": "code",
   "execution_count": 11,
   "metadata": {
    "ExecuteTime": {
     "end_time": "2019-08-20T11:09:58.573761Z",
     "start_time": "2019-08-20T11:09:58.549775Z"
    }
   },
   "outputs": [],
   "source": [
    "def plot_loss(history):\n",
    "    plt.figure(figsize=(6,5))\n",
    "    val = plt.plot(history.epoch, history.history['val_loss'],\n",
    "                 '--', label='Test')\n",
    "    plt.plot(history.epoch, history.history['loss'], color=val[0].get_color(),\n",
    "           label='Train')\n",
    "\n",
    "    plt.xlabel('Epochs')\n",
    "    plt.ylabel(\"Loss\")\n",
    "    plt.legend()\n",
    "\n",
    "    plt.xlim([0,max(history.epoch)])"
   ]
  },
  {
   "cell_type": "code",
   "execution_count": 12,
   "metadata": {
    "ExecuteTime": {
     "end_time": "2019-08-20T11:09:58.635727Z",
     "start_time": "2019-08-20T11:09:58.585755Z"
    }
   },
   "outputs": [],
   "source": [
    "import warnings\n",
    "warnings.filterwarnings(action='once')"
   ]
  },
  {
   "cell_type": "markdown",
   "metadata": {},
   "source": [
    "\n",
    "# 데이터 클래스 불균형 문제 해결하자"
   ]
  },
  {
   "cell_type": "code",
   "execution_count": 13,
   "metadata": {
    "ExecuteTime": {
     "end_time": "2019-08-20T11:09:58.736669Z",
     "start_time": "2019-08-20T11:09:58.645720Z"
    }
   },
   "outputs": [],
   "source": [
    "X_train, X_test, y_train, y_test = train_test_split(x_padded, datasets.label)"
   ]
  },
  {
   "cell_type": "code",
   "execution_count": 14,
   "metadata": {
    "ExecuteTime": {
     "end_time": "2019-08-20T11:09:58.750660Z",
     "start_time": "2019-08-20T11:09:58.742667Z"
    }
   },
   "outputs": [],
   "source": [
    "from imblearn.under_sampling import RandomUnderSampler\n",
    "from imblearn.over_sampling import RandomOverSampler,SMOTE"
   ]
  },
  {
   "cell_type": "code",
   "execution_count": 151,
   "metadata": {
    "ExecuteTime": {
     "end_time": "2019-08-19T05:54:40.689583Z",
     "start_time": "2019-08-19T05:54:40.634616Z"
    }
   },
   "outputs": [
    {
     "data": {
      "text/plain": [
       "(59872, 29936)"
      ]
     },
     "execution_count": 151,
     "metadata": {},
     "output_type": "execute_result"
    }
   ],
   "source": [
    "up_X, up_y = RandomOverSampler().fit_resample(X_train, y_train)\n",
    "\n",
    "# 총 데이터 수 , 1 레이블 데이터 수\n",
    "len(up_y), up_y.sum()"
   ]
  },
  {
   "cell_type": "code",
   "execution_count": 152,
   "metadata": {
    "ExecuteTime": {
     "end_time": "2019-08-19T05:54:43.200145Z",
     "start_time": "2019-08-19T05:54:42.661453Z"
    }
   },
   "outputs": [
    {
     "name": "stderr",
     "output_type": "stream",
     "text": [
      "C:\\Users\\skarn\\Anaconda3\\envs\\DataAnalysis\\lib\\site-packages\\numpy\\lib\\type_check.py:546: DeprecationWarning: np.asscalar(a) is deprecated since NumPy v1.16, use a.item() instead\n",
      "  'a.item() instead', DeprecationWarning, stacklevel=1)\n"
     ]
    }
   ],
   "source": [
    "model_up = keras.Sequential([\n",
    "    keras.layers.Embedding(vocab_size, 10),\n",
    "    keras.layers.Conv1D(32, 3, padding=\"same\", activation=tf.nn.relu),\n",
    "    keras.layers.Dropout(0.5),\n",
    "    keras.layers.Conv1D(32, 3, padding=\"same\", activation=tf.nn.relu),\n",
    "    keras.layers.GlobalMaxPool1D(),\n",
    "    keras.layers.Dropout(0.5),\n",
    "    keras.layers.Dense(2, activation=tf.nn.sigmoid)\n",
    "])"
   ]
  },
  {
   "cell_type": "code",
   "execution_count": 154,
   "metadata": {
    "ExecuteTime": {
     "end_time": "2019-08-19T06:00:16.575176Z",
     "start_time": "2019-08-19T05:57:24.661653Z"
    }
   },
   "outputs": [
    {
     "name": "stdout",
     "output_type": "stream",
     "text": [
      "Train on 59872 samples, validate on 10500 samples\n",
      "Epoch 1/5\n"
     ]
    },
    {
     "name": "stdout",
     "output_type": "stream",
     "text": [
      "20320/59872 [=========>....................] - ETA: 1:21:34 - loss: 0.0164 - recall_18: 1.00 - ETA: 16:38 - loss: 0.0710 - recall_18: 0.9875 - ETA: 9:30 - loss: 0.0818 - recall_18: 0.9826 - ETA: 6:43 - loss: 0.0619 - recall_18: 0.985 - ETA: 5:14 - loss: 0.0604 - recall_18: 0.987 - ETA: 4:19 - loss: 0.0588 - recall_18: 0.985 - ETA: 3:41 - loss: 0.0657 - recall_18: 0.982 - ETA: 3:14 - loss: 0.0676 - recall_18: 0.981 - ETA: 2:58 - loss: 0.0677 - recall_18: 0.981 - ETA: 2:47 - loss: 0.0681 - recall_18: 0.980 - ETA: 2:32 - loss: 0.0654 - recall_18: 0.980 - ETA: 2:20 - loss: 0.0690 - recall_18: 0.979 - ETA: 2:10 - loss: 0.0689 - recall_18: 0.980 - ETA: 2:02 - loss: 0.0668 - recall_18: 0.979 - ETA: 1:59 - loss: 0.0650 - recall_18: 0.980 - ETA: 1:52 - loss: 0.0629 - recall_18: 0.981 - ETA: 1:48 - loss: 0.0657 - recall_18: 0.980 - ETA: 1:42 - loss: 0.0637 - recall_18: 0.981 - ETA: 1:38 - loss: 0.0628 - recall_18: 0.981 - ETA: 1:35 - loss: 0.0617 - recall_18: 0.981 - ETA: 1:32 - loss: 0.0602 - recall_18: 0.981 - ETA: 1:29 - loss: 0.0614 - recall_18: 0.981 - ETA: 1:26 - loss: 0.0599 - recall_18: 0.981 - ETA: 1:24 - loss: 0.0591 - recall_18: 0.982 - ETA: 1:21 - loss: 0.0621 - recall_18: 0.981 - ETA: 1:20 - loss: 0.0603 - recall_18: 0.981 - ETA: 1:18 - loss: 0.0614 - recall_18: 0.981 - ETA: 1:16 - loss: 0.0615 - recall_18: 0.981 - ETA: 1:14 - loss: 0.0619 - recall_18: 0.981 - ETA: 1:13 - loss: 0.0608 - recall_18: 0.981 - ETA: 1:11 - loss: 0.0595 - recall_18: 0.982 - ETA: 1:10 - loss: 0.0583 - recall_18: 0.982 - ETA: 1:09 - loss: 0.0580 - recall_18: 0.982 - ETA: 1:08 - loss: 0.0570 - recall_18: 0.982 - ETA: 1:06 - loss: 0.0567 - recall_18: 0.983 - ETA: 1:05 - loss: 0.0571 - recall_18: 0.983 - ETA: 1:03 - loss: 0.0564 - recall_18: 0.983 - ETA: 1:02 - loss: 0.0560 - recall_18: 0.983 - ETA: 1:01 - loss: 0.0556 - recall_18: 0.983 - ETA: 1:01 - loss: 0.0560 - recall_18: 0.983 - ETA: 1:00 - loss: 0.0573 - recall_18: 0.982 - ETA: 59s - loss: 0.0568 - recall_18: 0.982 - ETA: 59s - loss: 0.0558 - recall_18: 0.98 - ETA: 58s - loss: 0.0559 - recall_18: 0.98 - ETA: 57s - loss: 0.0556 - recall_18: 0.98 - ETA: 57s - loss: 0.0559 - recall_18: 0.98 - ETA: 56s - loss: 0.0558 - recall_18: 0.98 - ETA: 56s - loss: 0.0567 - recall_18: 0.98 - ETA: 55s - loss: 0.0586 - recall_18: 0.98 - ETA: 54s - loss: 0.0593 - recall_18: 0.98 - ETA: 53s - loss: 0.0586 - recall_18: 0.98 - ETA: 53s - loss: 0.0605 - recall_18: 0.98 - ETA: 52s - loss: 0.0601 - recall_18: 0.98 - ETA: 52s - loss: 0.0598 - recall_18: 0.98 - ETA: 51s - loss: 0.0598 - recall_18: 0.98 - ETA: 51s - loss: 0.0590 - recall_18: 0.98 - ETA: 50s - loss: 0.0585 - recall_18: 0.98 - ETA: 50s - loss: 0.0583 - recall_18: 0.98 - ETA: 49s - loss: 0.0577 - recall_18: 0.98 - ETA: 49s - loss: 0.0577 - recall_18: 0.98 - ETA: 48s - loss: 0.0575 - recall_18: 0.98 - ETA: 48s - loss: 0.0577 - recall_18: 0.98 - ETA: 47s - loss: 0.0577 - recall_18: 0.98 - ETA: 47s - loss: 0.0572 - recall_18: 0.98 - ETA: 47s - loss: 0.0570 - recall_18: 0.98 - ETA: 46s - loss: 0.0562 - recall_18: 0.98 - ETA: 46s - loss: 0.0562 - recall_18: 0.98 - ETA: 46s - loss: 0.0563 - recall_18: 0.98 - ETA: 45s - loss: 0.0567 - recall_18: 0.98 - ETA: 45s - loss: 0.0574 - recall_18: 0.98 - ETA: 44s - loss: 0.0569 - recall_18: 0.98 - ETA: 44s - loss: 0.0567 - recall_18: 0.98 - ETA: 44s - loss: 0.0562 - recall_18: 0.98 - ETA: 43s - loss: 0.0560 - recall_18: 0.98 - ETA: 43s - loss: 0.0560 - recall_18: 0.98 - ETA: 43s - loss: 0.0561 - recall_18: 0.98 - ETA: 42s - loss: 0.0557 - recall_18: 0.98 - ETA: 42s - loss: 0.0554 - recall_18: 0.98 - ETA: 42s - loss: 0.0548 - recall_18: 0.98 - ETA: 41s - loss: 0.0558 - recall_18: 0.98 - ETA: 41s - loss: 0.0562 - recall_18: 0.98 - ETA: 41s - loss: 0.0559 - recall_18: 0.98 - ETA: 40s - loss: 0.0555 - recall_18: 0.98 - ETA: 40s - loss: 0.0552 - recall_18: 0.98 - ETA: 40s - loss: 0.0551 - recall_18: 0.98 - ETA: 40s - loss: 0.0549 - recall_18: 0.98 - ETA: 39s - loss: 0.0550 - recall_18: 0.98 - ETA: 39s - loss: 0.0546 - recall_18: 0.98 - ETA: 39s - loss: 0.0541 - recall_18: 0.98 - ETA: 38s - loss: 0.0537 - recall_18: 0.98 - ETA: 38s - loss: 0.0536 - recall_18: 0.98 - ETA: 38s - loss: 0.0535 - recall_18: 0.98 - ETA: 38s - loss: 0.0533 - recall_18: 0.98 - ETA: 37s - loss: 0.0531 - recall_18: 0.98 - ETA: 37s - loss: 0.0528 - recall_18: 0.98 - ETA: 37s - loss: 0.0532 - recall_18: 0.98 - ETA: 37s - loss: 0.0548 - recall_18: 0.98 - ETA: 37s - loss: 0.0558 - recall_18: 0.98 - ETA: 36s - loss: 0.0562 - recall_18: 0.98 - ETA: 36s - loss: 0.0566 - recall_18: 0.98 - ETA: 36s - loss: 0.0567 - recall_18: 0.98 - ETA: 36s - loss: 0.0563 - recall_18: 0.98 - ETA: 35s - loss: 0.0562 - recall_18: 0.98 - ETA: 35s - loss: 0.0562 - recall_18: 0.98 - ETA: 35s - loss: 0.0567 - recall_18: 0.98 - ETA: 35s - loss: 0.0564 - recall_18: 0.98 - ETA: 35s - loss: 0.0562 - recall_18: 0.98 - ETA: 34s - loss: 0.0560 - recall_18: 0.98 - ETA: 34s - loss: 0.0557 - recall_18: 0.98 - ETA: 34s - loss: 0.0557 - recall_18: 0.98 - ETA: 34s - loss: 0.0561 - recall_18: 0.98 - ETA: 34s - loss: 0.0558 - recall_18: 0.98 - ETA: 34s - loss: 0.0558 - recall_18: 0.98 - ETA: 33s - loss: 0.0556 - recall_18: 0.98 - ETA: 33s - loss: 0.0558 - recall_18: 0.98 - ETA: 33s - loss: 0.0557 - recall_18: 0.98 - ETA: 33s - loss: 0.0560 - recall_18: 0.98 - ETA: 33s - loss: 0.0559 - recall_18: 0.98 - ETA: 32s - loss: 0.0559 - recall_18: 0.98 - ETA: 32s - loss: 0.0558 - recall_18: 0.98 - ETA: 32s - loss: 0.0556 - recall_18: 0.98 - ETA: 32s - loss: 0.0554 - recall_18: 0.98 - ETA: 32s - loss: 0.0553 - recall_18: 0.98 - ETA: 32s - loss: 0.0552 - recall_18: 0.98 - ETA: 32s - loss: 0.0557 - recall_18: 0.98 - ETA: 32s - loss: 0.0554 - recall_18: 0.98 - ETA: 31s - loss: 0.0551 - recall_18: 0.98 - ETA: 32s - loss: 0.0550 - recall_18: 0.98 - ETA: 31s - loss: 0.0559 - recall_18: 0.98 - ETA: 31s - loss: 0.0556 - recall_18: 0.98 - ETA: 31s - loss: 0.0561 - recall_18: 0.98 - ETA: 31s - loss: 0.0562 - recall_18: 0.98 - ETA: 31s - loss: 0.0561 - recall_18: 0.98 - ETA: 31s - loss: 0.0558 - recall_18: 0.98 - ETA: 30s - loss: 0.0557 - recall_18: 0.98 - ETA: 30s - loss: 0.0558 - recall_18: 0.98 - ETA: 30s - loss: 0.0558 - recall_18: 0.98 - ETA: 30s - loss: 0.0558 - recall_18: 0.98 - ETA: 30s - loss: 0.0557 - recall_18: 0.98 - ETA: 30s - loss: 0.0563 - recall_18: 0.98 - ETA: 30s - loss: 0.0563 - recall_18: 0.98 - ETA: 30s - loss: 0.0564 - recall_18: 0.98 - ETA: 29s - loss: 0.0566 - recall_18: 0.98 - ETA: 29s - loss: 0.0563 - recall_18: 0.98 - ETA: 29s - loss: 0.0563 - recall_18: 0.98 - ETA: 29s - loss: 0.0562 - recall_18: 0.98 - ETA: 29s - loss: 0.0562 - recall_18: 0.98 - ETA: 29s - loss: 0.0560 - recall_18: 0.98 - ETA: 29s - loss: 0.0557 - recall_18: 0.98 - ETA: 29s - loss: 0.0555 - recall_18: 0.98 - ETA: 29s - loss: 0.0556 - recall_18: 0.98 - ETA: 28s - loss: 0.0553 - recall_18: 0.98 - ETA: 28s - loss: 0.0551 - recall_18: 0.98 - ETA: 28s - loss: 0.0553 - recall_18: 0.98 - ETA: 28s - loss: 0.0552 - recall_18: 0.98 - ETA: 28s - loss: 0.0551 - recall_18: 0.98 - ETA: 28s - loss: 0.0551 - recall_18: 0.98 - ETA: 28s - loss: 0.0552 - recall_18: 0.98 - ETA: 28s - loss: 0.0559 - recall_18: 0.98 - ETA: 27s - loss: 0.0557 - recall_18: 0.98 - ETA: 27s - loss: 0.0558 - recall_18: 0.98 - ETA: 27s - loss: 0.0556 - recall_18: 0.98 - ETA: 27s - loss: 0.0555 - recall_18: 0.98 - ETA: 27s - loss: 0.0556 - recall_18: 0.98 - ETA: 27s - loss: 0.0554 - recall_18: 0.98 - ETA: 27s - loss: 0.0555 - recall_18: 0.98 - ETA: 27s - loss: 0.0553 - recall_18: 0.98 - ETA: 27s - loss: 0.0556 - recall_18: 0.98 - ETA: 26s - loss: 0.0553 - recall_18: 0.98 - ETA: 26s - loss: 0.0554 - recall_18: 0.98 - ETA: 26s - loss: 0.0555 - recall_18: 0.98 - ETA: 26s - loss: 0.0554 - recall_18: 0.98 - ETA: 26s - loss: 0.0553 - recall_18: 0.98 - ETA: 26s - loss: 0.0553 - recall_18: 0.98 - ETA: 26s - loss: 0.0557 - recall_18: 0.98 - ETA: 26s - loss: 0.0555 - recall_18: 0.98 - ETA: 26s - loss: 0.0554 - recall_18: 0.98 - ETA: 25s - loss: 0.0554 - recall_18: 0.98 - ETA: 25s - loss: 0.0553 - recall_18: 0.98 - ETA: 25s - loss: 0.0554 - recall_18: 0.98 - ETA: 25s - loss: 0.0553 - recall_18: 0.98 - ETA: 25s - loss: 0.0553 - recall_18: 0.9841056/59872 [===================>..........] - ETA: 25s - loss: 0.0552 - recall_18: 0.98 - ETA: 25s - loss: 0.0554 - recall_18: 0.98 - ETA: 25s - loss: 0.0554 - recall_18: 0.98 - ETA: 25s - loss: 0.0551 - recall_18: 0.98 - ETA: 25s - loss: 0.0555 - recall_18: 0.98 - ETA: 24s - loss: 0.0556 - recall_18: 0.98 - ETA: 24s - loss: 0.0556 - recall_18: 0.98 - ETA: 24s - loss: 0.0559 - recall_18: 0.98 - ETA: 24s - loss: 0.0558 - recall_18: 0.98 - ETA: 24s - loss: 0.0560 - recall_18: 0.98 - ETA: 24s - loss: 0.0561 - recall_18: 0.98 - ETA: 24s - loss: 0.0560 - recall_18: 0.98 - ETA: 24s - loss: 0.0562 - recall_18: 0.98 - ETA: 24s - loss: 0.0564 - recall_18: 0.98 - ETA: 24s - loss: 0.0563 - recall_18: 0.98 - ETA: 23s - loss: 0.0566 - recall_18: 0.98 - ETA: 23s - loss: 0.0569 - recall_18: 0.98 - ETA: 23s - loss: 0.0570 - recall_18: 0.98 - ETA: 23s - loss: 0.0571 - recall_18: 0.98 - ETA: 23s - loss: 0.0571 - recall_18: 0.98 - ETA: 23s - loss: 0.0570 - recall_18: 0.98 - ETA: 23s - loss: 0.0571 - recall_18: 0.98 - ETA: 23s - loss: 0.0569 - recall_18: 0.98 - ETA: 23s - loss: 0.0572 - recall_18: 0.98 - ETA: 23s - loss: 0.0573 - recall_18: 0.98 - ETA: 23s - loss: 0.0572 - recall_18: 0.98 - ETA: 22s - loss: 0.0572 - recall_18: 0.98 - ETA: 22s - loss: 0.0571 - recall_18: 0.98 - ETA: 22s - loss: 0.0570 - recall_18: 0.98 - ETA: 22s - loss: 0.0569 - recall_18: 0.98 - ETA: 22s - loss: 0.0569 - recall_18: 0.98 - ETA: 22s - loss: 0.0569 - recall_18: 0.98 - ETA: 22s - loss: 0.0568 - recall_18: 0.98 - ETA: 22s - loss: 0.0571 - recall_18: 0.98 - ETA: 22s - loss: 0.0569 - recall_18: 0.98 - ETA: 22s - loss: 0.0573 - recall_18: 0.98 - ETA: 22s - loss: 0.0573 - recall_18: 0.98 - ETA: 22s - loss: 0.0573 - recall_18: 0.98 - ETA: 22s - loss: 0.0575 - recall_18: 0.98 - ETA: 21s - loss: 0.0573 - recall_18: 0.98 - ETA: 21s - loss: 0.0573 - recall_18: 0.98 - ETA: 21s - loss: 0.0573 - recall_18: 0.98 - ETA: 21s - loss: 0.0577 - recall_18: 0.98 - ETA: 21s - loss: 0.0576 - recall_18: 0.98 - ETA: 21s - loss: 0.0574 - recall_18: 0.98 - ETA: 21s - loss: 0.0573 - recall_18: 0.98 - ETA: 21s - loss: 0.0572 - recall_18: 0.98 - ETA: 21s - loss: 0.0571 - recall_18: 0.98 - ETA: 21s - loss: 0.0571 - recall_18: 0.98 - ETA: 21s - loss: 0.0569 - recall_18: 0.98 - ETA: 21s - loss: 0.0568 - recall_18: 0.98 - ETA: 21s - loss: 0.0567 - recall_18: 0.98 - ETA: 20s - loss: 0.0571 - recall_18: 0.98 - ETA: 20s - loss: 0.0576 - recall_18: 0.98 - ETA: 20s - loss: 0.0574 - recall_18: 0.98 - ETA: 20s - loss: 0.0574 - recall_18: 0.98 - ETA: 20s - loss: 0.0574 - recall_18: 0.98 - ETA: 20s - loss: 0.0575 - recall_18: 0.98 - ETA: 20s - loss: 0.0575 - recall_18: 0.98 - ETA: 20s - loss: 0.0574 - recall_18: 0.98 - ETA: 20s - loss: 0.0574 - recall_18: 0.98 - ETA: 20s - loss: 0.0572 - recall_18: 0.98 - ETA: 20s - loss: 0.0572 - recall_18: 0.98 - ETA: 19s - loss: 0.0570 - recall_18: 0.98 - ETA: 19s - loss: 0.0570 - recall_18: 0.98 - ETA: 19s - loss: 0.0570 - recall_18: 0.98 - ETA: 19s - loss: 0.0569 - recall_18: 0.98 - ETA: 19s - loss: 0.0568 - recall_18: 0.98 - ETA: 19s - loss: 0.0568 - recall_18: 0.98 - ETA: 19s - loss: 0.0566 - recall_18: 0.98 - ETA: 19s - loss: 0.0565 - recall_18: 0.98 - ETA: 19s - loss: 0.0566 - recall_18: 0.98 - ETA: 19s - loss: 0.0565 - recall_18: 0.98 - ETA: 19s - loss: 0.0564 - recall_18: 0.98 - ETA: 19s - loss: 0.0563 - recall_18: 0.98 - ETA: 18s - loss: 0.0562 - recall_18: 0.98 - ETA: 18s - loss: 0.0564 - recall_18: 0.98 - ETA: 18s - loss: 0.0563 - recall_18: 0.98 - ETA: 18s - loss: 0.0562 - recall_18: 0.98 - ETA: 18s - loss: 0.0565 - recall_18: 0.98 - ETA: 18s - loss: 0.0563 - recall_18: 0.98 - ETA: 18s - loss: 0.0563 - recall_18: 0.98 - ETA: 18s - loss: 0.0562 - recall_18: 0.98 - ETA: 18s - loss: 0.0562 - recall_18: 0.98 - ETA: 18s - loss: 0.0563 - recall_18: 0.98 - ETA: 18s - loss: 0.0562 - recall_18: 0.98 - ETA: 18s - loss: 0.0562 - recall_18: 0.98 - ETA: 18s - loss: 0.0563 - recall_18: 0.98 - ETA: 17s - loss: 0.0562 - recall_18: 0.98 - ETA: 17s - loss: 0.0561 - recall_18: 0.98 - ETA: 17s - loss: 0.0560 - recall_18: 0.98 - ETA: 17s - loss: 0.0559 - recall_18: 0.98 - ETA: 17s - loss: 0.0560 - recall_18: 0.98 - ETA: 17s - loss: 0.0561 - recall_18: 0.98 - ETA: 17s - loss: 0.0560 - recall_18: 0.98 - ETA: 17s - loss: 0.0559 - recall_18: 0.98 - ETA: 17s - loss: 0.0558 - recall_18: 0.98 - ETA: 17s - loss: 0.0556 - recall_18: 0.98 - ETA: 17s - loss: 0.0555 - recall_18: 0.98 - ETA: 17s - loss: 0.0556 - recall_18: 0.98 - ETA: 17s - loss: 0.0559 - recall_18: 0.98 - ETA: 17s - loss: 0.0560 - recall_18: 0.98 - ETA: 16s - loss: 0.0559 - recall_18: 0.98 - ETA: 16s - loss: 0.0559 - recall_18: 0.98 - ETA: 16s - loss: 0.0559 - recall_18: 0.98 - ETA: 16s - loss: 0.0561 - recall_18: 0.98 - ETA: 16s - loss: 0.0561 - recall_18: 0.98 - ETA: 16s - loss: 0.0561 - recall_18: 0.98 - ETA: 16s - loss: 0.0561 - recall_18: 0.98 - ETA: 16s - loss: 0.0562 - recall_18: 0.98 - ETA: 16s - loss: 0.0563 - recall_18: 0.98 - ETA: 16s - loss: 0.0562 - recall_18: 0.98 - ETA: 16s - loss: 0.0563 - recall_18: 0.98 - ETA: 16s - loss: 0.0561 - recall_18: 0.98 - ETA: 16s - loss: 0.0561 - recall_18: 0.98 - ETA: 16s - loss: 0.0560 - recall_18: 0.98 - ETA: 15s - loss: 0.0561 - recall_18: 0.98 - ETA: 15s - loss: 0.0563 - recall_18: 0.98 - ETA: 15s - loss: 0.0563 - recall_18: 0.98 - ETA: 15s - loss: 0.0563 - recall_18: 0.98 - ETA: 15s - loss: 0.0563 - recall_18: 0.98 - ETA: 15s - loss: 0.0565 - recall_18: 0.98 - ETA: 15s - loss: 0.0565 - recall_18: 0.98 - ETA: 15s - loss: 0.0567 - recall_18: 0.98 - ETA: 15s - loss: 0.0567 - recall_18: 0.98 - ETA: 15s - loss: 0.0566 - recall_18: 0.98 - ETA: 15s - loss: 0.0569 - recall_18: 0.98 - ETA: 15s - loss: 0.0569 - recall_18: 0.98 - ETA: 15s - loss: 0.0569 - recall_18: 0.98 - ETA: 15s - loss: 0.0569 - recall_18: 0.98 - ETA: 14s - loss: 0.0572 - recall_18: 0.98 - ETA: 14s - loss: 0.0573 - recall_18: 0.98 - ETA: 14s - loss: 0.0574 - recall_18: 0.98 - ETA: 14s - loss: 0.0574 - recall_18: 0.98 - ETA: 14s - loss: 0.0576 - recall_18: 0.98 - ETA: 14s - loss: 0.0576 - recall_18: 0.98 - ETA: 14s - loss: 0.0575 - recall_18: 0.98 - ETA: 14s - loss: 0.0578 - recall_18: 0.98 - ETA: 14s - loss: 0.0580 - recall_18: 0.98 - ETA: 14s - loss: 0.0580 - recall_18: 0.98 - ETA: 14s - loss: 0.0579 - recall_18: 0.98 - ETA: 14s - loss: 0.0579 - recall_18: 0.98 - ETA: 14s - loss: 0.0579 - recall_18: 0.98 - ETA: 13s - loss: 0.0578 - recall_18: 0.98 - ETA: 13s - loss: 0.0579 - recall_18: 0.98 - ETA: 13s - loss: 0.0578 - recall_18: 0.98 - ETA: 13s - loss: 0.0577 - recall_18: 0.98 - ETA: 13s - loss: 0.0576 - recall_18: 0.98 - ETA: 13s - loss: 0.0576 - recall_18: 0.98 - ETA: 13s - loss: 0.0577 - recall_18: 0.98 - ETA: 13s - loss: 0.0575 - recall_18: 0.98 - ETA: 13s - loss: 0.0575 - recall_18: 0.98 - ETA: 13s - loss: 0.0578 - recall_18: 0.98 - ETA: 13s - loss: 0.0577 - recall_18: 0.98 - ETA: 13s - loss: 0.0578 - recall_18: 0.98 - ETA: 13s - loss: 0.0580 - recall_18: 0.98 - ETA: 12s - loss: 0.0579 - recall_18: 0.98 - ETA: 12s - loss: 0.0580 - recall_18: 0.98 - ETA: 12s - loss: 0.0579 - recall_18: 0.98 - ETA: 12s - loss: 0.0578 - recall_18: 0.98 - ETA: 12s - loss: 0.0579 - recall_18: 0.98 - ETA: 12s - loss: 0.0579 - recall_18: 0.98 - ETA: 12s - loss: 0.0578 - recall_18: 0.98 - ETA: 12s - loss: 0.0578 - recall_18: 0.98 - ETA: 12s - loss: 0.0578 - recall_18: 0.98 - ETA: 12s - loss: 0.0578 - recall_18: 0.98 - ETA: 12s - loss: 0.0577 - recall_18: 0.98 - ETA: 12s - loss: 0.0577 - recall_18: 0.98 - ETA: 12s - loss: 0.0577 - recall_18: 0.98 - ETA: 12s - loss: 0.0576 - recall_18: 0.98 - ETA: 12s - loss: 0.0577 - recall_18: 0.98 - ETA: 11s - loss: 0.0577 - recall_18: 0.98 - ETA: 11s - loss: 0.0577 - recall_18: 0.98 - ETA: 11s - loss: 0.0577 - recall_18: 0.98 - ETA: 11s - loss: 0.0577 - recall_18: 0.98 - ETA: 11s - loss: 0.0578 - recall_18: 0.98 - ETA: 11s - loss: 0.0578 - recall_18: 0.98 - ETA: 11s - loss: 0.0581 - recall_18: 0.98 - ETA: 11s - loss: 0.0581 - recall_18: 0.98 - ETA: 11s - loss: 0.0581 - recall_18: 0.98 - ETA: 11s - loss: 0.0581 - recall_18: 0.98 - ETA: 11s - loss: 0.0580 - recall_18: 0.98 - ETA: 11s - loss: 0.0581 - recall_18: 0.98 - ETA: 11s - loss: 0.0581 - recall_18: 0.98 - ETA: 11s - loss: 0.0581 - recall_18: 0.98 - ETA: 11s - loss: 0.0581 - recall_18: 0.9816"
     ]
    },
    {
     "name": "stdout",
     "output_type": "stream",
     "text": [
      "59872/59872 [==============================] - ETA: 10s - loss: 0.0581 - recall_18: 0.98 - ETA: 10s - loss: 0.0581 - recall_18: 0.98 - ETA: 10s - loss: 0.0580 - recall_18: 0.98 - ETA: 10s - loss: 0.0580 - recall_18: 0.98 - ETA: 10s - loss: 0.0580 - recall_18: 0.98 - ETA: 10s - loss: 0.0580 - recall_18: 0.98 - ETA: 10s - loss: 0.0580 - recall_18: 0.98 - ETA: 10s - loss: 0.0580 - recall_18: 0.98 - ETA: 10s - loss: 0.0582 - recall_18: 0.98 - ETA: 10s - loss: 0.0581 - recall_18: 0.98 - ETA: 10s - loss: 0.0580 - recall_18: 0.98 - ETA: 10s - loss: 0.0580 - recall_18: 0.98 - ETA: 10s - loss: 0.0579 - recall_18: 0.98 - ETA: 10s - loss: 0.0579 - recall_18: 0.98 - ETA: 10s - loss: 0.0579 - recall_18: 0.98 - ETA: 10s - loss: 0.0578 - recall_18: 0.98 - ETA: 9s - loss: 0.0577 - recall_18: 0.9819 - ETA: 9s - loss: 0.0577 - recall_18: 0.981 - ETA: 9s - loss: 0.0579 - recall_18: 0.981 - ETA: 9s - loss: 0.0580 - recall_18: 0.981 - ETA: 9s - loss: 0.0579 - recall_18: 0.981 - ETA: 9s - loss: 0.0580 - recall_18: 0.981 - ETA: 9s - loss: 0.0580 - recall_18: 0.981 - ETA: 9s - loss: 0.0580 - recall_18: 0.981 - ETA: 9s - loss: 0.0580 - recall_18: 0.981 - ETA: 9s - loss: 0.0579 - recall_18: 0.982 - ETA: 9s - loss: 0.0579 - recall_18: 0.982 - ETA: 9s - loss: 0.0580 - recall_18: 0.982 - ETA: 9s - loss: 0.0580 - recall_18: 0.982 - ETA: 9s - loss: 0.0582 - recall_18: 0.981 - ETA: 9s - loss: 0.0582 - recall_18: 0.981 - ETA: 9s - loss: 0.0582 - recall_18: 0.982 - ETA: 8s - loss: 0.0581 - recall_18: 0.982 - ETA: 8s - loss: 0.0581 - recall_18: 0.982 - ETA: 8s - loss: 0.0580 - recall_18: 0.982 - ETA: 8s - loss: 0.0580 - recall_18: 0.982 - ETA: 8s - loss: 0.0579 - recall_18: 0.982 - ETA: 8s - loss: 0.0579 - recall_18: 0.982 - ETA: 8s - loss: 0.0580 - recall_18: 0.981 - ETA: 8s - loss: 0.0580 - recall_18: 0.981 - ETA: 8s - loss: 0.0579 - recall_18: 0.981 - ETA: 8s - loss: 0.0581 - recall_18: 0.981 - ETA: 8s - loss: 0.0580 - recall_18: 0.981 - ETA: 8s - loss: 0.0580 - recall_18: 0.981 - ETA: 8s - loss: 0.0580 - recall_18: 0.981 - ETA: 8s - loss: 0.0579 - recall_18: 0.981 - ETA: 8s - loss: 0.0579 - recall_18: 0.981 - ETA: 7s - loss: 0.0578 - recall_18: 0.981 - ETA: 7s - loss: 0.0581 - recall_18: 0.981 - ETA: 7s - loss: 0.0581 - recall_18: 0.981 - ETA: 7s - loss: 0.0581 - recall_18: 0.981 - ETA: 7s - loss: 0.0581 - recall_18: 0.981 - ETA: 7s - loss: 0.0580 - recall_18: 0.981 - ETA: 7s - loss: 0.0580 - recall_18: 0.981 - ETA: 7s - loss: 0.0580 - recall_18: 0.981 - ETA: 7s - loss: 0.0579 - recall_18: 0.981 - ETA: 7s - loss: 0.0579 - recall_18: 0.981 - ETA: 7s - loss: 0.0579 - recall_18: 0.981 - ETA: 7s - loss: 0.0578 - recall_18: 0.982 - ETA: 7s - loss: 0.0577 - recall_18: 0.982 - ETA: 7s - loss: 0.0578 - recall_18: 0.981 - ETA: 6s - loss: 0.0577 - recall_18: 0.982 - ETA: 6s - loss: 0.0577 - recall_18: 0.982 - ETA: 6s - loss: 0.0578 - recall_18: 0.981 - ETA: 6s - loss: 0.0577 - recall_18: 0.982 - ETA: 6s - loss: 0.0576 - recall_18: 0.982 - ETA: 6s - loss: 0.0575 - recall_18: 0.982 - ETA: 6s - loss: 0.0574 - recall_18: 0.982 - ETA: 6s - loss: 0.0576 - recall_18: 0.982 - ETA: 6s - loss: 0.0575 - recall_18: 0.982 - ETA: 6s - loss: 0.0575 - recall_18: 0.982 - ETA: 6s - loss: 0.0575 - recall_18: 0.982 - ETA: 6s - loss: 0.0575 - recall_18: 0.982 - ETA: 6s - loss: 0.0575 - recall_18: 0.982 - ETA: 6s - loss: 0.0575 - recall_18: 0.982 - ETA: 5s - loss: 0.0576 - recall_18: 0.982 - ETA: 5s - loss: 0.0575 - recall_18: 0.982 - ETA: 5s - loss: 0.0575 - recall_18: 0.982 - ETA: 5s - loss: 0.0575 - recall_18: 0.982 - ETA: 5s - loss: 0.0574 - recall_18: 0.982 - ETA: 5s - loss: 0.0574 - recall_18: 0.982 - ETA: 5s - loss: 0.0573 - recall_18: 0.982 - ETA: 5s - loss: 0.0572 - recall_18: 0.982 - ETA: 5s - loss: 0.0573 - recall_18: 0.982 - ETA: 5s - loss: 0.0572 - recall_18: 0.982 - ETA: 5s - loss: 0.0574 - recall_18: 0.982 - ETA: 5s - loss: 0.0573 - recall_18: 0.982 - ETA: 5s - loss: 0.0573 - recall_18: 0.982 - ETA: 5s - loss: 0.0573 - recall_18: 0.982 - ETA: 5s - loss: 0.0574 - recall_18: 0.982 - ETA: 4s - loss: 0.0573 - recall_18: 0.982 - ETA: 4s - loss: 0.0572 - recall_18: 0.982 - ETA: 4s - loss: 0.0572 - recall_18: 0.982 - ETA: 4s - loss: 0.0572 - recall_18: 0.982 - ETA: 4s - loss: 0.0573 - recall_18: 0.982 - ETA: 4s - loss: 0.0572 - recall_18: 0.982 - ETA: 4s - loss: 0.0571 - recall_18: 0.982 - ETA: 4s - loss: 0.0571 - recall_18: 0.982 - ETA: 4s - loss: 0.0570 - recall_18: 0.982 - ETA: 4s - loss: 0.0570 - recall_18: 0.982 - ETA: 4s - loss: 0.0570 - recall_18: 0.982 - ETA: 4s - loss: 0.0569 - recall_18: 0.982 - ETA: 4s - loss: 0.0568 - recall_18: 0.982 - ETA: 4s - loss: 0.0568 - recall_18: 0.982 - ETA: 4s - loss: 0.0569 - recall_18: 0.982 - ETA: 4s - loss: 0.0568 - recall_18: 0.982 - ETA: 4s - loss: 0.0568 - recall_18: 0.982 - ETA: 3s - loss: 0.0568 - recall_18: 0.982 - ETA: 3s - loss: 0.0569 - recall_18: 0.982 - ETA: 3s - loss: 0.0568 - recall_18: 0.982 - ETA: 3s - loss: 0.0569 - recall_18: 0.982 - ETA: 3s - loss: 0.0568 - recall_18: 0.982 - ETA: 3s - loss: 0.0570 - recall_18: 0.982 - ETA: 3s - loss: 0.0569 - recall_18: 0.982 - ETA: 3s - loss: 0.0571 - recall_18: 0.982 - ETA: 3s - loss: 0.0570 - recall_18: 0.982 - ETA: 3s - loss: 0.0570 - recall_18: 0.982 - ETA: 3s - loss: 0.0570 - recall_18: 0.982 - ETA: 3s - loss: 0.0571 - recall_18: 0.982 - ETA: 3s - loss: 0.0571 - recall_18: 0.982 - ETA: 3s - loss: 0.0571 - recall_18: 0.982 - ETA: 3s - loss: 0.0571 - recall_18: 0.982 - ETA: 3s - loss: 0.0571 - recall_18: 0.982 - ETA: 3s - loss: 0.0571 - recall_18: 0.982 - ETA: 3s - loss: 0.0570 - recall_18: 0.982 - ETA: 3s - loss: 0.0571 - recall_18: 0.982 - ETA: 3s - loss: 0.0572 - recall_18: 0.982 - ETA: 3s - loss: 0.0572 - recall_18: 0.982 - ETA: 3s - loss: 0.0571 - recall_18: 0.982 - ETA: 3s - loss: 0.0571 - recall_18: 0.982 - ETA: 2s - loss: 0.0571 - recall_18: 0.982 - ETA: 2s - loss: 0.0572 - recall_18: 0.982 - ETA: 2s - loss: 0.0572 - recall_18: 0.982 - ETA: 2s - loss: 0.0572 - recall_18: 0.982 - ETA: 2s - loss: 0.0572 - recall_18: 0.982 - ETA: 2s - loss: 0.0573 - recall_18: 0.982 - ETA: 2s - loss: 0.0574 - recall_18: 0.982 - ETA: 2s - loss: 0.0573 - recall_18: 0.982 - ETA: 2s - loss: 0.0574 - recall_18: 0.982 - ETA: 2s - loss: 0.0574 - recall_18: 0.982 - ETA: 2s - loss: 0.0574 - recall_18: 0.982 - ETA: 2s - loss: 0.0574 - recall_18: 0.982 - ETA: 2s - loss: 0.0573 - recall_18: 0.982 - ETA: 2s - loss: 0.0573 - recall_18: 0.982 - ETA: 2s - loss: 0.0572 - recall_18: 0.982 - ETA: 2s - loss: 0.0573 - recall_18: 0.982 - ETA: 2s - loss: 0.0572 - recall_18: 0.982 - ETA: 1s - loss: 0.0572 - recall_18: 0.982 - ETA: 1s - loss: 0.0571 - recall_18: 0.982 - ETA: 1s - loss: 0.0571 - recall_18: 0.982 - ETA: 1s - loss: 0.0570 - recall_18: 0.982 - ETA: 1s - loss: 0.0570 - recall_18: 0.982 - ETA: 1s - loss: 0.0570 - recall_18: 0.982 - ETA: 1s - loss: 0.0569 - recall_18: 0.982 - ETA: 1s - loss: 0.0569 - recall_18: 0.982 - ETA: 1s - loss: 0.0569 - recall_18: 0.982 - ETA: 1s - loss: 0.0570 - recall_18: 0.982 - ETA: 1s - loss: 0.0571 - recall_18: 0.982 - ETA: 1s - loss: 0.0570 - recall_18: 0.982 - ETA: 1s - loss: 0.0572 - recall_18: 0.982 - ETA: 1s - loss: 0.0572 - recall_18: 0.982 - ETA: 1s - loss: 0.0572 - recall_18: 0.982 - ETA: 1s - loss: 0.0572 - recall_18: 0.982 - ETA: 0s - loss: 0.0571 - recall_18: 0.982 - ETA: 0s - loss: 0.0571 - recall_18: 0.982 - ETA: 0s - loss: 0.0571 - recall_18: 0.982 - ETA: 0s - loss: 0.0571 - recall_18: 0.982 - ETA: 0s - loss: 0.0570 - recall_18: 0.982 - ETA: 0s - loss: 0.0571 - recall_18: 0.982 - ETA: 0s - loss: 0.0570 - recall_18: 0.982 - ETA: 0s - loss: 0.0570 - recall_18: 0.982 - ETA: 0s - loss: 0.0570 - recall_18: 0.982 - ETA: 0s - loss: 0.0572 - recall_18: 0.982 - ETA: 0s - loss: 0.0574 - recall_18: 0.982 - ETA: 0s - loss: 0.0574 - recall_18: 0.982 - ETA: 0s - loss: 0.0574 - recall_18: 0.982 - ETA: 0s - loss: 0.0575 - recall_18: 0.982 - ETA: 0s - loss: 0.0574 - recall_18: 0.982 - 37s 611us/sample - loss: 0.0574 - recall_18: 0.9821 - val_loss: 0.4503 - val_recall_18: 0.9341\n",
      "Epoch 2/5\n"
     ]
    },
    {
     "name": "stdout",
     "output_type": "stream",
     "text": [
      "21024/59872 [=========>....................] - ETA: 35s - loss: 0.0072 - recall_18: 1.00 - ETA: 29s - loss: 0.0434 - recall_18: 0.98 - ETA: 27s - loss: 0.0341 - recall_18: 0.98 - ETA: 27s - loss: 0.0397 - recall_18: 0.98 - ETA: 26s - loss: 0.0540 - recall_18: 0.97 - ETA: 27s - loss: 0.0525 - recall_18: 0.97 - ETA: 27s - loss: 0.0487 - recall_18: 0.98 - ETA: 26s - loss: 0.0455 - recall_18: 0.98 - ETA: 26s - loss: 0.0527 - recall_18: 0.98 - ETA: 27s - loss: 0.0564 - recall_18: 0.98 - ETA: 27s - loss: 0.0556 - recall_18: 0.98 - ETA: 27s - loss: 0.0560 - recall_18: 0.98 - ETA: 27s - loss: 0.0615 - recall_18: 0.98 - ETA: 27s - loss: 0.0684 - recall_18: 0.98 - ETA: 27s - loss: 0.0669 - recall_18: 0.98 - ETA: 27s - loss: 0.0647 - recall_18: 0.98 - ETA: 27s - loss: 0.0622 - recall_18: 0.98 - ETA: 27s - loss: 0.0644 - recall_18: 0.98 - ETA: 27s - loss: 0.0626 - recall_18: 0.98 - ETA: 27s - loss: 0.0618 - recall_18: 0.98 - ETA: 27s - loss: 0.0593 - recall_18: 0.98 - ETA: 28s - loss: 0.0576 - recall_18: 0.98 - ETA: 27s - loss: 0.0577 - recall_18: 0.98 - ETA: 27s - loss: 0.0594 - recall_18: 0.98 - ETA: 27s - loss: 0.0601 - recall_18: 0.98 - ETA: 28s - loss: 0.0584 - recall_18: 0.98 - ETA: 27s - loss: 0.0564 - recall_18: 0.98 - ETA: 28s - loss: 0.0557 - recall_18: 0.98 - ETA: 28s - loss: 0.0548 - recall_18: 0.98 - ETA: 27s - loss: 0.0542 - recall_18: 0.98 - ETA: 27s - loss: 0.0527 - recall_18: 0.98 - ETA: 27s - loss: 0.0540 - recall_18: 0.98 - ETA: 27s - loss: 0.0531 - recall_18: 0.98 - ETA: 27s - loss: 0.0541 - recall_18: 0.98 - ETA: 27s - loss: 0.0534 - recall_18: 0.98 - ETA: 27s - loss: 0.0532 - recall_18: 0.98 - ETA: 27s - loss: 0.0537 - recall_18: 0.98 - ETA: 27s - loss: 0.0526 - recall_18: 0.98 - ETA: 27s - loss: 0.0521 - recall_18: 0.98 - ETA: 27s - loss: 0.0519 - recall_18: 0.98 - ETA: 27s - loss: 0.0521 - recall_18: 0.98 - ETA: 27s - loss: 0.0519 - recall_18: 0.98 - ETA: 27s - loss: 0.0516 - recall_18: 0.98 - ETA: 27s - loss: 0.0507 - recall_18: 0.98 - ETA: 27s - loss: 0.0502 - recall_18: 0.98 - ETA: 27s - loss: 0.0505 - recall_18: 0.98 - ETA: 27s - loss: 0.0510 - recall_18: 0.98 - ETA: 27s - loss: 0.0508 - recall_18: 0.98 - ETA: 27s - loss: 0.0505 - recall_18: 0.98 - ETA: 27s - loss: 0.0496 - recall_18: 0.98 - ETA: 27s - loss: 0.0498 - recall_18: 0.98 - ETA: 27s - loss: 0.0496 - recall_18: 0.98 - ETA: 27s - loss: 0.0496 - recall_18: 0.98 - ETA: 27s - loss: 0.0491 - recall_18: 0.98 - ETA: 27s - loss: 0.0491 - recall_18: 0.98 - ETA: 27s - loss: 0.0504 - recall_18: 0.98 - ETA: 27s - loss: 0.0499 - recall_18: 0.98 - ETA: 27s - loss: 0.0499 - recall_18: 0.98 - ETA: 27s - loss: 0.0494 - recall_18: 0.98 - ETA: 27s - loss: 0.0490 - recall_18: 0.98 - ETA: 27s - loss: 0.0493 - recall_18: 0.98 - ETA: 27s - loss: 0.0493 - recall_18: 0.98 - ETA: 27s - loss: 0.0501 - recall_18: 0.98 - ETA: 27s - loss: 0.0512 - recall_18: 0.98 - ETA: 27s - loss: 0.0507 - recall_18: 0.98 - ETA: 26s - loss: 0.0500 - recall_18: 0.98 - ETA: 26s - loss: 0.0497 - recall_18: 0.98 - ETA: 26s - loss: 0.0493 - recall_18: 0.98 - ETA: 26s - loss: 0.0494 - recall_18: 0.98 - ETA: 26s - loss: 0.0497 - recall_18: 0.98 - ETA: 26s - loss: 0.0497 - recall_18: 0.98 - ETA: 26s - loss: 0.0494 - recall_18: 0.98 - ETA: 26s - loss: 0.0493 - recall_18: 0.98 - ETA: 26s - loss: 0.0490 - recall_18: 0.98 - ETA: 26s - loss: 0.0487 - recall_18: 0.98 - ETA: 26s - loss: 0.0500 - recall_18: 0.98 - ETA: 26s - loss: 0.0507 - recall_18: 0.98 - ETA: 26s - loss: 0.0501 - recall_18: 0.98 - ETA: 26s - loss: 0.0507 - recall_18: 0.98 - ETA: 26s - loss: 0.0504 - recall_18: 0.98 - ETA: 25s - loss: 0.0502 - recall_18: 0.98 - ETA: 25s - loss: 0.0503 - recall_18: 0.98 - ETA: 25s - loss: 0.0502 - recall_18: 0.98 - ETA: 25s - loss: 0.0496 - recall_18: 0.98 - ETA: 25s - loss: 0.0498 - recall_18: 0.98 - ETA: 25s - loss: 0.0496 - recall_18: 0.98 - ETA: 25s - loss: 0.0493 - recall_18: 0.98 - ETA: 25s - loss: 0.0495 - recall_18: 0.98 - ETA: 25s - loss: 0.0496 - recall_18: 0.98 - ETA: 25s - loss: 0.0494 - recall_18: 0.98 - ETA: 25s - loss: 0.0490 - recall_18: 0.98 - ETA: 25s - loss: 0.0503 - recall_18: 0.98 - ETA: 24s - loss: 0.0503 - recall_18: 0.98 - ETA: 24s - loss: 0.0500 - recall_18: 0.98 - ETA: 24s - loss: 0.0496 - recall_18: 0.98 - ETA: 24s - loss: 0.0506 - recall_18: 0.98 - ETA: 24s - loss: 0.0509 - recall_18: 0.98 - ETA: 24s - loss: 0.0510 - recall_18: 0.98 - ETA: 24s - loss: 0.0511 - recall_18: 0.98 - ETA: 24s - loss: 0.0510 - recall_18: 0.98 - ETA: 24s - loss: 0.0511 - recall_18: 0.98 - ETA: 24s - loss: 0.0507 - recall_18: 0.98 - ETA: 24s - loss: 0.0508 - recall_18: 0.98 - ETA: 24s - loss: 0.0506 - recall_18: 0.98 - ETA: 24s - loss: 0.0506 - recall_18: 0.98 - ETA: 24s - loss: 0.0507 - recall_18: 0.98 - ETA: 24s - loss: 0.0505 - recall_18: 0.98 - ETA: 23s - loss: 0.0503 - recall_18: 0.98 - ETA: 23s - loss: 0.0500 - recall_18: 0.98 - ETA: 23s - loss: 0.0497 - recall_18: 0.98 - ETA: 23s - loss: 0.0495 - recall_18: 0.98 - ETA: 23s - loss: 0.0495 - recall_18: 0.98 - ETA: 23s - loss: 0.0496 - recall_18: 0.98 - ETA: 23s - loss: 0.0493 - recall_18: 0.98 - ETA: 23s - loss: 0.0492 - recall_18: 0.98 - ETA: 23s - loss: 0.0494 - recall_18: 0.98 - ETA: 23s - loss: 0.0493 - recall_18: 0.98 - ETA: 23s - loss: 0.0490 - recall_18: 0.98 - ETA: 23s - loss: 0.0489 - recall_18: 0.98 - ETA: 23s - loss: 0.0487 - recall_18: 0.98 - ETA: 23s - loss: 0.0487 - recall_18: 0.98 - ETA: 23s - loss: 0.0489 - recall_18: 0.98 - ETA: 23s - loss: 0.0489 - recall_18: 0.98 - ETA: 23s - loss: 0.0489 - recall_18: 0.98 - ETA: 23s - loss: 0.0486 - recall_18: 0.98 - ETA: 23s - loss: 0.0485 - recall_18: 0.98 - ETA: 23s - loss: 0.0482 - recall_18: 0.98 - ETA: 23s - loss: 0.0480 - recall_18: 0.98 - ETA: 23s - loss: 0.0479 - recall_18: 0.98 - ETA: 23s - loss: 0.0476 - recall_18: 0.98 - ETA: 23s - loss: 0.0474 - recall_18: 0.98 - ETA: 23s - loss: 0.0474 - recall_18: 0.98 - ETA: 23s - loss: 0.0474 - recall_18: 0.98 - ETA: 23s - loss: 0.0473 - recall_18: 0.98 - ETA: 22s - loss: 0.0474 - recall_18: 0.98 - ETA: 22s - loss: 0.0472 - recall_18: 0.98 - ETA: 22s - loss: 0.0471 - recall_18: 0.98 - ETA: 22s - loss: 0.0471 - recall_18: 0.98 - ETA: 22s - loss: 0.0471 - recall_18: 0.98 - ETA: 22s - loss: 0.0470 - recall_18: 0.98 - ETA: 22s - loss: 0.0477 - recall_18: 0.98 - ETA: 22s - loss: 0.0475 - recall_18: 0.98 - ETA: 22s - loss: 0.0474 - recall_18: 0.98 - ETA: 22s - loss: 0.0474 - recall_18: 0.98 - ETA: 22s - loss: 0.0475 - recall_18: 0.98 - ETA: 22s - loss: 0.0476 - recall_18: 0.98 - ETA: 22s - loss: 0.0479 - recall_18: 0.98 - ETA: 22s - loss: 0.0477 - recall_18: 0.98 - ETA: 22s - loss: 0.0474 - recall_18: 0.98 - ETA: 22s - loss: 0.0475 - recall_18: 0.98 - ETA: 22s - loss: 0.0473 - recall_18: 0.98 - ETA: 21s - loss: 0.0471 - recall_18: 0.98 - ETA: 21s - loss: 0.0471 - recall_18: 0.98 - ETA: 21s - loss: 0.0469 - recall_18: 0.98 - ETA: 21s - loss: 0.0468 - recall_18: 0.98 - ETA: 21s - loss: 0.0469 - recall_18: 0.98 - ETA: 21s - loss: 0.0470 - recall_18: 0.98 - ETA: 21s - loss: 0.0473 - recall_18: 0.98 - ETA: 21s - loss: 0.0470 - recall_18: 0.98 - ETA: 21s - loss: 0.0471 - recall_18: 0.98 - ETA: 21s - loss: 0.0470 - recall_18: 0.98 - ETA: 21s - loss: 0.0468 - recall_18: 0.98 - ETA: 21s - loss: 0.0470 - recall_18: 0.98 - ETA: 21s - loss: 0.0472 - recall_18: 0.98 - ETA: 21s - loss: 0.0470 - recall_18: 0.98 - ETA: 21s - loss: 0.0474 - recall_18: 0.98 - ETA: 21s - loss: 0.0472 - recall_18: 0.98 - ETA: 21s - loss: 0.0477 - recall_18: 0.98 - ETA: 21s - loss: 0.0475 - recall_18: 0.98 - ETA: 20s - loss: 0.0473 - recall_18: 0.98 - ETA: 20s - loss: 0.0471 - recall_18: 0.98 - ETA: 20s - loss: 0.0471 - recall_18: 0.98 - ETA: 20s - loss: 0.0471 - recall_18: 0.98 - ETA: 20s - loss: 0.0472 - recall_18: 0.98 - ETA: 20s - loss: 0.0470 - recall_18: 0.98 - ETA: 20s - loss: 0.0470 - recall_18: 0.98 - ETA: 20s - loss: 0.0470 - recall_18: 0.98 - ETA: 20s - loss: 0.0469 - recall_18: 0.98 - ETA: 20s - loss: 0.0467 - recall_18: 0.98 - ETA: 20s - loss: 0.0467 - recall_18: 0.98 - ETA: 20s - loss: 0.0466 - recall_18: 0.98 - ETA: 20s - loss: 0.0466 - recall_18: 0.98 - ETA: 20s - loss: 0.0470 - recall_18: 0.98 - ETA: 20s - loss: 0.0468 - recall_18: 0.98 - ETA: 20s - loss: 0.0470 - recall_18: 0.98 - ETA: 19s - loss: 0.0470 - recall_18: 0.985442112/59872 [====================>.........] - ETA: 19s - loss: 0.0475 - recall_18: 0.98 - ETA: 19s - loss: 0.0477 - recall_18: 0.98 - ETA: 19s - loss: 0.0475 - recall_18: 0.98 - ETA: 19s - loss: 0.0475 - recall_18: 0.98 - ETA: 19s - loss: 0.0477 - recall_18: 0.98 - ETA: 19s - loss: 0.0475 - recall_18: 0.98 - ETA: 19s - loss: 0.0479 - recall_18: 0.98 - ETA: 19s - loss: 0.0478 - recall_18: 0.98 - ETA: 19s - loss: 0.0477 - recall_18: 0.98 - ETA: 19s - loss: 0.0478 - recall_18: 0.98 - ETA: 19s - loss: 0.0478 - recall_18: 0.98 - ETA: 19s - loss: 0.0476 - recall_18: 0.98 - ETA: 19s - loss: 0.0477 - recall_18: 0.98 - ETA: 19s - loss: 0.0479 - recall_18: 0.98 - ETA: 19s - loss: 0.0479 - recall_18: 0.98 - ETA: 19s - loss: 0.0479 - recall_18: 0.98 - ETA: 19s - loss: 0.0479 - recall_18: 0.98 - ETA: 18s - loss: 0.0478 - recall_18: 0.98 - ETA: 18s - loss: 0.0478 - recall_18: 0.98 - ETA: 18s - loss: 0.0479 - recall_18: 0.98 - ETA: 18s - loss: 0.0479 - recall_18: 0.98 - ETA: 18s - loss: 0.0479 - recall_18: 0.98 - ETA: 18s - loss: 0.0479 - recall_18: 0.98 - ETA: 18s - loss: 0.0481 - recall_18: 0.98 - ETA: 18s - loss: 0.0483 - recall_18: 0.98 - ETA: 18s - loss: 0.0485 - recall_18: 0.98 - ETA: 18s - loss: 0.0487 - recall_18: 0.98 - ETA: 18s - loss: 0.0486 - recall_18: 0.98 - ETA: 18s - loss: 0.0485 - recall_18: 0.98 - ETA: 18s - loss: 0.0484 - recall_18: 0.98 - ETA: 18s - loss: 0.0483 - recall_18: 0.98 - ETA: 18s - loss: 0.0482 - recall_18: 0.98 - ETA: 18s - loss: 0.0481 - recall_18: 0.98 - ETA: 18s - loss: 0.0482 - recall_18: 0.98 - ETA: 17s - loss: 0.0484 - recall_18: 0.98 - ETA: 17s - loss: 0.0483 - recall_18: 0.98 - ETA: 17s - loss: 0.0482 - recall_18: 0.98 - ETA: 17s - loss: 0.0483 - recall_18: 0.98 - ETA: 17s - loss: 0.0483 - recall_18: 0.98 - ETA: 17s - loss: 0.0481 - recall_18: 0.98 - ETA: 17s - loss: 0.0483 - recall_18: 0.98 - ETA: 17s - loss: 0.0482 - recall_18: 0.98 - ETA: 17s - loss: 0.0481 - recall_18: 0.98 - ETA: 17s - loss: 0.0479 - recall_18: 0.98 - ETA: 17s - loss: 0.0479 - recall_18: 0.98 - ETA: 17s - loss: 0.0479 - recall_18: 0.98 - ETA: 17s - loss: 0.0478 - recall_18: 0.98 - ETA: 17s - loss: 0.0477 - recall_18: 0.98 - ETA: 17s - loss: 0.0477 - recall_18: 0.98 - ETA: 17s - loss: 0.0479 - recall_18: 0.98 - ETA: 17s - loss: 0.0477 - recall_18: 0.98 - ETA: 17s - loss: 0.0476 - recall_18: 0.98 - ETA: 16s - loss: 0.0476 - recall_18: 0.98 - ETA: 16s - loss: 0.0476 - recall_18: 0.98 - ETA: 16s - loss: 0.0475 - recall_18: 0.98 - ETA: 16s - loss: 0.0473 - recall_18: 0.98 - ETA: 16s - loss: 0.0476 - recall_18: 0.98 - ETA: 16s - loss: 0.0475 - recall_18: 0.98 - ETA: 16s - loss: 0.0474 - recall_18: 0.98 - ETA: 16s - loss: 0.0473 - recall_18: 0.98 - ETA: 16s - loss: 0.0472 - recall_18: 0.98 - ETA: 16s - loss: 0.0471 - recall_18: 0.98 - ETA: 16s - loss: 0.0470 - recall_18: 0.98 - ETA: 16s - loss: 0.0472 - recall_18: 0.98 - ETA: 16s - loss: 0.0470 - recall_18: 0.98 - ETA: 16s - loss: 0.0469 - recall_18: 0.98 - ETA: 16s - loss: 0.0468 - recall_18: 0.98 - ETA: 16s - loss: 0.0467 - recall_18: 0.98 - ETA: 16s - loss: 0.0465 - recall_18: 0.98 - ETA: 15s - loss: 0.0465 - recall_18: 0.98 - ETA: 15s - loss: 0.0464 - recall_18: 0.98 - ETA: 15s - loss: 0.0464 - recall_18: 0.98 - ETA: 15s - loss: 0.0462 - recall_18: 0.98 - ETA: 15s - loss: 0.0461 - recall_18: 0.98 - ETA: 15s - loss: 0.0461 - recall_18: 0.98 - ETA: 15s - loss: 0.0460 - recall_18: 0.98 - ETA: 15s - loss: 0.0459 - recall_18: 0.98 - ETA: 15s - loss: 0.0458 - recall_18: 0.98 - ETA: 15s - loss: 0.0458 - recall_18: 0.98 - ETA: 15s - loss: 0.0458 - recall_18: 0.98 - ETA: 15s - loss: 0.0457 - recall_18: 0.98 - ETA: 15s - loss: 0.0456 - recall_18: 0.98 - ETA: 15s - loss: 0.0456 - recall_18: 0.98 - ETA: 15s - loss: 0.0455 - recall_18: 0.98 - ETA: 15s - loss: 0.0455 - recall_18: 0.98 - ETA: 15s - loss: 0.0457 - recall_18: 0.98 - ETA: 14s - loss: 0.0457 - recall_18: 0.98 - ETA: 14s - loss: 0.0456 - recall_18: 0.98 - ETA: 14s - loss: 0.0455 - recall_18: 0.98 - ETA: 14s - loss: 0.0454 - recall_18: 0.98 - ETA: 14s - loss: 0.0454 - recall_18: 0.98 - ETA: 14s - loss: 0.0455 - recall_18: 0.98 - ETA: 14s - loss: 0.0456 - recall_18: 0.98 - ETA: 14s - loss: 0.0455 - recall_18: 0.98 - ETA: 14s - loss: 0.0458 - recall_18: 0.98 - ETA: 14s - loss: 0.0459 - recall_18: 0.98 - ETA: 14s - loss: 0.0460 - recall_18: 0.98 - ETA: 14s - loss: 0.0462 - recall_18: 0.98 - ETA: 14s - loss: 0.0461 - recall_18: 0.98 - ETA: 14s - loss: 0.0460 - recall_18: 0.98 - ETA: 14s - loss: 0.0459 - recall_18: 0.98 - ETA: 14s - loss: 0.0458 - recall_18: 0.98 - ETA: 14s - loss: 0.0458 - recall_18: 0.98 - ETA: 14s - loss: 0.0458 - recall_18: 0.98 - ETA: 13s - loss: 0.0458 - recall_18: 0.98 - ETA: 13s - loss: 0.0459 - recall_18: 0.98 - ETA: 13s - loss: 0.0458 - recall_18: 0.98 - ETA: 13s - loss: 0.0459 - recall_18: 0.98 - ETA: 13s - loss: 0.0458 - recall_18: 0.98 - ETA: 13s - loss: 0.0457 - recall_18: 0.98 - ETA: 13s - loss: 0.0457 - recall_18: 0.98 - ETA: 13s - loss: 0.0458 - recall_18: 0.98 - ETA: 13s - loss: 0.0457 - recall_18: 0.98 - ETA: 13s - loss: 0.0458 - recall_18: 0.98 - ETA: 13s - loss: 0.0457 - recall_18: 0.98 - ETA: 13s - loss: 0.0456 - recall_18: 0.98 - ETA: 13s - loss: 0.0460 - recall_18: 0.98 - ETA: 13s - loss: 0.0459 - recall_18: 0.98 - ETA: 13s - loss: 0.0458 - recall_18: 0.98 - ETA: 13s - loss: 0.0459 - recall_18: 0.98 - ETA: 13s - loss: 0.0458 - recall_18: 0.98 - ETA: 12s - loss: 0.0461 - recall_18: 0.98 - ETA: 12s - loss: 0.0461 - recall_18: 0.98 - ETA: 12s - loss: 0.0461 - recall_18: 0.98 - ETA: 12s - loss: 0.0463 - recall_18: 0.98 - ETA: 12s - loss: 0.0463 - recall_18: 0.98 - ETA: 12s - loss: 0.0463 - recall_18: 0.98 - ETA: 12s - loss: 0.0464 - recall_18: 0.98 - ETA: 12s - loss: 0.0463 - recall_18: 0.98 - ETA: 12s - loss: 0.0463 - recall_18: 0.98 - ETA: 12s - loss: 0.0462 - recall_18: 0.98 - ETA: 12s - loss: 0.0462 - recall_18: 0.98 - ETA: 12s - loss: 0.0461 - recall_18: 0.98 - ETA: 12s - loss: 0.0461 - recall_18: 0.98 - ETA: 12s - loss: 0.0460 - recall_18: 0.98 - ETA: 12s - loss: 0.0460 - recall_18: 0.98 - ETA: 12s - loss: 0.0461 - recall_18: 0.98 - ETA: 12s - loss: 0.0460 - recall_18: 0.98 - ETA: 12s - loss: 0.0459 - recall_18: 0.98 - ETA: 12s - loss: 0.0458 - recall_18: 0.98 - ETA: 11s - loss: 0.0458 - recall_18: 0.98 - ETA: 11s - loss: 0.0457 - recall_18: 0.98 - ETA: 11s - loss: 0.0457 - recall_18: 0.98 - ETA: 11s - loss: 0.0458 - recall_18: 0.98 - ETA: 11s - loss: 0.0459 - recall_18: 0.98 - ETA: 11s - loss: 0.0459 - recall_18: 0.98 - ETA: 11s - loss: 0.0459 - recall_18: 0.98 - ETA: 11s - loss: 0.0461 - recall_18: 0.98 - ETA: 11s - loss: 0.0461 - recall_18: 0.98 - ETA: 11s - loss: 0.0461 - recall_18: 0.98 - ETA: 11s - loss: 0.0460 - recall_18: 0.98 - ETA: 11s - loss: 0.0462 - recall_18: 0.98 - ETA: 11s - loss: 0.0461 - recall_18: 0.98 - ETA: 11s - loss: 0.0463 - recall_18: 0.98 - ETA: 11s - loss: 0.0463 - recall_18: 0.98 - ETA: 11s - loss: 0.0463 - recall_18: 0.98 - ETA: 10s - loss: 0.0465 - recall_18: 0.98 - ETA: 10s - loss: 0.0464 - recall_18: 0.98 - ETA: 10s - loss: 0.0467 - recall_18: 0.98 - ETA: 10s - loss: 0.0466 - recall_18: 0.98 - ETA: 10s - loss: 0.0465 - recall_18: 0.98 - ETA: 10s - loss: 0.0465 - recall_18: 0.98 - ETA: 10s - loss: 0.0466 - recall_18: 0.98 - ETA: 10s - loss: 0.0465 - recall_18: 0.98 - ETA: 10s - loss: 0.0465 - recall_18: 0.98 - ETA: 10s - loss: 0.0464 - recall_18: 0.98 - ETA: 10s - loss: 0.0464 - recall_18: 0.98 - ETA: 10s - loss: 0.0463 - recall_18: 0.98 - ETA: 10s - loss: 0.0462 - recall_18: 0.98 - ETA: 10s - loss: 0.0462 - recall_18: 0.98 - ETA: 10s - loss: 0.0463 - recall_18: 0.98 - ETA: 9s - loss: 0.0465 - recall_18: 0.9856 - ETA: 9s - loss: 0.0465 - recall_18: 0.985 - ETA: 9s - loss: 0.0465 - recall_18: 0.985 - ETA: 9s - loss: 0.0466 - recall_18: 0.985 - ETA: 9s - loss: 0.0466 - recall_18: 0.985 - ETA: 9s - loss: 0.0468 - recall_18: 0.985 - ETA: 9s - loss: 0.0467 - recall_18: 0.985 - ETA: 9s - loss: 0.0467 - recall_18: 0.985 - ETA: 9s - loss: 0.0466 - recall_18: 0.985 - ETA: 9s - loss: 0.0465 - recall_18: 0.985 - ETA: 9s - loss: 0.0465 - recall_18: 0.985 - ETA: 9s - loss: 0.0466 - recall_18: 0.985 - ETA: 9s - loss: 0.0466 - recall_18: 0.985 - ETA: 9s - loss: 0.0465 - recall_18: 0.985 - ETA: 9s - loss: 0.0466 - recall_18: 0.9856"
     ]
    },
    {
     "name": "stdout",
     "output_type": "stream",
     "text": [
      "59872/59872 [==============================] - ETA: 9s - loss: 0.0468 - recall_18: 0.985 - ETA: 9s - loss: 0.0468 - recall_18: 0.985 - ETA: 8s - loss: 0.0467 - recall_18: 0.985 - ETA: 8s - loss: 0.0468 - recall_18: 0.985 - ETA: 8s - loss: 0.0469 - recall_18: 0.985 - ETA: 8s - loss: 0.0469 - recall_18: 0.985 - ETA: 8s - loss: 0.0469 - recall_18: 0.985 - ETA: 8s - loss: 0.0469 - recall_18: 0.985 - ETA: 8s - loss: 0.0469 - recall_18: 0.985 - ETA: 8s - loss: 0.0470 - recall_18: 0.985 - ETA: 8s - loss: 0.0470 - recall_18: 0.985 - ETA: 8s - loss: 0.0469 - recall_18: 0.985 - ETA: 8s - loss: 0.0468 - recall_18: 0.985 - ETA: 8s - loss: 0.0468 - recall_18: 0.985 - ETA: 8s - loss: 0.0467 - recall_18: 0.985 - ETA: 8s - loss: 0.0467 - recall_18: 0.985 - ETA: 8s - loss: 0.0467 - recall_18: 0.985 - ETA: 8s - loss: 0.0468 - recall_18: 0.985 - ETA: 8s - loss: 0.0467 - recall_18: 0.985 - ETA: 7s - loss: 0.0466 - recall_18: 0.985 - ETA: 7s - loss: 0.0466 - recall_18: 0.985 - ETA: 7s - loss: 0.0467 - recall_18: 0.985 - ETA: 7s - loss: 0.0466 - recall_18: 0.985 - ETA: 7s - loss: 0.0466 - recall_18: 0.985 - ETA: 7s - loss: 0.0466 - recall_18: 0.985 - ETA: 7s - loss: 0.0465 - recall_18: 0.985 - ETA: 7s - loss: 0.0466 - recall_18: 0.985 - ETA: 7s - loss: 0.0465 - recall_18: 0.985 - ETA: 7s - loss: 0.0466 - recall_18: 0.985 - ETA: 7s - loss: 0.0466 - recall_18: 0.985 - ETA: 7s - loss: 0.0466 - recall_18: 0.985 - ETA: 7s - loss: 0.0466 - recall_18: 0.985 - ETA: 7s - loss: 0.0466 - recall_18: 0.985 - ETA: 7s - loss: 0.0467 - recall_18: 0.985 - ETA: 7s - loss: 0.0466 - recall_18: 0.985 - ETA: 7s - loss: 0.0465 - recall_18: 0.985 - ETA: 7s - loss: 0.0466 - recall_18: 0.985 - ETA: 6s - loss: 0.0466 - recall_18: 0.985 - ETA: 6s - loss: 0.0466 - recall_18: 0.985 - ETA: 6s - loss: 0.0467 - recall_18: 0.985 - ETA: 6s - loss: 0.0467 - recall_18: 0.985 - ETA: 6s - loss: 0.0467 - recall_18: 0.985 - ETA: 6s - loss: 0.0467 - recall_18: 0.985 - ETA: 6s - loss: 0.0468 - recall_18: 0.985 - ETA: 6s - loss: 0.0468 - recall_18: 0.985 - ETA: 6s - loss: 0.0469 - recall_18: 0.985 - ETA: 6s - loss: 0.0470 - recall_18: 0.985 - ETA: 6s - loss: 0.0470 - recall_18: 0.985 - ETA: 6s - loss: 0.0471 - recall_18: 0.985 - ETA: 6s - loss: 0.0471 - recall_18: 0.985 - ETA: 6s - loss: 0.0471 - recall_18: 0.985 - ETA: 6s - loss: 0.0470 - recall_18: 0.985 - ETA: 6s - loss: 0.0470 - recall_18: 0.985 - ETA: 5s - loss: 0.0469 - recall_18: 0.985 - ETA: 5s - loss: 0.0469 - recall_18: 0.985 - ETA: 5s - loss: 0.0469 - recall_18: 0.985 - ETA: 5s - loss: 0.0469 - recall_18: 0.985 - ETA: 5s - loss: 0.0468 - recall_18: 0.985 - ETA: 5s - loss: 0.0468 - recall_18: 0.985 - ETA: 5s - loss: 0.0468 - recall_18: 0.985 - ETA: 5s - loss: 0.0467 - recall_18: 0.985 - ETA: 5s - loss: 0.0468 - recall_18: 0.985 - ETA: 5s - loss: 0.0469 - recall_18: 0.985 - ETA: 5s - loss: 0.0468 - recall_18: 0.985 - ETA: 5s - loss: 0.0470 - recall_18: 0.985 - ETA: 5s - loss: 0.0470 - recall_18: 0.985 - ETA: 5s - loss: 0.0470 - recall_18: 0.985 - ETA: 5s - loss: 0.0470 - recall_18: 0.985 - ETA: 5s - loss: 0.0471 - recall_18: 0.985 - ETA: 4s - loss: 0.0470 - recall_18: 0.985 - ETA: 4s - loss: 0.0470 - recall_18: 0.985 - ETA: 4s - loss: 0.0470 - recall_18: 0.985 - ETA: 4s - loss: 0.0470 - recall_18: 0.985 - ETA: 4s - loss: 0.0470 - recall_18: 0.985 - ETA: 4s - loss: 0.0470 - recall_18: 0.985 - ETA: 4s - loss: 0.0471 - recall_18: 0.985 - ETA: 4s - loss: 0.0470 - recall_18: 0.985 - ETA: 4s - loss: 0.0469 - recall_18: 0.985 - ETA: 4s - loss: 0.0469 - recall_18: 0.985 - ETA: 4s - loss: 0.0468 - recall_18: 0.985 - ETA: 4s - loss: 0.0471 - recall_18: 0.985 - ETA: 4s - loss: 0.0471 - recall_18: 0.985 - ETA: 4s - loss: 0.0474 - recall_18: 0.985 - ETA: 4s - loss: 0.0473 - recall_18: 0.985 - ETA: 4s - loss: 0.0474 - recall_18: 0.985 - ETA: 4s - loss: 0.0474 - recall_18: 0.985 - ETA: 4s - loss: 0.0474 - recall_18: 0.985 - ETA: 3s - loss: 0.0473 - recall_18: 0.985 - ETA: 3s - loss: 0.0473 - recall_18: 0.985 - ETA: 3s - loss: 0.0474 - recall_18: 0.985 - ETA: 3s - loss: 0.0474 - recall_18: 0.985 - ETA: 3s - loss: 0.0476 - recall_18: 0.985 - ETA: 3s - loss: 0.0475 - recall_18: 0.985 - ETA: 3s - loss: 0.0478 - recall_18: 0.985 - ETA: 3s - loss: 0.0478 - recall_18: 0.985 - ETA: 3s - loss: 0.0478 - recall_18: 0.985 - ETA: 3s - loss: 0.0478 - recall_18: 0.985 - ETA: 3s - loss: 0.0478 - recall_18: 0.985 - ETA: 3s - loss: 0.0478 - recall_18: 0.985 - ETA: 3s - loss: 0.0478 - recall_18: 0.985 - ETA: 3s - loss: 0.0478 - recall_18: 0.985 - ETA: 3s - loss: 0.0478 - recall_18: 0.985 - ETA: 3s - loss: 0.0482 - recall_18: 0.985 - ETA: 3s - loss: 0.0484 - recall_18: 0.985 - ETA: 3s - loss: 0.0483 - recall_18: 0.985 - ETA: 3s - loss: 0.0483 - recall_18: 0.985 - ETA: 2s - loss: 0.0482 - recall_18: 0.985 - ETA: 2s - loss: 0.0484 - recall_18: 0.985 - ETA: 2s - loss: 0.0484 - recall_18: 0.985 - ETA: 2s - loss: 0.0484 - recall_18: 0.985 - ETA: 2s - loss: 0.0484 - recall_18: 0.985 - ETA: 2s - loss: 0.0485 - recall_18: 0.985 - ETA: 2s - loss: 0.0484 - recall_18: 0.985 - ETA: 2s - loss: 0.0485 - recall_18: 0.985 - ETA: 2s - loss: 0.0485 - recall_18: 0.985 - ETA: 2s - loss: 0.0486 - recall_18: 0.985 - ETA: 2s - loss: 0.0486 - recall_18: 0.985 - ETA: 2s - loss: 0.0486 - recall_18: 0.985 - ETA: 2s - loss: 0.0485 - recall_18: 0.985 - ETA: 2s - loss: 0.0486 - recall_18: 0.985 - ETA: 2s - loss: 0.0486 - recall_18: 0.985 - ETA: 2s - loss: 0.0486 - recall_18: 0.985 - ETA: 2s - loss: 0.0486 - recall_18: 0.985 - ETA: 1s - loss: 0.0485 - recall_18: 0.985 - ETA: 1s - loss: 0.0485 - recall_18: 0.985 - ETA: 1s - loss: 0.0486 - recall_18: 0.985 - ETA: 1s - loss: 0.0486 - recall_18: 0.985 - ETA: 1s - loss: 0.0486 - recall_18: 0.985 - ETA: 1s - loss: 0.0485 - recall_18: 0.985 - ETA: 1s - loss: 0.0486 - recall_18: 0.985 - ETA: 1s - loss: 0.0486 - recall_18: 0.985 - ETA: 1s - loss: 0.0486 - recall_18: 0.985 - ETA: 1s - loss: 0.0486 - recall_18: 0.985 - ETA: 1s - loss: 0.0485 - recall_18: 0.985 - ETA: 1s - loss: 0.0485 - recall_18: 0.985 - ETA: 1s - loss: 0.0485 - recall_18: 0.985 - ETA: 1s - loss: 0.0484 - recall_18: 0.985 - ETA: 1s - loss: 0.0484 - recall_18: 0.985 - ETA: 1s - loss: 0.0485 - recall_18: 0.985 - ETA: 1s - loss: 0.0484 - recall_18: 0.985 - ETA: 1s - loss: 0.0484 - recall_18: 0.985 - ETA: 0s - loss: 0.0483 - recall_18: 0.985 - ETA: 0s - loss: 0.0487 - recall_18: 0.985 - ETA: 0s - loss: 0.0487 - recall_18: 0.985 - ETA: 0s - loss: 0.0490 - recall_18: 0.985 - ETA: 0s - loss: 0.0492 - recall_18: 0.985 - ETA: 0s - loss: 0.0492 - recall_18: 0.985 - ETA: 0s - loss: 0.0491 - recall_18: 0.985 - ETA: 0s - loss: 0.0491 - recall_18: 0.985 - ETA: 0s - loss: 0.0490 - recall_18: 0.985 - ETA: 0s - loss: 0.0490 - recall_18: 0.985 - ETA: 0s - loss: 0.0489 - recall_18: 0.985 - ETA: 0s - loss: 0.0489 - recall_18: 0.985 - ETA: 0s - loss: 0.0489 - recall_18: 0.985 - ETA: 0s - loss: 0.0489 - recall_18: 0.985 - ETA: 0s - loss: 0.0489 - recall_18: 0.985 - ETA: 0s - loss: 0.0490 - recall_18: 0.985 - ETA: 0s - loss: 0.0489 - recall_18: 0.985 - 32s 536us/sample - loss: 0.0489 - recall_18: 0.9853 - val_loss: 0.4746 - val_recall_18: 0.9312\n",
      "Epoch 3/5\n"
     ]
    },
    {
     "name": "stdout",
     "output_type": "stream",
     "text": [
      "20736/59872 [=========>....................] - ETA: 41s - loss: 0.0166 - recall_18: 1.00 - ETA: 30s - loss: 0.0279 - recall_18: 0.99 - ETA: 30s - loss: 0.0338 - recall_18: 0.98 - ETA: 30s - loss: 0.0327 - recall_18: 0.98 - ETA: 29s - loss: 0.0286 - recall_18: 0.99 - ETA: 29s - loss: 0.0382 - recall_18: 0.98 - ETA: 29s - loss: 0.0354 - recall_18: 0.98 - ETA: 28s - loss: 0.0325 - recall_18: 0.98 - ETA: 28s - loss: 0.0340 - recall_18: 0.98 - ETA: 28s - loss: 0.0337 - recall_18: 0.98 - ETA: 28s - loss: 0.0370 - recall_18: 0.98 - ETA: 28s - loss: 0.0356 - recall_18: 0.98 - ETA: 28s - loss: 0.0344 - recall_18: 0.98 - ETA: 28s - loss: 0.0380 - recall_18: 0.98 - ETA: 28s - loss: 0.0379 - recall_18: 0.98 - ETA: 28s - loss: 0.0405 - recall_18: 0.98 - ETA: 29s - loss: 0.0404 - recall_18: 0.98 - ETA: 29s - loss: 0.0408 - recall_18: 0.98 - ETA: 30s - loss: 0.0402 - recall_18: 0.98 - ETA: 29s - loss: 0.0399 - recall_18: 0.98 - ETA: 29s - loss: 0.0401 - recall_18: 0.98 - ETA: 29s - loss: 0.0395 - recall_18: 0.98 - ETA: 29s - loss: 0.0403 - recall_18: 0.98 - ETA: 29s - loss: 0.0402 - recall_18: 0.98 - ETA: 29s - loss: 0.0405 - recall_18: 0.98 - ETA: 29s - loss: 0.0415 - recall_18: 0.98 - ETA: 28s - loss: 0.0436 - recall_18: 0.98 - ETA: 28s - loss: 0.0426 - recall_18: 0.98 - ETA: 28s - loss: 0.0431 - recall_18: 0.98 - ETA: 28s - loss: 0.0432 - recall_18: 0.98 - ETA: 28s - loss: 0.0425 - recall_18: 0.98 - ETA: 28s - loss: 0.0426 - recall_18: 0.98 - ETA: 28s - loss: 0.0420 - recall_18: 0.98 - ETA: 28s - loss: 0.0414 - recall_18: 0.98 - ETA: 28s - loss: 0.0437 - recall_18: 0.98 - ETA: 28s - loss: 0.0430 - recall_18: 0.98 - ETA: 28s - loss: 0.0429 - recall_18: 0.98 - ETA: 28s - loss: 0.0419 - recall_18: 0.98 - ETA: 28s - loss: 0.0418 - recall_18: 0.98 - ETA: 28s - loss: 0.0412 - recall_18: 0.98 - ETA: 28s - loss: 0.0412 - recall_18: 0.98 - ETA: 28s - loss: 0.0405 - recall_18: 0.98 - ETA: 28s - loss: 0.0401 - recall_18: 0.98 - ETA: 28s - loss: 0.0403 - recall_18: 0.98 - ETA: 28s - loss: 0.0409 - recall_18: 0.98 - ETA: 28s - loss: 0.0419 - recall_18: 0.98 - ETA: 28s - loss: 0.0436 - recall_18: 0.98 - ETA: 28s - loss: 0.0446 - recall_18: 0.98 - ETA: 28s - loss: 0.0449 - recall_18: 0.98 - ETA: 28s - loss: 0.0444 - recall_18: 0.98 - ETA: 28s - loss: 0.0436 - recall_18: 0.98 - ETA: 27s - loss: 0.0431 - recall_18: 0.98 - ETA: 27s - loss: 0.0427 - recall_18: 0.98 - ETA: 27s - loss: 0.0426 - recall_18: 0.98 - ETA: 27s - loss: 0.0427 - recall_18: 0.98 - ETA: 27s - loss: 0.0423 - recall_18: 0.98 - ETA: 27s - loss: 0.0417 - recall_18: 0.98 - ETA: 27s - loss: 0.0418 - recall_18: 0.98 - ETA: 27s - loss: 0.0419 - recall_18: 0.98 - ETA: 27s - loss: 0.0432 - recall_18: 0.98 - ETA: 27s - loss: 0.0428 - recall_18: 0.98 - ETA: 27s - loss: 0.0426 - recall_18: 0.98 - ETA: 27s - loss: 0.0424 - recall_18: 0.98 - ETA: 27s - loss: 0.0422 - recall_18: 0.98 - ETA: 27s - loss: 0.0425 - recall_18: 0.98 - ETA: 27s - loss: 0.0421 - recall_18: 0.98 - ETA: 27s - loss: 0.0435 - recall_18: 0.98 - ETA: 27s - loss: 0.0436 - recall_18: 0.98 - ETA: 26s - loss: 0.0435 - recall_18: 0.98 - ETA: 26s - loss: 0.0447 - recall_18: 0.98 - ETA: 26s - loss: 0.0443 - recall_18: 0.98 - ETA: 26s - loss: 0.0447 - recall_18: 0.98 - ETA: 26s - loss: 0.0444 - recall_18: 0.98 - ETA: 26s - loss: 0.0439 - recall_18: 0.98 - ETA: 26s - loss: 0.0436 - recall_18: 0.98 - ETA: 26s - loss: 0.0438 - recall_18: 0.98 - ETA: 26s - loss: 0.0436 - recall_18: 0.98 - ETA: 26s - loss: 0.0433 - recall_18: 0.98 - ETA: 26s - loss: 0.0431 - recall_18: 0.98 - ETA: 26s - loss: 0.0430 - recall_18: 0.98 - ETA: 26s - loss: 0.0427 - recall_18: 0.98 - ETA: 26s - loss: 0.0427 - recall_18: 0.98 - ETA: 26s - loss: 0.0428 - recall_18: 0.98 - ETA: 26s - loss: 0.0424 - recall_18: 0.98 - ETA: 26s - loss: 0.0424 - recall_18: 0.98 - ETA: 25s - loss: 0.0424 - recall_18: 0.98 - ETA: 25s - loss: 0.0420 - recall_18: 0.98 - ETA: 25s - loss: 0.0418 - recall_18: 0.98 - ETA: 25s - loss: 0.0416 - recall_18: 0.98 - ETA: 25s - loss: 0.0414 - recall_18: 0.98 - ETA: 25s - loss: 0.0410 - recall_18: 0.98 - ETA: 25s - loss: 0.0407 - recall_18: 0.98 - ETA: 25s - loss: 0.0411 - recall_18: 0.98 - ETA: 25s - loss: 0.0414 - recall_18: 0.98 - ETA: 25s - loss: 0.0414 - recall_18: 0.98 - ETA: 25s - loss: 0.0418 - recall_18: 0.98 - ETA: 25s - loss: 0.0416 - recall_18: 0.98 - ETA: 25s - loss: 0.0414 - recall_18: 0.98 - ETA: 25s - loss: 0.0411 - recall_18: 0.98 - ETA: 25s - loss: 0.0408 - recall_18: 0.98 - ETA: 24s - loss: 0.0408 - recall_18: 0.98 - ETA: 24s - loss: 0.0412 - recall_18: 0.98 - ETA: 24s - loss: 0.0410 - recall_18: 0.98 - ETA: 24s - loss: 0.0406 - recall_18: 0.98 - ETA: 24s - loss: 0.0403 - recall_18: 0.98 - ETA: 24s - loss: 0.0402 - recall_18: 0.98 - ETA: 24s - loss: 0.0403 - recall_18: 0.98 - ETA: 24s - loss: 0.0406 - recall_18: 0.98 - ETA: 24s - loss: 0.0410 - recall_18: 0.98 - ETA: 24s - loss: 0.0409 - recall_18: 0.98 - ETA: 24s - loss: 0.0413 - recall_18: 0.98 - ETA: 24s - loss: 0.0411 - recall_18: 0.98 - ETA: 24s - loss: 0.0410 - recall_18: 0.98 - ETA: 24s - loss: 0.0409 - recall_18: 0.98 - ETA: 24s - loss: 0.0413 - recall_18: 0.98 - ETA: 23s - loss: 0.0412 - recall_18: 0.98 - ETA: 23s - loss: 0.0410 - recall_18: 0.98 - ETA: 23s - loss: 0.0409 - recall_18: 0.98 - ETA: 23s - loss: 0.0408 - recall_18: 0.98 - ETA: 23s - loss: 0.0409 - recall_18: 0.98 - ETA: 23s - loss: 0.0411 - recall_18: 0.98 - ETA: 23s - loss: 0.0410 - recall_18: 0.98 - ETA: 23s - loss: 0.0408 - recall_18: 0.98 - ETA: 23s - loss: 0.0408 - recall_18: 0.98 - ETA: 23s - loss: 0.0405 - recall_18: 0.98 - ETA: 23s - loss: 0.0405 - recall_18: 0.98 - ETA: 23s - loss: 0.0410 - recall_18: 0.98 - ETA: 23s - loss: 0.0407 - recall_18: 0.98 - ETA: 23s - loss: 0.0407 - recall_18: 0.98 - ETA: 23s - loss: 0.0407 - recall_18: 0.98 - ETA: 23s - loss: 0.0409 - recall_18: 0.98 - ETA: 22s - loss: 0.0412 - recall_18: 0.98 - ETA: 22s - loss: 0.0414 - recall_18: 0.98 - ETA: 22s - loss: 0.0412 - recall_18: 0.98 - ETA: 22s - loss: 0.0413 - recall_18: 0.98 - ETA: 22s - loss: 0.0412 - recall_18: 0.98 - ETA: 22s - loss: 0.0411 - recall_18: 0.98 - ETA: 22s - loss: 0.0410 - recall_18: 0.98 - ETA: 22s - loss: 0.0407 - recall_18: 0.98 - ETA: 22s - loss: 0.0408 - recall_18: 0.98 - ETA: 22s - loss: 0.0407 - recall_18: 0.98 - ETA: 22s - loss: 0.0407 - recall_18: 0.98 - ETA: 22s - loss: 0.0410 - recall_18: 0.98 - ETA: 22s - loss: 0.0408 - recall_18: 0.98 - ETA: 22s - loss: 0.0405 - recall_18: 0.98 - ETA: 22s - loss: 0.0408 - recall_18: 0.98 - ETA: 22s - loss: 0.0411 - recall_18: 0.98 - ETA: 22s - loss: 0.0410 - recall_18: 0.98 - ETA: 22s - loss: 0.0412 - recall_18: 0.98 - ETA: 21s - loss: 0.0415 - recall_18: 0.98 - ETA: 21s - loss: 0.0418 - recall_18: 0.98 - ETA: 21s - loss: 0.0418 - recall_18: 0.98 - ETA: 21s - loss: 0.0417 - recall_18: 0.98 - ETA: 21s - loss: 0.0416 - recall_18: 0.98 - ETA: 21s - loss: 0.0415 - recall_18: 0.98 - ETA: 21s - loss: 0.0416 - recall_18: 0.98 - ETA: 21s - loss: 0.0416 - recall_18: 0.98 - ETA: 21s - loss: 0.0415 - recall_18: 0.98 - ETA: 21s - loss: 0.0417 - recall_18: 0.98 - ETA: 21s - loss: 0.0416 - recall_18: 0.98 - ETA: 21s - loss: 0.0416 - recall_18: 0.98 - ETA: 21s - loss: 0.0415 - recall_18: 0.98 - ETA: 21s - loss: 0.0419 - recall_18: 0.98 - ETA: 21s - loss: 0.0420 - recall_18: 0.98 - ETA: 21s - loss: 0.0419 - recall_18: 0.98 - ETA: 21s - loss: 0.0419 - recall_18: 0.98 - ETA: 21s - loss: 0.0418 - recall_18: 0.98 - ETA: 21s - loss: 0.0421 - recall_18: 0.98 - ETA: 21s - loss: 0.0422 - recall_18: 0.98 - ETA: 20s - loss: 0.0421 - recall_18: 0.98 - ETA: 20s - loss: 0.0422 - recall_18: 0.98 - ETA: 20s - loss: 0.0425 - recall_18: 0.98 - ETA: 20s - loss: 0.0427 - recall_18: 0.98 - ETA: 20s - loss: 0.0426 - recall_18: 0.98 - ETA: 20s - loss: 0.0426 - recall_18: 0.98 - ETA: 20s - loss: 0.0426 - recall_18: 0.98 - ETA: 20s - loss: 0.0426 - recall_18: 0.98 - ETA: 20s - loss: 0.0429 - recall_18: 0.98 - ETA: 20s - loss: 0.0428 - recall_18: 0.98 - ETA: 20s - loss: 0.0427 - recall_18: 0.98 - ETA: 20s - loss: 0.0426 - recall_18: 0.98 - ETA: 20s - loss: 0.0426 - recall_18: 0.98 - ETA: 20s - loss: 0.0424 - recall_18: 0.98 - ETA: 20s - loss: 0.0427 - recall_18: 0.98 - ETA: 20s - loss: 0.0428 - recall_18: 0.98 - ETA: 20s - loss: 0.0428 - recall_18: 0.987040960/59872 [===================>..........] - ETA: 20s - loss: 0.0426 - recall_18: 0.98 - ETA: 20s - loss: 0.0425 - recall_18: 0.98 - ETA: 20s - loss: 0.0423 - recall_18: 0.98 - ETA: 20s - loss: 0.0422 - recall_18: 0.98 - ETA: 20s - loss: 0.0421 - recall_18: 0.98 - ETA: 19s - loss: 0.0421 - recall_18: 0.98 - ETA: 19s - loss: 0.0419 - recall_18: 0.98 - ETA: 19s - loss: 0.0417 - recall_18: 0.98 - ETA: 19s - loss: 0.0416 - recall_18: 0.98 - ETA: 19s - loss: 0.0417 - recall_18: 0.98 - ETA: 19s - loss: 0.0418 - recall_18: 0.98 - ETA: 19s - loss: 0.0418 - recall_18: 0.98 - ETA: 19s - loss: 0.0418 - recall_18: 0.98 - ETA: 19s - loss: 0.0419 - recall_18: 0.98 - ETA: 19s - loss: 0.0419 - recall_18: 0.98 - ETA: 19s - loss: 0.0420 - recall_18: 0.98 - ETA: 19s - loss: 0.0420 - recall_18: 0.98 - ETA: 19s - loss: 0.0423 - recall_18: 0.98 - ETA: 19s - loss: 0.0421 - recall_18: 0.98 - ETA: 19s - loss: 0.0424 - recall_18: 0.98 - ETA: 19s - loss: 0.0423 - recall_18: 0.98 - ETA: 19s - loss: 0.0423 - recall_18: 0.98 - ETA: 19s - loss: 0.0421 - recall_18: 0.98 - ETA: 19s - loss: 0.0424 - recall_18: 0.98 - ETA: 19s - loss: 0.0425 - recall_18: 0.98 - ETA: 19s - loss: 0.0425 - recall_18: 0.98 - ETA: 19s - loss: 0.0425 - recall_18: 0.98 - ETA: 18s - loss: 0.0426 - recall_18: 0.98 - ETA: 18s - loss: 0.0426 - recall_18: 0.98 - ETA: 18s - loss: 0.0425 - recall_18: 0.98 - ETA: 18s - loss: 0.0424 - recall_18: 0.98 - ETA: 18s - loss: 0.0423 - recall_18: 0.98 - ETA: 18s - loss: 0.0424 - recall_18: 0.98 - ETA: 18s - loss: 0.0422 - recall_18: 0.98 - ETA: 18s - loss: 0.0422 - recall_18: 0.98 - ETA: 18s - loss: 0.0423 - recall_18: 0.98 - ETA: 18s - loss: 0.0424 - recall_18: 0.98 - ETA: 18s - loss: 0.0423 - recall_18: 0.98 - ETA: 18s - loss: 0.0422 - recall_18: 0.98 - ETA: 18s - loss: 0.0423 - recall_18: 0.98 - ETA: 18s - loss: 0.0425 - recall_18: 0.98 - ETA: 18s - loss: 0.0424 - recall_18: 0.98 - ETA: 18s - loss: 0.0424 - recall_18: 0.98 - ETA: 18s - loss: 0.0424 - recall_18: 0.98 - ETA: 18s - loss: 0.0424 - recall_18: 0.98 - ETA: 18s - loss: 0.0425 - recall_18: 0.98 - ETA: 17s - loss: 0.0424 - recall_18: 0.98 - ETA: 17s - loss: 0.0423 - recall_18: 0.98 - ETA: 17s - loss: 0.0426 - recall_18: 0.98 - ETA: 17s - loss: 0.0425 - recall_18: 0.98 - ETA: 17s - loss: 0.0424 - recall_18: 0.98 - ETA: 17s - loss: 0.0424 - recall_18: 0.98 - ETA: 17s - loss: 0.0424 - recall_18: 0.98 - ETA: 17s - loss: 0.0424 - recall_18: 0.98 - ETA: 17s - loss: 0.0424 - recall_18: 0.98 - ETA: 17s - loss: 0.0427 - recall_18: 0.98 - ETA: 17s - loss: 0.0426 - recall_18: 0.98 - ETA: 17s - loss: 0.0425 - recall_18: 0.98 - ETA: 17s - loss: 0.0424 - recall_18: 0.98 - ETA: 17s - loss: 0.0423 - recall_18: 0.98 - ETA: 17s - loss: 0.0422 - recall_18: 0.98 - ETA: 17s - loss: 0.0422 - recall_18: 0.98 - ETA: 17s - loss: 0.0421 - recall_18: 0.98 - ETA: 17s - loss: 0.0421 - recall_18: 0.98 - ETA: 17s - loss: 0.0422 - recall_18: 0.98 - ETA: 17s - loss: 0.0421 - recall_18: 0.98 - ETA: 16s - loss: 0.0422 - recall_18: 0.98 - ETA: 16s - loss: 0.0425 - recall_18: 0.98 - ETA: 16s - loss: 0.0424 - recall_18: 0.98 - ETA: 16s - loss: 0.0428 - recall_18: 0.98 - ETA: 16s - loss: 0.0428 - recall_18: 0.98 - ETA: 16s - loss: 0.0431 - recall_18: 0.98 - ETA: 16s - loss: 0.0430 - recall_18: 0.98 - ETA: 16s - loss: 0.0431 - recall_18: 0.98 - ETA: 16s - loss: 0.0430 - recall_18: 0.98 - ETA: 16s - loss: 0.0430 - recall_18: 0.98 - ETA: 16s - loss: 0.0429 - recall_18: 0.98 - ETA: 16s - loss: 0.0430 - recall_18: 0.98 - ETA: 16s - loss: 0.0429 - recall_18: 0.98 - ETA: 16s - loss: 0.0430 - recall_18: 0.98 - ETA: 16s - loss: 0.0432 - recall_18: 0.98 - ETA: 16s - loss: 0.0432 - recall_18: 0.98 - ETA: 16s - loss: 0.0432 - recall_18: 0.98 - ETA: 16s - loss: 0.0431 - recall_18: 0.98 - ETA: 15s - loss: 0.0431 - recall_18: 0.98 - ETA: 15s - loss: 0.0430 - recall_18: 0.98 - ETA: 15s - loss: 0.0430 - recall_18: 0.98 - ETA: 15s - loss: 0.0430 - recall_18: 0.98 - ETA: 15s - loss: 0.0429 - recall_18: 0.98 - ETA: 15s - loss: 0.0428 - recall_18: 0.98 - ETA: 15s - loss: 0.0427 - recall_18: 0.98 - ETA: 15s - loss: 0.0429 - recall_18: 0.98 - ETA: 15s - loss: 0.0430 - recall_18: 0.98 - ETA: 15s - loss: 0.0430 - recall_18: 0.98 - ETA: 15s - loss: 0.0429 - recall_18: 0.98 - ETA: 15s - loss: 0.0428 - recall_18: 0.98 - ETA: 15s - loss: 0.0428 - recall_18: 0.98 - ETA: 15s - loss: 0.0428 - recall_18: 0.98 - ETA: 15s - loss: 0.0429 - recall_18: 0.98 - ETA: 15s - loss: 0.0429 - recall_18: 0.98 - ETA: 15s - loss: 0.0428 - recall_18: 0.98 - ETA: 14s - loss: 0.0430 - recall_18: 0.98 - ETA: 14s - loss: 0.0430 - recall_18: 0.98 - ETA: 14s - loss: 0.0430 - recall_18: 0.98 - ETA: 14s - loss: 0.0429 - recall_18: 0.98 - ETA: 14s - loss: 0.0429 - recall_18: 0.98 - ETA: 14s - loss: 0.0430 - recall_18: 0.98 - ETA: 14s - loss: 0.0429 - recall_18: 0.98 - ETA: 14s - loss: 0.0429 - recall_18: 0.98 - ETA: 14s - loss: 0.0428 - recall_18: 0.98 - ETA: 14s - loss: 0.0428 - recall_18: 0.98 - ETA: 14s - loss: 0.0427 - recall_18: 0.98 - ETA: 14s - loss: 0.0429 - recall_18: 0.98 - ETA: 14s - loss: 0.0431 - recall_18: 0.98 - ETA: 14s - loss: 0.0433 - recall_18: 0.98 - ETA: 14s - loss: 0.0433 - recall_18: 0.98 - ETA: 14s - loss: 0.0432 - recall_18: 0.98 - ETA: 13s - loss: 0.0433 - recall_18: 0.98 - ETA: 13s - loss: 0.0432 - recall_18: 0.98 - ETA: 13s - loss: 0.0432 - recall_18: 0.98 - ETA: 13s - loss: 0.0432 - recall_18: 0.98 - ETA: 13s - loss: 0.0432 - recall_18: 0.98 - ETA: 13s - loss: 0.0432 - recall_18: 0.98 - ETA: 13s - loss: 0.0432 - recall_18: 0.98 - ETA: 13s - loss: 0.0436 - recall_18: 0.98 - ETA: 13s - loss: 0.0435 - recall_18: 0.98 - ETA: 13s - loss: 0.0435 - recall_18: 0.98 - ETA: 13s - loss: 0.0435 - recall_18: 0.98 - ETA: 13s - loss: 0.0434 - recall_18: 0.98 - ETA: 13s - loss: 0.0436 - recall_18: 0.98 - ETA: 13s - loss: 0.0435 - recall_18: 0.98 - ETA: 13s - loss: 0.0436 - recall_18: 0.98 - ETA: 13s - loss: 0.0436 - recall_18: 0.98 - ETA: 13s - loss: 0.0438 - recall_18: 0.98 - ETA: 13s - loss: 0.0441 - recall_18: 0.98 - ETA: 12s - loss: 0.0440 - recall_18: 0.98 - ETA: 12s - loss: 0.0440 - recall_18: 0.98 - ETA: 12s - loss: 0.0442 - recall_18: 0.98 - ETA: 12s - loss: 0.0442 - recall_18: 0.98 - ETA: 12s - loss: 0.0441 - recall_18: 0.98 - ETA: 12s - loss: 0.0440 - recall_18: 0.98 - ETA: 12s - loss: 0.0441 - recall_18: 0.98 - ETA: 12s - loss: 0.0441 - recall_18: 0.98 - ETA: 12s - loss: 0.0440 - recall_18: 0.98 - ETA: 12s - loss: 0.0440 - recall_18: 0.98 - ETA: 12s - loss: 0.0439 - recall_18: 0.98 - ETA: 12s - loss: 0.0439 - recall_18: 0.98 - ETA: 12s - loss: 0.0439 - recall_18: 0.98 - ETA: 12s - loss: 0.0440 - recall_18: 0.98 - ETA: 12s - loss: 0.0440 - recall_18: 0.98 - ETA: 12s - loss: 0.0440 - recall_18: 0.98 - ETA: 12s - loss: 0.0440 - recall_18: 0.98 - ETA: 11s - loss: 0.0444 - recall_18: 0.98 - ETA: 11s - loss: 0.0444 - recall_18: 0.98 - ETA: 11s - loss: 0.0444 - recall_18: 0.98 - ETA: 11s - loss: 0.0443 - recall_18: 0.98 - ETA: 11s - loss: 0.0442 - recall_18: 0.98 - ETA: 11s - loss: 0.0443 - recall_18: 0.98 - ETA: 11s - loss: 0.0442 - recall_18: 0.98 - ETA: 11s - loss: 0.0442 - recall_18: 0.98 - ETA: 11s - loss: 0.0444 - recall_18: 0.98 - ETA: 11s - loss: 0.0444 - recall_18: 0.98 - ETA: 11s - loss: 0.0444 - recall_18: 0.98 - ETA: 11s - loss: 0.0443 - recall_18: 0.98 - ETA: 11s - loss: 0.0442 - recall_18: 0.98 - ETA: 11s - loss: 0.0442 - recall_18: 0.98 - ETA: 11s - loss: 0.0442 - recall_18: 0.98 - ETA: 11s - loss: 0.0442 - recall_18: 0.98 - ETA: 11s - loss: 0.0441 - recall_18: 0.98 - ETA: 10s - loss: 0.0441 - recall_18: 0.98 - ETA: 10s - loss: 0.0441 - recall_18: 0.98 - ETA: 10s - loss: 0.0441 - recall_18: 0.98 - ETA: 10s - loss: 0.0441 - recall_18: 0.98 - ETA: 10s - loss: 0.0444 - recall_18: 0.98 - ETA: 10s - loss: 0.0443 - recall_18: 0.98 - ETA: 10s - loss: 0.0443 - recall_18: 0.98 - ETA: 10s - loss: 0.0446 - recall_18: 0.98 - ETA: 10s - loss: 0.0445 - recall_18: 0.98 - ETA: 10s - loss: 0.0444 - recall_18: 0.98 - ETA: 10s - loss: 0.0444 - recall_18: 0.98 - ETA: 10s - loss: 0.0443 - recall_18: 0.98 - ETA: 10s - loss: 0.0444 - recall_18: 0.98 - ETA: 10s - loss: 0.0444 - recall_18: 0.98 - ETA: 10s - loss: 0.0446 - recall_18: 0.98 - ETA: 10s - loss: 0.0445 - recall_18: 0.98 - ETA: 10s - loss: 0.0445 - recall_18: 0.9860"
     ]
    },
    {
     "name": "stdout",
     "output_type": "stream",
     "text": [
      "59872/59872 [==============================] - ETA: 9s - loss: 0.0445 - recall_18: 0.9860 - ETA: 9s - loss: 0.0446 - recall_18: 0.985 - ETA: 9s - loss: 0.0445 - recall_18: 0.986 - ETA: 9s - loss: 0.0446 - recall_18: 0.985 - ETA: 9s - loss: 0.0445 - recall_18: 0.985 - ETA: 9s - loss: 0.0447 - recall_18: 0.985 - ETA: 9s - loss: 0.0446 - recall_18: 0.985 - ETA: 9s - loss: 0.0446 - recall_18: 0.985 - ETA: 9s - loss: 0.0446 - recall_18: 0.985 - ETA: 9s - loss: 0.0446 - recall_18: 0.985 - ETA: 9s - loss: 0.0446 - recall_18: 0.985 - ETA: 9s - loss: 0.0446 - recall_18: 0.985 - ETA: 9s - loss: 0.0445 - recall_18: 0.985 - ETA: 9s - loss: 0.0445 - recall_18: 0.986 - ETA: 9s - loss: 0.0445 - recall_18: 0.986 - ETA: 9s - loss: 0.0445 - recall_18: 0.985 - ETA: 9s - loss: 0.0445 - recall_18: 0.986 - ETA: 9s - loss: 0.0444 - recall_18: 0.986 - ETA: 9s - loss: 0.0444 - recall_18: 0.986 - ETA: 9s - loss: 0.0444 - recall_18: 0.986 - ETA: 9s - loss: 0.0445 - recall_18: 0.986 - ETA: 9s - loss: 0.0444 - recall_18: 0.986 - ETA: 9s - loss: 0.0443 - recall_18: 0.986 - ETA: 9s - loss: 0.0444 - recall_18: 0.985 - ETA: 9s - loss: 0.0446 - recall_18: 0.985 - ETA: 9s - loss: 0.0445 - recall_18: 0.985 - ETA: 9s - loss: 0.0447 - recall_18: 0.985 - ETA: 8s - loss: 0.0446 - recall_18: 0.985 - ETA: 8s - loss: 0.0449 - recall_18: 0.985 - ETA: 8s - loss: 0.0448 - recall_18: 0.985 - ETA: 8s - loss: 0.0449 - recall_18: 0.985 - ETA: 8s - loss: 0.0449 - recall_18: 0.985 - ETA: 8s - loss: 0.0449 - recall_18: 0.985 - ETA: 8s - loss: 0.0449 - recall_18: 0.985 - ETA: 8s - loss: 0.0449 - recall_18: 0.985 - ETA: 8s - loss: 0.0448 - recall_18: 0.985 - ETA: 8s - loss: 0.0448 - recall_18: 0.985 - ETA: 8s - loss: 0.0448 - recall_18: 0.985 - ETA: 8s - loss: 0.0450 - recall_18: 0.985 - ETA: 8s - loss: 0.0450 - recall_18: 0.985 - ETA: 8s - loss: 0.0450 - recall_18: 0.985 - ETA: 8s - loss: 0.0451 - recall_18: 0.985 - ETA: 8s - loss: 0.0451 - recall_18: 0.985 - ETA: 7s - loss: 0.0451 - recall_18: 0.985 - ETA: 7s - loss: 0.0450 - recall_18: 0.985 - ETA: 7s - loss: 0.0451 - recall_18: 0.985 - ETA: 7s - loss: 0.0451 - recall_18: 0.985 - ETA: 7s - loss: 0.0451 - recall_18: 0.985 - ETA: 7s - loss: 0.0452 - recall_18: 0.985 - ETA: 7s - loss: 0.0452 - recall_18: 0.985 - ETA: 7s - loss: 0.0452 - recall_18: 0.985 - ETA: 7s - loss: 0.0452 - recall_18: 0.985 - ETA: 7s - loss: 0.0453 - recall_18: 0.985 - ETA: 7s - loss: 0.0454 - recall_18: 0.985 - ETA: 7s - loss: 0.0454 - recall_18: 0.985 - ETA: 7s - loss: 0.0454 - recall_18: 0.985 - ETA: 7s - loss: 0.0453 - recall_18: 0.985 - ETA: 7s - loss: 0.0453 - recall_18: 0.985 - ETA: 7s - loss: 0.0453 - recall_18: 0.985 - ETA: 6s - loss: 0.0453 - recall_18: 0.985 - ETA: 6s - loss: 0.0455 - recall_18: 0.985 - ETA: 6s - loss: 0.0455 - recall_18: 0.985 - ETA: 6s - loss: 0.0454 - recall_18: 0.985 - ETA: 6s - loss: 0.0454 - recall_18: 0.985 - ETA: 6s - loss: 0.0455 - recall_18: 0.985 - ETA: 6s - loss: 0.0456 - recall_18: 0.985 - ETA: 6s - loss: 0.0456 - recall_18: 0.985 - ETA: 6s - loss: 0.0456 - recall_18: 0.985 - ETA: 6s - loss: 0.0456 - recall_18: 0.985 - ETA: 6s - loss: 0.0456 - recall_18: 0.985 - ETA: 6s - loss: 0.0456 - recall_18: 0.985 - ETA: 6s - loss: 0.0456 - recall_18: 0.985 - ETA: 6s - loss: 0.0456 - recall_18: 0.985 - ETA: 6s - loss: 0.0456 - recall_18: 0.985 - ETA: 6s - loss: 0.0457 - recall_18: 0.985 - ETA: 5s - loss: 0.0456 - recall_18: 0.985 - ETA: 5s - loss: 0.0457 - recall_18: 0.985 - ETA: 5s - loss: 0.0456 - recall_18: 0.985 - ETA: 5s - loss: 0.0457 - recall_18: 0.985 - ETA: 5s - loss: 0.0457 - recall_18: 0.985 - ETA: 5s - loss: 0.0457 - recall_18: 0.985 - ETA: 5s - loss: 0.0457 - recall_18: 0.985 - ETA: 5s - loss: 0.0457 - recall_18: 0.985 - ETA: 5s - loss: 0.0457 - recall_18: 0.985 - ETA: 5s - loss: 0.0456 - recall_18: 0.985 - ETA: 5s - loss: 0.0460 - recall_18: 0.985 - ETA: 5s - loss: 0.0460 - recall_18: 0.985 - ETA: 5s - loss: 0.0460 - recall_18: 0.985 - ETA: 5s - loss: 0.0459 - recall_18: 0.985 - ETA: 5s - loss: 0.0460 - recall_18: 0.985 - ETA: 5s - loss: 0.0461 - recall_18: 0.985 - ETA: 5s - loss: 0.0461 - recall_18: 0.985 - ETA: 4s - loss: 0.0461 - recall_18: 0.985 - ETA: 4s - loss: 0.0460 - recall_18: 0.985 - ETA: 4s - loss: 0.0460 - recall_18: 0.985 - ETA: 4s - loss: 0.0460 - recall_18: 0.985 - ETA: 4s - loss: 0.0460 - recall_18: 0.985 - ETA: 4s - loss: 0.0461 - recall_18: 0.985 - ETA: 4s - loss: 0.0463 - recall_18: 0.985 - ETA: 4s - loss: 0.0464 - recall_18: 0.985 - ETA: 4s - loss: 0.0463 - recall_18: 0.985 - ETA: 4s - loss: 0.0463 - recall_18: 0.985 - ETA: 4s - loss: 0.0463 - recall_18: 0.985 - ETA: 4s - loss: 0.0466 - recall_18: 0.985 - ETA: 4s - loss: 0.0466 - recall_18: 0.985 - ETA: 4s - loss: 0.0466 - recall_18: 0.985 - ETA: 4s - loss: 0.0466 - recall_18: 0.985 - ETA: 3s - loss: 0.0466 - recall_18: 0.985 - ETA: 3s - loss: 0.0465 - recall_18: 0.985 - ETA: 3s - loss: 0.0467 - recall_18: 0.985 - ETA: 3s - loss: 0.0467 - recall_18: 0.985 - ETA: 3s - loss: 0.0467 - recall_18: 0.985 - ETA: 3s - loss: 0.0468 - recall_18: 0.985 - ETA: 3s - loss: 0.0468 - recall_18: 0.985 - ETA: 3s - loss: 0.0467 - recall_18: 0.985 - ETA: 3s - loss: 0.0467 - recall_18: 0.985 - ETA: 3s - loss: 0.0467 - recall_18: 0.985 - ETA: 3s - loss: 0.0469 - recall_18: 0.985 - ETA: 3s - loss: 0.0469 - recall_18: 0.985 - ETA: 3s - loss: 0.0468 - recall_18: 0.985 - ETA: 3s - loss: 0.0469 - recall_18: 0.985 - ETA: 3s - loss: 0.0468 - recall_18: 0.985 - ETA: 3s - loss: 0.0468 - recall_18: 0.985 - ETA: 3s - loss: 0.0467 - recall_18: 0.985 - ETA: 2s - loss: 0.0467 - recall_18: 0.985 - ETA: 2s - loss: 0.0467 - recall_18: 0.985 - ETA: 2s - loss: 0.0468 - recall_18: 0.985 - ETA: 2s - loss: 0.0467 - recall_18: 0.985 - ETA: 2s - loss: 0.0467 - recall_18: 0.985 - ETA: 2s - loss: 0.0467 - recall_18: 0.985 - ETA: 2s - loss: 0.0466 - recall_18: 0.985 - ETA: 2s - loss: 0.0467 - recall_18: 0.985 - ETA: 2s - loss: 0.0466 - recall_18: 0.985 - ETA: 2s - loss: 0.0466 - recall_18: 0.985 - ETA: 2s - loss: 0.0466 - recall_18: 0.985 - ETA: 2s - loss: 0.0467 - recall_18: 0.985 - ETA: 2s - loss: 0.0468 - recall_18: 0.985 - ETA: 2s - loss: 0.0467 - recall_18: 0.985 - ETA: 2s - loss: 0.0467 - recall_18: 0.985 - ETA: 2s - loss: 0.0468 - recall_18: 0.985 - ETA: 1s - loss: 0.0467 - recall_18: 0.985 - ETA: 1s - loss: 0.0467 - recall_18: 0.985 - ETA: 1s - loss: 0.0466 - recall_18: 0.985 - ETA: 1s - loss: 0.0466 - recall_18: 0.985 - ETA: 1s - loss: 0.0467 - recall_18: 0.985 - ETA: 1s - loss: 0.0467 - recall_18: 0.985 - ETA: 1s - loss: 0.0467 - recall_18: 0.985 - ETA: 1s - loss: 0.0466 - recall_18: 0.985 - ETA: 1s - loss: 0.0465 - recall_18: 0.985 - ETA: 1s - loss: 0.0466 - recall_18: 0.985 - ETA: 1s - loss: 0.0465 - recall_18: 0.985 - ETA: 1s - loss: 0.0465 - recall_18: 0.985 - ETA: 1s - loss: 0.0464 - recall_18: 0.985 - ETA: 1s - loss: 0.0464 - recall_18: 0.985 - ETA: 1s - loss: 0.0465 - recall_18: 0.985 - ETA: 1s - loss: 0.0465 - recall_18: 0.985 - ETA: 1s - loss: 0.0465 - recall_18: 0.985 - ETA: 0s - loss: 0.0464 - recall_18: 0.985 - ETA: 0s - loss: 0.0466 - recall_18: 0.985 - ETA: 0s - loss: 0.0465 - recall_18: 0.985 - ETA: 0s - loss: 0.0465 - recall_18: 0.985 - ETA: 0s - loss: 0.0466 - recall_18: 0.985 - ETA: 0s - loss: 0.0466 - recall_18: 0.985 - ETA: 0s - loss: 0.0466 - recall_18: 0.985 - ETA: 0s - loss: 0.0466 - recall_18: 0.985 - ETA: 0s - loss: 0.0467 - recall_18: 0.985 - ETA: 0s - loss: 0.0469 - recall_18: 0.985 - ETA: 0s - loss: 0.0468 - recall_18: 0.985 - ETA: 0s - loss: 0.0468 - recall_18: 0.985 - ETA: 0s - loss: 0.0467 - recall_18: 0.985 - ETA: 0s - loss: 0.0467 - recall_18: 0.985 - ETA: 0s - loss: 0.0466 - recall_18: 0.985 - ETA: 0s - loss: 0.0466 - recall_18: 0.985 - 33s 553us/sample - loss: 0.0466 - recall_18: 0.9854 - val_loss: 0.4941 - val_recall_18: 0.9335\n",
      "Epoch 4/5\n"
     ]
    },
    {
     "name": "stdout",
     "output_type": "stream",
     "text": [
      "18944/59872 [========>.....................] - ETA: 52s - loss: 0.0042 - recall_18: 1.00 - ETA: 32s - loss: 0.0878 - recall_18: 0.96 - ETA: 32s - loss: 0.0706 - recall_18: 0.97 - ETA: 32s - loss: 0.0615 - recall_18: 0.97 - ETA: 32s - loss: 0.0565 - recall_18: 0.97 - ETA: 34s - loss: 0.0497 - recall_18: 0.97 - ETA: 35s - loss: 0.0531 - recall_18: 0.97 - ETA: 35s - loss: 0.0521 - recall_18: 0.97 - ETA: 36s - loss: 0.0477 - recall_18: 0.97 - ETA: 36s - loss: 0.0491 - recall_18: 0.97 - ETA: 36s - loss: 0.0469 - recall_18: 0.97 - ETA: 37s - loss: 0.0446 - recall_18: 0.98 - ETA: 37s - loss: 0.0421 - recall_18: 0.98 - ETA: 37s - loss: 0.0409 - recall_18: 0.98 - ETA: 39s - loss: 0.0436 - recall_18: 0.98 - ETA: 39s - loss: 0.0431 - recall_18: 0.98 - ETA: 38s - loss: 0.0408 - recall_18: 0.98 - ETA: 39s - loss: 0.0410 - recall_18: 0.98 - ETA: 39s - loss: 0.0430 - recall_18: 0.98 - ETA: 39s - loss: 0.0413 - recall_18: 0.98 - ETA: 39s - loss: 0.0414 - recall_18: 0.98 - ETA: 39s - loss: 0.0425 - recall_18: 0.98 - ETA: 39s - loss: 0.0447 - recall_18: 0.98 - ETA: 39s - loss: 0.0434 - recall_18: 0.98 - ETA: 38s - loss: 0.0422 - recall_18: 0.98 - ETA: 38s - loss: 0.0422 - recall_18: 0.98 - ETA: 38s - loss: 0.0415 - recall_18: 0.98 - ETA: 38s - loss: 0.0403 - recall_18: 0.98 - ETA: 38s - loss: 0.0398 - recall_18: 0.98 - ETA: 38s - loss: 0.0410 - recall_18: 0.98 - ETA: 38s - loss: 0.0403 - recall_18: 0.98 - ETA: 38s - loss: 0.0396 - recall_18: 0.98 - ETA: 38s - loss: 0.0389 - recall_18: 0.98 - ETA: 38s - loss: 0.0382 - recall_18: 0.98 - ETA: 38s - loss: 0.0378 - recall_18: 0.98 - ETA: 37s - loss: 0.0380 - recall_18: 0.98 - ETA: 37s - loss: 0.0372 - recall_18: 0.98 - ETA: 36s - loss: 0.0398 - recall_18: 0.98 - ETA: 36s - loss: 0.0390 - recall_18: 0.98 - ETA: 36s - loss: 0.0385 - recall_18: 0.98 - ETA: 35s - loss: 0.0383 - recall_18: 0.98 - ETA: 36s - loss: 0.0378 - recall_18: 0.98 - ETA: 36s - loss: 0.0372 - recall_18: 0.98 - ETA: 35s - loss: 0.0369 - recall_18: 0.98 - ETA: 35s - loss: 0.0397 - recall_18: 0.98 - ETA: 35s - loss: 0.0408 - recall_18: 0.98 - ETA: 35s - loss: 0.0403 - recall_18: 0.98 - ETA: 35s - loss: 0.0396 - recall_18: 0.98 - ETA: 34s - loss: 0.0416 - recall_18: 0.98 - ETA: 34s - loss: 0.0411 - recall_18: 0.98 - ETA: 34s - loss: 0.0409 - recall_18: 0.98 - ETA: 34s - loss: 0.0404 - recall_18: 0.98 - ETA: 34s - loss: 0.0400 - recall_18: 0.98 - ETA: 34s - loss: 0.0395 - recall_18: 0.98 - ETA: 34s - loss: 0.0393 - recall_18: 0.98 - ETA: 34s - loss: 0.0397 - recall_18: 0.98 - ETA: 34s - loss: 0.0393 - recall_18: 0.98 - ETA: 33s - loss: 0.0392 - recall_18: 0.98 - ETA: 33s - loss: 0.0386 - recall_18: 0.98 - ETA: 33s - loss: 0.0389 - recall_18: 0.98 - ETA: 33s - loss: 0.0383 - recall_18: 0.98 - ETA: 32s - loss: 0.0385 - recall_18: 0.98 - ETA: 32s - loss: 0.0391 - recall_18: 0.98 - ETA: 32s - loss: 0.0391 - recall_18: 0.98 - ETA: 32s - loss: 0.0392 - recall_18: 0.98 - ETA: 32s - loss: 0.0389 - recall_18: 0.98 - ETA: 32s - loss: 0.0393 - recall_18: 0.98 - ETA: 31s - loss: 0.0389 - recall_18: 0.98 - ETA: 31s - loss: 0.0390 - recall_18: 0.98 - ETA: 31s - loss: 0.0387 - recall_18: 0.98 - ETA: 31s - loss: 0.0384 - recall_18: 0.98 - ETA: 31s - loss: 0.0380 - recall_18: 0.98 - ETA: 31s - loss: 0.0382 - recall_18: 0.98 - ETA: 31s - loss: 0.0393 - recall_18: 0.98 - ETA: 31s - loss: 0.0389 - recall_18: 0.98 - ETA: 31s - loss: 0.0387 - recall_18: 0.98 - ETA: 31s - loss: 0.0385 - recall_18: 0.98 - ETA: 31s - loss: 0.0383 - recall_18: 0.98 - ETA: 31s - loss: 0.0382 - recall_18: 0.98 - ETA: 31s - loss: 0.0380 - recall_18: 0.98 - ETA: 31s - loss: 0.0392 - recall_18: 0.98 - ETA: 31s - loss: 0.0390 - recall_18: 0.98 - ETA: 31s - loss: 0.0387 - recall_18: 0.98 - ETA: 30s - loss: 0.0385 - recall_18: 0.98 - ETA: 30s - loss: 0.0385 - recall_18: 0.98 - ETA: 30s - loss: 0.0384 - recall_18: 0.98 - ETA: 30s - loss: 0.0384 - recall_18: 0.98 - ETA: 30s - loss: 0.0381 - recall_18: 0.98 - ETA: 30s - loss: 0.0378 - recall_18: 0.98 - ETA: 30s - loss: 0.0379 - recall_18: 0.98 - ETA: 30s - loss: 0.0376 - recall_18: 0.98 - ETA: 30s - loss: 0.0374 - recall_18: 0.98 - ETA: 30s - loss: 0.0372 - recall_18: 0.98 - ETA: 30s - loss: 0.0374 - recall_18: 0.98 - ETA: 30s - loss: 0.0373 - recall_18: 0.98 - ETA: 30s - loss: 0.0379 - recall_18: 0.98 - ETA: 30s - loss: 0.0378 - recall_18: 0.98 - ETA: 30s - loss: 0.0379 - recall_18: 0.98 - ETA: 30s - loss: 0.0378 - recall_18: 0.98 - ETA: 30s - loss: 0.0377 - recall_18: 0.98 - ETA: 30s - loss: 0.0375 - recall_18: 0.98 - ETA: 30s - loss: 0.0379 - recall_18: 0.98 - ETA: 30s - loss: 0.0378 - recall_18: 0.98 - ETA: 30s - loss: 0.0380 - recall_18: 0.98 - ETA: 29s - loss: 0.0377 - recall_18: 0.98 - ETA: 29s - loss: 0.0376 - recall_18: 0.98 - ETA: 29s - loss: 0.0375 - recall_18: 0.98 - ETA: 29s - loss: 0.0377 - recall_18: 0.98 - ETA: 29s - loss: 0.0375 - recall_18: 0.98 - ETA: 29s - loss: 0.0373 - recall_18: 0.98 - ETA: 29s - loss: 0.0370 - recall_18: 0.98 - ETA: 28s - loss: 0.0376 - recall_18: 0.98 - ETA: 28s - loss: 0.0376 - recall_18: 0.98 - ETA: 28s - loss: 0.0375 - recall_18: 0.98 - ETA: 28s - loss: 0.0374 - recall_18: 0.98 - ETA: 28s - loss: 0.0377 - recall_18: 0.98 - ETA: 28s - loss: 0.0376 - recall_18: 0.98 - ETA: 28s - loss: 0.0377 - recall_18: 0.98 - ETA: 28s - loss: 0.0374 - recall_18: 0.98 - ETA: 28s - loss: 0.0381 - recall_18: 0.98 - ETA: 28s - loss: 0.0381 - recall_18: 0.98 - ETA: 28s - loss: 0.0382 - recall_18: 0.98 - ETA: 28s - loss: 0.0382 - recall_18: 0.98 - ETA: 27s - loss: 0.0384 - recall_18: 0.98 - ETA: 27s - loss: 0.0391 - recall_18: 0.98 - ETA: 27s - loss: 0.0390 - recall_18: 0.98 - ETA: 27s - loss: 0.0388 - recall_18: 0.98 - ETA: 27s - loss: 0.0387 - recall_18: 0.98 - ETA: 27s - loss: 0.0388 - recall_18: 0.98 - ETA: 27s - loss: 0.0387 - recall_18: 0.98 - ETA: 27s - loss: 0.0386 - recall_18: 0.98 - ETA: 27s - loss: 0.0385 - recall_18: 0.98 - ETA: 27s - loss: 0.0389 - recall_18: 0.98 - ETA: 27s - loss: 0.0389 - recall_18: 0.98 - ETA: 27s - loss: 0.0389 - recall_18: 0.98 - ETA: 27s - loss: 0.0390 - recall_18: 0.98 - ETA: 27s - loss: 0.0393 - recall_18: 0.98 - ETA: 26s - loss: 0.0390 - recall_18: 0.98 - ETA: 26s - loss: 0.0398 - recall_18: 0.98 - ETA: 26s - loss: 0.0395 - recall_18: 0.98 - ETA: 26s - loss: 0.0396 - recall_18: 0.98 - ETA: 26s - loss: 0.0395 - recall_18: 0.98 - ETA: 26s - loss: 0.0393 - recall_18: 0.98 - ETA: 26s - loss: 0.0393 - recall_18: 0.98 - ETA: 26s - loss: 0.0393 - recall_18: 0.98 - ETA: 25s - loss: 0.0394 - recall_18: 0.98 - ETA: 25s - loss: 0.0393 - recall_18: 0.98 - ETA: 25s - loss: 0.0396 - recall_18: 0.98 - ETA: 25s - loss: 0.0395 - recall_18: 0.98 - ETA: 25s - loss: 0.0396 - recall_18: 0.98 - ETA: 25s - loss: 0.0395 - recall_18: 0.98 - ETA: 25s - loss: 0.0394 - recall_18: 0.98 - ETA: 25s - loss: 0.0394 - recall_18: 0.98 - ETA: 25s - loss: 0.0394 - recall_18: 0.98 - ETA: 24s - loss: 0.0394 - recall_18: 0.98 - ETA: 24s - loss: 0.0401 - recall_18: 0.98 - ETA: 24s - loss: 0.0404 - recall_18: 0.98 - ETA: 24s - loss: 0.0402 - recall_18: 0.98 - ETA: 24s - loss: 0.0402 - recall_18: 0.98 - ETA: 24s - loss: 0.0400 - recall_18: 0.98 - ETA: 24s - loss: 0.0400 - recall_18: 0.98 - ETA: 24s - loss: 0.0402 - recall_18: 0.98 - ETA: 24s - loss: 0.0404 - recall_18: 0.98 - ETA: 24s - loss: 0.0405 - recall_18: 0.98 - ETA: 24s - loss: 0.0404 - recall_18: 0.98 - ETA: 24s - loss: 0.0404 - recall_18: 0.98 - ETA: 24s - loss: 0.0403 - recall_18: 0.98 - ETA: 24s - loss: 0.0402 - recall_18: 0.98 - ETA: 24s - loss: 0.0403 - recall_18: 0.98 - ETA: 24s - loss: 0.0402 - recall_18: 0.98 - ETA: 24s - loss: 0.0404 - recall_18: 0.98 - ETA: 24s - loss: 0.0406 - recall_18: 0.98 - ETA: 24s - loss: 0.0406 - recall_18: 0.98 - ETA: 24s - loss: 0.0408 - recall_18: 0.98 - ETA: 23s - loss: 0.0417 - recall_18: 0.98 - ETA: 23s - loss: 0.0418 - recall_18: 0.98 - ETA: 23s - loss: 0.0416 - recall_18: 0.98 - ETA: 23s - loss: 0.0416 - recall_18: 0.98 - ETA: 23s - loss: 0.0414 - recall_18: 0.98 - ETA: 23s - loss: 0.0418 - recall_18: 0.98 - ETA: 23s - loss: 0.0419 - recall_18: 0.98 - ETA: 23s - loss: 0.0418 - recall_18: 0.98 - ETA: 23s - loss: 0.0418 - recall_18: 0.98 - ETA: 23s - loss: 0.0418 - recall_18: 0.98 - ETA: 23s - loss: 0.0417 - recall_18: 0.98 - ETA: 23s - loss: 0.0416 - recall_18: 0.987141984/59872 [====================>.........] - ETA: 23s - loss: 0.0415 - recall_18: 0.98 - ETA: 23s - loss: 0.0414 - recall_18: 0.98 - ETA: 23s - loss: 0.0417 - recall_18: 0.98 - ETA: 23s - loss: 0.0415 - recall_18: 0.98 - ETA: 23s - loss: 0.0415 - recall_18: 0.98 - ETA: 23s - loss: 0.0414 - recall_18: 0.98 - ETA: 23s - loss: 0.0415 - recall_18: 0.98 - ETA: 23s - loss: 0.0414 - recall_18: 0.98 - ETA: 23s - loss: 0.0413 - recall_18: 0.98 - ETA: 22s - loss: 0.0412 - recall_18: 0.98 - ETA: 22s - loss: 0.0411 - recall_18: 0.98 - ETA: 22s - loss: 0.0411 - recall_18: 0.98 - ETA: 22s - loss: 0.0411 - recall_18: 0.98 - ETA: 22s - loss: 0.0413 - recall_18: 0.98 - ETA: 22s - loss: 0.0411 - recall_18: 0.98 - ETA: 22s - loss: 0.0410 - recall_18: 0.98 - ETA: 22s - loss: 0.0408 - recall_18: 0.98 - ETA: 22s - loss: 0.0407 - recall_18: 0.98 - ETA: 22s - loss: 0.0407 - recall_18: 0.98 - ETA: 22s - loss: 0.0411 - recall_18: 0.98 - ETA: 21s - loss: 0.0409 - recall_18: 0.98 - ETA: 21s - loss: 0.0408 - recall_18: 0.98 - ETA: 21s - loss: 0.0407 - recall_18: 0.98 - ETA: 21s - loss: 0.0407 - recall_18: 0.98 - ETA: 21s - loss: 0.0408 - recall_18: 0.98 - ETA: 21s - loss: 0.0406 - recall_18: 0.98 - ETA: 21s - loss: 0.0410 - recall_18: 0.98 - ETA: 21s - loss: 0.0410 - recall_18: 0.98 - ETA: 21s - loss: 0.0410 - recall_18: 0.98 - ETA: 21s - loss: 0.0409 - recall_18: 0.98 - ETA: 21s - loss: 0.0408 - recall_18: 0.98 - ETA: 20s - loss: 0.0409 - recall_18: 0.98 - ETA: 20s - loss: 0.0409 - recall_18: 0.98 - ETA: 20s - loss: 0.0407 - recall_18: 0.98 - ETA: 20s - loss: 0.0406 - recall_18: 0.98 - ETA: 20s - loss: 0.0409 - recall_18: 0.98 - ETA: 20s - loss: 0.0409 - recall_18: 0.98 - ETA: 20s - loss: 0.0413 - recall_18: 0.98 - ETA: 20s - loss: 0.0413 - recall_18: 0.98 - ETA: 20s - loss: 0.0412 - recall_18: 0.98 - ETA: 20s - loss: 0.0411 - recall_18: 0.98 - ETA: 20s - loss: 0.0409 - recall_18: 0.98 - ETA: 19s - loss: 0.0411 - recall_18: 0.98 - ETA: 19s - loss: 0.0409 - recall_18: 0.98 - ETA: 19s - loss: 0.0412 - recall_18: 0.98 - ETA: 19s - loss: 0.0412 - recall_18: 0.98 - ETA: 19s - loss: 0.0411 - recall_18: 0.98 - ETA: 19s - loss: 0.0411 - recall_18: 0.98 - ETA: 19s - loss: 0.0410 - recall_18: 0.98 - ETA: 19s - loss: 0.0414 - recall_18: 0.98 - ETA: 19s - loss: 0.0413 - recall_18: 0.98 - ETA: 19s - loss: 0.0412 - recall_18: 0.98 - ETA: 19s - loss: 0.0419 - recall_18: 0.98 - ETA: 18s - loss: 0.0419 - recall_18: 0.98 - ETA: 18s - loss: 0.0418 - recall_18: 0.98 - ETA: 18s - loss: 0.0417 - recall_18: 0.98 - ETA: 18s - loss: 0.0416 - recall_18: 0.98 - ETA: 18s - loss: 0.0415 - recall_18: 0.98 - ETA: 18s - loss: 0.0417 - recall_18: 0.98 - ETA: 18s - loss: 0.0417 - recall_18: 0.98 - ETA: 18s - loss: 0.0417 - recall_18: 0.98 - ETA: 18s - loss: 0.0417 - recall_18: 0.98 - ETA: 18s - loss: 0.0419 - recall_18: 0.98 - ETA: 18s - loss: 0.0419 - recall_18: 0.98 - ETA: 18s - loss: 0.0418 - recall_18: 0.98 - ETA: 17s - loss: 0.0417 - recall_18: 0.98 - ETA: 17s - loss: 0.0417 - recall_18: 0.98 - ETA: 17s - loss: 0.0416 - recall_18: 0.98 - ETA: 17s - loss: 0.0415 - recall_18: 0.98 - ETA: 17s - loss: 0.0415 - recall_18: 0.98 - ETA: 17s - loss: 0.0415 - recall_18: 0.98 - ETA: 17s - loss: 0.0415 - recall_18: 0.98 - ETA: 17s - loss: 0.0415 - recall_18: 0.98 - ETA: 17s - loss: 0.0414 - recall_18: 0.98 - ETA: 17s - loss: 0.0416 - recall_18: 0.98 - ETA: 17s - loss: 0.0414 - recall_18: 0.98 - ETA: 17s - loss: 0.0418 - recall_18: 0.98 - ETA: 17s - loss: 0.0418 - recall_18: 0.98 - ETA: 16s - loss: 0.0418 - recall_18: 0.98 - ETA: 16s - loss: 0.0418 - recall_18: 0.98 - ETA: 16s - loss: 0.0417 - recall_18: 0.98 - ETA: 16s - loss: 0.0418 - recall_18: 0.98 - ETA: 16s - loss: 0.0418 - recall_18: 0.98 - ETA: 16s - loss: 0.0417 - recall_18: 0.98 - ETA: 16s - loss: 0.0416 - recall_18: 0.98 - ETA: 16s - loss: 0.0416 - recall_18: 0.98 - ETA: 16s - loss: 0.0415 - recall_18: 0.98 - ETA: 16s - loss: 0.0415 - recall_18: 0.98 - ETA: 16s - loss: 0.0417 - recall_18: 0.98 - ETA: 16s - loss: 0.0418 - recall_18: 0.98 - ETA: 16s - loss: 0.0417 - recall_18: 0.98 - ETA: 16s - loss: 0.0416 - recall_18: 0.98 - ETA: 15s - loss: 0.0418 - recall_18: 0.98 - ETA: 15s - loss: 0.0418 - recall_18: 0.98 - ETA: 15s - loss: 0.0419 - recall_18: 0.98 - ETA: 15s - loss: 0.0418 - recall_18: 0.98 - ETA: 15s - loss: 0.0419 - recall_18: 0.98 - ETA: 15s - loss: 0.0417 - recall_18: 0.98 - ETA: 15s - loss: 0.0417 - recall_18: 0.98 - ETA: 15s - loss: 0.0417 - recall_18: 0.98 - ETA: 15s - loss: 0.0416 - recall_18: 0.98 - ETA: 15s - loss: 0.0415 - recall_18: 0.98 - ETA: 15s - loss: 0.0417 - recall_18: 0.98 - ETA: 15s - loss: 0.0417 - recall_18: 0.98 - ETA: 15s - loss: 0.0416 - recall_18: 0.98 - ETA: 14s - loss: 0.0418 - recall_18: 0.98 - ETA: 14s - loss: 0.0419 - recall_18: 0.98 - ETA: 14s - loss: 0.0419 - recall_18: 0.98 - ETA: 14s - loss: 0.0418 - recall_18: 0.98 - ETA: 14s - loss: 0.0417 - recall_18: 0.98 - ETA: 14s - loss: 0.0416 - recall_18: 0.98 - ETA: 14s - loss: 0.0415 - recall_18: 0.98 - ETA: 14s - loss: 0.0414 - recall_18: 0.98 - ETA: 14s - loss: 0.0414 - recall_18: 0.98 - ETA: 14s - loss: 0.0412 - recall_18: 0.98 - ETA: 14s - loss: 0.0412 - recall_18: 0.98 - ETA: 14s - loss: 0.0411 - recall_18: 0.98 - ETA: 14s - loss: 0.0412 - recall_18: 0.98 - ETA: 13s - loss: 0.0414 - recall_18: 0.98 - ETA: 13s - loss: 0.0413 - recall_18: 0.98 - ETA: 13s - loss: 0.0413 - recall_18: 0.98 - ETA: 13s - loss: 0.0417 - recall_18: 0.98 - ETA: 13s - loss: 0.0416 - recall_18: 0.98 - ETA: 13s - loss: 0.0416 - recall_18: 0.98 - ETA: 13s - loss: 0.0416 - recall_18: 0.98 - ETA: 13s - loss: 0.0416 - recall_18: 0.98 - ETA: 13s - loss: 0.0417 - recall_18: 0.98 - ETA: 13s - loss: 0.0417 - recall_18: 0.98 - ETA: 13s - loss: 0.0417 - recall_18: 0.98 - ETA: 13s - loss: 0.0416 - recall_18: 0.98 - ETA: 13s - loss: 0.0416 - recall_18: 0.98 - ETA: 13s - loss: 0.0415 - recall_18: 0.98 - ETA: 12s - loss: 0.0415 - recall_18: 0.98 - ETA: 12s - loss: 0.0415 - recall_18: 0.98 - ETA: 12s - loss: 0.0415 - recall_18: 0.98 - ETA: 12s - loss: 0.0415 - recall_18: 0.98 - ETA: 12s - loss: 0.0415 - recall_18: 0.98 - ETA: 12s - loss: 0.0414 - recall_18: 0.98 - ETA: 12s - loss: 0.0415 - recall_18: 0.98 - ETA: 12s - loss: 0.0415 - recall_18: 0.98 - ETA: 12s - loss: 0.0415 - recall_18: 0.98 - ETA: 12s - loss: 0.0415 - recall_18: 0.98 - ETA: 12s - loss: 0.0416 - recall_18: 0.98 - ETA: 12s - loss: 0.0415 - recall_18: 0.98 - ETA: 12s - loss: 0.0414 - recall_18: 0.98 - ETA: 12s - loss: 0.0416 - recall_18: 0.98 - ETA: 11s - loss: 0.0417 - recall_18: 0.98 - ETA: 11s - loss: 0.0418 - recall_18: 0.98 - ETA: 11s - loss: 0.0418 - recall_18: 0.98 - ETA: 11s - loss: 0.0418 - recall_18: 0.98 - ETA: 11s - loss: 0.0417 - recall_18: 0.98 - ETA: 11s - loss: 0.0419 - recall_18: 0.98 - ETA: 11s - loss: 0.0420 - recall_18: 0.98 - ETA: 11s - loss: 0.0422 - recall_18: 0.98 - ETA: 11s - loss: 0.0422 - recall_18: 0.98 - ETA: 11s - loss: 0.0421 - recall_18: 0.98 - ETA: 11s - loss: 0.0423 - recall_18: 0.98 - ETA: 11s - loss: 0.0423 - recall_18: 0.98 - ETA: 11s - loss: 0.0423 - recall_18: 0.98 - ETA: 11s - loss: 0.0423 - recall_18: 0.98 - ETA: 10s - loss: 0.0422 - recall_18: 0.98 - ETA: 10s - loss: 0.0422 - recall_18: 0.98 - ETA: 10s - loss: 0.0423 - recall_18: 0.98 - ETA: 10s - loss: 0.0422 - recall_18: 0.98 - ETA: 10s - loss: 0.0421 - recall_18: 0.98 - ETA: 10s - loss: 0.0421 - recall_18: 0.98 - ETA: 10s - loss: 0.0424 - recall_18: 0.98 - ETA: 10s - loss: 0.0425 - recall_18: 0.98 - ETA: 10s - loss: 0.0425 - recall_18: 0.98 - ETA: 10s - loss: 0.0425 - recall_18: 0.98 - ETA: 10s - loss: 0.0425 - recall_18: 0.98 - ETA: 10s - loss: 0.0424 - recall_18: 0.98 - ETA: 10s - loss: 0.0424 - recall_18: 0.98 - ETA: 10s - loss: 0.0424 - recall_18: 0.98 - ETA: 9s - loss: 0.0425 - recall_18: 0.9868 - ETA: 9s - loss: 0.0424 - recall_18: 0.986 - ETA: 9s - loss: 0.0423 - recall_18: 0.986 - ETA: 9s - loss: 0.0423 - recall_18: 0.986 - ETA: 9s - loss: 0.0422 - recall_18: 0.986 - ETA: 9s - loss: 0.0422 - recall_18: 0.986 - ETA: 9s - loss: 0.0422 - recall_18: 0.986 - ETA: 9s - loss: 0.0422 - recall_18: 0.986 - ETA: 9s - loss: 0.0421 - recall_18: 0.986 - ETA: 9s - loss: 0.0420 - recall_18: 0.986 - ETA: 9s - loss: 0.0420 - recall_18: 0.987 - ETA: 9s - loss: 0.0422 - recall_18: 0.9870"
     ]
    },
    {
     "name": "stdout",
     "output_type": "stream",
     "text": [
      "59872/59872 [==============================] - ETA: 9s - loss: 0.0423 - recall_18: 0.986 - ETA: 9s - loss: 0.0423 - recall_18: 0.987 - ETA: 9s - loss: 0.0423 - recall_18: 0.986 - ETA: 8s - loss: 0.0424 - recall_18: 0.986 - ETA: 8s - loss: 0.0425 - recall_18: 0.986 - ETA: 8s - loss: 0.0426 - recall_18: 0.986 - ETA: 8s - loss: 0.0425 - recall_18: 0.986 - ETA: 8s - loss: 0.0425 - recall_18: 0.986 - ETA: 8s - loss: 0.0426 - recall_18: 0.986 - ETA: 8s - loss: 0.0425 - recall_18: 0.986 - ETA: 8s - loss: 0.0425 - recall_18: 0.986 - ETA: 8s - loss: 0.0426 - recall_18: 0.986 - ETA: 8s - loss: 0.0427 - recall_18: 0.986 - ETA: 8s - loss: 0.0427 - recall_18: 0.986 - ETA: 8s - loss: 0.0426 - recall_18: 0.986 - ETA: 8s - loss: 0.0427 - recall_18: 0.986 - ETA: 8s - loss: 0.0429 - recall_18: 0.986 - ETA: 8s - loss: 0.0428 - recall_18: 0.986 - ETA: 7s - loss: 0.0428 - recall_18: 0.986 - ETA: 7s - loss: 0.0428 - recall_18: 0.986 - ETA: 7s - loss: 0.0427 - recall_18: 0.986 - ETA: 7s - loss: 0.0428 - recall_18: 0.986 - ETA: 7s - loss: 0.0430 - recall_18: 0.986 - ETA: 7s - loss: 0.0429 - recall_18: 0.986 - ETA: 7s - loss: 0.0429 - recall_18: 0.986 - ETA: 7s - loss: 0.0431 - recall_18: 0.986 - ETA: 7s - loss: 0.0432 - recall_18: 0.986 - ETA: 7s - loss: 0.0432 - recall_18: 0.986 - ETA: 7s - loss: 0.0432 - recall_18: 0.986 - ETA: 7s - loss: 0.0431 - recall_18: 0.986 - ETA: 7s - loss: 0.0431 - recall_18: 0.986 - ETA: 7s - loss: 0.0431 - recall_18: 0.986 - ETA: 7s - loss: 0.0431 - recall_18: 0.986 - ETA: 6s - loss: 0.0431 - recall_18: 0.986 - ETA: 6s - loss: 0.0431 - recall_18: 0.986 - ETA: 6s - loss: 0.0432 - recall_18: 0.986 - ETA: 6s - loss: 0.0431 - recall_18: 0.986 - ETA: 6s - loss: 0.0431 - recall_18: 0.986 - ETA: 6s - loss: 0.0431 - recall_18: 0.986 - ETA: 6s - loss: 0.0431 - recall_18: 0.986 - ETA: 6s - loss: 0.0430 - recall_18: 0.986 - ETA: 6s - loss: 0.0431 - recall_18: 0.986 - ETA: 6s - loss: 0.0430 - recall_18: 0.986 - ETA: 6s - loss: 0.0430 - recall_18: 0.986 - ETA: 6s - loss: 0.0430 - recall_18: 0.986 - ETA: 6s - loss: 0.0429 - recall_18: 0.986 - ETA: 6s - loss: 0.0431 - recall_18: 0.986 - ETA: 6s - loss: 0.0431 - recall_18: 0.986 - ETA: 5s - loss: 0.0430 - recall_18: 0.986 - ETA: 5s - loss: 0.0430 - recall_18: 0.986 - ETA: 5s - loss: 0.0430 - recall_18: 0.986 - ETA: 5s - loss: 0.0429 - recall_18: 0.986 - ETA: 5s - loss: 0.0430 - recall_18: 0.986 - ETA: 5s - loss: 0.0430 - recall_18: 0.986 - ETA: 5s - loss: 0.0429 - recall_18: 0.986 - ETA: 5s - loss: 0.0429 - recall_18: 0.986 - ETA: 5s - loss: 0.0428 - recall_18: 0.986 - ETA: 5s - loss: 0.0428 - recall_18: 0.986 - ETA: 5s - loss: 0.0427 - recall_18: 0.987 - ETA: 5s - loss: 0.0427 - recall_18: 0.986 - ETA: 5s - loss: 0.0427 - recall_18: 0.986 - ETA: 5s - loss: 0.0427 - recall_18: 0.986 - ETA: 5s - loss: 0.0426 - recall_18: 0.986 - ETA: 5s - loss: 0.0428 - recall_18: 0.986 - ETA: 5s - loss: 0.0428 - recall_18: 0.986 - ETA: 4s - loss: 0.0428 - recall_18: 0.986 - ETA: 4s - loss: 0.0428 - recall_18: 0.986 - ETA: 4s - loss: 0.0428 - recall_18: 0.986 - ETA: 4s - loss: 0.0427 - recall_18: 0.986 - ETA: 4s - loss: 0.0426 - recall_18: 0.987 - ETA: 4s - loss: 0.0426 - recall_18: 0.987 - ETA: 4s - loss: 0.0426 - recall_18: 0.987 - ETA: 4s - loss: 0.0425 - recall_18: 0.987 - ETA: 4s - loss: 0.0425 - recall_18: 0.987 - ETA: 4s - loss: 0.0426 - recall_18: 0.986 - ETA: 4s - loss: 0.0425 - recall_18: 0.987 - ETA: 4s - loss: 0.0425 - recall_18: 0.986 - ETA: 4s - loss: 0.0425 - recall_18: 0.986 - ETA: 4s - loss: 0.0424 - recall_18: 0.986 - ETA: 4s - loss: 0.0424 - recall_18: 0.986 - ETA: 3s - loss: 0.0424 - recall_18: 0.986 - ETA: 3s - loss: 0.0425 - recall_18: 0.986 - ETA: 3s - loss: 0.0426 - recall_18: 0.986 - ETA: 3s - loss: 0.0426 - recall_18: 0.986 - ETA: 3s - loss: 0.0425 - recall_18: 0.986 - ETA: 3s - loss: 0.0425 - recall_18: 0.986 - ETA: 3s - loss: 0.0424 - recall_18: 0.987 - ETA: 3s - loss: 0.0424 - recall_18: 0.987 - ETA: 3s - loss: 0.0424 - recall_18: 0.987 - ETA: 3s - loss: 0.0424 - recall_18: 0.986 - ETA: 3s - loss: 0.0424 - recall_18: 0.986 - ETA: 3s - loss: 0.0424 - recall_18: 0.986 - ETA: 3s - loss: 0.0423 - recall_18: 0.986 - ETA: 3s - loss: 0.0423 - recall_18: 0.986 - ETA: 3s - loss: 0.0424 - recall_18: 0.987 - ETA: 3s - loss: 0.0423 - recall_18: 0.987 - ETA: 2s - loss: 0.0422 - recall_18: 0.987 - ETA: 2s - loss: 0.0423 - recall_18: 0.987 - ETA: 2s - loss: 0.0423 - recall_18: 0.987 - ETA: 2s - loss: 0.0423 - recall_18: 0.987 - ETA: 2s - loss: 0.0422 - recall_18: 0.987 - ETA: 2s - loss: 0.0422 - recall_18: 0.987 - ETA: 2s - loss: 0.0422 - recall_18: 0.987 - ETA: 2s - loss: 0.0422 - recall_18: 0.987 - ETA: 2s - loss: 0.0421 - recall_18: 0.987 - ETA: 2s - loss: 0.0423 - recall_18: 0.987 - ETA: 2s - loss: 0.0423 - recall_18: 0.987 - ETA: 2s - loss: 0.0422 - recall_18: 0.987 - ETA: 2s - loss: 0.0422 - recall_18: 0.987 - ETA: 2s - loss: 0.0421 - recall_18: 0.987 - ETA: 2s - loss: 0.0420 - recall_18: 0.987 - ETA: 1s - loss: 0.0421 - recall_18: 0.987 - ETA: 1s - loss: 0.0421 - recall_18: 0.987 - ETA: 1s - loss: 0.0422 - recall_18: 0.987 - ETA: 1s - loss: 0.0421 - recall_18: 0.987 - ETA: 1s - loss: 0.0421 - recall_18: 0.987 - ETA: 1s - loss: 0.0421 - recall_18: 0.987 - ETA: 1s - loss: 0.0421 - recall_18: 0.987 - ETA: 1s - loss: 0.0421 - recall_18: 0.987 - ETA: 1s - loss: 0.0420 - recall_18: 0.987 - ETA: 1s - loss: 0.0420 - recall_18: 0.987 - ETA: 1s - loss: 0.0421 - recall_18: 0.987 - ETA: 1s - loss: 0.0422 - recall_18: 0.987 - ETA: 1s - loss: 0.0421 - recall_18: 0.987 - ETA: 1s - loss: 0.0423 - recall_18: 0.987 - ETA: 1s - loss: 0.0423 - recall_18: 0.987 - ETA: 1s - loss: 0.0423 - recall_18: 0.987 - ETA: 0s - loss: 0.0422 - recall_18: 0.987 - ETA: 0s - loss: 0.0423 - recall_18: 0.987 - ETA: 0s - loss: 0.0423 - recall_18: 0.987 - ETA: 0s - loss: 0.0423 - recall_18: 0.987 - ETA: 0s - loss: 0.0423 - recall_18: 0.987 - ETA: 0s - loss: 0.0424 - recall_18: 0.987 - ETA: 0s - loss: 0.0423 - recall_18: 0.987 - ETA: 0s - loss: 0.0423 - recall_18: 0.987 - ETA: 0s - loss: 0.0423 - recall_18: 0.987 - ETA: 0s - loss: 0.0422 - recall_18: 0.987 - ETA: 0s - loss: 0.0423 - recall_18: 0.987 - ETA: 0s - loss: 0.0423 - recall_18: 0.986 - ETA: 0s - loss: 0.0424 - recall_18: 0.986 - ETA: 0s - loss: 0.0424 - recall_18: 0.986 - ETA: 0s - loss: 0.0424 - recall_18: 0.986 - 31s 518us/sample - loss: 0.0423 - recall_18: 0.9870 - val_loss: 0.5094 - val_recall_18: 0.9348\n",
      "Epoch 5/5\n"
     ]
    },
    {
     "name": "stdout",
     "output_type": "stream",
     "text": [
      "23264/59872 [==========>...................] - ETA: 42s - loss: 0.0582 - recall_18: 0.96 - ETA: 28s - loss: 0.0435 - recall_18: 0.97 - ETA: 27s - loss: 0.0416 - recall_18: 0.98 - ETA: 27s - loss: 0.0387 - recall_18: 0.98 - ETA: 28s - loss: 0.0451 - recall_18: 0.98 - ETA: 29s - loss: 0.0463 - recall_18: 0.98 - ETA: 28s - loss: 0.0427 - recall_18: 0.98 - ETA: 28s - loss: 0.0427 - recall_18: 0.98 - ETA: 28s - loss: 0.0394 - recall_18: 0.98 - ETA: 27s - loss: 0.0390 - recall_18: 0.98 - ETA: 27s - loss: 0.0371 - recall_18: 0.98 - ETA: 27s - loss: 0.0368 - recall_18: 0.98 - ETA: 27s - loss: 0.0356 - recall_18: 0.98 - ETA: 27s - loss: 0.0338 - recall_18: 0.98 - ETA: 27s - loss: 0.0325 - recall_18: 0.98 - ETA: 27s - loss: 0.0328 - recall_18: 0.98 - ETA: 27s - loss: 0.0318 - recall_18: 0.98 - ETA: 27s - loss: 0.0348 - recall_18: 0.98 - ETA: 27s - loss: 0.0336 - recall_18: 0.98 - ETA: 27s - loss: 0.0365 - recall_18: 0.98 - ETA: 27s - loss: 0.0364 - recall_18: 0.98 - ETA: 27s - loss: 0.0389 - recall_18: 0.98 - ETA: 26s - loss: 0.0381 - recall_18: 0.98 - ETA: 26s - loss: 0.0388 - recall_18: 0.98 - ETA: 26s - loss: 0.0381 - recall_18: 0.98 - ETA: 26s - loss: 0.0396 - recall_18: 0.98 - ETA: 26s - loss: 0.0385 - recall_18: 0.98 - ETA: 26s - loss: 0.0388 - recall_18: 0.98 - ETA: 26s - loss: 0.0407 - recall_18: 0.98 - ETA: 26s - loss: 0.0395 - recall_18: 0.98 - ETA: 26s - loss: 0.0388 - recall_18: 0.98 - ETA: 26s - loss: 0.0379 - recall_18: 0.98 - ETA: 26s - loss: 0.0386 - recall_18: 0.98 - ETA: 26s - loss: 0.0379 - recall_18: 0.98 - ETA: 26s - loss: 0.0372 - recall_18: 0.98 - ETA: 26s - loss: 0.0368 - recall_18: 0.98 - ETA: 26s - loss: 0.0375 - recall_18: 0.98 - ETA: 25s - loss: 0.0375 - recall_18: 0.98 - ETA: 25s - loss: 0.0371 - recall_18: 0.98 - ETA: 26s - loss: 0.0372 - recall_18: 0.98 - ETA: 25s - loss: 0.0365 - recall_18: 0.98 - ETA: 25s - loss: 0.0363 - recall_18: 0.98 - ETA: 25s - loss: 0.0360 - recall_18: 0.98 - ETA: 25s - loss: 0.0356 - recall_18: 0.98 - ETA: 25s - loss: 0.0351 - recall_18: 0.98 - ETA: 25s - loss: 0.0344 - recall_18: 0.98 - ETA: 25s - loss: 0.0343 - recall_18: 0.98 - ETA: 25s - loss: 0.0339 - recall_18: 0.98 - ETA: 25s - loss: 0.0333 - recall_18: 0.99 - ETA: 25s - loss: 0.0344 - recall_18: 0.98 - ETA: 25s - loss: 0.0345 - recall_18: 0.98 - ETA: 25s - loss: 0.0351 - recall_18: 0.98 - ETA: 25s - loss: 0.0347 - recall_18: 0.98 - ETA: 24s - loss: 0.0346 - recall_18: 0.98 - ETA: 24s - loss: 0.0350 - recall_18: 0.98 - ETA: 24s - loss: 0.0346 - recall_18: 0.98 - ETA: 24s - loss: 0.0342 - recall_18: 0.98 - ETA: 24s - loss: 0.0345 - recall_18: 0.98 - ETA: 24s - loss: 0.0342 - recall_18: 0.98 - ETA: 24s - loss: 0.0351 - recall_18: 0.98 - ETA: 24s - loss: 0.0353 - recall_18: 0.98 - ETA: 24s - loss: 0.0359 - recall_18: 0.98 - ETA: 24s - loss: 0.0354 - recall_18: 0.98 - ETA: 24s - loss: 0.0356 - recall_18: 0.98 - ETA: 24s - loss: 0.0354 - recall_18: 0.98 - ETA: 24s - loss: 0.0353 - recall_18: 0.98 - ETA: 24s - loss: 0.0354 - recall_18: 0.98 - ETA: 23s - loss: 0.0357 - recall_18: 0.98 - ETA: 23s - loss: 0.0354 - recall_18: 0.98 - ETA: 23s - loss: 0.0353 - recall_18: 0.98 - ETA: 23s - loss: 0.0353 - recall_18: 0.98 - ETA: 23s - loss: 0.0350 - recall_18: 0.98 - ETA: 23s - loss: 0.0358 - recall_18: 0.98 - ETA: 23s - loss: 0.0359 - recall_18: 0.98 - ETA: 23s - loss: 0.0356 - recall_18: 0.98 - ETA: 23s - loss: 0.0365 - recall_18: 0.98 - ETA: 23s - loss: 0.0371 - recall_18: 0.98 - ETA: 23s - loss: 0.0369 - recall_18: 0.98 - ETA: 23s - loss: 0.0366 - recall_18: 0.98 - ETA: 23s - loss: 0.0364 - recall_18: 0.98 - ETA: 23s - loss: 0.0366 - recall_18: 0.98 - ETA: 23s - loss: 0.0364 - recall_18: 0.98 - ETA: 23s - loss: 0.0363 - recall_18: 0.98 - ETA: 22s - loss: 0.0365 - recall_18: 0.98 - ETA: 22s - loss: 0.0363 - recall_18: 0.98 - ETA: 22s - loss: 0.0364 - recall_18: 0.98 - ETA: 22s - loss: 0.0370 - recall_18: 0.98 - ETA: 22s - loss: 0.0368 - recall_18: 0.98 - ETA: 22s - loss: 0.0366 - recall_18: 0.98 - ETA: 22s - loss: 0.0364 - recall_18: 0.98 - ETA: 22s - loss: 0.0362 - recall_18: 0.98 - ETA: 22s - loss: 0.0361 - recall_18: 0.98 - ETA: 22s - loss: 0.0361 - recall_18: 0.98 - ETA: 22s - loss: 0.0359 - recall_18: 0.98 - ETA: 22s - loss: 0.0361 - recall_18: 0.98 - ETA: 22s - loss: 0.0360 - recall_18: 0.98 - ETA: 22s - loss: 0.0358 - recall_18: 0.98 - ETA: 22s - loss: 0.0356 - recall_18: 0.98 - ETA: 22s - loss: 0.0356 - recall_18: 0.98 - ETA: 21s - loss: 0.0359 - recall_18: 0.98 - ETA: 21s - loss: 0.0361 - recall_18: 0.98 - ETA: 21s - loss: 0.0362 - recall_18: 0.98 - ETA: 21s - loss: 0.0361 - recall_18: 0.98 - ETA: 21s - loss: 0.0360 - recall_18: 0.98 - ETA: 21s - loss: 0.0358 - recall_18: 0.98 - ETA: 21s - loss: 0.0359 - recall_18: 0.98 - ETA: 21s - loss: 0.0360 - recall_18: 0.98 - ETA: 21s - loss: 0.0361 - recall_18: 0.98 - ETA: 21s - loss: 0.0360 - recall_18: 0.98 - ETA: 21s - loss: 0.0359 - recall_18: 0.98 - ETA: 21s - loss: 0.0356 - recall_18: 0.98 - ETA: 21s - loss: 0.0355 - recall_18: 0.98 - ETA: 21s - loss: 0.0354 - recall_18: 0.98 - ETA: 21s - loss: 0.0355 - recall_18: 0.98 - ETA: 21s - loss: 0.0354 - recall_18: 0.98 - ETA: 21s - loss: 0.0353 - recall_18: 0.98 - ETA: 21s - loss: 0.0354 - recall_18: 0.98 - ETA: 21s - loss: 0.0352 - recall_18: 0.98 - ETA: 20s - loss: 0.0352 - recall_18: 0.98 - ETA: 20s - loss: 0.0352 - recall_18: 0.98 - ETA: 20s - loss: 0.0355 - recall_18: 0.98 - ETA: 20s - loss: 0.0353 - recall_18: 0.98 - ETA: 20s - loss: 0.0351 - recall_18: 0.98 - ETA: 20s - loss: 0.0349 - recall_18: 0.98 - ETA: 20s - loss: 0.0347 - recall_18: 0.98 - ETA: 20s - loss: 0.0351 - recall_18: 0.98 - ETA: 20s - loss: 0.0351 - recall_18: 0.98 - ETA: 20s - loss: 0.0352 - recall_18: 0.98 - ETA: 20s - loss: 0.0350 - recall_18: 0.98 - ETA: 20s - loss: 0.0350 - recall_18: 0.98 - ETA: 20s - loss: 0.0350 - recall_18: 0.98 - ETA: 20s - loss: 0.0349 - recall_18: 0.98 - ETA: 20s - loss: 0.0351 - recall_18: 0.98 - ETA: 19s - loss: 0.0353 - recall_18: 0.98 - ETA: 19s - loss: 0.0352 - recall_18: 0.98 - ETA: 19s - loss: 0.0353 - recall_18: 0.98 - ETA: 19s - loss: 0.0351 - recall_18: 0.98 - ETA: 19s - loss: 0.0351 - recall_18: 0.98 - ETA: 19s - loss: 0.0351 - recall_18: 0.98 - ETA: 19s - loss: 0.0350 - recall_18: 0.98 - ETA: 19s - loss: 0.0356 - recall_18: 0.98 - ETA: 19s - loss: 0.0354 - recall_18: 0.98 - ETA: 19s - loss: 0.0356 - recall_18: 0.98 - ETA: 19s - loss: 0.0359 - recall_18: 0.98 - ETA: 19s - loss: 0.0359 - recall_18: 0.98 - ETA: 19s - loss: 0.0359 - recall_18: 0.98 - ETA: 19s - loss: 0.0362 - recall_18: 0.98 - ETA: 18s - loss: 0.0361 - recall_18: 0.98 - ETA: 18s - loss: 0.0361 - recall_18: 0.98 - ETA: 18s - loss: 0.0361 - recall_18: 0.98 - ETA: 18s - loss: 0.0362 - recall_18: 0.98 - ETA: 18s - loss: 0.0361 - recall_18: 0.98 - ETA: 18s - loss: 0.0363 - recall_18: 0.98 - ETA: 18s - loss: 0.0364 - recall_18: 0.98 - ETA: 18s - loss: 0.0362 - recall_18: 0.98 - ETA: 18s - loss: 0.0361 - recall_18: 0.98 - ETA: 18s - loss: 0.0360 - recall_18: 0.98 - ETA: 18s - loss: 0.0360 - recall_18: 0.98 - ETA: 18s - loss: 0.0361 - recall_18: 0.98 - ETA: 18s - loss: 0.0361 - recall_18: 0.98 - ETA: 18s - loss: 0.0360 - recall_18: 0.98 - ETA: 18s - loss: 0.0359 - recall_18: 0.98 - ETA: 18s - loss: 0.0359 - recall_18: 0.98 - ETA: 17s - loss: 0.0360 - recall_18: 0.98 - ETA: 17s - loss: 0.0362 - recall_18: 0.98 - ETA: 17s - loss: 0.0360 - recall_18: 0.98 - ETA: 17s - loss: 0.0360 - recall_18: 0.98 - ETA: 17s - loss: 0.0360 - recall_18: 0.98 - ETA: 17s - loss: 0.0358 - recall_18: 0.98 - ETA: 17s - loss: 0.0360 - recall_18: 0.98 - ETA: 17s - loss: 0.0359 - recall_18: 0.98 - ETA: 17s - loss: 0.0364 - recall_18: 0.98 - ETA: 17s - loss: 0.0364 - recall_18: 0.98 - ETA: 17s - loss: 0.0362 - recall_18: 0.98 - ETA: 17s - loss: 0.0365 - recall_18: 0.98 - ETA: 17s - loss: 0.0364 - recall_18: 0.98 - ETA: 17s - loss: 0.0367 - recall_18: 0.98 - ETA: 17s - loss: 0.0368 - recall_18: 0.98 - ETA: 17s - loss: 0.0372 - recall_18: 0.98 - ETA: 17s - loss: 0.0372 - recall_18: 0.98 - ETA: 17s - loss: 0.0371 - recall_18: 0.98 - ETA: 16s - loss: 0.0371 - recall_18: 0.98 - ETA: 16s - loss: 0.0372 - recall_18: 0.98 - ETA: 16s - loss: 0.0373 - recall_18: 0.98 - ETA: 16s - loss: 0.0373 - recall_18: 0.98 - ETA: 16s - loss: 0.0373 - recall_18: 0.988243520/59872 [====================>.........] - ETA: 16s - loss: 0.0374 - recall_18: 0.98 - ETA: 16s - loss: 0.0374 - recall_18: 0.98 - ETA: 16s - loss: 0.0377 - recall_18: 0.98 - ETA: 16s - loss: 0.0376 - recall_18: 0.98 - ETA: 16s - loss: 0.0375 - recall_18: 0.98 - ETA: 16s - loss: 0.0374 - recall_18: 0.98 - ETA: 16s - loss: 0.0374 - recall_18: 0.98 - ETA: 16s - loss: 0.0373 - recall_18: 0.98 - ETA: 16s - loss: 0.0375 - recall_18: 0.98 - ETA: 16s - loss: 0.0375 - recall_18: 0.98 - ETA: 16s - loss: 0.0374 - recall_18: 0.98 - ETA: 16s - loss: 0.0381 - recall_18: 0.98 - ETA: 15s - loss: 0.0383 - recall_18: 0.98 - ETA: 15s - loss: 0.0382 - recall_18: 0.98 - ETA: 15s - loss: 0.0381 - recall_18: 0.98 - ETA: 15s - loss: 0.0380 - recall_18: 0.98 - ETA: 15s - loss: 0.0381 - recall_18: 0.98 - ETA: 15s - loss: 0.0382 - recall_18: 0.98 - ETA: 15s - loss: 0.0382 - recall_18: 0.98 - ETA: 15s - loss: 0.0380 - recall_18: 0.98 - ETA: 15s - loss: 0.0381 - recall_18: 0.98 - ETA: 15s - loss: 0.0380 - recall_18: 0.98 - ETA: 15s - loss: 0.0379 - recall_18: 0.98 - ETA: 15s - loss: 0.0378 - recall_18: 0.98 - ETA: 15s - loss: 0.0378 - recall_18: 0.98 - ETA: 15s - loss: 0.0378 - recall_18: 0.98 - ETA: 15s - loss: 0.0378 - recall_18: 0.98 - ETA: 15s - loss: 0.0377 - recall_18: 0.98 - ETA: 15s - loss: 0.0379 - recall_18: 0.98 - ETA: 14s - loss: 0.0381 - recall_18: 0.98 - ETA: 14s - loss: 0.0380 - recall_18: 0.98 - ETA: 14s - loss: 0.0379 - recall_18: 0.98 - ETA: 14s - loss: 0.0379 - recall_18: 0.98 - ETA: 14s - loss: 0.0379 - recall_18: 0.98 - ETA: 14s - loss: 0.0384 - recall_18: 0.98 - ETA: 14s - loss: 0.0383 - recall_18: 0.98 - ETA: 14s - loss: 0.0382 - recall_18: 0.98 - ETA: 14s - loss: 0.0381 - recall_18: 0.98 - ETA: 14s - loss: 0.0380 - recall_18: 0.98 - ETA: 14s - loss: 0.0380 - recall_18: 0.98 - ETA: 14s - loss: 0.0382 - recall_18: 0.98 - ETA: 14s - loss: 0.0382 - recall_18: 0.98 - ETA: 14s - loss: 0.0381 - recall_18: 0.98 - ETA: 14s - loss: 0.0380 - recall_18: 0.98 - ETA: 14s - loss: 0.0382 - recall_18: 0.98 - ETA: 14s - loss: 0.0382 - recall_18: 0.98 - ETA: 14s - loss: 0.0384 - recall_18: 0.98 - ETA: 13s - loss: 0.0384 - recall_18: 0.98 - ETA: 13s - loss: 0.0385 - recall_18: 0.98 - ETA: 13s - loss: 0.0385 - recall_18: 0.98 - ETA: 13s - loss: 0.0384 - recall_18: 0.98 - ETA: 13s - loss: 0.0384 - recall_18: 0.98 - ETA: 13s - loss: 0.0383 - recall_18: 0.98 - ETA: 13s - loss: 0.0383 - recall_18: 0.98 - ETA: 13s - loss: 0.0382 - recall_18: 0.98 - ETA: 13s - loss: 0.0382 - recall_18: 0.98 - ETA: 13s - loss: 0.0383 - recall_18: 0.98 - ETA: 13s - loss: 0.0381 - recall_18: 0.98 - ETA: 13s - loss: 0.0381 - recall_18: 0.98 - ETA: 13s - loss: 0.0379 - recall_18: 0.98 - ETA: 13s - loss: 0.0380 - recall_18: 0.98 - ETA: 13s - loss: 0.0379 - recall_18: 0.98 - ETA: 13s - loss: 0.0379 - recall_18: 0.98 - ETA: 13s - loss: 0.0379 - recall_18: 0.98 - ETA: 12s - loss: 0.0379 - recall_18: 0.98 - ETA: 12s - loss: 0.0378 - recall_18: 0.98 - ETA: 12s - loss: 0.0377 - recall_18: 0.98 - ETA: 12s - loss: 0.0376 - recall_18: 0.98 - ETA: 12s - loss: 0.0376 - recall_18: 0.98 - ETA: 12s - loss: 0.0376 - recall_18: 0.98 - ETA: 12s - loss: 0.0375 - recall_18: 0.98 - ETA: 12s - loss: 0.0375 - recall_18: 0.98 - ETA: 12s - loss: 0.0374 - recall_18: 0.98 - ETA: 12s - loss: 0.0374 - recall_18: 0.98 - ETA: 12s - loss: 0.0377 - recall_18: 0.98 - ETA: 12s - loss: 0.0379 - recall_18: 0.98 - ETA: 12s - loss: 0.0378 - recall_18: 0.98 - ETA: 12s - loss: 0.0380 - recall_18: 0.98 - ETA: 12s - loss: 0.0380 - recall_18: 0.98 - ETA: 12s - loss: 0.0379 - recall_18: 0.98 - ETA: 12s - loss: 0.0379 - recall_18: 0.98 - ETA: 12s - loss: 0.0378 - recall_18: 0.98 - ETA: 11s - loss: 0.0378 - recall_18: 0.98 - ETA: 11s - loss: 0.0378 - recall_18: 0.98 - ETA: 11s - loss: 0.0377 - recall_18: 0.98 - ETA: 11s - loss: 0.0377 - recall_18: 0.98 - ETA: 11s - loss: 0.0378 - recall_18: 0.98 - ETA: 11s - loss: 0.0377 - recall_18: 0.98 - ETA: 11s - loss: 0.0377 - recall_18: 0.98 - ETA: 11s - loss: 0.0376 - recall_18: 0.98 - ETA: 11s - loss: 0.0376 - recall_18: 0.98 - ETA: 11s - loss: 0.0375 - recall_18: 0.98 - ETA: 11s - loss: 0.0374 - recall_18: 0.98 - ETA: 11s - loss: 0.0374 - recall_18: 0.98 - ETA: 11s - loss: 0.0373 - recall_18: 0.98 - ETA: 11s - loss: 0.0373 - recall_18: 0.98 - ETA: 11s - loss: 0.0374 - recall_18: 0.98 - ETA: 11s - loss: 0.0375 - recall_18: 0.98 - ETA: 11s - loss: 0.0377 - recall_18: 0.98 - ETA: 11s - loss: 0.0377 - recall_18: 0.98 - ETA: 11s - loss: 0.0377 - recall_18: 0.98 - ETA: 10s - loss: 0.0377 - recall_18: 0.98 - ETA: 10s - loss: 0.0377 - recall_18: 0.98 - ETA: 10s - loss: 0.0376 - recall_18: 0.98 - ETA: 10s - loss: 0.0376 - recall_18: 0.98 - ETA: 10s - loss: 0.0377 - recall_18: 0.98 - ETA: 10s - loss: 0.0377 - recall_18: 0.98 - ETA: 10s - loss: 0.0377 - recall_18: 0.98 - ETA: 10s - loss: 0.0377 - recall_18: 0.98 - ETA: 10s - loss: 0.0376 - recall_18: 0.98 - ETA: 10s - loss: 0.0379 - recall_18: 0.98 - ETA: 10s - loss: 0.0379 - recall_18: 0.98 - ETA: 10s - loss: 0.0379 - recall_18: 0.98 - ETA: 10s - loss: 0.0378 - recall_18: 0.98 - ETA: 10s - loss: 0.0378 - recall_18: 0.98 - ETA: 10s - loss: 0.0378 - recall_18: 0.98 - ETA: 10s - loss: 0.0378 - recall_18: 0.98 - ETA: 10s - loss: 0.0377 - recall_18: 0.98 - ETA: 10s - loss: 0.0377 - recall_18: 0.98 - ETA: 10s - loss: 0.0379 - recall_18: 0.98 - ETA: 10s - loss: 0.0378 - recall_18: 0.98 - ETA: 10s - loss: 0.0378 - recall_18: 0.98 - ETA: 10s - loss: 0.0378 - recall_18: 0.98 - ETA: 10s - loss: 0.0377 - recall_18: 0.98 - ETA: 10s - loss: 0.0377 - recall_18: 0.98 - ETA: 10s - loss: 0.0376 - recall_18: 0.98 - ETA: 10s - loss: 0.0376 - recall_18: 0.98 - ETA: 10s - loss: 0.0377 - recall_18: 0.98 - ETA: 10s - loss: 0.0377 - recall_18: 0.98 - ETA: 10s - loss: 0.0377 - recall_18: 0.98 - ETA: 10s - loss: 0.0377 - recall_18: 0.98 - ETA: 9s - loss: 0.0378 - recall_18: 0.9883 - ETA: 9s - loss: 0.0379 - recall_18: 0.988 - ETA: 9s - loss: 0.0379 - recall_18: 0.988 - ETA: 9s - loss: 0.0378 - recall_18: 0.988 - ETA: 9s - loss: 0.0379 - recall_18: 0.988 - ETA: 9s - loss: 0.0379 - recall_18: 0.988 - ETA: 9s - loss: 0.0379 - recall_18: 0.988 - ETA: 9s - loss: 0.0378 - recall_18: 0.988 - ETA: 9s - loss: 0.0378 - recall_18: 0.988 - ETA: 9s - loss: 0.0378 - recall_18: 0.988 - ETA: 9s - loss: 0.0378 - recall_18: 0.988 - ETA: 9s - loss: 0.0378 - recall_18: 0.988 - ETA: 9s - loss: 0.0377 - recall_18: 0.988 - ETA: 9s - loss: 0.0377 - recall_18: 0.988 - ETA: 9s - loss: 0.0378 - recall_18: 0.988 - ETA: 9s - loss: 0.0377 - recall_18: 0.988 - ETA: 9s - loss: 0.0378 - recall_18: 0.988 - ETA: 9s - loss: 0.0378 - recall_18: 0.988 - ETA: 9s - loss: 0.0378 - recall_18: 0.988 - ETA: 9s - loss: 0.0377 - recall_18: 0.988 - ETA: 9s - loss: 0.0378 - recall_18: 0.988 - ETA: 9s - loss: 0.0378 - recall_18: 0.988 - ETA: 9s - loss: 0.0378 - recall_18: 0.988 - ETA: 9s - loss: 0.0378 - recall_18: 0.988 - ETA: 9s - loss: 0.0378 - recall_18: 0.988 - ETA: 9s - loss: 0.0380 - recall_18: 0.988 - ETA: 9s - loss: 0.0379 - recall_18: 0.988 - ETA: 9s - loss: 0.0379 - recall_18: 0.988 - ETA: 9s - loss: 0.0379 - recall_18: 0.988 - ETA: 9s - loss: 0.0378 - recall_18: 0.988 - ETA: 9s - loss: 0.0378 - recall_18: 0.988 - ETA: 9s - loss: 0.0378 - recall_18: 0.988 - ETA: 9s - loss: 0.0378 - recall_18: 0.988 - ETA: 9s - loss: 0.0379 - recall_18: 0.988 - ETA: 9s - loss: 0.0379 - recall_18: 0.988 - ETA: 9s - loss: 0.0379 - recall_18: 0.988 - ETA: 8s - loss: 0.0379 - recall_18: 0.988 - ETA: 8s - loss: 0.0379 - recall_18: 0.988 - ETA: 8s - loss: 0.0378 - recall_18: 0.988 - ETA: 8s - loss: 0.0378 - recall_18: 0.988 - ETA: 8s - loss: 0.0377 - recall_18: 0.988 - ETA: 8s - loss: 0.0377 - recall_18: 0.988 - ETA: 8s - loss: 0.0376 - recall_18: 0.988 - ETA: 8s - loss: 0.0377 - recall_18: 0.988 - ETA: 8s - loss: 0.0376 - recall_18: 0.988 - ETA: 8s - loss: 0.0376 - recall_18: 0.988 - ETA: 8s - loss: 0.0378 - recall_18: 0.988 - ETA: 8s - loss: 0.0377 - recall_18: 0.988 - ETA: 8s - loss: 0.0378 - recall_18: 0.988 - ETA: 8s - loss: 0.0378 - recall_18: 0.988 - ETA: 8s - loss: 0.0377 - recall_18: 0.988 - ETA: 8s - loss: 0.0377 - recall_18: 0.988 - ETA: 8s - loss: 0.0378 - recall_18: 0.988 - ETA: 8s - loss: 0.0377 - recall_18: 0.988 - ETA: 8s - loss: 0.0377 - recall_18: 0.9882"
     ]
    },
    {
     "name": "stdout",
     "output_type": "stream",
     "text": [
      "59872/59872 [==============================] - ETA: 8s - loss: 0.0377 - recall_18: 0.988 - ETA: 7s - loss: 0.0377 - recall_18: 0.988 - ETA: 7s - loss: 0.0377 - recall_18: 0.988 - ETA: 7s - loss: 0.0377 - recall_18: 0.988 - ETA: 7s - loss: 0.0377 - recall_18: 0.988 - ETA: 7s - loss: 0.0377 - recall_18: 0.988 - ETA: 7s - loss: 0.0376 - recall_18: 0.988 - ETA: 7s - loss: 0.0376 - recall_18: 0.988 - ETA: 7s - loss: 0.0377 - recall_18: 0.988 - ETA: 7s - loss: 0.0377 - recall_18: 0.988 - ETA: 7s - loss: 0.0376 - recall_18: 0.988 - ETA: 7s - loss: 0.0377 - recall_18: 0.988 - ETA: 7s - loss: 0.0376 - recall_18: 0.988 - ETA: 7s - loss: 0.0378 - recall_18: 0.988 - ETA: 7s - loss: 0.0378 - recall_18: 0.988 - ETA: 7s - loss: 0.0379 - recall_18: 0.988 - ETA: 7s - loss: 0.0380 - recall_18: 0.988 - ETA: 7s - loss: 0.0382 - recall_18: 0.988 - ETA: 7s - loss: 0.0384 - recall_18: 0.988 - ETA: 7s - loss: 0.0386 - recall_18: 0.988 - ETA: 7s - loss: 0.0386 - recall_18: 0.988 - ETA: 7s - loss: 0.0386 - recall_18: 0.988 - ETA: 7s - loss: 0.0388 - recall_18: 0.988 - ETA: 6s - loss: 0.0389 - recall_18: 0.988 - ETA: 6s - loss: 0.0388 - recall_18: 0.988 - ETA: 6s - loss: 0.0388 - recall_18: 0.988 - ETA: 6s - loss: 0.0389 - recall_18: 0.988 - ETA: 6s - loss: 0.0390 - recall_18: 0.988 - ETA: 6s - loss: 0.0391 - recall_18: 0.987 - ETA: 6s - loss: 0.0390 - recall_18: 0.987 - ETA: 6s - loss: 0.0389 - recall_18: 0.988 - ETA: 6s - loss: 0.0389 - recall_18: 0.988 - ETA: 6s - loss: 0.0388 - recall_18: 0.988 - ETA: 6s - loss: 0.0390 - recall_18: 0.987 - ETA: 6s - loss: 0.0390 - recall_18: 0.987 - ETA: 6s - loss: 0.0392 - recall_18: 0.987 - ETA: 6s - loss: 0.0393 - recall_18: 0.987 - ETA: 6s - loss: 0.0393 - recall_18: 0.987 - ETA: 6s - loss: 0.0393 - recall_18: 0.987 - ETA: 6s - loss: 0.0393 - recall_18: 0.987 - ETA: 5s - loss: 0.0393 - recall_18: 0.987 - ETA: 5s - loss: 0.0393 - recall_18: 0.987 - ETA: 5s - loss: 0.0392 - recall_18: 0.987 - ETA: 5s - loss: 0.0393 - recall_18: 0.987 - ETA: 5s - loss: 0.0393 - recall_18: 0.987 - ETA: 5s - loss: 0.0392 - recall_18: 0.987 - ETA: 5s - loss: 0.0392 - recall_18: 0.987 - ETA: 5s - loss: 0.0394 - recall_18: 0.987 - ETA: 5s - loss: 0.0394 - recall_18: 0.987 - ETA: 5s - loss: 0.0395 - recall_18: 0.987 - ETA: 5s - loss: 0.0396 - recall_18: 0.987 - ETA: 5s - loss: 0.0395 - recall_18: 0.987 - ETA: 5s - loss: 0.0395 - recall_18: 0.987 - ETA: 5s - loss: 0.0395 - recall_18: 0.987 - ETA: 5s - loss: 0.0396 - recall_18: 0.987 - ETA: 5s - loss: 0.0396 - recall_18: 0.987 - ETA: 5s - loss: 0.0397 - recall_18: 0.987 - ETA: 4s - loss: 0.0396 - recall_18: 0.987 - ETA: 4s - loss: 0.0397 - recall_18: 0.987 - ETA: 4s - loss: 0.0397 - recall_18: 0.987 - ETA: 4s - loss: 0.0396 - recall_18: 0.987 - ETA: 4s - loss: 0.0396 - recall_18: 0.987 - ETA: 4s - loss: 0.0397 - recall_18: 0.987 - ETA: 4s - loss: 0.0397 - recall_18: 0.987 - ETA: 4s - loss: 0.0397 - recall_18: 0.987 - ETA: 4s - loss: 0.0397 - recall_18: 0.987 - ETA: 4s - loss: 0.0397 - recall_18: 0.987 - ETA: 4s - loss: 0.0398 - recall_18: 0.987 - ETA: 4s - loss: 0.0397 - recall_18: 0.987 - ETA: 4s - loss: 0.0397 - recall_18: 0.987 - ETA: 4s - loss: 0.0396 - recall_18: 0.987 - ETA: 4s - loss: 0.0396 - recall_18: 0.987 - ETA: 4s - loss: 0.0397 - recall_18: 0.987 - ETA: 4s - loss: 0.0397 - recall_18: 0.987 - ETA: 4s - loss: 0.0397 - recall_18: 0.987 - ETA: 3s - loss: 0.0397 - recall_18: 0.987 - ETA: 3s - loss: 0.0397 - recall_18: 0.987 - ETA: 3s - loss: 0.0399 - recall_18: 0.987 - ETA: 3s - loss: 0.0398 - recall_18: 0.987 - ETA: 3s - loss: 0.0398 - recall_18: 0.987 - ETA: 3s - loss: 0.0398 - recall_18: 0.987 - ETA: 3s - loss: 0.0398 - recall_18: 0.987 - ETA: 3s - loss: 0.0398 - recall_18: 0.987 - ETA: 3s - loss: 0.0398 - recall_18: 0.987 - ETA: 3s - loss: 0.0399 - recall_18: 0.987 - ETA: 3s - loss: 0.0399 - recall_18: 0.987 - ETA: 3s - loss: 0.0399 - recall_18: 0.987 - ETA: 3s - loss: 0.0399 - recall_18: 0.987 - ETA: 3s - loss: 0.0398 - recall_18: 0.987 - ETA: 3s - loss: 0.0398 - recall_18: 0.987 - ETA: 3s - loss: 0.0397 - recall_18: 0.987 - ETA: 3s - loss: 0.0397 - recall_18: 0.987 - ETA: 3s - loss: 0.0398 - recall_18: 0.987 - ETA: 3s - loss: 0.0398 - recall_18: 0.987 - ETA: 2s - loss: 0.0397 - recall_18: 0.987 - ETA: 2s - loss: 0.0397 - recall_18: 0.987 - ETA: 2s - loss: 0.0397 - recall_18: 0.987 - ETA: 2s - loss: 0.0397 - recall_18: 0.987 - ETA: 2s - loss: 0.0398 - recall_18: 0.987 - ETA: 2s - loss: 0.0397 - recall_18: 0.987 - ETA: 2s - loss: 0.0398 - recall_18: 0.987 - ETA: 2s - loss: 0.0398 - recall_18: 0.987 - ETA: 2s - loss: 0.0398 - recall_18: 0.987 - ETA: 2s - loss: 0.0397 - recall_18: 0.987 - ETA: 2s - loss: 0.0398 - recall_18: 0.987 - ETA: 2s - loss: 0.0397 - recall_18: 0.987 - ETA: 2s - loss: 0.0398 - recall_18: 0.987 - ETA: 2s - loss: 0.0397 - recall_18: 0.987 - ETA: 2s - loss: 0.0397 - recall_18: 0.987 - ETA: 2s - loss: 0.0396 - recall_18: 0.987 - ETA: 2s - loss: 0.0396 - recall_18: 0.987 - ETA: 1s - loss: 0.0396 - recall_18: 0.987 - ETA: 1s - loss: 0.0395 - recall_18: 0.987 - ETA: 1s - loss: 0.0395 - recall_18: 0.987 - ETA: 1s - loss: 0.0395 - recall_18: 0.987 - ETA: 1s - loss: 0.0395 - recall_18: 0.987 - ETA: 1s - loss: 0.0395 - recall_18: 0.987 - ETA: 1s - loss: 0.0394 - recall_18: 0.987 - ETA: 1s - loss: 0.0394 - recall_18: 0.987 - ETA: 1s - loss: 0.0393 - recall_18: 0.987 - ETA: 1s - loss: 0.0393 - recall_18: 0.987 - ETA: 1s - loss: 0.0394 - recall_18: 0.987 - ETA: 1s - loss: 0.0394 - recall_18: 0.987 - ETA: 1s - loss: 0.0394 - recall_18: 0.987 - ETA: 1s - loss: 0.0394 - recall_18: 0.987 - ETA: 1s - loss: 0.0394 - recall_18: 0.987 - ETA: 1s - loss: 0.0394 - recall_18: 0.987 - ETA: 0s - loss: 0.0395 - recall_18: 0.987 - ETA: 0s - loss: 0.0395 - recall_18: 0.987 - ETA: 0s - loss: 0.0396 - recall_18: 0.987 - ETA: 0s - loss: 0.0396 - recall_18: 0.987 - ETA: 0s - loss: 0.0396 - recall_18: 0.987 - ETA: 0s - loss: 0.0397 - recall_18: 0.987 - ETA: 0s - loss: 0.0397 - recall_18: 0.987 - ETA: 0s - loss: 0.0396 - recall_18: 0.987 - ETA: 0s - loss: 0.0396 - recall_18: 0.987 - ETA: 0s - loss: 0.0395 - recall_18: 0.987 - ETA: 0s - loss: 0.0396 - recall_18: 0.987 - ETA: 0s - loss: 0.0396 - recall_18: 0.987 - ETA: 0s - loss: 0.0395 - recall_18: 0.987 - ETA: 0s - loss: 0.0395 - recall_18: 0.987 - ETA: 0s - loss: 0.0395 - recall_18: 0.987 - ETA: 0s - loss: 0.0394 - recall_18: 0.987 - ETA: 0s - loss: 0.0394 - recall_18: 0.987 - 31s 522us/sample - loss: 0.0394 - recall_18: 0.9875 - val_loss: 0.5406 - val_recall_18: 0.9307\n",
      "10500/10500 [==============================] - ETA: 1s - loss: 0.5221 - recall_18: 0.968 - ETA: 1s - loss: 0.8983 - recall_18: 0.917 - ETA: 1s - loss: 0.6966 - recall_18: 0.925 - ETA: 1s - loss: 0.6369 - recall_18: 0.929 - ETA: 1s - loss: 0.6423 - recall_18: 0.925 - ETA: 1s - loss: 0.6342 - recall_18: 0.926 - ETA: 1s - loss: 0.6171 - recall_18: 0.924 - ETA: 1s - loss: 0.5895 - recall_18: 0.925 - ETA: 1s - loss: 0.5935 - recall_18: 0.923 - ETA: 1s - loss: 0.5946 - recall_18: 0.923 - ETA: 1s - loss: 0.5659 - recall_18: 0.926 - ETA: 0s - loss: 0.5680 - recall_18: 0.926 - ETA: 0s - loss: 0.5693 - recall_18: 0.927 - ETA: 0s - loss: 0.5630 - recall_18: 0.928 - ETA: 0s - loss: 0.5524 - recall_18: 0.928 - ETA: 0s - loss: 0.5491 - recall_18: 0.928 - ETA: 0s - loss: 0.5404 - recall_18: 0.929 - ETA: 0s - loss: 0.5340 - recall_18: 0.930 - ETA: 0s - loss: 0.5288 - recall_18: 0.930 - ETA: 0s - loss: 0.5308 - recall_18: 0.929 - ETA: 0s - loss: 0.5314 - recall_18: 0.930 - ETA: 0s - loss: 0.5253 - recall_18: 0.930 - ETA: 0s - loss: 0.5306 - recall_18: 0.930 - ETA: 0s - loss: 0.5346 - recall_18: 0.930 - ETA: 0s - loss: 0.5375 - recall_18: 0.930 - ETA: 0s - loss: 0.5369 - recall_18: 0.930 - ETA: 0s - loss: 0.5311 - recall_18: 0.930 - ETA: 0s - loss: 0.5434 - recall_18: 0.930 - ETA: 0s - loss: 0.5500 - recall_18: 0.929 - ETA: 0s - loss: 0.5433 - recall_18: 0.930 - ETA: 0s - loss: 0.5436 - recall_18: 0.930 - 2s 154us/sample - loss: 0.5406 - recall_18: 0.9307\n",
      "Test accuracy: 0.9306667\n"
     ]
    },
    {
     "data": {
      "image/png": "[encoded data removed]",
      "text/plain": [
       "<Figure size 432x360 with 1 Axes>"
      ]
     },
     "metadata": {
      "needs_background": "light"
     },
     "output_type": "display_data"
    }
   ],
   "source": [
    "model_up.compile(optimizer='adam', \n",
    "              loss='binary_crossentropy',\n",
    "              metrics=[tf.keras.metrics.Recall()])\n",
    "\n",
    "history = model_up.fit(up_X,\n",
    "          pd.get_dummies(up_y),\n",
    "          epochs=5,\n",
    "          validation_data=(X_test, pd.get_dummies(y_test))\n",
    "         )\n",
    "plot_loss(history)\n",
    "test_loss, test_acc = model_up.evaluate(X_test, pd.get_dummies(y_test))\n",
    "print('Test accuracy:', test_acc)"
   ]
  },
  {
   "cell_type": "code",
   "execution_count": 155,
   "metadata": {
    "ExecuteTime": {
     "end_time": "2019-08-19T06:00:19.916262Z",
     "start_time": "2019-08-19T06:00:16.582170Z"
    }
   },
   "outputs": [
    {
     "name": "stdout",
     "output_type": "stream",
     "text": [
      "전체채팅수10500, 유해채팅수625\n"
     ]
    }
   ],
   "source": [
    "result = pd.DataFrame(np.apply_along_axis(index_to_text, 1, X_test))\n",
    "result['predict'] = model_up.predict_proba(X_test)[:,1] # 유해하다고 판별할 확률\n",
    "print('전체채팅수{}, 유해채팅수{}'.format(len(result),len(result[result.predict>0.5])))\n",
    "result[result.predict>0.5].head(10)\n",
    "result['label'] = y_test"
   ]
  },
  {
   "cell_type": "markdown",
   "metadata": {},
   "source": [
    "### Recall"
   ]
  },
  {
   "cell_type": "code",
   "execution_count": 19,
   "metadata": {
    "ExecuteTime": {
     "end_time": "2019-08-20T11:10:25.126553Z",
     "start_time": "2019-08-20T11:10:25.114555Z"
    }
   },
   "outputs": [],
   "source": [
    "from sklearn.metrics import recall_score, accuracy_score, f1_score"
   ]
  },
  {
   "cell_type": "code",
   "execution_count": 159,
   "metadata": {
    "ExecuteTime": {
     "end_time": "2019-08-19T06:00:51.608105Z",
     "start_time": "2019-08-19T06:00:49.423356Z"
    },
    "scrolled": true
   },
   "outputs": [
    {
     "data": {
      "text/plain": [
       "(0.40225563909774437, 0.9306666666666666, 0.3702422145328719)"
      ]
     },
     "execution_count": 159,
     "metadata": {},
     "output_type": "execute_result"
    }
   ],
   "source": [
    "recall_score(y_test, model_up.predict_classes(X_test)),\\\n",
    "accuracy_score(y_test, model_up.predict_classes(X_test)),\\\n",
    "f1_score(y_test, model_up.predict_classes(X_test))"
   ]
  },
  {
   "cell_type": "code",
   "execution_count": 158,
   "metadata": {
    "ExecuteTime": {
     "end_time": "2019-08-19T06:00:28.657251Z",
     "start_time": "2019-08-19T06:00:22.821597Z"
    }
   },
   "outputs": [],
   "source": [
    "model_up.save('../model/cnn_oversample.h5')"
   ]
  },
  {
   "cell_type": "markdown",
   "metadata": {},
   "source": [
    "## Downsampling"
   ]
  },
  {
   "cell_type": "code",
   "execution_count": 15,
   "metadata": {
    "ExecuteTime": {
     "end_time": "2019-08-20T11:09:58.810629Z",
     "start_time": "2019-08-20T11:09:58.759655Z"
    }
   },
   "outputs": [
    {
     "data": {
      "text/plain": [
       "(3146, 1573)"
      ]
     },
     "execution_count": 15,
     "metadata": {},
     "output_type": "execute_result"
    }
   ],
   "source": [
    "down_X, down_y = RandomUnderSampler().fit_resample(X_train, y_train)\n",
    "\n",
    "# 총 데이터 수 , 1 레이블 데이터 수\n",
    "len(down_y), down_y.sum()"
   ]
  },
  {
   "cell_type": "code",
   "execution_count": 16,
   "metadata": {
    "ExecuteTime": {
     "end_time": "2019-08-20T11:09:59.634153Z",
     "start_time": "2019-08-20T11:09:58.817622Z"
    }
   },
   "outputs": [
    {
     "name": "stderr",
     "output_type": "stream",
     "text": [
      "WARNING: Logging before flag parsing goes to stderr.\n",
      "W0820 20:09:58.924571 11736 deprecation.py:506] From C:\\Users\\skarn\\Anaconda3\\envs\\DataAnalysis\\lib\\site-packages\\tensorflow\\python\\keras\\initializers.py:119: calling RandomUniform.__init__ (from tensorflow.python.ops.init_ops) with dtype is deprecated and will be removed in a future version.\n",
      "Instructions for updating:\n",
      "Call initializer instance with the dtype argument instead of passing it to the constructor\n",
      "W0820 20:09:58.932556 11736 deprecation.py:506] From C:\\Users\\skarn\\Anaconda3\\envs\\DataAnalysis\\lib\\site-packages\\tensorflow\\python\\ops\\init_ops.py:1251: calling VarianceScaling.__init__ (from tensorflow.python.ops.init_ops) with dtype is deprecated and will be removed in a future version.\n",
      "Instructions for updating:\n",
      "Call initializer instance with the dtype argument instead of passing it to the constructor\n",
      "C:\\Users\\skarn\\Anaconda3\\envs\\DataAnalysis\\lib\\site-packages\\tensorflow\\python\\ops\\nn_ops.py:61: DeprecationWarning: Using or importing the ABCs from 'collections' instead of from 'collections.abc' is deprecated, and in 3.8 it will stop working\n",
      "  elif not isinstance(value, collections.Sized):\n"
     ]
    }
   ],
   "source": [
    "model_down = keras.Sequential([\n",
    "    keras.layers.Embedding(vocab_size, 10),\n",
    "    keras.layers.Conv1D(32, 3, padding=\"same\", activation=tf.nn.relu,),\n",
    "    keras.layers.Dropout(0.5),\n",
    "    keras.layers.Conv1D(32, 3, padding=\"same\", activation=tf.nn.relu),\n",
    "    keras.layers.GlobalMaxPool1D(),\n",
    "    keras.layers.Dropout(0.5),\n",
    "    keras.layers.Dense(2, activation=tf.nn.sigmoid)\n",
    "])"
   ]
  },
  {
   "cell_type": "code",
   "execution_count": 17,
   "metadata": {
    "ExecuteTime": {
     "end_time": "2019-08-20T11:10:18.116567Z",
     "start_time": "2019-08-20T11:09:59.639151Z"
    }
   },
   "outputs": [
    {
     "name": "stderr",
     "output_type": "stream",
     "text": [
      "W0820 20:09:59.934979 11736 deprecation.py:323] From C:\\Users\\skarn\\Anaconda3\\envs\\DataAnalysis\\lib\\site-packages\\tensorflow\\python\\ops\\nn_impl.py:180: add_dispatch_support.<locals>.wrapper (from tensorflow.python.ops.array_ops) is deprecated and will be removed in a future version.\n",
      "Instructions for updating:\n",
      "Use tf.where in 2.0, which has the same broadcast rule as np.where\n"
     ]
    },
    {
     "name": "stdout",
     "output_type": "stream",
     "text": [
      "Train on 3146 samples, validate on 10500 samples\n",
      "Epoch 1/5\n",
      "3146/3146 [==============================] - ETA: 1:31 - loss: 0.6885 - recall: 0.53 - ETA: 23s - loss: 0.6912 - recall: 0.3516 - ETA: 13s - loss: 0.6933 - recall: 0.312 - ETA: 8s - loss: 0.6932 - recall: 0.329 - ETA: 7s - loss: 0.6928 - recall: 0.34 - ETA: 5s - loss: 0.6925 - recall: 0.35 - ETA: 5s - loss: 0.6928 - recall: 0.35 - ETA: 4s - loss: 0.6924 - recall: 0.37 - ETA: 3s - loss: 0.6924 - recall: 0.38 - ETA: 3s - loss: 0.6920 - recall: 0.39 - ETA: 2s - loss: 0.6922 - recall: 0.39 - ETA: 2s - loss: 0.6921 - recall: 0.40 - ETA: 2s - loss: 0.6925 - recall: 0.40 - ETA: 1s - loss: 0.6924 - recall: 0.41 - ETA: 1s - loss: 0.6922 - recall: 0.41 - ETA: 1s - loss: 0.6921 - recall: 0.42 - ETA: 1s - loss: 0.6923 - recall: 0.43 - ETA: 1s - loss: 0.6921 - recall: 0.43 - ETA: 0s - loss: 0.6919 - recall: 0.44 - ETA: 0s - loss: 0.6916 - recall: 0.44 - ETA: 0s - loss: 0.6914 - recall: 0.45 - ETA: 0s - loss: 0.6914 - recall: 0.45 - ETA: 0s - loss: 0.6911 - recall: 0.45 - ETA: 0s - loss: 0.6910 - recall: 0.45 - ETA: 0s - loss: 0.6908 - recall: 0.45 - ETA: 0s - loss: 0.6908 - recall: 0.45 - ETA: 0s - loss: 0.6906 - recall: 0.46 - ETA: 0s - loss: 0.6904 - recall: 0.46 - 4s 1ms/sample - loss: 0.6904 - recall: 0.4673 - val_loss: 0.6893 - val_recall: 0.5266\n",
      "Epoch 2/5\n",
      "3146/3146 [==============================] - ETA: 1s - loss: 0.6911 - recall: 0.56 - ETA: 1s - loss: 0.6795 - recall: 0.59 - ETA: 1s - loss: 0.6786 - recall: 0.57 - ETA: 1s - loss: 0.6770 - recall: 0.57 - ETA: 1s - loss: 0.6767 - recall: 0.58 - ETA: 1s - loss: 0.6764 - recall: 0.59 - ETA: 1s - loss: 0.6764 - recall: 0.57 - ETA: 1s - loss: 0.6753 - recall: 0.58 - ETA: 1s - loss: 0.6751 - recall: 0.57 - ETA: 1s - loss: 0.6748 - recall: 0.57 - ETA: 1s - loss: 0.6748 - recall: 0.57 - ETA: 1s - loss: 0.6734 - recall: 0.57 - ETA: 0s - loss: 0.6732 - recall: 0.57 - ETA: 0s - loss: 0.6715 - recall: 0.57 - ETA: 0s - loss: 0.6709 - recall: 0.57 - ETA: 0s - loss: 0.6695 - recall: 0.58 - ETA: 0s - loss: 0.6672 - recall: 0.58 - ETA: 0s - loss: 0.6650 - recall: 0.59 - ETA: 0s - loss: 0.6642 - recall: 0.59 - ETA: 0s - loss: 0.6633 - recall: 0.59 - ETA: 0s - loss: 0.6625 - recall: 0.59 - ETA: 0s - loss: 0.6597 - recall: 0.60 - ETA: 0s - loss: 0.6585 - recall: 0.60 - ETA: 0s - loss: 0.6559 - recall: 0.60 - ETA: 0s - loss: 0.6548 - recall: 0.60 - ETA: 0s - loss: 0.6531 - recall: 0.61 - ETA: 0s - loss: 0.6505 - recall: 0.61 - ETA: 0s - loss: 0.6488 - recall: 0.61 - ETA: 0s - loss: 0.6457 - recall: 0.62 - 3s 815us/sample - loss: 0.6457 - recall: 0.6198 - val_loss: 0.6731 - val_recall: 0.6566\n",
      "Epoch 3/5\n",
      "3146/3146 [==============================] - ETA: 1s - loss: 0.5446 - recall: 0.68 - ETA: 1s - loss: 0.5643 - recall: 0.71 - ETA: 1s - loss: 0.5449 - recall: 0.73 - ETA: 1s - loss: 0.5615 - recall: 0.71 - ETA: 1s - loss: 0.5591 - recall: 0.71 - ETA: 1s - loss: 0.5441 - recall: 0.72 - ETA: 1s - loss: 0.5282 - recall: 0.74 - ETA: 1s - loss: 0.5349 - recall: 0.74 - ETA: 1s - loss: 0.5226 - recall: 0.76 - ETA: 0s - loss: 0.5232 - recall: 0.75 - ETA: 0s - loss: 0.5189 - recall: 0.75 - ETA: 0s - loss: 0.5135 - recall: 0.75 - ETA: 0s - loss: 0.5150 - recall: 0.75 - ETA: 0s - loss: 0.5097 - recall: 0.76 - ETA: 0s - loss: 0.5064 - recall: 0.76 - ETA: 0s - loss: 0.5074 - recall: 0.76 - ETA: 0s - loss: 0.5054 - recall: 0.77 - ETA: 0s - loss: 0.5049 - recall: 0.77 - ETA: 0s - loss: 0.5006 - recall: 0.77 - ETA: 0s - loss: 0.5025 - recall: 0.77 - ETA: 0s - loss: 0.5005 - recall: 0.77 - ETA: 0s - loss: 0.4979 - recall: 0.77 - ETA: 0s - loss: 0.4958 - recall: 0.78 - ETA: 0s - loss: 0.4924 - recall: 0.78 - ETA: 0s - loss: 0.4914 - recall: 0.78 - ETA: 0s - loss: 0.4929 - recall: 0.78 - 2s 767us/sample - loss: 0.4877 - recall: 0.7880 - val_loss: 0.7166 - val_recall: 0.6768\n",
      "Epoch 4/5\n",
      "3146/3146 [==============================] - ETA: 3s - loss: 0.3002 - recall: 0.96 - ETA: 1s - loss: 0.3018 - recall: 0.91 - ETA: 1s - loss: 0.2906 - recall: 0.92 - ETA: 1s - loss: 0.3162 - recall: 0.90 - ETA: 1s - loss: 0.3245 - recall: 0.89 - ETA: 1s - loss: 0.3167 - recall: 0.90 - ETA: 1s - loss: 0.3152 - recall: 0.90 - ETA: 1s - loss: 0.3146 - recall: 0.90 - ETA: 1s - loss: 0.3168 - recall: 0.90 - ETA: 1s - loss: 0.3134 - recall: 0.90 - ETA: 0s - loss: 0.3156 - recall: 0.89 - ETA: 0s - loss: 0.3163 - recall: 0.89 - ETA: 0s - loss: 0.3151 - recall: 0.89 - ETA: 0s - loss: 0.3191 - recall: 0.89 - ETA: 0s - loss: 0.3169 - recall: 0.89 - ETA: 0s - loss: 0.3181 - recall: 0.89 - ETA: 0s - loss: 0.3199 - recall: 0.89 - ETA: 0s - loss: 0.3231 - recall: 0.89 - ETA: 0s - loss: 0.3210 - recall: 0.89 - ETA: 0s - loss: 0.3175 - recall: 0.89 - ETA: 0s - loss: 0.3183 - recall: 0.89 - ETA: 0s - loss: 0.3205 - recall: 0.89 - ETA: 0s - loss: 0.3201 - recall: 0.89 - ETA: 0s - loss: 0.3195 - recall: 0.89 - ETA: 0s - loss: 0.3183 - recall: 0.89 - ETA: 0s - loss: 0.3159 - recall: 0.89 - ETA: 0s - loss: 0.3151 - recall: 0.89 - ETA: 0s - loss: 0.3118 - recall: 0.89 - 2s 784us/sample - loss: 0.3113 - recall: 0.8919 - val_loss: 0.8272 - val_recall: 0.6867\n",
      "Epoch 5/5\n",
      "3146/3146 [==============================] - ETA: 2s - loss: 0.1986 - recall: 0.96 - ETA: 1s - loss: 0.2535 - recall: 0.92 - ETA: 1s - loss: 0.2148 - recall: 0.94 - ETA: 1s - loss: 0.2183 - recall: 0.94 - ETA: 1s - loss: 0.2195 - recall: 0.93 - ETA: 1s - loss: 0.2125 - recall: 0.93 - ETA: 1s - loss: 0.2183 - recall: 0.93 - ETA: 1s - loss: 0.2180 - recall: 0.93 - ETA: 0s - loss: 0.2146 - recall: 0.93 - ETA: 0s - loss: 0.2063 - recall: 0.93 - ETA: 0s - loss: 0.2140 - recall: 0.93 - ETA: 0s - loss: 0.2082 - recall: 0.93 - ETA: 0s - loss: 0.2165 - recall: 0.93 - ETA: 0s - loss: 0.2135 - recall: 0.93 - ETA: 0s - loss: 0.2167 - recall: 0.92 - ETA: 0s - loss: 0.2181 - recall: 0.92 - ETA: 0s - loss: 0.2166 - recall: 0.92 - ETA: 0s - loss: 0.2118 - recall: 0.92 - ETA: 0s - loss: 0.2112 - recall: 0.92 - ETA: 0s - loss: 0.2141 - recall: 0.92 - ETA: 0s - loss: 0.2128 - recall: 0.92 - ETA: 0s - loss: 0.2114 - recall: 0.92 - ETA: 0s - loss: 0.2105 - recall: 0.92 - ETA: 0s - loss: 0.2124 - recall: 0.92 - ETA: 0s - loss: 0.2114 - recall: 0.92 - ETA: 0s - loss: 0.2123 - recall: 0.92 - 2s 766us/sample - loss: 0.2118 - recall: 0.9298 - val_loss: 0.8156 - val_recall: 0.7373\n",
      "10500/10500 [==============================] - ETA: 0s - loss: 0.8555 - recall: 0.68 - ETA: 0s - loss: 0.8945 - recall: 0.72 - ETA: 1s - loss: 0.8523 - recall: 0.73 - ETA: 0s - loss: 0.8765 - recall: 0.72 - ETA: 1s - loss: 0.8740 - recall: 0.72 - ETA: 0s - loss: 0.8422 - recall: 0.73 - ETA: 0s - loss: 0.8283 - recall: 0.73 - ETA: 0s - loss: 0.8127 - recall: 0.74 - ETA: 0s - loss: 0.8142 - recall: 0.74 - ETA: 0s - loss: 0.8095 - recall: 0.74 - ETA: 0s - loss: 0.8065 - recall: 0.74 - ETA: 0s - loss: 0.8007 - recall: 0.74 - ETA: 0s - loss: 0.8068 - recall: 0.74 - ETA: 0s - loss: 0.8019 - recall: 0.74 - ETA: 0s - loss: 0.8011 - recall: 0.74 - ETA: 0s - loss: 0.8029 - recall: 0.74 - ETA: 0s - loss: 0.8042 - recall: 0.74 - ETA: 0s - loss: 0.8034 - recall: 0.74 - ETA: 0s - loss: 0.8006 - recall: 0.74 - ETA: 0s - loss: 0.8025 - recall: 0.74 - ETA: 0s - loss: 0.8103 - recall: 0.74 - ETA: 0s - loss: 0.8086 - recall: 0.74 - ETA: 0s - loss: 0.8139 - recall: 0.73 - ETA: 0s - loss: 0.8177 - recall: 0.73 - ETA: 0s - loss: 0.8221 - recall: 0.73 - ETA: 0s - loss: 0.8229 - recall: 0.73 - ETA: 0s - loss: 0.8295 - recall: 0.73 - ETA: 0s - loss: 0.8238 - recall: 0.73 - ETA: 0s - loss: 0.8183 - recall: 0.73 - ETA: 0s - loss: 0.8169 - recall: 0.73 - 2s 150us/sample - loss: 0.8156 - recall: 0.7373\n",
      "Test Recall: 0.73733336\n"
     ]
    },
    {
     "data": {
      "image/png": "[encoded data removed]",
      "text/plain": [
       "<Figure size 432x360 with 1 Axes>"
      ]
     },
     "metadata": {
      "needs_background": "light"
     },
     "output_type": "display_data"
    }
   ],
   "source": [
    "model_down.compile(optimizer='adam', \n",
    "              loss='binary_crossentropy',\n",
    "              metrics=[tf.keras.metrics.Recall()])\n",
    "\n",
    "history = model_down.fit(down_X,\n",
    "          pd.get_dummies(down_y),\n",
    "          epochs=5,\n",
    "          validation_data=(X_test, pd.get_dummies(y_test))\n",
    "         )\n",
    "plot_loss(history)\n",
    "test_loss, test_acc = model_down.evaluate(X_test, pd.get_dummies(y_test))\n",
    "print('Test Recall:', test_acc)"
   ]
  },
  {
   "cell_type": "code",
   "execution_count": 20,
   "metadata": {
    "ExecuteTime": {
     "end_time": "2019-08-20T11:10:42.594556Z",
     "start_time": "2019-08-20T11:10:40.773583Z"
    }
   },
   "outputs": [
    {
     "data": {
      "text/plain": [
       "(0.7839388145315488, 0.7394285714285714, 0.2305961754780652)"
      ]
     },
     "execution_count": 20,
     "metadata": {},
     "output_type": "execute_result"
    }
   ],
   "source": [
    "#recall\n",
    "recall_score(y_test, model_down.predict_classes(X_test)), \\\n",
    "accuracy_score(y_test, model_down.predict_classes(X_test)),\\\n",
    "f1_score(y_test, model_down.predict_classes(X_test))"
   ]
  },
  {
   "cell_type": "code",
   "execution_count": null,
   "metadata": {
    "ExecuteTime": {
     "end_time": "2019-08-20T11:10:19.145975Z",
     "start_time": "2019-08-20T11:09:56.818Z"
    }
   },
   "outputs": [],
   "source": [
    "result = pd.DataFrame(np.apply_along_axis(index_to_text, 1, X_test))\n",
    "result['predict'] = model_down.predict_proba(X_test)[:,1] # 유해하다고 판별할 확률\n",
    "print('전체채팅수{}, 유해채팅수{}'.format(len(result),len(result[result.predict>0.5])))\n",
    "result[result.predict>0.5].head(10)\n",
    "result['label'] = y_test"
   ]
  },
  {
   "cell_type": "markdown",
   "metadata": {},
   "source": [
    "## 모델 체크포인트 저장"
   ]
  },
  {
   "cell_type": "code",
   "execution_count": 142,
   "metadata": {
    "ExecuteTime": {
     "end_time": "2019-08-19T05:45:27.635218Z",
     "start_time": "2019-08-19T05:45:23.840392Z"
    }
   },
   "outputs": [],
   "source": [
    "# model_down.save('../model/cnn_undersample.h5')"
   ]
  },
  {
   "cell_type": "markdown",
   "metadata": {},
   "source": [
    "# TODO\n",
    "- 형태소별 Tokenize 말고 한글 자모별 Tokenize 하여 실험해보기\n",
    "- CNN layer / Parameter 변경시켜보기\n",
    "- 예측 결과 검정하기\n",
    "    - Attention 이용"
   ]
  }
 ],
 "metadata": {
  "kernelspec": {
   "display_name": "Python 3",
   "language": "python",
   "name": "python3"
  },
  "language_info": {
   "codemirror_mode": {
    "name": "ipython",
    "version": 3
   },
   "file_extension": ".py",
   "mimetype": "text/x-python",
   "name": "python",
   "nbconvert_exporter": "python",
   "pygments_lexer": "ipython3",
   "version": "3.7.3"
  }
 },
 "nbformat": 4,
 "nbformat_minor": 2
}
