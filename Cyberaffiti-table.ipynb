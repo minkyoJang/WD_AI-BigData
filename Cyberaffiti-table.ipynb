{
 "cells": [
  {
   "cell_type": "code",
   "execution_count": null,
   "metadata": {},
   "outputs": [],
   "source": [
    "# 사이버래피티 테이블 \n",
    "\n",
    "CREATE TABLE url(\n",
    "id INTEGER PRIMARY KEY AUTOINCREMENT NOT NULL,\n",
    "netloc_id INTEGER NOT NULL,\n",
    "path TEXT NOT NULL,\n",
    "param TEXT,\n",
    "bj_id INTEGER NOT NULL,\n",
    "seen BOOLEAN DEFAULT FALSE NOT NULL,\n",
    "date TIMESTAMP DEFAULT CURRENT_TIMESTAMP NOT NULL\n",
    ");\n",
    "\n",
    "CREATE TABLE netloc(\n",
    "id INTEGER PRIMARY KEY AUTOINCREMENT NOT NULL,\n",
    "netloc TEXT NOT NULL,\n",
    "domain TEXT NOT NULL\n",
    ");\n",
    "\n",
    "\n",
    "chat table\n",
    "CREATE TABLE chat(\n",
    "id INTEGER PRIMARY KEY AUTOINCREMENT NOT NULL,\n",
    "content TEXT NOT NULL,\n",
    "writer_id INTEGER  NOT NULL,\n",
    "w_time TEXT NOT NULL, \n",
    "url_id INTEGER NOT NULL\n",
    ");\n",
    "\n",
    "\n",
    "CREATE TABLE jamak(\n",
    "id INTEGER PRIMARY KEY AUTOINCREMENT NOT NULL,\n",
    "content TEXT NOT NULL,\n",
    "j_time TEXT NOT NULL,\n",
    "url_id INTEGER NOT NULL\n",
    ");\n",
    "\n",
    "\n",
    "\n",
    "CREATE TABLE bj(\n",
    "id INTEGER PRIMARY KEY AUTOINCREMENT NOT NULL,\n",
    "name TEXT NOT NULL\n",
    ");\n",
    "\n",
    "\n",
    "CREATE TABLE writer(\n",
    "id INTEGER PRIMARY KEY AUTOINCREMENT NOT NULL,\n",
    "name TEXT NOT NULL\n",
    ");\n",
    "\n",
    "\n",
    "\n",
    "\n",
    "\n",
    "\n"
   ]
  }
 ],
 "metadata": {
  "kernelspec": {
   "display_name": "Python 3",
   "language": "python",
   "name": "python3"
  },
  "language_info": {
   "codemirror_mode": {
    "name": "ipython",
    "version": 3
   },
   "file_extension": ".py",
   "mimetype": "text/x-python",
   "name": "python",
   "nbconvert_exporter": "python",
   "pygments_lexer": "ipython3",
   "version": "3.7.3"
  }
 },
 "nbformat": 4,
 "nbformat_minor": 2
}
