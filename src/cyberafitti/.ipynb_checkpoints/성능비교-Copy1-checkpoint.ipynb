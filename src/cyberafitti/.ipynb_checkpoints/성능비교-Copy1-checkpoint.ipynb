{
 "cells": [
  {
   "cell_type": "code",
   "execution_count": 3,
   "metadata": {
    "ExecuteTime": {
     "end_time": "2019-08-23T12:46:39.168617Z",
     "start_time": "2019-08-23T12:46:38.138205Z"
    }
   },
   "outputs": [],
   "source": [
    "from utils.bp_processing import bp_tokenize\n",
    "from keras.preprocessing.sequence import pad_sequences\n",
    "import numpy as np\n",
    "import torch\n",
    "from attention.attention_model import StructuredSelfAttention\n",
    "from torch.autograd import Variable\n",
    "\n",
    "def run_model_demo(input_text):\n",
    "    '''\n",
    "    input_text : 1-d sequence of String, dataframe 불가능, series 가능\n",
    "    return : 1-d numpy array 유해정도의 확률값 \n",
    "    '''\n",
    "\n",
    "    MAX_LEN = 30\n",
    "    VOCAB_SIZE = 260\n",
    "    EMB_DIM = 10\n",
    "\n",
    "    tokenized = bp_tokenize(input_text)\n",
    "\n",
    "    x_padded = pad_sequences(tokenized, maxlen=MAX_LEN)\n",
    "\n",
    "\n",
    "    model = torch.load('./model/self_attention_bp.pt')\n",
    "\n",
    "    model.batch_size = np.array(x_padded).shape[0]\n",
    "    model.hidden_state = model.init_hidden()\n",
    "    x_test_var = Variable(torch.from_numpy(x_padded).type(torch.LongTensor))\n",
    "    y_test_pred,_ = model(x_test_var)\n",
    "\n",
    "    return y_test_pred.data.numpy()"
   ]
  },
  {
   "cell_type": "code",
   "execution_count": 4,
   "metadata": {
    "ExecuteTime": {
     "end_time": "2019-08-23T12:46:43.637062Z",
     "start_time": "2019-08-23T12:46:39.369501Z"
    }
   },
   "outputs": [
    {
     "name": "stderr",
     "output_type": "stream",
     "text": [
      "100%|███████████████████████████████████████████████████████████████████████████████████| 3/3 [00:00<00:00, 176.57it/s]\n",
      "C:\\Users\\skarn\\Anaconda3\\envs\\DataAnalysis\\lib\\site-packages\\torch\\nn\\functional.py:1320: UserWarning: nn.functional.tanh is deprecated. Use torch.tanh instead.\n",
      "  warnings.warn(\"nn.functional.tanh is deprecated. Use torch.tanh instead.\")\n",
      "E:\\data_campus\\korea-3\\src\\cyberafitti\\attention\\attention_model.py:68: UserWarning: Implicit dimension choice for softmax has been deprecated. Change the call to include dim=X as an argument.\n",
      "  soft_max_2d = F.softmax(input_2d)\n",
      "C:\\Users\\skarn\\Anaconda3\\envs\\DataAnalysis\\lib\\site-packages\\torch\\nn\\functional.py:1332: UserWarning: nn.functional.sigmoid is deprecated. Use torch.sigmoid instead.\n",
      "  warnings.warn(\"nn.functional.sigmoid is deprecated. Use torch.sigmoid instead.\")\n"
     ]
    },
    {
     "data": {
      "text/plain": [
       "array([[0.9854322 ],\n",
       "       [0.9911384 ],\n",
       "       [0.99611074]], dtype=float32)"
      ]
     },
     "execution_count": 4,
     "metadata": {},
     "output_type": "execute_result"
    }
   ],
   "source": [
    "run_model_demo(['ㅁㅊ','개년아','ㅈㄹ'])"
   ]
  },
  {
   "cell_type": "code",
   "execution_count": 56,
   "metadata": {
    "ExecuteTime": {
     "end_time": "2019-08-23T12:55:31.711756Z",
     "start_time": "2019-08-23T12:55:31.561841Z"
    }
   },
   "outputs": [
    {
     "name": "stderr",
     "output_type": "stream",
     "text": [
      "100%|████████████████████████████████████████████████████████████████████████████████████████████| 3/3 [00:00<?, ?it/s]\n",
      "C:\\Users\\skarn\\Anaconda3\\envs\\DataAnalysis\\lib\\site-packages\\torch\\nn\\functional.py:1320: UserWarning: nn.functional.tanh is deprecated. Use torch.tanh instead.\n",
      "  warnings.warn(\"nn.functional.tanh is deprecated. Use torch.tanh instead.\")\n",
      "E:\\data_campus\\korea-3\\src\\cyberafitti\\attention\\attention_model.py:68: UserWarning: Implicit dimension choice for softmax has been deprecated. Change the call to include dim=X as an argument.\n",
      "  soft_max_2d = F.softmax(input_2d)\n",
      "C:\\Users\\skarn\\Anaconda3\\envs\\DataAnalysis\\lib\\site-packages\\torch\\nn\\functional.py:1332: UserWarning: nn.functional.sigmoid is deprecated. Use torch.sigmoid instead.\n",
      "  warnings.warn(\"nn.functional.sigmoid is deprecated. Use torch.sigmoid instead.\")\n"
     ]
    },
    {
     "name": "stdout",
     "output_type": "stream",
     "text": [
      "0.9908937613169352\n",
      "[[0.9854322 ]\n",
      " [0.9911384 ]\n",
      " [0.99611074]]\n"
     ]
    }
   ],
   "source": [
    "import run_model\n",
    "\n",
    "tmp = run_model.RunAttentionModel(['ㅁㅊ','개년아','ㅈㄹ'])\n",
    "\n",
    "tmp.predict()\n",
    "\n",
    "print(tmp.run_bj())\n",
    "\n",
    "print(tmp.run_demo())\n",
    "\n"
   ]
  }
 ],
 "metadata": {
  "kernelspec": {
   "display_name": "Python 3",
   "language": "python",
   "name": "python3"
  }
 },
 "nbformat": 4,
 "nbformat_minor": 2
}
