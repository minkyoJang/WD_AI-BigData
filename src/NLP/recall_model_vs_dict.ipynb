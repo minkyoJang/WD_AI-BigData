{
 "cells": [
  {
   "cell_type": "code",
   "execution_count": 2,
   "metadata": {
    "ExecuteTime": {
     "end_time": "2019-08-13T10:52:09.095218Z",
     "start_time": "2019-08-13T10:51:55.098267Z"
    }
   },
   "outputs": [
    {
     "name": "stdout",
     "output_type": "stream",
     "text": [
      "Chan 2019-08-13 \n",
      "\n",
      "CPython 3.7.3\n",
      "IPython 7.6.1\n",
      "\n",
      "numpy 1.16.4\n",
      "pandas 0.24.2\n",
      "konlpy 0.5.1\n",
      "tensorflow 1.13.1\n"
     ]
    }
   ],
   "source": [
    "%load_ext watermark\n",
    "%watermark -a Chan -d -v -p numpy,pandas,konlpy,tensorflow"
   ]
  },
  {
   "cell_type": "code",
   "execution_count": 3,
   "metadata": {
    "ExecuteTime": {
     "end_time": "2019-08-13T10:52:09.170176Z",
     "start_time": "2019-08-13T10:52:09.101212Z"
    }
   },
   "outputs": [],
   "source": [
    "import numpy as np\n",
    "import pandas as pd\n",
    "from konlpy.tag import Okt\n",
    "import tensorflow as tf\n",
    "from tensorflow.python.keras.preprocessing import sequence\n",
    "from tensorflow import keras\n",
    "from tqdm import tqdm\n",
    "from collections import Counter\n",
    "import pickle"
   ]
  },
  {
   "cell_type": "code",
   "execution_count": 4,
   "metadata": {
    "ExecuteTime": {
     "end_time": "2019-08-13T10:52:09.184165Z",
     "start_time": "2019-08-13T10:52:09.177171Z"
    }
   },
   "outputs": [],
   "source": [
    "# 각 동영상별로 count해야한다. 일단 dump파일로 짜놓기"
   ]
  },
  {
   "cell_type": "code",
   "execution_count": 5,
   "metadata": {
    "ExecuteTime": {
     "end_time": "2019-08-13T10:52:09.444015Z",
     "start_time": "2019-08-13T10:52:09.194160Z"
    }
   },
   "outputs": [
    {
     "name": "stdout",
     "output_type": "stream",
     "text": [
      "9\n"
     ]
    },
    {
     "data": {
      "text/html": [
       "<div>\n",
       "<style scoped>\n",
       "    .dataframe tbody tr th:only-of-type {\n",
       "        vertical-align: middle;\n",
       "    }\n",
       "\n",
       "    .dataframe tbody tr th {\n",
       "        vertical-align: top;\n",
       "    }\n",
       "\n",
       "    .dataframe thead th {\n",
       "        text-align: right;\n",
       "    }\n",
       "</style>\n",
       "<table border=\"1\" class=\"dataframe\">\n",
       "  <thead>\n",
       "    <tr style=\"text-align: right;\">\n",
       "      <th></th>\n",
       "      <th>comment</th>\n",
       "      <th>url_id</th>\n",
       "      <th>label</th>\n",
       "    </tr>\n",
       "  </thead>\n",
       "  <tbody>\n",
       "    <tr>\n",
       "      <th>0</th>\n",
       "      <td>궁</td>\n",
       "      <td>23</td>\n",
       "      <td>0</td>\n",
       "    </tr>\n",
       "    <tr>\n",
       "      <th>1</th>\n",
       "      <td>진에어 화이팅!</td>\n",
       "      <td>11</td>\n",
       "      <td>0</td>\n",
       "    </tr>\n",
       "    <tr>\n",
       "      <th>2</th>\n",
       "      <td>ㅋㅋㅋㅋㅋㅋㅋㅋㅋㅋ</td>\n",
       "      <td>12</td>\n",
       "      <td>0</td>\n",
       "    </tr>\n",
       "    <tr>\n",
       "      <th>3</th>\n",
       "      <td>싹둑이 채팅창 관리 중입니다</td>\n",
       "      <td>34</td>\n",
       "      <td>0</td>\n",
       "    </tr>\n",
       "    <tr>\n",
       "      <th>4</th>\n",
       "      <td>앗</td>\n",
       "      <td>52</td>\n",
       "      <td>0</td>\n",
       "    </tr>\n",
       "  </tbody>\n",
       "</table>\n",
       "</div>"
      ],
      "text/plain": [
       "           comment  url_id  label\n",
       "0                궁      23      0\n",
       "1         진에어 화이팅!      11      0\n",
       "2       ㅋㅋㅋㅋㅋㅋㅋㅋㅋㅋ      12      0\n",
       "3  싹둑이 채팅창 관리 중입니다      34      0\n",
       "4                앗      52      0"
      ]
     },
     "execution_count": 5,
     "metadata": {},
     "output_type": "execute_result"
    }
   ],
   "source": [
    "datasets = pd.DataFrame()\n",
    "for i in range(9,10):\n",
    "    print(i)\n",
    "    dump = pd.read_csv(\"../../data/labeled ({}).csv\".format(i), engine='python')\n",
    "    datasets = pd.concat([datasets, dump])\n",
    "datasets.head()"
   ]
  },
  {
   "cell_type": "code",
   "execution_count": 8,
   "metadata": {
    "ExecuteTime": {
     "end_time": "2019-08-13T10:52:49.924729Z",
     "start_time": "2019-08-13T10:52:49.903740Z"
    }
   },
   "outputs": [
    {
     "name": "stdout",
     "output_type": "stream",
     "text": [
      "<class 'pandas.core.frame.DataFrame'>\n",
      "RangeIndex: 3000 entries, 0 to 2999\n",
      "Data columns (total 3 columns):\n",
      "comment    3000 non-null object\n",
      "url_id     3000 non-null int64\n",
      "label      3000 non-null int64\n",
      "dtypes: int64(2), object(1)\n",
      "memory usage: 70.4+ KB\n"
     ]
    }
   ],
   "source": [
    "datasets.info()"
   ]
  },
  {
   "cell_type": "code",
   "execution_count": 9,
   "metadata": {
    "ExecuteTime": {
     "end_time": "2019-08-13T10:52:52.918008Z",
     "start_time": "2019-08-13T10:52:52.910013Z"
    }
   },
   "outputs": [],
   "source": [
    "datasets.fillna('null',inplace=True)"
   ]
  },
  {
   "cell_type": "code",
   "execution_count": 10,
   "metadata": {
    "ExecuteTime": {
     "end_time": "2019-08-13T10:52:53.186853Z",
     "start_time": "2019-08-13T10:52:53.177858Z"
    }
   },
   "outputs": [
    {
     "data": {
      "text/plain": [
       "3000"
      ]
     },
     "execution_count": 10,
     "metadata": {},
     "output_type": "execute_result"
    }
   ],
   "source": [
    "len(datasets)"
   ]
  },
  {
   "cell_type": "code",
   "execution_count": 11,
   "metadata": {
    "ExecuteTime": {
     "end_time": "2019-08-13T11:00:14.016854Z",
     "start_time": "2019-08-13T10:59:47.308218Z"
    }
   },
   "outputs": [
    {
     "name": "stderr",
     "output_type": "stream",
     "text": [
      "C:\\Users\\skarn\\Anaconda3\\envs\\DataAnalysis\\lib\\site-packages\\jpype\\_core.py:210: UserWarning: \n",
      "-------------------------------------------------------------------------------\n",
      "Deprecated: convertStrings was not specified when starting the JVM. The default\n",
      "behavior in JPype will be False starting in JPype 0.8. The recommended setting\n",
      "for new code is convertStrings=False.  The legacy value of True was assumed for\n",
      "this session. If you are a user of an application that reported this warning,\n",
      "please file a ticket with the developer.\n",
      "-------------------------------------------------------------------------------\n",
      "\n",
      "  \"\"\")\n",
      "100%|█████████████████████████████████████████████████████████████████████████████| 3000/3000 [00:26<00:00, 114.84it/s]\n"
     ]
    }
   ],
   "source": [
    "morp = Okt()\n",
    "morped = [morp.morphs(_, norm=True, stem=True) for _ in tqdm(datasets.comment)]"
   ]
  },
  {
   "cell_type": "code",
   "execution_count": 12,
   "metadata": {
    "ExecuteTime": {
     "end_time": "2019-08-13T11:00:14.094811Z",
     "start_time": "2019-08-13T11:00:14.037844Z"
    }
   },
   "outputs": [
    {
     "data": {
      "text/plain": [
       "[['궁'],\n",
       " ['진에어', '화이팅', '!'],\n",
       " ['ㅋㅋㅋ'],\n",
       " ['싹둑', '이', '채팅', '창', '관리', '중', '이다'],\n",
       " ['앗']]"
      ]
     },
     "execution_count": 12,
     "metadata": {},
     "output_type": "execute_result"
    }
   ],
   "source": [
    "morped[:5]"
   ]
  },
  {
   "cell_type": "code",
   "execution_count": 13,
   "metadata": {
    "ExecuteTime": {
     "end_time": "2019-08-13T11:00:14.203746Z",
     "start_time": "2019-08-13T11:00:14.104804Z"
    }
   },
   "outputs": [],
   "source": [
    "# load vocab\n",
    "with open('./vocab/vocab_index.pickle', 'rb') as f:\n",
    "    vocab_index = pickle.load(f)\n",
    "with open('./vocab/vocab_inverted_index.pickle', 'rb') as f:\n",
    "    vocab_inverted_index = pickle.load(f)"
   ]
  },
  {
   "cell_type": "code",
   "execution_count": 14,
   "metadata": {
    "ExecuteTime": {
     "end_time": "2019-08-13T11:00:14.238727Z",
     "start_time": "2019-08-13T11:00:14.212744Z"
    }
   },
   "outputs": [],
   "source": [
    "def text_to_index(tokens):\n",
    "    oov_id = 1\n",
    "    indexes = []\n",
    "    for tok in tokens:\n",
    "        if tok in vocab_index:\n",
    "            indexes.append(vocab_index[tok])\n",
    "        else:\n",
    "            indexes.append(oov_id)\n",
    "\n",
    "    return indexes"
   ]
  },
  {
   "cell_type": "code",
   "execution_count": 15,
   "metadata": {
    "ExecuteTime": {
     "end_time": "2019-08-13T11:00:14.355658Z",
     "start_time": "2019-08-13T11:00:14.246724Z"
    }
   },
   "outputs": [],
   "source": [
    "pad_id = 0\n",
    "\n",
    "x_variable = [text_to_index(_) for _ in morped]\n",
    "\n",
    "sentence_size = 10\n",
    "x_padded = sequence.pad_sequences(x_variable,\n",
    "                                 maxlen=sentence_size,\n",
    "                                 truncating='post',\n",
    "                                 padding='post',\n",
    "                                 value=pad_id)"
   ]
  },
  {
   "cell_type": "markdown",
   "metadata": {},
   "source": [
    "# Load Model "
   ]
  },
  {
   "cell_type": "code",
   "execution_count": 16,
   "metadata": {
    "ExecuteTime": {
     "end_time": "2019-08-13T11:00:25.715124Z",
     "start_time": "2019-08-13T11:00:14.360656Z"
    }
   },
   "outputs": [
    {
     "name": "stdout",
     "output_type": "stream",
     "text": [
      "WARNING:tensorflow:From C:\\Users\\skarn\\Anaconda3\\envs\\DataAnalysis\\lib\\site-packages\\tensorflow\\python\\ops\\resource_variable_ops.py:435: colocate_with (from tensorflow.python.framework.ops) is deprecated and will be removed in a future version.\n",
      "Instructions for updating:\n",
      "Colocations handled automatically by placer.\n",
      "WARNING:tensorflow:From C:\\Users\\skarn\\Anaconda3\\envs\\DataAnalysis\\lib\\site-packages\\tensorflow\\python\\keras\\layers\\core.py:143: calling dropout (from tensorflow.python.ops.nn_ops) with keep_prob is deprecated and will be removed in a future version.\n",
      "Instructions for updating:\n",
      "Please use `rate` instead of `keep_prob`. Rate should be set to `rate = 1 - keep_prob`.\n",
      "WARNING:tensorflow:From C:\\Users\\skarn\\Anaconda3\\envs\\DataAnalysis\\lib\\site-packages\\tensorflow\\python\\ops\\math_ops.py:3066: to_int32 (from tensorflow.python.ops.math_ops) is deprecated and will be removed in a future version.\n",
      "Instructions for updating:\n",
      "Use tf.cast instead.\n",
      "WARNING:tensorflow:From C:\\Users\\skarn\\Anaconda3\\envs\\DataAnalysis\\lib\\site-packages\\tensorflow\\python\\ops\\math_grad.py:102: div (from tensorflow.python.ops.math_ops) is deprecated and will be removed in a future version.\n",
      "Instructions for updating:\n",
      "Deprecated in favor of operator or tf.math.divide.\n"
     ]
    }
   ],
   "source": [
    "up_model = keras.models.load_model('../model/cnn_oversample.h5')\n",
    "down_model =keras.models.load_model('../model/cnn_undersample.h5')"
   ]
  },
  {
   "cell_type": "code",
   "execution_count": 17,
   "metadata": {
    "ExecuteTime": {
     "end_time": "2019-08-13T11:00:27.165307Z",
     "start_time": "2019-08-13T11:00:25.719123Z"
    }
   },
   "outputs": [],
   "source": [
    "datasets['predict_up'] = up_model.predict_classes(x_padded)\n",
    "datasets['predict_down'] = down_model.predict_classes(x_padded)"
   ]
  },
  {
   "cell_type": "code",
   "execution_count": 18,
   "metadata": {
    "ExecuteTime": {
     "end_time": "2019-08-13T11:00:29.036214Z",
     "start_time": "2019-08-13T11:00:27.171289Z"
    }
   },
   "outputs": [
    {
     "name": "stdout",
     "output_type": "stream",
     "text": [
      "3000/3000 [==============================] - ETA: 38s - loss: 0.2186 - recall: 0.937 - ETA: 3s - loss: 0.4614 - recall: 0.903 - ETA: 1s - loss: 0.4439 - recall: 0.90 - ETA: 0s - loss: 0.4654 - recall: 0.89 - ETA: 0s - loss: 0.4234 - recall: 0.90 - ETA: 0s - loss: 0.4462 - recall: 0.89 - ETA: 0s - loss: 0.4183 - recall: 0.90 - ETA: 0s - loss: 0.4062 - recall: 0.90 - 1s 262us/sample - loss: 0.4018 - recall: 0.9073\n",
      "3000/3000 [==============================] - ETA: 48s - loss: 0.5622 - recall_1: 0.875 - ETA: 2s - loss: 0.7663 - recall_1: 0.731 - ETA: 1s - loss: 0.7285 - recall_1: 0.73 - ETA: 0s - loss: 0.7072 - recall_1: 0.73 - ETA: 0s - loss: 0.7305 - recall_1: 0.72 - ETA: 0s - loss: 0.7454 - recall_1: 0.72 - 1s 277us/sample - loss: 0.7388 - recall_1: 0.7250\n"
     ]
    },
    {
     "data": {
      "text/plain": [
       "(0.9073333, 0.725)"
      ]
     },
     "execution_count": 18,
     "metadata": {},
     "output_type": "execute_result"
    }
   ],
   "source": [
    "up_model.evaluate(x_padded, pd.get_dummies(datasets.label))[1], down_model.evaluate(x_padded, pd.get_dummies(datasets.label))[1] # loss, acc"
   ]
  },
  {
   "cell_type": "markdown",
   "metadata": {},
   "source": [
    "## 비속어 사전 기반 필터링의 경우"
   ]
  },
  {
   "cell_type": "code",
   "execution_count": 19,
   "metadata": {
    "ExecuteTime": {
     "end_time": "2019-08-13T11:00:29.063201Z",
     "start_time": "2019-08-13T11:00:29.041212Z"
    }
   },
   "outputs": [],
   "source": [
    "from auto_label import auto_label\n",
    "import pandas as pd"
   ]
  },
  {
   "cell_type": "code",
   "execution_count": 20,
   "metadata": {
    "ExecuteTime": {
     "end_time": "2019-08-13T11:00:29.221108Z",
     "start_time": "2019-08-13T11:00:29.081199Z"
    }
   },
   "outputs": [],
   "source": [
    "result = auto_label(datasets,'./word-fobidden.json')"
   ]
  },
  {
   "cell_type": "code",
   "execution_count": 21,
   "metadata": {
    "ExecuteTime": {
     "end_time": "2019-08-13T11:00:29.262085Z",
     "start_time": "2019-08-13T11:00:29.225107Z"
    }
   },
   "outputs": [
    {
     "data": {
      "text/html": [
       "<div>\n",
       "<style scoped>\n",
       "    .dataframe tbody tr th:only-of-type {\n",
       "        vertical-align: middle;\n",
       "    }\n",
       "\n",
       "    .dataframe tbody tr th {\n",
       "        vertical-align: top;\n",
       "    }\n",
       "\n",
       "    .dataframe thead th {\n",
       "        text-align: right;\n",
       "    }\n",
       "</style>\n",
       "<table border=\"1\" class=\"dataframe\">\n",
       "  <thead>\n",
       "    <tr style=\"text-align: right;\">\n",
       "      <th></th>\n",
       "      <th>comment</th>\n",
       "      <th>url_id</th>\n",
       "      <th>label</th>\n",
       "      <th>predict_up</th>\n",
       "      <th>predict_down</th>\n",
       "      <th>filtered</th>\n",
       "    </tr>\n",
       "  </thead>\n",
       "  <tbody>\n",
       "    <tr>\n",
       "      <th>0</th>\n",
       "      <td>궁</td>\n",
       "      <td>23</td>\n",
       "      <td>0</td>\n",
       "      <td>0</td>\n",
       "      <td>0</td>\n",
       "      <td>0</td>\n",
       "    </tr>\n",
       "    <tr>\n",
       "      <th>1</th>\n",
       "      <td>진에어 화이팅!</td>\n",
       "      <td>11</td>\n",
       "      <td>0</td>\n",
       "      <td>0</td>\n",
       "      <td>0</td>\n",
       "      <td>0</td>\n",
       "    </tr>\n",
       "    <tr>\n",
       "      <th>2</th>\n",
       "      <td>ㅋㅋㅋㅋㅋㅋㅋㅋㅋㅋ</td>\n",
       "      <td>12</td>\n",
       "      <td>0</td>\n",
       "      <td>0</td>\n",
       "      <td>0</td>\n",
       "      <td>0</td>\n",
       "    </tr>\n",
       "    <tr>\n",
       "      <th>3</th>\n",
       "      <td>싹둑이 채팅창 관리 중입니다</td>\n",
       "      <td>34</td>\n",
       "      <td>0</td>\n",
       "      <td>0</td>\n",
       "      <td>0</td>\n",
       "      <td>0</td>\n",
       "    </tr>\n",
       "    <tr>\n",
       "      <th>4</th>\n",
       "      <td>앗</td>\n",
       "      <td>52</td>\n",
       "      <td>0</td>\n",
       "      <td>0</td>\n",
       "      <td>0</td>\n",
       "      <td>0</td>\n",
       "    </tr>\n",
       "  </tbody>\n",
       "</table>\n",
       "</div>"
      ],
      "text/plain": [
       "           comment  url_id  label  predict_up  predict_down  filtered\n",
       "0                궁      23      0           0             0         0\n",
       "1         진에어 화이팅!      11      0           0             0         0\n",
       "2       ㅋㅋㅋㅋㅋㅋㅋㅋㅋㅋ      12      0           0             0         0\n",
       "3  싹둑이 채팅창 관리 중입니다      34      0           0             0         0\n",
       "4                앗      52      0           0             0         0"
      ]
     },
     "execution_count": 21,
     "metadata": {},
     "output_type": "execute_result"
    }
   ],
   "source": [
    "result.head()"
   ]
  },
  {
   "cell_type": "code",
   "execution_count": 22,
   "metadata": {
    "ExecuteTime": {
     "end_time": "2019-08-13T11:00:29.296065Z",
     "start_time": "2019-08-13T11:00:29.267083Z"
    }
   },
   "outputs": [],
   "source": [
    "recall_data = result[result.label==1]"
   ]
  },
  {
   "cell_type": "code",
   "execution_count": 32,
   "metadata": {
    "ExecuteTime": {
     "end_time": "2019-08-13T12:31:15.073888Z",
     "start_time": "2019-08-13T12:31:15.054898Z"
    }
   },
   "outputs": [
    {
     "data": {
      "text/plain": [
       "(0.4970414201183432,)"
      ]
     },
     "execution_count": 32,
     "metadata": {},
     "output_type": "execute_result"
    }
   ],
   "source": [
    "sum(recall_data.predict_up)/len(recall_data), \\\n",
    "# sum(recall_data.predict_down)/len(recall_data) \n",
    "\n",
    "# 모델 방법의 recall"
   ]
  },
  {
   "cell_type": "code",
   "execution_count": 24,
   "metadata": {
    "ExecuteTime": {
     "end_time": "2019-08-13T11:00:29.383015Z",
     "start_time": "2019-08-13T11:00:29.345038Z"
    }
   },
   "outputs": [
    {
     "data": {
      "text/plain": [
       "0.17751479289940827"
      ]
     },
     "execution_count": 24,
     "metadata": {},
     "output_type": "execute_result"
    }
   ],
   "source": [
    "sum(recall_data.filtered)/len(recall_data) # 비속어사전 방법의 recall"
   ]
  },
  {
   "cell_type": "code",
   "execution_count": 27,
   "metadata": {
    "ExecuteTime": {
     "end_time": "2019-08-13T11:01:30.108086Z",
     "start_time": "2019-08-13T11:01:30.095093Z"
    }
   },
   "outputs": [
    {
     "data": {
      "text/plain": [
       "0.9443333333333334"
      ]
     },
     "execution_count": 27,
     "metadata": {},
     "output_type": "execute_result"
    }
   ],
   "source": [
    "sum(datasets.filtered==datasets.label) /len(datasets)# 비속어사전 방법의 accuracy"
   ]
  },
  {
   "cell_type": "markdown",
   "metadata": {},
   "source": [
    "#### 전체 채팅 중 유해채팅 비율"
   ]
  },
  {
   "cell_type": "code",
   "execution_count": 31,
   "metadata": {
    "ExecuteTime": {
     "end_time": "2019-08-13T12:31:09.746953Z",
     "start_time": "2019-08-13T12:31:09.735957Z"
    }
   },
   "outputs": [
    {
     "data": {
      "text/plain": [
       "0.09233333333333334"
      ]
     },
     "execution_count": 31,
     "metadata": {},
     "output_type": "execute_result"
    }
   ],
   "source": [
    "datasets.predict_up.sum() / len(datasets)"
   ]
  },
  {
   "cell_type": "markdown",
   "metadata": {},
   "source": [
    "> 8%가 적당하다"
   ]
  },
  {
   "cell_type": "code",
   "execution_count": 28,
   "metadata": {
    "ExecuteTime": {
     "end_time": "2019-08-12T03:40:57.595952Z",
     "start_time": "2019-08-12T03:40:57.539987Z"
    }
   },
   "outputs": [],
   "source": [
    "recall_data.to_csv('./result/cnn_result.csv', encoding='euc-kr')"
   ]
  }
 ],
 "metadata": {
  "kernelspec": {
   "display_name": "Python 3",
   "language": "python",
   "name": "python3"
  },
  "language_info": {
   "codemirror_mode": {
    "name": "ipython",
    "version": 3
   },
   "file_extension": ".py",
   "mimetype": "text/x-python",
   "name": "python",
   "nbconvert_exporter": "python",
   "pygments_lexer": "ipython3",
   "version": "3.7.3"
  }
 },
 "nbformat": 4,
 "nbformat_minor": 2
}
