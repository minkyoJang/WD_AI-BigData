{
 "cells": [
  {
   "cell_type": "code",
   "execution_count": 25,
   "metadata": {
    "ExecuteTime": {
     "end_time": "2019-08-27T10:57:15.549107Z",
     "start_time": "2019-08-27T10:57:15.539106Z"
    }
   },
   "outputs": [],
   "source": [
    "from utils.bp_processing import bp_tokenize\n",
    "from keras.preprocessing.sequence import pad_sequences\n",
    "import numpy as np\n",
    "import torch\n",
    "from attention.attention_model import StructuredSelfAttention\n",
    "from torch.autograd import Variable\n",
    "import pandas as pd\n",
    "import torch.utils.data as data_utils\n",
    " "
   ]
  },
  {
   "cell_type": "code",
   "execution_count": 43,
   "metadata": {
    "ExecuteTime": {
     "end_time": "2019-08-27T11:00:45.603948Z",
     "start_time": "2019-08-27T11:00:45.598951Z"
    }
   },
   "outputs": [],
   "source": [
    "MAX_LEN = 50\n",
    "VOCAB_SIZE = 260\n",
    "EMB_DIM = 10"
   ]
  },
  {
   "cell_type": "code",
   "execution_count": 44,
   "metadata": {
    "ExecuteTime": {
     "end_time": "2019-08-27T11:01:00.007687Z",
     "start_time": "2019-08-27T11:00:55.787108Z"
    }
   },
   "outputs": [],
   "source": [
    "import pandas as pd\n",
    "from sklearn.model_selection import train_test_split\n",
    "from imblearn.under_sampling import RandomUnderSampler"
   ]
  },
  {
   "cell_type": "code",
   "execution_count": 45,
   "metadata": {
    "ExecuteTime": {
     "end_time": "2019-08-27T11:01:00.196578Z",
     "start_time": "2019-08-27T11:01:00.021681Z"
    }
   },
   "outputs": [],
   "source": [
    "dataset = pd.read_csv('../../data/train.csv', encoding='utf-16')\n"
   ]
  },
  {
   "cell_type": "code",
   "execution_count": 46,
   "metadata": {
    "ExecuteTime": {
     "end_time": "2019-08-27T11:01:02.009726Z",
     "start_time": "2019-08-27T11:01:00.206575Z"
    }
   },
   "outputs": [
    {
     "name": "stderr",
     "output_type": "stream",
     "text": [
      "100%|████████████████████████████████████████████████████████████████████████| 42000/42000 [00:00<00:00, 176553.42it/s]\n"
     ]
    }
   ],
   "source": [
    "x_padded = bp_tokenize(dataset.comment)\n",
    "y = dataset.label"
   ]
  },
  {
   "cell_type": "code",
   "execution_count": 47,
   "metadata": {
    "ExecuteTime": {
     "end_time": "2019-08-27T11:01:02.617427Z",
     "start_time": "2019-08-27T11:01:02.013722Z"
    }
   },
   "outputs": [],
   "source": [
    "x_padded = pad_sequences(x_padded, maxlen=MAX_LEN)"
   ]
  },
  {
   "cell_type": "code",
   "execution_count": 48,
   "metadata": {
    "ExecuteTime": {
     "end_time": "2019-08-27T11:01:02.648359Z",
     "start_time": "2019-08-27T11:01:02.621379Z"
    }
   },
   "outputs": [],
   "source": [
    "\n",
    "model = torch.load('../model/self_attention_bp_mixed_10.pt')"
   ]
  },
  {
   "cell_type": "code",
   "execution_count": 49,
   "metadata": {
    "ExecuteTime": {
     "end_time": "2019-08-27T11:01:02.671351Z",
     "start_time": "2019-08-27T11:01:02.654361Z"
    }
   },
   "outputs": [
    {
     "data": {
      "text/plain": [
       "torch.Size([42000, 30])"
      ]
     },
     "execution_count": 49,
     "metadata": {},
     "output_type": "execute_result"
    }
   ],
   "source": [
    "x_test_var.shape"
   ]
  },
  {
   "cell_type": "code",
   "execution_count": 50,
   "metadata": {
    "ExecuteTime": {
     "end_time": "2019-08-27T11:01:43.417526Z",
     "start_time": "2019-08-27T11:01:18.140481Z"
    }
   },
   "outputs": [
    {
     "name": "stderr",
     "output_type": "stream",
     "text": [
      "C:\\Users\\skarn\\Anaconda3\\envs\\DataAnalysis\\lib\\site-packages\\torch\\nn\\functional.py:1320: UserWarning: nn.functional.tanh is deprecated. Use torch.tanh instead.\n",
      "  warnings.warn(\"nn.functional.tanh is deprecated. Use torch.tanh instead.\")\n",
      "E:\\data_campus\\korea-3\\src\\NLP\\attention\\attention_model.py:68: UserWarning: Implicit dimension choice for softmax has been deprecated. Change the call to include dim=X as an argument.\n",
      "  soft_max_2d = F.softmax(input_2d)\n",
      "C:\\Users\\skarn\\Anaconda3\\envs\\DataAnalysis\\lib\\site-packages\\torch\\nn\\functional.py:1332: UserWarning: nn.functional.sigmoid is deprecated. Use torch.sigmoid instead.\n",
      "  warnings.warn(\"nn.functional.sigmoid is deprecated. Use torch.sigmoid instead.\")\n"
     ]
    }
   ],
   "source": [
    "model.batch_size = x_padded.shape[0]\n",
    "model.hidden_state = model.init_hidden()\n",
    "x_test_var = Variable(torch.from_numpy(x_padded).type(torch.LongTensor))\n",
    "y_test_pred,_ = model(x_test_var)\n",
    "y_preds = torch.round(y_test_pred.type(torch.DoubleTensor).squeeze(1))"
   ]
  },
  {
   "cell_type": "code",
   "execution_count": 51,
   "metadata": {
    "ExecuteTime": {
     "end_time": "2019-08-27T11:01:50.652380Z",
     "start_time": "2019-08-27T11:01:50.536447Z"
    }
   },
   "outputs": [
    {
     "data": {
      "text/plain": [
       "0.13602380952380952"
      ]
     },
     "execution_count": 51,
     "metadata": {},
     "output_type": "execute_result"
    }
   ],
   "source": [
    "y_preds.data.numpy().sum() /len(y_preds) # 전체 데이터  유해 비율"
   ]
  },
  {
   "cell_type": "code",
   "execution_count": 489,
   "metadata": {
    "ExecuteTime": {
     "end_time": "2019-08-23T09:39:28.757225Z",
     "start_time": "2019-08-23T09:39:28.735241Z"
    }
   },
   "outputs": [],
   "source": [
    "res = pd.DataFrame()\n",
    "res['comment'] = chat\n",
    "res['label'] = y_preds.data.numpy()"
   ]
  },
  {
   "cell_type": "code",
   "execution_count": null,
   "metadata": {},
   "outputs": [],
   "source": [
    "res"
   ]
  },
  {
   "cell_type": "code",
   "execution_count": 446,
   "metadata": {
    "ExecuteTime": {
     "end_time": "2019-08-23T09:23:57.340094Z",
     "start_time": "2019-08-23T09:23:56.835372Z"
    }
   },
   "outputs": [
    {
     "ename": "NameError",
     "evalue": "name 'ᄐ_' is not defined",
     "output_type": "error",
     "traceback": [
      "\u001b[1;31m---------------------------------------------------------------------------\u001b[0m",
      "\u001b[1;31mNameError\u001b[0m                                 Traceback (most recent call last)",
      "\u001b[1;32m<ipython-input-446-b29660adf230>\u001b[0m in \u001b[0;36m<module>\u001b[1;34m\u001b[0m\n\u001b[1;32m----> 1\u001b[1;33m \u001b[0mx_torch\u001b[0m \u001b[1;33m=\u001b[0m \u001b[0mVariable\u001b[0m\u001b[1;33m(\u001b[0m\u001b[0mtorch\u001b[0m\u001b[1;33m.\u001b[0m\u001b[0mfrom_numpy\u001b[0m\u001b[1;33m(\u001b[0m\u001b[0mㅌ_\u001b[0m\u001b[1;33m)\u001b[0m\u001b[1;33m.\u001b[0m\u001b[0mtype\u001b[0m\u001b[1;33m(\u001b[0m\u001b[0mtorch\u001b[0m\u001b[1;33m.\u001b[0m\u001b[0mLongTensor\u001b[0m\u001b[1;33m)\u001b[0m\u001b[1;33m)\u001b[0m\u001b[1;33m\u001b[0m\u001b[1;33m\u001b[0m\u001b[0m\n\u001b[0m\u001b[0;32m      2\u001b[0m \u001b[0my_test_pred\u001b[0m\u001b[1;33m,\u001b[0m \u001b[0mwts\u001b[0m \u001b[1;33m=\u001b[0m \u001b[0mmodel\u001b[0m\u001b[1;33m(\u001b[0m\u001b[0mx_torch\u001b[0m\u001b[1;33m[\u001b[0m\u001b[1;36m0\u001b[0m\u001b[1;33m]\u001b[0m\u001b[1;33m)\u001b[0m\u001b[1;33m\u001b[0m\u001b[1;33m\u001b[0m\u001b[0m\n\u001b[0;32m      3\u001b[0m \u001b[0my_preds\u001b[0m \u001b[1;33m=\u001b[0m \u001b[0mtorch\u001b[0m\u001b[1;33m.\u001b[0m\u001b[0mround\u001b[0m\u001b[1;33m(\u001b[0m\u001b[0my_test_pred\u001b[0m\u001b[1;33m.\u001b[0m\u001b[0mtype\u001b[0m\u001b[1;33m(\u001b[0m\u001b[0mtorch\u001b[0m\u001b[1;33m.\u001b[0m\u001b[0mDoubleTensor\u001b[0m\u001b[1;33m)\u001b[0m\u001b[1;33m.\u001b[0m\u001b[0msqueeze\u001b[0m\u001b[1;33m(\u001b[0m\u001b[1;36m1\u001b[0m\u001b[1;33m)\u001b[0m\u001b[1;33m)\u001b[0m\u001b[1;33m\u001b[0m\u001b[1;33m\u001b[0m\u001b[0m\n",
      "\u001b[1;31mNameError\u001b[0m: name 'ᄐ_' is not defined"
     ]
    }
   ],
   "source": [
    "x_torch = Variable(torch.from_numpy().type(torch.LongTensor))\n",
    "y_test_pred, wts = model(x_torch[0])\n",
    "y_preds = torch.round(y_test_pred.type(torch.DoubleTensor).squeeze(1))"
   ]
  },
  {
   "cell_type": "code",
   "execution_count": 414,
   "metadata": {
    "ExecuteTime": {
     "end_time": "2019-08-23T09:11:54.444415Z",
     "start_time": "2019-08-23T09:11:54.435417Z"
    }
   },
   "outputs": [
    {
     "data": {
      "text/plain": [
       "tensor([[0.9766]], grad_fn=<SigmoidBackward>)"
      ]
     },
     "execution_count": 414,
     "metadata": {},
     "output_type": "execute_result"
    }
   ],
   "source": [
    "y_test_pred"
   ]
  },
  {
   "cell_type": "code",
   "execution_count": null,
   "metadata": {},
   "outputs": [],
   "source": []
  },
  {
   "cell_type": "code",
   "execution_count": 309,
   "metadata": {
    "ExecuteTime": {
     "end_time": "2019-08-23T09:05:36.754893Z",
     "start_time": "2019-08-23T09:05:36.743916Z"
    }
   },
   "outputs": [],
   "source": [
    "wts_add_list = torch.sum(wts,1).data.numpy().tolist()"
   ]
  },
  {
   "cell_type": "code",
   "execution_count": 388,
   "metadata": {
    "ExecuteTime": {
     "end_time": "2019-08-23T09:08:33.725475Z",
     "start_time": "2019-08-23T09:08:33.679483Z"
    }
   },
   "outputs": [
    {
     "ename": "NameError",
     "evalue": "name 'X_test' is not defined",
     "output_type": "error",
     "traceback": [
      "\u001b[1;31m---------------------------------------------------------------------------\u001b[0m",
      "\u001b[1;31mNameError\u001b[0m                                 Traceback (most recent call last)",
      "\u001b[1;32m<ipython-input-388-0c1cdefd54ea>\u001b[0m in \u001b[0;36m<module>\u001b[1;34m\u001b[0m\n\u001b[1;32m----> 1\u001b[1;33m \u001b[0mX_test\u001b[0m\u001b[1;33m\u001b[0m\u001b[1;33m\u001b[0m\u001b[0m\n\u001b[0m",
      "\u001b[1;31mNameError\u001b[0m: name 'X_test' is not defined"
     ]
    }
   ],
   "source": [
    "X_test"
   ]
  },
  {
   "cell_type": "code",
   "execution_count": 565,
   "metadata": {
    "ExecuteTime": {
     "end_time": "2019-08-23T10:55:53.524352Z",
     "start_time": "2019-08-23T10:55:53.263459Z"
    }
   },
   "outputs": [],
   "source": [
    "rule = pd.read_csv('../../data/test4만라벨2.csv', encoding='utf-16')\n",
    "model_res = pd.read_csv('../../data/att_model_pred.csv', encoding='utf-16')"
   ]
  },
  {
   "cell_type": "code",
   "execution_count": 593,
   "metadata": {
    "ExecuteTime": {
     "end_time": "2019-08-23T11:04:02.483054Z",
     "start_time": "2019-08-23T11:04:02.354127Z"
    }
   },
   "outputs": [
    {
     "name": "stdout",
     "output_type": "stream",
     "text": [
      "0.9507857142857142\n",
      "              precision    recall  f1-score   support\n",
      "\n",
      "           0       0.96      0.98      0.97     39904\n",
      "           1       0.51      0.31      0.39      2096\n",
      "\n",
      "    accuracy                           0.95     42000\n",
      "   macro avg       0.74      0.65      0.68     42000\n",
      "weighted avg       0.94      0.95      0.95     42000\n",
      "\n"
     ]
    }
   ],
   "source": [
    "# 실제 정답과 룰베이스 필터링 차이\n",
    "from sklearn.metrics import accuracy_score, classification_report\n",
    "print(accuracy_score(dataset.label, rule.filtered))\n",
    "print(classification_report(dataset.label, rule.filtered))"
   ]
  },
  {
   "cell_type": "code",
   "execution_count": 612,
   "metadata": {
    "ExecuteTime": {
     "end_time": "2019-08-23T11:10:42.911543Z",
     "start_time": "2019-08-23T11:10:42.901565Z"
    }
   },
   "outputs": [],
   "source": [
    "# 딥러닝 1이라고 한 것 중 룰베이스 0이라고 한 것\n",
    "dataset['model'] = model_res.label\n",
    "dataset['rule'] = rule.filtered"
   ]
  },
  {
   "cell_type": "code",
   "execution_count": 613,
   "metadata": {
    "ExecuteTime": {
     "end_time": "2019-08-23T11:10:43.232358Z",
     "start_time": "2019-08-23T11:10:43.224362Z"
    }
   },
   "outputs": [
    {
     "data": {
      "text/plain": [
       "Index(['Unnamed: 0', 'comment', 'url_id', 'label', 'model', 'rule'], dtype='object')"
      ]
     },
     "execution_count": 613,
     "metadata": {},
     "output_type": "execute_result"
    }
   ],
   "source": [
    "dataset.columns"
   ]
  },
  {
   "cell_type": "code",
   "execution_count": 614,
   "metadata": {
    "ExecuteTime": {
     "end_time": "2019-08-23T11:10:43.692098Z",
     "start_time": "2019-08-23T11:10:43.677103Z"
    }
   },
   "outputs": [],
   "source": [
    "dataset.drop(columns=['url_id','Unnamed: 0'], inplace=True)"
   ]
  },
  {
   "cell_type": "code",
   "execution_count": 622,
   "metadata": {
    "ExecuteTime": {
     "end_time": "2019-08-23T11:13:44.540451Z",
     "start_time": "2019-08-23T11:13:44.469479Z"
    }
   },
   "outputs": [
    {
     "data": {
      "text/html": [
       "<div>\n",
       "<style scoped>\n",
       "    .dataframe tbody tr th:only-of-type {\n",
       "        vertical-align: middle;\n",
       "    }\n",
       "\n",
       "    .dataframe tbody tr th {\n",
       "        vertical-align: top;\n",
       "    }\n",
       "\n",
       "    .dataframe thead th {\n",
       "        text-align: right;\n",
       "    }\n",
       "</style>\n",
       "<table border=\"1\" class=\"dataframe\">\n",
       "  <thead>\n",
       "    <tr style=\"text-align: right;\">\n",
       "      <th></th>\n",
       "      <th>comment</th>\n",
       "      <th>label</th>\n",
       "      <th>model</th>\n",
       "      <th>rule</th>\n",
       "    </tr>\n",
       "  </thead>\n",
       "  <tbody>\n",
       "    <tr>\n",
       "      <th>7</th>\n",
       "      <td>손 찧으면 진짜 아픈데</td>\n",
       "      <td>0</td>\n",
       "      <td>1.0</td>\n",
       "      <td>0</td>\n",
       "    </tr>\n",
       "    <tr>\n",
       "      <th>16</th>\n",
       "      <td>궁금하시면 방송직접보세요</td>\n",
       "      <td>0</td>\n",
       "      <td>1.0</td>\n",
       "      <td>0</td>\n",
       "    </tr>\n",
       "    <tr>\n",
       "      <th>52</th>\n",
       "      <td>님이 스트리머에게 무한한 존경을 표합니다 !</td>\n",
       "      <td>0</td>\n",
       "      <td>1.0</td>\n",
       "      <td>0</td>\n",
       "    </tr>\n",
       "    <tr>\n",
       "      <th>100</th>\n",
       "      <td>ㅠㅠㅠㅠㅠㅠㅠㅠㅠㅠㅠㅠㅠ</td>\n",
       "      <td>0</td>\n",
       "      <td>1.0</td>\n",
       "      <td>0</td>\n",
       "    </tr>\n",
       "    <tr>\n",
       "      <th>104</th>\n",
       "      <td>짜장 만날 출발만 하고 오질 않네 ~</td>\n",
       "      <td>0</td>\n",
       "      <td>1.0</td>\n",
       "      <td>0</td>\n",
       "    </tr>\n",
       "    <tr>\n",
       "      <th>109</th>\n",
       "      <td>다롬이만 예뻐하니까 잔뜩 삐지</td>\n",
       "      <td>0</td>\n",
       "      <td>1.0</td>\n",
       "      <td>0</td>\n",
       "    </tr>\n",
       "    <tr>\n",
       "      <th>117</th>\n",
       "      <td>어둠속에서 어딜 조지나</td>\n",
       "      <td>0</td>\n",
       "      <td>1.0</td>\n",
       "      <td>0</td>\n",
       "    </tr>\n",
       "    <tr>\n",
       "      <th>152</th>\n",
       "      <td>가을의젠지</td>\n",
       "      <td>0</td>\n",
       "      <td>1.0</td>\n",
       "      <td>0</td>\n",
       "    </tr>\n",
       "    <tr>\n",
       "      <th>162</th>\n",
       "      <td>탑 키워준값 제대로 하네</td>\n",
       "      <td>0</td>\n",
       "      <td>1.0</td>\n",
       "      <td>0</td>\n",
       "    </tr>\n",
       "    <tr>\n",
       "      <th>165</th>\n",
       "      <td>아까만들지않음?</td>\n",
       "      <td>0</td>\n",
       "      <td>1.0</td>\n",
       "      <td>0</td>\n",
       "    </tr>\n",
       "    <tr>\n",
       "      <th>170</th>\n",
       "      <td>븅-신 ㅋㅋㅋㅋㅋㅋㅋㅋㅋㅋㅋㅋㅋㅋㅋㅋㅋㅋㅋㅋㅋㅋㅋㅋㅋㅋㅋㅋㅋㅋㅋㅋㅋㅋㅋㅋㅋ</td>\n",
       "      <td>1</td>\n",
       "      <td>0.0</td>\n",
       "      <td>1</td>\n",
       "    </tr>\n",
       "    <tr>\n",
       "      <th>185</th>\n",
       "      <td>미쳣 내현</td>\n",
       "      <td>0</td>\n",
       "      <td>1.0</td>\n",
       "      <td>0</td>\n",
       "    </tr>\n",
       "    <tr>\n",
       "      <th>205</th>\n",
       "      <td>너 재밌으면 딴 사람들도 다 재밌어야되냐? 존--나 지 기준으로 세상이 돌아가는줄아나</td>\n",
       "      <td>0</td>\n",
       "      <td>0.0</td>\n",
       "      <td>1</td>\n",
       "    </tr>\n",
       "    <tr>\n",
       "      <th>208</th>\n",
       "      <td>땅에서 죽순나온거같이 생김 ㅋ</td>\n",
       "      <td>0</td>\n",
       "      <td>1.0</td>\n",
       "      <td>0</td>\n",
       "    </tr>\n",
       "    <tr>\n",
       "      <th>218</th>\n",
       "      <td>킹존이 플활용이 엄청잠</td>\n",
       "      <td>0</td>\n",
       "      <td>1.0</td>\n",
       "      <td>0</td>\n",
       "    </tr>\n",
       "    <tr>\n",
       "      <th>223</th>\n",
       "      <td>녹방 녹방 이 지랄하면서 나가는 애는 거의 없네ㅋㄱㅋㅋ채팅이나 치고잇고ㅋㅋ</td>\n",
       "      <td>0</td>\n",
       "      <td>0.0</td>\n",
       "      <td>1</td>\n",
       "    </tr>\n",
       "    <tr>\n",
       "      <th>232</th>\n",
       "      <td>창문밖에서</td>\n",
       "      <td>0</td>\n",
       "      <td>1.0</td>\n",
       "      <td>0</td>\n",
       "    </tr>\n",
       "    <tr>\n",
       "      <th>271</th>\n",
       "      <td>팀까내리는애들 어이없네</td>\n",
       "      <td>0</td>\n",
       "      <td>1.0</td>\n",
       "      <td>0</td>\n",
       "    </tr>\n",
       "    <tr>\n",
       "      <th>290</th>\n",
       "      <td>그림자복도보단 세키로가 쉬울듯 ㅋㅋㅋㅋㅋ</td>\n",
       "      <td>0</td>\n",
       "      <td>1.0</td>\n",
       "      <td>0</td>\n",
       "    </tr>\n",
       "    <tr>\n",
       "      <th>299</th>\n",
       "      <td>쉰밥</td>\n",
       "      <td>0</td>\n",
       "      <td>1.0</td>\n",
       "      <td>0</td>\n",
       "    </tr>\n",
       "    <tr>\n",
       "      <th>317</th>\n",
       "      <td>추종자네</td>\n",
       "      <td>0</td>\n",
       "      <td>1.0</td>\n",
       "      <td>0</td>\n",
       "    </tr>\n",
       "    <tr>\n",
       "      <th>319</th>\n",
       "      <td>찬밥씨</td>\n",
       "      <td>0</td>\n",
       "      <td>1.0</td>\n",
       "      <td>0</td>\n",
       "    </tr>\n",
       "    <tr>\n",
       "      <th>323</th>\n",
       "      <td>ㅈㄱㅊㅇ</td>\n",
       "      <td>0</td>\n",
       "      <td>1.0</td>\n",
       "      <td>0</td>\n",
       "    </tr>\n",
       "    <tr>\n",
       "      <th>333</th>\n",
       "      <td>숨쉬어 ㅠㅠㅠㅠㅠㅠ</td>\n",
       "      <td>0</td>\n",
       "      <td>1.0</td>\n",
       "      <td>0</td>\n",
       "    </tr>\n",
       "    <tr>\n",
       "      <th>400</th>\n",
       "      <td>이 시바로마</td>\n",
       "      <td>0</td>\n",
       "      <td>0.0</td>\n",
       "      <td>1</td>\n",
       "    </tr>\n",
       "    <tr>\n",
       "      <th>403</th>\n",
       "      <td>뜨는데요 ㅡㅡ</td>\n",
       "      <td>0</td>\n",
       "      <td>1.0</td>\n",
       "      <td>0</td>\n",
       "    </tr>\n",
       "    <tr>\n",
       "      <th>419</th>\n",
       "      <td>뭐지 이거 말파인가요?</td>\n",
       "      <td>0</td>\n",
       "      <td>1.0</td>\n",
       "      <td>0</td>\n",
       "    </tr>\n",
       "    <tr>\n",
       "      <th>429</th>\n",
       "      <td>뽈로뽈로뮈</td>\n",
       "      <td>0</td>\n",
       "      <td>1.0</td>\n",
       "      <td>0</td>\n",
       "    </tr>\n",
       "    <tr>\n",
       "      <th>432</th>\n",
       "      <td>시간 오지게 끌리네</td>\n",
       "      <td>0</td>\n",
       "      <td>1.0</td>\n",
       "      <td>0</td>\n",
       "    </tr>\n",
       "    <tr>\n",
       "      <th>435</th>\n",
       "      <td>쯰릿쯰릿</td>\n",
       "      <td>0</td>\n",
       "      <td>1.0</td>\n",
       "      <td>0</td>\n",
       "    </tr>\n",
       "    <tr>\n",
       "      <th>...</th>\n",
       "      <td>...</td>\n",
       "      <td>...</td>\n",
       "      <td>...</td>\n",
       "      <td>...</td>\n",
       "    </tr>\n",
       "    <tr>\n",
       "      <th>41483</th>\n",
       "      <td>문이 에어로졸이라 압력 쌔질것같은데</td>\n",
       "      <td>0</td>\n",
       "      <td>1.0</td>\n",
       "      <td>0</td>\n",
       "    </tr>\n",
       "    <tr>\n",
       "      <th>41484</th>\n",
       "      <td>야야 알려주지마 골드버그</td>\n",
       "      <td>0</td>\n",
       "      <td>1.0</td>\n",
       "      <td>0</td>\n",
       "    </tr>\n",
       "    <tr>\n",
       "      <th>41508</th>\n",
       "      <td>조국이 불타고있다</td>\n",
       "      <td>0</td>\n",
       "      <td>1.0</td>\n",
       "      <td>0</td>\n",
       "    </tr>\n",
       "    <tr>\n",
       "      <th>41510</th>\n",
       "      <td>그게 뭔지를 찾아야죠</td>\n",
       "      <td>0</td>\n",
       "      <td>1.0</td>\n",
       "      <td>0</td>\n",
       "    </tr>\n",
       "    <tr>\n",
       "      <th>41527</th>\n",
       "      <td>에휴 킹망겜</td>\n",
       "      <td>0</td>\n",
       "      <td>1.0</td>\n",
       "      <td>0</td>\n",
       "    </tr>\n",
       "    <tr>\n",
       "      <th>41532</th>\n",
       "      <td>칼렉쪼개자</td>\n",
       "      <td>0</td>\n",
       "      <td>1.0</td>\n",
       "      <td>0</td>\n",
       "    </tr>\n",
       "    <tr>\n",
       "      <th>41546</th>\n",
       "      <td>하단 작살날 준비하시구연!</td>\n",
       "      <td>0</td>\n",
       "      <td>1.0</td>\n",
       "      <td>0</td>\n",
       "    </tr>\n",
       "    <tr>\n",
       "      <th>41551</th>\n",
       "      <td>나까지만</td>\n",
       "      <td>0</td>\n",
       "      <td>1.0</td>\n",
       "      <td>0</td>\n",
       "    </tr>\n",
       "    <tr>\n",
       "      <th>41605</th>\n",
       "      <td>김치 밀크 쉐이크? ?</td>\n",
       "      <td>0</td>\n",
       "      <td>1.0</td>\n",
       "      <td>0</td>\n",
       "    </tr>\n",
       "    <tr>\n",
       "      <th>41611</th>\n",
       "      <td>이유도 안알려주고</td>\n",
       "      <td>0</td>\n",
       "      <td>1.0</td>\n",
       "      <td>0</td>\n",
       "    </tr>\n",
       "    <tr>\n",
       "      <th>41615</th>\n",
       "      <td>개백수 새기야</td>\n",
       "      <td>1</td>\n",
       "      <td>1.0</td>\n",
       "      <td>0</td>\n",
       "    </tr>\n",
       "    <tr>\n",
       "      <th>41621</th>\n",
       "      <td>갓 폭죽</td>\n",
       "      <td>0</td>\n",
       "      <td>1.0</td>\n",
       "      <td>0</td>\n",
       "    </tr>\n",
       "    <tr>\n",
       "      <th>41657</th>\n",
       "      <td>ㅠㅠㅠㅠㅠㅠㅠㅠㅠㅠㅠㅠㅠ</td>\n",
       "      <td>0</td>\n",
       "      <td>1.0</td>\n",
       "      <td>0</td>\n",
       "    </tr>\n",
       "    <tr>\n",
       "      <th>41679</th>\n",
       "      <td>폭신폭신끼실? ㅋㅋㅋㅋㅋ</td>\n",
       "      <td>0</td>\n",
       "      <td>1.0</td>\n",
       "      <td>0</td>\n",
       "    </tr>\n",
       "    <tr>\n",
       "      <th>41690</th>\n",
       "      <td>wns249877님1000원 그라샤! - 내가 니새끼 자살하거나 트위치에서 추방당하...</td>\n",
       "      <td>1</td>\n",
       "      <td>0.0</td>\n",
       "      <td>1</td>\n",
       "    </tr>\n",
       "    <tr>\n",
       "      <th>41762</th>\n",
       "      <td>이실지도</td>\n",
       "      <td>0</td>\n",
       "      <td>1.0</td>\n",
       "      <td>0</td>\n",
       "    </tr>\n",
       "    <tr>\n",
       "      <th>41765</th>\n",
       "      <td>ㅜㅜㅜㅜㅜㅜㅜㅜㅜㅜㅜㅜㅜㅜ</td>\n",
       "      <td>0</td>\n",
       "      <td>1.0</td>\n",
       "      <td>0</td>\n",
       "    </tr>\n",
       "    <tr>\n",
       "      <th>41780</th>\n",
       "      <td>아님 씹덕들은 서로를 알아본다</td>\n",
       "      <td>1</td>\n",
       "      <td>0.0</td>\n",
       "      <td>1</td>\n",
       "    </tr>\n",
       "    <tr>\n",
       "      <th>41815</th>\n",
       "      <td>저도 빠른인데 잘 놀았는데 ㅡㅡ;;</td>\n",
       "      <td>0</td>\n",
       "      <td>1.0</td>\n",
       "      <td>0</td>\n",
       "    </tr>\n",
       "    <tr>\n",
       "      <th>41818</th>\n",
       "      <td>가발임</td>\n",
       "      <td>0</td>\n",
       "      <td>1.0</td>\n",
       "      <td>0</td>\n",
       "    </tr>\n",
       "    <tr>\n",
       "      <th>41823</th>\n",
       "      <td>풀파티 오른ㄷㄷㄷㄷㄷ</td>\n",
       "      <td>0</td>\n",
       "      <td>1.0</td>\n",
       "      <td>0</td>\n",
       "    </tr>\n",
       "    <tr>\n",
       "      <th>41838</th>\n",
       "      <td>이거 전 열혈이 주고 간 유산임</td>\n",
       "      <td>0</td>\n",
       "      <td>1.0</td>\n",
       "      <td>0</td>\n",
       "    </tr>\n",
       "    <tr>\n",
       "      <th>41868</th>\n",
       "      <td>인게임에 영향 주는 버그는 다 고쳐졌나</td>\n",
       "      <td>0</td>\n",
       "      <td>1.0</td>\n",
       "      <td>0</td>\n",
       "    </tr>\n",
       "    <tr>\n",
       "      <th>41886</th>\n",
       "      <td>간나색히 젠부샤스!</td>\n",
       "      <td>1</td>\n",
       "      <td>0.0</td>\n",
       "      <td>1</td>\n",
       "    </tr>\n",
       "    <tr>\n",
       "      <th>41899</th>\n",
       "      <td>핑와 몇개임</td>\n",
       "      <td>0</td>\n",
       "      <td>1.0</td>\n",
       "      <td>0</td>\n",
       "    </tr>\n",
       "    <tr>\n",
       "      <th>41919</th>\n",
       "      <td>고블링 맛잇는데요 ㅡㅡ</td>\n",
       "      <td>0</td>\n",
       "      <td>1.0</td>\n",
       "      <td>0</td>\n",
       "    </tr>\n",
       "    <tr>\n",
       "      <th>41924</th>\n",
       "      <td>ㅠㅠㅠㅠㅠㅠㅠㅠㅠㅠㅠㅠㅠㅠㅠㅠㅠ</td>\n",
       "      <td>0</td>\n",
       "      <td>1.0</td>\n",
       "      <td>0</td>\n",
       "    </tr>\n",
       "    <tr>\n",
       "      <th>41930</th>\n",
       "      <td>귓말막아놓으면 안갈텐데</td>\n",
       "      <td>0</td>\n",
       "      <td>1.0</td>\n",
       "      <td>0</td>\n",
       "    </tr>\n",
       "    <tr>\n",
       "      <th>41942</th>\n",
       "      <td>얘! 나가죽으렴!</td>\n",
       "      <td>1</td>\n",
       "      <td>1.0</td>\n",
       "      <td>0</td>\n",
       "    </tr>\n",
       "    <tr>\n",
       "      <th>41947</th>\n",
       "      <td>ask맨이라 그럼</td>\n",
       "      <td>0</td>\n",
       "      <td>1.0</td>\n",
       "      <td>0</td>\n",
       "    </tr>\n",
       "  </tbody>\n",
       "</table>\n",
       "<p>2828 rows × 4 columns</p>\n",
       "</div>"
      ],
      "text/plain": [
       "                                                 comment  label  model  rule\n",
       "7                                           손 찧으면 진짜 아픈데      0    1.0     0\n",
       "16                                         궁금하시면 방송직접보세요      0    1.0     0\n",
       "52                              님이 스트리머에게 무한한 존경을 표합니다 !      0    1.0     0\n",
       "100                                        ㅠㅠㅠㅠㅠㅠㅠㅠㅠㅠㅠㅠㅠ      0    1.0     0\n",
       "104                                 짜장 만날 출발만 하고 오질 않네 ~      0    1.0     0\n",
       "109                                     다롬이만 예뻐하니까 잔뜩 삐지      0    1.0     0\n",
       "117                                         어둠속에서 어딜 조지나      0    1.0     0\n",
       "152                                                가을의젠지      0    1.0     0\n",
       "162                                        탑 키워준값 제대로 하네      0    1.0     0\n",
       "165                                             아까만들지않음?      0    1.0     0\n",
       "170            븅-신 ㅋㅋㅋㅋㅋㅋㅋㅋㅋㅋㅋㅋㅋㅋㅋㅋㅋㅋㅋㅋㅋㅋㅋㅋㅋㅋㅋㅋㅋㅋㅋㅋㅋㅋㅋㅋㅋ      1    0.0     1\n",
       "185                                                미쳣 내현      0    1.0     0\n",
       "205      너 재밌으면 딴 사람들도 다 재밌어야되냐? 존--나 지 기준으로 세상이 돌아가는줄아나      0    0.0     1\n",
       "208                                     땅에서 죽순나온거같이 생김 ㅋ      0    1.0     0\n",
       "218                                         킹존이 플활용이 엄청잠      0    1.0     0\n",
       "223            녹방 녹방 이 지랄하면서 나가는 애는 거의 없네ㅋㄱㅋㅋ채팅이나 치고잇고ㅋㅋ      0    0.0     1\n",
       "232                                                창문밖에서      0    1.0     0\n",
       "271                                         팀까내리는애들 어이없네      0    1.0     0\n",
       "290                               그림자복도보단 세키로가 쉬울듯 ㅋㅋㅋㅋㅋ      0    1.0     0\n",
       "299                                                   쉰밥      0    1.0     0\n",
       "317                                                 추종자네      0    1.0     0\n",
       "319                                                  찬밥씨      0    1.0     0\n",
       "323                                                 ㅈㄱㅊㅇ      0    1.0     0\n",
       "333                                           숨쉬어 ㅠㅠㅠㅠㅠㅠ      0    1.0     0\n",
       "400                                               이 시바로마      0    0.0     1\n",
       "403                                              뜨는데요 ㅡㅡ      0    1.0     0\n",
       "419                                         뭐지 이거 말파인가요?      0    1.0     0\n",
       "429                                                뽈로뽈로뮈      0    1.0     0\n",
       "432                                           시간 오지게 끌리네      0    1.0     0\n",
       "435                                                 쯰릿쯰릿      0    1.0     0\n",
       "...                                                  ...    ...    ...   ...\n",
       "41483                                문이 에어로졸이라 압력 쌔질것같은데      0    1.0     0\n",
       "41484                                      야야 알려주지마 골드버그      0    1.0     0\n",
       "41508                                          조국이 불타고있다      0    1.0     0\n",
       "41510                                        그게 뭔지를 찾아야죠      0    1.0     0\n",
       "41527                                             에휴 킹망겜      0    1.0     0\n",
       "41532                                              칼렉쪼개자      0    1.0     0\n",
       "41546                                     하단 작살날 준비하시구연!      0    1.0     0\n",
       "41551                                               나까지만      0    1.0     0\n",
       "41605                                       김치 밀크 쉐이크? ?      0    1.0     0\n",
       "41611                                          이유도 안알려주고      0    1.0     0\n",
       "41615                                            개백수 새기야      1    1.0     0\n",
       "41621                                               갓 폭죽      0    1.0     0\n",
       "41657                                      ㅠㅠㅠㅠㅠㅠㅠㅠㅠㅠㅠㅠㅠ      0    1.0     0\n",
       "41679                                      폭신폭신끼실? ㅋㅋㅋㅋㅋ      0    1.0     0\n",
       "41690  wns249877님1000원 그라샤! - 내가 니새끼 자살하거나 트위치에서 추방당하...      1    0.0     1\n",
       "41762                                               이실지도      0    1.0     0\n",
       "41765                                     ㅜㅜㅜㅜㅜㅜㅜㅜㅜㅜㅜㅜㅜㅜ      0    1.0     0\n",
       "41780                                   아님 씹덕들은 서로를 알아본다      1    0.0     1\n",
       "41815                                저도 빠른인데 잘 놀았는데 ㅡㅡ;;      0    1.0     0\n",
       "41818                                                가발임      0    1.0     0\n",
       "41823                                        풀파티 오른ㄷㄷㄷㄷㄷ      0    1.0     0\n",
       "41838                                  이거 전 열혈이 주고 간 유산임      0    1.0     0\n",
       "41868                              인게임에 영향 주는 버그는 다 고쳐졌나      0    1.0     0\n",
       "41886                                         간나색히 젠부샤스!      1    0.0     1\n",
       "41899                                             핑와 몇개임      0    1.0     0\n",
       "41919                                       고블링 맛잇는데요 ㅡㅡ      0    1.0     0\n",
       "41924                                  ㅠㅠㅠㅠㅠㅠㅠㅠㅠㅠㅠㅠㅠㅠㅠㅠㅠ      0    1.0     0\n",
       "41930                                       귓말막아놓으면 안갈텐데      0    1.0     0\n",
       "41942                                          얘! 나가죽으렴!      1    1.0     0\n",
       "41947                                          ask맨이라 그럼      0    1.0     0\n",
       "\n",
       "[2828 rows x 4 columns]"
      ]
     },
     "execution_count": 622,
     "metadata": {},
     "output_type": "execute_result"
    }
   ],
   "source": [
    "dataset[dataset.model != dataset.rule]"
   ]
  },
  {
   "cell_type": "code",
   "execution_count": 625,
   "metadata": {
    "ExecuteTime": {
     "end_time": "2019-08-23T11:15:05.793870Z",
     "start_time": "2019-08-23T11:15:05.777881Z"
    }
   },
   "outputs": [],
   "source": [
    "a = dataset[dataset.model==1][dataset[dataset.model==1].rule==0]"
   ]
  },
  {
   "cell_type": "code",
   "execution_count": 628,
   "metadata": {
    "ExecuteTime": {
     "end_time": "2019-08-23T11:16:36.174352Z",
     "start_time": "2019-08-23T11:16:36.096385Z"
    }
   },
   "outputs": [],
   "source": [
    "a.to_csv('../../data/final_euc.csv', encoding='euc-kr')"
   ]
  }
 ],
 "metadata": {
  "kernelspec": {
   "display_name": "Python 3",
   "language": "python",
   "name": "python3"
  }
 },
 "nbformat": 4,
 "nbformat_minor": 2
}
