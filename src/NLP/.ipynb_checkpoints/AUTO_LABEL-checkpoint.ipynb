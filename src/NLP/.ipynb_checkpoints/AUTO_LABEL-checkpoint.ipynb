{
 "cells": [
  {
   "cell_type": "code",
   "execution_count": 1,
   "metadata": {
    "ExecuteTime": {
     "end_time": "2019-08-12T01:15:55.586511Z",
     "start_time": "2019-08-12T01:15:55.464578Z"
    }
   },
   "outputs": [
    {
     "name": "stdout",
     "output_type": "stream",
     "text": [
      "mkjang 2019-08-12 \n",
      "\n",
      "CPython 3.7.3\n",
      "IPython 7.6.1\n"
     ]
    }
   ],
   "source": [
    "%load_ext watermark\n",
    "%watermark -a mkjang -d -v"
   ]
  },
  {
   "cell_type": "markdown",
   "metadata": {},
   "source": [
    "============유해도 필터링 함수==========="
   ]
  },
  {
   "cell_type": "code",
   "execution_count": 20,
   "metadata": {
    "ExecuteTime": {
     "end_time": "2019-08-12T01:55:15.242366Z",
     "start_time": "2019-08-12T01:55:13.293486Z"
    }
   },
   "outputs": [],
   "source": [
    "import numpy as np\n",
    "import pandas as pd\n",
    "import json\n",
    "import re\n",
    "\n",
    "\n",
    "def AUTO_LABEL(dataset,dictionary):\n",
    "    '''\n",
    "    인풋으로 '비속어사전'(dictionary)과 '필터링할 DataFrame'을 사용합니다.\n",
    "     \n",
    "    그러면 이 함수는 해당 dataFrame과 비속어사전을 매핑하여, \n",
    "    비속어사전에 있는 단어가 해당파일에 있는 경우에\n",
    "    필터링된 파일(dataset)에 유해함 여부를 1로써 나타냅니다.\n",
    "    \n",
    "    이때 유해도를 나타내는 컬럼은 dataset에서 새로운 'filtered'에 나타나며\n",
    "    filtered는 디폴트로 0 값을 갖고 있다가, 비속어 사전과 채팅의 데이터가 매핑되면\n",
    "    유해도가 1로 변경됩니다.\n",
    "      \n",
    "    '''\n",
    "# 1. 데이터 셋 불러오기\n",
    "    datasets = pd.DataFrame()\n",
    "    dump = pd.read_csv(dataset, engine='c',sep=',', encoding='utf-8')\n",
    "    datasets = pd.concat([datasets, dump])\n",
    "        \n",
    "# 2. 비속어 사전 불러오기\n",
    "    with open(dictionary,'r') as f:\n",
    "        forbiddenword = json.load(f)\n",
    "        list2=list(forbiddenword.values()) \n",
    "        dict=list2[0] \n",
    "        dict1=\"|\".join(dict) \n",
    "        \n",
    "        \n",
    "# 3. filtered라는 컬럼을 데이터셋에 추가함. (디폴트0, 필터되어 유해하면 1로 변경)\n",
    "    datasets['filtered']=0\n",
    "    data = datasets.comment\n",
    "\n",
    "# 4. 유해 여부 실질적으로 판단\n",
    "    idx = [i for i,d in enumerate(data) if re.search(dict1, d)]   \n",
    "    datasets.iloc[idx,-1] = 1\n",
    "    return datasets\n",
    "#     return datasets[datasets['filtered']==1]\n",
    "#=>필터된거만 보고싶을때"
   ]
  },
  {
   "cell_type": "code",
   "execution_count": 21,
   "metadata": {
    "ExecuteTime": {
     "end_time": "2019-08-12T01:55:15.452248Z",
     "start_time": "2019-08-12T01:55:15.247363Z"
    }
   },
   "outputs": [
    {
     "ename": "UnicodeDecodeError",
     "evalue": "'cp949' codec can't decode byte 0xfe in position 1155: illegal multibyte sequence",
     "output_type": "error",
     "traceback": [
      "\u001b[1;31m---------------------------------------------------------------------------\u001b[0m",
      "\u001b[1;31mUnicodeDecodeError\u001b[0m                        Traceback (most recent call last)",
      "\u001b[1;32m<ipython-input-21-d68d0edbaee9>\u001b[0m in \u001b[0;36m<module>\u001b[1;34m\u001b[0m\n\u001b[1;32m----> 1\u001b[1;33m \u001b[0mAUTO_LABEL\u001b[0m\u001b[1;33m(\u001b[0m\u001b[1;34m'../../data/123.csv'\u001b[0m\u001b[1;33m,\u001b[0m\u001b[1;34m'word-fobidden.json'\u001b[0m\u001b[1;33m)\u001b[0m\u001b[1;33m\u001b[0m\u001b[1;33m\u001b[0m\u001b[0m\n\u001b[0m",
      "\u001b[1;32m<ipython-input-20-f5e38d4ee96a>\u001b[0m in \u001b[0;36mAUTO_LABEL\u001b[1;34m(dataset, dictionary)\u001b[0m\n\u001b[0;32m     25\u001b[0m \u001b[1;31m# 2. 비속어 사전 불러오기\u001b[0m\u001b[1;33m\u001b[0m\u001b[1;33m\u001b[0m\u001b[1;33m\u001b[0m\u001b[0m\n\u001b[0;32m     26\u001b[0m     \u001b[1;32mwith\u001b[0m \u001b[0mopen\u001b[0m\u001b[1;33m(\u001b[0m\u001b[0mdictionary\u001b[0m\u001b[1;33m,\u001b[0m\u001b[1;34m'r'\u001b[0m\u001b[1;33m)\u001b[0m \u001b[1;32mas\u001b[0m \u001b[0mf\u001b[0m\u001b[1;33m:\u001b[0m\u001b[1;33m\u001b[0m\u001b[1;33m\u001b[0m\u001b[0m\n\u001b[1;32m---> 27\u001b[1;33m         \u001b[0mforbiddenword\u001b[0m \u001b[1;33m=\u001b[0m \u001b[0mjson\u001b[0m\u001b[1;33m.\u001b[0m\u001b[0mload\u001b[0m\u001b[1;33m(\u001b[0m\u001b[0mf\u001b[0m\u001b[1;33m)\u001b[0m\u001b[1;33m\u001b[0m\u001b[1;33m\u001b[0m\u001b[0m\n\u001b[0m\u001b[0;32m     28\u001b[0m         \u001b[0mlist2\u001b[0m\u001b[1;33m=\u001b[0m\u001b[0mlist\u001b[0m\u001b[1;33m(\u001b[0m\u001b[0mforbiddenword\u001b[0m\u001b[1;33m.\u001b[0m\u001b[0mvalues\u001b[0m\u001b[1;33m(\u001b[0m\u001b[1;33m)\u001b[0m\u001b[1;33m)\u001b[0m\u001b[1;33m\u001b[0m\u001b[1;33m\u001b[0m\u001b[0m\n\u001b[0;32m     29\u001b[0m         \u001b[0mdict\u001b[0m\u001b[1;33m=\u001b[0m\u001b[0mlist2\u001b[0m\u001b[1;33m[\u001b[0m\u001b[1;36m0\u001b[0m\u001b[1;33m]\u001b[0m\u001b[1;33m\u001b[0m\u001b[1;33m\u001b[0m\u001b[0m\n",
      "\u001b[1;32m~\\Anaconda3\\lib\\json\\__init__.py\u001b[0m in \u001b[0;36mload\u001b[1;34m(fp, cls, object_hook, parse_float, parse_int, parse_constant, object_pairs_hook, **kw)\u001b[0m\n\u001b[0;32m    291\u001b[0m     \u001b[0mkwarg\u001b[0m\u001b[1;33m;\u001b[0m \u001b[0motherwise\u001b[0m\u001b[0;31m \u001b[0m\u001b[0;31m`\u001b[0m\u001b[0;31m`\u001b[0m\u001b[0mJSONDecoder\u001b[0m\u001b[0;31m`\u001b[0m\u001b[0;31m`\u001b[0m \u001b[1;32mis\u001b[0m \u001b[0mused\u001b[0m\u001b[1;33m.\u001b[0m\u001b[1;33m\u001b[0m\u001b[1;33m\u001b[0m\u001b[0m\n\u001b[0;32m    292\u001b[0m     \"\"\"\n\u001b[1;32m--> 293\u001b[1;33m     return loads(fp.read(),\n\u001b[0m\u001b[0;32m    294\u001b[0m         \u001b[0mcls\u001b[0m\u001b[1;33m=\u001b[0m\u001b[0mcls\u001b[0m\u001b[1;33m,\u001b[0m \u001b[0mobject_hook\u001b[0m\u001b[1;33m=\u001b[0m\u001b[0mobject_hook\u001b[0m\u001b[1;33m,\u001b[0m\u001b[1;33m\u001b[0m\u001b[1;33m\u001b[0m\u001b[0m\n\u001b[0;32m    295\u001b[0m         \u001b[0mparse_float\u001b[0m\u001b[1;33m=\u001b[0m\u001b[0mparse_float\u001b[0m\u001b[1;33m,\u001b[0m \u001b[0mparse_int\u001b[0m\u001b[1;33m=\u001b[0m\u001b[0mparse_int\u001b[0m\u001b[1;33m,\u001b[0m\u001b[1;33m\u001b[0m\u001b[1;33m\u001b[0m\u001b[0m\n",
      "\u001b[1;31mUnicodeDecodeError\u001b[0m: 'cp949' codec can't decode byte 0xfe in position 1155: illegal multibyte sequence"
     ]
    }
   ],
   "source": [
    "AUTO_LABEL('../../data/123.csv','word-fobidden.json')"
   ]
  },
  {
   "cell_type": "code",
   "execution_count": null,
   "metadata": {},
   "outputs": [],
   "source": []
  }
 ],
 "metadata": {
  "kernelspec": {
   "display_name": "Python 3",
   "language": "python",
   "name": "python3"
  },
  "language_info": {
   "codemirror_mode": {
    "name": "ipython",
    "version": 3
   },
   "file_extension": ".py",
   "mimetype": "text/x-python",
   "name": "python",
   "nbconvert_exporter": "python",
   "pygments_lexer": "ipython3",
   "version": "3.7.3"
  }
 },
 "nbformat": 4,
 "nbformat_minor": 2
}
