{
 "cells": [
  {
   "cell_type": "code",
   "execution_count": 1,
   "metadata": {
    "ExecuteTime": {
     "end_time": "2019-08-21T02:54:16.671494Z",
     "start_time": "2019-08-21T02:54:04.341544Z"
    }
   },
   "outputs": [
    {
     "name": "stderr",
     "output_type": "stream",
     "text": [
      "Using TensorFlow backend.\n"
     ]
    },
    {
     "name": "stdout",
     "output_type": "stream",
     "text": [
      "Chan 2019-08-21 \n",
      "\n",
      "CPython 3.7.3\n",
      "IPython 7.6.1\n",
      "\n",
      "numpy 1.16.4\n",
      "pandas 0.24.2\n",
      "sklearn 0.21.2\n",
      "konlpy 0.5.1\n",
      "tensorflow 1.14.0\n",
      "matplotlib 3.1.0\n",
      "imblearn 0.5.0\n"
     ]
    }
   ],
   "source": [
    "%load_ext watermark\n",
    "%watermark -a Chan -d -v -p numpy,pandas,sklearn,konlpy,tensorflow,matplotlib,imblearn"
   ]
  },
  {
   "cell_type": "code",
   "execution_count": 2,
   "metadata": {
    "ExecuteTime": {
     "end_time": "2019-08-21T02:54:17.551990Z",
     "start_time": "2019-08-21T02:54:16.678492Z"
    }
   },
   "outputs": [],
   "source": [
    "import numpy as np\n",
    "import pandas as pd\n",
    "from sklearn.model_selection import train_test_split\n",
    "from konlpy.tag import Okt\n",
    "import tensorflow as tf\n",
    "from tensorflow.python.keras.preprocessing import sequence\n",
    "from tensorflow import keras\n",
    "from tqdm import tqdm\n",
    "from collections import Counter\n",
    "from matplotlib import pyplot as plt\n",
    "import pickle"
   ]
  },
  {
   "cell_type": "markdown",
   "metadata": {},
   "source": [
    "# Load datasets"
   ]
  },
  {
   "cell_type": "code",
   "execution_count": 3,
   "metadata": {
    "ExecuteTime": {
     "end_time": "2019-08-21T02:54:18.309558Z",
     "start_time": "2019-08-21T02:54:17.556989Z"
    }
   },
   "outputs": [
    {
     "data": {
      "text/html": [
       "<div>\n",
       "<style scoped>\n",
       "    .dataframe tbody tr th:only-of-type {\n",
       "        vertical-align: middle;\n",
       "    }\n",
       "\n",
       "    .dataframe tbody tr th {\n",
       "        vertical-align: top;\n",
       "    }\n",
       "\n",
       "    .dataframe thead th {\n",
       "        text-align: right;\n",
       "    }\n",
       "</style>\n",
       "<table border=\"1\" class=\"dataframe\">\n",
       "  <thead>\n",
       "    <tr style=\"text-align: right;\">\n",
       "      <th></th>\n",
       "      <th>Unnamed: 0</th>\n",
       "      <th>comment</th>\n",
       "      <th>url_id</th>\n",
       "      <th>label</th>\n",
       "    </tr>\n",
       "  </thead>\n",
       "  <tbody>\n",
       "    <tr>\n",
       "      <th>0</th>\n",
       "      <td>0</td>\n",
       "      <td>ㅜㅜ</td>\n",
       "      <td>77</td>\n",
       "      <td>0</td>\n",
       "    </tr>\n",
       "    <tr>\n",
       "      <th>1</th>\n",
       "      <td>1</td>\n",
       "      <td>ㅋㅋㅋㅋㅋㅋㅋㅋㅋㅋㅋㅋㅋㅋㅋㅋㅋㅋㅋㅋㅋ</td>\n",
       "      <td>17</td>\n",
       "      <td>0</td>\n",
       "    </tr>\n",
       "    <tr>\n",
       "      <th>2</th>\n",
       "      <td>2</td>\n",
       "      <td>헐</td>\n",
       "      <td>52</td>\n",
       "      <td>0</td>\n",
       "    </tr>\n",
       "    <tr>\n",
       "      <th>3</th>\n",
       "      <td>3</td>\n",
       "      <td>제시</td>\n",
       "      <td>75</td>\n",
       "      <td>0</td>\n",
       "    </tr>\n",
       "    <tr>\n",
       "      <th>4</th>\n",
       "      <td>4</td>\n",
       "      <td>이거인 듯</td>\n",
       "      <td>18</td>\n",
       "      <td>0</td>\n",
       "    </tr>\n",
       "  </tbody>\n",
       "</table>\n",
       "</div>"
      ],
      "text/plain": [
       "   Unnamed: 0                comment  url_id  label\n",
       "0           0                     ㅜㅜ      77      0\n",
       "1           1  ㅋㅋㅋㅋㅋㅋㅋㅋㅋㅋㅋㅋㅋㅋㅋㅋㅋㅋㅋㅋㅋ      17      0\n",
       "2           2                      헐      52      0\n",
       "3           3                     제시      75      0\n",
       "4           4                  이거인 듯      18      0"
      ]
     },
     "execution_count": 3,
     "metadata": {},
     "output_type": "execute_result"
    }
   ],
   "source": [
    "datasets = pd.read_csv('../../data/train.csv', engine='python', encoding='utf-16')\n",
    "datasets.head()"
   ]
  },
  {
   "cell_type": "code",
   "execution_count": 4,
   "metadata": {
    "ExecuteTime": {
     "end_time": "2019-08-21T02:54:18.363528Z",
     "start_time": "2019-08-21T02:54:18.314555Z"
    }
   },
   "outputs": [
    {
     "name": "stdout",
     "output_type": "stream",
     "text": [
      "<class 'pandas.core.frame.DataFrame'>\n",
      "RangeIndex: 42000 entries, 0 to 41999\n",
      "Data columns (total 4 columns):\n",
      "Unnamed: 0    42000 non-null int64\n",
      "comment       42000 non-null object\n",
      "url_id        42000 non-null int64\n",
      "label         42000 non-null int64\n",
      "dtypes: int64(3), object(1)\n",
      "memory usage: 1.3+ MB\n"
     ]
    }
   ],
   "source": [
    "datasets.info()"
   ]
  },
  {
   "cell_type": "code",
   "execution_count": 5,
   "metadata": {
    "ExecuteTime": {
     "end_time": "2019-08-21T02:54:24.825834Z",
     "start_time": "2019-08-21T02:54:24.697909Z"
    }
   },
   "outputs": [
    {
     "name": "stderr",
     "output_type": "stream",
     "text": [
      "100%|████████████████████████████████████████████████████████████████████████| 42000/42000 [00:00<00:00, 382044.61it/s]\n"
     ]
    },
    {
     "data": {
      "text/plain": [
       "[b'\\xe3\\x85\\x9c\\xe3\\x85\\x9c',\n",
       " b'\\xe3\\x85\\x8b\\xe3\\x85\\x8b\\xe3\\x85\\x8b\\xe3\\x85\\x8b\\xe3\\x85\\x8b\\xe3\\x85\\x8b\\xe3\\x85\\x8b\\xe3\\x85\\x8b\\xe3\\x85\\x8b\\xe3\\x85\\x8b\\xe3\\x85\\x8b\\xe3\\x85\\x8b\\xe3\\x85\\x8b\\xe3\\x85\\x8b\\xe3\\x85\\x8b\\xe3\\x85\\x8b\\xe3\\x85\\x8b\\xe3\\x85\\x8b\\xe3\\x85\\x8b\\xe3\\x85\\x8b\\xe3\\x85\\x8b',\n",
       " b'\\xed\\x97\\x90',\n",
       " b'\\xec\\xa0\\x9c\\xec\\x8b\\x9c',\n",
       " b'\\xec\\x9d\\xb4\\xea\\xb1\\xb0\\xec\\x9d\\xb8 \\xeb\\x93\\xaf']"
      ]
     },
     "execution_count": 5,
     "metadata": {},
     "output_type": "execute_result"
    }
   ],
   "source": [
    "morped =[_.encode('utf-8') for _ in tqdm(datasets.comment)]\n",
    "morped[:5]"
   ]
  },
  {
   "cell_type": "code",
   "execution_count": 6,
   "metadata": {
    "ExecuteTime": {
     "end_time": "2019-08-21T02:54:34.297417Z",
     "start_time": "2019-08-21T02:54:33.652786Z"
    }
   },
   "outputs": [
    {
     "data": {
      "text/plain": [
       "[['227', '133', '156', '227', '133', '156'],\n",
       " ['227',\n",
       "  '133',\n",
       "  '139',\n",
       "  '227',\n",
       "  '133',\n",
       "  '139',\n",
       "  '227',\n",
       "  '133',\n",
       "  '139',\n",
       "  '227',\n",
       "  '133',\n",
       "  '139',\n",
       "  '227',\n",
       "  '133',\n",
       "  '139',\n",
       "  '227',\n",
       "  '133',\n",
       "  '139',\n",
       "  '227',\n",
       "  '133',\n",
       "  '139',\n",
       "  '227',\n",
       "  '133',\n",
       "  '139',\n",
       "  '227',\n",
       "  '133',\n",
       "  '139',\n",
       "  '227',\n",
       "  '133',\n",
       "  '139',\n",
       "  '227',\n",
       "  '133',\n",
       "  '139',\n",
       "  '227',\n",
       "  '133',\n",
       "  '139',\n",
       "  '227',\n",
       "  '133',\n",
       "  '139',\n",
       "  '227',\n",
       "  '133',\n",
       "  '139',\n",
       "  '227',\n",
       "  '133',\n",
       "  '139',\n",
       "  '227',\n",
       "  '133',\n",
       "  '139',\n",
       "  '227',\n",
       "  '133',\n",
       "  '139',\n",
       "  '227',\n",
       "  '133',\n",
       "  '139',\n",
       "  '227',\n",
       "  '133',\n",
       "  '139',\n",
       "  '227',\n",
       "  '133',\n",
       "  '139',\n",
       "  '227',\n",
       "  '133',\n",
       "  '139'],\n",
       " ['237', '151', '144'],\n",
       " ['236', '160', '156', '236', '139', '156'],\n",
       " ['236',\n",
       "  '157',\n",
       "  '180',\n",
       "  '234',\n",
       "  '177',\n",
       "  '176',\n",
       "  '236',\n",
       "  '157',\n",
       "  '184',\n",
       "  '32',\n",
       "  '235',\n",
       "  '147',\n",
       "  '175']]"
      ]
     },
     "execution_count": 6,
     "metadata": {},
     "output_type": "execute_result"
    }
   ],
   "source": [
    "bytarr = []\n",
    "[bytarr.append([str(_) for _ in morped[i]]) for i in range(len(morped))]\n",
    "bytarr[:5]"
   ]
  },
  {
   "cell_type": "markdown",
   "metadata": {
    "ExecuteTime": {
     "end_time": "2019-08-06T15:38:19.687895Z",
     "start_time": "2019-08-06T15:38:19.677899Z"
    }
   },
   "source": [
    "# 형태소분석"
   ]
  },
  {
   "cell_type": "code",
   "execution_count": 7,
   "metadata": {
    "ExecuteTime": {
     "end_time": "2019-08-21T02:55:26.141775Z",
     "start_time": "2019-08-21T02:55:25.519131Z"
    }
   },
   "outputs": [
    {
     "name": "stdout",
     "output_type": "stream",
     "text": [
      "고빈도 단어:\n",
      "133 :  94992\n",
      "227 :  94926\n",
      "139 :  94675\n",
      "236 :  85378\n",
      "235 :  70509\n",
      "32 :  42738\n",
      "132 :  25626\n",
      "234 :  24976\n",
      "180 :  21650\n",
      "176 :  21395\n",
      "\n",
      "단어 사전:\n",
      "0 <PAD>\n",
      "1 <OOV>\n",
      "2 133\n",
      "3 227\n",
      "4 139\n",
      "5 236\n",
      "6 235\n",
      "7 32\n",
      "8 132\n",
      "9 234\n",
      "\n",
      "단어 사전 크기:  175\n"
     ]
    }
   ],
   "source": [
    "vocab_size = 30000\n",
    "\n",
    "pad_id = 0\n",
    "oov_id = 1\n",
    "index_offset = 1\n",
    "\n",
    "def make_vocab(sentences):\n",
    "    word_counter = Counter()\n",
    "\n",
    "    for sent in sentences:\n",
    "        word_counter.update(sent)\n",
    "\n",
    "    most_common = word_counter.most_common()\n",
    "    print(\"고빈도 단어:\")\n",
    "    for k, v in most_common[:10]:\n",
    "        print(k, \": \", v)\n",
    "\n",
    "    vocab = {\n",
    "    '<PAD>': pad_id,\n",
    "    '<OOV>': oov_id\n",
    "    }\n",
    "    for i, (word, cnt) in enumerate(most_common, start=index_offset+1):\n",
    "        vocab[str(word)] = i\n",
    "        if len(vocab) >= vocab_size:\n",
    "            break\n",
    "\n",
    "    return vocab\n",
    "\n",
    "word_index = make_vocab(bytarr)\n",
    "word_inverted_index = {v:k for k, v in word_index.items()}\n",
    "\n",
    "print(\"\\n단어 사전:\")\n",
    "for i in range(0, 10):\n",
    "    print(i, word_inverted_index[i])\n",
    "\n",
    "print(\"\\n단어 사전 크기: \", len(word_index))\n",
    "\n",
    "# # vocab save\n",
    "# with open('./vocab/vocab_index.pickle', 'wb') as f:\n",
    "#     pickle.dump(word_index, f, pickle.HIGHEST_PROTOCOL)\n",
    "# with open('./vocab/vocab_inverted_index.pickle', 'wb') as f:\n",
    "#     pickle.dump(word_inverted_index, f, pickle.HIGHEST_PROTOCOL)"
   ]
  },
  {
   "cell_type": "code",
   "execution_count": 8,
   "metadata": {
    "ExecuteTime": {
     "end_time": "2019-08-21T02:55:28.534407Z",
     "start_time": "2019-08-21T02:55:28.502424Z"
    }
   },
   "outputs": [
    {
     "name": "stdout",
     "output_type": "stream",
     "text": [
      "원본:  ['227', '133', '156', '227', '133', '156']\n",
      "문자 -> 숫자:  [3, 2, 19, 3, 2, 19]\n",
      "숫자 -> 문자:  227 133 156 227 133 156\n"
     ]
    }
   ],
   "source": [
    "def index_to_text(indexes):\n",
    "    return ' '.join([word_inverted_index[i] for i in indexes])\n",
    "\n",
    "def text_to_index(tokens):\n",
    "    indexes = []\n",
    "    for tok in tokens:\n",
    "        if tok in word_index:\n",
    "            indexes.append(word_index[tok])\n",
    "        else:\n",
    "            indexes.append(oov_id)\n",
    "\n",
    "    return indexes\n",
    "\n",
    "print(\"원본: \", bytarr[0])\n",
    "ids = text_to_index(bytarr[0])\n",
    "print(\"문자 -> 숫자: \", ids)\n",
    "print(\"숫자 -> 문자: \", index_to_text(ids))"
   ]
  },
  {
   "cell_type": "code",
   "execution_count": 12,
   "metadata": {
    "ExecuteTime": {
     "end_time": "2019-08-20T11:01:16.573589Z",
     "start_time": "2019-08-20T11:01:15.818973Z"
    }
   },
   "outputs": [],
   "source": [
    "x_variable = [text_to_index(_) for _ in bytarr]\n",
    "\n",
    "sentence_size = 50\n",
    "x_padded = sequence.pad_sequences(x_variable,\n",
    "                                 maxlen=sentence_size,\n",
    "                                 truncating='post',\n",
    "                                 padding='post',\n",
    "                                 value=pad_id)"
   ]
  },
  {
   "cell_type": "code",
   "execution_count": 13,
   "metadata": {
    "ExecuteTime": {
     "end_time": "2019-08-20T11:01:16.589533Z",
     "start_time": "2019-08-20T11:01:16.577537Z"
    }
   },
   "outputs": [],
   "source": [
    "def plot_loss(history):\n",
    "    plt.figure(figsize=(6,5))\n",
    "    val = plt.plot(history.epoch, history.history['val_loss'],\n",
    "                 '--', label='Test')\n",
    "    plt.plot(history.epoch, history.history['loss'], color=val[0].get_color(),\n",
    "           label='Train')\n",
    "\n",
    "    plt.xlabel('Epochs')\n",
    "    plt.ylabel(\"Loss\")\n",
    "    plt.legend()\n",
    "\n",
    "    plt.xlim([0,max(history.epoch)])"
   ]
  },
  {
   "cell_type": "code",
   "execution_count": 14,
   "metadata": {
    "ExecuteTime": {
     "end_time": "2019-08-20T11:01:16.622516Z",
     "start_time": "2019-08-20T11:01:16.595528Z"
    }
   },
   "outputs": [],
   "source": [
    "import warnings\n",
    "warnings.filterwarnings(action='once')"
   ]
  },
  {
   "cell_type": "markdown",
   "metadata": {},
   "source": [
    "\n",
    "# 데이터 클래스 불균형 문제 해결하자"
   ]
  },
  {
   "cell_type": "code",
   "execution_count": 15,
   "metadata": {
    "ExecuteTime": {
     "end_time": "2019-08-20T11:01:16.663488Z",
     "start_time": "2019-08-20T11:01:16.628516Z"
    }
   },
   "outputs": [],
   "source": [
    "X_train, X_test, y_train, y_test = train_test_split(x_padded, datasets.label)"
   ]
  },
  {
   "cell_type": "code",
   "execution_count": 16,
   "metadata": {
    "ExecuteTime": {
     "end_time": "2019-08-20T11:01:16.678483Z",
     "start_time": "2019-08-20T11:01:16.667488Z"
    }
   },
   "outputs": [],
   "source": [
    "from imblearn.under_sampling import RandomUnderSampler\n",
    "from imblearn.over_sampling import RandomOverSampler,SMOTE"
   ]
  },
  {
   "cell_type": "code",
   "execution_count": 17,
   "metadata": {
    "ExecuteTime": {
     "end_time": "2019-08-20T11:01:16.746442Z",
     "start_time": "2019-08-20T11:01:16.684479Z"
    }
   },
   "outputs": [
    {
     "data": {
      "text/plain": [
       "(59934, 29967)"
      ]
     },
     "execution_count": 17,
     "metadata": {},
     "output_type": "execute_result"
    }
   ],
   "source": [
    "up_X, up_y = RandomOverSampler().fit_resample(X_train, y_train)\n",
    "\n",
    "# 총 데이터 수 , 1 레이블 데이터 수\n",
    "len(up_y), up_y.sum()"
   ]
  },
  {
   "cell_type": "code",
   "execution_count": 18,
   "metadata": {
    "ExecuteTime": {
     "end_time": "2019-08-20T11:01:30.714438Z",
     "start_time": "2019-08-20T11:01:29.666040Z"
    }
   },
   "outputs": [
    {
     "name": "stderr",
     "output_type": "stream",
     "text": [
      "WARNING: Logging before flag parsing goes to stderr.\n",
      "W0821 01:06:58.020705 25136 deprecation.py:506] From C:\\Users\\KimJJ\\Anaconda3\\lib\\site-packages\\tensorflow\\python\\keras\\initializers.py:119: calling RandomUniform.__init__ (from tensorflow.python.ops.init_ops) with dtype is deprecated and will be removed in a future version.\n",
      "Instructions for updating:\n",
      "Call initializer instance with the dtype argument instead of passing it to the constructor\n",
      "W0821 01:06:58.024722 25136 deprecation.py:506] From C:\\Users\\KimJJ\\Anaconda3\\lib\\site-packages\\tensorflow\\python\\ops\\init_ops.py:1251: calling VarianceScaling.__init__ (from tensorflow.python.ops.init_ops) with dtype is deprecated and will be removed in a future version.\n",
      "Instructions for updating:\n",
      "Call initializer instance with the dtype argument instead of passing it to the constructor\n",
      "C:\\Users\\KimJJ\\Anaconda3\\lib\\site-packages\\tensorflow\\python\\ops\\nn_ops.py:61: DeprecationWarning: Using or importing the ABCs from 'collections' instead of from 'collections.abc' is deprecated, and in 3.8 it will stop working\n",
      "  elif not isinstance(value, collections.Sized):\n"
     ]
    }
   ],
   "source": [
    "model_up = keras.Sequential([\n",
    "    keras.layers.Embedding(30000, 10),\n",
    "    keras.layers.Conv1D(64, 4, padding=\"same\", activation=tf.nn.relu),\n",
    "    keras.layers.Dropout(0.5),\n",
    "    keras.layers.Conv1D(32, 2, padding=\"same\", activation=tf.nn.relu),\n",
    "    keras.layers.Dropout(0.5),\n",
    "    keras.layers.Conv1D(32, 2, padding=\"same\", activation=tf.nn.relu),\n",
    "    keras.layers.Dropout(0.5),\n",
    "    keras.layers.Conv1D(32, 2, padding=\"same\", activation=tf.nn.relu),\n",
    "    keras.layers.Dropout(0.5),\n",
    "    keras.layers.Conv1D(32, 2, padding=\"same\", activation=tf.nn.relu),\n",
    "    keras.layers.Dropout(0.5),\n",
    "    keras.layers.Conv1D(32, 2, padding=\"same\", activation=tf.nn.relu),\n",
    "    keras.layers.Dropout(0.5),\n",
    "    keras.layers.Conv1D(32, 2, padding=\"same\", activation=tf.nn.relu),\n",
    "    keras.layers.GlobalMaxPool1D(),\n",
    "    keras.layers.Dropout(0.5),\n",
    "    keras.layers.Dense(2, activation=tf.nn.sigmoid)\n",
    "])"
   ]
  },
  {
   "cell_type": "code",
   "execution_count": 19,
   "metadata": {
    "ExecuteTime": {
     "end_time": "2019-08-20T11:07:04.054753Z",
     "start_time": "2019-08-20T11:01:38.022252Z"
    }
   },
   "outputs": [
    {
     "name": "stderr",
     "output_type": "stream",
     "text": [
      "W0821 01:07:04.439725 25136 deprecation.py:323] From C:\\Users\\KimJJ\\Anaconda3\\lib\\site-packages\\tensorflow\\python\\ops\\nn_impl.py:180: add_dispatch_support.<locals>.wrapper (from tensorflow.python.ops.array_ops) is deprecated and will be removed in a future version.\n",
      "Instructions for updating:\n",
      "Use tf.where in 2.0, which has the same broadcast rule as np.where\n"
     ]
    },
    {
     "name": "stdout",
     "output_type": "stream",
     "text": [
      "Train on 59934 samples, validate on 10500 samples\n",
      "Epoch 1/5\n"
     ]
    },
    {
     "name": "stdout",
     "output_type": "stream",
     "text": [
      "16832/59934 [=======>......................] - ETA: 14:21 - loss: 0.6927 - recall: 0.718 - ETA: 4:05 - loss: 0.6931 - recall: 0.625 - ETA: 2:37 - loss: 0.6929 - recall: 0.59 - ETA: 2:02 - loss: 0.6934 - recall: 0.59 - ETA: 1:43 - loss: 0.6932 - recall: 0.59 - ETA: 1:36 - loss: 0.6934 - recall: 0.58 - ETA: 1:27 - loss: 0.6932 - recall: 0.57 - ETA: 1:20 - loss: 0.6937 - recall: 0.55 - ETA: 1:15 - loss: 0.6935 - recall: 0.54 - ETA: 1:11 - loss: 0.6934 - recall: 0.54 - ETA: 1:08 - loss: 0.6936 - recall: 0.53 - ETA: 1:06 - loss: 0.6930 - recall: 0.54 - ETA: 1:05 - loss: 0.6932 - recall: 0.53 - ETA: 1:05 - loss: 0.6930 - recall: 0.53 - ETA: 1:04 - loss: 0.6929 - recall: 0.53 - ETA: 1:03 - loss: 0.6928 - recall: 0.53 - ETA: 1:02 - loss: 0.6929 - recall: 0.53 - ETA: 1:01 - loss: 0.6936 - recall: 0.53 - ETA: 59s - loss: 0.6940 - recall: 0.5267 - ETA: 58s - loss: 0.6938 - recall: 0.526 - ETA: 57s - loss: 0.6937 - recall: 0.528 - ETA: 57s - loss: 0.6937 - recall: 0.526 - ETA: 56s - loss: 0.6937 - recall: 0.529 - ETA: 55s - loss: 0.6937 - recall: 0.527 - ETA: 54s - loss: 0.6935 - recall: 0.529 - ETA: 53s - loss: 0.6934 - recall: 0.529 - ETA: 53s - loss: 0.6935 - recall: 0.528 - ETA: 52s - loss: 0.6936 - recall: 0.527 - ETA: 51s - loss: 0.6936 - recall: 0.526 - ETA: 51s - loss: 0.6937 - recall: 0.523 - ETA: 50s - loss: 0.6936 - recall: 0.526 - ETA: 49s - loss: 0.6936 - recall: 0.524 - ETA: 49s - loss: 0.6936 - recall: 0.523 - ETA: 49s - loss: 0.6936 - recall: 0.523 - ETA: 48s - loss: 0.6937 - recall: 0.518 - ETA: 48s - loss: 0.6937 - recall: 0.516 - ETA: 48s - loss: 0.6937 - recall: 0.513 - ETA: 48s - loss: 0.6937 - recall: 0.510 - ETA: 47s - loss: 0.6939 - recall: 0.506 - ETA: 47s - loss: 0.6939 - recall: 0.503 - ETA: 46s - loss: 0.6939 - recall: 0.500 - ETA: 46s - loss: 0.6939 - recall: 0.498 - ETA: 46s - loss: 0.6939 - recall: 0.495 - ETA: 45s - loss: 0.6939 - recall: 0.493 - ETA: 45s - loss: 0.6939 - recall: 0.491 - ETA: 45s - loss: 0.6939 - recall: 0.490 - ETA: 45s - loss: 0.6939 - recall: 0.490 - ETA: 44s - loss: 0.6939 - recall: 0.487 - ETA: 44s - loss: 0.6939 - recall: 0.483 - ETA: 44s - loss: 0.6939 - recall: 0.480 - ETA: 43s - loss: 0.6938 - recall: 0.479 - ETA: 43s - loss: 0.6938 - recall: 0.475 - ETA: 43s - loss: 0.6938 - recall: 0.471 - ETA: 43s - loss: 0.6938 - recall: 0.468 - ETA: 42s - loss: 0.6938 - recall: 0.466 - ETA: 42s - loss: 0.6938 - recall: 0.462 - ETA: 42s - loss: 0.6938 - recall: 0.458 - ETA: 42s - loss: 0.6938 - recall: 0.454 - ETA: 42s - loss: 0.6938 - recall: 0.452 - ETA: 42s - loss: 0.6938 - recall: 0.450 - ETA: 41s - loss: 0.6937 - recall: 0.448 - ETA: 41s - loss: 0.6937 - recall: 0.448 - ETA: 41s - loss: 0.6937 - recall: 0.446 - ETA: 41s - loss: 0.6937 - recall: 0.444 - ETA: 41s - loss: 0.6937 - recall: 0.444 - ETA: 41s - loss: 0.6937 - recall: 0.442 - ETA: 41s - loss: 0.6937 - recall: 0.442 - ETA: 40s - loss: 0.6937 - recall: 0.440 - ETA: 40s - loss: 0.6937 - recall: 0.440 - ETA: 40s - loss: 0.6937 - recall: 0.441 - ETA: 40s - loss: 0.6937 - recall: 0.441 - ETA: 40s - loss: 0.6936 - recall: 0.441 - ETA: 40s - loss: 0.6936 - recall: 0.441 - ETA: 40s - loss: 0.6936 - recall: 0.440 - ETA: 39s - loss: 0.6936 - recall: 0.441 - ETA: 39s - loss: 0.6936 - recall: 0.443 - ETA: 39s - loss: 0.6936 - recall: 0.443 - ETA: 39s - loss: 0.6936 - recall: 0.444 - ETA: 39s - loss: 0.6936 - recall: 0.446 - ETA: 39s - loss: 0.6936 - recall: 0.448 - ETA: 38s - loss: 0.6936 - recall: 0.449 - ETA: 38s - loss: 0.6936 - recall: 0.451 - ETA: 38s - loss: 0.6936 - recall: 0.453 - ETA: 38s - loss: 0.6935 - recall: 0.454 - ETA: 38s - loss: 0.6936 - recall: 0.455 - ETA: 38s - loss: 0.6935 - recall: 0.455 - ETA: 38s - loss: 0.6935 - recall: 0.454 - ETA: 38s - loss: 0.6935 - recall: 0.455 - ETA: 38s - loss: 0.6935 - recall: 0.454 - ETA: 38s - loss: 0.6935 - recall: 0.454 - ETA: 38s - loss: 0.6935 - recall: 0.454 - ETA: 38s - loss: 0.6935 - recall: 0.454 - ETA: 38s - loss: 0.6935 - recall: 0.453 - ETA: 38s - loss: 0.6935 - recall: 0.453 - ETA: 38s - loss: 0.6935 - recall: 0.452 - ETA: 38s - loss: 0.6935 - recall: 0.452 - ETA: 38s - loss: 0.6935 - recall: 0.451 - ETA: 38s - loss: 0.6934 - recall: 0.451 - ETA: 37s - loss: 0.6934 - recall: 0.451 - ETA: 37s - loss: 0.6934 - recall: 0.451 - ETA: 37s - loss: 0.6934 - recall: 0.452 - ETA: 37s - loss: 0.6934 - recall: 0.453 - ETA: 37s - loss: 0.6933 - recall: 0.452 - ETA: 37s - loss: 0.6933 - recall: 0.453 - ETA: 37s - loss: 0.6933 - recall: 0.453 - ETA: 37s - loss: 0.6933 - recall: 0.454 - ETA: 37s - loss: 0.6933 - recall: 0.455 - ETA: 37s - loss: 0.6932 - recall: 0.456 - ETA: 37s - loss: 0.6932 - recall: 0.457 - ETA: 37s - loss: 0.6931 - recall: 0.458 - ETA: 37s - loss: 0.6932 - recall: 0.458 - ETA: 37s - loss: 0.6932 - recall: 0.459 - ETA: 36s - loss: 0.6932 - recall: 0.459 - ETA: 36s - loss: 0.6931 - recall: 0.460 - ETA: 36s - loss: 0.6931 - recall: 0.462 - ETA: 36s - loss: 0.6931 - recall: 0.462 - ETA: 36s - loss: 0.6931 - recall: 0.462 - ETA: 36s - loss: 0.6931 - recall: 0.462 - ETA: 36s - loss: 0.6930 - recall: 0.463 - ETA: 36s - loss: 0.6931 - recall: 0.463 - ETA: 36s - loss: 0.6931 - recall: 0.463 - ETA: 36s - loss: 0.6931 - recall: 0.463 - ETA: 36s - loss: 0.6931 - recall: 0.463 - ETA: 36s - loss: 0.6931 - recall: 0.463 - ETA: 36s - loss: 0.6930 - recall: 0.463 - ETA: 36s - loss: 0.6931 - recall: 0.463 - ETA: 36s - loss: 0.6931 - recall: 0.462 - ETA: 36s - loss: 0.6931 - recall: 0.462 - ETA: 36s - loss: 0.6931 - recall: 0.462 - ETA: 36s - loss: 0.6931 - recall: 0.462 - ETA: 36s - loss: 0.6931 - recall: 0.462 - ETA: 35s - loss: 0.6931 - recall: 0.463 - ETA: 35s - loss: 0.6930 - recall: 0.463 - ETA: 35s - loss: 0.6930 - recall: 0.463 - ETA: 35s - loss: 0.6930 - recall: 0.463 - ETA: 35s - loss: 0.6930 - recall: 0.463 - ETA: 35s - loss: 0.6930 - recall: 0.464 - ETA: 35s - loss: 0.6930 - recall: 0.464 - ETA: 35s - loss: 0.6930 - recall: 0.465 - ETA: 35s - loss: 0.6930 - recall: 0.465 - ETA: 35s - loss: 0.6930 - recall: 0.465 - ETA: 35s - loss: 0.6930 - recall: 0.465 - ETA: 35s - loss: 0.6930 - recall: 0.465 - ETA: 35s - loss: 0.6930 - recall: 0.466 - ETA: 35s - loss: 0.6929 - recall: 0.466 - ETA: 35s - loss: 0.6928 - recall: 0.467 - ETA: 35s - loss: 0.6929 - recall: 0.467 - ETA: 34s - loss: 0.6928 - recall: 0.467 - ETA: 34s - loss: 0.6928 - recall: 0.467 - ETA: 34s - loss: 0.6927 - recall: 0.468 - ETA: 34s - loss: 0.6929 - recall: 0.468 - ETA: 34s - loss: 0.6929 - recall: 0.468 - ETA: 34s - loss: 0.6928 - recall: 0.469 - ETA: 34s - loss: 0.6928 - recall: 0.469 - ETA: 34s - loss: 0.6927 - recall: 0.470 - ETA: 34s - loss: 0.6927 - recall: 0.470 - ETA: 34s - loss: 0.6926 - recall: 0.471 - ETA: 34s - loss: 0.6927 - recall: 0.471 - ETA: 34s - loss: 0.6926 - recall: 0.472 - ETA: 33s - loss: 0.6925 - recall: 0.472 - ETA: 33s - loss: 0.6924 - recall: 0.473 - ETA: 33s - loss: 0.6923 - recall: 0.473 - ETA: 33s - loss: 0.6923 - recall: 0.474 - ETA: 33s - loss: 0.6923 - recall: 0.474 - ETA: 33s - loss: 0.6925 - recall: 0.474 - ETA: 33s - loss: 0.6924 - recall: 0.475 - ETA: 33s - loss: 0.6924 - recall: 0.475 - ETA: 33s - loss: 0.6924 - recall: 0.476 - ETA: 33s - loss: 0.6924 - recall: 0.476 - ETA: 33s - loss: 0.6924 - recall: 0.476 - ETA: 33s - loss: 0.6924 - recall: 0.476 - ETA: 33s - loss: 0.6924 - recall: 0.477 - ETA: 33s - loss: 0.6923 - recall: 0.477 - ETA: 33s - loss: 0.6923 - recall: 0.477 - ETA: 32s - loss: 0.6922 - recall: 0.478 - ETA: 32s - loss: 0.6922 - recall: 0.479 - ETA: 32s - loss: 0.6922 - recall: 0.479 - ETA: 32s - loss: 0.6921 - recall: 0.480 - ETA: 32s - loss: 0.6921 - recall: 0.481 - ETA: 32s - loss: 0.6921 - recall: 0.480 - ETA: 32s - loss: 0.6920 - recall: 0.481 - ETA: 32s - loss: 0.6919 - recall: 0.481 - ETA: 32s - loss: 0.6919 - recall: 0.481 - ETA: 32s - loss: 0.6919 - recall: 0.481 - ETA: 32s - loss: 0.6918 - recall: 0.482 - ETA: 31s - loss: 0.6917 - recall: 0.483 - ETA: 31s - loss: 0.6917 - recall: 0.483 - ETA: 31s - loss: 0.6918 - recall: 0.483 - ETA: 31s - loss: 0.6917 - recall: 0.484 - ETA: 31s - loss: 0.6917 - recall: 0.484 - ETA: 31s - loss: 0.6916 - recall: 0.485 - ETA: 31s - loss: 0.6916 - recall: 0.484 - ETA: 31s - loss: 0.6916 - recall: 0.48534784/59934 [================>.............] - ETA: 31s - loss: 0.6917 - recall: 0.485 - ETA: 31s - loss: 0.6917 - recall: 0.485 - ETA: 30s - loss: 0.6916 - recall: 0.485 - ETA: 30s - loss: 0.6916 - recall: 0.485 - ETA: 30s - loss: 0.6916 - recall: 0.486 - ETA: 30s - loss: 0.6916 - recall: 0.486 - ETA: 30s - loss: 0.6916 - recall: 0.486 - ETA: 30s - loss: 0.6916 - recall: 0.487 - ETA: 30s - loss: 0.6915 - recall: 0.487 - ETA: 30s - loss: 0.6915 - recall: 0.487 - ETA: 30s - loss: 0.6915 - recall: 0.488 - ETA: 30s - loss: 0.6915 - recall: 0.488 - ETA: 30s - loss: 0.6914 - recall: 0.489 - ETA: 29s - loss: 0.6914 - recall: 0.489 - ETA: 29s - loss: 0.6915 - recall: 0.489 - ETA: 29s - loss: 0.6914 - recall: 0.489 - ETA: 29s - loss: 0.6913 - recall: 0.490 - ETA: 29s - loss: 0.6913 - recall: 0.490 - ETA: 29s - loss: 0.6913 - recall: 0.490 - ETA: 29s - loss: 0.6914 - recall: 0.490 - ETA: 29s - loss: 0.6913 - recall: 0.491 - ETA: 29s - loss: 0.6912 - recall: 0.491 - ETA: 29s - loss: 0.6911 - recall: 0.492 - ETA: 29s - loss: 0.6909 - recall: 0.492 - ETA: 29s - loss: 0.6908 - recall: 0.493 - ETA: 28s - loss: 0.6908 - recall: 0.493 - ETA: 28s - loss: 0.6909 - recall: 0.494 - ETA: 28s - loss: 0.6906 - recall: 0.495 - ETA: 28s - loss: 0.6907 - recall: 0.495 - ETA: 28s - loss: 0.6907 - recall: 0.495 - ETA: 28s - loss: 0.6908 - recall: 0.495 - ETA: 28s - loss: 0.6908 - recall: 0.495 - ETA: 28s - loss: 0.6908 - recall: 0.495 - ETA: 28s - loss: 0.6907 - recall: 0.496 - ETA: 28s - loss: 0.6907 - recall: 0.496 - ETA: 28s - loss: 0.6908 - recall: 0.496 - ETA: 28s - loss: 0.6907 - recall: 0.496 - ETA: 28s - loss: 0.6908 - recall: 0.496 - ETA: 28s - loss: 0.6908 - recall: 0.496 - ETA: 28s - loss: 0.6908 - recall: 0.496 - ETA: 27s - loss: 0.6908 - recall: 0.496 - ETA: 27s - loss: 0.6908 - recall: 0.497 - ETA: 27s - loss: 0.6907 - recall: 0.497 - ETA: 27s - loss: 0.6907 - recall: 0.497 - ETA: 27s - loss: 0.6907 - recall: 0.498 - ETA: 27s - loss: 0.6907 - recall: 0.498 - ETA: 27s - loss: 0.6905 - recall: 0.498 - ETA: 27s - loss: 0.6906 - recall: 0.498 - ETA: 27s - loss: 0.6906 - recall: 0.499 - ETA: 27s - loss: 0.6906 - recall: 0.499 - ETA: 27s - loss: 0.6905 - recall: 0.499 - ETA: 27s - loss: 0.6906 - recall: 0.499 - ETA: 26s - loss: 0.6905 - recall: 0.500 - ETA: 26s - loss: 0.6905 - recall: 0.500 - ETA: 26s - loss: 0.6905 - recall: 0.500 - ETA: 26s - loss: 0.6905 - recall: 0.500 - ETA: 26s - loss: 0.6904 - recall: 0.500 - ETA: 26s - loss: 0.6904 - recall: 0.501 - ETA: 26s - loss: 0.6903 - recall: 0.501 - ETA: 26s - loss: 0.6903 - recall: 0.501 - ETA: 26s - loss: 0.6903 - recall: 0.501 - ETA: 26s - loss: 0.6903 - recall: 0.502 - ETA: 26s - loss: 0.6902 - recall: 0.502 - ETA: 26s - loss: 0.6903 - recall: 0.502 - ETA: 25s - loss: 0.6901 - recall: 0.502 - ETA: 25s - loss: 0.6900 - recall: 0.503 - ETA: 25s - loss: 0.6899 - recall: 0.504 - ETA: 25s - loss: 0.6899 - recall: 0.505 - ETA: 25s - loss: 0.6900 - recall: 0.505 - ETA: 25s - loss: 0.6900 - recall: 0.505 - ETA: 25s - loss: 0.6900 - recall: 0.505 - ETA: 25s - loss: 0.6900 - recall: 0.505 - ETA: 25s - loss: 0.6900 - recall: 0.505 - ETA: 25s - loss: 0.6900 - recall: 0.505 - ETA: 25s - loss: 0.6900 - recall: 0.506 - ETA: 25s - loss: 0.6899 - recall: 0.506 - ETA: 25s - loss: 0.6899 - recall: 0.506 - ETA: 24s - loss: 0.6899 - recall: 0.506 - ETA: 24s - loss: 0.6898 - recall: 0.507 - ETA: 24s - loss: 0.6898 - recall: 0.507 - ETA: 24s - loss: 0.6898 - recall: 0.507 - ETA: 24s - loss: 0.6897 - recall: 0.508 - ETA: 24s - loss: 0.6896 - recall: 0.508 - ETA: 24s - loss: 0.6895 - recall: 0.508 - ETA: 24s - loss: 0.6896 - recall: 0.509 - ETA: 24s - loss: 0.6894 - recall: 0.509 - ETA: 24s - loss: 0.6893 - recall: 0.509 - ETA: 24s - loss: 0.6892 - recall: 0.510 - ETA: 24s - loss: 0.6892 - recall: 0.510 - ETA: 24s - loss: 0.6891 - recall: 0.510 - ETA: 24s - loss: 0.6891 - recall: 0.510 - ETA: 23s - loss: 0.6890 - recall: 0.511 - ETA: 23s - loss: 0.6891 - recall: 0.511 - ETA: 23s - loss: 0.6890 - recall: 0.511 - ETA: 23s - loss: 0.6889 - recall: 0.511 - ETA: 23s - loss: 0.6889 - recall: 0.512 - ETA: 23s - loss: 0.6888 - recall: 0.512 - ETA: 23s - loss: 0.6888 - recall: 0.512 - ETA: 23s - loss: 0.6888 - recall: 0.512 - ETA: 23s - loss: 0.6886 - recall: 0.513 - ETA: 23s - loss: 0.6886 - recall: 0.513 - ETA: 23s - loss: 0.6886 - recall: 0.513 - ETA: 23s - loss: 0.6884 - recall: 0.513 - ETA: 23s - loss: 0.6883 - recall: 0.514 - ETA: 22s - loss: 0.6883 - recall: 0.514 - ETA: 22s - loss: 0.6884 - recall: 0.514 - ETA: 22s - loss: 0.6883 - recall: 0.514 - ETA: 22s - loss: 0.6883 - recall: 0.514 - ETA: 22s - loss: 0.6883 - recall: 0.515 - ETA: 22s - loss: 0.6884 - recall: 0.515 - ETA: 22s - loss: 0.6884 - recall: 0.514 - ETA: 22s - loss: 0.6883 - recall: 0.515 - ETA: 22s - loss: 0.6883 - recall: 0.515 - ETA: 22s - loss: 0.6883 - recall: 0.515 - ETA: 22s - loss: 0.6883 - recall: 0.516 - ETA: 22s - loss: 0.6883 - recall: 0.516 - ETA: 22s - loss: 0.6883 - recall: 0.515 - ETA: 22s - loss: 0.6883 - recall: 0.515 - ETA: 21s - loss: 0.6883 - recall: 0.515 - ETA: 21s - loss: 0.6883 - recall: 0.516 - ETA: 21s - loss: 0.6883 - recall: 0.516 - ETA: 21s - loss: 0.6883 - recall: 0.516 - ETA: 21s - loss: 0.6882 - recall: 0.516 - ETA: 21s - loss: 0.6882 - recall: 0.516 - ETA: 21s - loss: 0.6882 - recall: 0.516 - ETA: 21s - loss: 0.6881 - recall: 0.516 - ETA: 21s - loss: 0.6880 - recall: 0.517 - ETA: 21s - loss: 0.6880 - recall: 0.517 - ETA: 21s - loss: 0.6880 - recall: 0.516 - ETA: 21s - loss: 0.6880 - recall: 0.517 - ETA: 21s - loss: 0.6880 - recall: 0.517 - ETA: 20s - loss: 0.6879 - recall: 0.517 - ETA: 20s - loss: 0.6879 - recall: 0.517 - ETA: 20s - loss: 0.6879 - recall: 0.517 - ETA: 20s - loss: 0.6880 - recall: 0.517 - ETA: 20s - loss: 0.6879 - recall: 0.517 - ETA: 20s - loss: 0.6879 - recall: 0.517 - ETA: 20s - loss: 0.6878 - recall: 0.517 - ETA: 20s - loss: 0.6879 - recall: 0.517 - ETA: 20s - loss: 0.6878 - recall: 0.518 - ETA: 20s - loss: 0.6877 - recall: 0.518 - ETA: 20s - loss: 0.6877 - recall: 0.519 - ETA: 20s - loss: 0.6876 - recall: 0.519 - ETA: 20s - loss: 0.6876 - recall: 0.519 - ETA: 20s - loss: 0.6874 - recall: 0.519 - ETA: 20s - loss: 0.6873 - recall: 0.519 - ETA: 20s - loss: 0.6872 - recall: 0.520 - ETA: 20s - loss: 0.6871 - recall: 0.520 - ETA: 19s - loss: 0.6872 - recall: 0.520 - ETA: 19s - loss: 0.6872 - recall: 0.520 - ETA: 19s - loss: 0.6873 - recall: 0.520 - ETA: 19s - loss: 0.6872 - recall: 0.521 - ETA: 19s - loss: 0.6872 - recall: 0.521 - ETA: 19s - loss: 0.6871 - recall: 0.521 - ETA: 19s - loss: 0.6871 - recall: 0.521 - ETA: 19s - loss: 0.6872 - recall: 0.521 - ETA: 19s - loss: 0.6872 - recall: 0.521 - ETA: 19s - loss: 0.6872 - recall: 0.521 - ETA: 19s - loss: 0.6872 - recall: 0.521 - ETA: 19s - loss: 0.6872 - recall: 0.521 - ETA: 19s - loss: 0.6872 - recall: 0.521 - ETA: 19s - loss: 0.6872 - recall: 0.522 - ETA: 19s - loss: 0.6872 - recall: 0.522 - ETA: 18s - loss: 0.6871 - recall: 0.522 - ETA: 18s - loss: 0.6870 - recall: 0.522 - ETA: 18s - loss: 0.6871 - recall: 0.522 - ETA: 18s - loss: 0.6870 - recall: 0.522 - ETA: 18s - loss: 0.6870 - recall: 0.522 - ETA: 18s - loss: 0.6870 - recall: 0.523 - ETA: 18s - loss: 0.6870 - recall: 0.522 - ETA: 18s - loss: 0.6869 - recall: 0.522 - ETA: 18s - loss: 0.6869 - recall: 0.522 - ETA: 18s - loss: 0.6869 - recall: 0.522 - ETA: 18s - loss: 0.6869 - recall: 0.522 - ETA: 18s - loss: 0.6869 - recall: 0.522 - ETA: 18s - loss: 0.6868 - recall: 0.522 - ETA: 18s - loss: 0.6868 - recall: 0.523 - ETA: 18s - loss: 0.6868 - recall: 0.523 - ETA: 18s - loss: 0.6868 - recall: 0.523 - ETA: 18s - loss: 0.6867 - recall: 0.523 - ETA: 18s - loss: 0.6867 - recall: 0.523 - ETA: 17s - loss: 0.6867 - recall: 0.523 - ETA: 17s - loss: 0.6866 - recall: 0.523 - ETA: 17s - loss: 0.6865 - recall: 0.523 - ETA: 17s - loss: 0.6865 - recall: 0.523 - ETA: 17s - loss: 0.6865 - recall: 0.523 - ETA: 17s - loss: 0.6866 - recall: 0.524 - ETA: 17s - loss: 0.6865 - recall: 0.524 - ETA: 17s - loss: 0.6865 - recall: 0.524 - ETA: 17s - loss: 0.6865 - recall: 0.524 - ETA: 17s - loss: 0.6865 - recall: 0.524 - ETA: 17s - loss: 0.6866 - recall: 0.524 - ETA: 17s - loss: 0.6865 - recall: 0.524 - ETA: 17s - loss: 0.6865 - recall: 0.5245"
     ]
    },
    {
     "name": "stdout",
     "output_type": "stream",
     "text": [
      "53568/59934 [=========================>....] - ETA: 17s - loss: 0.6864 - recall: 0.524 - ETA: 17s - loss: 0.6864 - recall: 0.524 - ETA: 17s - loss: 0.6864 - recall: 0.525 - ETA: 17s - loss: 0.6863 - recall: 0.525 - ETA: 16s - loss: 0.6863 - recall: 0.525 - ETA: 16s - loss: 0.6864 - recall: 0.525 - ETA: 16s - loss: 0.6864 - recall: 0.525 - ETA: 16s - loss: 0.6864 - recall: 0.525 - ETA: 16s - loss: 0.6863 - recall: 0.525 - ETA: 16s - loss: 0.6863 - recall: 0.525 - ETA: 16s - loss: 0.6862 - recall: 0.525 - ETA: 16s - loss: 0.6862 - recall: 0.526 - ETA: 16s - loss: 0.6861 - recall: 0.526 - ETA: 16s - loss: 0.6862 - recall: 0.526 - ETA: 16s - loss: 0.6862 - recall: 0.526 - ETA: 16s - loss: 0.6862 - recall: 0.526 - ETA: 16s - loss: 0.6862 - recall: 0.526 - ETA: 16s - loss: 0.6862 - recall: 0.526 - ETA: 16s - loss: 0.6862 - recall: 0.526 - ETA: 16s - loss: 0.6862 - recall: 0.527 - ETA: 15s - loss: 0.6862 - recall: 0.526 - ETA: 15s - loss: 0.6862 - recall: 0.526 - ETA: 15s - loss: 0.6862 - recall: 0.526 - ETA: 15s - loss: 0.6862 - recall: 0.527 - ETA: 15s - loss: 0.6862 - recall: 0.527 - ETA: 15s - loss: 0.6861 - recall: 0.527 - ETA: 15s - loss: 0.6861 - recall: 0.527 - ETA: 15s - loss: 0.6860 - recall: 0.527 - ETA: 15s - loss: 0.6860 - recall: 0.527 - ETA: 15s - loss: 0.6860 - recall: 0.527 - ETA: 15s - loss: 0.6860 - recall: 0.527 - ETA: 15s - loss: 0.6859 - recall: 0.527 - ETA: 15s - loss: 0.6858 - recall: 0.527 - ETA: 15s - loss: 0.6859 - recall: 0.527 - ETA: 15s - loss: 0.6860 - recall: 0.527 - ETA: 14s - loss: 0.6860 - recall: 0.527 - ETA: 14s - loss: 0.6860 - recall: 0.528 - ETA: 14s - loss: 0.6860 - recall: 0.528 - ETA: 14s - loss: 0.6860 - recall: 0.528 - ETA: 14s - loss: 0.6860 - recall: 0.528 - ETA: 14s - loss: 0.6860 - recall: 0.528 - ETA: 14s - loss: 0.6860 - recall: 0.528 - ETA: 14s - loss: 0.6860 - recall: 0.528 - ETA: 14s - loss: 0.6860 - recall: 0.528 - ETA: 14s - loss: 0.6859 - recall: 0.528 - ETA: 14s - loss: 0.6859 - recall: 0.528 - ETA: 14s - loss: 0.6859 - recall: 0.529 - ETA: 14s - loss: 0.6859 - recall: 0.529 - ETA: 14s - loss: 0.6858 - recall: 0.529 - ETA: 14s - loss: 0.6858 - recall: 0.529 - ETA: 14s - loss: 0.6858 - recall: 0.529 - ETA: 13s - loss: 0.6858 - recall: 0.529 - ETA: 13s - loss: 0.6858 - recall: 0.529 - ETA: 13s - loss: 0.6858 - recall: 0.529 - ETA: 13s - loss: 0.6858 - recall: 0.529 - ETA: 13s - loss: 0.6857 - recall: 0.529 - ETA: 13s - loss: 0.6857 - recall: 0.530 - ETA: 13s - loss: 0.6856 - recall: 0.530 - ETA: 13s - loss: 0.6857 - recall: 0.530 - ETA: 13s - loss: 0.6856 - recall: 0.530 - ETA: 13s - loss: 0.6857 - recall: 0.530 - ETA: 13s - loss: 0.6856 - recall: 0.530 - ETA: 13s - loss: 0.6855 - recall: 0.530 - ETA: 13s - loss: 0.6856 - recall: 0.530 - ETA: 13s - loss: 0.6856 - recall: 0.530 - ETA: 13s - loss: 0.6856 - recall: 0.531 - ETA: 12s - loss: 0.6857 - recall: 0.531 - ETA: 12s - loss: 0.6856 - recall: 0.531 - ETA: 12s - loss: 0.6856 - recall: 0.531 - ETA: 12s - loss: 0.6857 - recall: 0.531 - ETA: 12s - loss: 0.6856 - recall: 0.531 - ETA: 12s - loss: 0.6856 - recall: 0.531 - ETA: 12s - loss: 0.6856 - recall: 0.531 - ETA: 12s - loss: 0.6855 - recall: 0.532 - ETA: 12s - loss: 0.6855 - recall: 0.532 - ETA: 12s - loss: 0.6854 - recall: 0.532 - ETA: 12s - loss: 0.6854 - recall: 0.532 - ETA: 12s - loss: 0.6853 - recall: 0.532 - ETA: 12s - loss: 0.6852 - recall: 0.532 - ETA: 12s - loss: 0.6853 - recall: 0.532 - ETA: 11s - loss: 0.6852 - recall: 0.533 - ETA: 11s - loss: 0.6852 - recall: 0.533 - ETA: 11s - loss: 0.6852 - recall: 0.533 - ETA: 11s - loss: 0.6852 - recall: 0.533 - ETA: 11s - loss: 0.6852 - recall: 0.533 - ETA: 11s - loss: 0.6851 - recall: 0.533 - ETA: 11s - loss: 0.6851 - recall: 0.533 - ETA: 11s - loss: 0.6851 - recall: 0.533 - ETA: 11s - loss: 0.6851 - recall: 0.533 - ETA: 11s - loss: 0.6851 - recall: 0.533 - ETA: 11s - loss: 0.6851 - recall: 0.534 - ETA: 11s - loss: 0.6851 - recall: 0.534 - ETA: 11s - loss: 0.6851 - recall: 0.534 - ETA: 11s - loss: 0.6851 - recall: 0.534 - ETA: 11s - loss: 0.6851 - recall: 0.534 - ETA: 10s - loss: 0.6851 - recall: 0.534 - ETA: 10s - loss: 0.6850 - recall: 0.534 - ETA: 10s - loss: 0.6850 - recall: 0.534 - ETA: 10s - loss: 0.6849 - recall: 0.534 - ETA: 10s - loss: 0.6849 - recall: 0.534 - ETA: 10s - loss: 0.6849 - recall: 0.534 - ETA: 10s - loss: 0.6849 - recall: 0.535 - ETA: 10s - loss: 0.6850 - recall: 0.535 - ETA: 10s - loss: 0.6849 - recall: 0.535 - ETA: 10s - loss: 0.6849 - recall: 0.535 - ETA: 10s - loss: 0.6849 - recall: 0.535 - ETA: 10s - loss: 0.6849 - recall: 0.535 - ETA: 10s - loss: 0.6848 - recall: 0.535 - ETA: 10s - loss: 0.6848 - recall: 0.535 - ETA: 10s - loss: 0.6848 - recall: 0.535 - ETA: 10s - loss: 0.6847 - recall: 0.535 - ETA: 9s - loss: 0.6847 - recall: 0.535 - ETA: 9s - loss: 0.6847 - recall: 0.53 - ETA: 9s - loss: 0.6847 - recall: 0.53 - ETA: 9s - loss: 0.6847 - recall: 0.53 - ETA: 9s - loss: 0.6848 - recall: 0.53 - ETA: 9s - loss: 0.6848 - recall: 0.53 - ETA: 9s - loss: 0.6848 - recall: 0.53 - ETA: 9s - loss: 0.6848 - recall: 0.53 - ETA: 9s - loss: 0.6847 - recall: 0.53 - ETA: 9s - loss: 0.6847 - recall: 0.53 - ETA: 9s - loss: 0.6848 - recall: 0.53 - ETA: 9s - loss: 0.6848 - recall: 0.53 - ETA: 9s - loss: 0.6848 - recall: 0.53 - ETA: 9s - loss: 0.6847 - recall: 0.53 - ETA: 9s - loss: 0.6847 - recall: 0.53 - ETA: 8s - loss: 0.6847 - recall: 0.53 - ETA: 8s - loss: 0.6847 - recall: 0.53 - ETA: 8s - loss: 0.6848 - recall: 0.53 - ETA: 8s - loss: 0.6847 - recall: 0.53 - ETA: 8s - loss: 0.6847 - recall: 0.53 - ETA: 8s - loss: 0.6847 - recall: 0.53 - ETA: 8s - loss: 0.6848 - recall: 0.53 - ETA: 8s - loss: 0.6847 - recall: 0.53 - ETA: 8s - loss: 0.6847 - recall: 0.53 - ETA: 8s - loss: 0.6848 - recall: 0.53 - ETA: 8s - loss: 0.6847 - recall: 0.53 - ETA: 8s - loss: 0.6847 - recall: 0.53 - ETA: 8s - loss: 0.6847 - recall: 0.53 - ETA: 8s - loss: 0.6847 - recall: 0.53 - ETA: 8s - loss: 0.6847 - recall: 0.53 - ETA: 7s - loss: 0.6847 - recall: 0.53 - ETA: 7s - loss: 0.6846 - recall: 0.53 - ETA: 7s - loss: 0.6846 - recall: 0.53 - ETA: 7s - loss: 0.6846 - recall: 0.53 - ETA: 7s - loss: 0.6846 - recall: 0.53 - ETA: 7s - loss: 0.6845 - recall: 0.53 - ETA: 7s - loss: 0.6846 - recall: 0.53 - ETA: 7s - loss: 0.6845 - recall: 0.53 - ETA: 7s - loss: 0.6845 - recall: 0.53 - ETA: 7s - loss: 0.6845 - recall: 0.53 - ETA: 7s - loss: 0.6845 - recall: 0.53 - ETA: 7s - loss: 0.6845 - recall: 0.53 - ETA: 7s - loss: 0.6845 - recall: 0.53 - ETA: 7s - loss: 0.6844 - recall: 0.53 - ETA: 7s - loss: 0.6844 - recall: 0.53 - ETA: 7s - loss: 0.6844 - recall: 0.53 - ETA: 6s - loss: 0.6844 - recall: 0.53 - ETA: 6s - loss: 0.6844 - recall: 0.53 - ETA: 6s - loss: 0.6844 - recall: 0.53 - ETA: 6s - loss: 0.6843 - recall: 0.53 - ETA: 6s - loss: 0.6844 - recall: 0.53 - ETA: 6s - loss: 0.6843 - recall: 0.53 - ETA: 6s - loss: 0.6843 - recall: 0.53 - ETA: 6s - loss: 0.6843 - recall: 0.53 - ETA: 6s - loss: 0.6843 - recall: 0.53 - ETA: 6s - loss: 0.6842 - recall: 0.53 - ETA: 6s - loss: 0.6842 - recall: 0.53 - ETA: 6s - loss: 0.6842 - recall: 0.53 - ETA: 6s - loss: 0.6843 - recall: 0.53 - ETA: 6s - loss: 0.6842 - recall: 0.53 - ETA: 6s - loss: 0.6841 - recall: 0.53 - ETA: 5s - loss: 0.6841 - recall: 0.53 - ETA: 5s - loss: 0.6840 - recall: 0.53 - ETA: 5s - loss: 0.6840 - recall: 0.53 - ETA: 5s - loss: 0.6840 - recall: 0.53 - ETA: 5s - loss: 0.6840 - recall: 0.53 - ETA: 5s - loss: 0.6839 - recall: 0.53 - ETA: 5s - loss: 0.6839 - recall: 0.53 - ETA: 5s - loss: 0.6839 - recall: 0.54 - ETA: 5s - loss: 0.6839 - recall: 0.54 - ETA: 5s - loss: 0.6838 - recall: 0.54 - ETA: 5s - loss: 0.6838 - recall: 0.54 - ETA: 5s - loss: 0.6838 - recall: 0.54 - ETA: 5s - loss: 0.6838 - recall: 0.54 - ETA: 5s - loss: 0.6837 - recall: 0.54 - ETA: 5s - loss: 0.6837 - recall: 0.54 - ETA: 4s - loss: 0.6837 - recall: 0.54 - ETA: 4s - loss: 0.6836 - recall: 0.54 - ETA: 4s - loss: 0.6836 - recall: 0.54 - ETA: 4s - loss: 0.6836 - recall: 0.54 - ETA: 4s - loss: 0.6836 - recall: 0.54 - ETA: 4s - loss: 0.6836 - recall: 0.54 - ETA: 4s - loss: 0.6836 - recall: 0.54 - ETA: 4s - loss: 0.6836 - recall: 0.54 - ETA: 4s - loss: 0.6836 - recall: 0.54 - ETA: 4s - loss: 0.6835 - recall: 0.54 - ETA: 4s - loss: 0.6835 - recall: 0.54 - ETA: 4s - loss: 0.6835 - recall: 0.5416"
     ]
    },
    {
     "name": "stdout",
     "output_type": "stream",
     "text": [
      "59934/59934 [==============================] - ETA: 4s - loss: 0.6835 - recall: 0.54 - ETA: 4s - loss: 0.6834 - recall: 0.54 - ETA: 4s - loss: 0.6834 - recall: 0.54 - ETA: 4s - loss: 0.6834 - recall: 0.54 - ETA: 3s - loss: 0.6833 - recall: 0.54 - ETA: 3s - loss: 0.6833 - recall: 0.54 - ETA: 3s - loss: 0.6833 - recall: 0.54 - ETA: 3s - loss: 0.6833 - recall: 0.54 - ETA: 3s - loss: 0.6832 - recall: 0.54 - ETA: 3s - loss: 0.6832 - recall: 0.54 - ETA: 3s - loss: 0.6833 - recall: 0.54 - ETA: 3s - loss: 0.6832 - recall: 0.54 - ETA: 3s - loss: 0.6832 - recall: 0.54 - ETA: 3s - loss: 0.6831 - recall: 0.54 - ETA: 3s - loss: 0.6831 - recall: 0.54 - ETA: 3s - loss: 0.6830 - recall: 0.54 - ETA: 3s - loss: 0.6830 - recall: 0.54 - ETA: 3s - loss: 0.6830 - recall: 0.54 - ETA: 3s - loss: 0.6830 - recall: 0.54 - ETA: 2s - loss: 0.6830 - recall: 0.54 - ETA: 2s - loss: 0.6829 - recall: 0.54 - ETA: 2s - loss: 0.6829 - recall: 0.54 - ETA: 2s - loss: 0.6829 - recall: 0.54 - ETA: 2s - loss: 0.6828 - recall: 0.54 - ETA: 2s - loss: 0.6827 - recall: 0.54 - ETA: 2s - loss: 0.6827 - recall: 0.54 - ETA: 2s - loss: 0.6827 - recall: 0.54 - ETA: 2s - loss: 0.6827 - recall: 0.54 - ETA: 2s - loss: 0.6826 - recall: 0.54 - ETA: 2s - loss: 0.6825 - recall: 0.54 - ETA: 2s - loss: 0.6825 - recall: 0.54 - ETA: 2s - loss: 0.6824 - recall: 0.54 - ETA: 2s - loss: 0.6824 - recall: 0.54 - ETA: 2s - loss: 0.6824 - recall: 0.54 - ETA: 2s - loss: 0.6824 - recall: 0.54 - ETA: 1s - loss: 0.6823 - recall: 0.54 - ETA: 1s - loss: 0.6823 - recall: 0.54 - ETA: 1s - loss: 0.6823 - recall: 0.54 - ETA: 1s - loss: 0.6824 - recall: 0.54 - ETA: 1s - loss: 0.6824 - recall: 0.54 - ETA: 1s - loss: 0.6823 - recall: 0.54 - ETA: 1s - loss: 0.6823 - recall: 0.54 - ETA: 1s - loss: 0.6823 - recall: 0.54 - ETA: 1s - loss: 0.6823 - recall: 0.54 - ETA: 1s - loss: 0.6823 - recall: 0.54 - ETA: 1s - loss: 0.6823 - recall: 0.54 - ETA: 1s - loss: 0.6823 - recall: 0.54 - ETA: 1s - loss: 0.6822 - recall: 0.54 - ETA: 1s - loss: 0.6822 - recall: 0.54 - ETA: 1s - loss: 0.6821 - recall: 0.54 - ETA: 1s - loss: 0.6821 - recall: 0.54 - ETA: 0s - loss: 0.6820 - recall: 0.54 - ETA: 0s - loss: 0.6820 - recall: 0.54 - ETA: 0s - loss: 0.6820 - recall: 0.54 - ETA: 0s - loss: 0.6820 - recall: 0.54 - ETA: 0s - loss: 0.6820 - recall: 0.54 - ETA: 0s - loss: 0.6821 - recall: 0.54 - ETA: 0s - loss: 0.6820 - recall: 0.54 - ETA: 0s - loss: 0.6820 - recall: 0.54 - ETA: 0s - loss: 0.6821 - recall: 0.54 - ETA: 0s - loss: 0.6821 - recall: 0.54 - ETA: 0s - loss: 0.6820 - recall: 0.54 - ETA: 0s - loss: 0.6820 - recall: 0.54 - ETA: 0s - loss: 0.6820 - recall: 0.54 - ETA: 0s - loss: 0.6819 - recall: 0.54 - ETA: 0s - loss: 0.6818 - recall: 0.54 - ETA: 0s - loss: 0.6818 - recall: 0.54 - ETA: 0s - loss: 0.6817 - recall: 0.54 - ETA: 0s - loss: 0.6817 - recall: 0.54 - 41s 685us/sample - loss: 0.6817 - recall: 0.5483 - val_loss: 0.7498 - val_recall: 0.1986\n",
      "Epoch 2/5\n"
     ]
    },
    {
     "name": "stdout",
     "output_type": "stream",
     "text": [
      "18272/59934 [========>.....................] - ETA: 48s - loss: 0.6623 - recall: 0.656 - ETA: 42s - loss: 0.6815 - recall: 0.632 - ETA: 40s - loss: 0.6961 - recall: 0.598 - ETA: 40s - loss: 0.6856 - recall: 0.612 - ETA: 40s - loss: 0.6887 - recall: 0.601 - ETA: 39s - loss: 0.6867 - recall: 0.587 - ETA: 39s - loss: 0.6861 - recall: 0.583 - ETA: 39s - loss: 0.6814 - recall: 0.593 - ETA: 39s - loss: 0.6781 - recall: 0.597 - ETA: 39s - loss: 0.6771 - recall: 0.596 - ETA: 39s - loss: 0.6767 - recall: 0.594 - ETA: 38s - loss: 0.6756 - recall: 0.590 - ETA: 38s - loss: 0.6781 - recall: 0.584 - ETA: 38s - loss: 0.6776 - recall: 0.580 - ETA: 38s - loss: 0.6747 - recall: 0.582 - ETA: 38s - loss: 0.6797 - recall: 0.576 - ETA: 38s - loss: 0.6796 - recall: 0.570 - ETA: 37s - loss: 0.6798 - recall: 0.569 - ETA: 37s - loss: 0.6801 - recall: 0.565 - ETA: 37s - loss: 0.6796 - recall: 0.561 - ETA: 37s - loss: 0.6785 - recall: 0.564 - ETA: 37s - loss: 0.6772 - recall: 0.565 - ETA: 37s - loss: 0.6759 - recall: 0.565 - ETA: 37s - loss: 0.6757 - recall: 0.567 - ETA: 37s - loss: 0.6739 - recall: 0.573 - ETA: 37s - loss: 0.6728 - recall: 0.576 - ETA: 37s - loss: 0.6723 - recall: 0.577 - ETA: 37s - loss: 0.6720 - recall: 0.579 - ETA: 37s - loss: 0.6726 - recall: 0.579 - ETA: 37s - loss: 0.6716 - recall: 0.581 - ETA: 37s - loss: 0.6721 - recall: 0.579 - ETA: 37s - loss: 0.6720 - recall: 0.580 - ETA: 37s - loss: 0.6723 - recall: 0.580 - ETA: 37s - loss: 0.6721 - recall: 0.580 - ETA: 37s - loss: 0.6710 - recall: 0.581 - ETA: 37s - loss: 0.6707 - recall: 0.582 - ETA: 36s - loss: 0.6706 - recall: 0.581 - ETA: 36s - loss: 0.6701 - recall: 0.581 - ETA: 36s - loss: 0.6697 - recall: 0.584 - ETA: 36s - loss: 0.6695 - recall: 0.584 - ETA: 36s - loss: 0.6691 - recall: 0.584 - ETA: 36s - loss: 0.6703 - recall: 0.583 - ETA: 36s - loss: 0.6694 - recall: 0.585 - ETA: 36s - loss: 0.6693 - recall: 0.585 - ETA: 36s - loss: 0.6688 - recall: 0.586 - ETA: 36s - loss: 0.6685 - recall: 0.587 - ETA: 36s - loss: 0.6691 - recall: 0.586 - ETA: 36s - loss: 0.6699 - recall: 0.586 - ETA: 35s - loss: 0.6703 - recall: 0.585 - ETA: 35s - loss: 0.6701 - recall: 0.585 - ETA: 35s - loss: 0.6702 - recall: 0.585 - ETA: 35s - loss: 0.6701 - recall: 0.584 - ETA: 35s - loss: 0.6698 - recall: 0.585 - ETA: 35s - loss: 0.6699 - recall: 0.584 - ETA: 35s - loss: 0.6706 - recall: 0.583 - ETA: 35s - loss: 0.6706 - recall: 0.583 - ETA: 35s - loss: 0.6702 - recall: 0.584 - ETA: 35s - loss: 0.6700 - recall: 0.584 - ETA: 35s - loss: 0.6702 - recall: 0.584 - ETA: 35s - loss: 0.6702 - recall: 0.584 - ETA: 35s - loss: 0.6702 - recall: 0.585 - ETA: 34s - loss: 0.6702 - recall: 0.585 - ETA: 34s - loss: 0.6704 - recall: 0.584 - ETA: 34s - loss: 0.6704 - recall: 0.584 - ETA: 34s - loss: 0.6701 - recall: 0.584 - ETA: 34s - loss: 0.6702 - recall: 0.584 - ETA: 34s - loss: 0.6700 - recall: 0.586 - ETA: 34s - loss: 0.6696 - recall: 0.587 - ETA: 34s - loss: 0.6696 - recall: 0.587 - ETA: 34s - loss: 0.6693 - recall: 0.588 - ETA: 34s - loss: 0.6693 - recall: 0.588 - ETA: 34s - loss: 0.6689 - recall: 0.589 - ETA: 34s - loss: 0.6691 - recall: 0.589 - ETA: 34s - loss: 0.6691 - recall: 0.590 - ETA: 34s - loss: 0.6688 - recall: 0.591 - ETA: 34s - loss: 0.6685 - recall: 0.591 - ETA: 34s - loss: 0.6680 - recall: 0.592 - ETA: 34s - loss: 0.6677 - recall: 0.592 - ETA: 34s - loss: 0.6678 - recall: 0.592 - ETA: 34s - loss: 0.6680 - recall: 0.592 - ETA: 34s - loss: 0.6678 - recall: 0.592 - ETA: 34s - loss: 0.6680 - recall: 0.591 - ETA: 34s - loss: 0.6681 - recall: 0.591 - ETA: 33s - loss: 0.6682 - recall: 0.592 - ETA: 33s - loss: 0.6683 - recall: 0.592 - ETA: 33s - loss: 0.6684 - recall: 0.591 - ETA: 33s - loss: 0.6683 - recall: 0.592 - ETA: 33s - loss: 0.6690 - recall: 0.592 - ETA: 33s - loss: 0.6690 - recall: 0.592 - ETA: 33s - loss: 0.6690 - recall: 0.591 - ETA: 33s - loss: 0.6689 - recall: 0.592 - ETA: 33s - loss: 0.6686 - recall: 0.592 - ETA: 33s - loss: 0.6686 - recall: 0.593 - ETA: 33s - loss: 0.6687 - recall: 0.592 - ETA: 33s - loss: 0.6685 - recall: 0.592 - ETA: 33s - loss: 0.6687 - recall: 0.592 - ETA: 33s - loss: 0.6685 - recall: 0.593 - ETA: 32s - loss: 0.6684 - recall: 0.593 - ETA: 32s - loss: 0.6684 - recall: 0.593 - ETA: 32s - loss: 0.6687 - recall: 0.592 - ETA: 32s - loss: 0.6687 - recall: 0.592 - ETA: 32s - loss: 0.6687 - recall: 0.592 - ETA: 32s - loss: 0.6688 - recall: 0.591 - ETA: 32s - loss: 0.6688 - recall: 0.591 - ETA: 32s - loss: 0.6688 - recall: 0.591 - ETA: 32s - loss: 0.6687 - recall: 0.591 - ETA: 32s - loss: 0.6690 - recall: 0.590 - ETA: 32s - loss: 0.6691 - recall: 0.590 - ETA: 32s - loss: 0.6691 - recall: 0.590 - ETA: 32s - loss: 0.6691 - recall: 0.590 - ETA: 31s - loss: 0.6689 - recall: 0.591 - ETA: 31s - loss: 0.6693 - recall: 0.591 - ETA: 31s - loss: 0.6694 - recall: 0.591 - ETA: 31s - loss: 0.6695 - recall: 0.591 - ETA: 31s - loss: 0.6695 - recall: 0.591 - ETA: 31s - loss: 0.6694 - recall: 0.592 - ETA: 31s - loss: 0.6694 - recall: 0.592 - ETA: 31s - loss: 0.6695 - recall: 0.591 - ETA: 31s - loss: 0.6695 - recall: 0.591 - ETA: 31s - loss: 0.6696 - recall: 0.591 - ETA: 31s - loss: 0.6698 - recall: 0.591 - ETA: 31s - loss: 0.6700 - recall: 0.591 - ETA: 31s - loss: 0.6698 - recall: 0.592 - ETA: 31s - loss: 0.6697 - recall: 0.592 - ETA: 31s - loss: 0.6698 - recall: 0.592 - ETA: 30s - loss: 0.6700 - recall: 0.591 - ETA: 30s - loss: 0.6699 - recall: 0.592 - ETA: 30s - loss: 0.6697 - recall: 0.592 - ETA: 30s - loss: 0.6698 - recall: 0.592 - ETA: 30s - loss: 0.6699 - recall: 0.592 - ETA: 30s - loss: 0.6698 - recall: 0.592 - ETA: 30s - loss: 0.6697 - recall: 0.592 - ETA: 30s - loss: 0.6697 - recall: 0.592 - ETA: 30s - loss: 0.6698 - recall: 0.592 - ETA: 30s - loss: 0.6699 - recall: 0.592 - ETA: 30s - loss: 0.6700 - recall: 0.592 - ETA: 30s - loss: 0.6698 - recall: 0.593 - ETA: 30s - loss: 0.6698 - recall: 0.592 - ETA: 30s - loss: 0.6699 - recall: 0.591 - ETA: 30s - loss: 0.6699 - recall: 0.591 - ETA: 30s - loss: 0.6698 - recall: 0.592 - ETA: 30s - loss: 0.6697 - recall: 0.592 - ETA: 29s - loss: 0.6695 - recall: 0.592 - ETA: 29s - loss: 0.6693 - recall: 0.592 - ETA: 29s - loss: 0.6694 - recall: 0.592 - ETA: 29s - loss: 0.6691 - recall: 0.591 - ETA: 29s - loss: 0.6694 - recall: 0.591 - ETA: 29s - loss: 0.6693 - recall: 0.592 - ETA: 29s - loss: 0.6692 - recall: 0.592 - ETA: 29s - loss: 0.6693 - recall: 0.592 - ETA: 29s - loss: 0.6692 - recall: 0.592 - ETA: 29s - loss: 0.6694 - recall: 0.592 - ETA: 29s - loss: 0.6694 - recall: 0.592 - ETA: 29s - loss: 0.6694 - recall: 0.592 - ETA: 29s - loss: 0.6694 - recall: 0.592 - ETA: 29s - loss: 0.6692 - recall: 0.592 - ETA: 28s - loss: 0.6693 - recall: 0.592 - ETA: 28s - loss: 0.6695 - recall: 0.592 - ETA: 28s - loss: 0.6694 - recall: 0.592 - ETA: 28s - loss: 0.6694 - recall: 0.592 - ETA: 28s - loss: 0.6693 - recall: 0.592 - ETA: 28s - loss: 0.6692 - recall: 0.592 - ETA: 28s - loss: 0.6692 - recall: 0.592 - ETA: 28s - loss: 0.6693 - recall: 0.591 - ETA: 28s - loss: 0.6692 - recall: 0.591 - ETA: 28s - loss: 0.6691 - recall: 0.592 - ETA: 28s - loss: 0.6689 - recall: 0.592 - ETA: 28s - loss: 0.6689 - recall: 0.592 - ETA: 28s - loss: 0.6688 - recall: 0.592 - ETA: 28s - loss: 0.6688 - recall: 0.592 - ETA: 28s - loss: 0.6687 - recall: 0.592 - ETA: 27s - loss: 0.6686 - recall: 0.592 - ETA: 27s - loss: 0.6683 - recall: 0.593 - ETA: 27s - loss: 0.6684 - recall: 0.592 - ETA: 27s - loss: 0.6682 - recall: 0.593 - ETA: 27s - loss: 0.6679 - recall: 0.593 - ETA: 27s - loss: 0.6678 - recall: 0.593 - ETA: 27s - loss: 0.6677 - recall: 0.593 - ETA: 27s - loss: 0.6676 - recall: 0.593 - ETA: 27s - loss: 0.6675 - recall: 0.593 - ETA: 27s - loss: 0.6673 - recall: 0.593 - ETA: 27s - loss: 0.6672 - recall: 0.594 - ETA: 27s - loss: 0.6673 - recall: 0.594 - ETA: 27s - loss: 0.6672 - recall: 0.594 - ETA: 27s - loss: 0.6671 - recall: 0.594 - ETA: 27s - loss: 0.6670 - recall: 0.594 - ETA: 27s - loss: 0.6670 - recall: 0.594 - ETA: 27s - loss: 0.6670 - recall: 0.594 - ETA: 27s - loss: 0.6667 - recall: 0.595 - ETA: 27s - loss: 0.6666 - recall: 0.595 - ETA: 27s - loss: 0.6665 - recall: 0.595 - ETA: 26s - loss: 0.6665 - recall: 0.595 - ETA: 26s - loss: 0.6664 - recall: 0.595 - ETA: 26s - loss: 0.6661 - recall: 0.595936576/59934 [=================>............] - ETA: 26s - loss: 0.6659 - recall: 0.596 - ETA: 26s - loss: 0.6660 - recall: 0.596 - ETA: 26s - loss: 0.6660 - recall: 0.596 - ETA: 26s - loss: 0.6656 - recall: 0.597 - ETA: 26s - loss: 0.6654 - recall: 0.598 - ETA: 26s - loss: 0.6653 - recall: 0.598 - ETA: 26s - loss: 0.6651 - recall: 0.598 - ETA: 26s - loss: 0.6650 - recall: 0.598 - ETA: 26s - loss: 0.6652 - recall: 0.598 - ETA: 26s - loss: 0.6650 - recall: 0.598 - ETA: 26s - loss: 0.6651 - recall: 0.598 - ETA: 26s - loss: 0.6651 - recall: 0.598 - ETA: 25s - loss: 0.6650 - recall: 0.598 - ETA: 25s - loss: 0.6652 - recall: 0.598 - ETA: 25s - loss: 0.6650 - recall: 0.598 - ETA: 25s - loss: 0.6651 - recall: 0.598 - ETA: 25s - loss: 0.6651 - recall: 0.598 - ETA: 25s - loss: 0.6652 - recall: 0.598 - ETA: 25s - loss: 0.6651 - recall: 0.598 - ETA: 25s - loss: 0.6653 - recall: 0.598 - ETA: 25s - loss: 0.6652 - recall: 0.598 - ETA: 25s - loss: 0.6651 - recall: 0.598 - ETA: 25s - loss: 0.6651 - recall: 0.598 - ETA: 25s - loss: 0.6655 - recall: 0.598 - ETA: 25s - loss: 0.6655 - recall: 0.598 - ETA: 25s - loss: 0.6655 - recall: 0.597 - ETA: 25s - loss: 0.6654 - recall: 0.597 - ETA: 25s - loss: 0.6654 - recall: 0.597 - ETA: 25s - loss: 0.6654 - recall: 0.597 - ETA: 25s - loss: 0.6656 - recall: 0.597 - ETA: 24s - loss: 0.6658 - recall: 0.597 - ETA: 24s - loss: 0.6658 - recall: 0.597 - ETA: 24s - loss: 0.6658 - recall: 0.597 - ETA: 24s - loss: 0.6657 - recall: 0.597 - ETA: 24s - loss: 0.6657 - recall: 0.597 - ETA: 24s - loss: 0.6658 - recall: 0.597 - ETA: 24s - loss: 0.6657 - recall: 0.597 - ETA: 24s - loss: 0.6657 - recall: 0.597 - ETA: 24s - loss: 0.6658 - recall: 0.596 - ETA: 24s - loss: 0.6657 - recall: 0.597 - ETA: 24s - loss: 0.6657 - recall: 0.597 - ETA: 24s - loss: 0.6656 - recall: 0.597 - ETA: 24s - loss: 0.6655 - recall: 0.597 - ETA: 24s - loss: 0.6655 - recall: 0.597 - ETA: 24s - loss: 0.6655 - recall: 0.597 - ETA: 24s - loss: 0.6655 - recall: 0.597 - ETA: 24s - loss: 0.6655 - recall: 0.597 - ETA: 24s - loss: 0.6656 - recall: 0.596 - ETA: 24s - loss: 0.6656 - recall: 0.596 - ETA: 24s - loss: 0.6656 - recall: 0.597 - ETA: 24s - loss: 0.6655 - recall: 0.597 - ETA: 23s - loss: 0.6654 - recall: 0.597 - ETA: 23s - loss: 0.6655 - recall: 0.597 - ETA: 23s - loss: 0.6655 - recall: 0.597 - ETA: 23s - loss: 0.6654 - recall: 0.597 - ETA: 23s - loss: 0.6652 - recall: 0.597 - ETA: 23s - loss: 0.6652 - recall: 0.597 - ETA: 23s - loss: 0.6651 - recall: 0.597 - ETA: 23s - loss: 0.6650 - recall: 0.597 - ETA: 23s - loss: 0.6649 - recall: 0.597 - ETA: 23s - loss: 0.6649 - recall: 0.597 - ETA: 23s - loss: 0.6648 - recall: 0.598 - ETA: 23s - loss: 0.6648 - recall: 0.598 - ETA: 23s - loss: 0.6647 - recall: 0.598 - ETA: 23s - loss: 0.6646 - recall: 0.598 - ETA: 23s - loss: 0.6648 - recall: 0.598 - ETA: 23s - loss: 0.6648 - recall: 0.598 - ETA: 23s - loss: 0.6646 - recall: 0.598 - ETA: 22s - loss: 0.6645 - recall: 0.598 - ETA: 22s - loss: 0.6645 - recall: 0.599 - ETA: 22s - loss: 0.6644 - recall: 0.599 - ETA: 22s - loss: 0.6644 - recall: 0.599 - ETA: 22s - loss: 0.6644 - recall: 0.599 - ETA: 22s - loss: 0.6646 - recall: 0.598 - ETA: 22s - loss: 0.6645 - recall: 0.599 - ETA: 22s - loss: 0.6646 - recall: 0.598 - ETA: 22s - loss: 0.6646 - recall: 0.598 - ETA: 22s - loss: 0.6646 - recall: 0.598 - ETA: 22s - loss: 0.6647 - recall: 0.598 - ETA: 22s - loss: 0.6647 - recall: 0.598 - ETA: 22s - loss: 0.6647 - recall: 0.598 - ETA: 22s - loss: 0.6646 - recall: 0.598 - ETA: 22s - loss: 0.6644 - recall: 0.599 - ETA: 21s - loss: 0.6645 - recall: 0.599 - ETA: 21s - loss: 0.6644 - recall: 0.599 - ETA: 21s - loss: 0.6644 - recall: 0.599 - ETA: 21s - loss: 0.6644 - recall: 0.599 - ETA: 21s - loss: 0.6643 - recall: 0.599 - ETA: 21s - loss: 0.6642 - recall: 0.599 - ETA: 21s - loss: 0.6642 - recall: 0.599 - ETA: 21s - loss: 0.6643 - recall: 0.599 - ETA: 21s - loss: 0.6643 - recall: 0.599 - ETA: 21s - loss: 0.6643 - recall: 0.599 - ETA: 21s - loss: 0.6642 - recall: 0.599 - ETA: 21s - loss: 0.6643 - recall: 0.599 - ETA: 21s - loss: 0.6642 - recall: 0.599 - ETA: 21s - loss: 0.6643 - recall: 0.599 - ETA: 21s - loss: 0.6642 - recall: 0.599 - ETA: 21s - loss: 0.6642 - recall: 0.600 - ETA: 20s - loss: 0.6641 - recall: 0.600 - ETA: 20s - loss: 0.6640 - recall: 0.600 - ETA: 20s - loss: 0.6639 - recall: 0.600 - ETA: 20s - loss: 0.6637 - recall: 0.600 - ETA: 20s - loss: 0.6638 - recall: 0.600 - ETA: 20s - loss: 0.6638 - recall: 0.600 - ETA: 20s - loss: 0.6637 - recall: 0.600 - ETA: 20s - loss: 0.6638 - recall: 0.600 - ETA: 20s - loss: 0.6638 - recall: 0.600 - ETA: 20s - loss: 0.6637 - recall: 0.600 - ETA: 20s - loss: 0.6637 - recall: 0.601 - ETA: 20s - loss: 0.6636 - recall: 0.601 - ETA: 20s - loss: 0.6635 - recall: 0.600 - ETA: 20s - loss: 0.6635 - recall: 0.600 - ETA: 20s - loss: 0.6635 - recall: 0.601 - ETA: 20s - loss: 0.6633 - recall: 0.601 - ETA: 19s - loss: 0.6634 - recall: 0.601 - ETA: 19s - loss: 0.6633 - recall: 0.601 - ETA: 19s - loss: 0.6632 - recall: 0.601 - ETA: 19s - loss: 0.6630 - recall: 0.601 - ETA: 19s - loss: 0.6629 - recall: 0.601 - ETA: 19s - loss: 0.6628 - recall: 0.601 - ETA: 19s - loss: 0.6628 - recall: 0.601 - ETA: 19s - loss: 0.6626 - recall: 0.601 - ETA: 19s - loss: 0.6628 - recall: 0.601 - ETA: 19s - loss: 0.6625 - recall: 0.602 - ETA: 19s - loss: 0.6626 - recall: 0.601 - ETA: 19s - loss: 0.6626 - recall: 0.602 - ETA: 19s - loss: 0.6624 - recall: 0.602 - ETA: 19s - loss: 0.6625 - recall: 0.602 - ETA: 19s - loss: 0.6627 - recall: 0.602 - ETA: 18s - loss: 0.6626 - recall: 0.602 - ETA: 18s - loss: 0.6626 - recall: 0.602 - ETA: 18s - loss: 0.6628 - recall: 0.602 - ETA: 18s - loss: 0.6628 - recall: 0.602 - ETA: 18s - loss: 0.6629 - recall: 0.602 - ETA: 18s - loss: 0.6629 - recall: 0.602 - ETA: 18s - loss: 0.6629 - recall: 0.602 - ETA: 18s - loss: 0.6629 - recall: 0.602 - ETA: 18s - loss: 0.6629 - recall: 0.602 - ETA: 18s - loss: 0.6629 - recall: 0.602 - ETA: 18s - loss: 0.6628 - recall: 0.602 - ETA: 18s - loss: 0.6628 - recall: 0.602 - ETA: 18s - loss: 0.6628 - recall: 0.602 - ETA: 18s - loss: 0.6628 - recall: 0.602 - ETA: 18s - loss: 0.6630 - recall: 0.602 - ETA: 18s - loss: 0.6631 - recall: 0.602 - ETA: 17s - loss: 0.6630 - recall: 0.602 - ETA: 17s - loss: 0.6630 - recall: 0.602 - ETA: 17s - loss: 0.6631 - recall: 0.602 - ETA: 17s - loss: 0.6632 - recall: 0.602 - ETA: 17s - loss: 0.6632 - recall: 0.602 - ETA: 17s - loss: 0.6631 - recall: 0.602 - ETA: 17s - loss: 0.6630 - recall: 0.602 - ETA: 17s - loss: 0.6630 - recall: 0.602 - ETA: 17s - loss: 0.6629 - recall: 0.603 - ETA: 17s - loss: 0.6629 - recall: 0.603 - ETA: 17s - loss: 0.6630 - recall: 0.603 - ETA: 17s - loss: 0.6630 - recall: 0.603 - ETA: 17s - loss: 0.6629 - recall: 0.603 - ETA: 17s - loss: 0.6628 - recall: 0.603 - ETA: 17s - loss: 0.6628 - recall: 0.603 - ETA: 17s - loss: 0.6627 - recall: 0.603 - ETA: 17s - loss: 0.6626 - recall: 0.603 - ETA: 16s - loss: 0.6625 - recall: 0.603 - ETA: 16s - loss: 0.6626 - recall: 0.603 - ETA: 16s - loss: 0.6626 - recall: 0.603 - ETA: 16s - loss: 0.6624 - recall: 0.603 - ETA: 16s - loss: 0.6623 - recall: 0.603 - ETA: 16s - loss: 0.6622 - recall: 0.604 - ETA: 16s - loss: 0.6621 - recall: 0.604 - ETA: 16s - loss: 0.6621 - recall: 0.604 - ETA: 16s - loss: 0.6622 - recall: 0.603 - ETA: 16s - loss: 0.6622 - recall: 0.603 - ETA: 16s - loss: 0.6620 - recall: 0.604 - ETA: 16s - loss: 0.6621 - recall: 0.604 - ETA: 16s - loss: 0.6621 - recall: 0.604 - ETA: 16s - loss: 0.6620 - recall: 0.604 - ETA: 16s - loss: 0.6620 - recall: 0.604 - ETA: 16s - loss: 0.6620 - recall: 0.604 - ETA: 15s - loss: 0.6620 - recall: 0.604 - ETA: 15s - loss: 0.6618 - recall: 0.604 - ETA: 15s - loss: 0.6619 - recall: 0.604 - ETA: 15s - loss: 0.6619 - recall: 0.604 - ETA: 15s - loss: 0.6619 - recall: 0.604 - ETA: 15s - loss: 0.6619 - recall: 0.604 - ETA: 15s - loss: 0.6619 - recall: 0.604 - ETA: 15s - loss: 0.6618 - recall: 0.604 - ETA: 15s - loss: 0.6618 - recall: 0.604 - ETA: 15s - loss: 0.6618 - recall: 0.604 - ETA: 15s - loss: 0.6618 - recall: 0.604 - ETA: 15s - loss: 0.6617 - recall: 0.604 - ETA: 15s - loss: 0.6616 - recall: 0.604 - ETA: 15s - loss: 0.6615 - recall: 0.605 - ETA: 15s - loss: 0.6614 - recall: 0.6051"
     ]
    },
    {
     "name": "stdout",
     "output_type": "stream",
     "text": [
      "54592/59934 [==========================>...] - ETA: 15s - loss: 0.6613 - recall: 0.605 - ETA: 14s - loss: 0.6611 - recall: 0.605 - ETA: 14s - loss: 0.6611 - recall: 0.605 - ETA: 14s - loss: 0.6612 - recall: 0.605 - ETA: 14s - loss: 0.6612 - recall: 0.605 - ETA: 14s - loss: 0.6612 - recall: 0.605 - ETA: 14s - loss: 0.6610 - recall: 0.606 - ETA: 14s - loss: 0.6610 - recall: 0.605 - ETA: 14s - loss: 0.6609 - recall: 0.606 - ETA: 14s - loss: 0.6607 - recall: 0.606 - ETA: 14s - loss: 0.6607 - recall: 0.606 - ETA: 14s - loss: 0.6608 - recall: 0.606 - ETA: 14s - loss: 0.6608 - recall: 0.606 - ETA: 14s - loss: 0.6607 - recall: 0.606 - ETA: 14s - loss: 0.6607 - recall: 0.606 - ETA: 14s - loss: 0.6607 - recall: 0.606 - ETA: 14s - loss: 0.6607 - recall: 0.606 - ETA: 13s - loss: 0.6606 - recall: 0.607 - ETA: 13s - loss: 0.6605 - recall: 0.607 - ETA: 13s - loss: 0.6604 - recall: 0.607 - ETA: 13s - loss: 0.6603 - recall: 0.607 - ETA: 13s - loss: 0.6603 - recall: 0.607 - ETA: 13s - loss: 0.6603 - recall: 0.607 - ETA: 13s - loss: 0.6605 - recall: 0.607 - ETA: 13s - loss: 0.6605 - recall: 0.607 - ETA: 13s - loss: 0.6605 - recall: 0.607 - ETA: 13s - loss: 0.6605 - recall: 0.607 - ETA: 13s - loss: 0.6606 - recall: 0.607 - ETA: 13s - loss: 0.6606 - recall: 0.607 - ETA: 13s - loss: 0.6606 - recall: 0.607 - ETA: 13s - loss: 0.6606 - recall: 0.607 - ETA: 13s - loss: 0.6606 - recall: 0.607 - ETA: 13s - loss: 0.6605 - recall: 0.607 - ETA: 12s - loss: 0.6605 - recall: 0.607 - ETA: 12s - loss: 0.6605 - recall: 0.607 - ETA: 12s - loss: 0.6605 - recall: 0.607 - ETA: 12s - loss: 0.6605 - recall: 0.607 - ETA: 12s - loss: 0.6605 - recall: 0.607 - ETA: 12s - loss: 0.6605 - recall: 0.607 - ETA: 12s - loss: 0.6605 - recall: 0.607 - ETA: 12s - loss: 0.6605 - recall: 0.607 - ETA: 12s - loss: 0.6604 - recall: 0.607 - ETA: 12s - loss: 0.6604 - recall: 0.607 - ETA: 12s - loss: 0.6604 - recall: 0.608 - ETA: 12s - loss: 0.6603 - recall: 0.608 - ETA: 12s - loss: 0.6601 - recall: 0.608 - ETA: 12s - loss: 0.6602 - recall: 0.608 - ETA: 12s - loss: 0.6602 - recall: 0.608 - ETA: 12s - loss: 0.6603 - recall: 0.608 - ETA: 11s - loss: 0.6603 - recall: 0.608 - ETA: 11s - loss: 0.6603 - recall: 0.608 - ETA: 11s - loss: 0.6603 - recall: 0.608 - ETA: 11s - loss: 0.6603 - recall: 0.608 - ETA: 11s - loss: 0.6603 - recall: 0.608 - ETA: 11s - loss: 0.6603 - recall: 0.608 - ETA: 11s - loss: 0.6603 - recall: 0.608 - ETA: 11s - loss: 0.6603 - recall: 0.608 - ETA: 11s - loss: 0.6603 - recall: 0.608 - ETA: 11s - loss: 0.6603 - recall: 0.608 - ETA: 11s - loss: 0.6601 - recall: 0.608 - ETA: 11s - loss: 0.6603 - recall: 0.608 - ETA: 11s - loss: 0.6602 - recall: 0.608 - ETA: 11s - loss: 0.6602 - recall: 0.608 - ETA: 11s - loss: 0.6603 - recall: 0.608 - ETA: 11s - loss: 0.6602 - recall: 0.608 - ETA: 10s - loss: 0.6602 - recall: 0.608 - ETA: 10s - loss: 0.6601 - recall: 0.608 - ETA: 10s - loss: 0.6601 - recall: 0.608 - ETA: 10s - loss: 0.6601 - recall: 0.608 - ETA: 10s - loss: 0.6601 - recall: 0.608 - ETA: 10s - loss: 0.6602 - recall: 0.608 - ETA: 10s - loss: 0.6602 - recall: 0.608 - ETA: 10s - loss: 0.6601 - recall: 0.608 - ETA: 10s - loss: 0.6601 - recall: 0.608 - ETA: 10s - loss: 0.6600 - recall: 0.608 - ETA: 10s - loss: 0.6600 - recall: 0.608 - ETA: 10s - loss: 0.6600 - recall: 0.608 - ETA: 10s - loss: 0.6599 - recall: 0.608 - ETA: 10s - loss: 0.6599 - recall: 0.608 - ETA: 10s - loss: 0.6599 - recall: 0.608 - ETA: 10s - loss: 0.6599 - recall: 0.608 - ETA: 9s - loss: 0.6599 - recall: 0.608 - ETA: 9s - loss: 0.6598 - recall: 0.60 - ETA: 9s - loss: 0.6598 - recall: 0.60 - ETA: 9s - loss: 0.6598 - recall: 0.60 - ETA: 9s - loss: 0.6599 - recall: 0.60 - ETA: 9s - loss: 0.6600 - recall: 0.60 - ETA: 9s - loss: 0.6600 - recall: 0.60 - ETA: 9s - loss: 0.6600 - recall: 0.60 - ETA: 9s - loss: 0.6599 - recall: 0.60 - ETA: 9s - loss: 0.6599 - recall: 0.60 - ETA: 9s - loss: 0.6598 - recall: 0.60 - ETA: 9s - loss: 0.6598 - recall: 0.60 - ETA: 9s - loss: 0.6598 - recall: 0.60 - ETA: 9s - loss: 0.6598 - recall: 0.60 - ETA: 9s - loss: 0.6599 - recall: 0.60 - ETA: 9s - loss: 0.6599 - recall: 0.60 - ETA: 9s - loss: 0.6599 - recall: 0.60 - ETA: 9s - loss: 0.6599 - recall: 0.60 - ETA: 9s - loss: 0.6599 - recall: 0.60 - ETA: 8s - loss: 0.6599 - recall: 0.60 - ETA: 8s - loss: 0.6599 - recall: 0.60 - ETA: 8s - loss: 0.6598 - recall: 0.60 - ETA: 8s - loss: 0.6598 - recall: 0.60 - ETA: 8s - loss: 0.6597 - recall: 0.60 - ETA: 8s - loss: 0.6596 - recall: 0.60 - ETA: 8s - loss: 0.6596 - recall: 0.60 - ETA: 8s - loss: 0.6596 - recall: 0.60 - ETA: 8s - loss: 0.6595 - recall: 0.60 - ETA: 8s - loss: 0.6595 - recall: 0.60 - ETA: 8s - loss: 0.6595 - recall: 0.60 - ETA: 8s - loss: 0.6596 - recall: 0.60 - ETA: 8s - loss: 0.6596 - recall: 0.60 - ETA: 8s - loss: 0.6595 - recall: 0.60 - ETA: 8s - loss: 0.6594 - recall: 0.60 - ETA: 8s - loss: 0.6593 - recall: 0.60 - ETA: 8s - loss: 0.6594 - recall: 0.60 - ETA: 8s - loss: 0.6594 - recall: 0.60 - ETA: 8s - loss: 0.6593 - recall: 0.60 - ETA: 7s - loss: 0.6593 - recall: 0.60 - ETA: 7s - loss: 0.6593 - recall: 0.60 - ETA: 7s - loss: 0.6592 - recall: 0.60 - ETA: 7s - loss: 0.6591 - recall: 0.60 - ETA: 7s - loss: 0.6590 - recall: 0.60 - ETA: 7s - loss: 0.6590 - recall: 0.60 - ETA: 7s - loss: 0.6589 - recall: 0.60 - ETA: 7s - loss: 0.6591 - recall: 0.60 - ETA: 7s - loss: 0.6591 - recall: 0.60 - ETA: 7s - loss: 0.6591 - recall: 0.60 - ETA: 7s - loss: 0.6591 - recall: 0.60 - ETA: 7s - loss: 0.6590 - recall: 0.60 - ETA: 7s - loss: 0.6589 - recall: 0.60 - ETA: 7s - loss: 0.6589 - recall: 0.60 - ETA: 7s - loss: 0.6589 - recall: 0.60 - ETA: 7s - loss: 0.6588 - recall: 0.60 - ETA: 7s - loss: 0.6588 - recall: 0.60 - ETA: 7s - loss: 0.6588 - recall: 0.60 - ETA: 7s - loss: 0.6587 - recall: 0.60 - ETA: 7s - loss: 0.6586 - recall: 0.60 - ETA: 7s - loss: 0.6586 - recall: 0.60 - ETA: 6s - loss: 0.6586 - recall: 0.60 - ETA: 6s - loss: 0.6586 - recall: 0.60 - ETA: 6s - loss: 0.6587 - recall: 0.60 - ETA: 6s - loss: 0.6586 - recall: 0.60 - ETA: 6s - loss: 0.6587 - recall: 0.60 - ETA: 6s - loss: 0.6586 - recall: 0.60 - ETA: 6s - loss: 0.6586 - recall: 0.60 - ETA: 6s - loss: 0.6585 - recall: 0.60 - ETA: 6s - loss: 0.6585 - recall: 0.60 - ETA: 6s - loss: 0.6585 - recall: 0.60 - ETA: 6s - loss: 0.6585 - recall: 0.60 - ETA: 6s - loss: 0.6585 - recall: 0.60 - ETA: 6s - loss: 0.6585 - recall: 0.60 - ETA: 6s - loss: 0.6586 - recall: 0.60 - ETA: 6s - loss: 0.6586 - recall: 0.60 - ETA: 6s - loss: 0.6587 - recall: 0.60 - ETA: 5s - loss: 0.6586 - recall: 0.60 - ETA: 5s - loss: 0.6586 - recall: 0.60 - ETA: 5s - loss: 0.6587 - recall: 0.60 - ETA: 5s - loss: 0.6587 - recall: 0.60 - ETA: 5s - loss: 0.6586 - recall: 0.60 - ETA: 5s - loss: 0.6586 - recall: 0.60 - ETA: 5s - loss: 0.6586 - recall: 0.60 - ETA: 5s - loss: 0.6585 - recall: 0.60 - ETA: 5s - loss: 0.6585 - recall: 0.60 - ETA: 5s - loss: 0.6584 - recall: 0.60 - ETA: 5s - loss: 0.6584 - recall: 0.60 - ETA: 5s - loss: 0.6585 - recall: 0.60 - ETA: 5s - loss: 0.6585 - recall: 0.60 - ETA: 5s - loss: 0.6585 - recall: 0.60 - ETA: 5s - loss: 0.6585 - recall: 0.60 - ETA: 5s - loss: 0.6584 - recall: 0.60 - ETA: 5s - loss: 0.6584 - recall: 0.60 - ETA: 5s - loss: 0.6583 - recall: 0.61 - ETA: 4s - loss: 0.6582 - recall: 0.61 - ETA: 4s - loss: 0.6582 - recall: 0.61 - ETA: 4s - loss: 0.6582 - recall: 0.61 - ETA: 4s - loss: 0.6582 - recall: 0.61 - ETA: 4s - loss: 0.6581 - recall: 0.61 - ETA: 4s - loss: 0.6581 - recall: 0.61 - ETA: 4s - loss: 0.6580 - recall: 0.61 - ETA: 4s - loss: 0.6581 - recall: 0.61 - ETA: 4s - loss: 0.6581 - recall: 0.61 - ETA: 4s - loss: 0.6580 - recall: 0.61 - ETA: 4s - loss: 0.6580 - recall: 0.61 - ETA: 4s - loss: 0.6579 - recall: 0.61 - ETA: 4s - loss: 0.6579 - recall: 0.61 - ETA: 4s - loss: 0.6579 - recall: 0.61 - ETA: 4s - loss: 0.6578 - recall: 0.61 - ETA: 4s - loss: 0.6578 - recall: 0.61 - ETA: 4s - loss: 0.6578 - recall: 0.61 - ETA: 3s - loss: 0.6577 - recall: 0.61 - ETA: 3s - loss: 0.6576 - recall: 0.61 - ETA: 3s - loss: 0.6577 - recall: 0.61 - ETA: 3s - loss: 0.6576 - recall: 0.61 - ETA: 3s - loss: 0.6575 - recall: 0.61 - ETA: 3s - loss: 0.6576 - recall: 0.61 - ETA: 3s - loss: 0.6576 - recall: 0.61 - ETA: 3s - loss: 0.6577 - recall: 0.61 - ETA: 3s - loss: 0.6577 - recall: 0.6107"
     ]
    },
    {
     "name": "stdout",
     "output_type": "stream",
     "text": [
      "59934/59934 [==============================] - ETA: 3s - loss: 0.6577 - recall: 0.61 - ETA: 3s - loss: 0.6577 - recall: 0.61 - ETA: 3s - loss: 0.6577 - recall: 0.61 - ETA: 3s - loss: 0.6577 - recall: 0.61 - ETA: 3s - loss: 0.6577 - recall: 0.61 - ETA: 3s - loss: 0.6577 - recall: 0.61 - ETA: 3s - loss: 0.6578 - recall: 0.61 - ETA: 3s - loss: 0.6578 - recall: 0.61 - ETA: 2s - loss: 0.6577 - recall: 0.61 - ETA: 2s - loss: 0.6576 - recall: 0.61 - ETA: 2s - loss: 0.6576 - recall: 0.61 - ETA: 2s - loss: 0.6575 - recall: 0.61 - ETA: 2s - loss: 0.6574 - recall: 0.61 - ETA: 2s - loss: 0.6574 - recall: 0.61 - ETA: 2s - loss: 0.6573 - recall: 0.61 - ETA: 2s - loss: 0.6573 - recall: 0.61 - ETA: 2s - loss: 0.6574 - recall: 0.61 - ETA: 2s - loss: 0.6574 - recall: 0.61 - ETA: 2s - loss: 0.6573 - recall: 0.61 - ETA: 2s - loss: 0.6573 - recall: 0.61 - ETA: 2s - loss: 0.6573 - recall: 0.61 - ETA: 2s - loss: 0.6573 - recall: 0.61 - ETA: 2s - loss: 0.6573 - recall: 0.61 - ETA: 2s - loss: 0.6574 - recall: 0.61 - ETA: 2s - loss: 0.6574 - recall: 0.61 - ETA: 1s - loss: 0.6574 - recall: 0.61 - ETA: 1s - loss: 0.6573 - recall: 0.61 - ETA: 1s - loss: 0.6573 - recall: 0.61 - ETA: 1s - loss: 0.6574 - recall: 0.61 - ETA: 1s - loss: 0.6573 - recall: 0.61 - ETA: 1s - loss: 0.6572 - recall: 0.61 - ETA: 1s - loss: 0.6572 - recall: 0.61 - ETA: 1s - loss: 0.6573 - recall: 0.61 - ETA: 1s - loss: 0.6572 - recall: 0.61 - ETA: 1s - loss: 0.6573 - recall: 0.61 - ETA: 1s - loss: 0.6572 - recall: 0.61 - ETA: 1s - loss: 0.6572 - recall: 0.61 - ETA: 1s - loss: 0.6571 - recall: 0.61 - ETA: 1s - loss: 0.6571 - recall: 0.61 - ETA: 1s - loss: 0.6571 - recall: 0.61 - ETA: 1s - loss: 0.6570 - recall: 0.61 - ETA: 0s - loss: 0.6571 - recall: 0.61 - ETA: 0s - loss: 0.6572 - recall: 0.61 - ETA: 0s - loss: 0.6571 - recall: 0.61 - ETA: 0s - loss: 0.6572 - recall: 0.61 - ETA: 0s - loss: 0.6572 - recall: 0.61 - ETA: 0s - loss: 0.6571 - recall: 0.61 - ETA: 0s - loss: 0.6571 - recall: 0.61 - ETA: 0s - loss: 0.6571 - recall: 0.61 - ETA: 0s - loss: 0.6571 - recall: 0.61 - ETA: 0s - loss: 0.6571 - recall: 0.61 - ETA: 0s - loss: 0.6571 - recall: 0.61 - ETA: 0s - loss: 0.6570 - recall: 0.61 - ETA: 0s - loss: 0.6571 - recall: 0.61 - ETA: 0s - loss: 0.6570 - recall: 0.61 - ETA: 0s - loss: 0.6570 - recall: 0.61 - 40s 672us/sample - loss: 0.6569 - recall: 0.6123 - val_loss: 0.7907 - val_recall: 0.1742\n",
      "Epoch 3/5\n"
     ]
    },
    {
     "name": "stdout",
     "output_type": "stream",
     "text": [
      "16704/59934 [=======>......................] - ETA: 41s - loss: 0.6049 - recall: 0.781 - ETA: 38s - loss: 0.6869 - recall: 0.648 - ETA: 37s - loss: 0.6735 - recall: 0.629 - ETA: 37s - loss: 0.6542 - recall: 0.653 - ETA: 37s - loss: 0.6474 - recall: 0.656 - ETA: 37s - loss: 0.6380 - recall: 0.664 - ETA: 37s - loss: 0.6395 - recall: 0.654 - ETA: 38s - loss: 0.6469 - recall: 0.649 - ETA: 38s - loss: 0.6508 - recall: 0.638 - ETA: 38s - loss: 0.6474 - recall: 0.646 - ETA: 38s - loss: 0.6497 - recall: 0.638 - ETA: 38s - loss: 0.6512 - recall: 0.628 - ETA: 38s - loss: 0.6477 - recall: 0.630 - ETA: 38s - loss: 0.6511 - recall: 0.620 - ETA: 38s - loss: 0.6502 - recall: 0.620 - ETA: 38s - loss: 0.6501 - recall: 0.623 - ETA: 38s - loss: 0.6498 - recall: 0.622 - ETA: 38s - loss: 0.6482 - recall: 0.623 - ETA: 38s - loss: 0.6480 - recall: 0.622 - ETA: 38s - loss: 0.6485 - recall: 0.621 - ETA: 37s - loss: 0.6483 - recall: 0.624 - ETA: 37s - loss: 0.6494 - recall: 0.622 - ETA: 37s - loss: 0.6481 - recall: 0.623 - ETA: 37s - loss: 0.6472 - recall: 0.627 - ETA: 37s - loss: 0.6486 - recall: 0.629 - ETA: 37s - loss: 0.6488 - recall: 0.632 - ETA: 36s - loss: 0.6486 - recall: 0.634 - ETA: 36s - loss: 0.6485 - recall: 0.634 - ETA: 36s - loss: 0.6484 - recall: 0.633 - ETA: 36s - loss: 0.6487 - recall: 0.633 - ETA: 36s - loss: 0.6485 - recall: 0.633 - ETA: 36s - loss: 0.6484 - recall: 0.633 - ETA: 36s - loss: 0.6489 - recall: 0.630 - ETA: 36s - loss: 0.6474 - recall: 0.632 - ETA: 36s - loss: 0.6467 - recall: 0.634 - ETA: 36s - loss: 0.6470 - recall: 0.633 - ETA: 36s - loss: 0.6464 - recall: 0.633 - ETA: 36s - loss: 0.6474 - recall: 0.632 - ETA: 36s - loss: 0.6492 - recall: 0.631 - ETA: 35s - loss: 0.6500 - recall: 0.630 - ETA: 35s - loss: 0.6491 - recall: 0.632 - ETA: 35s - loss: 0.6491 - recall: 0.631 - ETA: 35s - loss: 0.6487 - recall: 0.632 - ETA: 35s - loss: 0.6496 - recall: 0.629 - ETA: 35s - loss: 0.6494 - recall: 0.629 - ETA: 35s - loss: 0.6493 - recall: 0.628 - ETA: 35s - loss: 0.6494 - recall: 0.627 - ETA: 36s - loss: 0.6496 - recall: 0.626 - ETA: 36s - loss: 0.6492 - recall: 0.625 - ETA: 35s - loss: 0.6497 - recall: 0.626 - ETA: 35s - loss: 0.6492 - recall: 0.626 - ETA: 35s - loss: 0.6497 - recall: 0.624 - ETA: 35s - loss: 0.6490 - recall: 0.624 - ETA: 35s - loss: 0.6491 - recall: 0.626 - ETA: 35s - loss: 0.6490 - recall: 0.625 - ETA: 35s - loss: 0.6495 - recall: 0.625 - ETA: 35s - loss: 0.6493 - recall: 0.624 - ETA: 35s - loss: 0.6505 - recall: 0.622 - ETA: 35s - loss: 0.6503 - recall: 0.621 - ETA: 35s - loss: 0.6498 - recall: 0.623 - ETA: 35s - loss: 0.6491 - recall: 0.624 - ETA: 34s - loss: 0.6488 - recall: 0.624 - ETA: 34s - loss: 0.6486 - recall: 0.624 - ETA: 34s - loss: 0.6482 - recall: 0.624 - ETA: 34s - loss: 0.6480 - recall: 0.625 - ETA: 34s - loss: 0.6483 - recall: 0.624 - ETA: 34s - loss: 0.6485 - recall: 0.624 - ETA: 34s - loss: 0.6487 - recall: 0.624 - ETA: 34s - loss: 0.6482 - recall: 0.625 - ETA: 34s - loss: 0.6477 - recall: 0.625 - ETA: 34s - loss: 0.6488 - recall: 0.624 - ETA: 34s - loss: 0.6487 - recall: 0.624 - ETA: 34s - loss: 0.6488 - recall: 0.624 - ETA: 34s - loss: 0.6479 - recall: 0.626 - ETA: 34s - loss: 0.6476 - recall: 0.626 - ETA: 34s - loss: 0.6479 - recall: 0.626 - ETA: 34s - loss: 0.6482 - recall: 0.625 - ETA: 34s - loss: 0.6479 - recall: 0.625 - ETA: 34s - loss: 0.6474 - recall: 0.626 - ETA: 34s - loss: 0.6475 - recall: 0.626 - ETA: 34s - loss: 0.6477 - recall: 0.625 - ETA: 34s - loss: 0.6474 - recall: 0.626 - ETA: 34s - loss: 0.6473 - recall: 0.626 - ETA: 34s - loss: 0.6475 - recall: 0.625 - ETA: 34s - loss: 0.6481 - recall: 0.625 - ETA: 34s - loss: 0.6483 - recall: 0.625 - ETA: 34s - loss: 0.6484 - recall: 0.624 - ETA: 34s - loss: 0.6483 - recall: 0.624 - ETA: 34s - loss: 0.6480 - recall: 0.625 - ETA: 34s - loss: 0.6477 - recall: 0.625 - ETA: 34s - loss: 0.6480 - recall: 0.625 - ETA: 34s - loss: 0.6480 - recall: 0.624 - ETA: 34s - loss: 0.6482 - recall: 0.624 - ETA: 34s - loss: 0.6477 - recall: 0.625 - ETA: 34s - loss: 0.6475 - recall: 0.626 - ETA: 34s - loss: 0.6467 - recall: 0.627 - ETA: 34s - loss: 0.6467 - recall: 0.627 - ETA: 34s - loss: 0.6468 - recall: 0.627 - ETA: 34s - loss: 0.6467 - recall: 0.627 - ETA: 34s - loss: 0.6472 - recall: 0.626 - ETA: 34s - loss: 0.6470 - recall: 0.627 - ETA: 34s - loss: 0.6473 - recall: 0.626 - ETA: 34s - loss: 0.6469 - recall: 0.627 - ETA: 34s - loss: 0.6466 - recall: 0.627 - ETA: 34s - loss: 0.6467 - recall: 0.627 - ETA: 34s - loss: 0.6467 - recall: 0.627 - ETA: 34s - loss: 0.6463 - recall: 0.628 - ETA: 34s - loss: 0.6462 - recall: 0.629 - ETA: 34s - loss: 0.6465 - recall: 0.628 - ETA: 34s - loss: 0.6466 - recall: 0.628 - ETA: 34s - loss: 0.6469 - recall: 0.628 - ETA: 34s - loss: 0.6471 - recall: 0.628 - ETA: 34s - loss: 0.6471 - recall: 0.627 - ETA: 34s - loss: 0.6471 - recall: 0.627 - ETA: 34s - loss: 0.6475 - recall: 0.627 - ETA: 34s - loss: 0.6476 - recall: 0.627 - ETA: 34s - loss: 0.6479 - recall: 0.627 - ETA: 34s - loss: 0.6479 - recall: 0.627 - ETA: 34s - loss: 0.6477 - recall: 0.627 - ETA: 34s - loss: 0.6475 - recall: 0.627 - ETA: 34s - loss: 0.6475 - recall: 0.627 - ETA: 34s - loss: 0.6472 - recall: 0.627 - ETA: 34s - loss: 0.6473 - recall: 0.627 - ETA: 34s - loss: 0.6478 - recall: 0.627 - ETA: 34s - loss: 0.6476 - recall: 0.627 - ETA: 34s - loss: 0.6476 - recall: 0.627 - ETA: 34s - loss: 0.6475 - recall: 0.627 - ETA: 34s - loss: 0.6475 - recall: 0.627 - ETA: 34s - loss: 0.6473 - recall: 0.627 - ETA: 34s - loss: 0.6472 - recall: 0.627 - ETA: 34s - loss: 0.6471 - recall: 0.628 - ETA: 34s - loss: 0.6470 - recall: 0.627 - ETA: 34s - loss: 0.6473 - recall: 0.627 - ETA: 34s - loss: 0.6472 - recall: 0.627 - ETA: 34s - loss: 0.6474 - recall: 0.627 - ETA: 34s - loss: 0.6474 - recall: 0.627 - ETA: 34s - loss: 0.6475 - recall: 0.627 - ETA: 34s - loss: 0.6474 - recall: 0.627 - ETA: 34s - loss: 0.6472 - recall: 0.627 - ETA: 34s - loss: 0.6473 - recall: 0.626 - ETA: 34s - loss: 0.6472 - recall: 0.626 - ETA: 34s - loss: 0.6470 - recall: 0.627 - ETA: 34s - loss: 0.6468 - recall: 0.626 - ETA: 34s - loss: 0.6466 - recall: 0.627 - ETA: 34s - loss: 0.6466 - recall: 0.626 - ETA: 34s - loss: 0.6461 - recall: 0.627 - ETA: 34s - loss: 0.6460 - recall: 0.627 - ETA: 33s - loss: 0.6460 - recall: 0.628 - ETA: 33s - loss: 0.6457 - recall: 0.628 - ETA: 33s - loss: 0.6452 - recall: 0.628 - ETA: 33s - loss: 0.6454 - recall: 0.628 - ETA: 33s - loss: 0.6457 - recall: 0.628 - ETA: 33s - loss: 0.6452 - recall: 0.628 - ETA: 33s - loss: 0.6455 - recall: 0.628 - ETA: 33s - loss: 0.6455 - recall: 0.629 - ETA: 33s - loss: 0.6456 - recall: 0.628 - ETA: 33s - loss: 0.6455 - recall: 0.629 - ETA: 33s - loss: 0.6453 - recall: 0.629 - ETA: 33s - loss: 0.6453 - recall: 0.628 - ETA: 33s - loss: 0.6455 - recall: 0.628 - ETA: 32s - loss: 0.6457 - recall: 0.628 - ETA: 32s - loss: 0.6458 - recall: 0.627 - ETA: 32s - loss: 0.6457 - recall: 0.628 - ETA: 32s - loss: 0.6457 - recall: 0.628 - ETA: 32s - loss: 0.6458 - recall: 0.628 - ETA: 32s - loss: 0.6457 - recall: 0.628 - ETA: 32s - loss: 0.6458 - recall: 0.628 - ETA: 32s - loss: 0.6460 - recall: 0.627 - ETA: 32s - loss: 0.6462 - recall: 0.627 - ETA: 32s - loss: 0.6461 - recall: 0.627 - ETA: 32s - loss: 0.6462 - recall: 0.627 - ETA: 32s - loss: 0.6462 - recall: 0.627 - ETA: 31s - loss: 0.6462 - recall: 0.627 - ETA: 31s - loss: 0.6462 - recall: 0.628 - ETA: 31s - loss: 0.6464 - recall: 0.627 - ETA: 31s - loss: 0.6465 - recall: 0.627 - ETA: 31s - loss: 0.6467 - recall: 0.627 - ETA: 31s - loss: 0.6466 - recall: 0.627 - ETA: 31s - loss: 0.6466 - recall: 0.627 - ETA: 31s - loss: 0.6466 - recall: 0.627 - ETA: 31s - loss: 0.6465 - recall: 0.627 - ETA: 31s - loss: 0.6463 - recall: 0.627 - ETA: 31s - loss: 0.6465 - recall: 0.627 - ETA: 30s - loss: 0.6463 - recall: 0.627 - ETA: 30s - loss: 0.6461 - recall: 0.628 - ETA: 30s - loss: 0.6463 - recall: 0.627 - ETA: 30s - loss: 0.6463 - recall: 0.627 - ETA: 30s - loss: 0.6463 - recall: 0.627 - ETA: 30s - loss: 0.6462 - recall: 0.628 - ETA: 30s - loss: 0.6462 - recall: 0.628 - ETA: 30s - loss: 0.6462 - recall: 0.628 - ETA: 30s - loss: 0.6461 - recall: 0.628 - ETA: 30s - loss: 0.6462 - recall: 0.628 - ETA: 30s - loss: 0.6460 - recall: 0.628434624/59934 [================>.............] - ETA: 30s - loss: 0.6458 - recall: 0.628 - ETA: 29s - loss: 0.6457 - recall: 0.628 - ETA: 29s - loss: 0.6458 - recall: 0.628 - ETA: 29s - loss: 0.6460 - recall: 0.628 - ETA: 29s - loss: 0.6459 - recall: 0.628 - ETA: 29s - loss: 0.6459 - recall: 0.628 - ETA: 29s - loss: 0.6457 - recall: 0.628 - ETA: 29s - loss: 0.6456 - recall: 0.628 - ETA: 29s - loss: 0.6454 - recall: 0.629 - ETA: 29s - loss: 0.6454 - recall: 0.628 - ETA: 29s - loss: 0.6457 - recall: 0.628 - ETA: 29s - loss: 0.6456 - recall: 0.628 - ETA: 29s - loss: 0.6456 - recall: 0.628 - ETA: 28s - loss: 0.6455 - recall: 0.628 - ETA: 28s - loss: 0.6456 - recall: 0.627 - ETA: 28s - loss: 0.6453 - recall: 0.628 - ETA: 28s - loss: 0.6452 - recall: 0.628 - ETA: 28s - loss: 0.6451 - recall: 0.628 - ETA: 28s - loss: 0.6448 - recall: 0.628 - ETA: 28s - loss: 0.6447 - recall: 0.629 - ETA: 28s - loss: 0.6448 - recall: 0.629 - ETA: 28s - loss: 0.6447 - recall: 0.629 - ETA: 28s - loss: 0.6448 - recall: 0.629 - ETA: 28s - loss: 0.6449 - recall: 0.629 - ETA: 28s - loss: 0.6446 - recall: 0.629 - ETA: 28s - loss: 0.6446 - recall: 0.629 - ETA: 28s - loss: 0.6446 - recall: 0.629 - ETA: 28s - loss: 0.6445 - recall: 0.629 - ETA: 27s - loss: 0.6445 - recall: 0.629 - ETA: 27s - loss: 0.6448 - recall: 0.629 - ETA: 27s - loss: 0.6447 - recall: 0.629 - ETA: 27s - loss: 0.6448 - recall: 0.628 - ETA: 27s - loss: 0.6446 - recall: 0.629 - ETA: 27s - loss: 0.6447 - recall: 0.628 - ETA: 27s - loss: 0.6446 - recall: 0.629 - ETA: 27s - loss: 0.6447 - recall: 0.629 - ETA: 27s - loss: 0.6447 - recall: 0.629 - ETA: 27s - loss: 0.6446 - recall: 0.629 - ETA: 27s - loss: 0.6448 - recall: 0.628 - ETA: 27s - loss: 0.6449 - recall: 0.628 - ETA: 27s - loss: 0.6446 - recall: 0.629 - ETA: 27s - loss: 0.6445 - recall: 0.629 - ETA: 27s - loss: 0.6444 - recall: 0.629 - ETA: 26s - loss: 0.6444 - recall: 0.629 - ETA: 26s - loss: 0.6445 - recall: 0.629 - ETA: 26s - loss: 0.6445 - recall: 0.629 - ETA: 26s - loss: 0.6442 - recall: 0.629 - ETA: 26s - loss: 0.6442 - recall: 0.629 - ETA: 26s - loss: 0.6440 - recall: 0.629 - ETA: 26s - loss: 0.6440 - recall: 0.630 - ETA: 26s - loss: 0.6437 - recall: 0.630 - ETA: 26s - loss: 0.6437 - recall: 0.630 - ETA: 26s - loss: 0.6438 - recall: 0.629 - ETA: 26s - loss: 0.6439 - recall: 0.629 - ETA: 26s - loss: 0.6437 - recall: 0.630 - ETA: 26s - loss: 0.6437 - recall: 0.630 - ETA: 26s - loss: 0.6436 - recall: 0.630 - ETA: 25s - loss: 0.6438 - recall: 0.630 - ETA: 25s - loss: 0.6437 - recall: 0.630 - ETA: 25s - loss: 0.6435 - recall: 0.630 - ETA: 25s - loss: 0.6435 - recall: 0.630 - ETA: 25s - loss: 0.6434 - recall: 0.630 - ETA: 25s - loss: 0.6434 - recall: 0.630 - ETA: 25s - loss: 0.6431 - recall: 0.630 - ETA: 25s - loss: 0.6431 - recall: 0.630 - ETA: 25s - loss: 0.6432 - recall: 0.630 - ETA: 25s - loss: 0.6433 - recall: 0.630 - ETA: 25s - loss: 0.6435 - recall: 0.630 - ETA: 25s - loss: 0.6435 - recall: 0.630 - ETA: 25s - loss: 0.6436 - recall: 0.630 - ETA: 25s - loss: 0.6435 - recall: 0.630 - ETA: 24s - loss: 0.6436 - recall: 0.630 - ETA: 24s - loss: 0.6436 - recall: 0.630 - ETA: 24s - loss: 0.6437 - recall: 0.630 - ETA: 24s - loss: 0.6437 - recall: 0.630 - ETA: 24s - loss: 0.6438 - recall: 0.630 - ETA: 24s - loss: 0.6439 - recall: 0.630 - ETA: 24s - loss: 0.6440 - recall: 0.629 - ETA: 24s - loss: 0.6442 - recall: 0.629 - ETA: 24s - loss: 0.6444 - recall: 0.629 - ETA: 24s - loss: 0.6445 - recall: 0.629 - ETA: 24s - loss: 0.6443 - recall: 0.629 - ETA: 24s - loss: 0.6442 - recall: 0.629 - ETA: 24s - loss: 0.6444 - recall: 0.629 - ETA: 24s - loss: 0.6444 - recall: 0.629 - ETA: 23s - loss: 0.6445 - recall: 0.629 - ETA: 23s - loss: 0.6442 - recall: 0.629 - ETA: 23s - loss: 0.6443 - recall: 0.629 - ETA: 23s - loss: 0.6442 - recall: 0.629 - ETA: 23s - loss: 0.6442 - recall: 0.629 - ETA: 23s - loss: 0.6442 - recall: 0.629 - ETA: 23s - loss: 0.6443 - recall: 0.629 - ETA: 23s - loss: 0.6442 - recall: 0.629 - ETA: 23s - loss: 0.6442 - recall: 0.629 - ETA: 23s - loss: 0.6442 - recall: 0.628 - ETA: 23s - loss: 0.6441 - recall: 0.629 - ETA: 23s - loss: 0.6442 - recall: 0.629 - ETA: 23s - loss: 0.6442 - recall: 0.629 - ETA: 22s - loss: 0.6442 - recall: 0.628 - ETA: 22s - loss: 0.6441 - recall: 0.628 - ETA: 22s - loss: 0.6441 - recall: 0.629 - ETA: 22s - loss: 0.6441 - recall: 0.629 - ETA: 22s - loss: 0.6441 - recall: 0.628 - ETA: 22s - loss: 0.6440 - recall: 0.628 - ETA: 22s - loss: 0.6439 - recall: 0.629 - ETA: 22s - loss: 0.6439 - recall: 0.629 - ETA: 22s - loss: 0.6438 - recall: 0.629 - ETA: 22s - loss: 0.6440 - recall: 0.628 - ETA: 22s - loss: 0.6438 - recall: 0.629 - ETA: 22s - loss: 0.6435 - recall: 0.629 - ETA: 22s - loss: 0.6437 - recall: 0.629 - ETA: 22s - loss: 0.6437 - recall: 0.629 - ETA: 21s - loss: 0.6436 - recall: 0.629 - ETA: 21s - loss: 0.6433 - recall: 0.629 - ETA: 21s - loss: 0.6432 - recall: 0.629 - ETA: 21s - loss: 0.6432 - recall: 0.629 - ETA: 21s - loss: 0.6431 - recall: 0.630 - ETA: 21s - loss: 0.6430 - recall: 0.630 - ETA: 21s - loss: 0.6430 - recall: 0.630 - ETA: 21s - loss: 0.6431 - recall: 0.630 - ETA: 21s - loss: 0.6431 - recall: 0.630 - ETA: 21s - loss: 0.6433 - recall: 0.630 - ETA: 21s - loss: 0.6432 - recall: 0.630 - ETA: 21s - loss: 0.6432 - recall: 0.629 - ETA: 21s - loss: 0.6432 - recall: 0.629 - ETA: 21s - loss: 0.6431 - recall: 0.629 - ETA: 21s - loss: 0.6432 - recall: 0.629 - ETA: 21s - loss: 0.6433 - recall: 0.629 - ETA: 20s - loss: 0.6432 - recall: 0.629 - ETA: 20s - loss: 0.6432 - recall: 0.629 - ETA: 20s - loss: 0.6431 - recall: 0.629 - ETA: 20s - loss: 0.6431 - recall: 0.629 - ETA: 20s - loss: 0.6430 - recall: 0.630 - ETA: 20s - loss: 0.6430 - recall: 0.630 - ETA: 20s - loss: 0.6430 - recall: 0.630 - ETA: 20s - loss: 0.6429 - recall: 0.630 - ETA: 20s - loss: 0.6429 - recall: 0.630 - ETA: 20s - loss: 0.6428 - recall: 0.631 - ETA: 20s - loss: 0.6427 - recall: 0.631 - ETA: 20s - loss: 0.6426 - recall: 0.631 - ETA: 20s - loss: 0.6427 - recall: 0.630 - ETA: 20s - loss: 0.6426 - recall: 0.631 - ETA: 19s - loss: 0.6427 - recall: 0.630 - ETA: 19s - loss: 0.6428 - recall: 0.630 - ETA: 19s - loss: 0.6428 - recall: 0.630 - ETA: 19s - loss: 0.6428 - recall: 0.631 - ETA: 19s - loss: 0.6429 - recall: 0.630 - ETA: 19s - loss: 0.6429 - recall: 0.630 - ETA: 19s - loss: 0.6427 - recall: 0.631 - ETA: 19s - loss: 0.6428 - recall: 0.631 - ETA: 19s - loss: 0.6427 - recall: 0.631 - ETA: 19s - loss: 0.6426 - recall: 0.631 - ETA: 19s - loss: 0.6425 - recall: 0.631 - ETA: 19s - loss: 0.6425 - recall: 0.631 - ETA: 19s - loss: 0.6425 - recall: 0.631 - ETA: 19s - loss: 0.6425 - recall: 0.631 - ETA: 19s - loss: 0.6425 - recall: 0.631 - ETA: 19s - loss: 0.6424 - recall: 0.631 - ETA: 19s - loss: 0.6423 - recall: 0.631 - ETA: 18s - loss: 0.6422 - recall: 0.631 - ETA: 18s - loss: 0.6423 - recall: 0.631 - ETA: 18s - loss: 0.6422 - recall: 0.631 - ETA: 18s - loss: 0.6421 - recall: 0.631 - ETA: 18s - loss: 0.6421 - recall: 0.631 - ETA: 18s - loss: 0.6421 - recall: 0.631 - ETA: 18s - loss: 0.6422 - recall: 0.631 - ETA: 18s - loss: 0.6420 - recall: 0.631 - ETA: 18s - loss: 0.6421 - recall: 0.631 - ETA: 18s - loss: 0.6419 - recall: 0.631 - ETA: 18s - loss: 0.6418 - recall: 0.631 - ETA: 18s - loss: 0.6418 - recall: 0.631 - ETA: 18s - loss: 0.6419 - recall: 0.631 - ETA: 18s - loss: 0.6418 - recall: 0.632 - ETA: 18s - loss: 0.6419 - recall: 0.631 - ETA: 18s - loss: 0.6419 - recall: 0.631 - ETA: 18s - loss: 0.6418 - recall: 0.631 - ETA: 18s - loss: 0.6419 - recall: 0.632 - ETA: 18s - loss: 0.6416 - recall: 0.632 - ETA: 17s - loss: 0.6416 - recall: 0.632 - ETA: 17s - loss: 0.6415 - recall: 0.632 - ETA: 17s - loss: 0.6414 - recall: 0.632 - ETA: 17s - loss: 0.6414 - recall: 0.632 - ETA: 17s - loss: 0.6414 - recall: 0.632 - ETA: 17s - loss: 0.6413 - recall: 0.632 - ETA: 17s - loss: 0.6412 - recall: 0.633 - ETA: 17s - loss: 0.6412 - recall: 0.632 - ETA: 17s - loss: 0.6410 - recall: 0.633 - ETA: 17s - loss: 0.6411 - recall: 0.633 - ETA: 17s - loss: 0.6412 - recall: 0.633 - ETA: 17s - loss: 0.6411 - recall: 0.633 - ETA: 17s - loss: 0.6412 - recall: 0.633 - ETA: 17s - loss: 0.6412 - recall: 0.633 - ETA: 17s - loss: 0.6412 - recall: 0.633 - ETA: 17s - loss: 0.6412 - recall: 0.6335"
     ]
    },
    {
     "name": "stdout",
     "output_type": "stream",
     "text": [
      "53504/59934 [=========================>....] - ETA: 17s - loss: 0.6412 - recall: 0.633 - ETA: 16s - loss: 0.6412 - recall: 0.633 - ETA: 16s - loss: 0.6412 - recall: 0.633 - ETA: 16s - loss: 0.6411 - recall: 0.633 - ETA: 16s - loss: 0.6412 - recall: 0.633 - ETA: 16s - loss: 0.6413 - recall: 0.633 - ETA: 16s - loss: 0.6414 - recall: 0.633 - ETA: 16s - loss: 0.6413 - recall: 0.633 - ETA: 16s - loss: 0.6412 - recall: 0.632 - ETA: 16s - loss: 0.6414 - recall: 0.632 - ETA: 16s - loss: 0.6414 - recall: 0.632 - ETA: 16s - loss: 0.6415 - recall: 0.632 - ETA: 16s - loss: 0.6415 - recall: 0.632 - ETA: 16s - loss: 0.6414 - recall: 0.632 - ETA: 16s - loss: 0.6413 - recall: 0.632 - ETA: 16s - loss: 0.6413 - recall: 0.632 - ETA: 15s - loss: 0.6411 - recall: 0.633 - ETA: 15s - loss: 0.6411 - recall: 0.632 - ETA: 15s - loss: 0.6411 - recall: 0.632 - ETA: 15s - loss: 0.6409 - recall: 0.633 - ETA: 15s - loss: 0.6410 - recall: 0.632 - ETA: 15s - loss: 0.6410 - recall: 0.632 - ETA: 15s - loss: 0.6411 - recall: 0.632 - ETA: 15s - loss: 0.6411 - recall: 0.632 - ETA: 15s - loss: 0.6410 - recall: 0.632 - ETA: 15s - loss: 0.6411 - recall: 0.632 - ETA: 15s - loss: 0.6411 - recall: 0.632 - ETA: 15s - loss: 0.6411 - recall: 0.632 - ETA: 15s - loss: 0.6409 - recall: 0.632 - ETA: 15s - loss: 0.6410 - recall: 0.632 - ETA: 15s - loss: 0.6409 - recall: 0.632 - ETA: 15s - loss: 0.6409 - recall: 0.632 - ETA: 14s - loss: 0.6407 - recall: 0.633 - ETA: 14s - loss: 0.6408 - recall: 0.632 - ETA: 14s - loss: 0.6407 - recall: 0.632 - ETA: 14s - loss: 0.6408 - recall: 0.632 - ETA: 14s - loss: 0.6408 - recall: 0.632 - ETA: 14s - loss: 0.6408 - recall: 0.633 - ETA: 14s - loss: 0.6407 - recall: 0.632 - ETA: 14s - loss: 0.6407 - recall: 0.632 - ETA: 14s - loss: 0.6406 - recall: 0.633 - ETA: 14s - loss: 0.6407 - recall: 0.633 - ETA: 14s - loss: 0.6406 - recall: 0.633 - ETA: 14s - loss: 0.6406 - recall: 0.633 - ETA: 14s - loss: 0.6405 - recall: 0.633 - ETA: 14s - loss: 0.6403 - recall: 0.633 - ETA: 14s - loss: 0.6403 - recall: 0.633 - ETA: 13s - loss: 0.6403 - recall: 0.633 - ETA: 13s - loss: 0.6406 - recall: 0.633 - ETA: 13s - loss: 0.6404 - recall: 0.633 - ETA: 13s - loss: 0.6404 - recall: 0.633 - ETA: 13s - loss: 0.6403 - recall: 0.633 - ETA: 13s - loss: 0.6403 - recall: 0.633 - ETA: 13s - loss: 0.6402 - recall: 0.633 - ETA: 13s - loss: 0.6402 - recall: 0.633 - ETA: 13s - loss: 0.6403 - recall: 0.633 - ETA: 13s - loss: 0.6403 - recall: 0.633 - ETA: 13s - loss: 0.6403 - recall: 0.633 - ETA: 13s - loss: 0.6403 - recall: 0.633 - ETA: 13s - loss: 0.6402 - recall: 0.633 - ETA: 13s - loss: 0.6402 - recall: 0.633 - ETA: 13s - loss: 0.6402 - recall: 0.633 - ETA: 12s - loss: 0.6401 - recall: 0.633 - ETA: 12s - loss: 0.6400 - recall: 0.634 - ETA: 12s - loss: 0.6400 - recall: 0.634 - ETA: 12s - loss: 0.6399 - recall: 0.634 - ETA: 12s - loss: 0.6399 - recall: 0.634 - ETA: 12s - loss: 0.6401 - recall: 0.634 - ETA: 12s - loss: 0.6402 - recall: 0.634 - ETA: 12s - loss: 0.6400 - recall: 0.634 - ETA: 12s - loss: 0.6401 - recall: 0.634 - ETA: 12s - loss: 0.6401 - recall: 0.634 - ETA: 12s - loss: 0.6400 - recall: 0.634 - ETA: 12s - loss: 0.6399 - recall: 0.634 - ETA: 12s - loss: 0.6399 - recall: 0.634 - ETA: 12s - loss: 0.6400 - recall: 0.634 - ETA: 12s - loss: 0.6401 - recall: 0.634 - ETA: 11s - loss: 0.6400 - recall: 0.634 - ETA: 11s - loss: 0.6400 - recall: 0.634 - ETA: 11s - loss: 0.6400 - recall: 0.634 - ETA: 11s - loss: 0.6400 - recall: 0.634 - ETA: 11s - loss: 0.6401 - recall: 0.634 - ETA: 11s - loss: 0.6402 - recall: 0.634 - ETA: 11s - loss: 0.6403 - recall: 0.634 - ETA: 11s - loss: 0.6403 - recall: 0.634 - ETA: 11s - loss: 0.6404 - recall: 0.634 - ETA: 11s - loss: 0.6404 - recall: 0.634 - ETA: 11s - loss: 0.6404 - recall: 0.634 - ETA: 11s - loss: 0.6405 - recall: 0.634 - ETA: 11s - loss: 0.6404 - recall: 0.634 - ETA: 11s - loss: 0.6404 - recall: 0.634 - ETA: 11s - loss: 0.6403 - recall: 0.634 - ETA: 10s - loss: 0.6403 - recall: 0.634 - ETA: 10s - loss: 0.6403 - recall: 0.634 - ETA: 10s - loss: 0.6402 - recall: 0.634 - ETA: 10s - loss: 0.6402 - recall: 0.634 - ETA: 10s - loss: 0.6403 - recall: 0.634 - ETA: 10s - loss: 0.6402 - recall: 0.634 - ETA: 10s - loss: 0.6402 - recall: 0.634 - ETA: 10s - loss: 0.6402 - recall: 0.634 - ETA: 10s - loss: 0.6404 - recall: 0.634 - ETA: 10s - loss: 0.6404 - recall: 0.634 - ETA: 10s - loss: 0.6404 - recall: 0.634 - ETA: 10s - loss: 0.6404 - recall: 0.634 - ETA: 10s - loss: 0.6405 - recall: 0.634 - ETA: 10s - loss: 0.6405 - recall: 0.634 - ETA: 10s - loss: 0.6405 - recall: 0.634 - ETA: 10s - loss: 0.6404 - recall: 0.634 - ETA: 9s - loss: 0.6403 - recall: 0.634 - ETA: 9s - loss: 0.6404 - recall: 0.63 - ETA: 9s - loss: 0.6403 - recall: 0.63 - ETA: 9s - loss: 0.6403 - recall: 0.63 - ETA: 9s - loss: 0.6403 - recall: 0.63 - ETA: 9s - loss: 0.6403 - recall: 0.63 - ETA: 9s - loss: 0.6403 - recall: 0.63 - ETA: 9s - loss: 0.6401 - recall: 0.63 - ETA: 9s - loss: 0.6401 - recall: 0.63 - ETA: 9s - loss: 0.6400 - recall: 0.63 - ETA: 9s - loss: 0.6401 - recall: 0.63 - ETA: 9s - loss: 0.6400 - recall: 0.63 - ETA: 9s - loss: 0.6399 - recall: 0.63 - ETA: 9s - loss: 0.6401 - recall: 0.63 - ETA: 9s - loss: 0.6400 - recall: 0.63 - ETA: 8s - loss: 0.6399 - recall: 0.63 - ETA: 8s - loss: 0.6398 - recall: 0.63 - ETA: 8s - loss: 0.6398 - recall: 0.63 - ETA: 8s - loss: 0.6397 - recall: 0.63 - ETA: 8s - loss: 0.6397 - recall: 0.63 - ETA: 8s - loss: 0.6396 - recall: 0.63 - ETA: 8s - loss: 0.6396 - recall: 0.63 - ETA: 8s - loss: 0.6394 - recall: 0.63 - ETA: 8s - loss: 0.6394 - recall: 0.63 - ETA: 8s - loss: 0.6395 - recall: 0.63 - ETA: 8s - loss: 0.6395 - recall: 0.63 - ETA: 8s - loss: 0.6395 - recall: 0.63 - ETA: 8s - loss: 0.6395 - recall: 0.63 - ETA: 8s - loss: 0.6395 - recall: 0.63 - ETA: 8s - loss: 0.6395 - recall: 0.63 - ETA: 8s - loss: 0.6394 - recall: 0.63 - ETA: 7s - loss: 0.6394 - recall: 0.63 - ETA: 7s - loss: 0.6394 - recall: 0.63 - ETA: 7s - loss: 0.6394 - recall: 0.63 - ETA: 7s - loss: 0.6394 - recall: 0.63 - ETA: 7s - loss: 0.6394 - recall: 0.63 - ETA: 7s - loss: 0.6394 - recall: 0.63 - ETA: 7s - loss: 0.6393 - recall: 0.63 - ETA: 7s - loss: 0.6393 - recall: 0.63 - ETA: 7s - loss: 0.6393 - recall: 0.63 - ETA: 7s - loss: 0.6393 - recall: 0.63 - ETA: 7s - loss: 0.6393 - recall: 0.63 - ETA: 7s - loss: 0.6392 - recall: 0.63 - ETA: 7s - loss: 0.6392 - recall: 0.63 - ETA: 7s - loss: 0.6393 - recall: 0.63 - ETA: 7s - loss: 0.6392 - recall: 0.63 - ETA: 6s - loss: 0.6391 - recall: 0.63 - ETA: 6s - loss: 0.6391 - recall: 0.63 - ETA: 6s - loss: 0.6391 - recall: 0.63 - ETA: 6s - loss: 0.6390 - recall: 0.63 - ETA: 6s - loss: 0.6390 - recall: 0.63 - ETA: 6s - loss: 0.6390 - recall: 0.63 - ETA: 6s - loss: 0.6389 - recall: 0.63 - ETA: 6s - loss: 0.6389 - recall: 0.63 - ETA: 6s - loss: 0.6389 - recall: 0.63 - ETA: 6s - loss: 0.6390 - recall: 0.63 - ETA: 6s - loss: 0.6390 - recall: 0.63 - ETA: 6s - loss: 0.6390 - recall: 0.63 - ETA: 6s - loss: 0.6389 - recall: 0.63 - ETA: 6s - loss: 0.6390 - recall: 0.63 - ETA: 6s - loss: 0.6390 - recall: 0.63 - ETA: 6s - loss: 0.6390 - recall: 0.63 - ETA: 5s - loss: 0.6389 - recall: 0.63 - ETA: 5s - loss: 0.6390 - recall: 0.63 - ETA: 5s - loss: 0.6389 - recall: 0.63 - ETA: 5s - loss: 0.6389 - recall: 0.63 - ETA: 5s - loss: 0.6390 - recall: 0.63 - ETA: 5s - loss: 0.6389 - recall: 0.63 - ETA: 5s - loss: 0.6390 - recall: 0.63 - ETA: 5s - loss: 0.6390 - recall: 0.63 - ETA: 5s - loss: 0.6390 - recall: 0.63 - ETA: 5s - loss: 0.6390 - recall: 0.63 - ETA: 5s - loss: 0.6391 - recall: 0.63 - ETA: 5s - loss: 0.6391 - recall: 0.63 - ETA: 5s - loss: 0.6390 - recall: 0.63 - ETA: 5s - loss: 0.6390 - recall: 0.63 - ETA: 5s - loss: 0.6390 - recall: 0.63 - ETA: 5s - loss: 0.6391 - recall: 0.63 - ETA: 4s - loss: 0.6391 - recall: 0.63 - ETA: 4s - loss: 0.6392 - recall: 0.63 - ETA: 4s - loss: 0.6392 - recall: 0.63 - ETA: 4s - loss: 0.6391 - recall: 0.63 - ETA: 4s - loss: 0.6392 - recall: 0.63 - ETA: 4s - loss: 0.6391 - recall: 0.63 - ETA: 4s - loss: 0.6391 - recall: 0.63 - ETA: 4s - loss: 0.6392 - recall: 0.63 - ETA: 4s - loss: 0.6393 - recall: 0.63 - ETA: 4s - loss: 0.6392 - recall: 0.63 - ETA: 4s - loss: 0.6392 - recall: 0.63 - ETA: 4s - loss: 0.6392 - recall: 0.63 - ETA: 4s - loss: 0.6393 - recall: 0.6351"
     ]
    },
    {
     "name": "stdout",
     "output_type": "stream",
     "text": [
      "59934/59934 [==============================] - ETA: 4s - loss: 0.6393 - recall: 0.63 - ETA: 4s - loss: 0.6392 - recall: 0.63 - ETA: 4s - loss: 0.6393 - recall: 0.63 - ETA: 3s - loss: 0.6392 - recall: 0.63 - ETA: 3s - loss: 0.6392 - recall: 0.63 - ETA: 3s - loss: 0.6392 - recall: 0.63 - ETA: 3s - loss: 0.6392 - recall: 0.63 - ETA: 3s - loss: 0.6392 - recall: 0.63 - ETA: 3s - loss: 0.6392 - recall: 0.63 - ETA: 3s - loss: 0.6392 - recall: 0.63 - ETA: 3s - loss: 0.6393 - recall: 0.63 - ETA: 3s - loss: 0.6392 - recall: 0.63 - ETA: 3s - loss: 0.6391 - recall: 0.63 - ETA: 3s - loss: 0.6391 - recall: 0.63 - ETA: 3s - loss: 0.6391 - recall: 0.63 - ETA: 3s - loss: 0.6391 - recall: 0.63 - ETA: 3s - loss: 0.6391 - recall: 0.63 - ETA: 3s - loss: 0.6391 - recall: 0.63 - ETA: 3s - loss: 0.6391 - recall: 0.63 - ETA: 2s - loss: 0.6392 - recall: 0.63 - ETA: 2s - loss: 0.6391 - recall: 0.63 - ETA: 2s - loss: 0.6391 - recall: 0.63 - ETA: 2s - loss: 0.6392 - recall: 0.63 - ETA: 2s - loss: 0.6390 - recall: 0.63 - ETA: 2s - loss: 0.6391 - recall: 0.63 - ETA: 2s - loss: 0.6390 - recall: 0.63 - ETA: 2s - loss: 0.6390 - recall: 0.63 - ETA: 2s - loss: 0.6390 - recall: 0.63 - ETA: 2s - loss: 0.6389 - recall: 0.63 - ETA: 2s - loss: 0.6389 - recall: 0.63 - ETA: 2s - loss: 0.6388 - recall: 0.63 - ETA: 2s - loss: 0.6389 - recall: 0.63 - ETA: 2s - loss: 0.6388 - recall: 0.63 - ETA: 2s - loss: 0.6388 - recall: 0.63 - ETA: 2s - loss: 0.6388 - recall: 0.63 - ETA: 1s - loss: 0.6388 - recall: 0.63 - ETA: 1s - loss: 0.6389 - recall: 0.63 - ETA: 1s - loss: 0.6390 - recall: 0.63 - ETA: 1s - loss: 0.6389 - recall: 0.63 - ETA: 1s - loss: 0.6390 - recall: 0.63 - ETA: 1s - loss: 0.6390 - recall: 0.63 - ETA: 1s - loss: 0.6389 - recall: 0.63 - ETA: 1s - loss: 0.6389 - recall: 0.63 - ETA: 1s - loss: 0.6389 - recall: 0.63 - ETA: 1s - loss: 0.6390 - recall: 0.63 - ETA: 1s - loss: 0.6390 - recall: 0.63 - ETA: 1s - loss: 0.6390 - recall: 0.63 - ETA: 1s - loss: 0.6389 - recall: 0.63 - ETA: 1s - loss: 0.6390 - recall: 0.63 - ETA: 1s - loss: 0.6389 - recall: 0.63 - ETA: 1s - loss: 0.6389 - recall: 0.63 - ETA: 1s - loss: 0.6389 - recall: 0.63 - ETA: 0s - loss: 0.6388 - recall: 0.63 - ETA: 0s - loss: 0.6389 - recall: 0.63 - ETA: 0s - loss: 0.6391 - recall: 0.63 - ETA: 0s - loss: 0.6392 - recall: 0.63 - ETA: 0s - loss: 0.6392 - recall: 0.63 - ETA: 0s - loss: 0.6393 - recall: 0.63 - ETA: 0s - loss: 0.6392 - recall: 0.63 - ETA: 0s - loss: 0.6392 - recall: 0.63 - ETA: 0s - loss: 0.6391 - recall: 0.63 - ETA: 0s - loss: 0.6391 - recall: 0.63 - ETA: 0s - loss: 0.6390 - recall: 0.63 - ETA: 0s - loss: 0.6390 - recall: 0.63 - ETA: 0s - loss: 0.6390 - recall: 0.63 - ETA: 0s - loss: 0.6389 - recall: 0.63 - ETA: 0s - loss: 0.6389 - recall: 0.63 - ETA: 0s - loss: 0.6389 - recall: 0.63 - ETA: 0s - loss: 0.6389 - recall: 0.63 - 40s 674us/sample - loss: 0.6389 - recall: 0.6346 - val_loss: 0.8216 - val_recall: 0.1588\n",
      "Epoch 4/5\n"
     ]
    },
    {
     "name": "stdout",
     "output_type": "stream",
     "text": [
      "18400/59934 [========>.....................] - ETA: 44s - loss: 0.6503 - recall: 0.656 - ETA: 42s - loss: 0.6181 - recall: 0.664 - ETA: 40s - loss: 0.6104 - recall: 0.656 - ETA: 38s - loss: 0.6251 - recall: 0.646 - ETA: 38s - loss: 0.6175 - recall: 0.656 - ETA: 38s - loss: 0.6165 - recall: 0.660 - ETA: 38s - loss: 0.6121 - recall: 0.661 - ETA: 38s - loss: 0.6169 - recall: 0.653 - ETA: 37s - loss: 0.6190 - recall: 0.647 - ETA: 37s - loss: 0.6193 - recall: 0.652 - ETA: 37s - loss: 0.6265 - recall: 0.650 - ETA: 37s - loss: 0.6221 - recall: 0.653 - ETA: 37s - loss: 0.6217 - recall: 0.652 - ETA: 37s - loss: 0.6189 - recall: 0.653 - ETA: 37s - loss: 0.6229 - recall: 0.653 - ETA: 37s - loss: 0.6230 - recall: 0.650 - ETA: 37s - loss: 0.6195 - recall: 0.656 - ETA: 37s - loss: 0.6176 - recall: 0.660 - ETA: 37s - loss: 0.6203 - recall: 0.658 - ETA: 37s - loss: 0.6195 - recall: 0.656 - ETA: 37s - loss: 0.6190 - recall: 0.659 - ETA: 37s - loss: 0.6221 - recall: 0.657 - ETA: 36s - loss: 0.6209 - recall: 0.659 - ETA: 36s - loss: 0.6245 - recall: 0.655 - ETA: 36s - loss: 0.6281 - recall: 0.652 - ETA: 36s - loss: 0.6284 - recall: 0.652 - ETA: 36s - loss: 0.6291 - recall: 0.651 - ETA: 36s - loss: 0.6299 - recall: 0.649 - ETA: 36s - loss: 0.6308 - recall: 0.647 - ETA: 36s - loss: 0.6317 - recall: 0.645 - ETA: 36s - loss: 0.6339 - recall: 0.642 - ETA: 36s - loss: 0.6348 - recall: 0.640 - ETA: 36s - loss: 0.6350 - recall: 0.638 - ETA: 35s - loss: 0.6339 - recall: 0.639 - ETA: 35s - loss: 0.6338 - recall: 0.640 - ETA: 35s - loss: 0.6337 - recall: 0.641 - ETA: 35s - loss: 0.6324 - recall: 0.643 - ETA: 35s - loss: 0.6316 - recall: 0.644 - ETA: 35s - loss: 0.6321 - recall: 0.643 - ETA: 35s - loss: 0.6312 - recall: 0.643 - ETA: 35s - loss: 0.6292 - recall: 0.646 - ETA: 35s - loss: 0.6295 - recall: 0.646 - ETA: 35s - loss: 0.6293 - recall: 0.645 - ETA: 35s - loss: 0.6293 - recall: 0.644 - ETA: 35s - loss: 0.6288 - recall: 0.645 - ETA: 35s - loss: 0.6306 - recall: 0.642 - ETA: 35s - loss: 0.6302 - recall: 0.643 - ETA: 34s - loss: 0.6308 - recall: 0.643 - ETA: 34s - loss: 0.6308 - recall: 0.642 - ETA: 34s - loss: 0.6305 - recall: 0.642 - ETA: 34s - loss: 0.6302 - recall: 0.643 - ETA: 34s - loss: 0.6303 - recall: 0.643 - ETA: 34s - loss: 0.6302 - recall: 0.643 - ETA: 34s - loss: 0.6303 - recall: 0.643 - ETA: 34s - loss: 0.6300 - recall: 0.644 - ETA: 34s - loss: 0.6292 - recall: 0.645 - ETA: 34s - loss: 0.6291 - recall: 0.646 - ETA: 34s - loss: 0.6290 - recall: 0.646 - ETA: 34s - loss: 0.6286 - recall: 0.646 - ETA: 34s - loss: 0.6292 - recall: 0.646 - ETA: 34s - loss: 0.6297 - recall: 0.644 - ETA: 34s - loss: 0.6306 - recall: 0.644 - ETA: 34s - loss: 0.6306 - recall: 0.644 - ETA: 33s - loss: 0.6304 - recall: 0.643 - ETA: 33s - loss: 0.6297 - recall: 0.644 - ETA: 33s - loss: 0.6289 - recall: 0.646 - ETA: 33s - loss: 0.6289 - recall: 0.646 - ETA: 33s - loss: 0.6289 - recall: 0.646 - ETA: 33s - loss: 0.6288 - recall: 0.646 - ETA: 33s - loss: 0.6287 - recall: 0.646 - ETA: 33s - loss: 0.6282 - recall: 0.646 - ETA: 33s - loss: 0.6274 - recall: 0.647 - ETA: 33s - loss: 0.6279 - recall: 0.646 - ETA: 33s - loss: 0.6282 - recall: 0.646 - ETA: 33s - loss: 0.6284 - recall: 0.646 - ETA: 33s - loss: 0.6280 - recall: 0.647 - ETA: 33s - loss: 0.6285 - recall: 0.646 - ETA: 33s - loss: 0.6286 - recall: 0.646 - ETA: 33s - loss: 0.6285 - recall: 0.647 - ETA: 33s - loss: 0.6280 - recall: 0.648 - ETA: 33s - loss: 0.6280 - recall: 0.648 - ETA: 32s - loss: 0.6279 - recall: 0.648 - ETA: 32s - loss: 0.6281 - recall: 0.648 - ETA: 32s - loss: 0.6275 - recall: 0.648 - ETA: 32s - loss: 0.6278 - recall: 0.648 - ETA: 32s - loss: 0.6279 - recall: 0.648 - ETA: 32s - loss: 0.6284 - recall: 0.647 - ETA: 32s - loss: 0.6283 - recall: 0.648 - ETA: 32s - loss: 0.6283 - recall: 0.648 - ETA: 32s - loss: 0.6280 - recall: 0.648 - ETA: 32s - loss: 0.6279 - recall: 0.648 - ETA: 32s - loss: 0.6281 - recall: 0.648 - ETA: 32s - loss: 0.6282 - recall: 0.647 - ETA: 32s - loss: 0.6282 - recall: 0.647 - ETA: 32s - loss: 0.6279 - recall: 0.647 - ETA: 32s - loss: 0.6278 - recall: 0.648 - ETA: 32s - loss: 0.6284 - recall: 0.647 - ETA: 32s - loss: 0.6287 - recall: 0.648 - ETA: 32s - loss: 0.6288 - recall: 0.647 - ETA: 31s - loss: 0.6288 - recall: 0.648 - ETA: 31s - loss: 0.6290 - recall: 0.647 - ETA: 31s - loss: 0.6285 - recall: 0.648 - ETA: 31s - loss: 0.6287 - recall: 0.648 - ETA: 31s - loss: 0.6291 - recall: 0.647 - ETA: 31s - loss: 0.6292 - recall: 0.647 - ETA: 31s - loss: 0.6292 - recall: 0.647 - ETA: 31s - loss: 0.6291 - recall: 0.647 - ETA: 31s - loss: 0.6289 - recall: 0.647 - ETA: 31s - loss: 0.6287 - recall: 0.647 - ETA: 31s - loss: 0.6287 - recall: 0.647 - ETA: 31s - loss: 0.6290 - recall: 0.647 - ETA: 31s - loss: 0.6288 - recall: 0.647 - ETA: 31s - loss: 0.6290 - recall: 0.646 - ETA: 31s - loss: 0.6293 - recall: 0.646 - ETA: 31s - loss: 0.6292 - recall: 0.646 - ETA: 31s - loss: 0.6289 - recall: 0.646 - ETA: 30s - loss: 0.6288 - recall: 0.646 - ETA: 30s - loss: 0.6286 - recall: 0.647 - ETA: 30s - loss: 0.6288 - recall: 0.646 - ETA: 30s - loss: 0.6288 - recall: 0.646 - ETA: 30s - loss: 0.6287 - recall: 0.646 - ETA: 30s - loss: 0.6292 - recall: 0.646 - ETA: 30s - loss: 0.6292 - recall: 0.645 - ETA: 30s - loss: 0.6294 - recall: 0.645 - ETA: 30s - loss: 0.6296 - recall: 0.645 - ETA: 30s - loss: 0.6292 - recall: 0.645 - ETA: 30s - loss: 0.6293 - recall: 0.645 - ETA: 30s - loss: 0.6294 - recall: 0.645 - ETA: 30s - loss: 0.6295 - recall: 0.645 - ETA: 30s - loss: 0.6295 - recall: 0.645 - ETA: 30s - loss: 0.6295 - recall: 0.646 - ETA: 30s - loss: 0.6293 - recall: 0.646 - ETA: 30s - loss: 0.6291 - recall: 0.646 - ETA: 29s - loss: 0.6290 - recall: 0.647 - ETA: 29s - loss: 0.6290 - recall: 0.647 - ETA: 29s - loss: 0.6290 - recall: 0.646 - ETA: 29s - loss: 0.6292 - recall: 0.646 - ETA: 29s - loss: 0.6292 - recall: 0.645 - ETA: 29s - loss: 0.6299 - recall: 0.645 - ETA: 29s - loss: 0.6295 - recall: 0.645 - ETA: 29s - loss: 0.6296 - recall: 0.646 - ETA: 29s - loss: 0.6299 - recall: 0.646 - ETA: 29s - loss: 0.6304 - recall: 0.645 - ETA: 29s - loss: 0.6302 - recall: 0.645 - ETA: 29s - loss: 0.6302 - recall: 0.645 - ETA: 29s - loss: 0.6303 - recall: 0.645 - ETA: 29s - loss: 0.6304 - recall: 0.645 - ETA: 29s - loss: 0.6302 - recall: 0.645 - ETA: 29s - loss: 0.6300 - recall: 0.645 - ETA: 28s - loss: 0.6303 - recall: 0.645 - ETA: 28s - loss: 0.6303 - recall: 0.645 - ETA: 28s - loss: 0.6305 - recall: 0.645 - ETA: 28s - loss: 0.6304 - recall: 0.645 - ETA: 28s - loss: 0.6302 - recall: 0.645 - ETA: 28s - loss: 0.6301 - recall: 0.644 - ETA: 28s - loss: 0.6300 - recall: 0.644 - ETA: 28s - loss: 0.6299 - recall: 0.645 - ETA: 28s - loss: 0.6301 - recall: 0.645 - ETA: 28s - loss: 0.6299 - recall: 0.646 - ETA: 28s - loss: 0.6298 - recall: 0.646 - ETA: 28s - loss: 0.6301 - recall: 0.646 - ETA: 28s - loss: 0.6301 - recall: 0.645 - ETA: 28s - loss: 0.6299 - recall: 0.645 - ETA: 28s - loss: 0.6300 - recall: 0.645 - ETA: 27s - loss: 0.6297 - recall: 0.646 - ETA: 27s - loss: 0.6301 - recall: 0.645 - ETA: 27s - loss: 0.6300 - recall: 0.645 - ETA: 27s - loss: 0.6298 - recall: 0.645 - ETA: 27s - loss: 0.6298 - recall: 0.645 - ETA: 27s - loss: 0.6297 - recall: 0.645 - ETA: 27s - loss: 0.6296 - recall: 0.645 - ETA: 27s - loss: 0.6298 - recall: 0.645 - ETA: 27s - loss: 0.6300 - recall: 0.645 - ETA: 27s - loss: 0.6301 - recall: 0.645 - ETA: 27s - loss: 0.6303 - recall: 0.644 - ETA: 27s - loss: 0.6301 - recall: 0.645 - ETA: 27s - loss: 0.6304 - recall: 0.644 - ETA: 27s - loss: 0.6301 - recall: 0.644 - ETA: 27s - loss: 0.6300 - recall: 0.644 - ETA: 27s - loss: 0.6296 - recall: 0.645 - ETA: 27s - loss: 0.6298 - recall: 0.645 - ETA: 27s - loss: 0.6296 - recall: 0.645 - ETA: 26s - loss: 0.6298 - recall: 0.645 - ETA: 26s - loss: 0.6297 - recall: 0.645 - ETA: 26s - loss: 0.6298 - recall: 0.645 - ETA: 26s - loss: 0.6295 - recall: 0.645 - ETA: 26s - loss: 0.6292 - recall: 0.645 - ETA: 26s - loss: 0.6290 - recall: 0.645 - ETA: 26s - loss: 0.6290 - recall: 0.645 - ETA: 26s - loss: 0.6290 - recall: 0.645 - ETA: 26s - loss: 0.6289 - recall: 0.645 - ETA: 26s - loss: 0.6288 - recall: 0.645 - ETA: 26s - loss: 0.6285 - recall: 0.646 - ETA: 26s - loss: 0.6285 - recall: 0.646036544/59934 [=================>............] - ETA: 26s - loss: 0.6284 - recall: 0.646 - ETA: 26s - loss: 0.6288 - recall: 0.645 - ETA: 26s - loss: 0.6293 - recall: 0.645 - ETA: 26s - loss: 0.6294 - recall: 0.645 - ETA: 26s - loss: 0.6294 - recall: 0.645 - ETA: 25s - loss: 0.6294 - recall: 0.645 - ETA: 25s - loss: 0.6294 - recall: 0.645 - ETA: 25s - loss: 0.6294 - recall: 0.645 - ETA: 25s - loss: 0.6294 - recall: 0.645 - ETA: 25s - loss: 0.6291 - recall: 0.645 - ETA: 25s - loss: 0.6290 - recall: 0.645 - ETA: 25s - loss: 0.6288 - recall: 0.645 - ETA: 25s - loss: 0.6287 - recall: 0.645 - ETA: 25s - loss: 0.6290 - recall: 0.645 - ETA: 25s - loss: 0.6289 - recall: 0.645 - ETA: 25s - loss: 0.6287 - recall: 0.645 - ETA: 25s - loss: 0.6289 - recall: 0.645 - ETA: 25s - loss: 0.6292 - recall: 0.645 - ETA: 25s - loss: 0.6291 - recall: 0.645 - ETA: 25s - loss: 0.6291 - recall: 0.645 - ETA: 25s - loss: 0.6290 - recall: 0.645 - ETA: 25s - loss: 0.6290 - recall: 0.645 - ETA: 25s - loss: 0.6293 - recall: 0.645 - ETA: 25s - loss: 0.6291 - recall: 0.645 - ETA: 25s - loss: 0.6293 - recall: 0.645 - ETA: 24s - loss: 0.6292 - recall: 0.645 - ETA: 24s - loss: 0.6293 - recall: 0.645 - ETA: 24s - loss: 0.6293 - recall: 0.645 - ETA: 24s - loss: 0.6293 - recall: 0.645 - ETA: 24s - loss: 0.6293 - recall: 0.645 - ETA: 24s - loss: 0.6293 - recall: 0.645 - ETA: 24s - loss: 0.6294 - recall: 0.645 - ETA: 24s - loss: 0.6292 - recall: 0.645 - ETA: 24s - loss: 0.6292 - recall: 0.645 - ETA: 24s - loss: 0.6293 - recall: 0.645 - ETA: 24s - loss: 0.6295 - recall: 0.645 - ETA: 24s - loss: 0.6294 - recall: 0.645 - ETA: 24s - loss: 0.6293 - recall: 0.645 - ETA: 24s - loss: 0.6292 - recall: 0.645 - ETA: 24s - loss: 0.6291 - recall: 0.645 - ETA: 24s - loss: 0.6290 - recall: 0.645 - ETA: 24s - loss: 0.6290 - recall: 0.645 - ETA: 24s - loss: 0.6296 - recall: 0.645 - ETA: 24s - loss: 0.6296 - recall: 0.645 - ETA: 24s - loss: 0.6295 - recall: 0.645 - ETA: 23s - loss: 0.6297 - recall: 0.645 - ETA: 23s - loss: 0.6298 - recall: 0.644 - ETA: 23s - loss: 0.6297 - recall: 0.644 - ETA: 23s - loss: 0.6298 - recall: 0.644 - ETA: 23s - loss: 0.6299 - recall: 0.644 - ETA: 23s - loss: 0.6298 - recall: 0.644 - ETA: 23s - loss: 0.6297 - recall: 0.644 - ETA: 23s - loss: 0.6296 - recall: 0.644 - ETA: 23s - loss: 0.6296 - recall: 0.644 - ETA: 23s - loss: 0.6294 - recall: 0.644 - ETA: 23s - loss: 0.6296 - recall: 0.644 - ETA: 23s - loss: 0.6297 - recall: 0.644 - ETA: 23s - loss: 0.6295 - recall: 0.644 - ETA: 23s - loss: 0.6294 - recall: 0.644 - ETA: 23s - loss: 0.6292 - recall: 0.645 - ETA: 23s - loss: 0.6292 - recall: 0.645 - ETA: 23s - loss: 0.6291 - recall: 0.645 - ETA: 22s - loss: 0.6292 - recall: 0.645 - ETA: 22s - loss: 0.6290 - recall: 0.645 - ETA: 22s - loss: 0.6290 - recall: 0.645 - ETA: 22s - loss: 0.6290 - recall: 0.645 - ETA: 22s - loss: 0.6292 - recall: 0.645 - ETA: 22s - loss: 0.6291 - recall: 0.645 - ETA: 22s - loss: 0.6290 - recall: 0.645 - ETA: 22s - loss: 0.6289 - recall: 0.645 - ETA: 22s - loss: 0.6289 - recall: 0.645 - ETA: 22s - loss: 0.6288 - recall: 0.645 - ETA: 22s - loss: 0.6288 - recall: 0.644 - ETA: 22s - loss: 0.6290 - recall: 0.645 - ETA: 22s - loss: 0.6294 - recall: 0.644 - ETA: 22s - loss: 0.6295 - recall: 0.644 - ETA: 22s - loss: 0.6295 - recall: 0.644 - ETA: 22s - loss: 0.6295 - recall: 0.644 - ETA: 21s - loss: 0.6295 - recall: 0.644 - ETA: 21s - loss: 0.6295 - recall: 0.644 - ETA: 21s - loss: 0.6295 - recall: 0.644 - ETA: 21s - loss: 0.6295 - recall: 0.644 - ETA: 21s - loss: 0.6296 - recall: 0.644 - ETA: 21s - loss: 0.6294 - recall: 0.644 - ETA: 21s - loss: 0.6294 - recall: 0.644 - ETA: 21s - loss: 0.6295 - recall: 0.644 - ETA: 21s - loss: 0.6295 - recall: 0.644 - ETA: 21s - loss: 0.6296 - recall: 0.644 - ETA: 21s - loss: 0.6297 - recall: 0.644 - ETA: 21s - loss: 0.6296 - recall: 0.644 - ETA: 21s - loss: 0.6296 - recall: 0.644 - ETA: 21s - loss: 0.6294 - recall: 0.644 - ETA: 21s - loss: 0.6292 - recall: 0.644 - ETA: 21s - loss: 0.6292 - recall: 0.644 - ETA: 20s - loss: 0.6291 - recall: 0.644 - ETA: 20s - loss: 0.6291 - recall: 0.644 - ETA: 20s - loss: 0.6292 - recall: 0.644 - ETA: 20s - loss: 0.6291 - recall: 0.644 - ETA: 20s - loss: 0.6291 - recall: 0.644 - ETA: 20s - loss: 0.6291 - recall: 0.644 - ETA: 20s - loss: 0.6291 - recall: 0.644 - ETA: 20s - loss: 0.6292 - recall: 0.644 - ETA: 20s - loss: 0.6290 - recall: 0.644 - ETA: 20s - loss: 0.6292 - recall: 0.644 - ETA: 20s - loss: 0.6293 - recall: 0.644 - ETA: 20s - loss: 0.6294 - recall: 0.644 - ETA: 20s - loss: 0.6294 - recall: 0.644 - ETA: 20s - loss: 0.6294 - recall: 0.644 - ETA: 20s - loss: 0.6292 - recall: 0.644 - ETA: 20s - loss: 0.6291 - recall: 0.644 - ETA: 19s - loss: 0.6289 - recall: 0.644 - ETA: 19s - loss: 0.6291 - recall: 0.644 - ETA: 19s - loss: 0.6291 - recall: 0.644 - ETA: 19s - loss: 0.6289 - recall: 0.644 - ETA: 19s - loss: 0.6290 - recall: 0.644 - ETA: 19s - loss: 0.6292 - recall: 0.644 - ETA: 19s - loss: 0.6295 - recall: 0.644 - ETA: 19s - loss: 0.6296 - recall: 0.644 - ETA: 19s - loss: 0.6296 - recall: 0.644 - ETA: 19s - loss: 0.6296 - recall: 0.644 - ETA: 19s - loss: 0.6295 - recall: 0.644 - ETA: 19s - loss: 0.6295 - recall: 0.644 - ETA: 19s - loss: 0.6294 - recall: 0.644 - ETA: 19s - loss: 0.6293 - recall: 0.644 - ETA: 19s - loss: 0.6295 - recall: 0.644 - ETA: 19s - loss: 0.6295 - recall: 0.644 - ETA: 18s - loss: 0.6295 - recall: 0.643 - ETA: 18s - loss: 0.6293 - recall: 0.644 - ETA: 18s - loss: 0.6293 - recall: 0.644 - ETA: 18s - loss: 0.6294 - recall: 0.644 - ETA: 18s - loss: 0.6292 - recall: 0.644 - ETA: 18s - loss: 0.6294 - recall: 0.644 - ETA: 18s - loss: 0.6292 - recall: 0.644 - ETA: 18s - loss: 0.6294 - recall: 0.644 - ETA: 18s - loss: 0.6294 - recall: 0.644 - ETA: 18s - loss: 0.6295 - recall: 0.644 - ETA: 18s - loss: 0.6295 - recall: 0.644 - ETA: 18s - loss: 0.6294 - recall: 0.644 - ETA: 18s - loss: 0.6294 - recall: 0.644 - ETA: 18s - loss: 0.6294 - recall: 0.644 - ETA: 18s - loss: 0.6292 - recall: 0.644 - ETA: 18s - loss: 0.6290 - recall: 0.644 - ETA: 18s - loss: 0.6290 - recall: 0.644 - ETA: 17s - loss: 0.6290 - recall: 0.644 - ETA: 17s - loss: 0.6291 - recall: 0.644 - ETA: 17s - loss: 0.6290 - recall: 0.644 - ETA: 17s - loss: 0.6291 - recall: 0.644 - ETA: 17s - loss: 0.6291 - recall: 0.644 - ETA: 17s - loss: 0.6291 - recall: 0.644 - ETA: 17s - loss: 0.6290 - recall: 0.644 - ETA: 17s - loss: 0.6291 - recall: 0.644 - ETA: 17s - loss: 0.6288 - recall: 0.644 - ETA: 17s - loss: 0.6289 - recall: 0.644 - ETA: 17s - loss: 0.6288 - recall: 0.644 - ETA: 17s - loss: 0.6287 - recall: 0.644 - ETA: 17s - loss: 0.6288 - recall: 0.644 - ETA: 17s - loss: 0.6285 - recall: 0.644 - ETA: 17s - loss: 0.6288 - recall: 0.644 - ETA: 17s - loss: 0.6290 - recall: 0.644 - ETA: 17s - loss: 0.6288 - recall: 0.644 - ETA: 16s - loss: 0.6289 - recall: 0.644 - ETA: 16s - loss: 0.6290 - recall: 0.644 - ETA: 16s - loss: 0.6289 - recall: 0.644 - ETA: 16s - loss: 0.6288 - recall: 0.644 - ETA: 16s - loss: 0.6288 - recall: 0.644 - ETA: 16s - loss: 0.6288 - recall: 0.644 - ETA: 16s - loss: 0.6288 - recall: 0.644 - ETA: 16s - loss: 0.6287 - recall: 0.644 - ETA: 16s - loss: 0.6289 - recall: 0.644 - ETA: 16s - loss: 0.6288 - recall: 0.644 - ETA: 16s - loss: 0.6287 - recall: 0.644 - ETA: 16s - loss: 0.6289 - recall: 0.644 - ETA: 16s - loss: 0.6288 - recall: 0.644 - ETA: 16s - loss: 0.6287 - recall: 0.644 - ETA: 16s - loss: 0.6289 - recall: 0.644 - ETA: 16s - loss: 0.6288 - recall: 0.644 - ETA: 16s - loss: 0.6287 - recall: 0.644 - ETA: 15s - loss: 0.6286 - recall: 0.644 - ETA: 15s - loss: 0.6285 - recall: 0.644 - ETA: 15s - loss: 0.6285 - recall: 0.644 - ETA: 15s - loss: 0.6285 - recall: 0.644 - ETA: 15s - loss: 0.6284 - recall: 0.645 - ETA: 15s - loss: 0.6284 - recall: 0.645 - ETA: 15s - loss: 0.6285 - recall: 0.644 - ETA: 15s - loss: 0.6283 - recall: 0.644 - ETA: 15s - loss: 0.6282 - recall: 0.644 - ETA: 15s - loss: 0.6282 - recall: 0.644 - ETA: 15s - loss: 0.6283 - recall: 0.644 - ETA: 15s - loss: 0.6284 - recall: 0.644 - ETA: 15s - loss: 0.6283 - recall: 0.644 - ETA: 15s - loss: 0.6283 - recall: 0.644 - ETA: 15s - loss: 0.6282 - recall: 0.644 - ETA: 15s - loss: 0.6283 - recall: 0.644 - ETA: 15s - loss: 0.6283 - recall: 0.6447"
     ]
    },
    {
     "name": "stdout",
     "output_type": "stream",
     "text": [
      "54464/59934 [==========================>...] - ETA: 14s - loss: 0.6283 - recall: 0.644 - ETA: 14s - loss: 0.6282 - recall: 0.644 - ETA: 14s - loss: 0.6281 - recall: 0.644 - ETA: 14s - loss: 0.6280 - recall: 0.644 - ETA: 14s - loss: 0.6279 - recall: 0.645 - ETA: 14s - loss: 0.6278 - recall: 0.645 - ETA: 14s - loss: 0.6279 - recall: 0.645 - ETA: 14s - loss: 0.6279 - recall: 0.645 - ETA: 14s - loss: 0.6281 - recall: 0.645 - ETA: 14s - loss: 0.6281 - recall: 0.645 - ETA: 14s - loss: 0.6280 - recall: 0.645 - ETA: 14s - loss: 0.6282 - recall: 0.644 - ETA: 14s - loss: 0.6282 - recall: 0.644 - ETA: 14s - loss: 0.6284 - recall: 0.644 - ETA: 14s - loss: 0.6285 - recall: 0.644 - ETA: 14s - loss: 0.6285 - recall: 0.644 - ETA: 13s - loss: 0.6285 - recall: 0.644 - ETA: 13s - loss: 0.6284 - recall: 0.644 - ETA: 13s - loss: 0.6284 - recall: 0.644 - ETA: 13s - loss: 0.6284 - recall: 0.644 - ETA: 13s - loss: 0.6283 - recall: 0.644 - ETA: 13s - loss: 0.6286 - recall: 0.644 - ETA: 13s - loss: 0.6285 - recall: 0.644 - ETA: 13s - loss: 0.6284 - recall: 0.644 - ETA: 13s - loss: 0.6284 - recall: 0.644 - ETA: 13s - loss: 0.6284 - recall: 0.644 - ETA: 13s - loss: 0.6284 - recall: 0.644 - ETA: 13s - loss: 0.6284 - recall: 0.644 - ETA: 13s - loss: 0.6284 - recall: 0.644 - ETA: 13s - loss: 0.6285 - recall: 0.644 - ETA: 13s - loss: 0.6284 - recall: 0.644 - ETA: 13s - loss: 0.6285 - recall: 0.644 - ETA: 12s - loss: 0.6285 - recall: 0.644 - ETA: 12s - loss: 0.6286 - recall: 0.644 - ETA: 12s - loss: 0.6287 - recall: 0.644 - ETA: 12s - loss: 0.6287 - recall: 0.644 - ETA: 12s - loss: 0.6287 - recall: 0.644 - ETA: 12s - loss: 0.6288 - recall: 0.644 - ETA: 12s - loss: 0.6288 - recall: 0.643 - ETA: 12s - loss: 0.6288 - recall: 0.643 - ETA: 12s - loss: 0.6288 - recall: 0.644 - ETA: 12s - loss: 0.6288 - recall: 0.644 - ETA: 12s - loss: 0.6288 - recall: 0.644 - ETA: 12s - loss: 0.6287 - recall: 0.643 - ETA: 12s - loss: 0.6288 - recall: 0.643 - ETA: 12s - loss: 0.6288 - recall: 0.643 - ETA: 12s - loss: 0.6288 - recall: 0.643 - ETA: 12s - loss: 0.6289 - recall: 0.643 - ETA: 12s - loss: 0.6288 - recall: 0.643 - ETA: 12s - loss: 0.6288 - recall: 0.643 - ETA: 11s - loss: 0.6288 - recall: 0.643 - ETA: 11s - loss: 0.6287 - recall: 0.643 - ETA: 11s - loss: 0.6286 - recall: 0.643 - ETA: 11s - loss: 0.6285 - recall: 0.644 - ETA: 11s - loss: 0.6285 - recall: 0.644 - ETA: 11s - loss: 0.6285 - recall: 0.644 - ETA: 11s - loss: 0.6284 - recall: 0.644 - ETA: 11s - loss: 0.6285 - recall: 0.644 - ETA: 11s - loss: 0.6285 - recall: 0.644 - ETA: 11s - loss: 0.6284 - recall: 0.644 - ETA: 11s - loss: 0.6282 - recall: 0.644 - ETA: 11s - loss: 0.6282 - recall: 0.644 - ETA: 11s - loss: 0.6281 - recall: 0.644 - ETA: 11s - loss: 0.6282 - recall: 0.644 - ETA: 11s - loss: 0.6281 - recall: 0.644 - ETA: 11s - loss: 0.6280 - recall: 0.644 - ETA: 10s - loss: 0.6281 - recall: 0.644 - ETA: 10s - loss: 0.6280 - recall: 0.644 - ETA: 10s - loss: 0.6279 - recall: 0.644 - ETA: 10s - loss: 0.6281 - recall: 0.644 - ETA: 10s - loss: 0.6281 - recall: 0.644 - ETA: 10s - loss: 0.6280 - recall: 0.644 - ETA: 10s - loss: 0.6280 - recall: 0.644 - ETA: 10s - loss: 0.6279 - recall: 0.644 - ETA: 10s - loss: 0.6279 - recall: 0.644 - ETA: 10s - loss: 0.6280 - recall: 0.644 - ETA: 10s - loss: 0.6280 - recall: 0.644 - ETA: 10s - loss: 0.6279 - recall: 0.644 - ETA: 10s - loss: 0.6280 - recall: 0.644 - ETA: 10s - loss: 0.6280 - recall: 0.644 - ETA: 10s - loss: 0.6280 - recall: 0.644 - ETA: 10s - loss: 0.6279 - recall: 0.644 - ETA: 9s - loss: 0.6279 - recall: 0.644 - ETA: 9s - loss: 0.6280 - recall: 0.64 - ETA: 9s - loss: 0.6280 - recall: 0.64 - ETA: 9s - loss: 0.6280 - recall: 0.64 - ETA: 9s - loss: 0.6281 - recall: 0.64 - ETA: 9s - loss: 0.6281 - recall: 0.64 - ETA: 9s - loss: 0.6282 - recall: 0.64 - ETA: 9s - loss: 0.6281 - recall: 0.64 - ETA: 9s - loss: 0.6280 - recall: 0.64 - ETA: 9s - loss: 0.6280 - recall: 0.64 - ETA: 9s - loss: 0.6280 - recall: 0.64 - ETA: 9s - loss: 0.6281 - recall: 0.64 - ETA: 9s - loss: 0.6280 - recall: 0.64 - ETA: 9s - loss: 0.6280 - recall: 0.64 - ETA: 9s - loss: 0.6280 - recall: 0.64 - ETA: 9s - loss: 0.6279 - recall: 0.64 - ETA: 9s - loss: 0.6281 - recall: 0.64 - ETA: 9s - loss: 0.6281 - recall: 0.64 - ETA: 8s - loss: 0.6281 - recall: 0.64 - ETA: 8s - loss: 0.6281 - recall: 0.64 - ETA: 8s - loss: 0.6281 - recall: 0.64 - ETA: 8s - loss: 0.6280 - recall: 0.64 - ETA: 8s - loss: 0.6280 - recall: 0.64 - ETA: 8s - loss: 0.6280 - recall: 0.64 - ETA: 8s - loss: 0.6280 - recall: 0.64 - ETA: 8s - loss: 0.6280 - recall: 0.64 - ETA: 8s - loss: 0.6279 - recall: 0.64 - ETA: 8s - loss: 0.6278 - recall: 0.64 - ETA: 8s - loss: 0.6278 - recall: 0.64 - ETA: 8s - loss: 0.6278 - recall: 0.64 - ETA: 8s - loss: 0.6278 - recall: 0.64 - ETA: 8s - loss: 0.6278 - recall: 0.64 - ETA: 8s - loss: 0.6278 - recall: 0.64 - ETA: 8s - loss: 0.6278 - recall: 0.64 - ETA: 8s - loss: 0.6278 - recall: 0.64 - ETA: 8s - loss: 0.6279 - recall: 0.64 - ETA: 8s - loss: 0.6278 - recall: 0.64 - ETA: 7s - loss: 0.6278 - recall: 0.64 - ETA: 7s - loss: 0.6279 - recall: 0.64 - ETA: 7s - loss: 0.6279 - recall: 0.64 - ETA: 7s - loss: 0.6279 - recall: 0.64 - ETA: 7s - loss: 0.6278 - recall: 0.64 - ETA: 7s - loss: 0.6280 - recall: 0.64 - ETA: 7s - loss: 0.6279 - recall: 0.64 - ETA: 7s - loss: 0.6280 - recall: 0.64 - ETA: 7s - loss: 0.6280 - recall: 0.64 - ETA: 7s - loss: 0.6280 - recall: 0.64 - ETA: 7s - loss: 0.6280 - recall: 0.64 - ETA: 7s - loss: 0.6280 - recall: 0.64 - ETA: 7s - loss: 0.6279 - recall: 0.64 - ETA: 7s - loss: 0.6280 - recall: 0.64 - ETA: 7s - loss: 0.6279 - recall: 0.64 - ETA: 7s - loss: 0.6279 - recall: 0.64 - ETA: 7s - loss: 0.6279 - recall: 0.64 - ETA: 7s - loss: 0.6279 - recall: 0.64 - ETA: 7s - loss: 0.6279 - recall: 0.64 - ETA: 6s - loss: 0.6280 - recall: 0.64 - ETA: 6s - loss: 0.6279 - recall: 0.64 - ETA: 6s - loss: 0.6279 - recall: 0.64 - ETA: 6s - loss: 0.6279 - recall: 0.64 - ETA: 6s - loss: 0.6279 - recall: 0.64 - ETA: 6s - loss: 0.6279 - recall: 0.64 - ETA: 6s - loss: 0.6279 - recall: 0.64 - ETA: 6s - loss: 0.6280 - recall: 0.64 - ETA: 6s - loss: 0.6281 - recall: 0.64 - ETA: 6s - loss: 0.6281 - recall: 0.64 - ETA: 6s - loss: 0.6281 - recall: 0.64 - ETA: 6s - loss: 0.6281 - recall: 0.64 - ETA: 6s - loss: 0.6282 - recall: 0.64 - ETA: 6s - loss: 0.6282 - recall: 0.64 - ETA: 6s - loss: 0.6282 - recall: 0.64 - ETA: 6s - loss: 0.6282 - recall: 0.64 - ETA: 6s - loss: 0.6283 - recall: 0.64 - ETA: 6s - loss: 0.6282 - recall: 0.64 - ETA: 5s - loss: 0.6282 - recall: 0.64 - ETA: 5s - loss: 0.6283 - recall: 0.64 - ETA: 5s - loss: 0.6284 - recall: 0.64 - ETA: 5s - loss: 0.6284 - recall: 0.64 - ETA: 5s - loss: 0.6284 - recall: 0.64 - ETA: 5s - loss: 0.6284 - recall: 0.64 - ETA: 5s - loss: 0.6284 - recall: 0.64 - ETA: 5s - loss: 0.6285 - recall: 0.64 - ETA: 5s - loss: 0.6284 - recall: 0.64 - ETA: 5s - loss: 0.6284 - recall: 0.64 - ETA: 5s - loss: 0.6283 - recall: 0.64 - ETA: 5s - loss: 0.6283 - recall: 0.64 - ETA: 5s - loss: 0.6283 - recall: 0.64 - ETA: 5s - loss: 0.6282 - recall: 0.64 - ETA: 5s - loss: 0.6281 - recall: 0.64 - ETA: 5s - loss: 0.6282 - recall: 0.64 - ETA: 5s - loss: 0.6283 - recall: 0.64 - ETA: 4s - loss: 0.6282 - recall: 0.64 - ETA: 4s - loss: 0.6282 - recall: 0.64 - ETA: 4s - loss: 0.6282 - recall: 0.64 - ETA: 4s - loss: 0.6281 - recall: 0.64 - ETA: 4s - loss: 0.6281 - recall: 0.64 - ETA: 4s - loss: 0.6280 - recall: 0.64 - ETA: 4s - loss: 0.6280 - recall: 0.64 - ETA: 4s - loss: 0.6281 - recall: 0.64 - ETA: 4s - loss: 0.6281 - recall: 0.64 - ETA: 4s - loss: 0.6281 - recall: 0.64 - ETA: 4s - loss: 0.6281 - recall: 0.64 - ETA: 4s - loss: 0.6281 - recall: 0.64 - ETA: 4s - loss: 0.6281 - recall: 0.64 - ETA: 4s - loss: 0.6281 - recall: 0.64 - ETA: 4s - loss: 0.6282 - recall: 0.64 - ETA: 4s - loss: 0.6282 - recall: 0.64 - ETA: 4s - loss: 0.6281 - recall: 0.64 - ETA: 4s - loss: 0.6281 - recall: 0.64 - ETA: 4s - loss: 0.6281 - recall: 0.64 - ETA: 4s - loss: 0.6281 - recall: 0.64 - ETA: 3s - loss: 0.6281 - recall: 0.64 - ETA: 3s - loss: 0.6281 - recall: 0.64 - ETA: 3s - loss: 0.6282 - recall: 0.64 - ETA: 3s - loss: 0.6283 - recall: 0.64 - ETA: 3s - loss: 0.6282 - recall: 0.64 - ETA: 3s - loss: 0.6282 - recall: 0.64 - ETA: 3s - loss: 0.6281 - recall: 0.6448"
     ]
    },
    {
     "name": "stdout",
     "output_type": "stream",
     "text": [
      "59934/59934 [==============================] - ETA: 3s - loss: 0.6281 - recall: 0.64 - ETA: 3s - loss: 0.6281 - recall: 0.64 - ETA: 3s - loss: 0.6282 - recall: 0.64 - ETA: 3s - loss: 0.6281 - recall: 0.64 - ETA: 3s - loss: 0.6281 - recall: 0.64 - ETA: 3s - loss: 0.6281 - recall: 0.64 - ETA: 3s - loss: 0.6282 - recall: 0.64 - ETA: 3s - loss: 0.6283 - recall: 0.64 - ETA: 3s - loss: 0.6283 - recall: 0.64 - ETA: 2s - loss: 0.6283 - recall: 0.64 - ETA: 2s - loss: 0.6282 - recall: 0.64 - ETA: 2s - loss: 0.6282 - recall: 0.64 - ETA: 2s - loss: 0.6282 - recall: 0.64 - ETA: 2s - loss: 0.6281 - recall: 0.64 - ETA: 2s - loss: 0.6282 - recall: 0.64 - ETA: 2s - loss: 0.6282 - recall: 0.64 - ETA: 2s - loss: 0.6282 - recall: 0.64 - ETA: 2s - loss: 0.6281 - recall: 0.64 - ETA: 2s - loss: 0.6280 - recall: 0.64 - ETA: 2s - loss: 0.6280 - recall: 0.64 - ETA: 2s - loss: 0.6280 - recall: 0.64 - ETA: 2s - loss: 0.6280 - recall: 0.64 - ETA: 2s - loss: 0.6279 - recall: 0.64 - ETA: 2s - loss: 0.6279 - recall: 0.64 - ETA: 2s - loss: 0.6279 - recall: 0.64 - ETA: 1s - loss: 0.6278 - recall: 0.64 - ETA: 1s - loss: 0.6278 - recall: 0.64 - ETA: 1s - loss: 0.6278 - recall: 0.64 - ETA: 1s - loss: 0.6278 - recall: 0.64 - ETA: 1s - loss: 0.6278 - recall: 0.64 - ETA: 1s - loss: 0.6278 - recall: 0.64 - ETA: 1s - loss: 0.6277 - recall: 0.64 - ETA: 1s - loss: 0.6278 - recall: 0.64 - ETA: 1s - loss: 0.6277 - recall: 0.64 - ETA: 1s - loss: 0.6277 - recall: 0.64 - ETA: 1s - loss: 0.6277 - recall: 0.64 - ETA: 1s - loss: 0.6277 - recall: 0.64 - ETA: 1s - loss: 0.6276 - recall: 0.64 - ETA: 1s - loss: 0.6275 - recall: 0.64 - ETA: 1s - loss: 0.6275 - recall: 0.64 - ETA: 1s - loss: 0.6275 - recall: 0.64 - ETA: 0s - loss: 0.6274 - recall: 0.64 - ETA: 0s - loss: 0.6275 - recall: 0.64 - ETA: 0s - loss: 0.6275 - recall: 0.64 - ETA: 0s - loss: 0.6276 - recall: 0.64 - ETA: 0s - loss: 0.6275 - recall: 0.64 - ETA: 0s - loss: 0.6275 - recall: 0.64 - ETA: 0s - loss: 0.6274 - recall: 0.64 - ETA: 0s - loss: 0.6275 - recall: 0.64 - ETA: 0s - loss: 0.6276 - recall: 0.64 - ETA: 0s - loss: 0.6275 - recall: 0.64 - ETA: 0s - loss: 0.6276 - recall: 0.64 - ETA: 0s - loss: 0.6277 - recall: 0.64 - ETA: 0s - loss: 0.6278 - recall: 0.64 - ETA: 0s - loss: 0.6278 - recall: 0.64 - ETA: 0s - loss: 0.6277 - recall: 0.64 - ETA: 0s - loss: 0.6278 - recall: 0.64 - 40s 669us/sample - loss: 0.6278 - recall: 0.6448 - val_loss: 0.8525 - val_recall: 0.1626\n",
      "Epoch 5/5\n"
     ]
    },
    {
     "name": "stdout",
     "output_type": "stream",
     "text": [
      "17632/59934 [=======>......................] - ETA: 43s - loss: 0.5995 - recall: 0.593 - ETA: 42s - loss: 0.6219 - recall: 0.617 - ETA: 41s - loss: 0.6564 - recall: 0.589 - ETA: 41s - loss: 0.6595 - recall: 0.600 - ETA: 41s - loss: 0.6526 - recall: 0.608 - ETA: 40s - loss: 0.6502 - recall: 0.607 - ETA: 40s - loss: 0.6486 - recall: 0.605 - ETA: 39s - loss: 0.6454 - recall: 0.609 - ETA: 39s - loss: 0.6390 - recall: 0.618 - ETA: 39s - loss: 0.6407 - recall: 0.615 - ETA: 38s - loss: 0.6407 - recall: 0.616 - ETA: 38s - loss: 0.6407 - recall: 0.623 - ETA: 38s - loss: 0.6378 - recall: 0.630 - ETA: 38s - loss: 0.6366 - recall: 0.630 - ETA: 38s - loss: 0.6368 - recall: 0.630 - ETA: 38s - loss: 0.6361 - recall: 0.631 - ETA: 38s - loss: 0.6380 - recall: 0.626 - ETA: 38s - loss: 0.6395 - recall: 0.624 - ETA: 38s - loss: 0.6359 - recall: 0.629 - ETA: 37s - loss: 0.6355 - recall: 0.628 - ETA: 37s - loss: 0.6374 - recall: 0.624 - ETA: 37s - loss: 0.6361 - recall: 0.625 - ETA: 37s - loss: 0.6336 - recall: 0.631 - ETA: 37s - loss: 0.6335 - recall: 0.630 - ETA: 37s - loss: 0.6337 - recall: 0.631 - ETA: 37s - loss: 0.6334 - recall: 0.633 - ETA: 37s - loss: 0.6359 - recall: 0.632 - ETA: 38s - loss: 0.6367 - recall: 0.630 - ETA: 38s - loss: 0.6361 - recall: 0.632 - ETA: 38s - loss: 0.6353 - recall: 0.632 - ETA: 37s - loss: 0.6341 - recall: 0.635 - ETA: 37s - loss: 0.6356 - recall: 0.632 - ETA: 37s - loss: 0.6355 - recall: 0.631 - ETA: 37s - loss: 0.6336 - recall: 0.633 - ETA: 37s - loss: 0.6337 - recall: 0.633 - ETA: 37s - loss: 0.6346 - recall: 0.632 - ETA: 37s - loss: 0.6343 - recall: 0.633 - ETA: 37s - loss: 0.6354 - recall: 0.631 - ETA: 37s - loss: 0.6350 - recall: 0.631 - ETA: 37s - loss: 0.6351 - recall: 0.630 - ETA: 37s - loss: 0.6350 - recall: 0.631 - ETA: 37s - loss: 0.6348 - recall: 0.632 - ETA: 37s - loss: 0.6346 - recall: 0.633 - ETA: 37s - loss: 0.6358 - recall: 0.632 - ETA: 37s - loss: 0.6360 - recall: 0.631 - ETA: 37s - loss: 0.6351 - recall: 0.631 - ETA: 37s - loss: 0.6343 - recall: 0.631 - ETA: 37s - loss: 0.6348 - recall: 0.631 - ETA: 37s - loss: 0.6356 - recall: 0.631 - ETA: 37s - loss: 0.6350 - recall: 0.631 - ETA: 36s - loss: 0.6344 - recall: 0.632 - ETA: 36s - loss: 0.6344 - recall: 0.632 - ETA: 36s - loss: 0.6346 - recall: 0.633 - ETA: 36s - loss: 0.6339 - recall: 0.633 - ETA: 36s - loss: 0.6320 - recall: 0.636 - ETA: 36s - loss: 0.6319 - recall: 0.636 - ETA: 36s - loss: 0.6313 - recall: 0.636 - ETA: 36s - loss: 0.6314 - recall: 0.636 - ETA: 36s - loss: 0.6308 - recall: 0.637 - ETA: 36s - loss: 0.6312 - recall: 0.636 - ETA: 35s - loss: 0.6307 - recall: 0.636 - ETA: 35s - loss: 0.6303 - recall: 0.637 - ETA: 35s - loss: 0.6303 - recall: 0.637 - ETA: 35s - loss: 0.6301 - recall: 0.638 - ETA: 35s - loss: 0.6300 - recall: 0.637 - ETA: 35s - loss: 0.6301 - recall: 0.637 - ETA: 35s - loss: 0.6300 - recall: 0.637 - ETA: 35s - loss: 0.6297 - recall: 0.638 - ETA: 35s - loss: 0.6294 - recall: 0.637 - ETA: 35s - loss: 0.6297 - recall: 0.636 - ETA: 35s - loss: 0.6300 - recall: 0.635 - ETA: 35s - loss: 0.6296 - recall: 0.636 - ETA: 35s - loss: 0.6291 - recall: 0.638 - ETA: 35s - loss: 0.6296 - recall: 0.638 - ETA: 35s - loss: 0.6292 - recall: 0.639 - ETA: 35s - loss: 0.6293 - recall: 0.638 - ETA: 34s - loss: 0.6291 - recall: 0.639 - ETA: 34s - loss: 0.6286 - recall: 0.640 - ETA: 34s - loss: 0.6282 - recall: 0.640 - ETA: 34s - loss: 0.6285 - recall: 0.639 - ETA: 34s - loss: 0.6288 - recall: 0.639 - ETA: 34s - loss: 0.6285 - recall: 0.639 - ETA: 34s - loss: 0.6278 - recall: 0.640 - ETA: 34s - loss: 0.6281 - recall: 0.640 - ETA: 34s - loss: 0.6276 - recall: 0.639 - ETA: 34s - loss: 0.6279 - recall: 0.639 - ETA: 34s - loss: 0.6274 - recall: 0.640 - ETA: 34s - loss: 0.6277 - recall: 0.639 - ETA: 34s - loss: 0.6272 - recall: 0.640 - ETA: 34s - loss: 0.6265 - recall: 0.640 - ETA: 34s - loss: 0.6264 - recall: 0.640 - ETA: 34s - loss: 0.6267 - recall: 0.640 - ETA: 34s - loss: 0.6270 - recall: 0.640 - ETA: 34s - loss: 0.6271 - recall: 0.640 - ETA: 34s - loss: 0.6268 - recall: 0.640 - ETA: 34s - loss: 0.6262 - recall: 0.641 - ETA: 34s - loss: 0.6260 - recall: 0.641 - ETA: 34s - loss: 0.6261 - recall: 0.641 - ETA: 34s - loss: 0.6260 - recall: 0.641 - ETA: 34s - loss: 0.6257 - recall: 0.642 - ETA: 34s - loss: 0.6255 - recall: 0.642 - ETA: 34s - loss: 0.6264 - recall: 0.642 - ETA: 34s - loss: 0.6263 - recall: 0.642 - ETA: 34s - loss: 0.6259 - recall: 0.643 - ETA: 34s - loss: 0.6260 - recall: 0.643 - ETA: 34s - loss: 0.6261 - recall: 0.642 - ETA: 34s - loss: 0.6261 - recall: 0.642 - ETA: 34s - loss: 0.6261 - recall: 0.642 - ETA: 34s - loss: 0.6262 - recall: 0.642 - ETA: 34s - loss: 0.6264 - recall: 0.642 - ETA: 34s - loss: 0.6264 - recall: 0.642 - ETA: 34s - loss: 0.6266 - recall: 0.642 - ETA: 34s - loss: 0.6264 - recall: 0.642 - ETA: 34s - loss: 0.6269 - recall: 0.642 - ETA: 34s - loss: 0.6268 - recall: 0.642 - ETA: 34s - loss: 0.6268 - recall: 0.642 - ETA: 34s - loss: 0.6265 - recall: 0.642 - ETA: 34s - loss: 0.6265 - recall: 0.642 - ETA: 34s - loss: 0.6268 - recall: 0.641 - ETA: 34s - loss: 0.6272 - recall: 0.640 - ETA: 34s - loss: 0.6271 - recall: 0.641 - ETA: 34s - loss: 0.6273 - recall: 0.640 - ETA: 34s - loss: 0.6272 - recall: 0.641 - ETA: 33s - loss: 0.6272 - recall: 0.641 - ETA: 33s - loss: 0.6271 - recall: 0.641 - ETA: 33s - loss: 0.6267 - recall: 0.641 - ETA: 33s - loss: 0.6267 - recall: 0.642 - ETA: 33s - loss: 0.6264 - recall: 0.642 - ETA: 33s - loss: 0.6260 - recall: 0.642 - ETA: 33s - loss: 0.6256 - recall: 0.642 - ETA: 33s - loss: 0.6258 - recall: 0.642 - ETA: 33s - loss: 0.6264 - recall: 0.642 - ETA: 33s - loss: 0.6264 - recall: 0.642 - ETA: 33s - loss: 0.6268 - recall: 0.641 - ETA: 32s - loss: 0.6272 - recall: 0.641 - ETA: 32s - loss: 0.6266 - recall: 0.642 - ETA: 32s - loss: 0.6263 - recall: 0.643 - ETA: 32s - loss: 0.6264 - recall: 0.642 - ETA: 32s - loss: 0.6263 - recall: 0.642 - ETA: 32s - loss: 0.6261 - recall: 0.643 - ETA: 32s - loss: 0.6260 - recall: 0.643 - ETA: 32s - loss: 0.6256 - recall: 0.643 - ETA: 32s - loss: 0.6253 - recall: 0.643 - ETA: 32s - loss: 0.6257 - recall: 0.643 - ETA: 32s - loss: 0.6259 - recall: 0.643 - ETA: 32s - loss: 0.6263 - recall: 0.643 - ETA: 32s - loss: 0.6261 - recall: 0.643 - ETA: 32s - loss: 0.6264 - recall: 0.642 - ETA: 31s - loss: 0.6260 - recall: 0.642 - ETA: 31s - loss: 0.6257 - recall: 0.643 - ETA: 31s - loss: 0.6257 - recall: 0.642 - ETA: 31s - loss: 0.6256 - recall: 0.642 - ETA: 31s - loss: 0.6255 - recall: 0.643 - ETA: 31s - loss: 0.6253 - recall: 0.643 - ETA: 31s - loss: 0.6255 - recall: 0.643 - ETA: 31s - loss: 0.6252 - recall: 0.643 - ETA: 31s - loss: 0.6253 - recall: 0.643 - ETA: 31s - loss: 0.6251 - recall: 0.643 - ETA: 31s - loss: 0.6247 - recall: 0.643 - ETA: 31s - loss: 0.6244 - recall: 0.644 - ETA: 30s - loss: 0.6245 - recall: 0.644 - ETA: 30s - loss: 0.6245 - recall: 0.643 - ETA: 30s - loss: 0.6245 - recall: 0.643 - ETA: 30s - loss: 0.6245 - recall: 0.643 - ETA: 30s - loss: 0.6242 - recall: 0.643 - ETA: 30s - loss: 0.6242 - recall: 0.643 - ETA: 30s - loss: 0.6240 - recall: 0.643 - ETA: 30s - loss: 0.6240 - recall: 0.643 - ETA: 30s - loss: 0.6242 - recall: 0.643 - ETA: 30s - loss: 0.6240 - recall: 0.644 - ETA: 30s - loss: 0.6240 - recall: 0.644 - ETA: 30s - loss: 0.6237 - recall: 0.644 - ETA: 30s - loss: 0.6235 - recall: 0.644 - ETA: 29s - loss: 0.6233 - recall: 0.645 - ETA: 29s - loss: 0.6229 - recall: 0.645 - ETA: 29s - loss: 0.6233 - recall: 0.645 - ETA: 29s - loss: 0.6233 - recall: 0.644 - ETA: 29s - loss: 0.6233 - recall: 0.644 - ETA: 29s - loss: 0.6232 - recall: 0.644 - ETA: 29s - loss: 0.6234 - recall: 0.644 - ETA: 29s - loss: 0.6233 - recall: 0.644 - ETA: 29s - loss: 0.6229 - recall: 0.645 - ETA: 29s - loss: 0.6230 - recall: 0.645 - ETA: 29s - loss: 0.6231 - recall: 0.644 - ETA: 29s - loss: 0.6233 - recall: 0.645 - ETA: 29s - loss: 0.6230 - recall: 0.645 - ETA: 28s - loss: 0.6230 - recall: 0.645 - ETA: 28s - loss: 0.6231 - recall: 0.644 - ETA: 28s - loss: 0.6228 - recall: 0.645 - ETA: 28s - loss: 0.6225 - recall: 0.645 - ETA: 28s - loss: 0.6223 - recall: 0.645 - ETA: 28s - loss: 0.6225 - recall: 0.645 - ETA: 28s - loss: 0.6221 - recall: 0.645 - ETA: 28s - loss: 0.6225 - recall: 0.645935744/59934 [================>.............] - ETA: 28s - loss: 0.6225 - recall: 0.646 - ETA: 28s - loss: 0.6225 - recall: 0.646 - ETA: 28s - loss: 0.6230 - recall: 0.645 - ETA: 28s - loss: 0.6231 - recall: 0.645 - ETA: 28s - loss: 0.6231 - recall: 0.645 - ETA: 28s - loss: 0.6231 - recall: 0.645 - ETA: 28s - loss: 0.6232 - recall: 0.645 - ETA: 28s - loss: 0.6232 - recall: 0.645 - ETA: 27s - loss: 0.6233 - recall: 0.645 - ETA: 27s - loss: 0.6229 - recall: 0.646 - ETA: 27s - loss: 0.6230 - recall: 0.645 - ETA: 27s - loss: 0.6230 - recall: 0.645 - ETA: 27s - loss: 0.6229 - recall: 0.645 - ETA: 27s - loss: 0.6228 - recall: 0.646 - ETA: 27s - loss: 0.6224 - recall: 0.646 - ETA: 27s - loss: 0.6227 - recall: 0.646 - ETA: 27s - loss: 0.6225 - recall: 0.646 - ETA: 27s - loss: 0.6224 - recall: 0.646 - ETA: 27s - loss: 0.6221 - recall: 0.647 - ETA: 27s - loss: 0.6216 - recall: 0.647 - ETA: 27s - loss: 0.6211 - recall: 0.648 - ETA: 26s - loss: 0.6209 - recall: 0.648 - ETA: 26s - loss: 0.6208 - recall: 0.648 - ETA: 26s - loss: 0.6209 - recall: 0.648 - ETA: 26s - loss: 0.6209 - recall: 0.648 - ETA: 26s - loss: 0.6208 - recall: 0.648 - ETA: 26s - loss: 0.6210 - recall: 0.648 - ETA: 26s - loss: 0.6208 - recall: 0.648 - ETA: 26s - loss: 0.6207 - recall: 0.649 - ETA: 26s - loss: 0.6205 - recall: 0.649 - ETA: 26s - loss: 0.6205 - recall: 0.649 - ETA: 26s - loss: 0.6207 - recall: 0.648 - ETA: 26s - loss: 0.6205 - recall: 0.649 - ETA: 26s - loss: 0.6204 - recall: 0.649 - ETA: 26s - loss: 0.6204 - recall: 0.649 - ETA: 25s - loss: 0.6203 - recall: 0.649 - ETA: 25s - loss: 0.6203 - recall: 0.649 - ETA: 25s - loss: 0.6203 - recall: 0.649 - ETA: 25s - loss: 0.6203 - recall: 0.649 - ETA: 25s - loss: 0.6201 - recall: 0.649 - ETA: 25s - loss: 0.6199 - recall: 0.649 - ETA: 25s - loss: 0.6197 - recall: 0.649 - ETA: 25s - loss: 0.6197 - recall: 0.649 - ETA: 25s - loss: 0.6196 - recall: 0.649 - ETA: 25s - loss: 0.6195 - recall: 0.650 - ETA: 25s - loss: 0.6195 - recall: 0.649 - ETA: 25s - loss: 0.6194 - recall: 0.650 - ETA: 25s - loss: 0.6194 - recall: 0.649 - ETA: 25s - loss: 0.6195 - recall: 0.650 - ETA: 24s - loss: 0.6195 - recall: 0.649 - ETA: 24s - loss: 0.6193 - recall: 0.650 - ETA: 24s - loss: 0.6194 - recall: 0.650 - ETA: 24s - loss: 0.6194 - recall: 0.650 - ETA: 24s - loss: 0.6195 - recall: 0.650 - ETA: 24s - loss: 0.6195 - recall: 0.650 - ETA: 24s - loss: 0.6197 - recall: 0.650 - ETA: 24s - loss: 0.6197 - recall: 0.650 - ETA: 24s - loss: 0.6197 - recall: 0.650 - ETA: 24s - loss: 0.6201 - recall: 0.650 - ETA: 24s - loss: 0.6201 - recall: 0.650 - ETA: 24s - loss: 0.6201 - recall: 0.650 - ETA: 24s - loss: 0.6202 - recall: 0.650 - ETA: 24s - loss: 0.6200 - recall: 0.650 - ETA: 24s - loss: 0.6200 - recall: 0.650 - ETA: 23s - loss: 0.6202 - recall: 0.649 - ETA: 23s - loss: 0.6201 - recall: 0.650 - ETA: 23s - loss: 0.6200 - recall: 0.650 - ETA: 23s - loss: 0.6201 - recall: 0.649 - ETA: 23s - loss: 0.6202 - recall: 0.650 - ETA: 23s - loss: 0.6204 - recall: 0.649 - ETA: 23s - loss: 0.6203 - recall: 0.649 - ETA: 23s - loss: 0.6204 - recall: 0.649 - ETA: 23s - loss: 0.6205 - recall: 0.649 - ETA: 23s - loss: 0.6204 - recall: 0.649 - ETA: 23s - loss: 0.6204 - recall: 0.649 - ETA: 23s - loss: 0.6205 - recall: 0.649 - ETA: 23s - loss: 0.6204 - recall: 0.649 - ETA: 23s - loss: 0.6204 - recall: 0.649 - ETA: 22s - loss: 0.6206 - recall: 0.649 - ETA: 22s - loss: 0.6206 - recall: 0.649 - ETA: 22s - loss: 0.6204 - recall: 0.649 - ETA: 22s - loss: 0.6207 - recall: 0.649 - ETA: 22s - loss: 0.6207 - recall: 0.650 - ETA: 22s - loss: 0.6207 - recall: 0.649 - ETA: 22s - loss: 0.6206 - recall: 0.649 - ETA: 22s - loss: 0.6206 - recall: 0.649 - ETA: 22s - loss: 0.6205 - recall: 0.650 - ETA: 22s - loss: 0.6206 - recall: 0.650 - ETA: 22s - loss: 0.6207 - recall: 0.650 - ETA: 22s - loss: 0.6207 - recall: 0.650 - ETA: 22s - loss: 0.6206 - recall: 0.650 - ETA: 22s - loss: 0.6208 - recall: 0.650 - ETA: 22s - loss: 0.6208 - recall: 0.649 - ETA: 21s - loss: 0.6208 - recall: 0.650 - ETA: 21s - loss: 0.6207 - recall: 0.650 - ETA: 21s - loss: 0.6206 - recall: 0.650 - ETA: 21s - loss: 0.6205 - recall: 0.650 - ETA: 21s - loss: 0.6205 - recall: 0.650 - ETA: 21s - loss: 0.6208 - recall: 0.649 - ETA: 21s - loss: 0.6208 - recall: 0.650 - ETA: 21s - loss: 0.6208 - recall: 0.649 - ETA: 21s - loss: 0.6208 - recall: 0.649 - ETA: 21s - loss: 0.6209 - recall: 0.649 - ETA: 21s - loss: 0.6210 - recall: 0.649 - ETA: 21s - loss: 0.6209 - recall: 0.649 - ETA: 21s - loss: 0.6210 - recall: 0.649 - ETA: 21s - loss: 0.6210 - recall: 0.649 - ETA: 21s - loss: 0.6211 - recall: 0.649 - ETA: 21s - loss: 0.6211 - recall: 0.649 - ETA: 20s - loss: 0.6210 - recall: 0.649 - ETA: 20s - loss: 0.6210 - recall: 0.649 - ETA: 20s - loss: 0.6211 - recall: 0.649 - ETA: 20s - loss: 0.6211 - recall: 0.649 - ETA: 20s - loss: 0.6210 - recall: 0.649 - ETA: 20s - loss: 0.6210 - recall: 0.649 - ETA: 20s - loss: 0.6210 - recall: 0.649 - ETA: 20s - loss: 0.6211 - recall: 0.649 - ETA: 20s - loss: 0.6209 - recall: 0.649 - ETA: 20s - loss: 0.6208 - recall: 0.650 - ETA: 20s - loss: 0.6208 - recall: 0.650 - ETA: 20s - loss: 0.6210 - recall: 0.649 - ETA: 20s - loss: 0.6208 - recall: 0.650 - ETA: 20s - loss: 0.6209 - recall: 0.650 - ETA: 20s - loss: 0.6208 - recall: 0.650 - ETA: 19s - loss: 0.6209 - recall: 0.650 - ETA: 19s - loss: 0.6209 - recall: 0.650 - ETA: 19s - loss: 0.6210 - recall: 0.650 - ETA: 19s - loss: 0.6209 - recall: 0.649 - ETA: 19s - loss: 0.6210 - recall: 0.649 - ETA: 19s - loss: 0.6209 - recall: 0.649 - ETA: 19s - loss: 0.6212 - recall: 0.650 - ETA: 19s - loss: 0.6211 - recall: 0.650 - ETA: 19s - loss: 0.6210 - recall: 0.650 - ETA: 19s - loss: 0.6210 - recall: 0.650 - ETA: 19s - loss: 0.6208 - recall: 0.650 - ETA: 19s - loss: 0.6208 - recall: 0.650 - ETA: 19s - loss: 0.6207 - recall: 0.650 - ETA: 19s - loss: 0.6206 - recall: 0.650 - ETA: 19s - loss: 0.6207 - recall: 0.650 - ETA: 18s - loss: 0.6206 - recall: 0.650 - ETA: 18s - loss: 0.6204 - recall: 0.650 - ETA: 18s - loss: 0.6207 - recall: 0.650 - ETA: 18s - loss: 0.6206 - recall: 0.651 - ETA: 18s - loss: 0.6207 - recall: 0.651 - ETA: 18s - loss: 0.6206 - recall: 0.651 - ETA: 18s - loss: 0.6206 - recall: 0.651 - ETA: 18s - loss: 0.6206 - recall: 0.651 - ETA: 18s - loss: 0.6206 - recall: 0.651 - ETA: 18s - loss: 0.6207 - recall: 0.651 - ETA: 18s - loss: 0.6207 - recall: 0.650 - ETA: 18s - loss: 0.6207 - recall: 0.650 - ETA: 18s - loss: 0.6208 - recall: 0.650 - ETA: 18s - loss: 0.6209 - recall: 0.650 - ETA: 18s - loss: 0.6209 - recall: 0.650 - ETA: 18s - loss: 0.6208 - recall: 0.650 - ETA: 18s - loss: 0.6208 - recall: 0.650 - ETA: 18s - loss: 0.6208 - recall: 0.650 - ETA: 17s - loss: 0.6207 - recall: 0.650 - ETA: 17s - loss: 0.6208 - recall: 0.650 - ETA: 17s - loss: 0.6208 - recall: 0.650 - ETA: 17s - loss: 0.6208 - recall: 0.650 - ETA: 17s - loss: 0.6208 - recall: 0.650 - ETA: 17s - loss: 0.6207 - recall: 0.650 - ETA: 17s - loss: 0.6207 - recall: 0.650 - ETA: 17s - loss: 0.6206 - recall: 0.650 - ETA: 17s - loss: 0.6204 - recall: 0.650 - ETA: 17s - loss: 0.6203 - recall: 0.651 - ETA: 17s - loss: 0.6200 - recall: 0.651 - ETA: 17s - loss: 0.6200 - recall: 0.651 - ETA: 17s - loss: 0.6199 - recall: 0.651 - ETA: 17s - loss: 0.6198 - recall: 0.651 - ETA: 17s - loss: 0.6198 - recall: 0.651 - ETA: 17s - loss: 0.6199 - recall: 0.651 - ETA: 17s - loss: 0.6199 - recall: 0.651 - ETA: 17s - loss: 0.6198 - recall: 0.651 - ETA: 17s - loss: 0.6197 - recall: 0.651 - ETA: 17s - loss: 0.6196 - recall: 0.651 - ETA: 16s - loss: 0.6196 - recall: 0.651 - ETA: 16s - loss: 0.6197 - recall: 0.651 - ETA: 16s - loss: 0.6196 - recall: 0.651 - ETA: 16s - loss: 0.6195 - recall: 0.651 - ETA: 16s - loss: 0.6194 - recall: 0.652 - ETA: 16s - loss: 0.6194 - recall: 0.651 - ETA: 16s - loss: 0.6194 - recall: 0.651 - ETA: 16s - loss: 0.6193 - recall: 0.652 - ETA: 16s - loss: 0.6192 - recall: 0.652 - ETA: 16s - loss: 0.6192 - recall: 0.652 - ETA: 16s - loss: 0.6192 - recall: 0.651 - ETA: 16s - loss: 0.6192 - recall: 0.652 - ETA: 16s - loss: 0.6191 - recall: 0.652 - ETA: 16s - loss: 0.6190 - recall: 0.652 - ETA: 16s - loss: 0.6190 - recall: 0.652 - ETA: 16s - loss: 0.6191 - recall: 0.652 - ETA: 15s - loss: 0.6191 - recall: 0.6522"
     ]
    },
    {
     "name": "stdout",
     "output_type": "stream",
     "text": [
      "54592/59934 [==========================>...] - ETA: 15s - loss: 0.6190 - recall: 0.652 - ETA: 15s - loss: 0.6192 - recall: 0.652 - ETA: 15s - loss: 0.6192 - recall: 0.652 - ETA: 15s - loss: 0.6193 - recall: 0.652 - ETA: 15s - loss: 0.6192 - recall: 0.652 - ETA: 15s - loss: 0.6190 - recall: 0.652 - ETA: 15s - loss: 0.6189 - recall: 0.652 - ETA: 15s - loss: 0.6191 - recall: 0.652 - ETA: 15s - loss: 0.6190 - recall: 0.652 - ETA: 15s - loss: 0.6189 - recall: 0.652 - ETA: 15s - loss: 0.6189 - recall: 0.652 - ETA: 15s - loss: 0.6188 - recall: 0.652 - ETA: 15s - loss: 0.6188 - recall: 0.652 - ETA: 15s - loss: 0.6190 - recall: 0.652 - ETA: 15s - loss: 0.6190 - recall: 0.652 - ETA: 14s - loss: 0.6191 - recall: 0.652 - ETA: 14s - loss: 0.6190 - recall: 0.652 - ETA: 14s - loss: 0.6188 - recall: 0.652 - ETA: 14s - loss: 0.6188 - recall: 0.652 - ETA: 14s - loss: 0.6189 - recall: 0.652 - ETA: 14s - loss: 0.6188 - recall: 0.653 - ETA: 14s - loss: 0.6189 - recall: 0.652 - ETA: 14s - loss: 0.6189 - recall: 0.652 - ETA: 14s - loss: 0.6189 - recall: 0.652 - ETA: 14s - loss: 0.6190 - recall: 0.652 - ETA: 14s - loss: 0.6189 - recall: 0.652 - ETA: 14s - loss: 0.6188 - recall: 0.653 - ETA: 14s - loss: 0.6189 - recall: 0.653 - ETA: 14s - loss: 0.6188 - recall: 0.653 - ETA: 14s - loss: 0.6187 - recall: 0.653 - ETA: 14s - loss: 0.6187 - recall: 0.653 - ETA: 13s - loss: 0.6187 - recall: 0.653 - ETA: 13s - loss: 0.6187 - recall: 0.653 - ETA: 13s - loss: 0.6187 - recall: 0.653 - ETA: 13s - loss: 0.6186 - recall: 0.653 - ETA: 13s - loss: 0.6186 - recall: 0.653 - ETA: 13s - loss: 0.6187 - recall: 0.653 - ETA: 13s - loss: 0.6185 - recall: 0.653 - ETA: 13s - loss: 0.6185 - recall: 0.653 - ETA: 13s - loss: 0.6185 - recall: 0.653 - ETA: 13s - loss: 0.6185 - recall: 0.653 - ETA: 13s - loss: 0.6185 - recall: 0.653 - ETA: 13s - loss: 0.6185 - recall: 0.653 - ETA: 13s - loss: 0.6186 - recall: 0.653 - ETA: 13s - loss: 0.6185 - recall: 0.653 - ETA: 13s - loss: 0.6185 - recall: 0.653 - ETA: 12s - loss: 0.6185 - recall: 0.653 - ETA: 12s - loss: 0.6185 - recall: 0.653 - ETA: 12s - loss: 0.6186 - recall: 0.653 - ETA: 12s - loss: 0.6185 - recall: 0.653 - ETA: 12s - loss: 0.6185 - recall: 0.653 - ETA: 12s - loss: 0.6184 - recall: 0.653 - ETA: 12s - loss: 0.6184 - recall: 0.653 - ETA: 12s - loss: 0.6184 - recall: 0.653 - ETA: 12s - loss: 0.6185 - recall: 0.653 - ETA: 12s - loss: 0.6184 - recall: 0.653 - ETA: 12s - loss: 0.6184 - recall: 0.652 - ETA: 12s - loss: 0.6185 - recall: 0.652 - ETA: 12s - loss: 0.6185 - recall: 0.652 - ETA: 12s - loss: 0.6183 - recall: 0.652 - ETA: 12s - loss: 0.6183 - recall: 0.653 - ETA: 12s - loss: 0.6181 - recall: 0.653 - ETA: 11s - loss: 0.6181 - recall: 0.653 - ETA: 11s - loss: 0.6181 - recall: 0.653 - ETA: 11s - loss: 0.6180 - recall: 0.653 - ETA: 11s - loss: 0.6180 - recall: 0.653 - ETA: 11s - loss: 0.6179 - recall: 0.653 - ETA: 11s - loss: 0.6179 - recall: 0.653 - ETA: 11s - loss: 0.6180 - recall: 0.652 - ETA: 11s - loss: 0.6179 - recall: 0.653 - ETA: 11s - loss: 0.6178 - recall: 0.653 - ETA: 11s - loss: 0.6177 - recall: 0.653 - ETA: 11s - loss: 0.6177 - recall: 0.653 - ETA: 11s - loss: 0.6177 - recall: 0.653 - ETA: 11s - loss: 0.6178 - recall: 0.653 - ETA: 11s - loss: 0.6178 - recall: 0.653 - ETA: 11s - loss: 0.6178 - recall: 0.652 - ETA: 11s - loss: 0.6177 - recall: 0.653 - ETA: 10s - loss: 0.6176 - recall: 0.652 - ETA: 10s - loss: 0.6176 - recall: 0.652 - ETA: 10s - loss: 0.6176 - recall: 0.653 - ETA: 10s - loss: 0.6176 - recall: 0.652 - ETA: 10s - loss: 0.6174 - recall: 0.653 - ETA: 10s - loss: 0.6175 - recall: 0.653 - ETA: 10s - loss: 0.6173 - recall: 0.653 - ETA: 10s - loss: 0.6175 - recall: 0.653 - ETA: 10s - loss: 0.6174 - recall: 0.653 - ETA: 10s - loss: 0.6173 - recall: 0.653 - ETA: 10s - loss: 0.6173 - recall: 0.653 - ETA: 10s - loss: 0.6174 - recall: 0.653 - ETA: 10s - loss: 0.6174 - recall: 0.653 - ETA: 10s - loss: 0.6174 - recall: 0.653 - ETA: 10s - loss: 0.6173 - recall: 0.653 - ETA: 9s - loss: 0.6173 - recall: 0.653 - ETA: 9s - loss: 0.6173 - recall: 0.65 - ETA: 9s - loss: 0.6173 - recall: 0.65 - ETA: 9s - loss: 0.6173 - recall: 0.65 - ETA: 9s - loss: 0.6173 - recall: 0.65 - ETA: 9s - loss: 0.6172 - recall: 0.65 - ETA: 9s - loss: 0.6171 - recall: 0.65 - ETA: 9s - loss: 0.6172 - recall: 0.65 - ETA: 9s - loss: 0.6171 - recall: 0.65 - ETA: 9s - loss: 0.6170 - recall: 0.65 - ETA: 9s - loss: 0.6170 - recall: 0.65 - ETA: 9s - loss: 0.6171 - recall: 0.65 - ETA: 9s - loss: 0.6170 - recall: 0.65 - ETA: 9s - loss: 0.6172 - recall: 0.65 - ETA: 9s - loss: 0.6171 - recall: 0.65 - ETA: 9s - loss: 0.6171 - recall: 0.65 - ETA: 8s - loss: 0.6173 - recall: 0.65 - ETA: 8s - loss: 0.6172 - recall: 0.65 - ETA: 8s - loss: 0.6171 - recall: 0.65 - ETA: 8s - loss: 0.6172 - recall: 0.65 - ETA: 8s - loss: 0.6172 - recall: 0.65 - ETA: 8s - loss: 0.6171 - recall: 0.65 - ETA: 8s - loss: 0.6171 - recall: 0.65 - ETA: 8s - loss: 0.6172 - recall: 0.65 - ETA: 8s - loss: 0.6171 - recall: 0.65 - ETA: 8s - loss: 0.6171 - recall: 0.65 - ETA: 8s - loss: 0.6171 - recall: 0.65 - ETA: 8s - loss: 0.6171 - recall: 0.65 - ETA: 8s - loss: 0.6170 - recall: 0.65 - ETA: 8s - loss: 0.6172 - recall: 0.65 - ETA: 8s - loss: 0.6171 - recall: 0.65 - ETA: 8s - loss: 0.6172 - recall: 0.65 - ETA: 7s - loss: 0.6171 - recall: 0.65 - ETA: 7s - loss: 0.6171 - recall: 0.65 - ETA: 7s - loss: 0.6170 - recall: 0.65 - ETA: 7s - loss: 0.6171 - recall: 0.65 - ETA: 7s - loss: 0.6171 - recall: 0.65 - ETA: 7s - loss: 0.6172 - recall: 0.65 - ETA: 7s - loss: 0.6170 - recall: 0.65 - ETA: 7s - loss: 0.6169 - recall: 0.65 - ETA: 7s - loss: 0.6168 - recall: 0.65 - ETA: 7s - loss: 0.6168 - recall: 0.65 - ETA: 7s - loss: 0.6169 - recall: 0.65 - ETA: 7s - loss: 0.6169 - recall: 0.65 - ETA: 7s - loss: 0.6171 - recall: 0.65 - ETA: 7s - loss: 0.6170 - recall: 0.65 - ETA: 7s - loss: 0.6169 - recall: 0.65 - ETA: 7s - loss: 0.6169 - recall: 0.65 - ETA: 6s - loss: 0.6169 - recall: 0.65 - ETA: 6s - loss: 0.6169 - recall: 0.65 - ETA: 6s - loss: 0.6169 - recall: 0.65 - ETA: 6s - loss: 0.6170 - recall: 0.65 - ETA: 6s - loss: 0.6169 - recall: 0.65 - ETA: 6s - loss: 0.6170 - recall: 0.65 - ETA: 6s - loss: 0.6169 - recall: 0.65 - ETA: 6s - loss: 0.6168 - recall: 0.65 - ETA: 6s - loss: 0.6169 - recall: 0.65 - ETA: 6s - loss: 0.6169 - recall: 0.65 - ETA: 6s - loss: 0.6169 - recall: 0.65 - ETA: 6s - loss: 0.6170 - recall: 0.65 - ETA: 6s - loss: 0.6170 - recall: 0.65 - ETA: 6s - loss: 0.6169 - recall: 0.65 - ETA: 6s - loss: 0.6169 - recall: 0.65 - ETA: 6s - loss: 0.6169 - recall: 0.65 - ETA: 5s - loss: 0.6168 - recall: 0.65 - ETA: 5s - loss: 0.6169 - recall: 0.65 - ETA: 5s - loss: 0.6168 - recall: 0.65 - ETA: 5s - loss: 0.6168 - recall: 0.65 - ETA: 5s - loss: 0.6168 - recall: 0.65 - ETA: 5s - loss: 0.6168 - recall: 0.65 - ETA: 5s - loss: 0.6167 - recall: 0.65 - ETA: 5s - loss: 0.6167 - recall: 0.65 - ETA: 5s - loss: 0.6168 - recall: 0.65 - ETA: 5s - loss: 0.6168 - recall: 0.65 - ETA: 5s - loss: 0.6168 - recall: 0.65 - ETA: 5s - loss: 0.6167 - recall: 0.65 - ETA: 5s - loss: 0.6167 - recall: 0.65 - ETA: 5s - loss: 0.6166 - recall: 0.65 - ETA: 5s - loss: 0.6167 - recall: 0.65 - ETA: 5s - loss: 0.6166 - recall: 0.65 - ETA: 4s - loss: 0.6166 - recall: 0.65 - ETA: 4s - loss: 0.6166 - recall: 0.65 - ETA: 4s - loss: 0.6166 - recall: 0.65 - ETA: 4s - loss: 0.6166 - recall: 0.65 - ETA: 4s - loss: 0.6167 - recall: 0.65 - ETA: 4s - loss: 0.6166 - recall: 0.65 - ETA: 4s - loss: 0.6166 - recall: 0.65 - ETA: 4s - loss: 0.6169 - recall: 0.65 - ETA: 4s - loss: 0.6169 - recall: 0.65 - ETA: 4s - loss: 0.6169 - recall: 0.65 - ETA: 4s - loss: 0.6169 - recall: 0.65 - ETA: 4s - loss: 0.6169 - recall: 0.65 - ETA: 4s - loss: 0.6168 - recall: 0.65 - ETA: 4s - loss: 0.6169 - recall: 0.65 - ETA: 4s - loss: 0.6168 - recall: 0.65 - ETA: 4s - loss: 0.6168 - recall: 0.65 - ETA: 4s - loss: 0.6169 - recall: 0.65 - ETA: 3s - loss: 0.6168 - recall: 0.65 - ETA: 3s - loss: 0.6168 - recall: 0.65 - ETA: 3s - loss: 0.6168 - recall: 0.65 - ETA: 3s - loss: 0.6167 - recall: 0.65 - ETA: 3s - loss: 0.6166 - recall: 0.65 - ETA: 3s - loss: 0.6166 - recall: 0.65 - ETA: 3s - loss: 0.6166 - recall: 0.65 - ETA: 3s - loss: 0.6164 - recall: 0.65 - ETA: 3s - loss: 0.6164 - recall: 0.6539"
     ]
    },
    {
     "name": "stdout",
     "output_type": "stream",
     "text": [
      "59934/59934 [==============================] - ETA: 3s - loss: 0.6164 - recall: 0.65 - ETA: 3s - loss: 0.6163 - recall: 0.65 - ETA: 3s - loss: 0.6163 - recall: 0.65 - ETA: 3s - loss: 0.6162 - recall: 0.65 - ETA: 3s - loss: 0.6164 - recall: 0.65 - ETA: 3s - loss: 0.6165 - recall: 0.65 - ETA: 3s - loss: 0.6164 - recall: 0.65 - ETA: 2s - loss: 0.6163 - recall: 0.65 - ETA: 2s - loss: 0.6164 - recall: 0.65 - ETA: 2s - loss: 0.6164 - recall: 0.65 - ETA: 2s - loss: 0.6164 - recall: 0.65 - ETA: 2s - loss: 0.6163 - recall: 0.65 - ETA: 2s - loss: 0.6163 - recall: 0.65 - ETA: 2s - loss: 0.6165 - recall: 0.65 - ETA: 2s - loss: 0.6164 - recall: 0.65 - ETA: 2s - loss: 0.6163 - recall: 0.65 - ETA: 2s - loss: 0.6163 - recall: 0.65 - ETA: 2s - loss: 0.6162 - recall: 0.65 - ETA: 2s - loss: 0.6163 - recall: 0.65 - ETA: 2s - loss: 0.6163 - recall: 0.65 - ETA: 2s - loss: 0.6162 - recall: 0.65 - ETA: 2s - loss: 0.6161 - recall: 0.65 - ETA: 2s - loss: 0.6161 - recall: 0.65 - ETA: 2s - loss: 0.6161 - recall: 0.65 - ETA: 2s - loss: 0.6161 - recall: 0.65 - ETA: 1s - loss: 0.6160 - recall: 0.65 - ETA: 1s - loss: 0.6160 - recall: 0.65 - ETA: 1s - loss: 0.6160 - recall: 0.65 - ETA: 1s - loss: 0.6159 - recall: 0.65 - ETA: 1s - loss: 0.6159 - recall: 0.65 - ETA: 1s - loss: 0.6159 - recall: 0.65 - ETA: 1s - loss: 0.6159 - recall: 0.65 - ETA: 1s - loss: 0.6158 - recall: 0.65 - ETA: 1s - loss: 0.6158 - recall: 0.65 - ETA: 1s - loss: 0.6158 - recall: 0.65 - ETA: 1s - loss: 0.6159 - recall: 0.65 - ETA: 1s - loss: 0.6159 - recall: 0.65 - ETA: 1s - loss: 0.6159 - recall: 0.65 - ETA: 1s - loss: 0.6159 - recall: 0.65 - ETA: 1s - loss: 0.6159 - recall: 0.65 - ETA: 1s - loss: 0.6157 - recall: 0.65 - ETA: 1s - loss: 0.6157 - recall: 0.65 - ETA: 0s - loss: 0.6159 - recall: 0.65 - ETA: 0s - loss: 0.6158 - recall: 0.65 - ETA: 0s - loss: 0.6158 - recall: 0.65 - ETA: 0s - loss: 0.6157 - recall: 0.65 - ETA: 0s - loss: 0.6157 - recall: 0.65 - ETA: 0s - loss: 0.6158 - recall: 0.65 - ETA: 0s - loss: 0.6158 - recall: 0.65 - ETA: 0s - loss: 0.6157 - recall: 0.65 - ETA: 0s - loss: 0.6157 - recall: 0.65 - ETA: 0s - loss: 0.6155 - recall: 0.65 - ETA: 0s - loss: 0.6154 - recall: 0.65 - ETA: 0s - loss: 0.6154 - recall: 0.65 - ETA: 0s - loss: 0.6154 - recall: 0.65 - ETA: 0s - loss: 0.6153 - recall: 0.65 - ETA: 0s - loss: 0.6152 - recall: 0.65 - ETA: 0s - loss: 0.6151 - recall: 0.65 - 40s 668us/sample - loss: 0.6150 - recall: 0.6549 - val_loss: 0.8694 - val_recall: 0.1893\n",
      "10500/10500 [==============================] - ETA: 0s - loss: 0.8809 - recall: 0.15 - ETA: 0s - loss: 0.8676 - recall: 0.18 - ETA: 0s - loss: 0.8697 - recall: 0.18 - ETA: 0s - loss: 0.8708 - recall: 0.18 - ETA: 0s - loss: 0.8687 - recall: 0.18 - ETA: 0s - loss: 0.8659 - recall: 0.19 - ETA: 0s - loss: 0.8675 - recall: 0.18 - ETA: 0s - loss: 0.8679 - recall: 0.18 - ETA: 0s - loss: 0.8698 - recall: 0.18 - ETA: 0s - loss: 0.8704 - recall: 0.18 - ETA: 0s - loss: 0.8714 - recall: 0.18 - ETA: 0s - loss: 0.8725 - recall: 0.18 - ETA: 0s - loss: 0.8728 - recall: 0.18 - ETA: 0s - loss: 0.8732 - recall: 0.18 - ETA: 0s - loss: 0.8717 - recall: 0.18 - ETA: 0s - loss: 0.8699 - recall: 0.18 - ETA: 0s - loss: 0.8701 - recall: 0.18 - ETA: 0s - loss: 0.8705 - recall: 0.18 - ETA: 0s - loss: 0.8690 - recall: 0.18 - 1s 89us/sample - loss: 0.8694 - recall: 0.1893\n",
      "Test accuracy: 0.18933333\n"
     ]
    },
    {
     "data": {
      "image/png": "[encoded data removed]",
      "text/plain": [
       "<Figure size 432x360 with 1 Axes>"
      ]
     },
     "metadata": {
      "needs_background": "light"
     },
     "output_type": "display_data"
    }
   ],
   "source": [
    "model_up.compile(optimizer='adam', \n",
    "              loss='binary_crossentropy',\n",
    "              metrics=[tf.keras.metrics.Recall()])\n",
    "\n",
    "history = model_up.fit(up_X,\n",
    "          pd.get_dummies(up_y),\n",
    "          epochs=5,\n",
    "          validation_data=(X_test, pd.get_dummies(y_test))\n",
    "         )\n",
    "plot_loss(history)\n",
    "test_loss, test_acc = model_up.evaluate(X_test, pd.get_dummies(y_test))\n",
    "print('Test accuracy:', test_acc)"
   ]
  },
  {
   "cell_type": "code",
   "execution_count": 20,
   "metadata": {
    "ExecuteTime": {
     "end_time": "2019-08-20T11:07:09.141838Z",
     "start_time": "2019-08-20T11:07:07.386843Z"
    }
   },
   "outputs": [
    {
     "name": "stdout",
     "output_type": "stream",
     "text": [
      "전체채팅수10500, 유해채팅수8999\n"
     ]
    }
   ],
   "source": [
    "print('전체채팅수{}, 유해채팅수{}'.format(len(X_test),model_up.predict_classes(X_test).sum()))"
   ]
  },
  {
   "cell_type": "markdown",
   "metadata": {},
   "source": [
    "### Recall"
   ]
  },
  {
   "cell_type": "code",
   "execution_count": 21,
   "metadata": {
    "ExecuteTime": {
     "end_time": "2019-08-20T11:07:14.315873Z",
     "start_time": "2019-08-20T11:07:14.309883Z"
    }
   },
   "outputs": [],
   "source": [
    "from sklearn.metrics import recall_score, accuracy_score, f1_score"
   ]
  },
  {
   "cell_type": "code",
   "execution_count": 22,
   "metadata": {
    "ExecuteTime": {
     "end_time": "2019-08-20T11:07:18.922236Z",
     "start_time": "2019-08-20T11:07:15.177381Z"
    },
    "scrolled": true
   },
   "outputs": [
    {
     "data": {
      "text/plain": [
       "(0.9360568383658969, 0.18971428571428572, 0.11022798577703409)"
      ]
     },
     "execution_count": 22,
     "metadata": {},
     "output_type": "execute_result"
    }
   ],
   "source": [
    "recall_score(y_test, model_up.predict_classes(X_test)),\\\n",
    "accuracy_score(y_test, model_up.predict_classes(X_test)),\\\n",
    "f1_score(y_test, model_up.predict_classes(X_test))"
   ]
  },
  {
   "cell_type": "code",
   "execution_count": null,
   "metadata": {
    "ExecuteTime": {
     "start_time": "2019-08-19T05:54:50.384Z"
    }
   },
   "outputs": [],
   "source": [
    "# model_up.save('../model/cnn_oversample.h5')"
   ]
  },
  {
   "cell_type": "markdown",
   "metadata": {},
   "source": [
    "## Downsampling"
   ]
  },
  {
   "cell_type": "code",
   "execution_count": 48,
   "metadata": {
    "ExecuteTime": {
     "end_time": "2019-08-20T10:43:41.192496Z",
     "start_time": "2019-08-20T10:43:41.163512Z"
    }
   },
   "outputs": [
    {
     "data": {
      "text/plain": [
       "(3118, 1559)"
      ]
     },
     "execution_count": 48,
     "metadata": {},
     "output_type": "execute_result"
    }
   ],
   "source": [
    "down_X, down_y = RandomUnderSampler().fit_resample(X_train, y_train)\n",
    "\n",
    "# 총 데이터 수 , 1 레이블 데이터 수\n",
    "len(down_y), down_y.sum()"
   ]
  },
  {
   "cell_type": "code",
   "execution_count": 49,
   "metadata": {
    "ExecuteTime": {
     "end_time": "2019-08-20T10:43:44.305711Z",
     "start_time": "2019-08-20T10:43:43.379242Z"
    }
   },
   "outputs": [],
   "source": [
    "model_down = keras.Sequential([\n",
    "    keras.layers.Embedding(30000, 10),\n",
    "    keras.layers.Conv1D(64, 3, padding=\"same\", activation=tf.nn.relu,),\n",
    "    keras.layers.Dropout(0.5),\n",
    "    keras.layers.Conv1D(32, 3, padding=\"same\", activation=tf.nn.relu),\n",
    "    keras.layers.Dropout(0.5),\n",
    "    keras.layers.Conv1D(32, 3, padding=\"same\", activation=tf.nn.relu),\n",
    "    keras.layers.Dropout(0.5),\n",
    "    keras.layers.Conv1D(32, 3, padding=\"same\", activation=tf.nn.relu),\n",
    "    keras.layers.Dropout(0.5),\n",
    "    keras.layers.Conv1D(32, 3, padding=\"same\", activation=tf.nn.relu),\n",
    "    keras.layers.Dropout(0.5),\n",
    "    keras.layers.Conv1D(32, 3, padding=\"same\", activation=tf.nn.relu),\n",
    "    keras.layers.GlobalMaxPool1D(),\n",
    "    keras.layers.Dropout(0.5),\n",
    "    keras.layers.Dense(2, activation=tf.nn.sigmoid)\n",
    "])"
   ]
  },
  {
   "cell_type": "code",
   "execution_count": 54,
   "metadata": {
    "ExecuteTime": {
     "end_time": "2019-08-20T10:45:42.471960Z",
     "start_time": "2019-08-20T10:45:13.576527Z"
    }
   },
   "outputs": [
    {
     "name": "stdout",
     "output_type": "stream",
     "text": [
      "Train on 3118 samples, validate on 10500 samples\n",
      "Epoch 1/5\n",
      "3118/3118 [==============================] - ETA: 2:55 - loss: 0.0586 - recall_1: 1.00 - ETA: 1:29 - loss: 0.0580 - recall_1: 1.00 - ETA: 45s - loss: 0.1209 - recall_1: 0.9766 - ETA: 25s - loss: 0.1338 - recall_1: 0.968 - ETA: 20s - loss: 0.1732 - recall_1: 0.954 - ETA: 15s - loss: 0.1841 - recall_1: 0.947 - ETA: 11s - loss: 0.1717 - recall_1: 0.950 - ETA: 10s - loss: 0.1586 - recall_1: 0.955 - ETA: 9s - loss: 0.1631 - recall_1: 0.957 - ETA: 7s - loss: 0.1783 - recall_1: 0.95 - ETA: 6s - loss: 0.1866 - recall_1: 0.94 - ETA: 6s - loss: 0.1909 - recall_1: 0.94 - ETA: 5s - loss: 0.1882 - recall_1: 0.94 - ETA: 4s - loss: 0.1934 - recall_1: 0.94 - ETA: 4s - loss: 0.1923 - recall_1: 0.94 - ETA: 4s - loss: 0.1891 - recall_1: 0.94 - ETA: 3s - loss: 0.1863 - recall_1: 0.94 - ETA: 3s - loss: 0.1899 - recall_1: 0.94 - ETA: 3s - loss: 0.1938 - recall_1: 0.94 - ETA: 2s - loss: 0.1954 - recall_1: 0.94 - ETA: 2s - loss: 0.1978 - recall_1: 0.94 - ETA: 2s - loss: 0.1955 - recall_1: 0.95 - ETA: 2s - loss: 0.1948 - recall_1: 0.94 - ETA: 2s - loss: 0.1942 - recall_1: 0.95 - ETA: 1s - loss: 0.1939 - recall_1: 0.94 - ETA: 1s - loss: 0.1914 - recall_1: 0.94 - ETA: 1s - loss: 0.1911 - recall_1: 0.94 - ETA: 1s - loss: 0.1884 - recall_1: 0.95 - ETA: 1s - loss: 0.1865 - recall_1: 0.95 - ETA: 1s - loss: 0.1832 - recall_1: 0.95 - ETA: 1s - loss: 0.1830 - recall_1: 0.95 - ETA: 0s - loss: 0.1858 - recall_1: 0.95 - ETA: 0s - loss: 0.1847 - recall_1: 0.95 - ETA: 0s - loss: 0.1838 - recall_1: 0.95 - ETA: 0s - loss: 0.1836 - recall_1: 0.95 - ETA: 0s - loss: 0.1821 - recall_1: 0.95 - ETA: 0s - loss: 0.1802 - recall_1: 0.95 - ETA: 0s - loss: 0.1802 - recall_1: 0.95 - ETA: 0s - loss: 0.1774 - recall_1: 0.95 - ETA: 0s - loss: 0.1785 - recall_1: 0.95 - 7s 2ms/sample - loss: 0.1764 - recall_1: 0.9535 - val_loss: 1.9107 - val_recall_1: 0.7894\n",
      "Epoch 2/5\n",
      "3118/3118 [==============================] - ETA: 4s - loss: 0.2872 - recall_1: 0.90 - ETA: 3s - loss: 0.1592 - recall_1: 0.94 - ETA: 2s - loss: 0.1360 - recall_1: 0.95 - ETA: 2s - loss: 0.1411 - recall_1: 0.95 - ETA: 1s - loss: 0.1393 - recall_1: 0.96 - ETA: 1s - loss: 0.1342 - recall_1: 0.96 - ETA: 1s - loss: 0.1493 - recall_1: 0.96 - ETA: 1s - loss: 0.1507 - recall_1: 0.96 - ETA: 1s - loss: 0.1703 - recall_1: 0.95 - ETA: 1s - loss: 0.1683 - recall_1: 0.95 - ETA: 1s - loss: 0.1688 - recall_1: 0.95 - ETA: 1s - loss: 0.1720 - recall_1: 0.95 - ETA: 1s - loss: 0.1714 - recall_1: 0.95 - ETA: 1s - loss: 0.1686 - recall_1: 0.95 - ETA: 1s - loss: 0.1650 - recall_1: 0.95 - ETA: 1s - loss: 0.1695 - recall_1: 0.95 - ETA: 1s - loss: 0.1668 - recall_1: 0.95 - ETA: 1s - loss: 0.1606 - recall_1: 0.95 - ETA: 1s - loss: 0.1554 - recall_1: 0.95 - ETA: 1s - loss: 0.1561 - recall_1: 0.95 - ETA: 1s - loss: 0.1653 - recall_1: 0.95 - ETA: 0s - loss: 0.1691 - recall_1: 0.95 - ETA: 0s - loss: 0.1668 - recall_1: 0.95 - ETA: 0s - loss: 0.1653 - recall_1: 0.95 - ETA: 0s - loss: 0.1653 - recall_1: 0.95 - ETA: 0s - loss: 0.1654 - recall_1: 0.95 - ETA: 0s - loss: 0.1692 - recall_1: 0.95 - ETA: 0s - loss: 0.1668 - recall_1: 0.95 - ETA: 0s - loss: 0.1680 - recall_1: 0.95 - ETA: 0s - loss: 0.1644 - recall_1: 0.95 - ETA: 0s - loss: 0.1642 - recall_1: 0.95 - ETA: 0s - loss: 0.1631 - recall_1: 0.95 - ETA: 0s - loss: 0.1645 - recall_1: 0.95 - ETA: 0s - loss: 0.1632 - recall_1: 0.95 - ETA: 0s - loss: 0.1620 - recall_1: 0.95 - ETA: 0s - loss: 0.1619 - recall_1: 0.95 - ETA: 0s - loss: 0.1597 - recall_1: 0.95 - ETA: 0s - loss: 0.1617 - recall_1: 0.95 - 4s 1ms/sample - loss: 0.1621 - recall_1: 0.9554 - val_loss: 1.4935 - val_recall_1: 0.8036\n",
      "Epoch 3/5\n",
      "3118/3118 [==============================] - ETA: 2s - loss: 0.1559 - recall_1: 0.93 - ETA: 1s - loss: 0.1555 - recall_1: 0.95 - ETA: 1s - loss: 0.1504 - recall_1: 0.95 - ETA: 1s - loss: 0.1501 - recall_1: 0.95 - ETA: 1s - loss: 0.1387 - recall_1: 0.96 - ETA: 1s - loss: 0.1507 - recall_1: 0.95 - ETA: 1s - loss: 0.1451 - recall_1: 0.96 - ETA: 1s - loss: 0.1534 - recall_1: 0.96 - ETA: 1s - loss: 0.1519 - recall_1: 0.96 - ETA: 1s - loss: 0.1500 - recall_1: 0.96 - ETA: 1s - loss: 0.1577 - recall_1: 0.96 - ETA: 1s - loss: 0.1576 - recall_1: 0.96 - ETA: 1s - loss: 0.1608 - recall_1: 0.95 - ETA: 1s - loss: 0.1540 - recall_1: 0.96 - ETA: 1s - loss: 0.1521 - recall_1: 0.96 - ETA: 1s - loss: 0.1501 - recall_1: 0.96 - ETA: 1s - loss: 0.1502 - recall_1: 0.96 - ETA: 0s - loss: 0.1527 - recall_1: 0.95 - ETA: 0s - loss: 0.1520 - recall_1: 0.95 - ETA: 0s - loss: 0.1512 - recall_1: 0.95 - ETA: 0s - loss: 0.1478 - recall_1: 0.96 - ETA: 0s - loss: 0.1464 - recall_1: 0.96 - ETA: 0s - loss: 0.1440 - recall_1: 0.96 - ETA: 0s - loss: 0.1429 - recall_1: 0.96 - ETA: 0s - loss: 0.1464 - recall_1: 0.95 - ETA: 0s - loss: 0.1467 - recall_1: 0.95 - ETA: 0s - loss: 0.1467 - recall_1: 0.95 - ETA: 0s - loss: 0.1472 - recall_1: 0.95 - ETA: 0s - loss: 0.1458 - recall_1: 0.95 - ETA: 0s - loss: 0.1450 - recall_1: 0.95 - ETA: 0s - loss: 0.1472 - recall_1: 0.95 - ETA: 0s - loss: 0.1546 - recall_1: 0.95 - ETA: 0s - loss: 0.1536 - recall_1: 0.95 - ETA: 0s - loss: 0.1550 - recall_1: 0.95 - ETA: 0s - loss: 0.1584 - recall_1: 0.95 - 4s 1ms/sample - loss: 0.1585 - recall_1: 0.9557 - val_loss: 1.2917 - val_recall_1: 0.8208\n",
      "Epoch 4/5\n",
      "3118/3118 [==============================] - ETA: 1s - loss: 0.2515 - recall_1: 0.93 - ETA: 1s - loss: 0.1105 - recall_1: 0.97 - ETA: 1s - loss: 0.1304 - recall_1: 0.96 - ETA: 1s - loss: 0.1208 - recall_1: 0.97 - ETA: 1s - loss: 0.1105 - recall_1: 0.97 - ETA: 1s - loss: 0.1218 - recall_1: 0.97 - ETA: 1s - loss: 0.1224 - recall_1: 0.97 - ETA: 1s - loss: 0.1233 - recall_1: 0.97 - ETA: 1s - loss: 0.1492 - recall_1: 0.96 - ETA: 1s - loss: 0.1453 - recall_1: 0.96 - ETA: 1s - loss: 0.1387 - recall_1: 0.96 - ETA: 1s - loss: 0.1397 - recall_1: 0.96 - ETA: 1s - loss: 0.1379 - recall_1: 0.96 - ETA: 1s - loss: 0.1347 - recall_1: 0.96 - ETA: 1s - loss: 0.1384 - recall_1: 0.96 - ETA: 1s - loss: 0.1369 - recall_1: 0.96 - ETA: 1s - loss: 0.1406 - recall_1: 0.96 - ETA: 1s - loss: 0.1433 - recall_1: 0.96 - ETA: 1s - loss: 0.1455 - recall_1: 0.96 - ETA: 1s - loss: 0.1551 - recall_1: 0.96 - ETA: 1s - loss: 0.1552 - recall_1: 0.96 - ETA: 1s - loss: 0.1521 - recall_1: 0.96 - ETA: 1s - loss: 0.1526 - recall_1: 0.95 - ETA: 0s - loss: 0.1539 - recall_1: 0.95 - ETA: 0s - loss: 0.1547 - recall_1: 0.95 - ETA: 0s - loss: 0.1537 - recall_1: 0.95 - ETA: 0s - loss: 0.1565 - recall_1: 0.95 - ETA: 0s - loss: 0.1560 - recall_1: 0.95 - ETA: 0s - loss: 0.1550 - recall_1: 0.95 - ETA: 0s - loss: 0.1553 - recall_1: 0.95 - ETA: 0s - loss: 0.1527 - recall_1: 0.95 - ETA: 0s - loss: 0.1546 - recall_1: 0.95 - ETA: 0s - loss: 0.1544 - recall_1: 0.95 - ETA: 0s - loss: 0.1540 - recall_1: 0.95 - ETA: 0s - loss: 0.1542 - recall_1: 0.95 - ETA: 0s - loss: 0.1540 - recall_1: 0.95 - ETA: 0s - loss: 0.1521 - recall_1: 0.95 - 4s 1ms/sample - loss: 0.1527 - recall_1: 0.9593 - val_loss: 1.4426 - val_recall_1: 0.8156\n",
      "Epoch 5/5\n",
      "3118/3118 [==============================] - ETA: 2s - loss: 0.0977 - recall_1: 0.96 - ETA: 2s - loss: 0.1236 - recall_1: 0.95 - ETA: 2s - loss: 0.1412 - recall_1: 0.95 - ETA: 2s - loss: 0.1325 - recall_1: 0.95 - ETA: 1s - loss: 0.1544 - recall_1: 0.95 - ETA: 1s - loss: 0.1342 - recall_1: 0.95 - ETA: 1s - loss: 0.1321 - recall_1: 0.95 - ETA: 1s - loss: 0.1305 - recall_1: 0.95 - ETA: 1s - loss: 0.1400 - recall_1: 0.95 - ETA: 1s - loss: 0.1322 - recall_1: 0.96 - ETA: 1s - loss: 0.1275 - recall_1: 0.96 - ETA: 1s - loss: 0.1252 - recall_1: 0.96 - ETA: 1s - loss: 0.1282 - recall_1: 0.96 - ETA: 1s - loss: 0.1383 - recall_1: 0.96 - ETA: 1s - loss: 0.1395 - recall_1: 0.95 - ETA: 1s - loss: 0.1388 - recall_1: 0.95 - ETA: 1s - loss: 0.1416 - recall_1: 0.95 - ETA: 1s - loss: 0.1382 - recall_1: 0.95 - ETA: 1s - loss: 0.1392 - recall_1: 0.95 - ETA: 1s - loss: 0.1398 - recall_1: 0.95 - ETA: 1s - loss: 0.1367 - recall_1: 0.95 - ETA: 0s - loss: 0.1355 - recall_1: 0.95 - ETA: 0s - loss: 0.1374 - recall_1: 0.95 - ETA: 0s - loss: 0.1381 - recall_1: 0.95 - ETA: 0s - loss: 0.1412 - recall_1: 0.95 - ETA: 0s - loss: 0.1430 - recall_1: 0.95 - ETA: 0s - loss: 0.1431 - recall_1: 0.95 - ETA: 0s - loss: 0.1418 - recall_1: 0.95 - ETA: 0s - loss: 0.1416 - recall_1: 0.95 - ETA: 0s - loss: 0.1442 - recall_1: 0.95 - ETA: 0s - loss: 0.1446 - recall_1: 0.95 - ETA: 0s - loss: 0.1423 - recall_1: 0.95 - ETA: 0s - loss: 0.1416 - recall_1: 0.95 - ETA: 0s - loss: 0.1421 - recall_1: 0.95 - ETA: 0s - loss: 0.1415 - recall_1: 0.95 - ETA: 0s - loss: 0.1465 - recall_1: 0.95 - ETA: 0s - loss: 0.1463 - recall_1: 0.95 - ETA: 0s - loss: 0.1472 - recall_1: 0.95 - 4s 1ms/sample - loss: 0.1463 - recall_1: 0.9567 - val_loss: 1.6558 - val_recall_1: 0.8082\n",
      "10500/10500 [==============================] - ETA: 1s - loss: 1.0151 - recall_1: 0.84 - ETA: 1s - loss: 1.8550 - recall_1: 0.79 - ETA: 1s - loss: 1.6513 - recall_1: 0.79 - ETA: 1s - loss: 1.7748 - recall_1: 0.79 - ETA: 1s - loss: 1.8777 - recall_1: 0.78 - ETA: 1s - loss: 1.7511 - recall_1: 0.79 - ETA: 1s - loss: 1.6448 - recall_1: 0.80 - ETA: 1s - loss: 1.6834 - recall_1: 0.80 - ETA: 1s - loss: 1.7318 - recall_1: 0.80 - ETA: 1s - loss: 1.6995 - recall_1: 0.80 - ETA: 1s - loss: 1.6831 - recall_1: 0.80 - ETA: 1s - loss: 1.6967 - recall_1: 0.80 - ETA: 1s - loss: 1.6818 - recall_1: 0.80 - ETA: 1s - loss: 1.6605 - recall_1: 0.80 - ETA: 1s - loss: 1.6664 - recall_1: 0.80 - ETA: 1s - loss: 1.6717 - recall_1: 0.80 - ETA: 1s - loss: 1.7152 - recall_1: 0.80 - ETA: 1s - loss: 1.7026 - recall_1: 0.80 - ETA: 0s - loss: 1.7134 - recall_1: 0.80 - ETA: 0s - loss: 1.7160 - recall_1: 0.80 - ETA: 0s - loss: 1.6905 - recall_1: 0.80 - ETA: 0s - loss: 1.6971 - recall_1: 0.80 - ETA: 0s - loss: 1.6827 - recall_1: 0.80 - ETA: 0s - loss: 1.6907 - recall_1: 0.80 - ETA: 0s - loss: 1.6769 - recall_1: 0.80 - ETA: 0s - loss: 1.6837 - recall_1: 0.80 - ETA: 0s - loss: 1.6850 - recall_1: 0.80 - ETA: 0s - loss: 1.6807 - recall_1: 0.80 - ETA: 0s - loss: 1.6847 - recall_1: 0.80 - ETA: 0s - loss: 1.6858 - recall_1: 0.80 - ETA: 0s - loss: 1.6791 - recall_1: 0.80 - ETA: 0s - loss: 1.6674 - recall_1: 0.80 - ETA: 0s - loss: 1.6611 - recall_1: 0.80 - ETA: 0s - loss: 1.6535 - recall_1: 0.80 - ETA: 0s - loss: 1.6552 - recall_1: 0.80 - ETA: 0s - loss: 1.6483 - recall_1: 0.80 - ETA: 0s - loss: 1.6528 - recall_1: 0.80 - ETA: 0s - loss: 1.6572 - recall_1: 0.80 - ETA: 0s - loss: 1.6636 - recall_1: 0.80 - ETA: 0s - loss: 1.6640 - recall_1: 0.80 - 2s 207us/sample - loss: 1.6558 - recall_1: 0.8082\n",
      "Test Recall: 0.80819046\n"
     ]
    },
    {
     "data": {
      "image/png": "[encoded data removed]",
      "text/plain": [
       "<Figure size 432x360 with 1 Axes>"
      ]
     },
     "metadata": {
      "needs_background": "light"
     },
     "output_type": "display_data"
    }
   ],
   "source": [
    "model_down.compile(optimizer='adam', \n",
    "              loss='binary_crossentropy',\n",
    "              metrics=[tf.keras.metrics.Recall()])\n",
    "\n",
    "history = model_down.fit(down_X,\n",
    "          pd.get_dummies(down_y),\n",
    "          epochs=5,\n",
    "          validation_data=(X_test, pd.get_dummies(y_test))\n",
    "         )\n",
    "plot_loss(history)\n",
    "test_loss, test_acc = model_down.evaluate(X_test, pd.get_dummies(y_test))\n",
    "print('Test Recall:', test_acc)"
   ]
  },
  {
   "cell_type": "code",
   "execution_count": null,
   "metadata": {},
   "outputs": [],
   "source": []
  },
  {
   "cell_type": "code",
   "execution_count": 55,
   "metadata": {
    "ExecuteTime": {
     "end_time": "2019-08-20T10:45:49.130161Z",
     "start_time": "2019-08-20T10:45:45.345328Z"
    }
   },
   "outputs": [
    {
     "data": {
      "text/plain": [
       "(0.633147113594041, 0.8083809523809524, 0.25260029717682014)"
      ]
     },
     "execution_count": 55,
     "metadata": {},
     "output_type": "execute_result"
    }
   ],
   "source": [
    "#recall\n",
    "recall_score(y_test, model_down.predict_classes(X_test)), \\\n",
    "accuracy_score(y_test, model_down.predict_classes(X_test)),\\\n",
    "f1_score(y_test, model_down.predict_classes(X_test))"
   ]
  },
  {
   "cell_type": "code",
   "execution_count": 56,
   "metadata": {
    "ExecuteTime": {
     "end_time": "2019-08-20T10:45:52.445242Z",
     "start_time": "2019-08-20T10:45:51.076027Z"
    }
   },
   "outputs": [
    {
     "name": "stdout",
     "output_type": "stream",
     "text": [
      "전체채팅수10500, 유해채팅수2155\n"
     ]
    }
   ],
   "source": [
    "print('전체채팅수{}, 유해채팅수{}'.format(len(X_test),model_down.predict_classes(X_test).sum()))"
   ]
  },
  {
   "cell_type": "markdown",
   "metadata": {},
   "source": [
    "## 모델 체크포인트 저장"
   ]
  },
  {
   "cell_type": "code",
   "execution_count": 115,
   "metadata": {
    "ExecuteTime": {
     "end_time": "2019-08-19T08:29:40.322250Z",
     "start_time": "2019-08-19T08:29:29.911214Z"
    }
   },
   "outputs": [],
   "source": [
    "model_down.save('../model/cnn_undersample.h5')"
   ]
  },
  {
   "cell_type": "markdown",
   "metadata": {},
   "source": [
    "# TODO\n",
    "- 형태소별 Tokenize 말고 한글 자모별 Tokenize 하여 실험해보기\n",
    "- CNN layer / Parameter 변경시켜보기\n",
    "- 예측 결과 검정하기\n",
    "    - Attention 이용"
   ]
  }
 ],
 "metadata": {
  "kernelspec": {
   "display_name": "Python 3",
   "language": "python",
   "name": "python3"
  },
  "language_info": {
   "codemirror_mode": {
    "name": "ipython",
    "version": 3
   },
   "file_extension": ".py",
   "mimetype": "text/x-python",
   "name": "python",
   "nbconvert_exporter": "python",
   "pygments_lexer": "ipython3",
   "version": "3.7.3"
  }
 },
 "nbformat": 4,
 "nbformat_minor": 2
}
