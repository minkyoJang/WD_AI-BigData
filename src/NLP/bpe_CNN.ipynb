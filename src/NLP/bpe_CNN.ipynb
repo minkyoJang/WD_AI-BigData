{
 "cells": [
  {
   "cell_type": "code",
   "execution_count": 1,
   "metadata": {
    "ExecuteTime": {
     "end_time": "2019-08-22T02:19:20.347043Z",
     "start_time": "2019-08-22T02:19:01.173018Z"
    }
   },
   "outputs": [
    {
     "name": "stderr",
     "output_type": "stream",
     "text": [
      "Using TensorFlow backend.\n"
     ]
    },
    {
     "name": "stdout",
     "output_type": "stream",
     "text": [
      "Chan 2019-08-22 \n",
      "\n",
      "CPython 3.7.3\n",
      "IPython 7.6.1\n",
      "\n",
      "numpy 1.16.4\n",
      "pandas 0.24.2\n",
      "sklearn 0.21.2\n",
      "konlpy 0.5.1\n",
      "tensorflow 1.14.0\n",
      "matplotlib 3.1.0\n",
      "imblearn 0.5.0\n"
     ]
    }
   ],
   "source": [
    "%load_ext watermark\n",
    "%watermark -a Chan -d -v -p numpy,pandas,sklearn,konlpy,tensorflow,matplotlib,imblearn"
   ]
  },
  {
   "cell_type": "code",
   "execution_count": 2,
   "metadata": {
    "ExecuteTime": {
     "end_time": "2019-08-22T02:19:22.100038Z",
     "start_time": "2019-08-22T02:19:20.360036Z"
    }
   },
   "outputs": [],
   "source": [
    "import numpy as np\n",
    "import pandas as pd\n",
    "from sklearn.model_selection import train_test_split\n",
    "from konlpy.tag import Okt\n",
    "import tensorflow as tf\n",
    "from tensorflow.python.keras.preprocessing import sequence\n",
    "from tensorflow import keras\n",
    "from tqdm import tqdm\n",
    "from collections import Counter\n",
    "from matplotlib import pyplot as plt\n",
    "import pickle"
   ]
  },
  {
   "cell_type": "markdown",
   "metadata": {},
   "source": [
    "# Load datasets"
   ]
  },
  {
   "cell_type": "code",
   "execution_count": 3,
   "metadata": {
    "ExecuteTime": {
     "end_time": "2019-08-22T02:19:22.696700Z",
     "start_time": "2019-08-22T02:19:22.105037Z"
    }
   },
   "outputs": [
    {
     "data": {
      "text/html": [
       "<div>\n",
       "<style scoped>\n",
       "    .dataframe tbody tr th:only-of-type {\n",
       "        vertical-align: middle;\n",
       "    }\n",
       "\n",
       "    .dataframe tbody tr th {\n",
       "        vertical-align: top;\n",
       "    }\n",
       "\n",
       "    .dataframe thead th {\n",
       "        text-align: right;\n",
       "    }\n",
       "</style>\n",
       "<table border=\"1\" class=\"dataframe\">\n",
       "  <thead>\n",
       "    <tr style=\"text-align: right;\">\n",
       "      <th></th>\n",
       "      <th>Unnamed: 0</th>\n",
       "      <th>comment</th>\n",
       "      <th>url_id</th>\n",
       "      <th>label</th>\n",
       "    </tr>\n",
       "  </thead>\n",
       "  <tbody>\n",
       "    <tr>\n",
       "      <th>0</th>\n",
       "      <td>0</td>\n",
       "      <td>ㅜㅜ</td>\n",
       "      <td>77</td>\n",
       "      <td>0</td>\n",
       "    </tr>\n",
       "    <tr>\n",
       "      <th>1</th>\n",
       "      <td>1</td>\n",
       "      <td>ㅋㅋㅋㅋㅋㅋㅋㅋㅋㅋㅋㅋㅋㅋㅋㅋㅋㅋㅋㅋㅋ</td>\n",
       "      <td>17</td>\n",
       "      <td>0</td>\n",
       "    </tr>\n",
       "    <tr>\n",
       "      <th>2</th>\n",
       "      <td>2</td>\n",
       "      <td>헐</td>\n",
       "      <td>52</td>\n",
       "      <td>0</td>\n",
       "    </tr>\n",
       "    <tr>\n",
       "      <th>3</th>\n",
       "      <td>3</td>\n",
       "      <td>제시</td>\n",
       "      <td>75</td>\n",
       "      <td>0</td>\n",
       "    </tr>\n",
       "    <tr>\n",
       "      <th>4</th>\n",
       "      <td>4</td>\n",
       "      <td>이거인 듯</td>\n",
       "      <td>18</td>\n",
       "      <td>0</td>\n",
       "    </tr>\n",
       "  </tbody>\n",
       "</table>\n",
       "</div>"
      ],
      "text/plain": [
       "   Unnamed: 0                comment  url_id  label\n",
       "0           0                     ㅜㅜ      77      0\n",
       "1           1  ㅋㅋㅋㅋㅋㅋㅋㅋㅋㅋㅋㅋㅋㅋㅋㅋㅋㅋㅋㅋㅋ      17      0\n",
       "2           2                      헐      52      0\n",
       "3           3                     제시      75      0\n",
       "4           4                  이거인 듯      18      0"
      ]
     },
     "execution_count": 3,
     "metadata": {},
     "output_type": "execute_result"
    }
   ],
   "source": [
    "datasets = pd.read_csv('../../data/train.csv', engine='python', encoding='utf-16')\n",
    "datasets.head()"
   ]
  },
  {
   "cell_type": "code",
   "execution_count": 4,
   "metadata": {
    "ExecuteTime": {
     "end_time": "2019-08-22T02:19:22.740674Z",
     "start_time": "2019-08-22T02:19:22.706693Z"
    }
   },
   "outputs": [
    {
     "name": "stdout",
     "output_type": "stream",
     "text": [
      "<class 'pandas.core.frame.DataFrame'>\n",
      "RangeIndex: 42000 entries, 0 to 41999\n",
      "Data columns (total 4 columns):\n",
      "Unnamed: 0    42000 non-null int64\n",
      "comment       42000 non-null object\n",
      "url_id        42000 non-null int64\n",
      "label         42000 non-null int64\n",
      "dtypes: int64(3), object(1)\n",
      "memory usage: 1.3+ MB\n"
     ]
    }
   ],
   "source": [
    "datasets.info()"
   ]
  },
  {
   "cell_type": "code",
   "execution_count": 5,
   "metadata": {
    "ExecuteTime": {
     "end_time": "2019-08-22T02:19:22.888591Z",
     "start_time": "2019-08-22T02:19:22.745671Z"
    }
   },
   "outputs": [
    {
     "name": "stderr",
     "output_type": "stream",
     "text": [
      "100%|████████████████████████████████████████████████████████████████████████| 42000/42000 [00:00<00:00, 389115.52it/s]\n"
     ]
    },
    {
     "data": {
      "text/plain": [
       "[b'\\xe3\\x85\\x9c\\xe3\\x85\\x9c',\n",
       " b'\\xe3\\x85\\x8b\\xe3\\x85\\x8b\\xe3\\x85\\x8b\\xe3\\x85\\x8b\\xe3\\x85\\x8b\\xe3\\x85\\x8b\\xe3\\x85\\x8b\\xe3\\x85\\x8b\\xe3\\x85\\x8b\\xe3\\x85\\x8b\\xe3\\x85\\x8b\\xe3\\x85\\x8b\\xe3\\x85\\x8b\\xe3\\x85\\x8b\\xe3\\x85\\x8b\\xe3\\x85\\x8b\\xe3\\x85\\x8b\\xe3\\x85\\x8b\\xe3\\x85\\x8b\\xe3\\x85\\x8b\\xe3\\x85\\x8b',\n",
       " b'\\xed\\x97\\x90',\n",
       " b'\\xec\\xa0\\x9c\\xec\\x8b\\x9c',\n",
       " b'\\xec\\x9d\\xb4\\xea\\xb1\\xb0\\xec\\x9d\\xb8 \\xeb\\x93\\xaf']"
      ]
     },
     "execution_count": 5,
     "metadata": {},
     "output_type": "execute_result"
    }
   ],
   "source": [
    "morped =[_.encode('utf-8') for _ in tqdm(datasets.comment)]\n",
    "morped[:5]"
   ]
  },
  {
   "cell_type": "code",
   "execution_count": 6,
   "metadata": {
    "ExecuteTime": {
     "end_time": "2019-08-22T02:19:23.588189Z",
     "start_time": "2019-08-22T02:19:22.894586Z"
    }
   },
   "outputs": [
    {
     "data": {
      "text/plain": [
       "[None,\n",
       " None,\n",
       " None,\n",
       " None,\n",
       " None,\n",
       " None,\n",
       " None,\n",
       " None,\n",
       " None,\n",
       " None,\n",
       " None,\n",
       " None,\n",
       " None,\n",
       " None,\n",
       " None,\n",
       " None,\n",
       " None,\n",
       " None,\n",
       " None,\n",
       " None,\n",
       " None,\n",
       " None,\n",
       " None,\n",
       " None,\n",
       " None,\n",
       " None,\n",
       " None,\n",
       " None,\n",
       " None,\n",
       " None,\n",
       " None,\n",
       " None,\n",
       " None,\n",
       " None,\n",
       " None,\n",
       " None,\n",
       " None,\n",
       " None,\n",
       " None,\n",
       " None,\n",
       " None,\n",
       " None,\n",
       " None,\n",
       " None,\n",
       " None,\n",
       " None,\n",
       " None,\n",
       " None,\n",
       " None,\n",
       " None,\n",
       " None,\n",
       " None,\n",
       " None,\n",
       " None,\n",
       " None,\n",
       " None,\n",
       " None,\n",
       " None,\n",
       " None,\n",
       " None,\n",
       " None,\n",
       " None,\n",
       " None,\n",
       " None,\n",
       " None,\n",
       " None,\n",
       " None,\n",
       " None,\n",
       " None,\n",
       " None,\n",
       " None,\n",
       " None,\n",
       " None,\n",
       " None,\n",
       " None,\n",
       " None,\n",
       " None,\n",
       " None,\n",
       " None,\n",
       " None,\n",
       " None,\n",
       " None,\n",
       " None,\n",
       " None,\n",
       " None,\n",
       " None,\n",
       " None,\n",
       " None,\n",
       " None,\n",
       " None,\n",
       " None,\n",
       " None,\n",
       " None,\n",
       " None,\n",
       " None,\n",
       " None,\n",
       " None,\n",
       " None,\n",
       " None,\n",
       " None,\n",
       " None,\n",
       " None,\n",
       " None,\n",
       " None,\n",
       " None,\n",
       " None,\n",
       " None,\n",
       " None,\n",
       " None,\n",
       " None,\n",
       " None,\n",
       " None,\n",
       " None,\n",
       " None,\n",
       " None,\n",
       " None,\n",
       " None,\n",
       " None,\n",
       " None,\n",
       " None,\n",
       " None,\n",
       " None,\n",
       " None,\n",
       " None,\n",
       " None,\n",
       " None,\n",
       " None,\n",
       " None,\n",
       " None,\n",
       " None,\n",
       " None,\n",
       " None,\n",
       " None,\n",
       " None,\n",
       " None,\n",
       " None,\n",
       " None,\n",
       " None,\n",
       " None,\n",
       " None,\n",
       " None,\n",
       " None,\n",
       " None,\n",
       " None,\n",
       " None,\n",
       " None,\n",
       " None,\n",
       " None,\n",
       " None,\n",
       " None,\n",
       " None,\n",
       " None,\n",
       " None,\n",
       " None,\n",
       " None,\n",
       " None,\n",
       " None,\n",
       " None,\n",
       " None,\n",
       " None,\n",
       " None,\n",
       " None,\n",
       " None,\n",
       " None,\n",
       " None,\n",
       " None,\n",
       " None,\n",
       " None,\n",
       " None,\n",
       " None,\n",
       " None,\n",
       " None,\n",
       " None,\n",
       " None,\n",
       " None,\n",
       " None,\n",
       " None,\n",
       " None,\n",
       " None,\n",
       " None,\n",
       " None,\n",
       " None,\n",
       " None,\n",
       " None,\n",
       " None,\n",
       " None,\n",
       " None,\n",
       " None,\n",
       " None,\n",
       " None,\n",
       " None,\n",
       " None,\n",
       " None,\n",
       " None,\n",
       " None,\n",
       " None,\n",
       " None,\n",
       " None,\n",
       " None,\n",
       " None,\n",
       " None,\n",
       " None,\n",
       " None,\n",
       " None,\n",
       " None,\n",
       " None,\n",
       " None,\n",
       " None,\n",
       " None,\n",
       " None,\n",
       " None,\n",
       " None,\n",
       " None,\n",
       " None,\n",
       " None,\n",
       " None,\n",
       " None,\n",
       " None,\n",
       " None,\n",
       " None,\n",
       " None,\n",
       " None,\n",
       " None,\n",
       " None,\n",
       " None,\n",
       " None,\n",
       " None,\n",
       " None,\n",
       " None,\n",
       " None,\n",
       " None,\n",
       " None,\n",
       " None,\n",
       " None,\n",
       " None,\n",
       " None,\n",
       " None,\n",
       " None,\n",
       " None,\n",
       " None,\n",
       " None,\n",
       " None,\n",
       " None,\n",
       " None,\n",
       " None,\n",
       " None,\n",
       " None,\n",
       " None,\n",
       " None,\n",
       " None,\n",
       " None,\n",
       " None,\n",
       " None,\n",
       " None,\n",
       " None,\n",
       " None,\n",
       " None,\n",
       " None,\n",
       " None,\n",
       " None,\n",
       " None,\n",
       " None,\n",
       " None,\n",
       " None,\n",
       " None,\n",
       " None,\n",
       " None,\n",
       " None,\n",
       " None,\n",
       " None,\n",
       " None,\n",
       " None,\n",
       " None,\n",
       " None,\n",
       " None,\n",
       " None,\n",
       " None,\n",
       " None,\n",
       " None,\n",
       " None,\n",
       " None,\n",
       " None,\n",
       " None,\n",
       " None,\n",
       " None,\n",
       " None,\n",
       " None,\n",
       " None,\n",
       " None,\n",
       " None,\n",
       " None,\n",
       " None,\n",
       " None,\n",
       " None,\n",
       " None,\n",
       " None,\n",
       " None,\n",
       " None,\n",
       " None,\n",
       " None,\n",
       " None,\n",
       " None,\n",
       " None,\n",
       " None,\n",
       " None,\n",
       " None,\n",
       " None,\n",
       " None,\n",
       " None,\n",
       " None,\n",
       " None,\n",
       " None,\n",
       " None,\n",
       " None,\n",
       " None,\n",
       " None,\n",
       " None,\n",
       " None,\n",
       " None,\n",
       " None,\n",
       " None,\n",
       " None,\n",
       " None,\n",
       " None,\n",
       " None,\n",
       " None,\n",
       " None,\n",
       " None,\n",
       " None,\n",
       " None,\n",
       " None,\n",
       " None,\n",
       " None,\n",
       " None,\n",
       " None,\n",
       " None,\n",
       " None,\n",
       " None,\n",
       " None,\n",
       " None,\n",
       " None,\n",
       " None,\n",
       " None,\n",
       " None,\n",
       " None,\n",
       " None,\n",
       " None,\n",
       " None,\n",
       " None,\n",
       " None,\n",
       " None,\n",
       " None,\n",
       " None,\n",
       " None,\n",
       " None,\n",
       " None,\n",
       " None,\n",
       " None,\n",
       " None,\n",
       " None,\n",
       " None,\n",
       " None,\n",
       " None,\n",
       " None,\n",
       " None,\n",
       " None,\n",
       " None,\n",
       " None,\n",
       " None,\n",
       " None,\n",
       " None,\n",
       " None,\n",
       " None,\n",
       " None,\n",
       " None,\n",
       " None,\n",
       " None,\n",
       " None,\n",
       " None,\n",
       " None,\n",
       " None,\n",
       " None,\n",
       " None,\n",
       " None,\n",
       " None,\n",
       " None,\n",
       " None,\n",
       " None,\n",
       " None,\n",
       " None,\n",
       " None,\n",
       " None,\n",
       " None,\n",
       " None,\n",
       " None,\n",
       " None,\n",
       " None,\n",
       " None,\n",
       " None,\n",
       " None,\n",
       " None,\n",
       " None,\n",
       " None,\n",
       " None,\n",
       " None,\n",
       " None,\n",
       " None,\n",
       " None,\n",
       " None,\n",
       " None,\n",
       " None,\n",
       " None,\n",
       " None,\n",
       " None,\n",
       " None,\n",
       " None,\n",
       " None,\n",
       " None,\n",
       " None,\n",
       " None,\n",
       " None,\n",
       " None,\n",
       " None,\n",
       " None,\n",
       " None,\n",
       " None,\n",
       " None,\n",
       " None,\n",
       " None,\n",
       " None,\n",
       " None,\n",
       " None,\n",
       " None,\n",
       " None,\n",
       " None,\n",
       " None,\n",
       " None,\n",
       " None,\n",
       " None,\n",
       " None,\n",
       " None,\n",
       " None,\n",
       " None,\n",
       " None,\n",
       " None,\n",
       " None,\n",
       " None,\n",
       " None,\n",
       " None,\n",
       " None,\n",
       " None,\n",
       " None,\n",
       " None,\n",
       " None,\n",
       " None,\n",
       " None,\n",
       " None,\n",
       " None,\n",
       " None,\n",
       " None,\n",
       " None,\n",
       " None,\n",
       " None,\n",
       " None,\n",
       " None,\n",
       " None,\n",
       " None,\n",
       " None,\n",
       " None,\n",
       " None,\n",
       " None,\n",
       " None,\n",
       " None,\n",
       " None,\n",
       " None,\n",
       " None,\n",
       " None,\n",
       " None,\n",
       " None,\n",
       " None,\n",
       " None,\n",
       " None,\n",
       " None,\n",
       " None,\n",
       " None,\n",
       " None,\n",
       " None,\n",
       " None,\n",
       " None,\n",
       " None,\n",
       " None,\n",
       " None,\n",
       " None,\n",
       " None,\n",
       " None,\n",
       " None,\n",
       " None,\n",
       " None,\n",
       " None,\n",
       " None,\n",
       " None,\n",
       " None,\n",
       " None,\n",
       " None,\n",
       " None,\n",
       " None,\n",
       " None,\n",
       " None,\n",
       " None,\n",
       " None,\n",
       " None,\n",
       " None,\n",
       " None,\n",
       " None,\n",
       " None,\n",
       " None,\n",
       " None,\n",
       " None,\n",
       " None,\n",
       " None,\n",
       " None,\n",
       " None,\n",
       " None,\n",
       " None,\n",
       " None,\n",
       " None,\n",
       " None,\n",
       " None,\n",
       " None,\n",
       " None,\n",
       " None,\n",
       " None,\n",
       " None,\n",
       " None,\n",
       " None,\n",
       " None,\n",
       " None,\n",
       " None,\n",
       " None,\n",
       " None,\n",
       " None,\n",
       " None,\n",
       " None,\n",
       " None,\n",
       " None,\n",
       " None,\n",
       " None,\n",
       " None,\n",
       " None,\n",
       " None,\n",
       " None,\n",
       " None,\n",
       " None,\n",
       " None,\n",
       " None,\n",
       " None,\n",
       " None,\n",
       " None,\n",
       " None,\n",
       " None,\n",
       " None,\n",
       " None,\n",
       " None,\n",
       " None,\n",
       " None,\n",
       " None,\n",
       " None,\n",
       " None,\n",
       " None,\n",
       " None,\n",
       " None,\n",
       " None,\n",
       " None,\n",
       " None,\n",
       " None,\n",
       " None,\n",
       " None,\n",
       " None,\n",
       " None,\n",
       " None,\n",
       " None,\n",
       " None,\n",
       " None,\n",
       " None,\n",
       " None,\n",
       " None,\n",
       " None,\n",
       " None,\n",
       " None,\n",
       " None,\n",
       " None,\n",
       " None,\n",
       " None,\n",
       " None,\n",
       " None,\n",
       " None,\n",
       " None,\n",
       " None,\n",
       " None,\n",
       " None,\n",
       " None,\n",
       " None,\n",
       " None,\n",
       " None,\n",
       " None,\n",
       " None,\n",
       " None,\n",
       " None,\n",
       " None,\n",
       " None,\n",
       " None,\n",
       " None,\n",
       " None,\n",
       " None,\n",
       " None,\n",
       " None,\n",
       " None,\n",
       " None,\n",
       " None,\n",
       " None,\n",
       " None,\n",
       " None,\n",
       " None,\n",
       " None,\n",
       " None,\n",
       " None,\n",
       " None,\n",
       " None,\n",
       " None,\n",
       " None,\n",
       " None,\n",
       " None,\n",
       " None,\n",
       " None,\n",
       " None,\n",
       " None,\n",
       " None,\n",
       " None,\n",
       " None,\n",
       " None,\n",
       " None,\n",
       " None,\n",
       " None,\n",
       " None,\n",
       " None,\n",
       " None,\n",
       " None,\n",
       " None,\n",
       " None,\n",
       " None,\n",
       " None,\n",
       " None,\n",
       " None,\n",
       " None,\n",
       " None,\n",
       " None,\n",
       " None,\n",
       " None,\n",
       " None,\n",
       " None,\n",
       " None,\n",
       " None,\n",
       " None,\n",
       " None,\n",
       " None,\n",
       " None,\n",
       " None,\n",
       " None,\n",
       " None,\n",
       " None,\n",
       " None,\n",
       " None,\n",
       " None,\n",
       " None,\n",
       " None,\n",
       " None,\n",
       " None,\n",
       " None,\n",
       " None,\n",
       " None,\n",
       " None,\n",
       " None,\n",
       " None,\n",
       " None,\n",
       " None,\n",
       " None,\n",
       " None,\n",
       " None,\n",
       " None,\n",
       " None,\n",
       " None,\n",
       " None,\n",
       " None,\n",
       " None,\n",
       " None,\n",
       " None,\n",
       " None,\n",
       " None,\n",
       " None,\n",
       " None,\n",
       " None,\n",
       " None,\n",
       " None,\n",
       " None,\n",
       " None,\n",
       " None,\n",
       " None,\n",
       " None,\n",
       " None,\n",
       " None,\n",
       " None,\n",
       " None,\n",
       " None,\n",
       " None,\n",
       " None,\n",
       " None,\n",
       " None,\n",
       " None,\n",
       " None,\n",
       " None,\n",
       " None,\n",
       " None,\n",
       " None,\n",
       " None,\n",
       " None,\n",
       " None,\n",
       " None,\n",
       " None,\n",
       " None,\n",
       " None,\n",
       " None,\n",
       " None,\n",
       " None,\n",
       " None,\n",
       " None,\n",
       " None,\n",
       " None,\n",
       " None,\n",
       " None,\n",
       " None,\n",
       " None,\n",
       " None,\n",
       " None,\n",
       " None,\n",
       " None,\n",
       " None,\n",
       " None,\n",
       " None,\n",
       " None,\n",
       " None,\n",
       " None,\n",
       " None,\n",
       " None,\n",
       " None,\n",
       " None,\n",
       " None,\n",
       " None,\n",
       " None,\n",
       " None,\n",
       " None,\n",
       " None,\n",
       " None,\n",
       " None,\n",
       " None,\n",
       " None,\n",
       " None,\n",
       " None,\n",
       " None,\n",
       " None,\n",
       " None,\n",
       " None,\n",
       " None,\n",
       " None,\n",
       " None,\n",
       " None,\n",
       " None,\n",
       " None,\n",
       " None,\n",
       " None,\n",
       " None,\n",
       " None,\n",
       " None,\n",
       " None,\n",
       " None,\n",
       " None,\n",
       " None,\n",
       " None,\n",
       " None,\n",
       " None,\n",
       " None,\n",
       " None,\n",
       " None,\n",
       " None,\n",
       " None,\n",
       " None,\n",
       " None,\n",
       " None,\n",
       " None,\n",
       " None,\n",
       " None,\n",
       " None,\n",
       " None,\n",
       " None,\n",
       " None,\n",
       " None,\n",
       " None,\n",
       " None,\n",
       " None,\n",
       " None,\n",
       " None,\n",
       " None,\n",
       " None,\n",
       " None,\n",
       " None,\n",
       " None,\n",
       " None,\n",
       " None,\n",
       " None,\n",
       " None,\n",
       " None,\n",
       " None,\n",
       " None,\n",
       " None,\n",
       " None,\n",
       " None,\n",
       " None,\n",
       " None,\n",
       " None,\n",
       " None,\n",
       " None,\n",
       " None,\n",
       " None,\n",
       " None,\n",
       " None,\n",
       " None,\n",
       " None,\n",
       " None,\n",
       " None,\n",
       " None,\n",
       " None,\n",
       " None,\n",
       " None,\n",
       " None,\n",
       " None,\n",
       " None,\n",
       " None,\n",
       " None,\n",
       " None,\n",
       " None,\n",
       " None,\n",
       " None,\n",
       " None,\n",
       " None,\n",
       " None,\n",
       " None,\n",
       " None,\n",
       " None,\n",
       " None,\n",
       " None,\n",
       " None,\n",
       " None,\n",
       " None,\n",
       " None,\n",
       " None,\n",
       " None,\n",
       " None,\n",
       " None,\n",
       " None,\n",
       " None,\n",
       " None,\n",
       " None,\n",
       " None,\n",
       " None,\n",
       " None,\n",
       " None,\n",
       " None,\n",
       " None,\n",
       " None,\n",
       " None,\n",
       " None,\n",
       " None,\n",
       " None,\n",
       " None,\n",
       " None,\n",
       " None,\n",
       " None,\n",
       " None,\n",
       " None,\n",
       " None,\n",
       " None,\n",
       " None,\n",
       " None,\n",
       " None,\n",
       " None,\n",
       " None,\n",
       " None,\n",
       " None,\n",
       " None,\n",
       " None,\n",
       " None,\n",
       " None,\n",
       " None,\n",
       " None,\n",
       " None,\n",
       " None,\n",
       " None,\n",
       " None,\n",
       " None,\n",
       " None,\n",
       " None,\n",
       " None,\n",
       " None,\n",
       " None,\n",
       " None,\n",
       " None,\n",
       " None,\n",
       " None,\n",
       " None,\n",
       " None,\n",
       " None,\n",
       " None,\n",
       " None,\n",
       " None,\n",
       " None,\n",
       " None,\n",
       " None,\n",
       " None,\n",
       " None,\n",
       " None,\n",
       " None,\n",
       " None,\n",
       " None,\n",
       " None,\n",
       " None,\n",
       " None,\n",
       " None,\n",
       " None,\n",
       " None,\n",
       " None,\n",
       " None,\n",
       " None,\n",
       " None,\n",
       " None,\n",
       " None,\n",
       " None,\n",
       " None,\n",
       " None,\n",
       " None,\n",
       " None,\n",
       " None,\n",
       " None,\n",
       " None,\n",
       " None,\n",
       " None,\n",
       " None,\n",
       " None,\n",
       " None,\n",
       " None,\n",
       " None,\n",
       " None,\n",
       " None,\n",
       " None,\n",
       " None,\n",
       " None,\n",
       " None,\n",
       " None,\n",
       " None,\n",
       " None,\n",
       " None,\n",
       " None,\n",
       " None,\n",
       " None,\n",
       " None,\n",
       " None,\n",
       " None,\n",
       " None,\n",
       " None,\n",
       " None,\n",
       " None,\n",
       " None,\n",
       " None,\n",
       " None,\n",
       " None,\n",
       " None,\n",
       " None,\n",
       " None,\n",
       " None,\n",
       " None,\n",
       " None,\n",
       " None,\n",
       " None,\n",
       " None,\n",
       " None,\n",
       " None,\n",
       " None,\n",
       " None,\n",
       " None,\n",
       " None,\n",
       " None,\n",
       " None,\n",
       " ...]"
      ]
     },
     "execution_count": 6,
     "metadata": {},
     "output_type": "execute_result"
    }
   ],
   "source": [
    "bytarr = []\n",
    "[bytarr.append([str(_) for _ in morped[i]]) for i in range(len(morped))]"
   ]
  },
  {
   "cell_type": "markdown",
   "metadata": {
    "ExecuteTime": {
     "end_time": "2019-08-06T15:38:19.687895Z",
     "start_time": "2019-08-06T15:38:19.677899Z"
    }
   },
   "source": [
    "# 형태소분석"
   ]
  },
  {
   "cell_type": "code",
   "execution_count": 7,
   "metadata": {
    "ExecuteTime": {
     "end_time": "2019-08-22T02:19:24.178850Z",
     "start_time": "2019-08-22T02:19:23.592186Z"
    }
   },
   "outputs": [
    {
     "name": "stdout",
     "output_type": "stream",
     "text": [
      "고빈도 단어:\n",
      "133 :  94992\n",
      "227 :  94926\n",
      "139 :  94675\n",
      "236 :  85378\n",
      "235 :  70509\n",
      "32 :  42738\n",
      "132 :  25626\n",
      "234 :  24976\n",
      "180 :  21650\n",
      "176 :  21395\n",
      "\n",
      "단어 사전:\n",
      "0 <PAD>\n",
      "1 <OOV>\n",
      "2 133\n",
      "3 227\n",
      "4 139\n",
      "5 236\n",
      "6 235\n",
      "7 32\n",
      "8 132\n",
      "9 234\n",
      "\n",
      "단어 사전 크기:  175\n"
     ]
    }
   ],
   "source": [
    "vocab_size = 175\n",
    "\n",
    "pad_id = 0\n",
    "oov_id = 1\n",
    "index_offset = 1\n",
    "\n",
    "def make_vocab(sentences):\n",
    "    word_counter = Counter()\n",
    "\n",
    "    for sent in sentences:\n",
    "        word_counter.update(sent)\n",
    "\n",
    "    most_common = word_counter.most_common()\n",
    "    print(\"고빈도 단어:\")\n",
    "    for k, v in most_common[:10]:\n",
    "        print(k, \": \", v)\n",
    "\n",
    "    vocab = {\n",
    "    '<PAD>': pad_id,\n",
    "    '<OOV>': oov_id\n",
    "    }\n",
    "    for i, (word, cnt) in enumerate(most_common, start=index_offset+1):\n",
    "        vocab[str(word)] = i\n",
    "        if len(vocab) >= vocab_size:\n",
    "            break\n",
    "\n",
    "    return vocab\n",
    "\n",
    "word_index = make_vocab(bytarr)\n",
    "word_inverted_index = {v:k for k, v in word_index.items()}\n",
    "\n",
    "print(\"\\n단어 사전:\")\n",
    "for i in range(0, 10):\n",
    "    print(i, word_inverted_index[i])\n",
    "\n",
    "print(\"\\n단어 사전 크기: \", len(word_index))\n",
    "\n",
    "# # vocab save\n",
    "# with open('./vocab/vocab_index.pickle', 'wb') as f:\n",
    "#     pickle.dump(word_index, f, pickle.HIGHEST_PROTOCOL)\n",
    "# with open('./vocab/vocab_inverted_index.pickle', 'wb') as f:\n",
    "#     pickle.dump(word_inverted_index, f, pickle.HIGHEST_PROTOCOL)"
   ]
  },
  {
   "cell_type": "code",
   "execution_count": 8,
   "metadata": {
    "ExecuteTime": {
     "end_time": "2019-08-22T02:19:24.226824Z",
     "start_time": "2019-08-22T02:19:24.186850Z"
    }
   },
   "outputs": [
    {
     "name": "stdout",
     "output_type": "stream",
     "text": [
      "원본:  ['227', '133', '156', '227', '133', '156']\n",
      "문자 -> 숫자:  [3, 2, 19, 3, 2, 19]\n",
      "숫자 -> 문자:  227 133 156 227 133 156\n"
     ]
    }
   ],
   "source": [
    "def index_to_text(indexes):\n",
    "    return ' '.join([word_inverted_index[i] for i in indexes])\n",
    "\n",
    "def text_to_index(tokens):\n",
    "    indexes = []\n",
    "    for tok in tokens:\n",
    "        if tok in word_index:\n",
    "            indexes.append(word_index[tok])\n",
    "        else:\n",
    "            indexes.append(oov_id)\n",
    "\n",
    "    return indexes\n",
    "\n",
    "print(\"원본: \", bytarr[0])\n",
    "ids = text_to_index(bytarr[0])\n",
    "print(\"문자 -> 숫자: \", ids)\n",
    "print(\"숫자 -> 문자: \", index_to_text(ids))"
   ]
  },
  {
   "cell_type": "code",
   "execution_count": 9,
   "metadata": {
    "ExecuteTime": {
     "end_time": "2019-08-22T02:19:26.057815Z",
     "start_time": "2019-08-22T02:19:24.232822Z"
    }
   },
   "outputs": [],
   "source": [
    "x_variable = [text_to_index(_) for _ in bytarr]\n",
    "\n",
    "sentence_size = 50\n",
    "x_padded = sequence.pad_sequences(x_variable,\n",
    "                                 maxlen=sentence_size,\n",
    "                                 truncating='post',\n",
    "                                 padding='post',\n",
    "                                 value=pad_id)"
   ]
  },
  {
   "cell_type": "code",
   "execution_count": 10,
   "metadata": {
    "ExecuteTime": {
     "end_time": "2019-08-22T02:19:26.072769Z",
     "start_time": "2019-08-22T02:19:26.060777Z"
    }
   },
   "outputs": [],
   "source": [
    "def plot_loss(history):\n",
    "    plt.figure(figsize=(6,5))\n",
    "    val = plt.plot(history.epoch, history.history['val_loss'],\n",
    "                 '--', label='Test')\n",
    "    plt.plot(history.epoch, history.history['loss'], color=val[0].get_color(),\n",
    "           label='Train')\n",
    "\n",
    "    plt.xlabel('Epochs')\n",
    "    plt.ylabel(\"Loss\")\n",
    "    plt.legend()\n",
    "\n",
    "    plt.xlim([0,max(history.epoch)])"
   ]
  },
  {
   "cell_type": "code",
   "execution_count": 11,
   "metadata": {
    "ExecuteTime": {
     "end_time": "2019-08-22T02:19:26.230679Z",
     "start_time": "2019-08-22T02:19:26.079763Z"
    }
   },
   "outputs": [],
   "source": [
    "import warnings\n",
    "warnings.filterwarnings(action='once')"
   ]
  },
  {
   "cell_type": "markdown",
   "metadata": {},
   "source": [
    "\n",
    "# 데이터 클래스 불균형 문제 해결하자"
   ]
  },
  {
   "cell_type": "code",
   "execution_count": 12,
   "metadata": {
    "ExecuteTime": {
     "end_time": "2019-08-22T02:19:26.258660Z",
     "start_time": "2019-08-22T02:19:26.234674Z"
    }
   },
   "outputs": [],
   "source": [
    "from imblearn.under_sampling import RandomUnderSampler"
   ]
  },
  {
   "cell_type": "code",
   "execution_count": 13,
   "metadata": {
    "ExecuteTime": {
     "end_time": "2019-08-22T02:19:26.317629Z",
     "start_time": "2019-08-22T02:19:26.263658Z"
    }
   },
   "outputs": [],
   "source": [
    "down_X, down_y = RandomUnderSampler().fit_resample(x_padded, datasets.label)"
   ]
  },
  {
   "cell_type": "code",
   "execution_count": 14,
   "metadata": {
    "ExecuteTime": {
     "end_time": "2019-08-22T02:19:26.331620Z",
     "start_time": "2019-08-22T02:19:26.322627Z"
    }
   },
   "outputs": [],
   "source": [
    "X_train, X_test, y_train, y_test = train_test_split(down_X, down_y)"
   ]
  },
  {
   "cell_type": "code",
   "execution_count": 31,
   "metadata": {
    "ExecuteTime": {
     "end_time": "2019-08-21T02:58:56.744360Z",
     "start_time": "2019-08-21T02:58:56.735365Z"
    }
   },
   "outputs": [
    {
     "data": {
      "text/plain": [
       "(4192, 2096)"
      ]
     },
     "execution_count": 31,
     "metadata": {},
     "output_type": "execute_result"
    }
   ],
   "source": [
    "# 총 데이터 수 , 1 레이블 데이터 수\n",
    "len(down_y), down_y.sum()"
   ]
  },
  {
   "cell_type": "code",
   "execution_count": 15,
   "metadata": {
    "ExecuteTime": {
     "end_time": "2019-08-22T02:19:44.920979Z",
     "start_time": "2019-08-22T02:19:43.958535Z"
    }
   },
   "outputs": [
    {
     "name": "stderr",
     "output_type": "stream",
     "text": [
      "WARNING: Logging before flag parsing goes to stderr.\n",
      "W0822 11:19:44.039486  7080 deprecation.py:506] From C:\\Users\\skarn\\Anaconda3\\envs\\DataAnalysis\\lib\\site-packages\\tensorflow\\python\\keras\\initializers.py:119: calling RandomUniform.__init__ (from tensorflow.python.ops.init_ops) with dtype is deprecated and will be removed in a future version.\n",
      "Instructions for updating:\n",
      "Call initializer instance with the dtype argument instead of passing it to the constructor\n",
      "W0822 11:19:44.047484  7080 deprecation.py:506] From C:\\Users\\skarn\\Anaconda3\\envs\\DataAnalysis\\lib\\site-packages\\tensorflow\\python\\ops\\init_ops.py:1251: calling VarianceScaling.__init__ (from tensorflow.python.ops.init_ops) with dtype is deprecated and will be removed in a future version.\n",
      "Instructions for updating:\n",
      "Call initializer instance with the dtype argument instead of passing it to the constructor\n",
      "C:\\Users\\skarn\\Anaconda3\\envs\\DataAnalysis\\lib\\site-packages\\tensorflow\\python\\ops\\nn_ops.py:61: DeprecationWarning: Using or importing the ABCs from 'collections' instead of from 'collections.abc' is deprecated, and in 3.8 it will stop working\n",
      "  elif not isinstance(value, collections.Sized):\n"
     ]
    }
   ],
   "source": [
    "model = keras.Sequential([\n",
    "    keras.layers.Embedding(175, 32),\n",
    "    keras.layers.Conv1D(128, 16, padding=\"same\", activation=tf.nn.relu),\n",
    "    keras.layers.Dropout(0.5),\n",
    "    keras.layers.Conv1D(128, 8, padding=\"same\", activation=tf.nn.relu),\n",
    "    keras.layers.Dropout(0.5),\n",
    "    keras.layers.Conv1D(64, 8, padding=\"same\", activation=tf.nn.relu),\n",
    "    keras.layers.Dropout(0.5),\n",
    "    keras.layers.Conv1D(64, 4, padding=\"same\", activation=tf.nn.relu),\n",
    "    keras.layers.Dropout(0.5),\n",
    "    keras.layers.Conv1D(32, 4, padding=\"same\", activation=tf.nn.relu),\n",
    "    keras.layers.Dropout(0.5),\n",
    "    keras.layers.Conv1D(32, 2, padding=\"same\", activation=tf.nn.relu),\n",
    "    keras.layers.GlobalMaxPool1D(),\n",
    "    keras.layers.Dropout(0.5),\n",
    "    keras.layers.Dense(2, activation=tf.nn.sigmoid)\n",
    "])"
   ]
  },
  {
   "cell_type": "code",
   "execution_count": 21,
   "metadata": {
    "ExecuteTime": {
     "end_time": "2019-08-22T02:35:29.308487Z",
     "start_time": "2019-08-22T02:24:41.933006Z"
    }
   },
   "outputs": [
    {
     "name": "stdout",
     "output_type": "stream",
     "text": [
      "Train on 3144 samples, validate on 1048 samples\n",
      "Epoch 1/20\n",
      "3144/3144 [==============================] - ETA: 2:46 - loss: 0.4523 - recall_1: 0.78 - ETA: 1:34 - loss: 0.4026 - recall_1: 0.82 - ETA: 1:09 - loss: 0.4023 - recall_1: 0.80 - ETA: 57s - loss: 0.4311 - recall_1: 0.7969 - ETA: 49s - loss: 0.4091 - recall_1: 0.812 - ETA: 43s - loss: 0.4069 - recall_1: 0.812 - ETA: 39s - loss: 0.3971 - recall_1: 0.825 - ETA: 36s - loss: 0.3824 - recall_1: 0.832 - ETA: 33s - loss: 0.3885 - recall_1: 0.822 - ETA: 31s - loss: 0.3832 - recall_1: 0.828 - ETA: 31s - loss: 0.3773 - recall_1: 0.832 - ETA: 31s - loss: 0.3970 - recall_1: 0.822 - ETA: 31s - loss: 0.4083 - recall_1: 0.824 - ETA: 29s - loss: 0.4061 - recall_1: 0.823 - ETA: 28s - loss: 0.4022 - recall_1: 0.822 - ETA: 27s - loss: 0.4005 - recall_1: 0.826 - ETA: 25s - loss: 0.3950 - recall_1: 0.832 - ETA: 24s - loss: 0.3946 - recall_1: 0.831 - ETA: 23s - loss: 0.3947 - recall_1: 0.833 - ETA: 23s - loss: 0.3882 - recall_1: 0.837 - ETA: 22s - loss: 0.3842 - recall_1: 0.836 - ETA: 21s - loss: 0.3824 - recall_1: 0.836 - ETA: 21s - loss: 0.3791 - recall_1: 0.839 - ETA: 20s - loss: 0.3738 - recall_1: 0.842 - ETA: 20s - loss: 0.3730 - recall_1: 0.841 - ETA: 20s - loss: 0.3705 - recall_1: 0.842 - ETA: 19s - loss: 0.3664 - recall_1: 0.844 - ETA: 19s - loss: 0.3643 - recall_1: 0.848 - ETA: 18s - loss: 0.3619 - recall_1: 0.850 - ETA: 18s - loss: 0.3636 - recall_1: 0.849 - ETA: 17s - loss: 0.3584 - recall_1: 0.852 - ETA: 17s - loss: 0.3611 - recall_1: 0.850 - ETA: 16s - loss: 0.3610 - recall_1: 0.849 - ETA: 16s - loss: 0.3600 - recall_1: 0.852 - ETA: 15s - loss: 0.3586 - recall_1: 0.850 - ETA: 15s - loss: 0.3569 - recall_1: 0.852 - ETA: 14s - loss: 0.3623 - recall_1: 0.851 - ETA: 14s - loss: 0.3694 - recall_1: 0.848 - ETA: 14s - loss: 0.3658 - recall_1: 0.850 - ETA: 13s - loss: 0.3632 - recall_1: 0.851 - ETA: 13s - loss: 0.3618 - recall_1: 0.852 - ETA: 13s - loss: 0.3646 - recall_1: 0.854 - ETA: 13s - loss: 0.3623 - recall_1: 0.854 - ETA: 13s - loss: 0.3607 - recall_1: 0.853 - ETA: 12s - loss: 0.3622 - recall_1: 0.854 - ETA: 12s - loss: 0.3615 - recall_1: 0.853 - ETA: 12s - loss: 0.3591 - recall_1: 0.853 - ETA: 11s - loss: 0.3591 - recall_1: 0.853 - ETA: 11s - loss: 0.3593 - recall_1: 0.853 - ETA: 11s - loss: 0.3573 - recall_1: 0.853 - ETA: 10s - loss: 0.3592 - recall_1: 0.852 - ETA: 10s - loss: 0.3584 - recall_1: 0.852 - ETA: 10s - loss: 0.3586 - recall_1: 0.852 - ETA: 10s - loss: 0.3587 - recall_1: 0.852 - ETA: 10s - loss: 0.3589 - recall_1: 0.852 - ETA: 9s - loss: 0.3580 - recall_1: 0.852 - ETA: 9s - loss: 0.3547 - recall_1: 0.85 - ETA: 9s - loss: 0.3515 - recall_1: 0.85 - ETA: 9s - loss: 0.3525 - recall_1: 0.85 - ETA: 9s - loss: 0.3505 - recall_1: 0.85 - ETA: 8s - loss: 0.3514 - recall_1: 0.85 - ETA: 8s - loss: 0.3515 - recall_1: 0.85 - ETA: 8s - loss: 0.3542 - recall_1: 0.85 - ETA: 8s - loss: 0.3527 - recall_1: 0.85 - ETA: 7s - loss: 0.3544 - recall_1: 0.85 - ETA: 7s - loss: 0.3567 - recall_1: 0.85 - ETA: 7s - loss: 0.3567 - recall_1: 0.85 - ETA: 7s - loss: 0.3564 - recall_1: 0.85 - ETA: 6s - loss: 0.3558 - recall_1: 0.85 - ETA: 6s - loss: 0.3552 - recall_1: 0.85 - ETA: 6s - loss: 0.3552 - recall_1: 0.85 - ETA: 6s - loss: 0.3567 - recall_1: 0.85 - ETA: 6s - loss: 0.3573 - recall_1: 0.85 - ETA: 5s - loss: 0.3574 - recall_1: 0.85 - ETA: 5s - loss: 0.3556 - recall_1: 0.85 - ETA: 5s - loss: 0.3583 - recall_1: 0.85 - ETA: 5s - loss: 0.3577 - recall_1: 0.85 - ETA: 4s - loss: 0.3576 - recall_1: 0.85 - ETA: 4s - loss: 0.3571 - recall_1: 0.85 - ETA: 4s - loss: 0.3558 - recall_1: 0.85 - ETA: 4s - loss: 0.3563 - recall_1: 0.85 - ETA: 3s - loss: 0.3573 - recall_1: 0.85 - ETA: 3s - loss: 0.3614 - recall_1: 0.85 - ETA: 3s - loss: 0.3606 - recall_1: 0.85 - ETA: 3s - loss: 0.3605 - recall_1: 0.85 - ETA: 2s - loss: 0.3589 - recall_1: 0.85 - ETA: 2s - loss: 0.3576 - recall_1: 0.85 - ETA: 2s - loss: 0.3587 - recall_1: 0.85 - ETA: 2s - loss: 0.3601 - recall_1: 0.85 - ETA: 1s - loss: 0.3597 - recall_1: 0.85 - ETA: 1s - loss: 0.3585 - recall_1: 0.85 - ETA: 1s - loss: 0.3575 - recall_1: 0.85 - ETA: 1s - loss: 0.3581 - recall_1: 0.85 - ETA: 0s - loss: 0.3584 - recall_1: 0.85 - ETA: 0s - loss: 0.3596 - recall_1: 0.85 - ETA: 0s - loss: 0.3608 - recall_1: 0.85 - ETA: 0s - loss: 0.3598 - recall_1: 0.85 - ETA: 0s - loss: 0.3590 - recall_1: 0.85 - 25s 8ms/sample - loss: 0.3587 - recall_1: 0.8524 - val_loss: 0.5657 - val_recall_1: 0.7242\n",
      "Epoch 2/20\n"
     ]
    },
    {
     "name": "stdout",
     "output_type": "stream",
     "text": [
      "3144/3144 [==============================] - ETA: 16s - loss: 0.3319 - recall_1: 0.843 - ETA: 19s - loss: 0.3004 - recall_1: 0.859 - ETA: 21s - loss: 0.3101 - recall_1: 0.875 - ETA: 22s - loss: 0.3234 - recall_1: 0.859 - ETA: 21s - loss: 0.3232 - recall_1: 0.868 - ETA: 20s - loss: 0.3099 - recall_1: 0.880 - ETA: 21s - loss: 0.3025 - recall_1: 0.883 - ETA: 20s - loss: 0.2955 - recall_1: 0.882 - ETA: 20s - loss: 0.3210 - recall_1: 0.871 - ETA: 19s - loss: 0.3139 - recall_1: 0.875 - ETA: 18s - loss: 0.3123 - recall_1: 0.880 - ETA: 18s - loss: 0.3071 - recall_1: 0.882 - ETA: 17s - loss: 0.3214 - recall_1: 0.875 - ETA: 17s - loss: 0.3115 - recall_1: 0.879 - ETA: 16s - loss: 0.3070 - recall_1: 0.877 - ETA: 16s - loss: 0.3060 - recall_1: 0.875 - ETA: 15s - loss: 0.3134 - recall_1: 0.869 - ETA: 15s - loss: 0.3122 - recall_1: 0.869 - ETA: 15s - loss: 0.3107 - recall_1: 0.871 - ETA: 14s - loss: 0.3100 - recall_1: 0.871 - ETA: 14s - loss: 0.3040 - recall_1: 0.876 - ETA: 15s - loss: 0.3070 - recall_1: 0.873 - ETA: 15s - loss: 0.3146 - recall_1: 0.865 - ETA: 15s - loss: 0.3103 - recall_1: 0.868 - ETA: 15s - loss: 0.3060 - recall_1: 0.871 - ETA: 14s - loss: 0.3040 - recall_1: 0.873 - ETA: 14s - loss: 0.2973 - recall_1: 0.877 - ETA: 14s - loss: 0.2940 - recall_1: 0.878 - ETA: 14s - loss: 0.2910 - recall_1: 0.881 - ETA: 14s - loss: 0.2935 - recall_1: 0.880 - ETA: 13s - loss: 0.2917 - recall_1: 0.881 - ETA: 13s - loss: 0.2893 - recall_1: 0.882 - ETA: 13s - loss: 0.2986 - recall_1: 0.881 - ETA: 13s - loss: 0.3017 - recall_1: 0.879 - ETA: 13s - loss: 0.2995 - recall_1: 0.881 - ETA: 14s - loss: 0.3016 - recall_1: 0.881 - ETA: 14s - loss: 0.2984 - recall_1: 0.881 - ETA: 13s - loss: 0.2985 - recall_1: 0.879 - ETA: 13s - loss: 0.2953 - recall_1: 0.883 - ETA: 13s - loss: 0.2943 - recall_1: 0.884 - ETA: 13s - loss: 0.2940 - recall_1: 0.884 - ETA: 12s - loss: 0.2929 - recall_1: 0.885 - ETA: 12s - loss: 0.2989 - recall_1: 0.885 - ETA: 12s - loss: 0.3040 - recall_1: 0.882 - ETA: 12s - loss: 0.3071 - recall_1: 0.881 - ETA: 12s - loss: 0.3047 - recall_1: 0.882 - ETA: 12s - loss: 0.3042 - recall_1: 0.883 - ETA: 12s - loss: 0.3008 - recall_1: 0.885 - ETA: 12s - loss: 0.2991 - recall_1: 0.887 - ETA: 11s - loss: 0.3039 - recall_1: 0.884 - ETA: 11s - loss: 0.3042 - recall_1: 0.884 - ETA: 11s - loss: 0.3017 - recall_1: 0.885 - ETA: 10s - loss: 0.2996 - recall_1: 0.886 - ETA: 10s - loss: 0.2998 - recall_1: 0.886 - ETA: 10s - loss: 0.3015 - recall_1: 0.884 - ETA: 10s - loss: 0.3015 - recall_1: 0.885 - ETA: 9s - loss: 0.3015 - recall_1: 0.886 - ETA: 9s - loss: 0.3030 - recall_1: 0.88 - ETA: 9s - loss: 0.3054 - recall_1: 0.88 - ETA: 9s - loss: 0.3057 - recall_1: 0.88 - ETA: 8s - loss: 0.3073 - recall_1: 0.88 - ETA: 8s - loss: 0.3093 - recall_1: 0.88 - ETA: 8s - loss: 0.3104 - recall_1: 0.88 - ETA: 8s - loss: 0.3088 - recall_1: 0.88 - ETA: 7s - loss: 0.3081 - recall_1: 0.88 - ETA: 7s - loss: 0.3077 - recall_1: 0.88 - ETA: 7s - loss: 0.3080 - recall_1: 0.88 - ETA: 7s - loss: 0.3072 - recall_1: 0.88 - ETA: 7s - loss: 0.3077 - recall_1: 0.88 - ETA: 7s - loss: 0.3081 - recall_1: 0.88 - ETA: 6s - loss: 0.3092 - recall_1: 0.88 - ETA: 6s - loss: 0.3091 - recall_1: 0.88 - ETA: 6s - loss: 0.3098 - recall_1: 0.88 - ETA: 6s - loss: 0.3086 - recall_1: 0.88 - ETA: 5s - loss: 0.3088 - recall_1: 0.88 - ETA: 5s - loss: 0.3097 - recall_1: 0.88 - ETA: 5s - loss: 0.3075 - recall_1: 0.88 - ETA: 4s - loss: 0.3069 - recall_1: 0.88 - ETA: 4s - loss: 0.3059 - recall_1: 0.88 - ETA: 4s - loss: 0.3071 - recall_1: 0.88 - ETA: 4s - loss: 0.3051 - recall_1: 0.88 - ETA: 3s - loss: 0.3053 - recall_1: 0.88 - ETA: 3s - loss: 0.3093 - recall_1: 0.87 - ETA: 3s - loss: 0.3091 - recall_1: 0.87 - ETA: 3s - loss: 0.3084 - recall_1: 0.88 - ETA: 2s - loss: 0.3098 - recall_1: 0.87 - ETA: 2s - loss: 0.3099 - recall_1: 0.87 - ETA: 2s - loss: 0.3109 - recall_1: 0.87 - ETA: 2s - loss: 0.3119 - recall_1: 0.87 - ETA: 1s - loss: 0.3126 - recall_1: 0.87 - ETA: 1s - loss: 0.3140 - recall_1: 0.87 - ETA: 1s - loss: 0.3133 - recall_1: 0.87 - ETA: 1s - loss: 0.3133 - recall_1: 0.87 - ETA: 1s - loss: 0.3113 - recall_1: 0.87 - ETA: 0s - loss: 0.3120 - recall_1: 0.87 - ETA: 0s - loss: 0.3116 - recall_1: 0.87 - ETA: 0s - loss: 0.3109 - recall_1: 0.87 - ETA: 0s - loss: 0.3102 - recall_1: 0.87 - 25s 8ms/sample - loss: 0.3099 - recall_1: 0.8798 - val_loss: 0.5873 - val_recall_1: 0.7395\n",
      "Epoch 3/20\n"
     ]
    },
    {
     "name": "stdout",
     "output_type": "stream",
     "text": [
      "3144/3144 [==============================] - ETA: 13s - loss: 0.1739 - recall_1: 0.968 - ETA: 17s - loss: 0.2809 - recall_1: 0.875 - ETA: 18s - loss: 0.2774 - recall_1: 0.854 - ETA: 22s - loss: 0.2950 - recall_1: 0.843 - ETA: 21s - loss: 0.2973 - recall_1: 0.850 - ETA: 21s - loss: 0.3006 - recall_1: 0.859 - ETA: 20s - loss: 0.3143 - recall_1: 0.857 - ETA: 21s - loss: 0.3015 - recall_1: 0.863 - ETA: 21s - loss: 0.2914 - recall_1: 0.875 - ETA: 21s - loss: 0.2927 - recall_1: 0.871 - ETA: 22s - loss: 0.2988 - recall_1: 0.875 - ETA: 24s - loss: 0.3077 - recall_1: 0.872 - ETA: 27s - loss: 0.2970 - recall_1: 0.877 - ETA: 28s - loss: 0.2893 - recall_1: 0.881 - ETA: 27s - loss: 0.2944 - recall_1: 0.883 - ETA: 26s - loss: 0.2980 - recall_1: 0.878 - ETA: 25s - loss: 0.2874 - recall_1: 0.886 - ETA: 25s - loss: 0.2874 - recall_1: 0.887 - ETA: 24s - loss: 0.2838 - recall_1: 0.889 - ETA: 24s - loss: 0.2880 - recall_1: 0.887 - ETA: 23s - loss: 0.2869 - recall_1: 0.888 - ETA: 23s - loss: 0.2871 - recall_1: 0.889 - ETA: 23s - loss: 0.2845 - recall_1: 0.891 - ETA: 22s - loss: 0.2914 - recall_1: 0.893 - ETA: 21s - loss: 0.2975 - recall_1: 0.891 - ETA: 21s - loss: 0.2985 - recall_1: 0.891 - ETA: 20s - loss: 0.3118 - recall_1: 0.887 - ETA: 20s - loss: 0.3173 - recall_1: 0.886 - ETA: 20s - loss: 0.3142 - recall_1: 0.886 - ETA: 20s - loss: 0.3133 - recall_1: 0.886 - ETA: 20s - loss: 0.3128 - recall_1: 0.886 - ETA: 19s - loss: 0.3138 - recall_1: 0.884 - ETA: 19s - loss: 0.3148 - recall_1: 0.884 - ETA: 19s - loss: 0.3146 - recall_1: 0.884 - ETA: 18s - loss: 0.3111 - recall_1: 0.885 - ETA: 18s - loss: 0.3123 - recall_1: 0.885 - ETA: 18s - loss: 0.3136 - recall_1: 0.885 - ETA: 18s - loss: 0.3140 - recall_1: 0.885 - ETA: 18s - loss: 0.3119 - recall_1: 0.887 - ETA: 18s - loss: 0.3080 - recall_1: 0.889 - ETA: 18s - loss: 0.3078 - recall_1: 0.888 - ETA: 18s - loss: 0.3081 - recall_1: 0.887 - ETA: 18s - loss: 0.3070 - recall_1: 0.887 - ETA: 17s - loss: 0.3036 - recall_1: 0.889 - ETA: 17s - loss: 0.3035 - recall_1: 0.890 - ETA: 17s - loss: 0.3061 - recall_1: 0.888 - ETA: 16s - loss: 0.3051 - recall_1: 0.889 - ETA: 16s - loss: 0.3025 - recall_1: 0.890 - ETA: 15s - loss: 0.3010 - recall_1: 0.890 - ETA: 15s - loss: 0.3035 - recall_1: 0.889 - ETA: 15s - loss: 0.3041 - recall_1: 0.888 - ETA: 14s - loss: 0.3035 - recall_1: 0.888 - ETA: 14s - loss: 0.3008 - recall_1: 0.890 - ETA: 14s - loss: 0.3012 - recall_1: 0.890 - ETA: 14s - loss: 0.2994 - recall_1: 0.892 - ETA: 13s - loss: 0.3027 - recall_1: 0.889 - ETA: 13s - loss: 0.3023 - recall_1: 0.889 - ETA: 12s - loss: 0.3025 - recall_1: 0.889 - ETA: 12s - loss: 0.3010 - recall_1: 0.889 - ETA: 12s - loss: 0.2994 - recall_1: 0.891 - ETA: 11s - loss: 0.2993 - recall_1: 0.890 - ETA: 11s - loss: 0.2983 - recall_1: 0.891 - ETA: 11s - loss: 0.3001 - recall_1: 0.891 - ETA: 10s - loss: 0.3082 - recall_1: 0.889 - ETA: 10s - loss: 0.3077 - recall_1: 0.888 - ETA: 10s - loss: 0.3078 - recall_1: 0.887 - ETA: 9s - loss: 0.3078 - recall_1: 0.887 - ETA: 9s - loss: 0.3076 - recall_1: 0.88 - ETA: 9s - loss: 0.3099 - recall_1: 0.88 - ETA: 8s - loss: 0.3083 - recall_1: 0.88 - ETA: 8s - loss: 0.3109 - recall_1: 0.88 - ETA: 8s - loss: 0.3101 - recall_1: 0.88 - ETA: 7s - loss: 0.3128 - recall_1: 0.88 - ETA: 7s - loss: 0.3148 - recall_1: 0.88 - ETA: 7s - loss: 0.3125 - recall_1: 0.88 - ETA: 7s - loss: 0.3132 - recall_1: 0.88 - ETA: 6s - loss: 0.3128 - recall_1: 0.88 - ETA: 6s - loss: 0.3135 - recall_1: 0.88 - ETA: 6s - loss: 0.3122 - recall_1: 0.88 - ETA: 5s - loss: 0.3111 - recall_1: 0.88 - ETA: 5s - loss: 0.3131 - recall_1: 0.88 - ETA: 5s - loss: 0.3144 - recall_1: 0.88 - ETA: 4s - loss: 0.3140 - recall_1: 0.88 - ETA: 4s - loss: 0.3142 - recall_1: 0.88 - ETA: 4s - loss: 0.3124 - recall_1: 0.88 - ETA: 4s - loss: 0.3115 - recall_1: 0.88 - ETA: 3s - loss: 0.3106 - recall_1: 0.88 - ETA: 3s - loss: 0.3105 - recall_1: 0.88 - ETA: 3s - loss: 0.3117 - recall_1: 0.88 - ETA: 2s - loss: 0.3120 - recall_1: 0.88 - ETA: 2s - loss: 0.3120 - recall_1: 0.88 - ETA: 2s - loss: 0.3128 - recall_1: 0.88 - ETA: 1s - loss: 0.3124 - recall_1: 0.88 - ETA: 1s - loss: 0.3133 - recall_1: 0.88 - ETA: 1s - loss: 0.3140 - recall_1: 0.88 - ETA: 0s - loss: 0.3139 - recall_1: 0.88 - ETA: 0s - loss: 0.3132 - recall_1: 0.88 - ETA: 0s - loss: 0.3135 - recall_1: 0.88 - 33s 11ms/sample - loss: 0.3134 - recall_1: 0.8804 - val_loss: 0.6108 - val_recall_1: 0.7481\n",
      "Epoch 4/20\n"
     ]
    },
    {
     "name": "stdout",
     "output_type": "stream",
     "text": [
      "3144/3144 [==============================] - ETA: 25s - loss: 0.3044 - recall_1: 0.875 - ETA: 31s - loss: 0.2380 - recall_1: 0.921 - ETA: 33s - loss: 0.2125 - recall_1: 0.947 - ETA: 34s - loss: 0.2430 - recall_1: 0.929 - ETA: 33s - loss: 0.2205 - recall_1: 0.943 - ETA: 32s - loss: 0.2295 - recall_1: 0.937 - ETA: 32s - loss: 0.2271 - recall_1: 0.933 - ETA: 31s - loss: 0.2135 - recall_1: 0.941 - ETA: 31s - loss: 0.2206 - recall_1: 0.937 - ETA: 30s - loss: 0.2500 - recall_1: 0.918 - ETA: 29s - loss: 0.2535 - recall_1: 0.914 - ETA: 28s - loss: 0.2699 - recall_1: 0.903 - ETA: 27s - loss: 0.2666 - recall_1: 0.906 - ETA: 28s - loss: 0.2670 - recall_1: 0.906 - ETA: 28s - loss: 0.2657 - recall_1: 0.906 - ETA: 28s - loss: 0.2747 - recall_1: 0.900 - ETA: 28s - loss: 0.2701 - recall_1: 0.902 - ETA: 27s - loss: 0.2695 - recall_1: 0.902 - ETA: 26s - loss: 0.2684 - recall_1: 0.904 - ETA: 25s - loss: 0.2661 - recall_1: 0.906 - ETA: 25s - loss: 0.2731 - recall_1: 0.904 - ETA: 24s - loss: 0.2651 - recall_1: 0.909 - ETA: 24s - loss: 0.2650 - recall_1: 0.907 - ETA: 23s - loss: 0.2695 - recall_1: 0.904 - ETA: 22s - loss: 0.2681 - recall_1: 0.905 - ETA: 22s - loss: 0.2722 - recall_1: 0.903 - ETA: 22s - loss: 0.2707 - recall_1: 0.903 - ETA: 21s - loss: 0.2716 - recall_1: 0.904 - ETA: 22s - loss: 0.2687 - recall_1: 0.904 - ETA: 21s - loss: 0.2690 - recall_1: 0.903 - ETA: 21s - loss: 0.2705 - recall_1: 0.901 - ETA: 20s - loss: 0.2694 - recall_1: 0.901 - ETA: 20s - loss: 0.2686 - recall_1: 0.902 - ETA: 20s - loss: 0.2664 - recall_1: 0.903 - ETA: 19s - loss: 0.2681 - recall_1: 0.902 - ETA: 19s - loss: 0.2705 - recall_1: 0.899 - ETA: 18s - loss: 0.2705 - recall_1: 0.898 - ETA: 18s - loss: 0.2682 - recall_1: 0.898 - ETA: 18s - loss: 0.2685 - recall_1: 0.899 - ETA: 18s - loss: 0.2685 - recall_1: 0.899 - ETA: 17s - loss: 0.2700 - recall_1: 0.898 - ETA: 17s - loss: 0.2703 - recall_1: 0.896 - ETA: 17s - loss: 0.2697 - recall_1: 0.896 - ETA: 17s - loss: 0.2693 - recall_1: 0.895 - ETA: 16s - loss: 0.2704 - recall_1: 0.895 - ETA: 16s - loss: 0.2721 - recall_1: 0.894 - ETA: 16s - loss: 0.2714 - recall_1: 0.894 - ETA: 15s - loss: 0.2743 - recall_1: 0.892 - ETA: 15s - loss: 0.2748 - recall_1: 0.892 - ETA: 15s - loss: 0.2743 - recall_1: 0.893 - ETA: 14s - loss: 0.2785 - recall_1: 0.890 - ETA: 14s - loss: 0.2792 - recall_1: 0.890 - ETA: 14s - loss: 0.2831 - recall_1: 0.889 - ETA: 13s - loss: 0.2840 - recall_1: 0.888 - ETA: 13s - loss: 0.2841 - recall_1: 0.889 - ETA: 13s - loss: 0.2832 - recall_1: 0.890 - ETA: 12s - loss: 0.2861 - recall_1: 0.888 - ETA: 12s - loss: 0.2852 - recall_1: 0.889 - ETA: 12s - loss: 0.2854 - recall_1: 0.888 - ETA: 11s - loss: 0.2856 - recall_1: 0.889 - ETA: 11s - loss: 0.2855 - recall_1: 0.889 - ETA: 11s - loss: 0.2854 - recall_1: 0.890 - ETA: 11s - loss: 0.2861 - recall_1: 0.890 - ETA: 10s - loss: 0.2861 - recall_1: 0.890 - ETA: 10s - loss: 0.2853 - recall_1: 0.891 - ETA: 9s - loss: 0.2849 - recall_1: 0.891 - ETA: 9s - loss: 0.2848 - recall_1: 0.89 - ETA: 9s - loss: 0.2844 - recall_1: 0.89 - ETA: 8s - loss: 0.2831 - recall_1: 0.89 - ETA: 8s - loss: 0.2843 - recall_1: 0.89 - ETA: 8s - loss: 0.2844 - recall_1: 0.89 - ETA: 8s - loss: 0.2848 - recall_1: 0.89 - ETA: 7s - loss: 0.2844 - recall_1: 0.89 - ETA: 7s - loss: 0.2900 - recall_1: 0.89 - ETA: 7s - loss: 0.2888 - recall_1: 0.89 - ETA: 6s - loss: 0.2880 - recall_1: 0.89 - ETA: 6s - loss: 0.2874 - recall_1: 0.89 - ETA: 6s - loss: 0.2865 - recall_1: 0.89 - ETA: 5s - loss: 0.2846 - recall_1: 0.89 - ETA: 5s - loss: 0.2860 - recall_1: 0.89 - ETA: 5s - loss: 0.2865 - recall_1: 0.89 - ETA: 5s - loss: 0.2859 - recall_1: 0.89 - ETA: 4s - loss: 0.2846 - recall_1: 0.89 - ETA: 4s - loss: 0.2848 - recall_1: 0.89 - ETA: 4s - loss: 0.2854 - recall_1: 0.89 - ETA: 3s - loss: 0.2849 - recall_1: 0.89 - ETA: 3s - loss: 0.2869 - recall_1: 0.89 - ETA: 3s - loss: 0.2871 - recall_1: 0.89 - ETA: 2s - loss: 0.2866 - recall_1: 0.89 - ETA: 2s - loss: 0.2846 - recall_1: 0.89 - ETA: 2s - loss: 0.2849 - recall_1: 0.89 - ETA: 1s - loss: 0.2879 - recall_1: 0.89 - ETA: 1s - loss: 0.2878 - recall_1: 0.89 - ETA: 1s - loss: 0.2872 - recall_1: 0.89 - ETA: 1s - loss: 0.2872 - recall_1: 0.89 - ETA: 0s - loss: 0.2873 - recall_1: 0.89 - ETA: 0s - loss: 0.2880 - recall_1: 0.89 - ETA: 0s - loss: 0.2907 - recall_1: 0.89 - 33s 10ms/sample - loss: 0.2909 - recall_1: 0.8931 - val_loss: 0.5715 - val_recall_1: 0.7080\n",
      "Epoch 5/20\n"
     ]
    },
    {
     "name": "stdout",
     "output_type": "stream",
     "text": [
      "3144/3144 [==============================] - ETA: 25s - loss: 0.3582 - recall_1: 0.875 - ETA: 25s - loss: 0.3030 - recall_1: 0.890 - ETA: 24s - loss: 0.2407 - recall_1: 0.916 - ETA: 28s - loss: 0.2501 - recall_1: 0.906 - ETA: 32s - loss: 0.2650 - recall_1: 0.887 - ETA: 31s - loss: 0.2558 - recall_1: 0.895 - ETA: 30s - loss: 0.2613 - recall_1: 0.901 - ETA: 29s - loss: 0.2742 - recall_1: 0.890 - ETA: 28s - loss: 0.2707 - recall_1: 0.895 - ETA: 28s - loss: 0.2743 - recall_1: 0.887 - ETA: 28s - loss: 0.2744 - recall_1: 0.886 - ETA: 27s - loss: 0.2727 - recall_1: 0.888 - ETA: 27s - loss: 0.2669 - recall_1: 0.891 - ETA: 27s - loss: 0.2701 - recall_1: 0.897 - ETA: 27s - loss: 0.2709 - recall_1: 0.891 - ETA: 27s - loss: 0.2751 - recall_1: 0.890 - ETA: 27s - loss: 0.2747 - recall_1: 0.889 - ETA: 27s - loss: 0.2744 - recall_1: 0.887 - ETA: 26s - loss: 0.2714 - recall_1: 0.891 - ETA: 25s - loss: 0.2700 - recall_1: 0.893 - ETA: 25s - loss: 0.2706 - recall_1: 0.892 - ETA: 24s - loss: 0.2703 - recall_1: 0.893 - ETA: 24s - loss: 0.2708 - recall_1: 0.892 - ETA: 23s - loss: 0.2690 - recall_1: 0.893 - ETA: 23s - loss: 0.2629 - recall_1: 0.896 - ETA: 23s - loss: 0.2658 - recall_1: 0.895 - ETA: 22s - loss: 0.2713 - recall_1: 0.891 - ETA: 22s - loss: 0.2766 - recall_1: 0.888 - ETA: 21s - loss: 0.2768 - recall_1: 0.889 - ETA: 21s - loss: 0.2728 - recall_1: 0.890 - ETA: 20s - loss: 0.2681 - recall_1: 0.893 - ETA: 20s - loss: 0.2669 - recall_1: 0.894 - ETA: 20s - loss: 0.2625 - recall_1: 0.897 - ETA: 19s - loss: 0.2631 - recall_1: 0.896 - ETA: 19s - loss: 0.2608 - recall_1: 0.898 - ETA: 19s - loss: 0.2599 - recall_1: 0.898 - ETA: 18s - loss: 0.2597 - recall_1: 0.898 - ETA: 18s - loss: 0.2595 - recall_1: 0.898 - ETA: 18s - loss: 0.2572 - recall_1: 0.899 - ETA: 17s - loss: 0.2563 - recall_1: 0.900 - ETA: 17s - loss: 0.2537 - recall_1: 0.902 - ETA: 16s - loss: 0.2520 - recall_1: 0.903 - ETA: 16s - loss: 0.2516 - recall_1: 0.904 - ETA: 16s - loss: 0.2494 - recall_1: 0.904 - ETA: 15s - loss: 0.2469 - recall_1: 0.906 - ETA: 15s - loss: 0.2464 - recall_1: 0.905 - ETA: 15s - loss: 0.2434 - recall_1: 0.906 - ETA: 15s - loss: 0.2419 - recall_1: 0.906 - ETA: 15s - loss: 0.2466 - recall_1: 0.905 - ETA: 14s - loss: 0.2456 - recall_1: 0.905 - ETA: 14s - loss: 0.2429 - recall_1: 0.906 - ETA: 14s - loss: 0.2435 - recall_1: 0.906 - ETA: 13s - loss: 0.2460 - recall_1: 0.907 - ETA: 13s - loss: 0.2439 - recall_1: 0.908 - ETA: 13s - loss: 0.2460 - recall_1: 0.907 - ETA: 12s - loss: 0.2449 - recall_1: 0.907 - ETA: 12s - loss: 0.2464 - recall_1: 0.906 - ETA: 12s - loss: 0.2490 - recall_1: 0.906 - ETA: 11s - loss: 0.2474 - recall_1: 0.906 - ETA: 11s - loss: 0.2472 - recall_1: 0.906 - ETA: 11s - loss: 0.2453 - recall_1: 0.906 - ETA: 11s - loss: 0.2425 - recall_1: 0.907 - ETA: 10s - loss: 0.2459 - recall_1: 0.906 - ETA: 10s - loss: 0.2457 - recall_1: 0.906 - ETA: 10s - loss: 0.2474 - recall_1: 0.906 - ETA: 9s - loss: 0.2451 - recall_1: 0.907 - ETA: 9s - loss: 0.2437 - recall_1: 0.90 - ETA: 9s - loss: 0.2432 - recall_1: 0.90 - ETA: 9s - loss: 0.2424 - recall_1: 0.90 - ETA: 8s - loss: 0.2434 - recall_1: 0.90 - ETA: 8s - loss: 0.2435 - recall_1: 0.90 - ETA: 8s - loss: 0.2435 - recall_1: 0.90 - ETA: 7s - loss: 0.2436 - recall_1: 0.90 - ETA: 7s - loss: 0.2466 - recall_1: 0.90 - ETA: 7s - loss: 0.2467 - recall_1: 0.90 - ETA: 7s - loss: 0.2472 - recall_1: 0.90 - ETA: 6s - loss: 0.2474 - recall_1: 0.90 - ETA: 6s - loss: 0.2487 - recall_1: 0.90 - ETA: 6s - loss: 0.2499 - recall_1: 0.90 - ETA: 5s - loss: 0.2494 - recall_1: 0.90 - ETA: 5s - loss: 0.2481 - recall_1: 0.90 - ETA: 5s - loss: 0.2485 - recall_1: 0.90 - ETA: 4s - loss: 0.2473 - recall_1: 0.90 - ETA: 4s - loss: 0.2469 - recall_1: 0.90 - ETA: 4s - loss: 0.2488 - recall_1: 0.90 - ETA: 3s - loss: 0.2507 - recall_1: 0.90 - ETA: 3s - loss: 0.2494 - recall_1: 0.90 - ETA: 3s - loss: 0.2484 - recall_1: 0.90 - ETA: 2s - loss: 0.2468 - recall_1: 0.90 - ETA: 2s - loss: 0.2467 - recall_1: 0.90 - ETA: 2s - loss: 0.2458 - recall_1: 0.90 - ETA: 1s - loss: 0.2457 - recall_1: 0.90 - ETA: 1s - loss: 0.2482 - recall_1: 0.90 - ETA: 1s - loss: 0.2480 - recall_1: 0.90 - ETA: 1s - loss: 0.2464 - recall_1: 0.90 - ETA: 0s - loss: 0.2457 - recall_1: 0.90 - ETA: 0s - loss: 0.2458 - recall_1: 0.90 - ETA: 0s - loss: 0.2459 - recall_1: 0.90 - 33s 11ms/sample - loss: 0.2456 - recall_1: 0.9087 - val_loss: 0.6137 - val_recall_1: 0.7328\n",
      "Epoch 6/20\n"
     ]
    },
    {
     "name": "stdout",
     "output_type": "stream",
     "text": [
      "3144/3144 [==============================] - ETA: 26s - loss: 0.2858 - recall_1: 0.906 - ETA: 25s - loss: 0.4268 - recall_1: 0.890 - ETA: 27s - loss: 0.4464 - recall_1: 0.895 - ETA: 27s - loss: 0.4064 - recall_1: 0.890 - ETA: 26s - loss: 0.3534 - recall_1: 0.893 - ETA: 26s - loss: 0.3413 - recall_1: 0.895 - ETA: 26s - loss: 0.3141 - recall_1: 0.901 - ETA: 27s - loss: 0.2917 - recall_1: 0.910 - ETA: 28s - loss: 0.2688 - recall_1: 0.920 - ETA: 28s - loss: 0.2615 - recall_1: 0.921 - ETA: 29s - loss: 0.2517 - recall_1: 0.926 - ETA: 30s - loss: 0.2592 - recall_1: 0.921 - ETA: 29s - loss: 0.2611 - recall_1: 0.918 - ETA: 29s - loss: 0.2579 - recall_1: 0.915 - ETA: 28s - loss: 0.2538 - recall_1: 0.916 - ETA: 27s - loss: 0.2548 - recall_1: 0.916 - ETA: 27s - loss: 0.2580 - recall_1: 0.915 - ETA: 26s - loss: 0.2537 - recall_1: 0.916 - ETA: 26s - loss: 0.2584 - recall_1: 0.914 - ETA: 26s - loss: 0.2720 - recall_1: 0.910 - ETA: 26s - loss: 0.2693 - recall_1: 0.912 - ETA: 25s - loss: 0.2713 - recall_1: 0.907 - ETA: 25s - loss: 0.2732 - recall_1: 0.903 - ETA: 24s - loss: 0.2637 - recall_1: 0.907 - ETA: 23s - loss: 0.2669 - recall_1: 0.903 - ETA: 23s - loss: 0.2698 - recall_1: 0.901 - ETA: 22s - loss: 0.2670 - recall_1: 0.903 - ETA: 22s - loss: 0.2627 - recall_1: 0.907 - ETA: 21s - loss: 0.2582 - recall_1: 0.909 - ETA: 21s - loss: 0.2566 - recall_1: 0.909 - ETA: 20s - loss: 0.2605 - recall_1: 0.909 - ETA: 20s - loss: 0.2555 - recall_1: 0.911 - ETA: 20s - loss: 0.2633 - recall_1: 0.907 - ETA: 20s - loss: 0.2689 - recall_1: 0.906 - ETA: 20s - loss: 0.2752 - recall_1: 0.904 - ETA: 20s - loss: 0.2746 - recall_1: 0.905 - ETA: 19s - loss: 0.2741 - recall_1: 0.905 - ETA: 19s - loss: 0.2728 - recall_1: 0.906 - ETA: 18s - loss: 0.2691 - recall_1: 0.907 - ETA: 18s - loss: 0.2703 - recall_1: 0.905 - ETA: 17s - loss: 0.2691 - recall_1: 0.905 - ETA: 17s - loss: 0.2669 - recall_1: 0.906 - ETA: 17s - loss: 0.2655 - recall_1: 0.907 - ETA: 17s - loss: 0.2659 - recall_1: 0.905 - ETA: 16s - loss: 0.2693 - recall_1: 0.903 - ETA: 16s - loss: 0.2694 - recall_1: 0.903 - ETA: 16s - loss: 0.2709 - recall_1: 0.902 - ETA: 16s - loss: 0.2679 - recall_1: 0.903 - ETA: 15s - loss: 0.2683 - recall_1: 0.902 - ETA: 15s - loss: 0.2663 - recall_1: 0.903 - ETA: 15s - loss: 0.2666 - recall_1: 0.903 - ETA: 14s - loss: 0.2648 - recall_1: 0.904 - ETA: 14s - loss: 0.2673 - recall_1: 0.902 - ETA: 14s - loss: 0.2671 - recall_1: 0.902 - ETA: 14s - loss: 0.2655 - recall_1: 0.902 - ETA: 13s - loss: 0.2643 - recall_1: 0.904 - ETA: 13s - loss: 0.2647 - recall_1: 0.904 - ETA: 13s - loss: 0.2652 - recall_1: 0.903 - ETA: 13s - loss: 0.2642 - recall_1: 0.904 - ETA: 12s - loss: 0.2639 - recall_1: 0.904 - ETA: 12s - loss: 0.2626 - recall_1: 0.904 - ETA: 12s - loss: 0.2614 - recall_1: 0.905 - ETA: 11s - loss: 0.2619 - recall_1: 0.904 - ETA: 11s - loss: 0.2612 - recall_1: 0.904 - ETA: 11s - loss: 0.2596 - recall_1: 0.905 - ETA: 10s - loss: 0.2664 - recall_1: 0.903 - ETA: 10s - loss: 0.2677 - recall_1: 0.903 - ETA: 10s - loss: 0.2656 - recall_1: 0.905 - ETA: 9s - loss: 0.2647 - recall_1: 0.905 - ETA: 9s - loss: 0.2639 - recall_1: 0.90 - ETA: 9s - loss: 0.2670 - recall_1: 0.90 - ETA: 8s - loss: 0.2662 - recall_1: 0.90 - ETA: 8s - loss: 0.2641 - recall_1: 0.90 - ETA: 8s - loss: 0.2622 - recall_1: 0.90 - ETA: 7s - loss: 0.2620 - recall_1: 0.90 - ETA: 7s - loss: 0.2610 - recall_1: 0.90 - ETA: 7s - loss: 0.2614 - recall_1: 0.90 - ETA: 6s - loss: 0.2648 - recall_1: 0.90 - ETA: 6s - loss: 0.2673 - recall_1: 0.90 - ETA: 6s - loss: 0.2664 - recall_1: 0.90 - ETA: 5s - loss: 0.2670 - recall_1: 0.90 - ETA: 5s - loss: 0.2676 - recall_1: 0.90 - ETA: 5s - loss: 0.2686 - recall_1: 0.90 - ETA: 4s - loss: 0.2682 - recall_1: 0.90 - ETA: 4s - loss: 0.2684 - recall_1: 0.90 - ETA: 4s - loss: 0.2672 - recall_1: 0.90 - ETA: 3s - loss: 0.2673 - recall_1: 0.90 - ETA: 3s - loss: 0.2666 - recall_1: 0.90 - ETA: 3s - loss: 0.2663 - recall_1: 0.90 - ETA: 2s - loss: 0.2653 - recall_1: 0.90 - ETA: 2s - loss: 0.2650 - recall_1: 0.90 - ETA: 2s - loss: 0.2639 - recall_1: 0.90 - ETA: 1s - loss: 0.2626 - recall_1: 0.90 - ETA: 1s - loss: 0.2632 - recall_1: 0.90 - ETA: 1s - loss: 0.2630 - recall_1: 0.90 - ETA: 0s - loss: 0.2626 - recall_1: 0.90 - ETA: 0s - loss: 0.2613 - recall_1: 0.90 - ETA: 0s - loss: 0.2638 - recall_1: 0.90 - 36s 11ms/sample - loss: 0.2636 - recall_1: 0.9078 - val_loss: 0.5694 - val_recall_1: 0.7176\n",
      "Epoch 7/20\n"
     ]
    },
    {
     "name": "stdout",
     "output_type": "stream",
     "text": [
      "3144/3144 [==============================] - ETA: 18s - loss: 0.1742 - recall_1: 0.968 - ETA: 23s - loss: 0.2826 - recall_1: 0.921 - ETA: 31s - loss: 0.2833 - recall_1: 0.916 - ETA: 31s - loss: 0.2912 - recall_1: 0.906 - ETA: 31s - loss: 0.3026 - recall_1: 0.906 - ETA: 40s - loss: 0.2854 - recall_1: 0.911 - ETA: 39s - loss: 0.2711 - recall_1: 0.915 - ETA: 38s - loss: 0.2628 - recall_1: 0.914 - ETA: 36s - loss: 0.2537 - recall_1: 0.913 - ETA: 37s - loss: 0.2509 - recall_1: 0.918 - ETA: 39s - loss: 0.2437 - recall_1: 0.920 - ETA: 40s - loss: 0.2369 - recall_1: 0.924 - ETA: 44s - loss: 0.2320 - recall_1: 0.927 - ETA: 47s - loss: 0.2205 - recall_1: 0.933 - ETA: 46s - loss: 0.2201 - recall_1: 0.931 - ETA: 45s - loss: 0.2130 - recall_1: 0.933 - ETA: 45s - loss: 0.2170 - recall_1: 0.932 - ETA: 43s - loss: 0.2150 - recall_1: 0.930 - ETA: 43s - loss: 0.2217 - recall_1: 0.927 - ETA: 42s - loss: 0.2168 - recall_1: 0.931 - ETA: 42s - loss: 0.2100 - recall_1: 0.934 - ETA: 44s - loss: 0.2108 - recall_1: 0.936 - ETA: 43s - loss: 0.2209 - recall_1: 0.933 - ETA: 41s - loss: 0.2181 - recall_1: 0.933 - ETA: 40s - loss: 0.2131 - recall_1: 0.935 - ETA: 38s - loss: 0.2089 - recall_1: 0.935 - ETA: 37s - loss: 0.2096 - recall_1: 0.934 - ETA: 36s - loss: 0.2099 - recall_1: 0.934 - ETA: 34s - loss: 0.2095 - recall_1: 0.934 - ETA: 33s - loss: 0.2146 - recall_1: 0.931 - ETA: 32s - loss: 0.2109 - recall_1: 0.932 - ETA: 31s - loss: 0.2127 - recall_1: 0.932 - ETA: 30s - loss: 0.2156 - recall_1: 0.929 - ETA: 30s - loss: 0.2207 - recall_1: 0.927 - ETA: 29s - loss: 0.2240 - recall_1: 0.925 - ETA: 29s - loss: 0.2225 - recall_1: 0.925 - ETA: 28s - loss: 0.2223 - recall_1: 0.924 - ETA: 27s - loss: 0.2256 - recall_1: 0.924 - ETA: 27s - loss: 0.2245 - recall_1: 0.924 - ETA: 26s - loss: 0.2266 - recall_1: 0.923 - ETA: 25s - loss: 0.2235 - recall_1: 0.924 - ETA: 24s - loss: 0.2225 - recall_1: 0.924 - ETA: 24s - loss: 0.2243 - recall_1: 0.923 - ETA: 23s - loss: 0.2217 - recall_1: 0.923 - ETA: 23s - loss: 0.2216 - recall_1: 0.923 - ETA: 22s - loss: 0.2208 - recall_1: 0.923 - ETA: 22s - loss: 0.2206 - recall_1: 0.924 - ETA: 21s - loss: 0.2198 - recall_1: 0.923 - ETA: 20s - loss: 0.2189 - recall_1: 0.924 - ETA: 20s - loss: 0.2160 - recall_1: 0.926 - ETA: 19s - loss: 0.2180 - recall_1: 0.925 - ETA: 19s - loss: 0.2188 - recall_1: 0.926 - ETA: 18s - loss: 0.2181 - recall_1: 0.926 - ETA: 17s - loss: 0.2185 - recall_1: 0.925 - ETA: 17s - loss: 0.2167 - recall_1: 0.926 - ETA: 16s - loss: 0.2205 - recall_1: 0.926 - ETA: 16s - loss: 0.2190 - recall_1: 0.927 - ETA: 15s - loss: 0.2177 - recall_1: 0.927 - ETA: 15s - loss: 0.2193 - recall_1: 0.925 - ETA: 14s - loss: 0.2187 - recall_1: 0.926 - ETA: 14s - loss: 0.2185 - recall_1: 0.926 - ETA: 13s - loss: 0.2166 - recall_1: 0.927 - ETA: 13s - loss: 0.2150 - recall_1: 0.928 - ETA: 13s - loss: 0.2148 - recall_1: 0.927 - ETA: 12s - loss: 0.2179 - recall_1: 0.926 - ETA: 12s - loss: 0.2158 - recall_1: 0.927 - ETA: 11s - loss: 0.2156 - recall_1: 0.927 - ETA: 11s - loss: 0.2180 - recall_1: 0.926 - ETA: 10s - loss: 0.2205 - recall_1: 0.925 - ETA: 10s - loss: 0.2201 - recall_1: 0.925 - ETA: 10s - loss: 0.2203 - recall_1: 0.925 - ETA: 9s - loss: 0.2214 - recall_1: 0.924 - ETA: 9s - loss: 0.2215 - recall_1: 0.92 - ETA: 8s - loss: 0.2209 - recall_1: 0.92 - ETA: 8s - loss: 0.2205 - recall_1: 0.92 - ETA: 8s - loss: 0.2215 - recall_1: 0.92 - ETA: 7s - loss: 0.2205 - recall_1: 0.92 - ETA: 7s - loss: 0.2218 - recall_1: 0.92 - ETA: 6s - loss: 0.2216 - recall_1: 0.92 - ETA: 6s - loss: 0.2207 - recall_1: 0.92 - ETA: 6s - loss: 0.2210 - recall_1: 0.92 - ETA: 5s - loss: 0.2212 - recall_1: 0.92 - ETA: 5s - loss: 0.2221 - recall_1: 0.92 - ETA: 5s - loss: 0.2214 - recall_1: 0.92 - ETA: 4s - loss: 0.2262 - recall_1: 0.92 - ETA: 4s - loss: 0.2269 - recall_1: 0.92 - ETA: 4s - loss: 0.2267 - recall_1: 0.92 - ETA: 3s - loss: 0.2261 - recall_1: 0.92 - ETA: 3s - loss: 0.2270 - recall_1: 0.92 - ETA: 2s - loss: 0.2266 - recall_1: 0.92 - ETA: 2s - loss: 0.2279 - recall_1: 0.92 - ETA: 2s - loss: 0.2280 - recall_1: 0.92 - ETA: 1s - loss: 0.2271 - recall_1: 0.92 - ETA: 1s - loss: 0.2260 - recall_1: 0.92 - ETA: 1s - loss: 0.2258 - recall_1: 0.92 - ETA: 0s - loss: 0.2273 - recall_1: 0.92 - ETA: 0s - loss: 0.2291 - recall_1: 0.92 - ETA: 0s - loss: 0.2294 - recall_1: 0.92 - 36s 11ms/sample - loss: 0.2291 - recall_1: 0.9208 - val_loss: 0.7043 - val_recall_1: 0.7338\n",
      "Epoch 8/20\n"
     ]
    },
    {
     "name": "stdout",
     "output_type": "stream",
     "text": [
      "3144/3144 [==============================] - ETA: 17s - loss: 0.2573 - recall_1: 0.906 - ETA: 18s - loss: 0.1800 - recall_1: 0.937 - ETA: 21s - loss: 0.1961 - recall_1: 0.916 - ETA: 22s - loss: 0.1905 - recall_1: 0.914 - ETA: 23s - loss: 0.1846 - recall_1: 0.925 - ETA: 23s - loss: 0.1949 - recall_1: 0.927 - ETA: 24s - loss: 0.1802 - recall_1: 0.937 - ETA: 24s - loss: 0.1913 - recall_1: 0.933 - ETA: 25s - loss: 0.1849 - recall_1: 0.934 - ETA: 24s - loss: 0.1863 - recall_1: 0.934 - ETA: 24s - loss: 0.1915 - recall_1: 0.931 - ETA: 24s - loss: 0.1911 - recall_1: 0.932 - ETA: 23s - loss: 0.1872 - recall_1: 0.932 - ETA: 23s - loss: 0.1973 - recall_1: 0.930 - ETA: 23s - loss: 0.1956 - recall_1: 0.933 - ETA: 23s - loss: 0.1993 - recall_1: 0.929 - ETA: 22s - loss: 0.2057 - recall_1: 0.926 - ETA: 22s - loss: 0.2119 - recall_1: 0.927 - ETA: 22s - loss: 0.2162 - recall_1: 0.922 - ETA: 22s - loss: 0.2157 - recall_1: 0.921 - ETA: 22s - loss: 0.2174 - recall_1: 0.922 - ETA: 22s - loss: 0.2141 - recall_1: 0.924 - ETA: 22s - loss: 0.2133 - recall_1: 0.923 - ETA: 21s - loss: 0.2093 - recall_1: 0.927 - ETA: 21s - loss: 0.2171 - recall_1: 0.926 - ETA: 20s - loss: 0.2160 - recall_1: 0.925 - ETA: 20s - loss: 0.2204 - recall_1: 0.924 - ETA: 20s - loss: 0.2263 - recall_1: 0.924 - ETA: 19s - loss: 0.2246 - recall_1: 0.923 - ETA: 19s - loss: 0.2362 - recall_1: 0.919 - ETA: 19s - loss: 0.2323 - recall_1: 0.921 - ETA: 18s - loss: 0.2365 - recall_1: 0.918 - ETA: 18s - loss: 0.2423 - recall_1: 0.917 - ETA: 18s - loss: 0.2510 - recall_1: 0.916 - ETA: 17s - loss: 0.2522 - recall_1: 0.916 - ETA: 17s - loss: 0.2564 - recall_1: 0.913 - ETA: 17s - loss: 0.2556 - recall_1: 0.913 - ETA: 16s - loss: 0.2512 - recall_1: 0.915 - ETA: 16s - loss: 0.2504 - recall_1: 0.915 - ETA: 15s - loss: 0.2532 - recall_1: 0.915 - ETA: 15s - loss: 0.2525 - recall_1: 0.914 - ETA: 15s - loss: 0.2505 - recall_1: 0.914 - ETA: 15s - loss: 0.2550 - recall_1: 0.912 - ETA: 14s - loss: 0.2537 - recall_1: 0.912 - ETA: 14s - loss: 0.2561 - recall_1: 0.911 - ETA: 14s - loss: 0.2568 - recall_1: 0.911 - ETA: 14s - loss: 0.2578 - recall_1: 0.910 - ETA: 13s - loss: 0.2568 - recall_1: 0.911 - ETA: 13s - loss: 0.2586 - recall_1: 0.910 - ETA: 13s - loss: 0.2600 - recall_1: 0.908 - ETA: 13s - loss: 0.2606 - recall_1: 0.908 - ETA: 12s - loss: 0.2599 - recall_1: 0.907 - ETA: 12s - loss: 0.2634 - recall_1: 0.904 - ETA: 12s - loss: 0.2638 - recall_1: 0.904 - ETA: 12s - loss: 0.2628 - recall_1: 0.904 - ETA: 12s - loss: 0.2632 - recall_1: 0.903 - ETA: 11s - loss: 0.2618 - recall_1: 0.904 - ETA: 11s - loss: 0.2613 - recall_1: 0.904 - ETA: 11s - loss: 0.2611 - recall_1: 0.905 - ETA: 10s - loss: 0.2608 - recall_1: 0.906 - ETA: 10s - loss: 0.2600 - recall_1: 0.907 - ETA: 10s - loss: 0.2588 - recall_1: 0.908 - ETA: 9s - loss: 0.2585 - recall_1: 0.908 - ETA: 9s - loss: 0.2577 - recall_1: 0.90 - ETA: 9s - loss: 0.2565 - recall_1: 0.90 - ETA: 9s - loss: 0.2553 - recall_1: 0.90 - ETA: 8s - loss: 0.2536 - recall_1: 0.91 - ETA: 8s - loss: 0.2536 - recall_1: 0.90 - ETA: 8s - loss: 0.2519 - recall_1: 0.91 - ETA: 7s - loss: 0.2498 - recall_1: 0.91 - ETA: 7s - loss: 0.2488 - recall_1: 0.91 - ETA: 7s - loss: 0.2472 - recall_1: 0.91 - ETA: 7s - loss: 0.2464 - recall_1: 0.91 - ETA: 6s - loss: 0.2455 - recall_1: 0.91 - ETA: 6s - loss: 0.2480 - recall_1: 0.91 - ETA: 6s - loss: 0.2483 - recall_1: 0.91 - ETA: 5s - loss: 0.2479 - recall_1: 0.91 - ETA: 5s - loss: 0.2461 - recall_1: 0.91 - ETA: 5s - loss: 0.2450 - recall_1: 0.91 - ETA: 5s - loss: 0.2443 - recall_1: 0.91 - ETA: 4s - loss: 0.2432 - recall_1: 0.91 - ETA: 4s - loss: 0.2432 - recall_1: 0.91 - ETA: 4s - loss: 0.2456 - recall_1: 0.91 - ETA: 3s - loss: 0.2444 - recall_1: 0.91 - ETA: 3s - loss: 0.2434 - recall_1: 0.91 - ETA: 3s - loss: 0.2416 - recall_1: 0.91 - ETA: 3s - loss: 0.2426 - recall_1: 0.91 - ETA: 2s - loss: 0.2421 - recall_1: 0.91 - ETA: 2s - loss: 0.2413 - recall_1: 0.91 - ETA: 2s - loss: 0.2408 - recall_1: 0.91 - ETA: 2s - loss: 0.2409 - recall_1: 0.91 - ETA: 1s - loss: 0.2395 - recall_1: 0.91 - ETA: 1s - loss: 0.2387 - recall_1: 0.91 - ETA: 1s - loss: 0.2382 - recall_1: 0.91 - ETA: 0s - loss: 0.2374 - recall_1: 0.91 - ETA: 0s - loss: 0.2366 - recall_1: 0.91 - ETA: 0s - loss: 0.2355 - recall_1: 0.91 - ETA: 0s - loss: 0.2358 - recall_1: 0.91 - 30s 10ms/sample - loss: 0.2353 - recall_1: 0.9176 - val_loss: 0.7325 - val_recall_1: 0.7347\n",
      "Epoch 9/20\n"
     ]
    },
    {
     "name": "stdout",
     "output_type": "stream",
     "text": [
      "3144/3144 [==============================] - ETA: 24s - loss: 0.1794 - recall_1: 0.937 - ETA: 32s - loss: 0.2081 - recall_1: 0.906 - ETA: 35s - loss: 0.2087 - recall_1: 0.916 - ETA: 32s - loss: 0.2042 - recall_1: 0.914 - ETA: 31s - loss: 0.2130 - recall_1: 0.912 - ETA: 29s - loss: 0.2029 - recall_1: 0.916 - ETA: 27s - loss: 0.3202 - recall_1: 0.906 - ETA: 26s - loss: 0.2883 - recall_1: 0.914 - ETA: 25s - loss: 0.2723 - recall_1: 0.920 - ETA: 24s - loss: 0.2572 - recall_1: 0.921 - ETA: 24s - loss: 0.2519 - recall_1: 0.920 - ETA: 24s - loss: 0.2416 - recall_1: 0.921 - ETA: 23s - loss: 0.2402 - recall_1: 0.923 - ETA: 23s - loss: 0.2419 - recall_1: 0.919 - ETA: 23s - loss: 0.2483 - recall_1: 0.920 - ETA: 23s - loss: 0.2488 - recall_1: 0.919 - ETA: 23s - loss: 0.2437 - recall_1: 0.919 - ETA: 23s - loss: 0.2410 - recall_1: 0.918 - ETA: 24s - loss: 0.2334 - recall_1: 0.922 - ETA: 24s - loss: 0.2310 - recall_1: 0.923 - ETA: 24s - loss: 0.2300 - recall_1: 0.924 - ETA: 24s - loss: 0.2290 - recall_1: 0.924 - ETA: 24s - loss: 0.2271 - recall_1: 0.926 - ETA: 23s - loss: 0.2241 - recall_1: 0.927 - ETA: 23s - loss: 0.2203 - recall_1: 0.927 - ETA: 22s - loss: 0.2167 - recall_1: 0.929 - ETA: 22s - loss: 0.2115 - recall_1: 0.931 - ETA: 21s - loss: 0.2120 - recall_1: 0.931 - ETA: 21s - loss: 0.2122 - recall_1: 0.931 - ETA: 20s - loss: 0.2135 - recall_1: 0.929 - ETA: 20s - loss: 0.2121 - recall_1: 0.929 - ETA: 20s - loss: 0.2146 - recall_1: 0.928 - ETA: 19s - loss: 0.2116 - recall_1: 0.929 - ETA: 19s - loss: 0.2146 - recall_1: 0.927 - ETA: 19s - loss: 0.2117 - recall_1: 0.928 - ETA: 18s - loss: 0.2101 - recall_1: 0.928 - ETA: 18s - loss: 0.2086 - recall_1: 0.928 - ETA: 18s - loss: 0.2050 - recall_1: 0.929 - ETA: 17s - loss: 0.2040 - recall_1: 0.929 - ETA: 17s - loss: 0.2015 - recall_1: 0.930 - ETA: 16s - loss: 0.1991 - recall_1: 0.931 - ETA: 16s - loss: 0.1962 - recall_1: 0.933 - ETA: 16s - loss: 0.1968 - recall_1: 0.932 - ETA: 15s - loss: 0.1943 - recall_1: 0.933 - ETA: 15s - loss: 0.1951 - recall_1: 0.934 - ETA: 15s - loss: 0.1944 - recall_1: 0.933 - ETA: 15s - loss: 0.1930 - recall_1: 0.933 - ETA: 14s - loss: 0.1940 - recall_1: 0.933 - ETA: 14s - loss: 0.1944 - recall_1: 0.933 - ETA: 14s - loss: 0.1927 - recall_1: 0.934 - ETA: 13s - loss: 0.1931 - recall_1: 0.935 - ETA: 13s - loss: 0.1926 - recall_1: 0.935 - ETA: 13s - loss: 0.1913 - recall_1: 0.935 - ETA: 12s - loss: 0.1896 - recall_1: 0.936 - ETA: 12s - loss: 0.1902 - recall_1: 0.936 - ETA: 12s - loss: 0.1902 - recall_1: 0.936 - ETA: 12s - loss: 0.1938 - recall_1: 0.935 - ETA: 11s - loss: 0.1927 - recall_1: 0.935 - ETA: 11s - loss: 0.1932 - recall_1: 0.935 - ETA: 11s - loss: 0.1950 - recall_1: 0.934 - ETA: 11s - loss: 0.1959 - recall_1: 0.934 - ETA: 11s - loss: 0.1931 - recall_1: 0.935 - ETA: 10s - loss: 0.1926 - recall_1: 0.936 - ETA: 10s - loss: 0.1941 - recall_1: 0.936 - ETA: 10s - loss: 0.1932 - recall_1: 0.936 - ETA: 9s - loss: 0.2049 - recall_1: 0.935 - ETA: 9s - loss: 0.2062 - recall_1: 0.93 - ETA: 9s - loss: 0.2045 - recall_1: 0.93 - ETA: 9s - loss: 0.2074 - recall_1: 0.93 - ETA: 8s - loss: 0.2085 - recall_1: 0.93 - ETA: 8s - loss: 0.2084 - recall_1: 0.93 - ETA: 8s - loss: 0.2067 - recall_1: 0.93 - ETA: 8s - loss: 0.2065 - recall_1: 0.93 - ETA: 7s - loss: 0.2069 - recall_1: 0.93 - ETA: 7s - loss: 0.2091 - recall_1: 0.93 - ETA: 7s - loss: 0.2103 - recall_1: 0.93 - ETA: 6s - loss: 0.2128 - recall_1: 0.92 - ETA: 6s - loss: 0.2141 - recall_1: 0.92 - ETA: 6s - loss: 0.2140 - recall_1: 0.92 - ETA: 6s - loss: 0.2138 - recall_1: 0.92 - ETA: 5s - loss: 0.2143 - recall_1: 0.92 - ETA: 5s - loss: 0.2140 - recall_1: 0.92 - ETA: 5s - loss: 0.2148 - recall_1: 0.92 - ETA: 4s - loss: 0.2139 - recall_1: 0.92 - ETA: 4s - loss: 0.2142 - recall_1: 0.92 - ETA: 4s - loss: 0.2136 - recall_1: 0.92 - ETA: 3s - loss: 0.2135 - recall_1: 0.92 - ETA: 3s - loss: 0.2140 - recall_1: 0.92 - ETA: 3s - loss: 0.2148 - recall_1: 0.92 - ETA: 2s - loss: 0.2154 - recall_1: 0.92 - ETA: 2s - loss: 0.2155 - recall_1: 0.92 - ETA: 2s - loss: 0.2146 - recall_1: 0.92 - ETA: 1s - loss: 0.2153 - recall_1: 0.92 - ETA: 1s - loss: 0.2146 - recall_1: 0.92 - ETA: 1s - loss: 0.2149 - recall_1: 0.92 - ETA: 0s - loss: 0.2156 - recall_1: 0.92 - ETA: 0s - loss: 0.2154 - recall_1: 0.92 - ETA: 0s - loss: 0.2158 - recall_1: 0.92 - 35s 11ms/sample - loss: 0.2162 - recall_1: 0.9268 - val_loss: 0.6251 - val_recall_1: 0.7090\n",
      "Epoch 10/20\n"
     ]
    },
    {
     "name": "stdout",
     "output_type": "stream",
     "text": [
      "3144/3144 [==============================] - ETA: 27s - loss: 0.2599 - recall_1: 0.906 - ETA: 30s - loss: 0.2037 - recall_1: 0.921 - ETA: 31s - loss: 0.1955 - recall_1: 0.927 - ETA: 31s - loss: 0.2141 - recall_1: 0.921 - ETA: 31s - loss: 0.2308 - recall_1: 0.906 - ETA: 31s - loss: 0.2350 - recall_1: 0.906 - ETA: 29s - loss: 0.2488 - recall_1: 0.901 - ETA: 28s - loss: 0.2631 - recall_1: 0.894 - ETA: 27s - loss: 0.2591 - recall_1: 0.899 - ETA: 26s - loss: 0.2527 - recall_1: 0.903 - ETA: 25s - loss: 0.2618 - recall_1: 0.897 - ETA: 25s - loss: 0.2544 - recall_1: 0.903 - ETA: 24s - loss: 0.2565 - recall_1: 0.899 - ETA: 24s - loss: 0.2470 - recall_1: 0.904 - ETA: 24s - loss: 0.2488 - recall_1: 0.904 - ETA: 24s - loss: 0.2406 - recall_1: 0.910 - ETA: 24s - loss: 0.2401 - recall_1: 0.911 - ETA: 24s - loss: 0.2382 - recall_1: 0.913 - ETA: 24s - loss: 0.2320 - recall_1: 0.916 - ETA: 24s - loss: 0.2444 - recall_1: 0.910 - ETA: 24s - loss: 0.2477 - recall_1: 0.912 - ETA: 23s - loss: 0.2465 - recall_1: 0.911 - ETA: 23s - loss: 0.2420 - recall_1: 0.914 - ETA: 22s - loss: 0.2475 - recall_1: 0.908 - ETA: 22s - loss: 0.2470 - recall_1: 0.908 - ETA: 22s - loss: 0.2497 - recall_1: 0.905 - ETA: 22s - loss: 0.2426 - recall_1: 0.908 - ETA: 21s - loss: 0.2405 - recall_1: 0.909 - ETA: 21s - loss: 0.2415 - recall_1: 0.909 - ETA: 21s - loss: 0.2401 - recall_1: 0.910 - ETA: 20s - loss: 0.2376 - recall_1: 0.911 - ETA: 20s - loss: 0.2367 - recall_1: 0.912 - ETA: 20s - loss: 0.2338 - recall_1: 0.912 - ETA: 19s - loss: 0.2319 - recall_1: 0.913 - ETA: 19s - loss: 0.2302 - recall_1: 0.914 - ETA: 19s - loss: 0.2299 - recall_1: 0.913 - ETA: 18s - loss: 0.2347 - recall_1: 0.912 - ETA: 18s - loss: 0.2357 - recall_1: 0.912 - ETA: 18s - loss: 0.2340 - recall_1: 0.912 - ETA: 17s - loss: 0.2333 - recall_1: 0.913 - ETA: 17s - loss: 0.2311 - recall_1: 0.913 - ETA: 17s - loss: 0.2314 - recall_1: 0.914 - ETA: 16s - loss: 0.2303 - recall_1: 0.915 - ETA: 16s - loss: 0.2279 - recall_1: 0.916 - ETA: 15s - loss: 0.2273 - recall_1: 0.916 - ETA: 15s - loss: 0.2303 - recall_1: 0.915 - ETA: 15s - loss: 0.2326 - recall_1: 0.913 - ETA: 15s - loss: 0.2364 - recall_1: 0.911 - ETA: 14s - loss: 0.2364 - recall_1: 0.912 - ETA: 14s - loss: 0.2356 - recall_1: 0.912 - ETA: 14s - loss: 0.2341 - recall_1: 0.912 - ETA: 13s - loss: 0.2323 - recall_1: 0.913 - ETA: 13s - loss: 0.2306 - recall_1: 0.913 - ETA: 13s - loss: 0.2341 - recall_1: 0.912 - ETA: 13s - loss: 0.2319 - recall_1: 0.912 - ETA: 12s - loss: 0.2311 - recall_1: 0.912 - ETA: 12s - loss: 0.2321 - recall_1: 0.912 - ETA: 12s - loss: 0.2337 - recall_1: 0.912 - ETA: 12s - loss: 0.2308 - recall_1: 0.914 - ETA: 11s - loss: 0.2308 - recall_1: 0.914 - ETA: 11s - loss: 0.2316 - recall_1: 0.913 - ETA: 11s - loss: 0.2339 - recall_1: 0.912 - ETA: 10s - loss: 0.2351 - recall_1: 0.912 - ETA: 10s - loss: 0.2325 - recall_1: 0.913 - ETA: 10s - loss: 0.2309 - recall_1: 0.914 - ETA: 9s - loss: 0.2317 - recall_1: 0.913 - ETA: 9s - loss: 0.2336 - recall_1: 0.91 - ETA: 9s - loss: 0.2357 - recall_1: 0.91 - ETA: 9s - loss: 0.2378 - recall_1: 0.91 - ETA: 8s - loss: 0.2359 - recall_1: 0.91 - ETA: 8s - loss: 0.2337 - recall_1: 0.91 - ETA: 8s - loss: 0.2328 - recall_1: 0.91 - ETA: 7s - loss: 0.2322 - recall_1: 0.91 - ETA: 7s - loss: 0.2327 - recall_1: 0.91 - ETA: 7s - loss: 0.2325 - recall_1: 0.91 - ETA: 6s - loss: 0.2320 - recall_1: 0.91 - ETA: 6s - loss: 0.2322 - recall_1: 0.91 - ETA: 6s - loss: 0.2321 - recall_1: 0.91 - ETA: 5s - loss: 0.2339 - recall_1: 0.91 - ETA: 5s - loss: 0.2334 - recall_1: 0.91 - ETA: 5s - loss: 0.2345 - recall_1: 0.91 - ETA: 4s - loss: 0.2359 - recall_1: 0.91 - ETA: 4s - loss: 0.2372 - recall_1: 0.91 - ETA: 4s - loss: 0.2370 - recall_1: 0.91 - ETA: 4s - loss: 0.2357 - recall_1: 0.91 - ETA: 3s - loss: 0.2356 - recall_1: 0.91 - ETA: 3s - loss: 0.2349 - recall_1: 0.91 - ETA: 3s - loss: 0.2332 - recall_1: 0.91 - ETA: 2s - loss: 0.2328 - recall_1: 0.91 - ETA: 2s - loss: 0.2325 - recall_1: 0.91 - ETA: 2s - loss: 0.2317 - recall_1: 0.91 - ETA: 1s - loss: 0.2303 - recall_1: 0.91 - ETA: 1s - loss: 0.2288 - recall_1: 0.91 - ETA: 1s - loss: 0.2289 - recall_1: 0.91 - ETA: 0s - loss: 0.2302 - recall_1: 0.91 - ETA: 0s - loss: 0.2298 - recall_1: 0.91 - ETA: 0s - loss: 0.2291 - recall_1: 0.91 - ETA: 0s - loss: 0.2285 - recall_1: 0.91 - 33s 10ms/sample - loss: 0.2282 - recall_1: 0.9167 - val_loss: 0.6218 - val_recall_1: 0.7195\n",
      "Epoch 11/20\n"
     ]
    },
    {
     "name": "stdout",
     "output_type": "stream",
     "text": [
      "3144/3144 [==============================] - ETA: 22s - loss: 0.0657 - recall_1: 1.000 - ETA: 21s - loss: 0.1171 - recall_1: 0.968 - ETA: 21s - loss: 0.1573 - recall_1: 0.958 - ETA: 21s - loss: 0.1789 - recall_1: 0.945 - ETA: 20s - loss: 0.1821 - recall_1: 0.943 - ETA: 20s - loss: 0.1981 - recall_1: 0.937 - ETA: 21s - loss: 0.2228 - recall_1: 0.919 - ETA: 21s - loss: 0.2276 - recall_1: 0.921 - ETA: 22s - loss: 0.2328 - recall_1: 0.920 - ETA: 22s - loss: 0.2416 - recall_1: 0.912 - ETA: 22s - loss: 0.2317 - recall_1: 0.914 - ETA: 22s - loss: 0.2203 - recall_1: 0.919 - ETA: 22s - loss: 0.2165 - recall_1: 0.920 - ETA: 22s - loss: 0.2064 - recall_1: 0.926 - ETA: 21s - loss: 0.2010 - recall_1: 0.927 - ETA: 21s - loss: 0.2089 - recall_1: 0.925 - ETA: 20s - loss: 0.2093 - recall_1: 0.928 - ETA: 20s - loss: 0.2341 - recall_1: 0.927 - ETA: 20s - loss: 0.2278 - recall_1: 0.927 - ETA: 20s - loss: 0.2326 - recall_1: 0.925 - ETA: 20s - loss: 0.2323 - recall_1: 0.922 - ETA: 20s - loss: 0.2345 - recall_1: 0.921 - ETA: 20s - loss: 0.2401 - recall_1: 0.917 - ETA: 20s - loss: 0.2453 - recall_1: 0.914 - ETA: 20s - loss: 0.2411 - recall_1: 0.915 - ETA: 20s - loss: 0.2379 - recall_1: 0.915 - ETA: 20s - loss: 0.2371 - recall_1: 0.915 - ETA: 20s - loss: 0.2340 - recall_1: 0.916 - ETA: 20s - loss: 0.2284 - recall_1: 0.918 - ETA: 19s - loss: 0.2258 - recall_1: 0.918 - ETA: 19s - loss: 0.2253 - recall_1: 0.919 - ETA: 19s - loss: 0.2230 - recall_1: 0.919 - ETA: 19s - loss: 0.2222 - recall_1: 0.920 - ETA: 18s - loss: 0.2223 - recall_1: 0.920 - ETA: 18s - loss: 0.2190 - recall_1: 0.921 - ETA: 18s - loss: 0.2216 - recall_1: 0.921 - ETA: 17s - loss: 0.2246 - recall_1: 0.919 - ETA: 17s - loss: 0.2244 - recall_1: 0.920 - ETA: 17s - loss: 0.2229 - recall_1: 0.920 - ETA: 17s - loss: 0.2210 - recall_1: 0.921 - ETA: 16s - loss: 0.2171 - recall_1: 0.923 - ETA: 16s - loss: 0.2146 - recall_1: 0.923 - ETA: 16s - loss: 0.2127 - recall_1: 0.923 - ETA: 15s - loss: 0.2106 - recall_1: 0.924 - ETA: 15s - loss: 0.2112 - recall_1: 0.925 - ETA: 15s - loss: 0.2109 - recall_1: 0.924 - ETA: 14s - loss: 0.2096 - recall_1: 0.925 - ETA: 14s - loss: 0.2100 - recall_1: 0.924 - ETA: 14s - loss: 0.2075 - recall_1: 0.926 - ETA: 13s - loss: 0.2084 - recall_1: 0.925 - ETA: 13s - loss: 0.2075 - recall_1: 0.926 - ETA: 13s - loss: 0.2076 - recall_1: 0.926 - ETA: 12s - loss: 0.2064 - recall_1: 0.927 - ETA: 12s - loss: 0.2041 - recall_1: 0.928 - ETA: 12s - loss: 0.2051 - recall_1: 0.928 - ETA: 11s - loss: 0.2045 - recall_1: 0.928 - ETA: 11s - loss: 0.2070 - recall_1: 0.927 - ETA: 11s - loss: 0.2050 - recall_1: 0.928 - ETA: 11s - loss: 0.2041 - recall_1: 0.928 - ETA: 10s - loss: 0.2055 - recall_1: 0.927 - ETA: 10s - loss: 0.2032 - recall_1: 0.928 - ETA: 10s - loss: 0.2026 - recall_1: 0.928 - ETA: 10s - loss: 0.2016 - recall_1: 0.929 - ETA: 9s - loss: 0.2011 - recall_1: 0.929 - ETA: 9s - loss: 0.2017 - recall_1: 0.92 - ETA: 9s - loss: 0.2026 - recall_1: 0.92 - ETA: 9s - loss: 0.2025 - recall_1: 0.92 - ETA: 8s - loss: 0.2010 - recall_1: 0.92 - ETA: 8s - loss: 0.2005 - recall_1: 0.92 - ETA: 8s - loss: 0.1983 - recall_1: 0.92 - ETA: 7s - loss: 0.1982 - recall_1: 0.93 - ETA: 7s - loss: 0.1981 - recall_1: 0.93 - ETA: 7s - loss: 0.1985 - recall_1: 0.92 - ETA: 7s - loss: 0.1998 - recall_1: 0.92 - ETA: 6s - loss: 0.2008 - recall_1: 0.93 - ETA: 6s - loss: 0.2015 - recall_1: 0.92 - ETA: 6s - loss: 0.2008 - recall_1: 0.92 - ETA: 5s - loss: 0.2000 - recall_1: 0.92 - ETA: 5s - loss: 0.1999 - recall_1: 0.92 - ETA: 5s - loss: 0.1992 - recall_1: 0.92 - ETA: 4s - loss: 0.2016 - recall_1: 0.92 - ETA: 4s - loss: 0.2002 - recall_1: 0.92 - ETA: 4s - loss: 0.1986 - recall_1: 0.92 - ETA: 4s - loss: 0.1985 - recall_1: 0.92 - ETA: 3s - loss: 0.1992 - recall_1: 0.92 - ETA: 3s - loss: 0.1991 - recall_1: 0.92 - ETA: 3s - loss: 0.1977 - recall_1: 0.93 - ETA: 2s - loss: 0.1969 - recall_1: 0.93 - ETA: 2s - loss: 0.1979 - recall_1: 0.92 - ETA: 2s - loss: 0.1970 - recall_1: 0.93 - ETA: 2s - loss: 0.1973 - recall_1: 0.93 - ETA: 1s - loss: 0.1969 - recall_1: 0.93 - ETA: 1s - loss: 0.1985 - recall_1: 0.92 - ETA: 1s - loss: 0.1992 - recall_1: 0.92 - ETA: 0s - loss: 0.1983 - recall_1: 0.92 - ETA: 0s - loss: 0.1998 - recall_1: 0.92 - ETA: 0s - loss: 0.2002 - recall_1: 0.92 - ETA: 0s - loss: 0.2024 - recall_1: 0.92 - 31s 10ms/sample - loss: 0.2026 - recall_1: 0.9275 - val_loss: 0.6511 - val_recall_1: 0.7328\n",
      "Epoch 12/20\n"
     ]
    },
    {
     "name": "stdout",
     "output_type": "stream",
     "text": [
      "3144/3144 [==============================] - ETA: 36s - loss: 0.1633 - recall_1: 0.937 - ETA: 35s - loss: 0.1409 - recall_1: 0.953 - ETA: 34s - loss: 0.1511 - recall_1: 0.947 - ETA: 33s - loss: 0.1604 - recall_1: 0.945 - ETA: 31s - loss: 0.1677 - recall_1: 0.943 - ETA: 31s - loss: 0.1562 - recall_1: 0.947 - ETA: 30s - loss: 0.1492 - recall_1: 0.950 - ETA: 29s - loss: 0.1599 - recall_1: 0.949 - ETA: 29s - loss: 0.1674 - recall_1: 0.944 - ETA: 28s - loss: 0.1623 - recall_1: 0.943 - ETA: 27s - loss: 0.1630 - recall_1: 0.943 - ETA: 26s - loss: 0.1631 - recall_1: 0.945 - ETA: 26s - loss: 0.1598 - recall_1: 0.947 - ETA: 25s - loss: 0.1535 - recall_1: 0.948 - ETA: 25s - loss: 0.1565 - recall_1: 0.945 - ETA: 24s - loss: 0.1545 - recall_1: 0.945 - ETA: 24s - loss: 0.1553 - recall_1: 0.944 - ETA: 23s - loss: 0.1518 - recall_1: 0.946 - ETA: 23s - loss: 0.1462 - recall_1: 0.949 - ETA: 22s - loss: 0.1433 - recall_1: 0.951 - ETA: 22s - loss: 0.1567 - recall_1: 0.949 - ETA: 22s - loss: 0.1522 - recall_1: 0.951 - ETA: 21s - loss: 0.1595 - recall_1: 0.951 - ETA: 21s - loss: 0.1609 - recall_1: 0.949 - ETA: 21s - loss: 0.1633 - recall_1: 0.948 - ETA: 20s - loss: 0.1670 - recall_1: 0.947 - ETA: 20s - loss: 0.1652 - recall_1: 0.947 - ETA: 20s - loss: 0.1638 - recall_1: 0.947 - ETA: 19s - loss: 0.1663 - recall_1: 0.946 - ETA: 19s - loss: 0.1639 - recall_1: 0.946 - ETA: 19s - loss: 0.1603 - recall_1: 0.948 - ETA: 19s - loss: 0.1612 - recall_1: 0.948 - ETA: 19s - loss: 0.1600 - recall_1: 0.948 - ETA: 18s - loss: 0.1600 - recall_1: 0.949 - ETA: 18s - loss: 0.1587 - recall_1: 0.950 - ETA: 18s - loss: 0.1563 - recall_1: 0.951 - ETA: 18s - loss: 0.1643 - recall_1: 0.951 - ETA: 18s - loss: 0.1615 - recall_1: 0.953 - ETA: 18s - loss: 0.1617 - recall_1: 0.952 - ETA: 18s - loss: 0.1595 - recall_1: 0.953 - ETA: 18s - loss: 0.1616 - recall_1: 0.953 - ETA: 17s - loss: 0.1647 - recall_1: 0.951 - ETA: 17s - loss: 0.1673 - recall_1: 0.950 - ETA: 17s - loss: 0.1648 - recall_1: 0.951 - ETA: 16s - loss: 0.1664 - recall_1: 0.950 - ETA: 16s - loss: 0.1659 - recall_1: 0.950 - ETA: 16s - loss: 0.1646 - recall_1: 0.950 - ETA: 15s - loss: 0.1653 - recall_1: 0.950 - ETA: 15s - loss: 0.1633 - recall_1: 0.951 - ETA: 15s - loss: 0.1630 - recall_1: 0.951 - ETA: 14s - loss: 0.1635 - recall_1: 0.949 - ETA: 14s - loss: 0.1648 - recall_1: 0.949 - ETA: 14s - loss: 0.1683 - recall_1: 0.948 - ETA: 13s - loss: 0.1720 - recall_1: 0.947 - ETA: 13s - loss: 0.1695 - recall_1: 0.948 - ETA: 13s - loss: 0.1686 - recall_1: 0.948 - ETA: 12s - loss: 0.1672 - recall_1: 0.949 - ETA: 12s - loss: 0.1665 - recall_1: 0.948 - ETA: 12s - loss: 0.1647 - recall_1: 0.949 - ETA: 11s - loss: 0.1657 - recall_1: 0.949 - ETA: 11s - loss: 0.1669 - recall_1: 0.948 - ETA: 11s - loss: 0.1659 - recall_1: 0.949 - ETA: 11s - loss: 0.1646 - recall_1: 0.949 - ETA: 10s - loss: 0.1638 - recall_1: 0.949 - ETA: 10s - loss: 0.1629 - recall_1: 0.949 - ETA: 10s - loss: 0.1615 - recall_1: 0.949 - ETA: 9s - loss: 0.1625 - recall_1: 0.949 - ETA: 9s - loss: 0.1607 - recall_1: 0.94 - ETA: 9s - loss: 0.1624 - recall_1: 0.94 - ETA: 8s - loss: 0.1697 - recall_1: 0.94 - ETA: 8s - loss: 0.1699 - recall_1: 0.94 - ETA: 8s - loss: 0.1691 - recall_1: 0.94 - ETA: 8s - loss: 0.1715 - recall_1: 0.94 - ETA: 7s - loss: 0.1718 - recall_1: 0.94 - ETA: 7s - loss: 0.1712 - recall_1: 0.94 - ETA: 7s - loss: 0.1701 - recall_1: 0.94 - ETA: 6s - loss: 0.1699 - recall_1: 0.94 - ETA: 6s - loss: 0.1689 - recall_1: 0.94 - ETA: 6s - loss: 0.1699 - recall_1: 0.94 - ETA: 5s - loss: 0.1688 - recall_1: 0.94 - ETA: 5s - loss: 0.1679 - recall_1: 0.94 - ETA: 5s - loss: 0.1706 - recall_1: 0.94 - ETA: 4s - loss: 0.1711 - recall_1: 0.94 - ETA: 4s - loss: 0.1712 - recall_1: 0.94 - ETA: 4s - loss: 0.1717 - recall_1: 0.94 - ETA: 3s - loss: 0.1711 - recall_1: 0.94 - ETA: 3s - loss: 0.1737 - recall_1: 0.94 - ETA: 3s - loss: 0.1758 - recall_1: 0.94 - ETA: 3s - loss: 0.1753 - recall_1: 0.94 - ETA: 2s - loss: 0.1740 - recall_1: 0.94 - ETA: 2s - loss: 0.1751 - recall_1: 0.94 - ETA: 2s - loss: 0.1744 - recall_1: 0.94 - ETA: 1s - loss: 0.1751 - recall_1: 0.94 - ETA: 1s - loss: 0.1757 - recall_1: 0.94 - ETA: 1s - loss: 0.1758 - recall_1: 0.94 - ETA: 0s - loss: 0.1778 - recall_1: 0.94 - ETA: 0s - loss: 0.1776 - recall_1: 0.94 - ETA: 0s - loss: 0.1779 - recall_1: 0.94 - 35s 11ms/sample - loss: 0.1775 - recall_1: 0.9437 - val_loss: 0.6555 - val_recall_1: 0.7071\n",
      "Epoch 13/20\n"
     ]
    },
    {
     "name": "stdout",
     "output_type": "stream",
     "text": [
      "3144/3144 [==============================] - ETA: 31s - loss: 0.1223 - recall_1: 0.968 - ETA: 31s - loss: 0.3369 - recall_1: 0.906 - ETA: 32s - loss: 0.2899 - recall_1: 0.916 - ETA: 31s - loss: 0.2531 - recall_1: 0.921 - ETA: 30s - loss: 0.2661 - recall_1: 0.906 - ETA: 30s - loss: 0.2830 - recall_1: 0.901 - ETA: 30s - loss: 0.2867 - recall_1: 0.897 - ETA: 29s - loss: 0.2845 - recall_1: 0.894 - ETA: 29s - loss: 0.2750 - recall_1: 0.899 - ETA: 28s - loss: 0.2608 - recall_1: 0.906 - ETA: 27s - loss: 0.2488 - recall_1: 0.911 - ETA: 26s - loss: 0.2426 - recall_1: 0.914 - ETA: 26s - loss: 0.2348 - recall_1: 0.913 - ETA: 25s - loss: 0.2283 - recall_1: 0.917 - ETA: 25s - loss: 0.2262 - recall_1: 0.920 - ETA: 25s - loss: 0.2186 - recall_1: 0.923 - ETA: 24s - loss: 0.2185 - recall_1: 0.922 - ETA: 24s - loss: 0.2175 - recall_1: 0.923 - ETA: 23s - loss: 0.2105 - recall_1: 0.927 - ETA: 23s - loss: 0.2068 - recall_1: 0.928 - ETA: 22s - loss: 0.2018 - recall_1: 0.931 - ETA: 22s - loss: 0.2043 - recall_1: 0.930 - ETA: 22s - loss: 0.2000 - recall_1: 0.932 - ETA: 21s - loss: 0.1992 - recall_1: 0.933 - ETA: 21s - loss: 0.1947 - recall_1: 0.936 - ETA: 21s - loss: 0.1959 - recall_1: 0.935 - ETA: 20s - loss: 0.1918 - recall_1: 0.936 - ETA: 20s - loss: 0.1970 - recall_1: 0.936 - ETA: 20s - loss: 0.1971 - recall_1: 0.935 - ETA: 20s - loss: 0.1926 - recall_1: 0.937 - ETA: 20s - loss: 0.1928 - recall_1: 0.938 - ETA: 20s - loss: 0.1930 - recall_1: 0.937 - ETA: 19s - loss: 0.1922 - recall_1: 0.937 - ETA: 19s - loss: 0.1884 - recall_1: 0.939 - ETA: 18s - loss: 0.1865 - recall_1: 0.940 - ETA: 18s - loss: 0.1854 - recall_1: 0.940 - ETA: 18s - loss: 0.1878 - recall_1: 0.939 - ETA: 18s - loss: 0.1849 - recall_1: 0.940 - ETA: 18s - loss: 0.1810 - recall_1: 0.942 - ETA: 17s - loss: 0.1784 - recall_1: 0.942 - ETA: 17s - loss: 0.1775 - recall_1: 0.942 - ETA: 17s - loss: 0.1763 - recall_1: 0.942 - ETA: 16s - loss: 0.1776 - recall_1: 0.941 - ETA: 16s - loss: 0.1748 - recall_1: 0.941 - ETA: 16s - loss: 0.1721 - recall_1: 0.943 - ETA: 15s - loss: 0.1712 - recall_1: 0.943 - ETA: 15s - loss: 0.1748 - recall_1: 0.942 - ETA: 15s - loss: 0.1742 - recall_1: 0.941 - ETA: 14s - loss: 0.1750 - recall_1: 0.942 - ETA: 14s - loss: 0.1728 - recall_1: 0.942 - ETA: 14s - loss: 0.1704 - recall_1: 0.943 - ETA: 13s - loss: 0.1697 - recall_1: 0.942 - ETA: 13s - loss: 0.1689 - recall_1: 0.942 - ETA: 13s - loss: 0.1674 - recall_1: 0.942 - ETA: 13s - loss: 0.1676 - recall_1: 0.942 - ETA: 12s - loss: 0.1701 - recall_1: 0.941 - ETA: 12s - loss: 0.1683 - recall_1: 0.942 - ETA: 12s - loss: 0.1665 - recall_1: 0.943 - ETA: 11s - loss: 0.1670 - recall_1: 0.943 - ETA: 11s - loss: 0.1660 - recall_1: 0.943 - ETA: 11s - loss: 0.1643 - recall_1: 0.944 - ETA: 10s - loss: 0.1676 - recall_1: 0.942 - ETA: 10s - loss: 0.1704 - recall_1: 0.942 - ETA: 10s - loss: 0.1728 - recall_1: 0.940 - ETA: 9s - loss: 0.1740 - recall_1: 0.939 - ETA: 9s - loss: 0.1732 - recall_1: 0.94 - ETA: 9s - loss: 0.1736 - recall_1: 0.93 - ETA: 9s - loss: 0.1732 - recall_1: 0.93 - ETA: 8s - loss: 0.1712 - recall_1: 0.94 - ETA: 8s - loss: 0.1729 - recall_1: 0.93 - ETA: 8s - loss: 0.1746 - recall_1: 0.93 - ETA: 7s - loss: 0.1733 - recall_1: 0.93 - ETA: 7s - loss: 0.1748 - recall_1: 0.93 - ETA: 7s - loss: 0.1737 - recall_1: 0.93 - ETA: 7s - loss: 0.1733 - recall_1: 0.93 - ETA: 6s - loss: 0.1723 - recall_1: 0.93 - ETA: 6s - loss: 0.1717 - recall_1: 0.93 - ETA: 6s - loss: 0.1722 - recall_1: 0.93 - ETA: 5s - loss: 0.1733 - recall_1: 0.93 - ETA: 5s - loss: 0.1725 - recall_1: 0.93 - ETA: 5s - loss: 0.1742 - recall_1: 0.93 - ETA: 4s - loss: 0.1771 - recall_1: 0.93 - ETA: 4s - loss: 0.1774 - recall_1: 0.93 - ETA: 4s - loss: 0.1771 - recall_1: 0.93 - ETA: 4s - loss: 0.1761 - recall_1: 0.93 - ETA: 3s - loss: 0.1764 - recall_1: 0.93 - ETA: 3s - loss: 0.1770 - recall_1: 0.93 - ETA: 3s - loss: 0.1772 - recall_1: 0.93 - ETA: 2s - loss: 0.1763 - recall_1: 0.93 - ETA: 2s - loss: 0.1757 - recall_1: 0.93 - ETA: 2s - loss: 0.1758 - recall_1: 0.93 - ETA: 1s - loss: 0.1782 - recall_1: 0.93 - ETA: 1s - loss: 0.1782 - recall_1: 0.93 - ETA: 1s - loss: 0.1779 - recall_1: 0.93 - ETA: 0s - loss: 0.1780 - recall_1: 0.93 - ETA: 0s - loss: 0.1794 - recall_1: 0.93 - ETA: 0s - loss: 0.1791 - recall_1: 0.93 - ETA: 0s - loss: 0.1787 - recall_1: 0.93 - 32s 10ms/sample - loss: 0.1791 - recall_1: 0.9364 - val_loss: 0.6593 - val_recall_1: 0.7261\n",
      "Epoch 14/20\n"
     ]
    },
    {
     "name": "stdout",
     "output_type": "stream",
     "text": [
      "3144/3144 [==============================] - ETA: 33s - loss: 0.0553 - recall_1: 1.000 - ETA: 31s - loss: 0.1931 - recall_1: 0.937 - ETA: 29s - loss: 0.1690 - recall_1: 0.947 - ETA: 29s - loss: 0.1573 - recall_1: 0.945 - ETA: 29s - loss: 0.1835 - recall_1: 0.925 - ETA: 29s - loss: 0.1858 - recall_1: 0.921 - ETA: 29s - loss: 0.2226 - recall_1: 0.906 - ETA: 28s - loss: 0.2145 - recall_1: 0.910 - ETA: 28s - loss: 0.2015 - recall_1: 0.916 - ETA: 28s - loss: 0.1958 - recall_1: 0.921 - ETA: 28s - loss: 0.1950 - recall_1: 0.920 - ETA: 27s - loss: 0.1963 - recall_1: 0.921 - ETA: 26s - loss: 0.1921 - recall_1: 0.925 - ETA: 26s - loss: 0.1909 - recall_1: 0.928 - ETA: 25s - loss: 0.1846 - recall_1: 0.931 - ETA: 24s - loss: 0.1803 - recall_1: 0.933 - ETA: 24s - loss: 0.1768 - recall_1: 0.933 - ETA: 24s - loss: 0.1767 - recall_1: 0.935 - ETA: 24s - loss: 0.1728 - recall_1: 0.937 - ETA: 23s - loss: 0.1755 - recall_1: 0.937 - ETA: 24s - loss: 0.1793 - recall_1: 0.936 - ETA: 23s - loss: 0.1903 - recall_1: 0.934 - ETA: 23s - loss: 0.1977 - recall_1: 0.932 - ETA: 22s - loss: 0.1994 - recall_1: 0.931 - ETA: 21s - loss: 0.1973 - recall_1: 0.931 - ETA: 21s - loss: 0.2059 - recall_1: 0.930 - ETA: 20s - loss: 0.2038 - recall_1: 0.930 - ETA: 20s - loss: 0.2060 - recall_1: 0.926 - ETA: 19s - loss: 0.2075 - recall_1: 0.925 - ETA: 19s - loss: 0.2089 - recall_1: 0.925 - ETA: 19s - loss: 0.2070 - recall_1: 0.925 - ETA: 18s - loss: 0.2038 - recall_1: 0.926 - ETA: 18s - loss: 0.2064 - recall_1: 0.925 - ETA: 18s - loss: 0.2056 - recall_1: 0.925 - ETA: 18s - loss: 0.2036 - recall_1: 0.926 - ETA: 18s - loss: 0.2008 - recall_1: 0.928 - ETA: 17s - loss: 0.1997 - recall_1: 0.928 - ETA: 17s - loss: 0.1984 - recall_1: 0.929 - ETA: 17s - loss: 0.2023 - recall_1: 0.927 - ETA: 16s - loss: 0.2000 - recall_1: 0.929 - ETA: 16s - loss: 0.1983 - recall_1: 0.930 - ETA: 16s - loss: 0.1959 - recall_1: 0.932 - ETA: 15s - loss: 0.1934 - recall_1: 0.933 - ETA: 15s - loss: 0.1946 - recall_1: 0.932 - ETA: 15s - loss: 0.1934 - recall_1: 0.931 - ETA: 15s - loss: 0.1926 - recall_1: 0.932 - ETA: 15s - loss: 0.1901 - recall_1: 0.932 - ETA: 14s - loss: 0.1906 - recall_1: 0.932 - ETA: 14s - loss: 0.1888 - recall_1: 0.933 - ETA: 14s - loss: 0.1880 - recall_1: 0.933 - ETA: 13s - loss: 0.1895 - recall_1: 0.933 - ETA: 13s - loss: 0.1923 - recall_1: 0.932 - ETA: 13s - loss: 0.1894 - recall_1: 0.934 - ETA: 12s - loss: 0.1878 - recall_1: 0.934 - ETA: 12s - loss: 0.1852 - recall_1: 0.935 - ETA: 12s - loss: 0.1836 - recall_1: 0.936 - ETA: 12s - loss: 0.1844 - recall_1: 0.934 - ETA: 11s - loss: 0.1829 - recall_1: 0.935 - ETA: 11s - loss: 0.1834 - recall_1: 0.935 - ETA: 11s - loss: 0.1827 - recall_1: 0.935 - ETA: 10s - loss: 0.1838 - recall_1: 0.934 - ETA: 10s - loss: 0.1834 - recall_1: 0.934 - ETA: 10s - loss: 0.1815 - recall_1: 0.935 - ETA: 10s - loss: 0.1825 - recall_1: 0.935 - ETA: 9s - loss: 0.1815 - recall_1: 0.935 - ETA: 9s - loss: 0.1822 - recall_1: 0.93 - ETA: 9s - loss: 0.1806 - recall_1: 0.93 - ETA: 8s - loss: 0.1788 - recall_1: 0.93 - ETA: 8s - loss: 0.1775 - recall_1: 0.93 - ETA: 8s - loss: 0.1781 - recall_1: 0.93 - ETA: 8s - loss: 0.1777 - recall_1: 0.93 - ETA: 7s - loss: 0.1793 - recall_1: 0.93 - ETA: 7s - loss: 0.1788 - recall_1: 0.93 - ETA: 7s - loss: 0.1791 - recall_1: 0.93 - ETA: 7s - loss: 0.1804 - recall_1: 0.93 - ETA: 6s - loss: 0.1804 - recall_1: 0.93 - ETA: 6s - loss: 0.1815 - recall_1: 0.93 - ETA: 6s - loss: 0.1799 - recall_1: 0.93 - ETA: 5s - loss: 0.1814 - recall_1: 0.93 - ETA: 5s - loss: 0.1830 - recall_1: 0.93 - ETA: 5s - loss: 0.1824 - recall_1: 0.93 - ETA: 4s - loss: 0.1850 - recall_1: 0.93 - ETA: 4s - loss: 0.1840 - recall_1: 0.93 - ETA: 4s - loss: 0.1835 - recall_1: 0.93 - ETA: 4s - loss: 0.1835 - recall_1: 0.93 - ETA: 3s - loss: 0.1828 - recall_1: 0.93 - ETA: 3s - loss: 0.1829 - recall_1: 0.93 - ETA: 3s - loss: 0.1836 - recall_1: 0.93 - ETA: 2s - loss: 0.1826 - recall_1: 0.93 - ETA: 2s - loss: 0.1846 - recall_1: 0.93 - ETA: 2s - loss: 0.1867 - recall_1: 0.93 - ETA: 1s - loss: 0.1869 - recall_1: 0.93 - ETA: 1s - loss: 0.1877 - recall_1: 0.93 - ETA: 1s - loss: 0.1869 - recall_1: 0.93 - ETA: 1s - loss: 0.1876 - recall_1: 0.93 - ETA: 0s - loss: 0.1873 - recall_1: 0.93 - ETA: 0s - loss: 0.1865 - recall_1: 0.93 - ETA: 0s - loss: 0.1855 - recall_1: 0.93 - 33s 11ms/sample - loss: 0.1852 - recall_1: 0.9373 - val_loss: 0.6136 - val_recall_1: 0.7338\n",
      "Epoch 15/20\n"
     ]
    },
    {
     "name": "stdout",
     "output_type": "stream",
     "text": [
      "3144/3144 [==============================] - ETA: 1:06 - loss: 0.0903 - recall_1: 0.96 - ETA: 45s - loss: 0.1118 - recall_1: 0.9688 - ETA: 40s - loss: 0.1028 - recall_1: 0.968 - ETA: 38s - loss: 0.1170 - recall_1: 0.968 - ETA: 38s - loss: 0.1316 - recall_1: 0.962 - ETA: 37s - loss: 0.1352 - recall_1: 0.953 - ETA: 35s - loss: 0.1323 - recall_1: 0.955 - ETA: 35s - loss: 0.1313 - recall_1: 0.957 - ETA: 34s - loss: 0.1307 - recall_1: 0.954 - ETA: 32s - loss: 0.1449 - recall_1: 0.946 - ETA: 30s - loss: 0.1510 - recall_1: 0.940 - ETA: 29s - loss: 0.1484 - recall_1: 0.940 - ETA: 29s - loss: 0.1543 - recall_1: 0.935 - ETA: 28s - loss: 0.1499 - recall_1: 0.937 - ETA: 27s - loss: 0.1492 - recall_1: 0.939 - ETA: 26s - loss: 0.1474 - recall_1: 0.941 - ETA: 25s - loss: 0.1556 - recall_1: 0.937 - ETA: 25s - loss: 0.1527 - recall_1: 0.937 - ETA: 24s - loss: 0.1497 - recall_1: 0.939 - ETA: 24s - loss: 0.1478 - recall_1: 0.940 - ETA: 23s - loss: 0.1514 - recall_1: 0.940 - ETA: 23s - loss: 0.1488 - recall_1: 0.941 - ETA: 23s - loss: 0.1451 - recall_1: 0.942 - ETA: 22s - loss: 0.1441 - recall_1: 0.944 - ETA: 22s - loss: 0.1402 - recall_1: 0.946 - ETA: 21s - loss: 0.1384 - recall_1: 0.947 - ETA: 21s - loss: 0.1417 - recall_1: 0.945 - ETA: 20s - loss: 0.1399 - recall_1: 0.946 - ETA: 20s - loss: 0.1377 - recall_1: 0.947 - ETA: 19s - loss: 0.1418 - recall_1: 0.946 - ETA: 19s - loss: 0.1433 - recall_1: 0.946 - ETA: 18s - loss: 0.1401 - recall_1: 0.948 - ETA: 18s - loss: 0.1393 - recall_1: 0.948 - ETA: 18s - loss: 0.1383 - recall_1: 0.949 - ETA: 17s - loss: 0.1430 - recall_1: 0.950 - ETA: 17s - loss: 0.1430 - recall_1: 0.950 - ETA: 17s - loss: 0.1408 - recall_1: 0.951 - ETA: 16s - loss: 0.1401 - recall_1: 0.951 - ETA: 16s - loss: 0.1474 - recall_1: 0.950 - ETA: 16s - loss: 0.1555 - recall_1: 0.950 - ETA: 15s - loss: 0.1580 - recall_1: 0.949 - ETA: 15s - loss: 0.1597 - recall_1: 0.948 - ETA: 15s - loss: 0.1606 - recall_1: 0.947 - ETA: 14s - loss: 0.1614 - recall_1: 0.947 - ETA: 14s - loss: 0.1654 - recall_1: 0.945 - ETA: 14s - loss: 0.1648 - recall_1: 0.945 - ETA: 14s - loss: 0.1632 - recall_1: 0.946 - ETA: 14s - loss: 0.1640 - recall_1: 0.946 - ETA: 13s - loss: 0.1638 - recall_1: 0.945 - ETA: 13s - loss: 0.1631 - recall_1: 0.945 - ETA: 13s - loss: 0.1634 - recall_1: 0.946 - ETA: 12s - loss: 0.1628 - recall_1: 0.946 - ETA: 12s - loss: 0.1610 - recall_1: 0.947 - ETA: 12s - loss: 0.1600 - recall_1: 0.947 - ETA: 12s - loss: 0.1610 - recall_1: 0.946 - ETA: 11s - loss: 0.1599 - recall_1: 0.947 - ETA: 11s - loss: 0.1589 - recall_1: 0.947 - ETA: 11s - loss: 0.1574 - recall_1: 0.948 - ETA: 11s - loss: 0.1611 - recall_1: 0.948 - ETA: 10s - loss: 0.1625 - recall_1: 0.947 - ETA: 10s - loss: 0.1623 - recall_1: 0.947 - ETA: 10s - loss: 0.1620 - recall_1: 0.947 - ETA: 9s - loss: 0.1637 - recall_1: 0.946 - ETA: 9s - loss: 0.1638 - recall_1: 0.94 - ETA: 9s - loss: 0.1627 - recall_1: 0.94 - ETA: 8s - loss: 0.1626 - recall_1: 0.94 - ETA: 8s - loss: 0.1625 - recall_1: 0.94 - ETA: 8s - loss: 0.1607 - recall_1: 0.94 - ETA: 8s - loss: 0.1622 - recall_1: 0.94 - ETA: 7s - loss: 0.1612 - recall_1: 0.94 - ETA: 7s - loss: 0.1606 - recall_1: 0.94 - ETA: 7s - loss: 0.1632 - recall_1: 0.94 - ETA: 6s - loss: 0.1653 - recall_1: 0.94 - ETA: 6s - loss: 0.1659 - recall_1: 0.94 - ETA: 6s - loss: 0.1651 - recall_1: 0.94 - ETA: 6s - loss: 0.1654 - recall_1: 0.94 - ETA: 5s - loss: 0.1661 - recall_1: 0.94 - ETA: 5s - loss: 0.1668 - recall_1: 0.94 - ETA: 5s - loss: 0.1674 - recall_1: 0.94 - ETA: 4s - loss: 0.1675 - recall_1: 0.94 - ETA: 4s - loss: 0.1674 - recall_1: 0.94 - ETA: 4s - loss: 0.1673 - recall_1: 0.94 - ETA: 4s - loss: 0.1674 - recall_1: 0.94 - ETA: 3s - loss: 0.1679 - recall_1: 0.94 - ETA: 3s - loss: 0.1676 - recall_1: 0.94 - ETA: 3s - loss: 0.1666 - recall_1: 0.94 - ETA: 3s - loss: 0.1658 - recall_1: 0.94 - ETA: 2s - loss: 0.1646 - recall_1: 0.94 - ETA: 2s - loss: 0.1651 - recall_1: 0.94 - ETA: 2s - loss: 0.1667 - recall_1: 0.94 - ETA: 1s - loss: 0.1665 - recall_1: 0.94 - ETA: 1s - loss: 0.1662 - recall_1: 0.94 - ETA: 1s - loss: 0.1701 - recall_1: 0.94 - ETA: 1s - loss: 0.1692 - recall_1: 0.94 - ETA: 0s - loss: 0.1680 - recall_1: 0.94 - ETA: 0s - loss: 0.1688 - recall_1: 0.94 - ETA: 0s - loss: 0.1695 - recall_1: 0.94 - ETA: 0s - loss: 0.1698 - recall_1: 0.94 - 31s 10ms/sample - loss: 0.1718 - recall_1: 0.9447 - val_loss: 0.6242 - val_recall_1: 0.6966\n",
      "Epoch 16/20\n"
     ]
    },
    {
     "name": "stdout",
     "output_type": "stream",
     "text": [
      "3144/3144 [==============================] - ETA: 20s - loss: 0.2641 - recall_1: 0.875 - ETA: 25s - loss: 0.2246 - recall_1: 0.890 - ETA: 29s - loss: 0.2694 - recall_1: 0.864 - ETA: 55s - loss: 0.2190 - recall_1: 0.890 - ETA: 53s - loss: 0.2504 - recall_1: 0.881 - ETA: 48s - loss: 0.2336 - recall_1: 0.885 - ETA: 50s - loss: 0.2407 - recall_1: 0.879 - ETA: 48s - loss: 0.2194 - recall_1: 0.894 - ETA: 45s - loss: 0.2042 - recall_1: 0.906 - ETA: 43s - loss: 0.1934 - recall_1: 0.915 - ETA: 43s - loss: 0.1829 - recall_1: 0.920 - ETA: 43s - loss: 0.1834 - recall_1: 0.921 - ETA: 45s - loss: 0.2070 - recall_1: 0.913 - ETA: 45s - loss: 0.2024 - recall_1: 0.915 - ETA: 44s - loss: 0.2173 - recall_1: 0.910 - ETA: 42s - loss: 0.2241 - recall_1: 0.910 - ETA: 42s - loss: 0.2235 - recall_1: 0.909 - ETA: 41s - loss: 0.2184 - recall_1: 0.909 - ETA: 41s - loss: 0.2169 - recall_1: 0.909 - ETA: 40s - loss: 0.2164 - recall_1: 0.912 - ETA: 39s - loss: 0.2135 - recall_1: 0.912 - ETA: 38s - loss: 0.2113 - recall_1: 0.913 - ETA: 36s - loss: 0.2050 - recall_1: 0.917 - ETA: 36s - loss: 0.1983 - recall_1: 0.920 - ETA: 35s - loss: 0.2022 - recall_1: 0.917 - ETA: 33s - loss: 0.1996 - recall_1: 0.918 - ETA: 32s - loss: 0.2002 - recall_1: 0.919 - ETA: 31s - loss: 0.1987 - recall_1: 0.919 - ETA: 30s - loss: 0.1963 - recall_1: 0.921 - ETA: 29s - loss: 0.1988 - recall_1: 0.918 - ETA: 28s - loss: 0.1996 - recall_1: 0.918 - ETA: 27s - loss: 0.2018 - recall_1: 0.918 - ETA: 26s - loss: 0.2017 - recall_1: 0.917 - ETA: 25s - loss: 0.2001 - recall_1: 0.918 - ETA: 25s - loss: 0.2011 - recall_1: 0.917 - ETA: 24s - loss: 0.2006 - recall_1: 0.918 - ETA: 23s - loss: 0.2002 - recall_1: 0.918 - ETA: 22s - loss: 0.2000 - recall_1: 0.918 - ETA: 22s - loss: 0.1991 - recall_1: 0.918 - ETA: 21s - loss: 0.1981 - recall_1: 0.918 - ETA: 20s - loss: 0.1952 - recall_1: 0.919 - ETA: 20s - loss: 0.1934 - recall_1: 0.920 - ETA: 19s - loss: 0.1927 - recall_1: 0.920 - ETA: 19s - loss: 0.1914 - recall_1: 0.921 - ETA: 19s - loss: 0.1892 - recall_1: 0.922 - ETA: 18s - loss: 0.1862 - recall_1: 0.924 - ETA: 18s - loss: 0.1850 - recall_1: 0.925 - ETA: 18s - loss: 0.1825 - recall_1: 0.927 - ETA: 18s - loss: 0.1794 - recall_1: 0.928 - ETA: 18s - loss: 0.1826 - recall_1: 0.928 - ETA: 17s - loss: 0.1829 - recall_1: 0.928 - ETA: 17s - loss: 0.1809 - recall_1: 0.929 - ETA: 17s - loss: 0.1792 - recall_1: 0.929 - ETA: 16s - loss: 0.1768 - recall_1: 0.930 - ETA: 16s - loss: 0.1766 - recall_1: 0.930 - ETA: 15s - loss: 0.1737 - recall_1: 0.931 - ETA: 15s - loss: 0.1717 - recall_1: 0.932 - ETA: 15s - loss: 0.1727 - recall_1: 0.932 - ETA: 14s - loss: 0.1706 - recall_1: 0.933 - ETA: 14s - loss: 0.1700 - recall_1: 0.933 - ETA: 13s - loss: 0.1695 - recall_1: 0.933 - ETA: 13s - loss: 0.1776 - recall_1: 0.931 - ETA: 12s - loss: 0.1779 - recall_1: 0.931 - ETA: 12s - loss: 0.1779 - recall_1: 0.931 - ETA: 11s - loss: 0.1806 - recall_1: 0.931 - ETA: 11s - loss: 0.1792 - recall_1: 0.932 - ETA: 10s - loss: 0.1788 - recall_1: 0.932 - ETA: 10s - loss: 0.1781 - recall_1: 0.931 - ETA: 10s - loss: 0.1785 - recall_1: 0.931 - ETA: 9s - loss: 0.1799 - recall_1: 0.929 - ETA: 9s - loss: 0.1792 - recall_1: 0.93 - ETA: 9s - loss: 0.1785 - recall_1: 0.93 - ETA: 8s - loss: 0.1771 - recall_1: 0.93 - ETA: 8s - loss: 0.1771 - recall_1: 0.93 - ETA: 7s - loss: 0.1777 - recall_1: 0.93 - ETA: 7s - loss: 0.1782 - recall_1: 0.93 - ETA: 7s - loss: 0.1785 - recall_1: 0.93 - ETA: 6s - loss: 0.1790 - recall_1: 0.93 - ETA: 6s - loss: 0.1797 - recall_1: 0.93 - ETA: 5s - loss: 0.1801 - recall_1: 0.93 - ETA: 5s - loss: 0.1828 - recall_1: 0.93 - ETA: 5s - loss: 0.1828 - recall_1: 0.93 - ETA: 4s - loss: 0.1818 - recall_1: 0.93 - ETA: 4s - loss: 0.1809 - recall_1: 0.93 - ETA: 4s - loss: 0.1816 - recall_1: 0.93 - ETA: 3s - loss: 0.1834 - recall_1: 0.93 - ETA: 3s - loss: 0.1821 - recall_1: 0.93 - ETA: 3s - loss: 0.1818 - recall_1: 0.93 - ETA: 2s - loss: 0.1819 - recall_1: 0.93 - ETA: 2s - loss: 0.1827 - recall_1: 0.93 - ETA: 2s - loss: 0.1819 - recall_1: 0.93 - ETA: 1s - loss: 0.1820 - recall_1: 0.93 - ETA: 1s - loss: 0.1834 - recall_1: 0.93 - ETA: 1s - loss: 0.1829 - recall_1: 0.93 - ETA: 1s - loss: 0.1842 - recall_1: 0.93 - ETA: 0s - loss: 0.1842 - recall_1: 0.93 - ETA: 0s - loss: 0.1831 - recall_1: 0.93 - ETA: 0s - loss: 0.1828 - recall_1: 0.93 - 36s 11ms/sample - loss: 0.1826 - recall_1: 0.9326 - val_loss: 0.7576 - val_recall_1: 0.7385\n",
      "Epoch 17/20\n"
     ]
    },
    {
     "name": "stdout",
     "output_type": "stream",
     "text": [
      "3144/3144 [==============================] - ETA: 25s - loss: 0.3243 - recall_1: 0.906 - ETA: 24s - loss: 0.2214 - recall_1: 0.937 - ETA: 27s - loss: 0.2393 - recall_1: 0.916 - ETA: 31s - loss: 0.2486 - recall_1: 0.906 - ETA: 30s - loss: 0.2392 - recall_1: 0.912 - ETA: 34s - loss: 0.2199 - recall_1: 0.921 - ETA: 33s - loss: 0.2109 - recall_1: 0.928 - ETA: 31s - loss: 0.1940 - recall_1: 0.937 - ETA: 29s - loss: 0.1922 - recall_1: 0.937 - ETA: 27s - loss: 0.1772 - recall_1: 0.943 - ETA: 26s - loss: 0.1734 - recall_1: 0.943 - ETA: 26s - loss: 0.1710 - recall_1: 0.945 - ETA: 25s - loss: 0.1712 - recall_1: 0.942 - ETA: 24s - loss: 0.1664 - recall_1: 0.942 - ETA: 24s - loss: 0.1587 - recall_1: 0.945 - ETA: 23s - loss: 0.1620 - recall_1: 0.941 - ETA: 23s - loss: 0.1584 - recall_1: 0.943 - ETA: 23s - loss: 0.1572 - recall_1: 0.944 - ETA: 23s - loss: 0.1615 - recall_1: 0.942 - ETA: 24s - loss: 0.1623 - recall_1: 0.940 - ETA: 23s - loss: 0.1572 - recall_1: 0.943 - ETA: 23s - loss: 0.1574 - recall_1: 0.943 - ETA: 22s - loss: 0.1531 - recall_1: 0.945 - ETA: 22s - loss: 0.1482 - recall_1: 0.947 - ETA: 21s - loss: 0.1447 - recall_1: 0.950 - ETA: 21s - loss: 0.1447 - recall_1: 0.949 - ETA: 21s - loss: 0.1455 - recall_1: 0.947 - ETA: 21s - loss: 0.1445 - recall_1: 0.948 - ETA: 21s - loss: 0.1438 - recall_1: 0.949 - ETA: 21s - loss: 0.1439 - recall_1: 0.949 - ETA: 20s - loss: 0.1469 - recall_1: 0.949 - ETA: 19s - loss: 0.1458 - recall_1: 0.950 - ETA: 19s - loss: 0.1429 - recall_1: 0.951 - ETA: 18s - loss: 0.1418 - recall_1: 0.952 - ETA: 18s - loss: 0.1434 - recall_1: 0.952 - ETA: 17s - loss: 0.1407 - recall_1: 0.954 - ETA: 17s - loss: 0.1404 - recall_1: 0.953 - ETA: 17s - loss: 0.1401 - recall_1: 0.953 - ETA: 16s - loss: 0.1434 - recall_1: 0.952 - ETA: 16s - loss: 0.1448 - recall_1: 0.952 - ETA: 16s - loss: 0.1429 - recall_1: 0.953 - ETA: 15s - loss: 0.1411 - recall_1: 0.953 - ETA: 16s - loss: 0.1394 - recall_1: 0.954 - ETA: 17s - loss: 0.1367 - recall_1: 0.956 - ETA: 17s - loss: 0.1362 - recall_1: 0.956 - ETA: 16s - loss: 0.1393 - recall_1: 0.953 - ETA: 16s - loss: 0.1374 - recall_1: 0.954 - ETA: 16s - loss: 0.1370 - recall_1: 0.953 - ETA: 15s - loss: 0.1369 - recall_1: 0.953 - ETA: 15s - loss: 0.1358 - recall_1: 0.954 - ETA: 16s - loss: 0.1336 - recall_1: 0.955 - ETA: 15s - loss: 0.1351 - recall_1: 0.954 - ETA: 15s - loss: 0.1351 - recall_1: 0.955 - ETA: 15s - loss: 0.1365 - recall_1: 0.954 - ETA: 15s - loss: 0.1356 - recall_1: 0.954 - ETA: 14s - loss: 0.1347 - recall_1: 0.954 - ETA: 14s - loss: 0.1340 - recall_1: 0.954 - ETA: 14s - loss: 0.1332 - recall_1: 0.954 - ETA: 13s - loss: 0.1429 - recall_1: 0.954 - ETA: 13s - loss: 0.1427 - recall_1: 0.954 - ETA: 13s - loss: 0.1430 - recall_1: 0.953 - ETA: 12s - loss: 0.1417 - recall_1: 0.954 - ETA: 12s - loss: 0.1412 - recall_1: 0.954 - ETA: 11s - loss: 0.1428 - recall_1: 0.953 - ETA: 11s - loss: 0.1413 - recall_1: 0.954 - ETA: 11s - loss: 0.1415 - recall_1: 0.953 - ETA: 10s - loss: 0.1407 - recall_1: 0.953 - ETA: 10s - loss: 0.1392 - recall_1: 0.954 - ETA: 9s - loss: 0.1403 - recall_1: 0.954 - ETA: 9s - loss: 0.1423 - recall_1: 0.95 - ETA: 9s - loss: 0.1439 - recall_1: 0.95 - ETA: 8s - loss: 0.1476 - recall_1: 0.95 - ETA: 8s - loss: 0.1492 - recall_1: 0.95 - ETA: 7s - loss: 0.1493 - recall_1: 0.95 - ETA: 7s - loss: 0.1491 - recall_1: 0.95 - ETA: 7s - loss: 0.1488 - recall_1: 0.95 - ETA: 6s - loss: 0.1488 - recall_1: 0.95 - ETA: 6s - loss: 0.1485 - recall_1: 0.95 - ETA: 6s - loss: 0.1488 - recall_1: 0.95 - ETA: 5s - loss: 0.1486 - recall_1: 0.95 - ETA: 5s - loss: 0.1483 - recall_1: 0.95 - ETA: 5s - loss: 0.1478 - recall_1: 0.95 - ETA: 4s - loss: 0.1470 - recall_1: 0.95 - ETA: 4s - loss: 0.1476 - recall_1: 0.95 - ETA: 4s - loss: 0.1466 - recall_1: 0.95 - ETA: 3s - loss: 0.1458 - recall_1: 0.95 - ETA: 3s - loss: 0.1487 - recall_1: 0.95 - ETA: 3s - loss: 0.1489 - recall_1: 0.95 - ETA: 2s - loss: 0.1494 - recall_1: 0.95 - ETA: 2s - loss: 0.1516 - recall_1: 0.95 - ETA: 2s - loss: 0.1514 - recall_1: 0.95 - ETA: 1s - loss: 0.1506 - recall_1: 0.95 - ETA: 1s - loss: 0.1507 - recall_1: 0.95 - ETA: 1s - loss: 0.1506 - recall_1: 0.95 - ETA: 0s - loss: 0.1505 - recall_1: 0.95 - ETA: 0s - loss: 0.1498 - recall_1: 0.95 - ETA: 0s - loss: 0.1495 - recall_1: 0.95 - ETA: 0s - loss: 0.1522 - recall_1: 0.95 - 31s 10ms/sample - loss: 0.1522 - recall_1: 0.9510 - val_loss: 0.6449 - val_recall_1: 0.7328\n",
      "Epoch 18/20\n"
     ]
    },
    {
     "name": "stdout",
     "output_type": "stream",
     "text": [
      "3144/3144 [==============================] - ETA: 15s - loss: 0.1781 - recall_1: 0.937 - ETA: 15s - loss: 0.1776 - recall_1: 0.937 - ETA: 18s - loss: 0.1402 - recall_1: 0.958 - ETA: 16s - loss: 0.1357 - recall_1: 0.960 - ETA: 15s - loss: 0.1392 - recall_1: 0.962 - ETA: 15s - loss: 0.1309 - recall_1: 0.963 - ETA: 15s - loss: 0.1399 - recall_1: 0.959 - ETA: 15s - loss: 0.1407 - recall_1: 0.960 - ETA: 17s - loss: 0.1342 - recall_1: 0.961 - ETA: 17s - loss: 0.1310 - recall_1: 0.959 - ETA: 16s - loss: 0.1263 - recall_1: 0.960 - ETA: 16s - loss: 0.1322 - recall_1: 0.955 - ETA: 17s - loss: 0.1257 - recall_1: 0.959 - ETA: 17s - loss: 0.1326 - recall_1: 0.957 - ETA: 17s - loss: 0.1278 - recall_1: 0.958 - ETA: 17s - loss: 0.1271 - recall_1: 0.959 - ETA: 17s - loss: 0.1332 - recall_1: 0.955 - ETA: 16s - loss: 0.1435 - recall_1: 0.951 - ETA: 16s - loss: 0.1520 - recall_1: 0.947 - ETA: 15s - loss: 0.1491 - recall_1: 0.948 - ETA: 15s - loss: 0.1454 - recall_1: 0.949 - ETA: 15s - loss: 0.1422 - recall_1: 0.950 - ETA: 15s - loss: 0.1436 - recall_1: 0.949 - ETA: 15s - loss: 0.1420 - recall_1: 0.950 - ETA: 14s - loss: 0.1407 - recall_1: 0.951 - ETA: 14s - loss: 0.1366 - recall_1: 0.953 - ETA: 14s - loss: 0.1343 - recall_1: 0.953 - ETA: 14s - loss: 0.1358 - recall_1: 0.954 - ETA: 14s - loss: 0.1391 - recall_1: 0.953 - ETA: 13s - loss: 0.1396 - recall_1: 0.953 - ETA: 13s - loss: 0.1386 - recall_1: 0.952 - ETA: 14s - loss: 0.1374 - recall_1: 0.952 - ETA: 14s - loss: 0.1399 - recall_1: 0.949 - ETA: 14s - loss: 0.1410 - recall_1: 0.950 - ETA: 14s - loss: 0.1385 - recall_1: 0.951 - ETA: 14s - loss: 0.1354 - recall_1: 0.953 - ETA: 14s - loss: 0.1334 - recall_1: 0.954 - ETA: 14s - loss: 0.1335 - recall_1: 0.953 - ETA: 13s - loss: 0.1314 - recall_1: 0.955 - ETA: 13s - loss: 0.1323 - recall_1: 0.954 - ETA: 13s - loss: 0.1344 - recall_1: 0.953 - ETA: 13s - loss: 0.1330 - recall_1: 0.953 - ETA: 13s - loss: 0.1352 - recall_1: 0.953 - ETA: 13s - loss: 0.1352 - recall_1: 0.953 - ETA: 13s - loss: 0.1381 - recall_1: 0.952 - ETA: 12s - loss: 0.1396 - recall_1: 0.951 - ETA: 12s - loss: 0.1388 - recall_1: 0.951 - ETA: 12s - loss: 0.1363 - recall_1: 0.952 - ETA: 12s - loss: 0.1358 - recall_1: 0.952 - ETA: 11s - loss: 0.1360 - recall_1: 0.952 - ETA: 11s - loss: 0.1351 - recall_1: 0.952 - ETA: 11s - loss: 0.1347 - recall_1: 0.953 - ETA: 10s - loss: 0.1341 - recall_1: 0.953 - ETA: 10s - loss: 0.1350 - recall_1: 0.953 - ETA: 10s - loss: 0.1361 - recall_1: 0.952 - ETA: 10s - loss: 0.1394 - recall_1: 0.952 - ETA: 10s - loss: 0.1403 - recall_1: 0.951 - ETA: 10s - loss: 0.1414 - recall_1: 0.951 - ETA: 10s - loss: 0.1499 - recall_1: 0.950 - ETA: 9s - loss: 0.1487 - recall_1: 0.951 - ETA: 9s - loss: 0.1485 - recall_1: 0.95 - ETA: 9s - loss: 0.1480 - recall_1: 0.95 - ETA: 9s - loss: 0.1476 - recall_1: 0.95 - ETA: 8s - loss: 0.1462 - recall_1: 0.95 - ETA: 8s - loss: 0.1445 - recall_1: 0.95 - ETA: 8s - loss: 0.1436 - recall_1: 0.95 - ETA: 8s - loss: 0.1423 - recall_1: 0.95 - ETA: 8s - loss: 0.1415 - recall_1: 0.95 - ETA: 8s - loss: 0.1441 - recall_1: 0.95 - ETA: 8s - loss: 0.1475 - recall_1: 0.95 - ETA: 8s - loss: 0.1470 - recall_1: 0.95 - ETA: 7s - loss: 0.1478 - recall_1: 0.95 - ETA: 7s - loss: 0.1467 - recall_1: 0.95 - ETA: 7s - loss: 0.1462 - recall_1: 0.95 - ETA: 6s - loss: 0.1463 - recall_1: 0.95 - ETA: 6s - loss: 0.1491 - recall_1: 0.95 - ETA: 6s - loss: 0.1523 - recall_1: 0.94 - ETA: 5s - loss: 0.1519 - recall_1: 0.94 - ETA: 5s - loss: 0.1515 - recall_1: 0.94 - ETA: 5s - loss: 0.1503 - recall_1: 0.95 - ETA: 4s - loss: 0.1519 - recall_1: 0.94 - ETA: 4s - loss: 0.1507 - recall_1: 0.95 - ETA: 4s - loss: 0.1511 - recall_1: 0.94 - ETA: 4s - loss: 0.1507 - recall_1: 0.94 - ETA: 3s - loss: 0.1509 - recall_1: 0.94 - ETA: 3s - loss: 0.1520 - recall_1: 0.94 - ETA: 3s - loss: 0.1511 - recall_1: 0.94 - ETA: 2s - loss: 0.1505 - recall_1: 0.94 - ETA: 2s - loss: 0.1502 - recall_1: 0.94 - ETA: 2s - loss: 0.1498 - recall_1: 0.94 - ETA: 2s - loss: 0.1503 - recall_1: 0.94 - ETA: 1s - loss: 0.1536 - recall_1: 0.94 - ETA: 1s - loss: 0.1530 - recall_1: 0.94 - ETA: 1s - loss: 0.1527 - recall_1: 0.94 - ETA: 0s - loss: 0.1519 - recall_1: 0.94 - ETA: 0s - loss: 0.1511 - recall_1: 0.94 - ETA: 0s - loss: 0.1505 - recall_1: 0.94 - ETA: 0s - loss: 0.1511 - recall_1: 0.94 - 30s 10ms/sample - loss: 0.1518 - recall_1: 0.9491 - val_loss: 0.6561 - val_recall_1: 0.7004\n",
      "Epoch 19/20\n"
     ]
    },
    {
     "name": "stdout",
     "output_type": "stream",
     "text": [
      "3144/3144 [==============================] - ETA: 1:00 - loss: 0.1807 - recall_1: 0.96 - ETA: 44s - loss: 0.1106 - recall_1: 0.9844 - ETA: 35s - loss: 0.1640 - recall_1: 0.968 - ETA: 33s - loss: 0.1323 - recall_1: 0.976 - ETA: 30s - loss: 0.1563 - recall_1: 0.956 - ETA: 27s - loss: 0.1385 - recall_1: 0.963 - ETA: 25s - loss: 0.1259 - recall_1: 0.968 - ETA: 25s - loss: 0.1349 - recall_1: 0.960 - ETA: 31s - loss: 0.1331 - recall_1: 0.958 - ETA: 36s - loss: 0.1380 - recall_1: 0.956 - ETA: 34s - loss: 0.1353 - recall_1: 0.957 - ETA: 33s - loss: 0.1315 - recall_1: 0.958 - ETA: 32s - loss: 0.1252 - recall_1: 0.961 - ETA: 30s - loss: 0.1188 - recall_1: 0.964 - ETA: 29s - loss: 0.1142 - recall_1: 0.966 - ETA: 28s - loss: 0.1107 - recall_1: 0.966 - ETA: 27s - loss: 0.1101 - recall_1: 0.966 - ETA: 27s - loss: 0.1090 - recall_1: 0.967 - ETA: 26s - loss: 0.1209 - recall_1: 0.967 - ETA: 25s - loss: 0.1177 - recall_1: 0.967 - ETA: 25s - loss: 0.1148 - recall_1: 0.968 - ETA: 24s - loss: 0.1178 - recall_1: 0.967 - ETA: 24s - loss: 0.1162 - recall_1: 0.967 - ETA: 24s - loss: 0.1181 - recall_1: 0.967 - ETA: 23s - loss: 0.1191 - recall_1: 0.967 - ETA: 22s - loss: 0.1232 - recall_1: 0.963 - ETA: 22s - loss: 0.1226 - recall_1: 0.963 - ETA: 21s - loss: 0.1252 - recall_1: 0.960 - ETA: 20s - loss: 0.1259 - recall_1: 0.961 - ETA: 20s - loss: 0.1243 - recall_1: 0.961 - ETA: 20s - loss: 0.1239 - recall_1: 0.961 - ETA: 19s - loss: 0.1240 - recall_1: 0.961 - ETA: 19s - loss: 0.1217 - recall_1: 0.963 - ETA: 19s - loss: 0.1199 - recall_1: 0.964 - ETA: 19s - loss: 0.1265 - recall_1: 0.961 - ETA: 19s - loss: 0.1237 - recall_1: 0.962 - ETA: 19s - loss: 0.1231 - recall_1: 0.962 - ETA: 19s - loss: 0.1261 - recall_1: 0.962 - ETA: 19s - loss: 0.1240 - recall_1: 0.962 - ETA: 19s - loss: 0.1239 - recall_1: 0.962 - ETA: 19s - loss: 0.1233 - recall_1: 0.962 - ETA: 18s - loss: 0.1214 - recall_1: 0.963 - ETA: 18s - loss: 0.1314 - recall_1: 0.960 - ETA: 19s - loss: 0.1301 - recall_1: 0.960 - ETA: 18s - loss: 0.1307 - recall_1: 0.959 - ETA: 18s - loss: 0.1322 - recall_1: 0.959 - ETA: 17s - loss: 0.1323 - recall_1: 0.959 - ETA: 17s - loss: 0.1310 - recall_1: 0.960 - ETA: 16s - loss: 0.1293 - recall_1: 0.961 - ETA: 16s - loss: 0.1300 - recall_1: 0.960 - ETA: 15s - loss: 0.1293 - recall_1: 0.960 - ETA: 15s - loss: 0.1293 - recall_1: 0.960 - ETA: 14s - loss: 0.1305 - recall_1: 0.959 - ETA: 14s - loss: 0.1300 - recall_1: 0.959 - ETA: 14s - loss: 0.1296 - recall_1: 0.959 - ETA: 13s - loss: 0.1300 - recall_1: 0.958 - ETA: 13s - loss: 0.1283 - recall_1: 0.959 - ETA: 12s - loss: 0.1283 - recall_1: 0.959 - ETA: 12s - loss: 0.1294 - recall_1: 0.959 - ETA: 12s - loss: 0.1282 - recall_1: 0.960 - ETA: 11s - loss: 0.1286 - recall_1: 0.960 - ETA: 11s - loss: 0.1304 - recall_1: 0.959 - ETA: 10s - loss: 0.1302 - recall_1: 0.959 - ETA: 10s - loss: 0.1288 - recall_1: 0.960 - ETA: 10s - loss: 0.1287 - recall_1: 0.959 - ETA: 9s - loss: 0.1274 - recall_1: 0.960 - ETA: 9s - loss: 0.1265 - recall_1: 0.96 - ETA: 9s - loss: 0.1286 - recall_1: 0.95 - ETA: 8s - loss: 0.1287 - recall_1: 0.95 - ETA: 8s - loss: 0.1303 - recall_1: 0.95 - ETA: 8s - loss: 0.1332 - recall_1: 0.95 - ETA: 7s - loss: 0.1336 - recall_1: 0.95 - ETA: 7s - loss: 0.1333 - recall_1: 0.95 - ETA: 7s - loss: 0.1321 - recall_1: 0.95 - ETA: 6s - loss: 0.1330 - recall_1: 0.95 - ETA: 6s - loss: 0.1327 - recall_1: 0.95 - ETA: 6s - loss: 0.1336 - recall_1: 0.95 - ETA: 5s - loss: 0.1350 - recall_1: 0.95 - ETA: 5s - loss: 0.1352 - recall_1: 0.95 - ETA: 5s - loss: 0.1348 - recall_1: 0.95 - ETA: 5s - loss: 0.1355 - recall_1: 0.95 - ETA: 4s - loss: 0.1354 - recall_1: 0.95 - ETA: 4s - loss: 0.1359 - recall_1: 0.95 - ETA: 4s - loss: 0.1372 - recall_1: 0.95 - ETA: 3s - loss: 0.1376 - recall_1: 0.95 - ETA: 3s - loss: 0.1372 - recall_1: 0.95 - ETA: 3s - loss: 0.1369 - recall_1: 0.95 - ETA: 2s - loss: 0.1360 - recall_1: 0.95 - ETA: 2s - loss: 0.1368 - recall_1: 0.95 - ETA: 2s - loss: 0.1366 - recall_1: 0.95 - ETA: 2s - loss: 0.1362 - recall_1: 0.95 - ETA: 1s - loss: 0.1354 - recall_1: 0.95 - ETA: 1s - loss: 0.1349 - recall_1: 0.95 - ETA: 1s - loss: 0.1361 - recall_1: 0.95 - ETA: 0s - loss: 0.1378 - recall_1: 0.95 - ETA: 0s - loss: 0.1370 - recall_1: 0.95 - ETA: 0s - loss: 0.1364 - recall_1: 0.95 - ETA: 0s - loss: 0.1367 - recall_1: 0.95 - 28s 9ms/sample - loss: 0.1364 - recall_1: 0.9532 - val_loss: 0.8760 - val_recall_1: 0.7490\n",
      "Epoch 20/20\n"
     ]
    },
    {
     "name": "stdout",
     "output_type": "stream",
     "text": [
      "3144/3144 [==============================] - ETA: 14s - loss: 0.1312 - recall_1: 0.937 - ETA: 13s - loss: 0.1155 - recall_1: 0.953 - ETA: 12s - loss: 0.1255 - recall_1: 0.958 - ETA: 12s - loss: 0.1021 - recall_1: 0.968 - ETA: 14s - loss: 0.0939 - recall_1: 0.968 - ETA: 15s - loss: 0.0948 - recall_1: 0.968 - ETA: 15s - loss: 0.0911 - recall_1: 0.968 - ETA: 15s - loss: 0.1020 - recall_1: 0.960 - ETA: 19s - loss: 0.0940 - recall_1: 0.965 - ETA: 23s - loss: 0.1143 - recall_1: 0.959 - ETA: 27s - loss: 0.1149 - recall_1: 0.960 - ETA: 30s - loss: 0.1111 - recall_1: 0.960 - ETA: 40s - loss: 0.1130 - recall_1: 0.959 - ETA: 42s - loss: 0.1094 - recall_1: 0.959 - ETA: 43s - loss: 0.1045 - recall_1: 0.962 - ETA: 42s - loss: 0.1011 - recall_1: 0.964 - ETA: 40s - loss: 0.1038 - recall_1: 0.961 - ETA: 39s - loss: 0.1036 - recall_1: 0.961 - ETA: 37s - loss: 0.1019 - recall_1: 0.962 - ETA: 36s - loss: 0.0990 - recall_1: 0.964 - ETA: 34s - loss: 0.0989 - recall_1: 0.964 - ETA: 33s - loss: 0.0991 - recall_1: 0.964 - ETA: 32s - loss: 0.0977 - recall_1: 0.966 - ETA: 31s - loss: 0.0962 - recall_1: 0.966 - ETA: 30s - loss: 0.0964 - recall_1: 0.966 - ETA: 30s - loss: 0.0952 - recall_1: 0.966 - ETA: 32s - loss: 0.0948 - recall_1: 0.966 - ETA: 31s - loss: 0.0976 - recall_1: 0.964 - ETA: 30s - loss: 0.0952 - recall_1: 0.965 - ETA: 29s - loss: 0.0983 - recall_1: 0.964 - ETA: 28s - loss: 0.0983 - recall_1: 0.964 - ETA: 28s - loss: 0.1044 - recall_1: 0.960 - ETA: 27s - loss: 0.1021 - recall_1: 0.962 - ETA: 26s - loss: 0.1046 - recall_1: 0.962 - ETA: 26s - loss: 0.1131 - recall_1: 0.959 - ETA: 25s - loss: 0.1169 - recall_1: 0.959 - ETA: 25s - loss: 0.1196 - recall_1: 0.956 - ETA: 24s - loss: 0.1238 - recall_1: 0.957 - ETA: 24s - loss: 0.1254 - recall_1: 0.956 - ETA: 24s - loss: 0.1243 - recall_1: 0.957 - ETA: 24s - loss: 0.1271 - recall_1: 0.955 - ETA: 23s - loss: 0.1250 - recall_1: 0.956 - ETA: 22s - loss: 0.1225 - recall_1: 0.957 - ETA: 22s - loss: 0.1209 - recall_1: 0.958 - ETA: 22s - loss: 0.1199 - recall_1: 0.959 - ETA: 21s - loss: 0.1260 - recall_1: 0.957 - ETA: 21s - loss: 0.1243 - recall_1: 0.958 - ETA: 20s - loss: 0.1250 - recall_1: 0.957 - ETA: 19s - loss: 0.1233 - recall_1: 0.958 - ETA: 19s - loss: 0.1254 - recall_1: 0.957 - ETA: 18s - loss: 0.1269 - recall_1: 0.956 - ETA: 18s - loss: 0.1264 - recall_1: 0.957 - ETA: 18s - loss: 0.1245 - recall_1: 0.958 - ETA: 17s - loss: 0.1236 - recall_1: 0.958 - ETA: 17s - loss: 0.1253 - recall_1: 0.958 - ETA: 17s - loss: 0.1251 - recall_1: 0.957 - ETA: 16s - loss: 0.1247 - recall_1: 0.957 - ETA: 16s - loss: 0.1246 - recall_1: 0.957 - ETA: 15s - loss: 0.1248 - recall_1: 0.957 - ETA: 15s - loss: 0.1248 - recall_1: 0.957 - ETA: 14s - loss: 0.1256 - recall_1: 0.957 - ETA: 14s - loss: 0.1251 - recall_1: 0.957 - ETA: 14s - loss: 0.1262 - recall_1: 0.956 - ETA: 14s - loss: 0.1264 - recall_1: 0.956 - ETA: 13s - loss: 0.1253 - recall_1: 0.956 - ETA: 13s - loss: 0.1280 - recall_1: 0.956 - ETA: 12s - loss: 0.1280 - recall_1: 0.956 - ETA: 12s - loss: 0.1275 - recall_1: 0.956 - ETA: 11s - loss: 0.1288 - recall_1: 0.955 - ETA: 11s - loss: 0.1297 - recall_1: 0.954 - ETA: 11s - loss: 0.1312 - recall_1: 0.954 - ETA: 10s - loss: 0.1329 - recall_1: 0.953 - ETA: 10s - loss: 0.1335 - recall_1: 0.952 - ETA: 9s - loss: 0.1329 - recall_1: 0.953 - ETA: 9s - loss: 0.1314 - recall_1: 0.95 - ETA: 8s - loss: 0.1314 - recall_1: 0.95 - ETA: 8s - loss: 0.1308 - recall_1: 0.95 - ETA: 8s - loss: 0.1297 - recall_1: 0.95 - ETA: 7s - loss: 0.1317 - recall_1: 0.95 - ETA: 7s - loss: 0.1312 - recall_1: 0.95 - ETA: 6s - loss: 0.1304 - recall_1: 0.95 - ETA: 6s - loss: 0.1304 - recall_1: 0.95 - ETA: 6s - loss: 0.1327 - recall_1: 0.95 - ETA: 5s - loss: 0.1321 - recall_1: 0.95 - ETA: 5s - loss: 0.1317 - recall_1: 0.95 - ETA: 4s - loss: 0.1307 - recall_1: 0.95 - ETA: 4s - loss: 0.1312 - recall_1: 0.95 - ETA: 3s - loss: 0.1310 - recall_1: 0.95 - ETA: 3s - loss: 0.1303 - recall_1: 0.95 - ETA: 3s - loss: 0.1299 - recall_1: 0.95 - ETA: 2s - loss: 0.1290 - recall_1: 0.95 - ETA: 2s - loss: 0.1279 - recall_1: 0.95 - ETA: 1s - loss: 0.1310 - recall_1: 0.95 - ETA: 1s - loss: 0.1319 - recall_1: 0.95 - ETA: 1s - loss: 0.1311 - recall_1: 0.95 - ETA: 0s - loss: 0.1312 - recall_1: 0.95 - ETA: 0s - loss: 0.1303 - recall_1: 0.95 - ETA: 0s - loss: 0.1307 - recall_1: 0.95 - 37s 12ms/sample - loss: 0.1304 - recall_1: 0.9548 - val_loss: 1.0856 - val_recall_1: 0.7548\n",
      "1048/1048 [==============================] - ETA: 1s - loss: 1.2166 - recall_1: 0.75 - ETA: 1s - loss: 1.4971 - recall_1: 0.75 - ETA: 1s - loss: 1.1444 - recall_1: 0.72 - ETA: 1s - loss: 1.2119 - recall_1: 0.73 - ETA: 1s - loss: 1.1069 - recall_1: 0.73 - ETA: 1s - loss: 1.0054 - recall_1: 0.74 - ETA: 1s - loss: 0.9693 - recall_1: 0.73 - ETA: 1s - loss: 1.0876 - recall_1: 0.73 - ETA: 1s - loss: 1.0553 - recall_1: 0.72 - ETA: 1s - loss: 1.0774 - recall_1: 0.72 - ETA: 1s - loss: 1.0664 - recall_1: 0.72 - ETA: 1s - loss: 1.1470 - recall_1: 0.73 - ETA: 1s - loss: 1.1521 - recall_1: 0.73 - ETA: 1s - loss: 1.1529 - recall_1: 0.73 - ETA: 1s - loss: 1.1133 - recall_1: 0.73 - ETA: 0s - loss: 1.1705 - recall_1: 0.73 - ETA: 0s - loss: 1.2064 - recall_1: 0.74 - ETA: 0s - loss: 1.1692 - recall_1: 0.74 - ETA: 0s - loss: 1.1659 - recall_1: 0.75 - ETA: 0s - loss: 1.1773 - recall_1: 0.75 - ETA: 0s - loss: 1.1774 - recall_1: 0.75 - ETA: 0s - loss: 1.1426 - recall_1: 0.75 - ETA: 0s - loss: 1.1102 - recall_1: 0.75 - ETA: 0s - loss: 1.1132 - recall_1: 0.75 - ETA: 0s - loss: 1.1044 - recall_1: 0.75 - ETA: 0s - loss: 1.0933 - recall_1: 0.75 - ETA: 0s - loss: 1.0708 - recall_1: 0.76 - ETA: 0s - loss: 1.0767 - recall_1: 0.75 - ETA: 0s - loss: 1.0752 - recall_1: 0.76 - ETA: 0s - loss: 1.0961 - recall_1: 0.75 - ETA: 0s - loss: 1.0827 - recall_1: 0.75 - 2s 2ms/sample - loss: 1.0856 - recall_1: 0.7548\n",
      "Test accuracy: 0.754771\n"
     ]
    },
    {
     "data": {
      "image/png": "[encoded data removed]",
      "text/plain": [
       "<Figure size 432x360 with 1 Axes>"
      ]
     },
     "metadata": {
      "needs_background": "light"
     },
     "output_type": "display_data"
    }
   ],
   "source": [
    "model.compile(optimizer='adam', \n",
    "              loss='binary_crossentropy',\n",
    "              metrics=[tf.keras.metrics.Recall()])\n",
    "\n",
    "history = model.fit(X_train,\n",
    "          pd.get_dummies(y_train),\n",
    "          epochs=20,\n",
    "          validation_data=(X_test, pd.get_dummies(y_test))\n",
    "         )\n",
    "plot_loss(history)\n",
    "test_loss, test_acc = model.evaluate(X_test, pd.get_dummies(y_test))\n",
    "print('Test accuracy:', test_acc)"
   ]
  },
  {
   "cell_type": "markdown",
   "metadata": {},
   "source": [
    "### Recall"
   ]
  },
  {
   "cell_type": "code",
   "execution_count": 22,
   "metadata": {
    "ExecuteTime": {
     "end_time": "2019-08-22T02:35:29.336469Z",
     "start_time": "2019-08-22T02:35:29.319480Z"
    }
   },
   "outputs": [],
   "source": [
    "from sklearn.metrics import recall_score, accuracy_score, f1_score"
   ]
  },
  {
   "cell_type": "code",
   "execution_count": 23,
   "metadata": {
    "ExecuteTime": {
     "end_time": "2019-08-22T02:35:33.352175Z",
     "start_time": "2019-08-22T02:35:29.350462Z"
    },
    "scrolled": true
   },
   "outputs": [
    {
     "data": {
      "text/plain": [
       "(0.758220502901354, 0.7547709923664122, 0.7531219980787703)"
      ]
     },
     "execution_count": 23,
     "metadata": {},
     "output_type": "execute_result"
    }
   ],
   "source": [
    "recall_score(y_test, model.predict_classes(X_test)),\\\n",
    "accuracy_score(y_test, model.predict_classes(X_test)),\\\n",
    "f1_score(y_test, model.predict_classes(X_test))"
   ]
  },
  {
   "cell_type": "code",
   "execution_count": 24,
   "metadata": {
    "ExecuteTime": {
     "end_time": "2019-08-22T02:35:34.577472Z",
     "start_time": "2019-08-22T02:35:33.356170Z"
    }
   },
   "outputs": [
    {
     "name": "stdout",
     "output_type": "stream",
     "text": [
      "전체채팅수1048, 유해채팅수524\n"
     ]
    }
   ],
   "source": [
    "print('전체채팅수{}, 유해채팅수{}'.format(len(X_test),model.predict_classes(X_test).sum()))"
   ]
  },
  {
   "cell_type": "code",
   "execution_count": 25,
   "metadata": {
    "ExecuteTime": {
     "end_time": "2019-08-22T02:36:25.639266Z",
     "start_time": "2019-08-22T02:35:34.582467Z"
    }
   },
   "outputs": [
    {
     "name": "stdout",
     "output_type": "stream",
     "text": [
      "전체채팅수42000, 유해채팅수11799\n"
     ]
    }
   ],
   "source": [
    "print('전체채팅수{}, 유해채팅수{}'.format(len(x_padded),model.predict_classes(x_padded).sum()))"
   ]
  },
  {
   "cell_type": "code",
   "execution_count": 93,
   "metadata": {
    "ExecuteTime": {
     "end_time": "2019-08-21T05:13:20.380065Z",
     "start_time": "2019-08-21T05:13:15.558838Z"
    }
   },
   "outputs": [],
   "source": [
    "# model_up.save('../model/cnn_bpe.h5')"
   ]
  }
 ],
 "metadata": {
  "kernelspec": {
   "display_name": "Python 3",
   "language": "python",
   "name": "python3"
  },
  "language_info": {
   "codemirror_mode": {
    "name": "ipython",
    "version": 3
   },
   "file_extension": ".py",
   "mimetype": "text/x-python",
   "name": "python",
   "nbconvert_exporter": "python",
   "pygments_lexer": "ipython3",
   "version": "3.7.3"
  }
 },
 "nbformat": 4,
 "nbformat_minor": 2
}
