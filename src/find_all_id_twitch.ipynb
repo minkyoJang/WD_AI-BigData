{
 "cells": [
  {
   "cell_type": "code",
   "execution_count": 1,
   "metadata": {},
   "outputs": [],
   "source": [
    "import re\n",
    "from urllib import error\n",
    "from html import unescape\n",
    "import requests\n",
    "import json \n",
    "from bs4 import BeautifulSoup\n",
    "import time\n",
    "import sqlite3"
   ]
  },
  {
   "cell_type": "code",
   "execution_count": 12,
   "metadata": {},
   "outputs": [],
   "source": [
    "seen =[]"
   ]
  },
  {
   "cell_type": "code",
   "execution_count": 2,
   "metadata": {},
   "outputs": [],
   "source": [
    "def download(method,url,param=None,data=None, timeout=1, maxretries=3):\n",
    "    headers ={\"Accept-Language\": \"ko-KR\",\n",
    "              \"Client-Id\": \"kimne78kx3ncx6brgo4mv6wki5h1ko\",\n",
    "              \"Content-Type\": \"text/plain;charset=UTF-8\",\n",
    "              \"Origin\": \"https://www.twitch.tv\",\n",
    "              \"Referer\": \"https://www.twitch.tv/search?term=%ED%92%8D%EC%9B%94%EB%9F%89%2F459527458\",\n",
    "              \"User-Agent\": \"Mozilla/5.0 (Windows NT 10.0; Win64; x64) AppleWebKit/537.36 (KHTML, like Gecko) Chrome/75.0.3770.142 Safari/537.36\",\n",
    "              \"X-Device-Id\": \"1896bda3b7a429f1\"}\n",
    "                #  개발자 도구에서 qql의 request헤더부분 설정함\n",
    "    try:\n",
    "        resp=requests.request(method, url,params=param,data=data, headers=headers)\n",
    "        resp.raise_for_status()\n",
    "    except requests.exceptions.HTTPError as e:\n",
    "        if 500<=e.response.status_code<600 and maxretries>0:\n",
    "            print(maxretries)\n",
    "            \n",
    "            download(method,url,param,data,timeout,maxretries-1)\n",
    "        else:\n",
    "            print(e.response.status_code)\n",
    "            print(e.response.reason)\n",
    "    return resp"
   ]
  },
  {
   "cell_type": "code",
   "execution_count": 121,
   "metadata": {},
   "outputs": [],
   "source": [
    "# 개발자 도구에서 qql의 request payload설정부분\n",
    "def set_param_for_find_bj_id(name_bj):\n",
    "    return {\"operationName\":\"SearchResultsPage_SearchResults\",\"variables\":{\"query\":name_bj,\"options\":None},\"extensions\":{\"persistedQuery\":{\"version\":1,\"sha256Hash\":\"e5763309c0c0d14e7b59d5da0975794469cab4182e85b8f220820a43ff15905c\"}}}\n",
    "    "
   ]
  },
  {
   "cell_type": "code",
   "execution_count": 130,
   "metadata": {},
   "outputs": [],
   "source": [
    "def get_bj_id(name_bj):\n",
    "    data = set_param_for_find_bj_id(name_bj)\n",
    "    #post를 보내기위해 payload를 불러온다.\n",
    "    data = json.dumps(data)\n",
    "    #json형식이 object안에 object가 있는 형태라면 dumps를 써야한다. 이유는 모른다.\n",
    "    html = download(\"post\",\"https://gql.twitch.tv/gql\",data = data)\n",
    "    dom = html.json()\n",
    "    return dom['data']['searchFor']['channels']['items'][0]['login']"
   ]
  },
  {
   "cell_type": "code",
   "execution_count": 132,
   "metadata": {},
   "outputs": [],
   "source": [
    "# 개발자 도구에서 qql의 request payload설정부분\n",
    "def set_param_for_find_all_id(id_bj):\n",
    "    return {\"operationName\":\"FilterableVideoTower_Videos\",\"variables\":{\"limit\":30,\"channelOwnerLogin\":id_bj,\"broadcastType\":None,\"videoSort\":\"TIME\"},\"extensions\":{\"persistedQuery\":{\"version\":1,\"sha256Hash\":\"2023a089fca2860c46dcdeb37b2ab2b60899b52cca1bfa4e720b260216ec2dc6\"}}}\n",
    "    "
   ]
  },
  {
   "cell_type": "code",
   "execution_count": 138,
   "metadata": {},
   "outputs": [],
   "source": [
    "def get_id(data,lst=None):\n",
    "    if lst ==None:\n",
    "        lst=[]\n",
    "    #data = search_twi(id_bj)\n",
    "    data1 = json.dumps(data)\n",
    "    html = download(\"post\",\"https://gql.twitch.tv/gql\",data = data1)    \n",
    "    dom =html.json()\n",
    "    dom['data']['user']['videos']['edges'][len(dom['data']['user']['videos']['edges'])-1]\n",
    "    lst.extend([_['node']['id'] for _ in dom['data']['user']['videos']['edges']])\n",
    "    if dom['data']['user']['videos']['pageInfo']['hasNextPage'] == True:\n",
    "        data['variables']['cursor']=dom['data']['user']['videos']['edges'][len(dom['data']['user']['videos']['edges'])-1]['cursor']\n",
    "        get_id(data,lst)\n",
    "    return lst"
   ]
  },
  {
   "cell_type": "code",
   "execution_count": 139,
   "metadata": {},
   "outputs": [],
   "source": [
    "def get_all_id(bj_name):\n",
    "    bj_id = get_bj_id(bj_name)\n",
    "    data = set_param_for_find_all_id(bj_id)\n",
    "    return get_id(data)"
   ]
  },
  {
   "cell_type": "code",
   "execution_count": 141,
   "metadata": {},
   "outputs": [],
   "source": [
    "res = get_all_id('엠비션')"
   ]
  },
  {
   "cell_type": "code",
   "execution_count": 143,
   "metadata": {},
   "outputs": [
    {
     "data": {
      "text/plain": [
       "267"
      ]
     },
     "execution_count": 143,
     "metadata": {},
     "output_type": "execute_result"
    }
   ],
   "source": [
    "len(set(res))"
   ]
  }
 ],
 "metadata": {
  "kernelspec": {
   "display_name": "Python 3",
   "language": "python",
   "name": "python3"
  },
  "language_info": {
   "codemirror_mode": {
    "name": "ipython",
    "version": 3
   },
   "file_extension": ".py",
   "mimetype": "text/x-python",
   "name": "python",
   "nbconvert_exporter": "python",
   "pygments_lexer": "ipython3",
   "version": "3.7.3"
  }
 },
 "nbformat": 4,
 "nbformat_minor": 2
}
