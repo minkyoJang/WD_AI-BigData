{
 "cells": [
  {
   "cell_type": "code",
   "execution_count": 1,
   "metadata": {},
   "outputs": [],
   "source": [
    "import sqlite3\n",
    "import csv\n",
    "import random\n",
    "import pandas as pd"
   ]
  },
  {
   "cell_type": "code",
   "execution_count": 6,
   "metadata": {},
   "outputs": [],
   "source": [
    "def make_csv(f_name,n_url=50):\n",
    "    con = sqlite3.connect(\"FinalTwitchDb.db\")\n",
    "    cur = con.cursor()\n",
    "    cur.execute(\"SELECT content,url_id FROM chat WHERE id IN (SELECT id FROM chat ORDER BY random() LIMIT ?)\",[n_url])\n",
    "    result = cur.fetchall()\n",
    "    f = open('{}.csv'.format(f_name),'w',encoding='utf-16',newline='')\n",
    "    wr = csv.writer(f)\n",
    "    wr.writerow(['comment'+'\\t'+'url_id'+'\\t'+'label'])\n",
    "    for _ in result:\n",
    "        wr.writerow([_[0]+'\\t'+str(_[1])])\n",
    "    f.close()\n",
    "    "
   ]
  },
  {
   "cell_type": "code",
   "execution_count": 9,
   "metadata": {},
   "outputs": [],
   "source": [
    "def read_csv(f_name):\n",
    "    dataset = pd.read_csv('{}.csv'.format(f_name),sep='\\t',encoding='utf-16',engine='c')\n",
    "    return dataset"
   ]
  }
 ],
 "metadata": {
  "kernelspec": {
   "display_name": "Python 3",
   "language": "python",
   "name": "python3"
  },
  "language_info": {
   "codemirror_mode": {
    "name": "ipython",
    "version": 3
   },
   "file_extension": ".py",
   "mimetype": "text/x-python",
   "name": "python",
   "nbconvert_exporter": "python",
   "pygments_lexer": "ipython3",
   "version": "3.7.3"
  }
 },
 "nbformat": 4,
 "nbformat_minor": 2
}
